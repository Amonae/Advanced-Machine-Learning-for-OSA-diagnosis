{
 "cells": [
  {
   "cell_type": "markdown",
   "metadata": {},
   "source": [
    "## Imputing missing values and seeing how it affects RF classifier accuracy"
   ]
  },
  {
   "cell_type": "code",
   "execution_count": 1,
   "metadata": {},
   "outputs": [],
   "source": [
    "import pandas as pd\n",
    "import numpy as np\n",
    "\n",
    "from sklearn.impute import SimpleImputer\n",
    "from sklearn.experimental import enable_iterative_imputer\n",
    "from sklearn.impute import IterativeImputer\n",
    "from sklearn.impute import KNNImputer\n",
    "from sklearn.ensemble import RandomForestRegressor\n",
    "from sklearn.neighbors import KNeighborsRegressor\n",
    "\n",
    "from sklearn.model_selection import train_test_split\n",
    "from sklearn.ensemble import RandomForestClassifier\n",
    "from sklearn import metrics\n",
    "from sklearn.metrics import accuracy_score, confusion_matrix, classification_report\n",
    "\n",
    "import matplotlib.pyplot as plt\n",
    "import seaborn as sns\n"
   ]
  },
  {
   "cell_type": "code",
   "execution_count": 2,
   "metadata": {},
   "outputs": [
    {
     "data": {
      "text/plain": [
       "(80390, 51)"
      ]
     },
     "execution_count": 2,
     "metadata": {},
     "output_type": "execute_result"
    }
   ],
   "source": [
    "data = pd.read_csv(\"OSA_simple_nadrop.csv\", index_col=0) # This file was created from OFSP_English_Amonae_09May.pynb  \n",
    "data.shape"
   ]
  },
  {
   "cell_type": "code",
   "execution_count": 3,
   "metadata": {},
   "outputs": [
    {
     "data": {
      "text/plain": [
       "PatientID                           0.000000\n",
       "Sex                                 0.297301\n",
       "Age                                 0.000000\n",
       "Current_smoker                      0.206493\n",
       "Former_smoker                       0.201518\n",
       "Sedentary                           0.339594\n",
       "Height                              2.191815\n",
       "Weight                              1.872123\n",
       "Cervical_perimeter                 46.999627\n",
       "Abdominal_perimeter                46.326658\n",
       "Systolic_BP                        53.480532\n",
       "Diastolic_BP                       53.767882\n",
       "Maxillofacial_profile              15.643737\n",
       "BMI                                 2.619729\n",
       "High_BP                             0.482647\n",
       "Asthma                              0.388108\n",
       "Rhinitis                            0.327155\n",
       "COPD                                0.664262\n",
       "Respiratory_fail                    0.383132\n",
       "Myocardial_infarct                  0.237592\n",
       "Coronary_fail                       0.354522\n",
       "Arrhythmias                         0.430402\n",
       "Stroke                              0.258739\n",
       "Heart_fail                          0.313472\n",
       "Arteriopathy                        0.352034\n",
       "Gastric_reflux                      0.360741\n",
       "Glaucoma                            0.395572\n",
       "Diabetes                            0.000000\n",
       "Hypercholesterolemia                0.633163\n",
       "Hypertriglyceridemia                1.018783\n",
       "Hypo(er)thyroidism                  0.475183\n",
       "Depression                          0.405523\n",
       "Obesity                             1.375793\n",
       "Dysmorphology                       1.724095\n",
       "Restless_Leg_Syndrome               0.801095\n",
       "Snoring                             8.831944\n",
       "Diurnal_somnolence                  0.000000\n",
       "Driving_drowsiness                  0.000000\n",
       "Morning_fatigue                     0.000000\n",
       "Morning_headache                    0.000000\n",
       "Memory_problem                      0.000000\n",
       "Nocturnal_perspiration              0.000000\n",
       "Shortness_of_breath_on_exertion     0.000000\n",
       "Nocturia                            0.420450\n",
       "Drowsiness_accident                 0.000000\n",
       "Near_miss_accident                 15.941037\n",
       "Respiratory_arrest                  3.492972\n",
       "Epworth_scale                      11.813658\n",
       "Pichots_scale                      23.913422\n",
       "Depression_scale                   24.776714\n",
       "Severity                            0.000000\n",
       "dtype: float64"
      ]
     },
     "execution_count": 3,
     "metadata": {},
     "output_type": "execute_result"
    }
   ],
   "source": [
    "# percentage of each column that is missing data\n",
    "(data.isnull().sum()/len(data))*100"
   ]
  },
  {
   "cell_type": "code",
   "execution_count": 3,
   "metadata": {},
   "outputs": [],
   "source": [
    "features = ['Sex', 'Age', 'Current_smoker', 'Former_smoker',\n",
    "       'Sedentary', 'Height', 'Weight', 'Cervical_perimeter',\n",
    "       'Abdominal_perimeter', 'Systolic_BP', 'Diastolic_BP',\n",
    "       'Maxillofacial_profile', 'BMI', 'High_BP', 'Asthma', 'Rhinitis', 'COPD',\n",
    "       'Respiratory_fail', 'Myocardial_infarct', 'Coronary_fail',\n",
    "       'Arrhythmias', 'Stroke', 'Heart_fail', 'Arteriopathy', 'Gastric_reflux',\n",
    "       'Glaucoma', 'Diabetes', 'Hypercholesterolemia', 'Hypertriglyceridemia',\n",
    "       'Hypo(er)thyroidism', 'Depression', 'Obesity', 'Dysmorphology',\n",
    "       'Restless_Leg_Syndrome', 'Snoring', 'Diurnal_somnolence',\n",
    "       'Driving_drowsiness', 'Morning_fatigue', 'Morning_headache',\n",
    "       'Memory_problem', 'Nocturnal_perspiration',\n",
    "       'Shortness_of_breath_on_exertion', 'Nocturia', 'Drowsiness_accident',\n",
    "       'Near_miss_accident', 'Respiratory_arrest', 'Epworth_scale',\n",
    "       'Pichots_scale', 'Depression_scale']\n",
    "continuous = ['Age','Height','Weight','Cervical_perimeter','Abdominal_perimeter','Systolic_BP','Diastolic_BP', \n",
    "              'BMI','Epworth_scale','Pichots_scale','Depression_scale']\n",
    "categorical = [i for i in features if i not in continuous]"
   ]
  },
  {
   "cell_type": "markdown",
   "metadata": {},
   "source": [
    "## Simple imputer- sklearn"
   ]
  },
  {
   "cell_type": "markdown",
   "metadata": {},
   "source": [
    "### Mean continuous/ 0 categorical\n",
    "\n",
    "** Sex is on a scale of 1-2, replacing with 0 will not be possible for Sex"
   ]
  },
  {
   "cell_type": "code",
   "execution_count": 5,
   "metadata": {},
   "outputs": [],
   "source": [
    "mean0 = data.copy(deep= True)           # copy original df\n",
    "imp_cont = SimpleImputer(strategy='mean', missing_values=np.nan)  # define imputer for continuous variables\n",
    "imp_cont = imp_cont.fit(mean0[continuous])                    # fit imputer on columns\n",
    "mean0[continuous] = imp_cont.transform(mean0[continuous])     # transform columns\n",
    "\n",
    "imp_cat = SimpleImputer(strategy='constant', missing_values=np.nan, fill_value = 0)  # define imputer for categorical variables\n",
    "imp_cat = imp_cat.fit(mean0[categorical])                                  # fit imputer on columns\n",
    "mean0[categorical] = imp_cat.transform(mean0[categorical])                 # transform columns"
   ]
  },
  {
   "cell_type": "code",
   "execution_count": 6,
   "metadata": {},
   "outputs": [
    {
     "data": {
      "text/plain": [
       "0"
      ]
     },
     "execution_count": 6,
     "metadata": {},
     "output_type": "execute_result"
    }
   ],
   "source": [
    "# checking to ensure simple imputer worked\n",
    "mean0.isnull().sum().sum()"
   ]
  },
  {
   "cell_type": "code",
   "execution_count": 7,
   "metadata": {},
   "outputs": [
    {
     "data": {
      "text/html": [
       "<div>\n",
       "<style scoped>\n",
       "    .dataframe tbody tr th:only-of-type {\n",
       "        vertical-align: middle;\n",
       "    }\n",
       "\n",
       "    .dataframe tbody tr th {\n",
       "        vertical-align: top;\n",
       "    }\n",
       "\n",
       "    .dataframe thead th {\n",
       "        text-align: right;\n",
       "    }\n",
       "</style>\n",
       "<table border=\"1\" class=\"dataframe\">\n",
       "  <thead>\n",
       "    <tr style=\"text-align: right;\">\n",
       "      <th></th>\n",
       "      <th>PatientID</th>\n",
       "      <th>Sex</th>\n",
       "      <th>Age</th>\n",
       "      <th>Current_smoker</th>\n",
       "      <th>Former_smoker</th>\n",
       "      <th>Sedentary</th>\n",
       "      <th>Height</th>\n",
       "      <th>Weight</th>\n",
       "      <th>Cervical_perimeter</th>\n",
       "      <th>Abdominal_perimeter</th>\n",
       "      <th>...</th>\n",
       "      <th>Nocturnal_perspiration</th>\n",
       "      <th>Shortness_of_breath_on_exertion</th>\n",
       "      <th>Nocturia</th>\n",
       "      <th>Drowsiness_accident</th>\n",
       "      <th>Near_miss_accident</th>\n",
       "      <th>Respiratory_arrest</th>\n",
       "      <th>Epworth_scale</th>\n",
       "      <th>Pichots_scale</th>\n",
       "      <th>Depression_scale</th>\n",
       "      <th>Severity</th>\n",
       "    </tr>\n",
       "  </thead>\n",
       "  <tbody>\n",
       "    <tr>\n",
       "      <th>0</th>\n",
       "      <td>1</td>\n",
       "      <td>2.0</td>\n",
       "      <td>35.167693</td>\n",
       "      <td>0.0</td>\n",
       "      <td>1.0</td>\n",
       "      <td>0.0</td>\n",
       "      <td>166.0</td>\n",
       "      <td>100.0</td>\n",
       "      <td>35.0</td>\n",
       "      <td>114.0</td>\n",
       "      <td>...</td>\n",
       "      <td>1.0</td>\n",
       "      <td>1.0</td>\n",
       "      <td>1.0</td>\n",
       "      <td>0.0</td>\n",
       "      <td>0.0</td>\n",
       "      <td>1.0</td>\n",
       "      <td>6.0</td>\n",
       "      <td>24.0</td>\n",
       "      <td>10.0</td>\n",
       "      <td>1</td>\n",
       "    </tr>\n",
       "    <tr>\n",
       "      <th>6</th>\n",
       "      <td>3</td>\n",
       "      <td>1.0</td>\n",
       "      <td>35.014374</td>\n",
       "      <td>0.0</td>\n",
       "      <td>0.0</td>\n",
       "      <td>0.0</td>\n",
       "      <td>178.0</td>\n",
       "      <td>96.0</td>\n",
       "      <td>44.0</td>\n",
       "      <td>109.0</td>\n",
       "      <td>...</td>\n",
       "      <td>1.0</td>\n",
       "      <td>0.0</td>\n",
       "      <td>1.0</td>\n",
       "      <td>0.0</td>\n",
       "      <td>0.0</td>\n",
       "      <td>0.0</td>\n",
       "      <td>9.0</td>\n",
       "      <td>2.0</td>\n",
       "      <td>1.0</td>\n",
       "      <td>3</td>\n",
       "    </tr>\n",
       "    <tr>\n",
       "      <th>7</th>\n",
       "      <td>4</td>\n",
       "      <td>1.0</td>\n",
       "      <td>48.802190</td>\n",
       "      <td>0.0</td>\n",
       "      <td>1.0</td>\n",
       "      <td>1.0</td>\n",
       "      <td>182.0</td>\n",
       "      <td>81.0</td>\n",
       "      <td>38.0</td>\n",
       "      <td>96.0</td>\n",
       "      <td>...</td>\n",
       "      <td>0.0</td>\n",
       "      <td>0.0</td>\n",
       "      <td>1.0</td>\n",
       "      <td>0.0</td>\n",
       "      <td>0.0</td>\n",
       "      <td>1.0</td>\n",
       "      <td>10.0</td>\n",
       "      <td>10.0</td>\n",
       "      <td>5.0</td>\n",
       "      <td>2</td>\n",
       "    </tr>\n",
       "    <tr>\n",
       "      <th>20</th>\n",
       "      <td>14</td>\n",
       "      <td>2.0</td>\n",
       "      <td>56.410678</td>\n",
       "      <td>0.0</td>\n",
       "      <td>0.0</td>\n",
       "      <td>0.0</td>\n",
       "      <td>165.0</td>\n",
       "      <td>88.0</td>\n",
       "      <td>38.0</td>\n",
       "      <td>110.0</td>\n",
       "      <td>...</td>\n",
       "      <td>1.0</td>\n",
       "      <td>0.0</td>\n",
       "      <td>1.0</td>\n",
       "      <td>0.0</td>\n",
       "      <td>0.0</td>\n",
       "      <td>0.0</td>\n",
       "      <td>4.0</td>\n",
       "      <td>15.0</td>\n",
       "      <td>6.0</td>\n",
       "      <td>3</td>\n",
       "    </tr>\n",
       "    <tr>\n",
       "      <th>21</th>\n",
       "      <td>15</td>\n",
       "      <td>1.0</td>\n",
       "      <td>71.600274</td>\n",
       "      <td>0.0</td>\n",
       "      <td>0.0</td>\n",
       "      <td>0.0</td>\n",
       "      <td>175.0</td>\n",
       "      <td>77.0</td>\n",
       "      <td>40.0</td>\n",
       "      <td>101.0</td>\n",
       "      <td>...</td>\n",
       "      <td>0.0</td>\n",
       "      <td>0.0</td>\n",
       "      <td>0.0</td>\n",
       "      <td>0.0</td>\n",
       "      <td>0.0</td>\n",
       "      <td>0.0</td>\n",
       "      <td>9.0</td>\n",
       "      <td>3.0</td>\n",
       "      <td>2.0</td>\n",
       "      <td>2</td>\n",
       "    </tr>\n",
       "  </tbody>\n",
       "</table>\n",
       "<p>5 rows × 51 columns</p>\n",
       "</div>"
      ],
      "text/plain": [
       "    PatientID  Sex        Age  Current_smoker  Former_smoker  Sedentary  \\\n",
       "0           1  2.0  35.167693             0.0            1.0        0.0   \n",
       "6           3  1.0  35.014374             0.0            0.0        0.0   \n",
       "7           4  1.0  48.802190             0.0            1.0        1.0   \n",
       "20         14  2.0  56.410678             0.0            0.0        0.0   \n",
       "21         15  1.0  71.600274             0.0            0.0        0.0   \n",
       "\n",
       "    Height  Weight  Cervical_perimeter  Abdominal_perimeter  ...  \\\n",
       "0    166.0   100.0                35.0                114.0  ...   \n",
       "6    178.0    96.0                44.0                109.0  ...   \n",
       "7    182.0    81.0                38.0                 96.0  ...   \n",
       "20   165.0    88.0                38.0                110.0  ...   \n",
       "21   175.0    77.0                40.0                101.0  ...   \n",
       "\n",
       "    Nocturnal_perspiration  Shortness_of_breath_on_exertion  Nocturia  \\\n",
       "0                      1.0                              1.0       1.0   \n",
       "6                      1.0                              0.0       1.0   \n",
       "7                      0.0                              0.0       1.0   \n",
       "20                     1.0                              0.0       1.0   \n",
       "21                     0.0                              0.0       0.0   \n",
       "\n",
       "    Drowsiness_accident  Near_miss_accident  Respiratory_arrest  \\\n",
       "0                   0.0                 0.0                 1.0   \n",
       "6                   0.0                 0.0                 0.0   \n",
       "7                   0.0                 0.0                 1.0   \n",
       "20                  0.0                 0.0                 0.0   \n",
       "21                  0.0                 0.0                 0.0   \n",
       "\n",
       "    Epworth_scale  Pichots_scale  Depression_scale  Severity  \n",
       "0             6.0           24.0              10.0         1  \n",
       "6             9.0            2.0               1.0         3  \n",
       "7            10.0           10.0               5.0         2  \n",
       "20            4.0           15.0               6.0         3  \n",
       "21            9.0            3.0               2.0         2  \n",
       "\n",
       "[5 rows x 51 columns]"
      ]
     },
     "execution_count": 7,
     "metadata": {},
     "output_type": "execute_result"
    }
   ],
   "source": [
    "mean0.head()"
   ]
  },
  {
   "cell_type": "markdown",
   "metadata": {},
   "source": [
    "### Running random forest on mean0 dataframe"
   ]
  },
  {
   "cell_type": "code",
   "execution_count": 8,
   "metadata": {},
   "outputs": [],
   "source": [
    "X=mean0[features]  # Features  \n",
    "y=mean0['Severity']  # Labels\n",
    "X_train, X_test, y_train, y_test = train_test_split(X, y, stratify=y, test_size=0.2, random_state=0)"
   ]
  },
  {
   "cell_type": "code",
   "execution_count": 9,
   "metadata": {},
   "outputs": [
    {
     "name": "stdout",
     "output_type": "stream",
     "text": [
      "Accuracy: 0.4707675083965667\n"
     ]
    }
   ],
   "source": [
    "clf=RandomForestClassifier(n_estimators=100, class_weight='balanced', random_state = 42)  #defining classifier method\n",
    "\n",
    "clf.fit(X_train,y_train)                   # training classifier\n",
    "\n",
    "y_pred=clf.predict(X_test)                  # testing classifier \n",
    "\n",
    "print(\"Accuracy:\",metrics.accuracy_score(y_test, y_pred))"
   ]
  },
  {
   "cell_type": "code",
   "execution_count": 10,
   "metadata": {},
   "outputs": [
    {
     "name": "stdout",
     "output_type": "stream",
     "text": [
      "              precision    recall  f1-score   support\n",
      "\n",
      "           0       0.43      0.29      0.35      2284\n",
      "           1       0.34      0.25      0.28      3524\n",
      "           2       0.27      0.09      0.14      3560\n",
      "           3       0.53      0.85      0.65      6710\n",
      "\n",
      "    accuracy                           0.47     16078\n",
      "   macro avg       0.39      0.37      0.36     16078\n",
      "weighted avg       0.42      0.47      0.41     16078\n",
      "\n"
     ]
    }
   ],
   "source": [
    "print(classification_report(y_test, y_pred))"
   ]
  },
  {
   "cell_type": "markdown",
   "metadata": {},
   "source": [
    "### Mean continuous/ most frequent categorical"
   ]
  },
  {
   "cell_type": "code",
   "execution_count": 11,
   "metadata": {},
   "outputs": [],
   "source": [
    "meanf = data.copy(deep= True)            # copy original df\n",
    "imp_cont = SimpleImputer(strategy='mean', missing_values=np.nan)  # define imputer for continuous variables\n",
    "imp_cont = imp_cont.fit(meanf[continuous])                    # fit imputer on columns\n",
    "meanf[continuous] = imp_cont.transform(meanf[continuous])     # transform columns\n",
    "\n",
    "imp_cat = SimpleImputer(strategy='most_frequent', missing_values=np.nan)  # define imputer for categorical variables\n",
    "imp_cat = imp_cat.fit(meanf[categorical])                                  # fit imputer on columns\n",
    "meanf[categorical] = imp_cat.transform(meanf[categorical])                 # transform columns"
   ]
  },
  {
   "cell_type": "code",
   "execution_count": 12,
   "metadata": {},
   "outputs": [
    {
     "data": {
      "text/plain": [
       "0"
      ]
     },
     "execution_count": 12,
     "metadata": {},
     "output_type": "execute_result"
    }
   ],
   "source": [
    "meanf['Systolic_BP'].isnull().sum()"
   ]
  },
  {
   "cell_type": "markdown",
   "metadata": {},
   "source": [
    "### RF on meanf df"
   ]
  },
  {
   "cell_type": "code",
   "execution_count": 13,
   "metadata": {},
   "outputs": [
    {
     "name": "stdout",
     "output_type": "stream",
     "text": [
      "Accuracy: 0.46964796616494586\n"
     ]
    }
   ],
   "source": [
    "X=meanf[features]  # Features  \n",
    "y=meanf['Severity']  # Labels\n",
    "X_train, X_test, y_train, y_test = train_test_split(X, y, stratify=y, test_size=0.2, random_state=0)\n",
    "\n",
    "clf=RandomForestClassifier(n_estimators=100, class_weight='balanced', random_state = 42)  #defining classifier method\n",
    "\n",
    "clf.fit(X_train,y_train)                   # training classifier\n",
    "\n",
    "y_pred=clf.predict(X_test)                  # testing classifier \n",
    "\n",
    "print(\"Accuracy:\",metrics.accuracy_score(y_test, y_pred))"
   ]
  },
  {
   "cell_type": "code",
   "execution_count": 14,
   "metadata": {},
   "outputs": [
    {
     "name": "stdout",
     "output_type": "stream",
     "text": [
      "              precision    recall  f1-score   support\n",
      "\n",
      "           0       0.42      0.28      0.33      2284\n",
      "           1       0.33      0.24      0.28      3524\n",
      "           2       0.29      0.10      0.15      3560\n",
      "           3       0.53      0.85      0.65      6710\n",
      "\n",
      "    accuracy                           0.47     16078\n",
      "   macro avg       0.39      0.37      0.35     16078\n",
      "weighted avg       0.42      0.47      0.41     16078\n",
      "\n"
     ]
    }
   ],
   "source": [
    "print(classification_report(y_test, y_pred))"
   ]
  },
  {
   "cell_type": "markdown",
   "metadata": {},
   "source": [
    "### Median continuous/ 0 categorical"
   ]
  },
  {
   "cell_type": "code",
   "execution_count": 4,
   "metadata": {},
   "outputs": [],
   "source": [
    "median0 = data.copy(deep= True)            # copy original df\n",
    "imp_cont = SimpleImputer(strategy='median', missing_values=np.nan)  # define imputer for continuous variables\n",
    "imp_cont = imp_cont.fit(median0[continuous])                    # fit imputer on columns\n",
    "median0[continuous] = imp_cont.transform(median0[continuous])     # transform columns\n",
    "\n",
    "imp_cat = SimpleImputer(strategy='constant', missing_values=np.nan, fill_value = 0)  # define imputer for categorical variables\n",
    "imp_cat = imp_cat.fit(median0[categorical])                                  # fit imputer on columns\n",
    "median0[categorical] = imp_cat.transform(median0[categorical])                 # transform columns"
   ]
  },
  {
   "cell_type": "code",
   "execution_count": 5,
   "metadata": {},
   "outputs": [
    {
     "name": "stdout",
     "output_type": "stream",
     "text": [
      "Accuracy: 0.47375295434755565\n"
     ]
    }
   ],
   "source": [
    "X=median0[features]  # Features  \n",
    "y=median0['Severity']  # Labels\n",
    "X_train, X_test, y_train, y_test = train_test_split(X, y, stratify=y, test_size=0.2, random_state=0)\n",
    "\n",
    "clf=RandomForestClassifier(n_estimators=100, class_weight='balanced', random_state = 42)  #defining classifier method\n",
    "\n",
    "clf.fit(X_train,y_train)                   # training classifier\n",
    "\n",
    "y_pred=clf.predict(X_test)                  # testing classifier \n",
    "\n",
    "print(\"Accuracy:\",metrics.accuracy_score(y_test, y_pred))"
   ]
  },
  {
   "cell_type": "code",
   "execution_count": 6,
   "metadata": {},
   "outputs": [
    {
     "name": "stdout",
     "output_type": "stream",
     "text": [
      "              precision    recall  f1-score   support\n",
      "\n",
      "           0       0.42      0.29      0.34      2284\n",
      "           1       0.35      0.25      0.29      3524\n",
      "           2       0.28      0.09      0.14      3560\n",
      "           3       0.53      0.85      0.66      6710\n",
      "\n",
      "    accuracy                           0.47     16078\n",
      "   macro avg       0.40      0.37      0.36     16078\n",
      "weighted avg       0.42      0.47      0.42     16078\n",
      "\n"
     ]
    }
   ],
   "source": [
    "print(classification_report(y_test, y_pred))"
   ]
  },
  {
   "cell_type": "markdown",
   "metadata": {},
   "source": [
    "### Median continuous/ most frequent categorical"
   ]
  },
  {
   "cell_type": "code",
   "execution_count": 15,
   "metadata": {},
   "outputs": [],
   "source": [
    "medianf = data.copy(deep= True)            # copy original df\n",
    "imp_cont = SimpleImputer(strategy='median', missing_values=np.nan)  # define imputer for continuous variables\n",
    "imp_cont = imp_cont.fit(medianf[continuous])                    # fit imputer on columns\n",
    "medianf[continuous] = imp_cont.transform(medianf[continuous])     # transform columns\n",
    "\n",
    "imp_cat = SimpleImputer(strategy='most_frequent', missing_values=np.nan)  # define imputer for categorical variables\n",
    "imp_cat = imp_cat.fit(medianf[categorical])                                  # fit imputer on columns\n",
    "medianf[categorical] = imp_cat.transform(medianf[categorical])                 # transform columns"
   ]
  },
  {
   "cell_type": "code",
   "execution_count": 16,
   "metadata": {},
   "outputs": [
    {
     "name": "stdout",
     "output_type": "stream",
     "text": [
      "Accuracy: 0.4705809180246299\n"
     ]
    }
   ],
   "source": [
    "X=medianf[features]  # Features  \n",
    "y=medianf['Severity']  # Labels\n",
    "X_train, X_test, y_train, y_test = train_test_split(X, y, stratify=y, test_size=0.2, random_state=0)\n",
    "\n",
    "clf=RandomForestClassifier(n_estimators=100, class_weight='balanced', random_state = 42)  #defining classifier method\n",
    "\n",
    "clf.fit(X_train,y_train)                   # training classifier\n",
    "\n",
    "y_pred=clf.predict(X_test)                  # testing classifier \n",
    "\n",
    "print(\"Accuracy:\",metrics.accuracy_score(y_test, y_pred))"
   ]
  },
  {
   "cell_type": "code",
   "execution_count": 9,
   "metadata": {},
   "outputs": [
    {
     "name": "stdout",
     "output_type": "stream",
     "text": [
      "              precision    recall  f1-score   support\n",
      "\n",
      "           0       0.42      0.28      0.34      2284\n",
      "           1       0.33      0.24      0.28      3524\n",
      "           2       0.29      0.09      0.14      3560\n",
      "           3       0.53      0.85      0.65      6710\n",
      "\n",
      "    accuracy                           0.47     16078\n",
      "   macro avg       0.39      0.37      0.35     16078\n",
      "weighted avg       0.42      0.47      0.41     16078\n",
      "\n"
     ]
    }
   ],
   "source": [
    "print(classification_report(y_test, y_pred))"
   ]
  },
  {
   "cell_type": "code",
   "execution_count": 18,
   "metadata": {},
   "outputs": [
    {
     "data": {
      "text/plain": [
       "Age                                0.114936\n",
       "BMI                                0.093298\n",
       "Weight                             0.078053\n",
       "Height                             0.070469\n",
       "Epworth_scale                      0.064271\n",
       "Pichots_scale                      0.059850\n",
       "Depression_scale                   0.048016\n",
       "Abdominal_perimeter                0.047620\n",
       "Cervical_perimeter                 0.039822\n",
       "Systolic_BP                        0.032283\n",
       "Diastolic_BP                       0.029290\n",
       "Shortness_of_breath_on_exertion    0.015642\n",
       "Morning_headache                   0.014780\n",
       "Morning_fatigue                    0.014617\n",
       "Respiratory_arrest                 0.014344\n",
       "Nocturnal_perspiration             0.013764\n",
       "Former_smoker                      0.013321\n",
       "Nocturia                           0.013053\n",
       "Driving_drowsiness                 0.012907\n",
       "High_BP                            0.012701\n",
       "Current_smoker                     0.012199\n",
       "Sex                                0.012162\n",
       "Diurnal_somnolence                 0.012075\n",
       "Gastric_reflux                     0.011091\n",
       "Hypercholesterolemia               0.010990\n",
       "Depression                         0.010443\n",
       "Asthma                             0.010110\n",
       "Restless_Leg_Syndrome              0.009880\n",
       "Obesity                            0.009840\n",
       "Sedentary                          0.009141\n",
       "Memory_problem                     0.008861\n",
       "Rhinitis                           0.008377\n",
       "Diabetes                           0.008153\n",
       "Arrhythmias                        0.006799\n",
       "Hypo(er)thyroidism                 0.006681\n",
       "Near_miss_accident                 0.006165\n",
       "COPD                               0.005727\n",
       "Snoring                            0.005439\n",
       "Maxillofacial_profile              0.004906\n",
       "Hypertriglyceridemia               0.004316\n",
       "Coronary_fail                      0.003970\n",
       "Stroke                             0.003754\n",
       "Myocardial_infarct                 0.003209\n",
       "Glaucoma                           0.003182\n",
       "Drowsiness_accident                0.003091\n",
       "Heart_fail                         0.002330\n",
       "Respiratory_fail                   0.001848\n",
       "Arteriopathy                       0.001620\n",
       "Dysmorphology                      0.000604\n",
       "dtype: float64"
      ]
     },
     "execution_count": 18,
     "metadata": {},
     "output_type": "execute_result"
    }
   ],
   "source": [
    "# most important features for the medianf df using RF\n",
    "pd.Series(clf.feature_importances_,index=features).sort_values(ascending=False) "
   ]
  },
  {
   "cell_type": "markdown",
   "metadata": {},
   "source": [
    "## Multivariate feature imputation"
   ]
  },
  {
   "cell_type": "markdown",
   "metadata": {},
   "source": [
    "#### A note: \n",
    "    from- https://scikit-learn.org/stable/modules/impute.html\n",
    "    A more sophisticated approach is to use the IterativeImputer class, which models each feature with missing values as \n",
    "    a function of other features, and uses that estimate for imputation. It does so in an iterated round-robin fashion: \n",
    "        at each step, a feature column is designated as output y and the other feature columns are treated as inputs X. \n",
    "        A regressor is fit on (X, y) for known y. Then, the regressor is used to predict the missing values of y. \n",
    "        This is done for each feature in an iterative fashion, and then is repeated for max_iter imputation rounds. \n",
    "        The results of the final imputation round are returned."
   ]
  },
  {
   "cell_type": "markdown",
   "metadata": {},
   "source": [
    "### Bayesian regression * This is inappropriate. It treats all variables as numeric"
   ]
  },
  {
   "cell_type": "code",
   "execution_count": 19,
   "metadata": {},
   "outputs": [],
   "source": [
    "mult = data.copy(deep= True)      # copy original df\n",
    "imp_mult = IterativeImputer(max_iter=10, random_state=0)    # define iterative imputer. Default regression is Bayesian\n",
    "imp_mult = imp_mult.fit(mult)                               # fit imputer\n",
    "mult = imp_mult.transform(mult)                             # apply to data\n",
    "\n"
   ]
  },
  {
   "cell_type": "code",
   "execution_count": 20,
   "metadata": {},
   "outputs": [],
   "source": [
    "mult_df = pd.DataFrame(mult, columns=data.columns) # changing from array back into a df\n",
    "mult_df.to_csv(\"mult_df.csv\")"
   ]
  },
  {
   "cell_type": "code",
   "execution_count": 21,
   "metadata": {},
   "outputs": [
    {
     "data": {
      "text/html": [
       "<div>\n",
       "<style scoped>\n",
       "    .dataframe tbody tr th:only-of-type {\n",
       "        vertical-align: middle;\n",
       "    }\n",
       "\n",
       "    .dataframe tbody tr th {\n",
       "        vertical-align: top;\n",
       "    }\n",
       "\n",
       "    .dataframe thead th {\n",
       "        text-align: right;\n",
       "    }\n",
       "</style>\n",
       "<table border=\"1\" class=\"dataframe\">\n",
       "  <thead>\n",
       "    <tr style=\"text-align: right;\">\n",
       "      <th></th>\n",
       "      <th>PatientID</th>\n",
       "      <th>Sex</th>\n",
       "      <th>Age</th>\n",
       "      <th>Current_smoker</th>\n",
       "      <th>Former_smoker</th>\n",
       "      <th>Sedentary</th>\n",
       "      <th>Height</th>\n",
       "      <th>Weight</th>\n",
       "      <th>Cervical_perimeter</th>\n",
       "      <th>Abdominal_perimeter</th>\n",
       "      <th>...</th>\n",
       "      <th>Nocturnal_perspiration</th>\n",
       "      <th>Shortness_of_breath_on_exertion</th>\n",
       "      <th>Nocturia</th>\n",
       "      <th>Drowsiness_accident</th>\n",
       "      <th>Near_miss_accident</th>\n",
       "      <th>Respiratory_arrest</th>\n",
       "      <th>Epworth_scale</th>\n",
       "      <th>Pichots_scale</th>\n",
       "      <th>Depression_scale</th>\n",
       "      <th>Severity</th>\n",
       "    </tr>\n",
       "  </thead>\n",
       "  <tbody>\n",
       "    <tr>\n",
       "      <th>0</th>\n",
       "      <td>1.0</td>\n",
       "      <td>2.0</td>\n",
       "      <td>35.167693</td>\n",
       "      <td>0.0</td>\n",
       "      <td>1.0</td>\n",
       "      <td>0.0</td>\n",
       "      <td>166.0</td>\n",
       "      <td>100.0</td>\n",
       "      <td>35.0</td>\n",
       "      <td>114.0</td>\n",
       "      <td>...</td>\n",
       "      <td>1.0</td>\n",
       "      <td>1.0</td>\n",
       "      <td>1.0</td>\n",
       "      <td>0.0</td>\n",
       "      <td>0.0</td>\n",
       "      <td>1.0</td>\n",
       "      <td>6.0</td>\n",
       "      <td>24.0</td>\n",
       "      <td>10.0</td>\n",
       "      <td>1.0</td>\n",
       "    </tr>\n",
       "    <tr>\n",
       "      <th>1</th>\n",
       "      <td>3.0</td>\n",
       "      <td>1.0</td>\n",
       "      <td>35.014374</td>\n",
       "      <td>0.0</td>\n",
       "      <td>0.0</td>\n",
       "      <td>0.0</td>\n",
       "      <td>178.0</td>\n",
       "      <td>96.0</td>\n",
       "      <td>44.0</td>\n",
       "      <td>109.0</td>\n",
       "      <td>...</td>\n",
       "      <td>1.0</td>\n",
       "      <td>0.0</td>\n",
       "      <td>1.0</td>\n",
       "      <td>0.0</td>\n",
       "      <td>0.0</td>\n",
       "      <td>0.0</td>\n",
       "      <td>9.0</td>\n",
       "      <td>2.0</td>\n",
       "      <td>1.0</td>\n",
       "      <td>3.0</td>\n",
       "    </tr>\n",
       "    <tr>\n",
       "      <th>2</th>\n",
       "      <td>4.0</td>\n",
       "      <td>1.0</td>\n",
       "      <td>48.802190</td>\n",
       "      <td>0.0</td>\n",
       "      <td>1.0</td>\n",
       "      <td>1.0</td>\n",
       "      <td>182.0</td>\n",
       "      <td>81.0</td>\n",
       "      <td>38.0</td>\n",
       "      <td>96.0</td>\n",
       "      <td>...</td>\n",
       "      <td>0.0</td>\n",
       "      <td>0.0</td>\n",
       "      <td>1.0</td>\n",
       "      <td>0.0</td>\n",
       "      <td>0.0</td>\n",
       "      <td>1.0</td>\n",
       "      <td>10.0</td>\n",
       "      <td>10.0</td>\n",
       "      <td>5.0</td>\n",
       "      <td>2.0</td>\n",
       "    </tr>\n",
       "    <tr>\n",
       "      <th>3</th>\n",
       "      <td>14.0</td>\n",
       "      <td>2.0</td>\n",
       "      <td>56.410678</td>\n",
       "      <td>0.0</td>\n",
       "      <td>0.0</td>\n",
       "      <td>0.0</td>\n",
       "      <td>165.0</td>\n",
       "      <td>88.0</td>\n",
       "      <td>38.0</td>\n",
       "      <td>110.0</td>\n",
       "      <td>...</td>\n",
       "      <td>1.0</td>\n",
       "      <td>0.0</td>\n",
       "      <td>1.0</td>\n",
       "      <td>0.0</td>\n",
       "      <td>0.0</td>\n",
       "      <td>0.0</td>\n",
       "      <td>4.0</td>\n",
       "      <td>15.0</td>\n",
       "      <td>6.0</td>\n",
       "      <td>3.0</td>\n",
       "    </tr>\n",
       "    <tr>\n",
       "      <th>4</th>\n",
       "      <td>15.0</td>\n",
       "      <td>1.0</td>\n",
       "      <td>71.600274</td>\n",
       "      <td>0.0</td>\n",
       "      <td>0.0</td>\n",
       "      <td>0.0</td>\n",
       "      <td>175.0</td>\n",
       "      <td>77.0</td>\n",
       "      <td>40.0</td>\n",
       "      <td>101.0</td>\n",
       "      <td>...</td>\n",
       "      <td>0.0</td>\n",
       "      <td>0.0</td>\n",
       "      <td>0.0</td>\n",
       "      <td>0.0</td>\n",
       "      <td>0.0</td>\n",
       "      <td>0.0</td>\n",
       "      <td>9.0</td>\n",
       "      <td>3.0</td>\n",
       "      <td>2.0</td>\n",
       "      <td>2.0</td>\n",
       "    </tr>\n",
       "  </tbody>\n",
       "</table>\n",
       "<p>5 rows × 51 columns</p>\n",
       "</div>"
      ],
      "text/plain": [
       "   PatientID  Sex        Age  Current_smoker  Former_smoker  Sedentary  \\\n",
       "0        1.0  2.0  35.167693             0.0            1.0        0.0   \n",
       "1        3.0  1.0  35.014374             0.0            0.0        0.0   \n",
       "2        4.0  1.0  48.802190             0.0            1.0        1.0   \n",
       "3       14.0  2.0  56.410678             0.0            0.0        0.0   \n",
       "4       15.0  1.0  71.600274             0.0            0.0        0.0   \n",
       "\n",
       "   Height  Weight  Cervical_perimeter  Abdominal_perimeter  ...  \\\n",
       "0   166.0   100.0                35.0                114.0  ...   \n",
       "1   178.0    96.0                44.0                109.0  ...   \n",
       "2   182.0    81.0                38.0                 96.0  ...   \n",
       "3   165.0    88.0                38.0                110.0  ...   \n",
       "4   175.0    77.0                40.0                101.0  ...   \n",
       "\n",
       "   Nocturnal_perspiration  Shortness_of_breath_on_exertion  Nocturia  \\\n",
       "0                     1.0                              1.0       1.0   \n",
       "1                     1.0                              0.0       1.0   \n",
       "2                     0.0                              0.0       1.0   \n",
       "3                     1.0                              0.0       1.0   \n",
       "4                     0.0                              0.0       0.0   \n",
       "\n",
       "   Drowsiness_accident  Near_miss_accident  Respiratory_arrest  Epworth_scale  \\\n",
       "0                  0.0                 0.0                 1.0            6.0   \n",
       "1                  0.0                 0.0                 0.0            9.0   \n",
       "2                  0.0                 0.0                 1.0           10.0   \n",
       "3                  0.0                 0.0                 0.0            4.0   \n",
       "4                  0.0                 0.0                 0.0            9.0   \n",
       "\n",
       "   Pichots_scale  Depression_scale  Severity  \n",
       "0           24.0              10.0       1.0  \n",
       "1            2.0               1.0       3.0  \n",
       "2           10.0               5.0       2.0  \n",
       "3           15.0               6.0       3.0  \n",
       "4            3.0               2.0       2.0  \n",
       "\n",
       "[5 rows x 51 columns]"
      ]
     },
     "execution_count": 21,
     "metadata": {},
     "output_type": "execute_result"
    }
   ],
   "source": [
    "mult_df.head()"
   ]
  },
  {
   "cell_type": "code",
   "execution_count": 22,
   "metadata": {},
   "outputs": [
    {
     "data": {
      "text/plain": [
       "0"
      ]
     },
     "execution_count": 22,
     "metadata": {},
     "output_type": "execute_result"
    }
   ],
   "source": [
    "mult_df.isnull().sum().sum() # how many missing values in df"
   ]
  },
  {
   "cell_type": "code",
   "execution_count": 23,
   "metadata": {},
   "outputs": [
    {
     "name": "stdout",
     "output_type": "stream",
     "text": [
      "Accuracy: 0.5279885557905212\n"
     ]
    }
   ],
   "source": [
    "X=mult_df[features]  # Features  \n",
    "y=mult_df['Severity']  # Labels\n",
    "X_train, X_test, y_train, y_test = train_test_split(X, y, stratify=y, test_size=0.2, random_state=0)\n",
    "\n",
    "clf=RandomForestClassifier(n_estimators=100, class_weight='balanced', random_state = 42)  #defining classifier method\n",
    "\n",
    "clf.fit(X_train,y_train)                   # training classifier\n",
    "\n",
    "y_pred=clf.predict(X_test)                  # testing classifier \n",
    "\n",
    "print(\"Accuracy:\",metrics.accuracy_score(y_test, y_pred))"
   ]
  },
  {
   "cell_type": "code",
   "execution_count": 24,
   "metadata": {},
   "outputs": [
    {
     "name": "stdout",
     "output_type": "stream",
     "text": [
      "              precision    recall  f1-score   support\n",
      "\n",
      "         0.0       0.53      0.39      0.45      2284\n",
      "         1.0       0.40      0.35      0.38      3524\n",
      "         2.0       0.36      0.13      0.19      3560\n",
      "         3.0       0.59      0.88      0.70      6710\n",
      "\n",
      "    accuracy                           0.53     16078\n",
      "   macro avg       0.47      0.44      0.43     16078\n",
      "weighted avg       0.49      0.53      0.48     16078\n",
      "\n"
     ]
    }
   ],
   "source": [
    "print(classification_report(y_test, y_pred))"
   ]
  },
  {
   "cell_type": "markdown",
   "metadata": {},
   "source": [
    "### RandomForest Regressor "
   ]
  },
  {
   "cell_type": "code",
   "execution_count": null,
   "metadata": {},
   "outputs": [],
   "source": [
    "mult_rf = data.copy(deep= True)      # copy original df\n",
    "imp_mult_rf = IterativeImputer(max_iter=10, random_state=0, estimator =  RandomForestRegressor())    # define iterative imputer. Default regression is Bayesian\n",
    "imp_mult_rf = imp_mult_rf.fit(mult_rf)                               # fit imputer\n",
    "mult_rf = imp_mult.transform(mult_rf)                             # apply to data\n",
    "mult_rf = pd.DataFrame(mult_rf, columns=data.columns) "
   ]
  },
  {
   "cell_type": "code",
   "execution_count": null,
   "metadata": {},
   "outputs": [],
   "source": [
    "mult_rf.isnull().sum().sum() # how many missing values in df\n",
    "mult_rf.to_csv(\"mult_rf.csv\")"
   ]
  },
  {
   "cell_type": "code",
   "execution_count": null,
   "metadata": {},
   "outputs": [],
   "source": [
    "#mult_rf.to_csv(\"mult_rf.csv\")"
   ]
  },
  {
   "cell_type": "code",
   "execution_count": null,
   "metadata": {},
   "outputs": [],
   "source": [
    "X=mult_rf[features]  # Features  \n",
    "y=mult_rf['Severity']  # Labels\n",
    "X_train, X_test, y_train, y_test = train_test_split(X, y, stratify=y, test_size=0.2, random_state=0)\n",
    "\n",
    "clf=RandomForestClassifier(n_estimators=100, class_weight='balanced', random_state = 42)  #defining classifier method\n",
    "\n",
    "clf.fit(X_train,y_train)                   # training classifier\n",
    "\n",
    "y_pred=clf.predict(X_test)                  # testing classifier \n",
    "\n",
    "print(\"Accuracy:\",metrics.accuracy_score(y_test, y_pred))"
   ]
  },
  {
   "cell_type": "code",
   "execution_count": null,
   "metadata": {},
   "outputs": [],
   "source": [
    "print(classification_report(y_test, y_pred))"
   ]
  },
  {
   "cell_type": "markdown",
   "metadata": {},
   "source": [
    "### KNN Regressor"
   ]
  },
  {
   "cell_type": "code",
   "execution_count": 27,
   "metadata": {},
   "outputs": [],
   "source": [
    "mult_kn = data.copy(deep= True)      # copy original df\n",
    "imp_mult_kn = IterativeImputer(max_iter=10, random_state=0, estimator =  KNeighborsRegressor())    # define iterative imputer. Default regression is Bayesian\n",
    "imp_mult_kn = imp_mult_kn.fit(mult_kn)                               # fit imputer\n",
    "mult_kn = imp_mult_kn.transform(mult_kn)                             # apply to data\n",
    "mult_kn = pd.DataFrame(mult_kn, columns=data.columns) \n",
    "\n",
    "mult_kn.to_csv(\"mult_kn.csv\")"
   ]
  },
  {
   "cell_type": "code",
   "execution_count": null,
   "metadata": {},
   "outputs": [],
   "source": [
    "#mult_kn.to_csv(\"mult_kn.csv\")"
   ]
  },
  {
   "cell_type": "code",
   "execution_count": 28,
   "metadata": {},
   "outputs": [
    {
     "data": {
      "text/plain": [
       "0"
      ]
     },
     "execution_count": 28,
     "metadata": {},
     "output_type": "execute_result"
    }
   ],
   "source": [
    "mult_kn.isnull().sum().sum() # how many missing values in df"
   ]
  },
  {
   "cell_type": "code",
   "execution_count": 29,
   "metadata": {},
   "outputs": [
    {
     "name": "stdout",
     "output_type": "stream",
     "text": [
      "Accuracy: 0.4692125886304267\n"
     ]
    }
   ],
   "source": [
    "X=mult_kn[features]  # Features  \n",
    "y=mult_kn['Severity']  # Labels\n",
    "X_train, X_test, y_train, y_test = train_test_split(X, y, stratify=y, test_size=0.2, random_state=0)\n",
    "\n",
    "clf=RandomForestClassifier(n_estimators=100, class_weight='balanced', random_state = 42)  #defining classifier method\n",
    "\n",
    "clf.fit(X_train,y_train)                   # training classifier\n",
    "\n",
    "y_pred=clf.predict(X_test)                  # testing classifier \n",
    "\n",
    "print(\"Accuracy:\",metrics.accuracy_score(y_test, y_pred))"
   ]
  },
  {
   "cell_type": "code",
   "execution_count": 30,
   "metadata": {},
   "outputs": [
    {
     "name": "stdout",
     "output_type": "stream",
     "text": [
      "              precision    recall  f1-score   support\n",
      "\n",
      "         0.0       0.42      0.28      0.34      2284\n",
      "         1.0       0.33      0.23      0.27      3524\n",
      "         2.0       0.27      0.07      0.12      3560\n",
      "         3.0       0.53      0.87      0.65      6710\n",
      "\n",
      "    accuracy                           0.47     16078\n",
      "   macro avg       0.39      0.36      0.35     16078\n",
      "weighted avg       0.41      0.47      0.41     16078\n",
      "\n"
     ]
    }
   ],
   "source": [
    "print(classification_report(y_test, y_pred))"
   ]
  },
  {
   "cell_type": "markdown",
   "metadata": {},
   "source": [
    "## Nearest neighbors imputation\n",
    "\n",
    "The KNNImputer class provides imputation for filling in missing values using the k-Nearest Neighbors approach. By default, a euclidean distance metric that supports missing values, nan_euclidean_distances, is used to find the nearest neighbors. Each missing feature is imputed using values from n_neighbors nearest neighbors that have a value for the feature. The feature of the neighbors are averaged uniformly or weighted by distance to each neighbor. If a sample has more than one feature missing, then the neighbors for that sample can be different depending on the particular feature being imputed. When the number of available neighbors is less than n_neighbors and there are no defined distances to the training set, the training set average for that feature is used during imputation. If there is at least one neighbor with a defined distance, the weighted or unweighted average of the remaining neighbors will be used during imputation. If a feature is always missing in training, it is removed during transform"
   ]
  },
  {
   "cell_type": "markdown",
   "metadata": {},
   "source": [
    "### k = 2"
   ]
  },
  {
   "cell_type": "code",
   "execution_count": 5,
   "metadata": {},
   "outputs": [],
   "source": [
    "knn2 = data.copy(deep= True)      # copy original df\n",
    "imp_knn2 = KNNImputer(n_neighbors=2, weights=\"uniform\")    # define iterative imputer. Default regression is Bayesian\n",
    "imp_knn2 = imp_knn2.fit(knn2)                               # fit imputer\n",
    "knn2 = imp_knn2.transform(knn2)                             # apply to data\n",
    "knn2 = pd.DataFrame(knn2, columns=data.columns) \n",
    "\n",
    "knn2.to_csv(\"knn2.csv\")"
   ]
  },
  {
   "cell_type": "code",
   "execution_count": 4,
   "metadata": {},
   "outputs": [],
   "source": [
    "#knn2.to_csv(\"knn2.csv\")"
   ]
  },
  {
   "cell_type": "code",
   "execution_count": 6,
   "metadata": {},
   "outputs": [
    {
     "data": {
      "text/plain": [
       "0"
      ]
     },
     "execution_count": 6,
     "metadata": {},
     "output_type": "execute_result"
    }
   ],
   "source": [
    "knn2.isnull().sum().sum() # how many missing values in df"
   ]
  },
  {
   "cell_type": "code",
   "execution_count": 7,
   "metadata": {},
   "outputs": [
    {
     "name": "stdout",
     "output_type": "stream",
     "text": [
      "Accuracy: 0.4684040303520338\n"
     ]
    }
   ],
   "source": [
    "X=knn2[features]  # Features  \n",
    "y=knn2['Severity']  # Labels\n",
    "X_train, X_test, y_train, y_test = train_test_split(X, y, stratify=y, test_size=0.2, random_state=0)\n",
    "\n",
    "clf=RandomForestClassifier(n_estimators=100, class_weight='balanced', random_state = 42)  #defining classifier method\n",
    "\n",
    "clf.fit(X_train,y_train)                   # training classifier\n",
    "\n",
    "y_pred=clf.predict(X_test)                  # testing classifier \n",
    "\n",
    "print(\"Accuracy:\",metrics.accuracy_score(y_test, y_pred))"
   ]
  },
  {
   "cell_type": "code",
   "execution_count": 8,
   "metadata": {},
   "outputs": [
    {
     "name": "stdout",
     "output_type": "stream",
     "text": [
      "              precision    recall  f1-score   support\n",
      "\n",
      "         0.0       0.42      0.29      0.34      2284\n",
      "         1.0       0.33      0.23      0.27      3524\n",
      "         2.0       0.28      0.08      0.12      3560\n",
      "         3.0       0.52      0.86      0.65      6710\n",
      "\n",
      "    accuracy                           0.47     16078\n",
      "   macro avg       0.39      0.36      0.35     16078\n",
      "weighted avg       0.41      0.47      0.41     16078\n",
      "\n"
     ]
    }
   ],
   "source": [
    "print(classification_report(y_test, y_pred))"
   ]
  },
  {
   "cell_type": "markdown",
   "metadata": {},
   "source": [
    "### k = 5"
   ]
  },
  {
   "cell_type": "code",
   "execution_count": 11,
   "metadata": {},
   "outputs": [],
   "source": [
    "knn5 = data.copy(deep= True)      # copy original df\n",
    "imp_knn5 = KNNImputer(n_neighbors=5, weights=\"uniform\")    # define iterative imputer. Default regression is Bayesian\n",
    "imp_knn5 = imp_knn5.fit(knn5)                               # fit imputer\n",
    "knn5 = imp_knn5.transform(knn5)                             # apply to data\n",
    "knn5 = pd.DataFrame(knn5, columns=data.columns) "
   ]
  },
  {
   "cell_type": "code",
   "execution_count": 12,
   "metadata": {},
   "outputs": [],
   "source": [
    "knn5.to_csv(\"knn5.csv\")"
   ]
  },
  {
   "cell_type": "code",
   "execution_count": null,
   "metadata": {},
   "outputs": [],
   "source": [
    "knn5.isnull().sum().sum() # how many missing values in df"
   ]
  },
  {
   "cell_type": "code",
   "execution_count": 13,
   "metadata": {},
   "outputs": [
    {
     "name": "stdout",
     "output_type": "stream",
     "text": [
      "Accuracy: 0.47145167309366837\n"
     ]
    }
   ],
   "source": [
    "X=knn5[features]  # Features  \n",
    "y=knn5['Severity']  # Labels\n",
    "X_train, X_test, y_train, y_test = train_test_split(X, y, stratify=y, test_size=0.2, random_state=0)\n",
    "\n",
    "clf=RandomForestClassifier(n_estimators=100, class_weight='balanced', random_state = 42)  #defining classifier method\n",
    "\n",
    "clf.fit(X_train,y_train)                   # training classifier\n",
    "\n",
    "y_pred=clf.predict(X_test)                  # testing classifier \n",
    "\n",
    "print(\"Accuracy:\",metrics.accuracy_score(y_test, y_pred))"
   ]
  },
  {
   "cell_type": "code",
   "execution_count": 14,
   "metadata": {},
   "outputs": [
    {
     "name": "stdout",
     "output_type": "stream",
     "text": [
      "              precision    recall  f1-score   support\n",
      "\n",
      "         0.0       0.42      0.28      0.33      2284\n",
      "         1.0       0.33      0.23      0.27      3524\n",
      "         2.0       0.29      0.08      0.12      3560\n",
      "         3.0       0.53      0.87      0.66      6710\n",
      "\n",
      "    accuracy                           0.47     16078\n",
      "   macro avg       0.39      0.37      0.35     16078\n",
      "weighted avg       0.42      0.47      0.41     16078\n",
      "\n"
     ]
    }
   ],
   "source": [
    "print(classification_report(y_test, y_pred))"
   ]
  },
  {
   "cell_type": "markdown",
   "metadata": {},
   "source": [
    "### k = 10"
   ]
  },
  {
   "cell_type": "code",
   "execution_count": 9,
   "metadata": {},
   "outputs": [],
   "source": [
    "knn10 = data.copy(deep= True)      # copy original df\n",
    "imp_knn10 = KNNImputer(n_neighbors=10, weights=\"uniform\")    # define iterative imputer. Default regression is Bayesian\n",
    "imp_knn10 = imp_knn10.fit(knn10)                               # fit imputer\n",
    "knn10 = imp_knn10.transform(knn10)                             # apply to data\n",
    "knn10 = pd.DataFrame(knn10, columns=data.columns) \n",
    "\n",
    "knn10.to_csv(\"knn10.csv\")"
   ]
  },
  {
   "cell_type": "code",
   "execution_count": null,
   "metadata": {},
   "outputs": [],
   "source": [
    "#knn7.to_csv(\"knn7.csv\")"
   ]
  },
  {
   "cell_type": "code",
   "execution_count": 10,
   "metadata": {},
   "outputs": [
    {
     "data": {
      "text/plain": [
       "0"
      ]
     },
     "execution_count": 10,
     "metadata": {},
     "output_type": "execute_result"
    }
   ],
   "source": [
    "knn10.isnull().sum().sum() # how many missing values in df"
   ]
  },
  {
   "cell_type": "code",
   "execution_count": 11,
   "metadata": {},
   "outputs": [
    {
     "name": "stdout",
     "output_type": "stream",
     "text": [
      "Accuracy: 0.4689638014678443\n"
     ]
    }
   ],
   "source": [
    "X=knn10[features]  # Features  \n",
    "y=knn10['Severity']  # Labels\n",
    "X_train, X_test, y_train, y_test = train_test_split(X, y, stratify=y, test_size=0.2, random_state=0)\n",
    "\n",
    "clf=RandomForestClassifier(n_estimators=100, class_weight='balanced', random_state = 42)  #defining classifier method\n",
    "\n",
    "clf.fit(X_train,y_train)                   # training classifier\n",
    "\n",
    "y_pred=clf.predict(X_test)                  # testing classifier \n",
    "\n",
    "print(\"Accuracy:\",metrics.accuracy_score(y_test, y_pred))"
   ]
  },
  {
   "cell_type": "code",
   "execution_count": 12,
   "metadata": {},
   "outputs": [
    {
     "name": "stdout",
     "output_type": "stream",
     "text": [
      "              precision    recall  f1-score   support\n",
      "\n",
      "         0.0       0.42      0.28      0.34      2284\n",
      "         1.0       0.33      0.23      0.27      3524\n",
      "         2.0       0.27      0.08      0.12      3560\n",
      "         3.0       0.52      0.87      0.65      6710\n",
      "\n",
      "    accuracy                           0.47     16078\n",
      "   macro avg       0.39      0.36      0.35     16078\n",
      "weighted avg       0.41      0.47      0.41     16078\n",
      "\n"
     ]
    }
   ],
   "source": [
    "print(classification_report(y_test, y_pred))"
   ]
  },
  {
   "cell_type": "markdown",
   "metadata": {},
   "source": [
    "### Importing data created using MICE in R with PNN for continuous and logreg for categorical variables. max iterations = 5, 5 imputations"
   ]
  },
  {
   "cell_type": "code",
   "execution_count": 15,
   "metadata": {},
   "outputs": [],
   "source": [
    "mice = pd.read_csv(\"MICE_m5_it5.csv\", index_col=0)"
   ]
  },
  {
   "cell_type": "code",
   "execution_count": 16,
   "metadata": {},
   "outputs": [
    {
     "data": {
      "text/html": [
       "<div>\n",
       "<style scoped>\n",
       "    .dataframe tbody tr th:only-of-type {\n",
       "        vertical-align: middle;\n",
       "    }\n",
       "\n",
       "    .dataframe tbody tr th {\n",
       "        vertical-align: top;\n",
       "    }\n",
       "\n",
       "    .dataframe thead th {\n",
       "        text-align: right;\n",
       "    }\n",
       "</style>\n",
       "<table border=\"1\" class=\"dataframe\">\n",
       "  <thead>\n",
       "    <tr style=\"text-align: right;\">\n",
       "      <th></th>\n",
       "      <th>PatientID</th>\n",
       "      <th>Sex</th>\n",
       "      <th>Age</th>\n",
       "      <th>Current_smoker</th>\n",
       "      <th>Former_smoker</th>\n",
       "      <th>Sedentary</th>\n",
       "      <th>Height</th>\n",
       "      <th>Weight</th>\n",
       "      <th>Cervical_perimeter</th>\n",
       "      <th>Abdominal_perimeter</th>\n",
       "      <th>...</th>\n",
       "      <th>Nocturnal_perspiration</th>\n",
       "      <th>Shortness_of_breath_on_exertion</th>\n",
       "      <th>Nocturia</th>\n",
       "      <th>Drowsiness_accident</th>\n",
       "      <th>Near_miss_accident</th>\n",
       "      <th>Respiratory_arrest</th>\n",
       "      <th>Epworth_scale</th>\n",
       "      <th>Pichots_scale</th>\n",
       "      <th>Depression_scale</th>\n",
       "      <th>Severity</th>\n",
       "    </tr>\n",
       "  </thead>\n",
       "  <tbody>\n",
       "    <tr>\n",
       "      <th>1</th>\n",
       "      <td>1</td>\n",
       "      <td>2</td>\n",
       "      <td>35.167693</td>\n",
       "      <td>0</td>\n",
       "      <td>1</td>\n",
       "      <td>0</td>\n",
       "      <td>166</td>\n",
       "      <td>100.0</td>\n",
       "      <td>35.0</td>\n",
       "      <td>114.0</td>\n",
       "      <td>...</td>\n",
       "      <td>1</td>\n",
       "      <td>1</td>\n",
       "      <td>1</td>\n",
       "      <td>0</td>\n",
       "      <td>0</td>\n",
       "      <td>1</td>\n",
       "      <td>6</td>\n",
       "      <td>24</td>\n",
       "      <td>10</td>\n",
       "      <td>1</td>\n",
       "    </tr>\n",
       "    <tr>\n",
       "      <th>2</th>\n",
       "      <td>3</td>\n",
       "      <td>1</td>\n",
       "      <td>35.014374</td>\n",
       "      <td>0</td>\n",
       "      <td>0</td>\n",
       "      <td>0</td>\n",
       "      <td>178</td>\n",
       "      <td>96.0</td>\n",
       "      <td>44.0</td>\n",
       "      <td>109.0</td>\n",
       "      <td>...</td>\n",
       "      <td>1</td>\n",
       "      <td>0</td>\n",
       "      <td>1</td>\n",
       "      <td>0</td>\n",
       "      <td>0</td>\n",
       "      <td>0</td>\n",
       "      <td>9</td>\n",
       "      <td>2</td>\n",
       "      <td>1</td>\n",
       "      <td>3</td>\n",
       "    </tr>\n",
       "    <tr>\n",
       "      <th>3</th>\n",
       "      <td>4</td>\n",
       "      <td>1</td>\n",
       "      <td>48.802190</td>\n",
       "      <td>0</td>\n",
       "      <td>1</td>\n",
       "      <td>1</td>\n",
       "      <td>182</td>\n",
       "      <td>81.0</td>\n",
       "      <td>38.0</td>\n",
       "      <td>96.0</td>\n",
       "      <td>...</td>\n",
       "      <td>0</td>\n",
       "      <td>0</td>\n",
       "      <td>1</td>\n",
       "      <td>0</td>\n",
       "      <td>0</td>\n",
       "      <td>1</td>\n",
       "      <td>10</td>\n",
       "      <td>10</td>\n",
       "      <td>5</td>\n",
       "      <td>2</td>\n",
       "    </tr>\n",
       "    <tr>\n",
       "      <th>4</th>\n",
       "      <td>14</td>\n",
       "      <td>2</td>\n",
       "      <td>56.410678</td>\n",
       "      <td>0</td>\n",
       "      <td>0</td>\n",
       "      <td>0</td>\n",
       "      <td>165</td>\n",
       "      <td>88.0</td>\n",
       "      <td>38.0</td>\n",
       "      <td>110.0</td>\n",
       "      <td>...</td>\n",
       "      <td>1</td>\n",
       "      <td>0</td>\n",
       "      <td>1</td>\n",
       "      <td>0</td>\n",
       "      <td>0</td>\n",
       "      <td>0</td>\n",
       "      <td>4</td>\n",
       "      <td>15</td>\n",
       "      <td>6</td>\n",
       "      <td>3</td>\n",
       "    </tr>\n",
       "    <tr>\n",
       "      <th>5</th>\n",
       "      <td>15</td>\n",
       "      <td>1</td>\n",
       "      <td>71.600274</td>\n",
       "      <td>0</td>\n",
       "      <td>0</td>\n",
       "      <td>0</td>\n",
       "      <td>175</td>\n",
       "      <td>77.0</td>\n",
       "      <td>40.0</td>\n",
       "      <td>101.0</td>\n",
       "      <td>...</td>\n",
       "      <td>0</td>\n",
       "      <td>0</td>\n",
       "      <td>0</td>\n",
       "      <td>0</td>\n",
       "      <td>0</td>\n",
       "      <td>0</td>\n",
       "      <td>9</td>\n",
       "      <td>3</td>\n",
       "      <td>2</td>\n",
       "      <td>2</td>\n",
       "    </tr>\n",
       "  </tbody>\n",
       "</table>\n",
       "<p>5 rows × 51 columns</p>\n",
       "</div>"
      ],
      "text/plain": [
       "   PatientID  Sex        Age  Current_smoker  Former_smoker  Sedentary  \\\n",
       "1          1    2  35.167693               0              1          0   \n",
       "2          3    1  35.014374               0              0          0   \n",
       "3          4    1  48.802190               0              1          1   \n",
       "4         14    2  56.410678               0              0          0   \n",
       "5         15    1  71.600274               0              0          0   \n",
       "\n",
       "   Height  Weight  Cervical_perimeter  Abdominal_perimeter  ...  \\\n",
       "1     166   100.0                35.0                114.0  ...   \n",
       "2     178    96.0                44.0                109.0  ...   \n",
       "3     182    81.0                38.0                 96.0  ...   \n",
       "4     165    88.0                38.0                110.0  ...   \n",
       "5     175    77.0                40.0                101.0  ...   \n",
       "\n",
       "   Nocturnal_perspiration  Shortness_of_breath_on_exertion  Nocturia  \\\n",
       "1                       1                                1         1   \n",
       "2                       1                                0         1   \n",
       "3                       0                                0         1   \n",
       "4                       1                                0         1   \n",
       "5                       0                                0         0   \n",
       "\n",
       "   Drowsiness_accident  Near_miss_accident  Respiratory_arrest  Epworth_scale  \\\n",
       "1                    0                   0                   1              6   \n",
       "2                    0                   0                   0              9   \n",
       "3                    0                   0                   1             10   \n",
       "4                    0                   0                   0              4   \n",
       "5                    0                   0                   0              9   \n",
       "\n",
       "   Pichots_scale  Depression_scale  Severity  \n",
       "1             24                10         1  \n",
       "2              2                 1         3  \n",
       "3             10                 5         2  \n",
       "4             15                 6         3  \n",
       "5              3                 2         2  \n",
       "\n",
       "[5 rows x 51 columns]"
      ]
     },
     "execution_count": 16,
     "metadata": {},
     "output_type": "execute_result"
    }
   ],
   "source": [
    "mice.head()"
   ]
  },
  {
   "cell_type": "code",
   "execution_count": 17,
   "metadata": {},
   "outputs": [
    {
     "data": {
      "text/plain": [
       "0"
      ]
     },
     "execution_count": 17,
     "metadata": {},
     "output_type": "execute_result"
    }
   ],
   "source": [
    "mice.isnull().sum().sum()"
   ]
  },
  {
   "cell_type": "code",
   "execution_count": 22,
   "metadata": {},
   "outputs": [],
   "source": [
    "features = ['Sex', 'Age', 'Current_smoker', 'Former_smoker',\n",
    "       'Sedentary', 'Height', 'Weight', 'Cervical_perimeter',\n",
    "       'Abdominal_perimeter', 'Systolic_BP', 'Diastolic_BP',\n",
    "       'Maxillofacial_profile', 'BMI', 'High_BP', 'Asthma', 'Rhinitis', 'COPD',\n",
    "       'Respiratory_fail', 'Myocardial_infarct', 'Coronary_fail',\n",
    "       'Arrhythmias', 'Stroke', 'Heart_fail', 'Arteriopathy', 'Gastric_reflux',\n",
    "       'Glaucoma', 'Diabetes', 'Hypercholesterolemia', 'Hypertriglyceridemia',\n",
    "       'Hypo.er.thyroidism', 'Depression', 'Obesity', 'Dysmorphology',\n",
    "       'Restless_Leg_Syndrome', 'Snoring', 'Diurnal_somnolence',\n",
    "       'Driving_drowsiness', 'Morning_fatigue', 'Morning_headache',\n",
    "       'Memory_problem', 'Nocturnal_perspiration',\n",
    "       'Shortness_of_breath_on_exertion', 'Nocturia', 'Drowsiness_accident',\n",
    "       'Near_miss_accident', 'Respiratory_arrest', 'Epworth_scale',\n",
    "       'Pichots_scale', 'Depression_scale']\n",
    "continuous = ['Age','Height','Weight','Cervical_perimeter','Abdominal_perimeter','Systolic_BP','Diastolic_BP', \n",
    "              'BMI','Epworth_scale','Pichots_scale','Depression_scale']\n",
    "categorical = [i for i in features if i not in continuous]"
   ]
  },
  {
   "cell_type": "code",
   "execution_count": 23,
   "metadata": {},
   "outputs": [
    {
     "name": "stdout",
     "output_type": "stream",
     "text": [
      "Accuracy: 0.47082970518721234\n"
     ]
    }
   ],
   "source": [
    "X=mice[features]  # Features  \n",
    "y=mice['Severity']  # Labels\n",
    "X_train, X_test, y_train, y_test = train_test_split(X, y, stratify=y, test_size=0.2, random_state=0)\n",
    "\n",
    "clf=RandomForestClassifier(n_estimators=100, class_weight='balanced', random_state = 42)  #defining classifier method\n",
    "\n",
    "clf.fit(X_train,y_train)                   # training classifier\n",
    "\n",
    "y_pred=clf.predict(X_test)                  # testing classifier \n",
    "\n",
    "print(\"Accuracy:\",metrics.accuracy_score(y_test, y_pred))"
   ]
  },
  {
   "cell_type": "code",
   "execution_count": 24,
   "metadata": {},
   "outputs": [
    {
     "name": "stdout",
     "output_type": "stream",
     "text": [
      "              precision    recall  f1-score   support\n",
      "\n",
      "           0       0.43      0.29      0.34      2284\n",
      "           1       0.34      0.24      0.28      3524\n",
      "           2       0.30      0.08      0.13      3560\n",
      "           3       0.52      0.86      0.65      6710\n",
      "\n",
      "    accuracy                           0.47     16078\n",
      "   macro avg       0.40      0.37      0.35     16078\n",
      "weighted avg       0.42      0.47      0.41     16078\n",
      "\n"
     ]
    }
   ],
   "source": [
    "print(classification_report(y_test, y_pred))"
   ]
  },
  {
   "cell_type": "code",
   "execution_count": null,
   "metadata": {},
   "outputs": [],
   "source": []
  }
 ],
 "metadata": {
  "kernelspec": {
   "display_name": "Python 3 (ipykernel)",
   "language": "python",
   "name": "python3"
  },
  "language_info": {
   "codemirror_mode": {
    "name": "ipython",
    "version": 3
   },
   "file_extension": ".py",
   "mimetype": "text/x-python",
   "name": "python",
   "nbconvert_exporter": "python",
   "pygments_lexer": "ipython3",
   "version": "3.9.12"
  }
 },
 "nbformat": 4,
 "nbformat_minor": 2
}
