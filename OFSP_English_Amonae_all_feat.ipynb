{
 "cells": [
  {
   "cell_type": "markdown",
   "id": "5ccc4b2c",
   "metadata": {},
   "source": [
    "## Import packages and check working directory"
   ]
  },
  {
   "cell_type": "code",
   "execution_count": 1,
   "id": "beaee29d",
   "metadata": {},
   "outputs": [
    {
     "data": {
      "text/plain": [
       "'C:\\\\Users\\\\amona\\\\Desktop\\\\Dissertation'"
      ]
     },
     "execution_count": 1,
     "metadata": {},
     "output_type": "execute_result"
    }
   ],
   "source": [
    "import os\n",
    "os.getcwd()"
   ]
  },
  {
   "cell_type": "code",
   "execution_count": 2,
   "id": "bd5fa24f",
   "metadata": {},
   "outputs": [],
   "source": [
    "import pandas as pd\n",
    "from sklearn.model_selection import train_test_split\n",
    "from sklearn.ensemble import RandomForestClassifier\n",
    "from sklearn import metrics\n",
    "import numpy as np\n",
    "import matplotlib.pyplot as plt\n",
    "import seaborn as sns\n",
    "from sklearn.metrics import accuracy_score, confusion_matrix, classification_report"
   ]
  },
  {
   "cell_type": "markdown",
   "id": "85a360df",
   "metadata": {},
   "source": [
    "## Import and check csv"
   ]
  },
  {
   "cell_type": "code",
   "execution_count": 3,
   "id": "4883314b",
   "metadata": {},
   "outputs": [
    {
     "name": "stderr",
     "output_type": "stream",
     "text": [
      "C:\\Users\\amona\\AppData\\Local\\Temp\\ipykernel_8468\\1582533793.py:1: DtypeWarning: Columns (2,29,149,150,155,190,195,196,197,198,199,203,204,205,206,207,211,212,213,214,215,219,220,221,222,223,227,228,229,230,231,235,236,237,238,239,243,244,245,246,247,251,252,253,254,255,259,260,261,262,263,267,268,269,270,271,275,276,277,278,279,283,284,285,286,287,291,292,293,294,295,299,301,302,303,307,309,310,311,315,316,317,318,319,323,325,326,327,334,339,342) have mixed types. Specify dtype option on import or set low_memory=False.\n",
      "  data = pd.read_csv(\"OFSP_English_rpts_rmv.csv\", encoding= 'unicode_escape')\n"
     ]
    }
   ],
   "source": [
    "data = pd.read_csv(\"OFSP_English_rpts_rmv.csv\", encoding= 'unicode_escape')"
   ]
  },
  {
   "cell_type": "code",
   "execution_count": 4,
   "id": "d17117f8",
   "metadata": {},
   "outputs": [
    {
     "data": {
      "text/html": [
       "<div>\n",
       "<style scoped>\n",
       "    .dataframe tbody tr th:only-of-type {\n",
       "        vertical-align: middle;\n",
       "    }\n",
       "\n",
       "    .dataframe tbody tr th {\n",
       "        vertical-align: top;\n",
       "    }\n",
       "\n",
       "    .dataframe thead th {\n",
       "        text-align: right;\n",
       "    }\n",
       "</style>\n",
       "<table border=\"1\" class=\"dataframe\">\n",
       "  <thead>\n",
       "    <tr style=\"text-align: right;\">\n",
       "      <th></th>\n",
       "      <th>PatientID</th>\n",
       "      <th>Dateofbirth</th>\n",
       "      <th>Departmentid</th>\n",
       "      <th>CountryID</th>\n",
       "      <th>Sex</th>\n",
       "      <th>Profession</th>\n",
       "      <th>Smoker</th>\n",
       "      <th>____</th>\n",
       "      <th>____.1</th>\n",
       "      <th>UserID</th>\n",
       "      <th>...</th>\n",
       "      <th>Treatmentname.38</th>\n",
       "      <th>Treatmentname.39</th>\n",
       "      <th>Shorttreatmentname.18</th>\n",
       "      <th>ATCcode.15</th>\n",
       "      <th>ATCclass.19</th>\n",
       "      <th>Dosage.32</th>\n",
       "      <th>Dosage.33</th>\n",
       "      <th>Table :</th>\n",
       "      <th>Numberofthevisist</th>\n",
       "      <th>Incorrectvisit</th>\n",
       "    </tr>\n",
       "  </thead>\n",
       "  <tbody>\n",
       "    <tr>\n",
       "      <th>0</th>\n",
       "      <td>1</td>\n",
       "      <td>21-Nov-73</td>\n",
       "      <td>33.0</td>\n",
       "      <td>74.0</td>\n",
       "      <td>2.0</td>\n",
       "      <td>5.0</td>\n",
       "      <td>fumeur ancien</td>\n",
       "      <td>0.0</td>\n",
       "      <td>NaN</td>\n",
       "      <td>543.0</td>\n",
       "      <td>...</td>\n",
       "      <td>NaN</td>\n",
       "      <td>NaN</td>\n",
       "      <td>NaN</td>\n",
       "      <td>NaN</td>\n",
       "      <td>NaN</td>\n",
       "      <td>NaN</td>\n",
       "      <td>NaN</td>\n",
       "      <td>1</td>\n",
       "      <td>1</td>\n",
       "      <td>NaN</td>\n",
       "    </tr>\n",
       "    <tr>\n",
       "      <th>1</th>\n",
       "      <td>1</td>\n",
       "      <td>NaN</td>\n",
       "      <td>NaN</td>\n",
       "      <td>NaN</td>\n",
       "      <td>NaN</td>\n",
       "      <td>NaN</td>\n",
       "      <td>fumeur ancien</td>\n",
       "      <td>NaN</td>\n",
       "      <td>NaN</td>\n",
       "      <td>NaN</td>\n",
       "      <td>...</td>\n",
       "      <td>NaN</td>\n",
       "      <td>NaN</td>\n",
       "      <td>NaN</td>\n",
       "      <td>NaN</td>\n",
       "      <td>NaN</td>\n",
       "      <td>NaN</td>\n",
       "      <td>NaN</td>\n",
       "      <td>2</td>\n",
       "      <td>2</td>\n",
       "      <td>NaN</td>\n",
       "    </tr>\n",
       "    <tr>\n",
       "      <th>2</th>\n",
       "      <td>1</td>\n",
       "      <td>NaN</td>\n",
       "      <td>NaN</td>\n",
       "      <td>NaN</td>\n",
       "      <td>NaN</td>\n",
       "      <td>NaN</td>\n",
       "      <td>fumeur ancien</td>\n",
       "      <td>NaN</td>\n",
       "      <td>NaN</td>\n",
       "      <td>NaN</td>\n",
       "      <td>...</td>\n",
       "      <td>NaN</td>\n",
       "      <td>NaN</td>\n",
       "      <td>NaN</td>\n",
       "      <td>NaN</td>\n",
       "      <td>NaN</td>\n",
       "      <td>NaN</td>\n",
       "      <td>NaN</td>\n",
       "      <td>2</td>\n",
       "      <td>3</td>\n",
       "      <td>NaN</td>\n",
       "    </tr>\n",
       "    <tr>\n",
       "      <th>3</th>\n",
       "      <td>1</td>\n",
       "      <td>NaN</td>\n",
       "      <td>NaN</td>\n",
       "      <td>NaN</td>\n",
       "      <td>NaN</td>\n",
       "      <td>NaN</td>\n",
       "      <td>fumeur ancien</td>\n",
       "      <td>NaN</td>\n",
       "      <td>NaN</td>\n",
       "      <td>NaN</td>\n",
       "      <td>...</td>\n",
       "      <td>NaN</td>\n",
       "      <td>NaN</td>\n",
       "      <td>NaN</td>\n",
       "      <td>NaN</td>\n",
       "      <td>NaN</td>\n",
       "      <td>NaN</td>\n",
       "      <td>NaN</td>\n",
       "      <td>2</td>\n",
       "      <td>4</td>\n",
       "      <td>NaN</td>\n",
       "    </tr>\n",
       "    <tr>\n",
       "      <th>4</th>\n",
       "      <td>2</td>\n",
       "      <td>10-Nov-33</td>\n",
       "      <td>17.0</td>\n",
       "      <td>74.0</td>\n",
       "      <td>1.0</td>\n",
       "      <td>7.0</td>\n",
       "      <td>non fumeur</td>\n",
       "      <td>0.0</td>\n",
       "      <td>NaN</td>\n",
       "      <td>543.0</td>\n",
       "      <td>...</td>\n",
       "      <td>NaN</td>\n",
       "      <td>NaN</td>\n",
       "      <td>NaN</td>\n",
       "      <td>NaN</td>\n",
       "      <td>NaN</td>\n",
       "      <td>NaN</td>\n",
       "      <td>NaN</td>\n",
       "      <td>1</td>\n",
       "      <td>1</td>\n",
       "      <td>NaN</td>\n",
       "    </tr>\n",
       "  </tbody>\n",
       "</table>\n",
       "<p>5 rows × 357 columns</p>\n",
       "</div>"
      ],
      "text/plain": [
       "   PatientID Dateofbirth Departmentid  CountryID  Sex  Profession  \\\n",
       "0          1   21-Nov-73         33.0       74.0  2.0         5.0   \n",
       "1          1         NaN          NaN        NaN  NaN         NaN   \n",
       "2          1         NaN          NaN        NaN  NaN         NaN   \n",
       "3          1         NaN          NaN        NaN  NaN         NaN   \n",
       "4          2   10-Nov-33         17.0       74.0  1.0         7.0   \n",
       "\n",
       "          Smoker   ____  ____.1   UserID  ...  Treatmentname.38  \\\n",
       "0  fumeur ancien    0.0     NaN    543.0  ...               NaN   \n",
       "1  fumeur ancien    NaN     NaN      NaN  ...               NaN   \n",
       "2  fumeur ancien    NaN     NaN      NaN  ...               NaN   \n",
       "3  fumeur ancien    NaN     NaN      NaN  ...               NaN   \n",
       "4     non fumeur    0.0     NaN    543.0  ...               NaN   \n",
       "\n",
       "  Treatmentname.39  Shorttreatmentname.18   ATCcode.15 ATCclass.19  Dosage.32  \\\n",
       "0              NaN                    NaN          NaN         NaN        NaN   \n",
       "1              NaN                    NaN          NaN         NaN        NaN   \n",
       "2              NaN                    NaN          NaN         NaN        NaN   \n",
       "3              NaN                    NaN          NaN         NaN        NaN   \n",
       "4              NaN                    NaN          NaN         NaN        NaN   \n",
       "\n",
       "   Dosage.33  Table :  Numberofthevisist  Incorrectvisit  \n",
       "0        NaN        1                  1             NaN  \n",
       "1        NaN        2                  2             NaN  \n",
       "2        NaN        2                  3             NaN  \n",
       "3        NaN        2                  4             NaN  \n",
       "4        NaN        1                  1             NaN  \n",
       "\n",
       "[5 rows x 357 columns]"
      ]
     },
     "execution_count": 4,
     "metadata": {},
     "output_type": "execute_result"
    }
   ],
   "source": [
    "data.head()"
   ]
  },
  {
   "cell_type": "code",
   "execution_count": 5,
   "id": "eac3e9a1",
   "metadata": {},
   "outputs": [
    {
     "data": {
      "text/plain": [
       "(190537, 357)"
      ]
     },
     "execution_count": 5,
     "metadata": {},
     "output_type": "execute_result"
    }
   ],
   "source": [
    "data.shape"
   ]
  },
  {
   "cell_type": "code",
   "execution_count": 6,
   "id": "fced78f8",
   "metadata": {},
   "outputs": [
    {
     "data": {
      "text/plain": [
       "Index(['PatientID', 'Dateofbirth', 'Departmentid', 'CountryID', 'Sex',\n",
       "       'Profession', 'Smoker', ' ____', ' ____.1', ' UserID',\n",
       "       ...\n",
       "       'Treatmentname.38', 'Treatmentname.39', 'Shorttreatmentname.18',\n",
       "       ' ATCcode.15', 'ATCclass.19', 'Dosage.32', 'Dosage.33', 'Table :',\n",
       "       'Numberofthevisist', 'Incorrectvisit'],\n",
       "      dtype='object', length=357)"
      ]
     },
     "execution_count": 6,
     "metadata": {},
     "output_type": "execute_result"
    }
   ],
   "source": [
    "data.columns"
   ]
  },
  {
   "cell_type": "markdown",
   "id": "c94cae53",
   "metadata": {},
   "source": [
    "## Creating data frames by category"
   ]
  },
  {
   "cell_type": "code",
   "execution_count": 7,
   "id": "83e54d08",
   "metadata": {},
   "outputs": [],
   "source": [
    "demographic = ['PatientID','Sex','Age','Current_smoker','Former_smoker','Sedentary']"
   ]
  },
  {
   "cell_type": "code",
   "execution_count": 8,
   "id": "b911d43d",
   "metadata": {},
   "outputs": [
    {
     "data": {
      "text/html": [
       "<div>\n",
       "<style scoped>\n",
       "    .dataframe tbody tr th:only-of-type {\n",
       "        vertical-align: middle;\n",
       "    }\n",
       "\n",
       "    .dataframe tbody tr th {\n",
       "        vertical-align: top;\n",
       "    }\n",
       "\n",
       "    .dataframe thead th {\n",
       "        text-align: right;\n",
       "    }\n",
       "</style>\n",
       "<table border=\"1\" class=\"dataframe\">\n",
       "  <thead>\n",
       "    <tr style=\"text-align: right;\">\n",
       "      <th></th>\n",
       "      <th>PatientID</th>\n",
       "      <th>Sex</th>\n",
       "      <th>Age</th>\n",
       "      <th>Current_smoker</th>\n",
       "      <th>Former_smoker</th>\n",
       "      <th>Sedentary</th>\n",
       "    </tr>\n",
       "  </thead>\n",
       "  <tbody>\n",
       "    <tr>\n",
       "      <th>0</th>\n",
       "      <td>1</td>\n",
       "      <td>2.0</td>\n",
       "      <td>35.167693</td>\n",
       "      <td>0.0</td>\n",
       "      <td>1.0</td>\n",
       "      <td>0.0</td>\n",
       "    </tr>\n",
       "    <tr>\n",
       "      <th>1</th>\n",
       "      <td>1</td>\n",
       "      <td>NaN</td>\n",
       "      <td>36.522929</td>\n",
       "      <td>0.0</td>\n",
       "      <td>1.0</td>\n",
       "      <td>0.0</td>\n",
       "    </tr>\n",
       "    <tr>\n",
       "      <th>2</th>\n",
       "      <td>1</td>\n",
       "      <td>NaN</td>\n",
       "      <td>36.591376</td>\n",
       "      <td>0.0</td>\n",
       "      <td>1.0</td>\n",
       "      <td>0.0</td>\n",
       "    </tr>\n",
       "    <tr>\n",
       "      <th>3</th>\n",
       "      <td>1</td>\n",
       "      <td>NaN</td>\n",
       "      <td>38.576318</td>\n",
       "      <td>0.0</td>\n",
       "      <td>1.0</td>\n",
       "      <td>0.0</td>\n",
       "    </tr>\n",
       "    <tr>\n",
       "      <th>4</th>\n",
       "      <td>2</td>\n",
       "      <td>1.0</td>\n",
       "      <td>75.252567</td>\n",
       "      <td>0.0</td>\n",
       "      <td>0.0</td>\n",
       "      <td>1.0</td>\n",
       "    </tr>\n",
       "  </tbody>\n",
       "</table>\n",
       "</div>"
      ],
      "text/plain": [
       "   PatientID  Sex        Age  Current_smoker  Former_smoker  Sedentary\n",
       "0          1  2.0  35.167693             0.0            1.0        0.0\n",
       "1          1  NaN  36.522929             0.0            1.0        0.0\n",
       "2          1  NaN  36.591376             0.0            1.0        0.0\n",
       "3          1  NaN  38.576318             0.0            1.0        0.0\n",
       "4          2  1.0  75.252567             0.0            0.0        1.0"
      ]
     },
     "execution_count": 8,
     "metadata": {},
     "output_type": "execute_result"
    }
   ],
   "source": [
    "demographic_df = data[demographic]\n",
    "demographic_df.head()"
   ]
  },
  {
   "cell_type": "code",
   "execution_count": 9,
   "id": "b47304d7",
   "metadata": {},
   "outputs": [],
   "source": [
    "measurements = ['Height','Weight','Cervical_perimeter',\n",
    "               'Abdominal_perimeter','Systolic_BP','Diastolic_BP','Bloodsugar_level','Blood_total_cholesterol','HDL_level',\n",
    "               'LDL_level','Triglycerides_level','Maxillofacial_profile','BMI','High_BP','PH']"
   ]
  },
  {
   "cell_type": "code",
   "execution_count": 10,
   "id": "b33db6c2",
   "metadata": {},
   "outputs": [
    {
     "data": {
      "text/html": [
       "<div>\n",
       "<style scoped>\n",
       "    .dataframe tbody tr th:only-of-type {\n",
       "        vertical-align: middle;\n",
       "    }\n",
       "\n",
       "    .dataframe tbody tr th {\n",
       "        vertical-align: top;\n",
       "    }\n",
       "\n",
       "    .dataframe thead th {\n",
       "        text-align: right;\n",
       "    }\n",
       "</style>\n",
       "<table border=\"1\" class=\"dataframe\">\n",
       "  <thead>\n",
       "    <tr style=\"text-align: right;\">\n",
       "      <th></th>\n",
       "      <th>Height</th>\n",
       "      <th>Weight</th>\n",
       "      <th>Cervical_perimeter</th>\n",
       "      <th>Abdominal_perimeter</th>\n",
       "      <th>Systolic_BP</th>\n",
       "      <th>Diastolic_BP</th>\n",
       "      <th>Bloodsugar_level</th>\n",
       "      <th>Blood_total_cholesterol</th>\n",
       "      <th>HDL_level</th>\n",
       "      <th>LDL_level</th>\n",
       "      <th>Triglycerides_level</th>\n",
       "      <th>Maxillofacial_profile</th>\n",
       "      <th>BMI</th>\n",
       "      <th>High_BP</th>\n",
       "      <th>PH</th>\n",
       "    </tr>\n",
       "  </thead>\n",
       "  <tbody>\n",
       "    <tr>\n",
       "      <th>0</th>\n",
       "      <td>166.0</td>\n",
       "      <td>100.0</td>\n",
       "      <td>35.0</td>\n",
       "      <td>114.0</td>\n",
       "      <td>NaN</td>\n",
       "      <td>NaN</td>\n",
       "      <td>NaN</td>\n",
       "      <td>NaN</td>\n",
       "      <td>NaN</td>\n",
       "      <td>NaN</td>\n",
       "      <td>NaN</td>\n",
       "      <td>0.0</td>\n",
       "      <td>36.289737</td>\n",
       "      <td>1.0</td>\n",
       "      <td>NaN</td>\n",
       "    </tr>\n",
       "    <tr>\n",
       "      <th>1</th>\n",
       "      <td>NaN</td>\n",
       "      <td>95.0</td>\n",
       "      <td>NaN</td>\n",
       "      <td>104.0</td>\n",
       "      <td>NaN</td>\n",
       "      <td>NaN</td>\n",
       "      <td>NaN</td>\n",
       "      <td>NaN</td>\n",
       "      <td>NaN</td>\n",
       "      <td>NaN</td>\n",
       "      <td>NaN</td>\n",
       "      <td>NaN</td>\n",
       "      <td>NaN</td>\n",
       "      <td>1.0</td>\n",
       "      <td>NaN</td>\n",
       "    </tr>\n",
       "    <tr>\n",
       "      <th>2</th>\n",
       "      <td>NaN</td>\n",
       "      <td>98.0</td>\n",
       "      <td>NaN</td>\n",
       "      <td>NaN</td>\n",
       "      <td>NaN</td>\n",
       "      <td>NaN</td>\n",
       "      <td>NaN</td>\n",
       "      <td>NaN</td>\n",
       "      <td>NaN</td>\n",
       "      <td>NaN</td>\n",
       "      <td>NaN</td>\n",
       "      <td>NaN</td>\n",
       "      <td>NaN</td>\n",
       "      <td>1.0</td>\n",
       "      <td>NaN</td>\n",
       "    </tr>\n",
       "    <tr>\n",
       "      <th>3</th>\n",
       "      <td>NaN</td>\n",
       "      <td>95.0</td>\n",
       "      <td>38.0</td>\n",
       "      <td>108.0</td>\n",
       "      <td>NaN</td>\n",
       "      <td>NaN</td>\n",
       "      <td>NaN</td>\n",
       "      <td>NaN</td>\n",
       "      <td>NaN</td>\n",
       "      <td>NaN</td>\n",
       "      <td>NaN</td>\n",
       "      <td>NaN</td>\n",
       "      <td>NaN</td>\n",
       "      <td>1.0</td>\n",
       "      <td>7.46</td>\n",
       "    </tr>\n",
       "    <tr>\n",
       "      <th>4</th>\n",
       "      <td>167.0</td>\n",
       "      <td>70.0</td>\n",
       "      <td>41.0</td>\n",
       "      <td>105.0</td>\n",
       "      <td>NaN</td>\n",
       "      <td>NaN</td>\n",
       "      <td>NaN</td>\n",
       "      <td>NaN</td>\n",
       "      <td>NaN</td>\n",
       "      <td>NaN</td>\n",
       "      <td>NaN</td>\n",
       "      <td>0.0</td>\n",
       "      <td>25.099502</td>\n",
       "      <td>1.0</td>\n",
       "      <td>NaN</td>\n",
       "    </tr>\n",
       "  </tbody>\n",
       "</table>\n",
       "</div>"
      ],
      "text/plain": [
       "   Height  Weight  Cervical_perimeter  Abdominal_perimeter  Systolic_BP  \\\n",
       "0   166.0   100.0                35.0                114.0          NaN   \n",
       "1     NaN    95.0                 NaN                104.0          NaN   \n",
       "2     NaN    98.0                 NaN                  NaN          NaN   \n",
       "3     NaN    95.0                38.0                108.0          NaN   \n",
       "4   167.0    70.0                41.0                105.0          NaN   \n",
       "\n",
       "   Diastolic_BP  Bloodsugar_level  Blood_total_cholesterol  HDL_level  \\\n",
       "0           NaN               NaN                      NaN        NaN   \n",
       "1           NaN               NaN                      NaN        NaN   \n",
       "2           NaN               NaN                      NaN        NaN   \n",
       "3           NaN               NaN                      NaN        NaN   \n",
       "4           NaN               NaN                      NaN        NaN   \n",
       "\n",
       "   LDL_level  Triglycerides_level  Maxillofacial_profile        BMI  High_BP  \\\n",
       "0        NaN                  NaN                    0.0  36.289737      1.0   \n",
       "1        NaN                  NaN                    NaN        NaN      1.0   \n",
       "2        NaN                  NaN                    NaN        NaN      1.0   \n",
       "3        NaN                  NaN                    NaN        NaN      1.0   \n",
       "4        NaN                  NaN                    0.0  25.099502      1.0   \n",
       "\n",
       "     PH  \n",
       "0   NaN  \n",
       "1   NaN  \n",
       "2   NaN  \n",
       "3  7.46  \n",
       "4   NaN  "
      ]
     },
     "execution_count": 10,
     "metadata": {},
     "output_type": "execute_result"
    }
   ],
   "source": [
    "measurements_df = data[measurements]\n",
    "measurements_df.head()"
   ]
  },
  {
   "cell_type": "code",
   "execution_count": 11,
   "id": "13946b72",
   "metadata": {},
   "outputs": [],
   "source": [
    "comorbidities = ['Asthma','Rhinitis','COPD','Respiratory_fail','Myocardial_infarct','Coronary_fail','Arrhythmias','Stroke',\n",
    "                 'Heart_fail','Arteriopathy','Gastric_reflux','Glaucoma','Diabetes','Hypercholesterolemia','Hypertriglyceridemia',\n",
    "                 'Hypo(er)thyroidism','Depression','Obesity','Dysmorphology','Restless_Leg_Syndrome','Aerophagia']"
   ]
  },
  {
   "cell_type": "code",
   "execution_count": 12,
   "id": "4af48190",
   "metadata": {},
   "outputs": [
    {
     "data": {
      "text/html": [
       "<div>\n",
       "<style scoped>\n",
       "    .dataframe tbody tr th:only-of-type {\n",
       "        vertical-align: middle;\n",
       "    }\n",
       "\n",
       "    .dataframe tbody tr th {\n",
       "        vertical-align: top;\n",
       "    }\n",
       "\n",
       "    .dataframe thead th {\n",
       "        text-align: right;\n",
       "    }\n",
       "</style>\n",
       "<table border=\"1\" class=\"dataframe\">\n",
       "  <thead>\n",
       "    <tr style=\"text-align: right;\">\n",
       "      <th></th>\n",
       "      <th>Asthma</th>\n",
       "      <th>Rhinitis</th>\n",
       "      <th>COPD</th>\n",
       "      <th>Respiratory_fail</th>\n",
       "      <th>Myocardial_infarct</th>\n",
       "      <th>Coronary_fail</th>\n",
       "      <th>Arrhythmias</th>\n",
       "      <th>Stroke</th>\n",
       "      <th>Heart_fail</th>\n",
       "      <th>Arteriopathy</th>\n",
       "      <th>...</th>\n",
       "      <th>Glaucoma</th>\n",
       "      <th>Diabetes</th>\n",
       "      <th>Hypercholesterolemia</th>\n",
       "      <th>Hypertriglyceridemia</th>\n",
       "      <th>Hypo(er)thyroidism</th>\n",
       "      <th>Depression</th>\n",
       "      <th>Obesity</th>\n",
       "      <th>Dysmorphology</th>\n",
       "      <th>Restless_Leg_Syndrome</th>\n",
       "      <th>Aerophagia</th>\n",
       "    </tr>\n",
       "  </thead>\n",
       "  <tbody>\n",
       "    <tr>\n",
       "      <th>0</th>\n",
       "      <td>0.0</td>\n",
       "      <td>0.0</td>\n",
       "      <td>0.0</td>\n",
       "      <td>0.0</td>\n",
       "      <td>0.0</td>\n",
       "      <td>0.0</td>\n",
       "      <td>0.0</td>\n",
       "      <td>0.0</td>\n",
       "      <td>0.0</td>\n",
       "      <td>0.0</td>\n",
       "      <td>...</td>\n",
       "      <td>0.0</td>\n",
       "      <td>0.0</td>\n",
       "      <td>1.0</td>\n",
       "      <td>1.0</td>\n",
       "      <td>0.0</td>\n",
       "      <td>1.0</td>\n",
       "      <td>1.0</td>\n",
       "      <td>NaN</td>\n",
       "      <td>0.0</td>\n",
       "      <td>NaN</td>\n",
       "    </tr>\n",
       "    <tr>\n",
       "      <th>1</th>\n",
       "      <td>0.0</td>\n",
       "      <td>0.0</td>\n",
       "      <td>0.0</td>\n",
       "      <td>0.0</td>\n",
       "      <td>0.0</td>\n",
       "      <td>0.0</td>\n",
       "      <td>0.0</td>\n",
       "      <td>0.0</td>\n",
       "      <td>0.0</td>\n",
       "      <td>0.0</td>\n",
       "      <td>...</td>\n",
       "      <td>0.0</td>\n",
       "      <td>0.0</td>\n",
       "      <td>1.0</td>\n",
       "      <td>1.0</td>\n",
       "      <td>0.0</td>\n",
       "      <td>1.0</td>\n",
       "      <td>1.0</td>\n",
       "      <td>NaN</td>\n",
       "      <td>1.0</td>\n",
       "      <td>0.0</td>\n",
       "    </tr>\n",
       "    <tr>\n",
       "      <th>2</th>\n",
       "      <td>0.0</td>\n",
       "      <td>0.0</td>\n",
       "      <td>0.0</td>\n",
       "      <td>0.0</td>\n",
       "      <td>0.0</td>\n",
       "      <td>0.0</td>\n",
       "      <td>0.0</td>\n",
       "      <td>0.0</td>\n",
       "      <td>0.0</td>\n",
       "      <td>0.0</td>\n",
       "      <td>...</td>\n",
       "      <td>0.0</td>\n",
       "      <td>0.0</td>\n",
       "      <td>1.0</td>\n",
       "      <td>1.0</td>\n",
       "      <td>0.0</td>\n",
       "      <td>1.0</td>\n",
       "      <td>1.0</td>\n",
       "      <td>NaN</td>\n",
       "      <td>0.0</td>\n",
       "      <td>0.0</td>\n",
       "    </tr>\n",
       "    <tr>\n",
       "      <th>3</th>\n",
       "      <td>0.0</td>\n",
       "      <td>0.0</td>\n",
       "      <td>0.0</td>\n",
       "      <td>0.0</td>\n",
       "      <td>0.0</td>\n",
       "      <td>0.0</td>\n",
       "      <td>0.0</td>\n",
       "      <td>0.0</td>\n",
       "      <td>0.0</td>\n",
       "      <td>0.0</td>\n",
       "      <td>...</td>\n",
       "      <td>0.0</td>\n",
       "      <td>0.0</td>\n",
       "      <td>1.0</td>\n",
       "      <td>1.0</td>\n",
       "      <td>0.0</td>\n",
       "      <td>1.0</td>\n",
       "      <td>1.0</td>\n",
       "      <td>NaN</td>\n",
       "      <td>1.0</td>\n",
       "      <td>0.0</td>\n",
       "    </tr>\n",
       "    <tr>\n",
       "      <th>4</th>\n",
       "      <td>0.0</td>\n",
       "      <td>0.0</td>\n",
       "      <td>0.0</td>\n",
       "      <td>0.0</td>\n",
       "      <td>0.0</td>\n",
       "      <td>0.0</td>\n",
       "      <td>0.0</td>\n",
       "      <td>0.0</td>\n",
       "      <td>0.0</td>\n",
       "      <td>0.0</td>\n",
       "      <td>...</td>\n",
       "      <td>1.0</td>\n",
       "      <td>0.0</td>\n",
       "      <td>1.0</td>\n",
       "      <td>0.0</td>\n",
       "      <td>0.0</td>\n",
       "      <td>0.0</td>\n",
       "      <td>0.0</td>\n",
       "      <td>0.0</td>\n",
       "      <td>0.0</td>\n",
       "      <td>NaN</td>\n",
       "    </tr>\n",
       "  </tbody>\n",
       "</table>\n",
       "<p>5 rows × 21 columns</p>\n",
       "</div>"
      ],
      "text/plain": [
       "   Asthma  Rhinitis  COPD  Respiratory_fail  Myocardial_infarct  \\\n",
       "0     0.0       0.0   0.0               0.0                 0.0   \n",
       "1     0.0       0.0   0.0               0.0                 0.0   \n",
       "2     0.0       0.0   0.0               0.0                 0.0   \n",
       "3     0.0       0.0   0.0               0.0                 0.0   \n",
       "4     0.0       0.0   0.0               0.0                 0.0   \n",
       "\n",
       "   Coronary_fail  Arrhythmias  Stroke  Heart_fail  Arteriopathy  ...  \\\n",
       "0            0.0          0.0     0.0         0.0           0.0  ...   \n",
       "1            0.0          0.0     0.0         0.0           0.0  ...   \n",
       "2            0.0          0.0     0.0         0.0           0.0  ...   \n",
       "3            0.0          0.0     0.0         0.0           0.0  ...   \n",
       "4            0.0          0.0     0.0         0.0           0.0  ...   \n",
       "\n",
       "   Glaucoma  Diabetes  Hypercholesterolemia  Hypertriglyceridemia  \\\n",
       "0       0.0       0.0                   1.0                   1.0   \n",
       "1       0.0       0.0                   1.0                   1.0   \n",
       "2       0.0       0.0                   1.0                   1.0   \n",
       "3       0.0       0.0                   1.0                   1.0   \n",
       "4       1.0       0.0                   1.0                   0.0   \n",
       "\n",
       "   Hypo(er)thyroidism  Depression  Obesity  Dysmorphology  \\\n",
       "0                 0.0         1.0      1.0            NaN   \n",
       "1                 0.0         1.0      1.0            NaN   \n",
       "2                 0.0         1.0      1.0            NaN   \n",
       "3                 0.0         1.0      1.0            NaN   \n",
       "4                 0.0         0.0      0.0            0.0   \n",
       "\n",
       "   Restless_Leg_Syndrome  Aerophagia  \n",
       "0                    0.0         NaN  \n",
       "1                    1.0         0.0  \n",
       "2                    0.0         0.0  \n",
       "3                    1.0         0.0  \n",
       "4                    0.0         NaN  \n",
       "\n",
       "[5 rows x 21 columns]"
      ]
     },
     "execution_count": 12,
     "metadata": {},
     "output_type": "execute_result"
    }
   ],
   "source": [
    "comorbidities_df = data[comorbidities]\n",
    "comorbidities_df.head()"
   ]
  },
  {
   "cell_type": "code",
   "execution_count": 13,
   "id": "6c904cc7",
   "metadata": {},
   "outputs": [],
   "source": [
    "symptoms=['Snoring','Diurnal_somnolence','Driving_drowsiness','Morning_fatigue','Morning_headache','Memory_problem',\n",
    "          'Nocturnal_perspiration','Shortness_of_breath_on_exertion','Nocturia','Drowsiness_accident','Near_miss_accident',\n",
    "          'Respiratory_arrest','Skin_lesions']"
   ]
  },
  {
   "cell_type": "code",
   "execution_count": 14,
   "id": "4519b8ed",
   "metadata": {},
   "outputs": [
    {
     "data": {
      "text/html": [
       "<div>\n",
       "<style scoped>\n",
       "    .dataframe tbody tr th:only-of-type {\n",
       "        vertical-align: middle;\n",
       "    }\n",
       "\n",
       "    .dataframe tbody tr th {\n",
       "        vertical-align: top;\n",
       "    }\n",
       "\n",
       "    .dataframe thead th {\n",
       "        text-align: right;\n",
       "    }\n",
       "</style>\n",
       "<table border=\"1\" class=\"dataframe\">\n",
       "  <thead>\n",
       "    <tr style=\"text-align: right;\">\n",
       "      <th></th>\n",
       "      <th>Snoring</th>\n",
       "      <th>Diurnal_somnolence</th>\n",
       "      <th>Driving_drowsiness</th>\n",
       "      <th>Morning_fatigue</th>\n",
       "      <th>Morning_headache</th>\n",
       "      <th>Memory_problem</th>\n",
       "      <th>Nocturnal_perspiration</th>\n",
       "      <th>Shortness_of_breath_on_exertion</th>\n",
       "      <th>Nocturia</th>\n",
       "      <th>Drowsiness_accident</th>\n",
       "      <th>Near_miss_accident</th>\n",
       "      <th>Respiratory_arrest</th>\n",
       "      <th>Skin_lesions</th>\n",
       "    </tr>\n",
       "  </thead>\n",
       "  <tbody>\n",
       "    <tr>\n",
       "      <th>0</th>\n",
       "      <td>NaN</td>\n",
       "      <td>0.0</td>\n",
       "      <td>0.0</td>\n",
       "      <td>0.0</td>\n",
       "      <td>1.0</td>\n",
       "      <td>0.0</td>\n",
       "      <td>1.0</td>\n",
       "      <td>1.0</td>\n",
       "      <td>1.0</td>\n",
       "      <td>0.0</td>\n",
       "      <td>0.0</td>\n",
       "      <td>1.0</td>\n",
       "      <td>NaN</td>\n",
       "    </tr>\n",
       "    <tr>\n",
       "      <th>1</th>\n",
       "      <td>NaN</td>\n",
       "      <td>1.0</td>\n",
       "      <td>1.0</td>\n",
       "      <td>1.0</td>\n",
       "      <td>1.0</td>\n",
       "      <td>0.0</td>\n",
       "      <td>1.0</td>\n",
       "      <td>1.0</td>\n",
       "      <td>0.0</td>\n",
       "      <td>0.0</td>\n",
       "      <td>0.0</td>\n",
       "      <td>0.0</td>\n",
       "      <td>0.0</td>\n",
       "    </tr>\n",
       "    <tr>\n",
       "      <th>2</th>\n",
       "      <td>NaN</td>\n",
       "      <td>0.0</td>\n",
       "      <td>0.0</td>\n",
       "      <td>1.0</td>\n",
       "      <td>1.0</td>\n",
       "      <td>0.0</td>\n",
       "      <td>0.0</td>\n",
       "      <td>0.0</td>\n",
       "      <td>0.0</td>\n",
       "      <td>0.0</td>\n",
       "      <td>0.0</td>\n",
       "      <td>0.0</td>\n",
       "      <td>0.0</td>\n",
       "    </tr>\n",
       "    <tr>\n",
       "      <th>3</th>\n",
       "      <td>NaN</td>\n",
       "      <td>1.0</td>\n",
       "      <td>0.0</td>\n",
       "      <td>1.0</td>\n",
       "      <td>1.0</td>\n",
       "      <td>0.0</td>\n",
       "      <td>1.0</td>\n",
       "      <td>1.0</td>\n",
       "      <td>0.0</td>\n",
       "      <td>0.0</td>\n",
       "      <td>0.0</td>\n",
       "      <td>0.0</td>\n",
       "      <td>0.0</td>\n",
       "    </tr>\n",
       "    <tr>\n",
       "      <th>4</th>\n",
       "      <td>1.0</td>\n",
       "      <td>1.0</td>\n",
       "      <td>0.0</td>\n",
       "      <td>0.0</td>\n",
       "      <td>0.0</td>\n",
       "      <td>0.0</td>\n",
       "      <td>0.0</td>\n",
       "      <td>0.0</td>\n",
       "      <td>1.0</td>\n",
       "      <td>0.0</td>\n",
       "      <td>0.0</td>\n",
       "      <td>0.0</td>\n",
       "      <td>NaN</td>\n",
       "    </tr>\n",
       "  </tbody>\n",
       "</table>\n",
       "</div>"
      ],
      "text/plain": [
       "   Snoring  Diurnal_somnolence  Driving_drowsiness  Morning_fatigue  \\\n",
       "0      NaN                 0.0                 0.0              0.0   \n",
       "1      NaN                 1.0                 1.0              1.0   \n",
       "2      NaN                 0.0                 0.0              1.0   \n",
       "3      NaN                 1.0                 0.0              1.0   \n",
       "4      1.0                 1.0                 0.0              0.0   \n",
       "\n",
       "   Morning_headache  Memory_problem  Nocturnal_perspiration  \\\n",
       "0               1.0             0.0                     1.0   \n",
       "1               1.0             0.0                     1.0   \n",
       "2               1.0             0.0                     0.0   \n",
       "3               1.0             0.0                     1.0   \n",
       "4               0.0             0.0                     0.0   \n",
       "\n",
       "   Shortness_of_breath_on_exertion  Nocturia  Drowsiness_accident  \\\n",
       "0                              1.0       1.0                  0.0   \n",
       "1                              1.0       0.0                  0.0   \n",
       "2                              0.0       0.0                  0.0   \n",
       "3                              1.0       0.0                  0.0   \n",
       "4                              0.0       1.0                  0.0   \n",
       "\n",
       "   Near_miss_accident  Respiratory_arrest  Skin_lesions  \n",
       "0                 0.0                 1.0           NaN  \n",
       "1                 0.0                 0.0           0.0  \n",
       "2                 0.0                 0.0           0.0  \n",
       "3                 0.0                 0.0           0.0  \n",
       "4                 0.0                 0.0           NaN  "
      ]
     },
     "execution_count": 14,
     "metadata": {},
     "output_type": "execute_result"
    }
   ],
   "source": [
    "symptoms_df = data[symptoms]\n",
    "symptoms_df.head()"
   ]
  },
  {
   "cell_type": "code",
   "execution_count": 15,
   "id": "926c436d",
   "metadata": {},
   "outputs": [],
   "source": [
    "treatments =['ENT_surgery','CPAP','Two_levels_pressure_ventilation','Assisted_Servoventilation','Mandibular_advance_orthosis',\n",
    "             'Oxygen_therapy','MaxilloFacial_surgery','Drug_treatment_Modafinil','RLS_drug_treatment','Other_treatments',\n",
    "             'Diet','Smoking_cessation','Reduction_alcohol_consumption','Physical_activity','Humidifier']\n"
   ]
  },
  {
   "cell_type": "code",
   "execution_count": 16,
   "id": "2fd91dca",
   "metadata": {},
   "outputs": [
    {
     "data": {
      "text/html": [
       "<div>\n",
       "<style scoped>\n",
       "    .dataframe tbody tr th:only-of-type {\n",
       "        vertical-align: middle;\n",
       "    }\n",
       "\n",
       "    .dataframe tbody tr th {\n",
       "        vertical-align: top;\n",
       "    }\n",
       "\n",
       "    .dataframe thead th {\n",
       "        text-align: right;\n",
       "    }\n",
       "</style>\n",
       "<table border=\"1\" class=\"dataframe\">\n",
       "  <thead>\n",
       "    <tr style=\"text-align: right;\">\n",
       "      <th></th>\n",
       "      <th>ENT_surgery</th>\n",
       "      <th>CPAP</th>\n",
       "      <th>Two_levels_pressure_ventilation</th>\n",
       "      <th>Assisted_Servoventilation</th>\n",
       "      <th>Mandibular_advance_orthosis</th>\n",
       "      <th>Oxygen_therapy</th>\n",
       "      <th>MaxilloFacial_surgery</th>\n",
       "      <th>Drug_treatment_Modafinil</th>\n",
       "      <th>RLS_drug_treatment</th>\n",
       "      <th>Other_treatments</th>\n",
       "      <th>Diet</th>\n",
       "      <th>Smoking_cessation</th>\n",
       "      <th>Reduction_alcohol_consumption</th>\n",
       "      <th>Physical_activity</th>\n",
       "      <th>Humidifier</th>\n",
       "    </tr>\n",
       "  </thead>\n",
       "  <tbody>\n",
       "    <tr>\n",
       "      <th>0</th>\n",
       "      <td>0.0</td>\n",
       "      <td>0.0</td>\n",
       "      <td>0.0</td>\n",
       "      <td>0.0</td>\n",
       "      <td>0.0</td>\n",
       "      <td>0.0</td>\n",
       "      <td>0.0</td>\n",
       "      <td>0.0</td>\n",
       "      <td>0.0</td>\n",
       "      <td>0.0</td>\n",
       "      <td>NaN</td>\n",
       "      <td>NaN</td>\n",
       "      <td>NaN</td>\n",
       "      <td>NaN</td>\n",
       "      <td>NaN</td>\n",
       "    </tr>\n",
       "    <tr>\n",
       "      <th>1</th>\n",
       "      <td>0.0</td>\n",
       "      <td>NaN</td>\n",
       "      <td>NaN</td>\n",
       "      <td>NaN</td>\n",
       "      <td>NaN</td>\n",
       "      <td>NaN</td>\n",
       "      <td>NaN</td>\n",
       "      <td>NaN</td>\n",
       "      <td>NaN</td>\n",
       "      <td>NaN</td>\n",
       "      <td>0.0</td>\n",
       "      <td>0.0</td>\n",
       "      <td>0.0</td>\n",
       "      <td>0.0</td>\n",
       "      <td>0.0</td>\n",
       "    </tr>\n",
       "    <tr>\n",
       "      <th>2</th>\n",
       "      <td>0.0</td>\n",
       "      <td>NaN</td>\n",
       "      <td>NaN</td>\n",
       "      <td>NaN</td>\n",
       "      <td>NaN</td>\n",
       "      <td>NaN</td>\n",
       "      <td>NaN</td>\n",
       "      <td>NaN</td>\n",
       "      <td>NaN</td>\n",
       "      <td>NaN</td>\n",
       "      <td>0.0</td>\n",
       "      <td>1.0</td>\n",
       "      <td>NaN</td>\n",
       "      <td>1.0</td>\n",
       "      <td>0.0</td>\n",
       "    </tr>\n",
       "    <tr>\n",
       "      <th>3</th>\n",
       "      <td>0.0</td>\n",
       "      <td>NaN</td>\n",
       "      <td>NaN</td>\n",
       "      <td>NaN</td>\n",
       "      <td>NaN</td>\n",
       "      <td>NaN</td>\n",
       "      <td>NaN</td>\n",
       "      <td>NaN</td>\n",
       "      <td>NaN</td>\n",
       "      <td>NaN</td>\n",
       "      <td>0.0</td>\n",
       "      <td>0.0</td>\n",
       "      <td>0.0</td>\n",
       "      <td>0.0</td>\n",
       "      <td>0.0</td>\n",
       "    </tr>\n",
       "    <tr>\n",
       "      <th>4</th>\n",
       "      <td>0.0</td>\n",
       "      <td>0.0</td>\n",
       "      <td>0.0</td>\n",
       "      <td>0.0</td>\n",
       "      <td>0.0</td>\n",
       "      <td>0.0</td>\n",
       "      <td>0.0</td>\n",
       "      <td>0.0</td>\n",
       "      <td>0.0</td>\n",
       "      <td>0.0</td>\n",
       "      <td>NaN</td>\n",
       "      <td>NaN</td>\n",
       "      <td>NaN</td>\n",
       "      <td>NaN</td>\n",
       "      <td>NaN</td>\n",
       "    </tr>\n",
       "  </tbody>\n",
       "</table>\n",
       "</div>"
      ],
      "text/plain": [
       "   ENT_surgery  CPAP  Two_levels_pressure_ventilation  \\\n",
       "0          0.0   0.0                              0.0   \n",
       "1          0.0   NaN                              NaN   \n",
       "2          0.0   NaN                              NaN   \n",
       "3          0.0   NaN                              NaN   \n",
       "4          0.0   0.0                              0.0   \n",
       "\n",
       "   Assisted_Servoventilation  Mandibular_advance_orthosis  Oxygen_therapy  \\\n",
       "0                        0.0                          0.0             0.0   \n",
       "1                        NaN                          NaN             NaN   \n",
       "2                        NaN                          NaN             NaN   \n",
       "3                        NaN                          NaN             NaN   \n",
       "4                        0.0                          0.0             0.0   \n",
       "\n",
       "   MaxilloFacial_surgery  Drug_treatment_Modafinil  RLS_drug_treatment  \\\n",
       "0                    0.0                       0.0                 0.0   \n",
       "1                    NaN                       NaN                 NaN   \n",
       "2                    NaN                       NaN                 NaN   \n",
       "3                    NaN                       NaN                 NaN   \n",
       "4                    0.0                       0.0                 0.0   \n",
       "\n",
       "   Other_treatments  Diet  Smoking_cessation  Reduction_alcohol_consumption  \\\n",
       "0               0.0   NaN                NaN                            NaN   \n",
       "1               NaN   0.0                0.0                            0.0   \n",
       "2               NaN   0.0                1.0                            NaN   \n",
       "3               NaN   0.0                0.0                            0.0   \n",
       "4               0.0   NaN                NaN                            NaN   \n",
       "\n",
       "   Physical_activity  Humidifier  \n",
       "0                NaN         NaN  \n",
       "1                0.0         0.0  \n",
       "2                1.0         0.0  \n",
       "3                0.0         0.0  \n",
       "4                NaN         NaN  "
      ]
     },
     "execution_count": 16,
     "metadata": {},
     "output_type": "execute_result"
    }
   ],
   "source": [
    "treatments_df = data[treatments]\n",
    "treatments_df.head()"
   ]
  },
  {
   "cell_type": "code",
   "execution_count": 17,
   "id": "f85f953d",
   "metadata": {},
   "outputs": [],
   "source": [
    "questionnaires = ['Epworth_scale','Pichots_scale','Depression_scale']"
   ]
  },
  {
   "cell_type": "code",
   "execution_count": 18,
   "id": "4b30db82",
   "metadata": {},
   "outputs": [
    {
     "data": {
      "text/html": [
       "<div>\n",
       "<style scoped>\n",
       "    .dataframe tbody tr th:only-of-type {\n",
       "        vertical-align: middle;\n",
       "    }\n",
       "\n",
       "    .dataframe tbody tr th {\n",
       "        vertical-align: top;\n",
       "    }\n",
       "\n",
       "    .dataframe thead th {\n",
       "        text-align: right;\n",
       "    }\n",
       "</style>\n",
       "<table border=\"1\" class=\"dataframe\">\n",
       "  <thead>\n",
       "    <tr style=\"text-align: right;\">\n",
       "      <th></th>\n",
       "      <th>Epworth_scale</th>\n",
       "      <th>Pichots_scale</th>\n",
       "      <th>Depression_scale</th>\n",
       "    </tr>\n",
       "  </thead>\n",
       "  <tbody>\n",
       "    <tr>\n",
       "      <th>0</th>\n",
       "      <td>6.0</td>\n",
       "      <td>24.0</td>\n",
       "      <td>10.0</td>\n",
       "    </tr>\n",
       "    <tr>\n",
       "      <th>1</th>\n",
       "      <td>8.0</td>\n",
       "      <td>25.0</td>\n",
       "      <td>9.0</td>\n",
       "    </tr>\n",
       "    <tr>\n",
       "      <th>2</th>\n",
       "      <td>2.0</td>\n",
       "      <td>24.0</td>\n",
       "      <td>12.0</td>\n",
       "    </tr>\n",
       "    <tr>\n",
       "      <th>3</th>\n",
       "      <td>8.0</td>\n",
       "      <td>24.0</td>\n",
       "      <td>11.0</td>\n",
       "    </tr>\n",
       "    <tr>\n",
       "      <th>4</th>\n",
       "      <td>5.0</td>\n",
       "      <td>3.0</td>\n",
       "      <td>6.0</td>\n",
       "    </tr>\n",
       "  </tbody>\n",
       "</table>\n",
       "</div>"
      ],
      "text/plain": [
       "   Epworth_scale  Pichots_scale  Depression_scale\n",
       "0            6.0           24.0              10.0\n",
       "1            8.0           25.0               9.0\n",
       "2            2.0           24.0              12.0\n",
       "3            8.0           24.0              11.0\n",
       "4            5.0            3.0               6.0"
      ]
     },
     "execution_count": 18,
     "metadata": {},
     "output_type": "execute_result"
    }
   ],
   "source": [
    "questionnaires_df = data[questionnaires]\n",
    "questionnaires_df.head()"
   ]
  },
  {
   "cell_type": "code",
   "execution_count": 19,
   "id": "b443ba5e",
   "metadata": {},
   "outputs": [],
   "source": [
    "psg = ['Corrected_average_duration_sleep','Spirometry','FEV1',\n",
    "         'Inspiratory_capacity','PAO2','PACO2','Number_oxygen_desaturation','Mean_oxygen_saturation',\n",
    "         'Corrected_saturation_cumulated_time','Health_state_scale_doctor']"
   ]
  },
  {
   "cell_type": "code",
   "execution_count": 20,
   "id": "9c102f7a",
   "metadata": {},
   "outputs": [
    {
     "data": {
      "text/html": [
       "<div>\n",
       "<style scoped>\n",
       "    .dataframe tbody tr th:only-of-type {\n",
       "        vertical-align: middle;\n",
       "    }\n",
       "\n",
       "    .dataframe tbody tr th {\n",
       "        vertical-align: top;\n",
       "    }\n",
       "\n",
       "    .dataframe thead th {\n",
       "        text-align: right;\n",
       "    }\n",
       "</style>\n",
       "<table border=\"1\" class=\"dataframe\">\n",
       "  <thead>\n",
       "    <tr style=\"text-align: right;\">\n",
       "      <th></th>\n",
       "      <th>Corrected_average_duration_sleep</th>\n",
       "      <th>Spirometry</th>\n",
       "      <th>FEV1</th>\n",
       "      <th>Inspiratory_capacity</th>\n",
       "      <th>PAO2</th>\n",
       "      <th>PACO2</th>\n",
       "      <th>Number_oxygen_desaturation</th>\n",
       "      <th>Mean_oxygen_saturation</th>\n",
       "      <th>Corrected_saturation_cumulated_time</th>\n",
       "      <th>Health_state_scale_doctor</th>\n",
       "    </tr>\n",
       "  </thead>\n",
       "  <tbody>\n",
       "    <tr>\n",
       "      <th>0</th>\n",
       "      <td>NaN</td>\n",
       "      <td>NaN</td>\n",
       "      <td>NaN</td>\n",
       "      <td>NaN</td>\n",
       "      <td>NaN</td>\n",
       "      <td>NaN</td>\n",
       "      <td>5.0</td>\n",
       "      <td>96.0</td>\n",
       "      <td>NaN</td>\n",
       "      <td>NaN</td>\n",
       "    </tr>\n",
       "    <tr>\n",
       "      <th>1</th>\n",
       "      <td>NaN</td>\n",
       "      <td>NaN</td>\n",
       "      <td>NaN</td>\n",
       "      <td>NaN</td>\n",
       "      <td>NaN</td>\n",
       "      <td>NaN</td>\n",
       "      <td>NaN</td>\n",
       "      <td>NaN</td>\n",
       "      <td>NaN</td>\n",
       "      <td>NaN</td>\n",
       "    </tr>\n",
       "    <tr>\n",
       "      <th>2</th>\n",
       "      <td>06:00</td>\n",
       "      <td>NaN</td>\n",
       "      <td>NaN</td>\n",
       "      <td>NaN</td>\n",
       "      <td>NaN</td>\n",
       "      <td>NaN</td>\n",
       "      <td>NaN</td>\n",
       "      <td>NaN</td>\n",
       "      <td>NaN</td>\n",
       "      <td>NaN</td>\n",
       "    </tr>\n",
       "    <tr>\n",
       "      <th>3</th>\n",
       "      <td>NaN</td>\n",
       "      <td>NaN</td>\n",
       "      <td>83.0</td>\n",
       "      <td>2.29</td>\n",
       "      <td>89.0</td>\n",
       "      <td>31.0</td>\n",
       "      <td>NaN</td>\n",
       "      <td>NaN</td>\n",
       "      <td>NaN</td>\n",
       "      <td>96.0</td>\n",
       "    </tr>\n",
       "    <tr>\n",
       "      <th>4</th>\n",
       "      <td>NaN</td>\n",
       "      <td>NaN</td>\n",
       "      <td>NaN</td>\n",
       "      <td>NaN</td>\n",
       "      <td>NaN</td>\n",
       "      <td>NaN</td>\n",
       "      <td>NaN</td>\n",
       "      <td>NaN</td>\n",
       "      <td>NaN</td>\n",
       "      <td>NaN</td>\n",
       "    </tr>\n",
       "  </tbody>\n",
       "</table>\n",
       "</div>"
      ],
      "text/plain": [
       "  Corrected_average_duration_sleep  Spirometry  FEV1  Inspiratory_capacity  \\\n",
       "0                              NaN         NaN   NaN                   NaN   \n",
       "1                              NaN         NaN   NaN                   NaN   \n",
       "2                            06:00         NaN   NaN                   NaN   \n",
       "3                              NaN         NaN  83.0                  2.29   \n",
       "4                              NaN         NaN   NaN                   NaN   \n",
       "\n",
       "   PAO2  PACO2  Number_oxygen_desaturation  Mean_oxygen_saturation  \\\n",
       "0   NaN    NaN                         5.0                    96.0   \n",
       "1   NaN    NaN                         NaN                     NaN   \n",
       "2   NaN    NaN                         NaN                     NaN   \n",
       "3  89.0   31.0                         NaN                     NaN   \n",
       "4   NaN    NaN                         NaN                     NaN   \n",
       "\n",
       "  Corrected_saturation_cumulated_time  Health_state_scale_doctor  \n",
       "0                                 NaN                        NaN  \n",
       "1                                 NaN                        NaN  \n",
       "2                                 NaN                        NaN  \n",
       "3                                 NaN                       96.0  \n",
       "4                                 NaN                        NaN  "
      ]
     },
     "execution_count": 20,
     "metadata": {},
     "output_type": "execute_result"
    }
   ],
   "source": [
    "psg_df = data[psg]\n",
    "psg_df.head()"
   ]
  },
  {
   "cell_type": "code",
   "execution_count": 21,
   "id": "59f2d5e9",
   "metadata": {},
   "outputs": [],
   "source": [
    "diagnoses= ['Sleep_apnea_syndrome','Obstructive_sleep_apnea','Central_sleep_apnea','Mixed_sleep_apnea','Other_sleep_disorder',\n",
    "        'Hygiene-Dietetictips','Apnea_hypopnea_index','Microawakening_index','Residual_apnea_hypopnea']"
   ]
  },
  {
   "cell_type": "code",
   "execution_count": 22,
   "id": "7e4ca380",
   "metadata": {},
   "outputs": [
    {
     "data": {
      "text/html": [
       "<div>\n",
       "<style scoped>\n",
       "    .dataframe tbody tr th:only-of-type {\n",
       "        vertical-align: middle;\n",
       "    }\n",
       "\n",
       "    .dataframe tbody tr th {\n",
       "        vertical-align: top;\n",
       "    }\n",
       "\n",
       "    .dataframe thead th {\n",
       "        text-align: right;\n",
       "    }\n",
       "</style>\n",
       "<table border=\"1\" class=\"dataframe\">\n",
       "  <thead>\n",
       "    <tr style=\"text-align: right;\">\n",
       "      <th></th>\n",
       "      <th>Sleep_apnea_syndrome</th>\n",
       "      <th>Obstructive_sleep_apnea</th>\n",
       "      <th>Central_sleep_apnea</th>\n",
       "      <th>Mixed_sleep_apnea</th>\n",
       "      <th>Other_sleep_disorder</th>\n",
       "      <th>Hygiene-Dietetictips</th>\n",
       "      <th>Apnea_hypopnea_index</th>\n",
       "      <th>Microawakening_index</th>\n",
       "      <th>Residual_apnea_hypopnea</th>\n",
       "    </tr>\n",
       "  </thead>\n",
       "  <tbody>\n",
       "    <tr>\n",
       "      <th>0</th>\n",
       "      <td>1.0</td>\n",
       "      <td>0.0</td>\n",
       "      <td>0.0</td>\n",
       "      <td>0.0</td>\n",
       "      <td>0.0</td>\n",
       "      <td>0.0</td>\n",
       "      <td>8.0</td>\n",
       "      <td>8.0</td>\n",
       "      <td>NaN</td>\n",
       "    </tr>\n",
       "    <tr>\n",
       "      <th>1</th>\n",
       "      <td>1.0</td>\n",
       "      <td>NaN</td>\n",
       "      <td>NaN</td>\n",
       "      <td>NaN</td>\n",
       "      <td>NaN</td>\n",
       "      <td>NaN</td>\n",
       "      <td>NaN</td>\n",
       "      <td>NaN</td>\n",
       "      <td>NaN</td>\n",
       "    </tr>\n",
       "    <tr>\n",
       "      <th>2</th>\n",
       "      <td>1.0</td>\n",
       "      <td>NaN</td>\n",
       "      <td>NaN</td>\n",
       "      <td>NaN</td>\n",
       "      <td>NaN</td>\n",
       "      <td>NaN</td>\n",
       "      <td>NaN</td>\n",
       "      <td>NaN</td>\n",
       "      <td>NaN</td>\n",
       "    </tr>\n",
       "    <tr>\n",
       "      <th>3</th>\n",
       "      <td>1.0</td>\n",
       "      <td>NaN</td>\n",
       "      <td>NaN</td>\n",
       "      <td>NaN</td>\n",
       "      <td>NaN</td>\n",
       "      <td>NaN</td>\n",
       "      <td>NaN</td>\n",
       "      <td>NaN</td>\n",
       "      <td>NaN</td>\n",
       "    </tr>\n",
       "    <tr>\n",
       "      <th>4</th>\n",
       "      <td>0.0</td>\n",
       "      <td>0.0</td>\n",
       "      <td>0.0</td>\n",
       "      <td>0.0</td>\n",
       "      <td>0.0</td>\n",
       "      <td>0.0</td>\n",
       "      <td>NaN</td>\n",
       "      <td>NaN</td>\n",
       "      <td>NaN</td>\n",
       "    </tr>\n",
       "  </tbody>\n",
       "</table>\n",
       "</div>"
      ],
      "text/plain": [
       "   Sleep_apnea_syndrome  Obstructive_sleep_apnea  Central_sleep_apnea  \\\n",
       "0                   1.0                      0.0                  0.0   \n",
       "1                   1.0                      NaN                  NaN   \n",
       "2                   1.0                      NaN                  NaN   \n",
       "3                   1.0                      NaN                  NaN   \n",
       "4                   0.0                      0.0                  0.0   \n",
       "\n",
       "   Mixed_sleep_apnea  Other_sleep_disorder  Hygiene-Dietetictips  \\\n",
       "0                0.0                   0.0                   0.0   \n",
       "1                NaN                   NaN                   NaN   \n",
       "2                NaN                   NaN                   NaN   \n",
       "3                NaN                   NaN                   NaN   \n",
       "4                0.0                   0.0                   0.0   \n",
       "\n",
       "   Apnea_hypopnea_index  Microawakening_index  Residual_apnea_hypopnea  \n",
       "0                   8.0                   8.0                      NaN  \n",
       "1                   NaN                   NaN                      NaN  \n",
       "2                   NaN                   NaN                      NaN  \n",
       "3                   NaN                   NaN                      NaN  \n",
       "4                   NaN                   NaN                      NaN  "
      ]
     },
     "execution_count": 22,
     "metadata": {},
     "output_type": "execute_result"
    }
   ],
   "source": [
    "diagnoses_df = data[diagnoses]\n",
    "diagnoses_df.head()"
   ]
  },
  {
   "cell_type": "markdown",
   "id": "76e3b530",
   "metadata": {},
   "source": [
    "## Combining dataframes into a new df for analysis with everything except diagnosis data"
   ]
  },
  {
   "cell_type": "code",
   "execution_count": 23,
   "id": "aba30190",
   "metadata": {},
   "outputs": [],
   "source": [
    "osa_all = [demographic_df,measurements_df,comorbidities_df, symptoms_df,treatments_df, questionnaires_df, psg_df, data['Apnea_hypopnea_index']] # this is a list\n",
    "osa_all_df = pd.concat(osa_all, axis=1)   # this is a dataframe\n"
   ]
  },
  {
   "cell_type": "code",
   "execution_count": 24,
   "id": "a909750a",
   "metadata": {},
   "outputs": [
    {
     "data": {
      "text/html": [
       "<div>\n",
       "<style scoped>\n",
       "    .dataframe tbody tr th:only-of-type {\n",
       "        vertical-align: middle;\n",
       "    }\n",
       "\n",
       "    .dataframe tbody tr th {\n",
       "        vertical-align: top;\n",
       "    }\n",
       "\n",
       "    .dataframe thead th {\n",
       "        text-align: right;\n",
       "    }\n",
       "</style>\n",
       "<table border=\"1\" class=\"dataframe\">\n",
       "  <thead>\n",
       "    <tr style=\"text-align: right;\">\n",
       "      <th></th>\n",
       "      <th>PatientID</th>\n",
       "      <th>Sex</th>\n",
       "      <th>Age</th>\n",
       "      <th>Current_smoker</th>\n",
       "      <th>Former_smoker</th>\n",
       "      <th>Sedentary</th>\n",
       "      <th>Height</th>\n",
       "      <th>Weight</th>\n",
       "      <th>Cervical_perimeter</th>\n",
       "      <th>Abdominal_perimeter</th>\n",
       "      <th>...</th>\n",
       "      <th>Spirometry</th>\n",
       "      <th>FEV1</th>\n",
       "      <th>Inspiratory_capacity</th>\n",
       "      <th>PAO2</th>\n",
       "      <th>PACO2</th>\n",
       "      <th>Number_oxygen_desaturation</th>\n",
       "      <th>Mean_oxygen_saturation</th>\n",
       "      <th>Corrected_saturation_cumulated_time</th>\n",
       "      <th>Health_state_scale_doctor</th>\n",
       "      <th>Apnea_hypopnea_index</th>\n",
       "    </tr>\n",
       "  </thead>\n",
       "  <tbody>\n",
       "    <tr>\n",
       "      <th>0</th>\n",
       "      <td>1</td>\n",
       "      <td>2.0</td>\n",
       "      <td>35.167693</td>\n",
       "      <td>0.0</td>\n",
       "      <td>1.0</td>\n",
       "      <td>0.0</td>\n",
       "      <td>166.0</td>\n",
       "      <td>100.0</td>\n",
       "      <td>35.0</td>\n",
       "      <td>114.0</td>\n",
       "      <td>...</td>\n",
       "      <td>NaN</td>\n",
       "      <td>NaN</td>\n",
       "      <td>NaN</td>\n",
       "      <td>NaN</td>\n",
       "      <td>NaN</td>\n",
       "      <td>5.0</td>\n",
       "      <td>96.0</td>\n",
       "      <td>NaN</td>\n",
       "      <td>NaN</td>\n",
       "      <td>8.0</td>\n",
       "    </tr>\n",
       "    <tr>\n",
       "      <th>1</th>\n",
       "      <td>1</td>\n",
       "      <td>NaN</td>\n",
       "      <td>36.522929</td>\n",
       "      <td>0.0</td>\n",
       "      <td>1.0</td>\n",
       "      <td>0.0</td>\n",
       "      <td>NaN</td>\n",
       "      <td>95.0</td>\n",
       "      <td>NaN</td>\n",
       "      <td>104.0</td>\n",
       "      <td>...</td>\n",
       "      <td>NaN</td>\n",
       "      <td>NaN</td>\n",
       "      <td>NaN</td>\n",
       "      <td>NaN</td>\n",
       "      <td>NaN</td>\n",
       "      <td>NaN</td>\n",
       "      <td>NaN</td>\n",
       "      <td>NaN</td>\n",
       "      <td>NaN</td>\n",
       "      <td>NaN</td>\n",
       "    </tr>\n",
       "    <tr>\n",
       "      <th>2</th>\n",
       "      <td>1</td>\n",
       "      <td>NaN</td>\n",
       "      <td>36.591376</td>\n",
       "      <td>0.0</td>\n",
       "      <td>1.0</td>\n",
       "      <td>0.0</td>\n",
       "      <td>NaN</td>\n",
       "      <td>98.0</td>\n",
       "      <td>NaN</td>\n",
       "      <td>NaN</td>\n",
       "      <td>...</td>\n",
       "      <td>NaN</td>\n",
       "      <td>NaN</td>\n",
       "      <td>NaN</td>\n",
       "      <td>NaN</td>\n",
       "      <td>NaN</td>\n",
       "      <td>NaN</td>\n",
       "      <td>NaN</td>\n",
       "      <td>NaN</td>\n",
       "      <td>NaN</td>\n",
       "      <td>NaN</td>\n",
       "    </tr>\n",
       "    <tr>\n",
       "      <th>3</th>\n",
       "      <td>1</td>\n",
       "      <td>NaN</td>\n",
       "      <td>38.576318</td>\n",
       "      <td>0.0</td>\n",
       "      <td>1.0</td>\n",
       "      <td>0.0</td>\n",
       "      <td>NaN</td>\n",
       "      <td>95.0</td>\n",
       "      <td>38.0</td>\n",
       "      <td>108.0</td>\n",
       "      <td>...</td>\n",
       "      <td>NaN</td>\n",
       "      <td>83.0</td>\n",
       "      <td>2.29</td>\n",
       "      <td>89.0</td>\n",
       "      <td>31.0</td>\n",
       "      <td>NaN</td>\n",
       "      <td>NaN</td>\n",
       "      <td>NaN</td>\n",
       "      <td>96.0</td>\n",
       "      <td>NaN</td>\n",
       "    </tr>\n",
       "    <tr>\n",
       "      <th>4</th>\n",
       "      <td>2</td>\n",
       "      <td>1.0</td>\n",
       "      <td>75.252567</td>\n",
       "      <td>0.0</td>\n",
       "      <td>0.0</td>\n",
       "      <td>1.0</td>\n",
       "      <td>167.0</td>\n",
       "      <td>70.0</td>\n",
       "      <td>41.0</td>\n",
       "      <td>105.0</td>\n",
       "      <td>...</td>\n",
       "      <td>NaN</td>\n",
       "      <td>NaN</td>\n",
       "      <td>NaN</td>\n",
       "      <td>NaN</td>\n",
       "      <td>NaN</td>\n",
       "      <td>NaN</td>\n",
       "      <td>NaN</td>\n",
       "      <td>NaN</td>\n",
       "      <td>NaN</td>\n",
       "      <td>NaN</td>\n",
       "    </tr>\n",
       "  </tbody>\n",
       "</table>\n",
       "<p>5 rows × 84 columns</p>\n",
       "</div>"
      ],
      "text/plain": [
       "   PatientID  Sex        Age  Current_smoker  Former_smoker  Sedentary  \\\n",
       "0          1  2.0  35.167693             0.0            1.0        0.0   \n",
       "1          1  NaN  36.522929             0.0            1.0        0.0   \n",
       "2          1  NaN  36.591376             0.0            1.0        0.0   \n",
       "3          1  NaN  38.576318             0.0            1.0        0.0   \n",
       "4          2  1.0  75.252567             0.0            0.0        1.0   \n",
       "\n",
       "   Height  Weight  Cervical_perimeter  Abdominal_perimeter  ...  Spirometry  \\\n",
       "0   166.0   100.0                35.0                114.0  ...         NaN   \n",
       "1     NaN    95.0                 NaN                104.0  ...         NaN   \n",
       "2     NaN    98.0                 NaN                  NaN  ...         NaN   \n",
       "3     NaN    95.0                38.0                108.0  ...         NaN   \n",
       "4   167.0    70.0                41.0                105.0  ...         NaN   \n",
       "\n",
       "   FEV1  Inspiratory_capacity  PAO2  PACO2  Number_oxygen_desaturation  \\\n",
       "0   NaN                   NaN   NaN    NaN                         5.0   \n",
       "1   NaN                   NaN   NaN    NaN                         NaN   \n",
       "2   NaN                   NaN   NaN    NaN                         NaN   \n",
       "3  83.0                  2.29  89.0   31.0                         NaN   \n",
       "4   NaN                   NaN   NaN    NaN                         NaN   \n",
       "\n",
       "   Mean_oxygen_saturation  Corrected_saturation_cumulated_time  \\\n",
       "0                    96.0                                  NaN   \n",
       "1                     NaN                                  NaN   \n",
       "2                     NaN                                  NaN   \n",
       "3                     NaN                                  NaN   \n",
       "4                     NaN                                  NaN   \n",
       "\n",
       "   Health_state_scale_doctor  Apnea_hypopnea_index  \n",
       "0                        NaN                   8.0  \n",
       "1                        NaN                   NaN  \n",
       "2                        NaN                   NaN  \n",
       "3                       96.0                   NaN  \n",
       "4                        NaN                   NaN  \n",
       "\n",
       "[5 rows x 84 columns]"
      ]
     },
     "execution_count": 24,
     "metadata": {},
     "output_type": "execute_result"
    }
   ],
   "source": [
    "osa_all_df.head()"
   ]
  },
  {
   "cell_type": "code",
   "execution_count": 25,
   "id": "a31ca60b",
   "metadata": {},
   "outputs": [
    {
     "data": {
      "text/plain": [
       "(190537, 84)"
      ]
     },
     "execution_count": 25,
     "metadata": {},
     "output_type": "execute_result"
    }
   ],
   "source": [
    "osa_all_df.shape"
   ]
  },
  {
   "cell_type": "code",
   "execution_count": 26,
   "id": "1b0ad5fc",
   "metadata": {},
   "outputs": [],
   "source": [
    "osa_all_df.drop_duplicates(subset =\"PatientID\", keep = 'first', inplace = True) # this drops repeated Patient ID rows and only keeps the 1st instance"
   ]
  },
  {
   "cell_type": "code",
   "execution_count": 27,
   "id": "a550ae92",
   "metadata": {},
   "outputs": [
    {
     "data": {
      "text/plain": [
       "(111194, 84)"
      ]
     },
     "execution_count": 27,
     "metadata": {},
     "output_type": "execute_result"
    }
   ],
   "source": [
    "osa_all_df.shape"
   ]
  },
  {
   "cell_type": "code",
   "execution_count": 28,
   "id": "5877d9ee",
   "metadata": {},
   "outputs": [
    {
     "data": {
      "text/html": [
       "<div>\n",
       "<style scoped>\n",
       "    .dataframe tbody tr th:only-of-type {\n",
       "        vertical-align: middle;\n",
       "    }\n",
       "\n",
       "    .dataframe tbody tr th {\n",
       "        vertical-align: top;\n",
       "    }\n",
       "\n",
       "    .dataframe thead th {\n",
       "        text-align: right;\n",
       "    }\n",
       "</style>\n",
       "<table border=\"1\" class=\"dataframe\">\n",
       "  <thead>\n",
       "    <tr style=\"text-align: right;\">\n",
       "      <th></th>\n",
       "      <th>PatientID</th>\n",
       "      <th>Sex</th>\n",
       "      <th>Age</th>\n",
       "      <th>Current_smoker</th>\n",
       "      <th>Former_smoker</th>\n",
       "      <th>Sedentary</th>\n",
       "      <th>Height</th>\n",
       "      <th>Weight</th>\n",
       "      <th>Cervical_perimeter</th>\n",
       "      <th>Abdominal_perimeter</th>\n",
       "      <th>...</th>\n",
       "      <th>Spirometry</th>\n",
       "      <th>FEV1</th>\n",
       "      <th>Inspiratory_capacity</th>\n",
       "      <th>PAO2</th>\n",
       "      <th>PACO2</th>\n",
       "      <th>Number_oxygen_desaturation</th>\n",
       "      <th>Mean_oxygen_saturation</th>\n",
       "      <th>Corrected_saturation_cumulated_time</th>\n",
       "      <th>Health_state_scale_doctor</th>\n",
       "      <th>Apnea_hypopnea_index</th>\n",
       "    </tr>\n",
       "  </thead>\n",
       "  <tbody>\n",
       "    <tr>\n",
       "      <th>0</th>\n",
       "      <td>1</td>\n",
       "      <td>2.0</td>\n",
       "      <td>35.167693</td>\n",
       "      <td>0.0</td>\n",
       "      <td>1.0</td>\n",
       "      <td>0.0</td>\n",
       "      <td>166.0</td>\n",
       "      <td>100.0</td>\n",
       "      <td>35.0</td>\n",
       "      <td>114.0</td>\n",
       "      <td>...</td>\n",
       "      <td>NaN</td>\n",
       "      <td>NaN</td>\n",
       "      <td>NaN</td>\n",
       "      <td>NaN</td>\n",
       "      <td>NaN</td>\n",
       "      <td>5.0</td>\n",
       "      <td>96.0</td>\n",
       "      <td>NaN</td>\n",
       "      <td>NaN</td>\n",
       "      <td>8.0</td>\n",
       "    </tr>\n",
       "    <tr>\n",
       "      <th>4</th>\n",
       "      <td>2</td>\n",
       "      <td>1.0</td>\n",
       "      <td>75.252567</td>\n",
       "      <td>0.0</td>\n",
       "      <td>0.0</td>\n",
       "      <td>1.0</td>\n",
       "      <td>167.0</td>\n",
       "      <td>70.0</td>\n",
       "      <td>41.0</td>\n",
       "      <td>105.0</td>\n",
       "      <td>...</td>\n",
       "      <td>NaN</td>\n",
       "      <td>NaN</td>\n",
       "      <td>NaN</td>\n",
       "      <td>NaN</td>\n",
       "      <td>NaN</td>\n",
       "      <td>NaN</td>\n",
       "      <td>NaN</td>\n",
       "      <td>NaN</td>\n",
       "      <td>NaN</td>\n",
       "      <td>NaN</td>\n",
       "    </tr>\n",
       "    <tr>\n",
       "      <th>6</th>\n",
       "      <td>3</td>\n",
       "      <td>1.0</td>\n",
       "      <td>35.014374</td>\n",
       "      <td>0.0</td>\n",
       "      <td>0.0</td>\n",
       "      <td>0.0</td>\n",
       "      <td>178.0</td>\n",
       "      <td>96.0</td>\n",
       "      <td>44.0</td>\n",
       "      <td>109.0</td>\n",
       "      <td>...</td>\n",
       "      <td>NaN</td>\n",
       "      <td>NaN</td>\n",
       "      <td>NaN</td>\n",
       "      <td>NaN</td>\n",
       "      <td>NaN</td>\n",
       "      <td>17.0</td>\n",
       "      <td>NaN</td>\n",
       "      <td>NaN</td>\n",
       "      <td>NaN</td>\n",
       "      <td>49.0</td>\n",
       "    </tr>\n",
       "    <tr>\n",
       "      <th>7</th>\n",
       "      <td>4</td>\n",
       "      <td>1.0</td>\n",
       "      <td>48.802190</td>\n",
       "      <td>0.0</td>\n",
       "      <td>1.0</td>\n",
       "      <td>1.0</td>\n",
       "      <td>182.0</td>\n",
       "      <td>81.0</td>\n",
       "      <td>38.0</td>\n",
       "      <td>96.0</td>\n",
       "      <td>...</td>\n",
       "      <td>NaN</td>\n",
       "      <td>58.0</td>\n",
       "      <td>NaN</td>\n",
       "      <td>80.0</td>\n",
       "      <td>36.0</td>\n",
       "      <td>4.0</td>\n",
       "      <td>NaN</td>\n",
       "      <td>NaN</td>\n",
       "      <td>75.0</td>\n",
       "      <td>15.0</td>\n",
       "    </tr>\n",
       "    <tr>\n",
       "      <th>8</th>\n",
       "      <td>5</td>\n",
       "      <td>2.0</td>\n",
       "      <td>19.641342</td>\n",
       "      <td>0.0</td>\n",
       "      <td>1.0</td>\n",
       "      <td>0.0</td>\n",
       "      <td>180.0</td>\n",
       "      <td>117.0</td>\n",
       "      <td>48.0</td>\n",
       "      <td>118.0</td>\n",
       "      <td>...</td>\n",
       "      <td>NaN</td>\n",
       "      <td>NaN</td>\n",
       "      <td>NaN</td>\n",
       "      <td>NaN</td>\n",
       "      <td>NaN</td>\n",
       "      <td>NaN</td>\n",
       "      <td>NaN</td>\n",
       "      <td>NaN</td>\n",
       "      <td>NaN</td>\n",
       "      <td>NaN</td>\n",
       "    </tr>\n",
       "  </tbody>\n",
       "</table>\n",
       "<p>5 rows × 84 columns</p>\n",
       "</div>"
      ],
      "text/plain": [
       "   PatientID  Sex        Age  Current_smoker  Former_smoker  Sedentary  \\\n",
       "0          1  2.0  35.167693             0.0            1.0        0.0   \n",
       "4          2  1.0  75.252567             0.0            0.0        1.0   \n",
       "6          3  1.0  35.014374             0.0            0.0        0.0   \n",
       "7          4  1.0  48.802190             0.0            1.0        1.0   \n",
       "8          5  2.0  19.641342             0.0            1.0        0.0   \n",
       "\n",
       "   Height  Weight  Cervical_perimeter  Abdominal_perimeter  ...  Spirometry  \\\n",
       "0   166.0   100.0                35.0                114.0  ...         NaN   \n",
       "4   167.0    70.0                41.0                105.0  ...         NaN   \n",
       "6   178.0    96.0                44.0                109.0  ...         NaN   \n",
       "7   182.0    81.0                38.0                 96.0  ...         NaN   \n",
       "8   180.0   117.0                48.0                118.0  ...         NaN   \n",
       "\n",
       "   FEV1  Inspiratory_capacity  PAO2  PACO2  Number_oxygen_desaturation  \\\n",
       "0   NaN                   NaN   NaN    NaN                         5.0   \n",
       "4   NaN                   NaN   NaN    NaN                         NaN   \n",
       "6   NaN                   NaN   NaN    NaN                        17.0   \n",
       "7  58.0                   NaN  80.0   36.0                         4.0   \n",
       "8   NaN                   NaN   NaN    NaN                         NaN   \n",
       "\n",
       "   Mean_oxygen_saturation  Corrected_saturation_cumulated_time  \\\n",
       "0                    96.0                                  NaN   \n",
       "4                     NaN                                  NaN   \n",
       "6                     NaN                                  NaN   \n",
       "7                     NaN                                  NaN   \n",
       "8                     NaN                                  NaN   \n",
       "\n",
       "   Health_state_scale_doctor  Apnea_hypopnea_index  \n",
       "0                        NaN                   8.0  \n",
       "4                        NaN                   NaN  \n",
       "6                        NaN                  49.0  \n",
       "7                       75.0                  15.0  \n",
       "8                        NaN                   NaN  \n",
       "\n",
       "[5 rows x 84 columns]"
      ]
     },
     "execution_count": 28,
     "metadata": {},
     "output_type": "execute_result"
    }
   ],
   "source": [
    "osa_all_df.head()"
   ]
  },
  {
   "cell_type": "markdown",
   "id": "2aa137fc",
   "metadata": {},
   "source": [
    "## Exporting clean df to csv"
   ]
  },
  {
   "cell_type": "code",
   "execution_count": 29,
   "id": "501a47c6",
   "metadata": {},
   "outputs": [],
   "source": [
    "#osa_all_df.to_csv(\"OSA_clean.csv\")"
   ]
  },
  {
   "cell_type": "markdown",
   "id": "091c1d70",
   "metadata": {},
   "source": [
    "### Dropping rows with duplicate patient IDs. Keeping 1st instance"
   ]
  },
  {
   "cell_type": "code",
   "execution_count": 30,
   "id": "eef82631",
   "metadata": {},
   "outputs": [],
   "source": [
    "osa_all_df.drop_duplicates(subset =\"PatientID\", keep = 'first', inplace = True) # this drops repeated Patient ID rows and only keeps the 1st instance"
   ]
  },
  {
   "cell_type": "code",
   "execution_count": 31,
   "id": "57de974d",
   "metadata": {},
   "outputs": [
    {
     "data": {
      "text/plain": [
       "(111194, 84)"
      ]
     },
     "execution_count": 31,
     "metadata": {},
     "output_type": "execute_result"
    }
   ],
   "source": [
    "osa_all_df.shape"
   ]
  },
  {
   "cell_type": "markdown",
   "id": "5e01d541",
   "metadata": {},
   "source": [
    "## Dataframe with columns >80% NaN dropped"
   ]
  },
  {
   "cell_type": "markdown",
   "id": "18377543",
   "metadata": {},
   "source": [
    "### Percentages of missing values"
   ]
  },
  {
   "cell_type": "code",
   "execution_count": 32,
   "id": "38278cc9",
   "metadata": {},
   "outputs": [
    {
     "data": {
      "text/plain": [
       "PatientID                               0.000000\n",
       "Sex                                     0.393906\n",
       "Age                                     8.334083\n",
       "Current_smoker                          8.504056\n",
       "Former_smoker                           8.500459\n",
       "                                         ...    \n",
       "Number_oxygen_desaturation             44.518589\n",
       "Mean_oxygen_saturation                 43.201971\n",
       "Corrected_saturation_cumulated_time    68.232998\n",
       "Health_state_scale_doctor              58.597586\n",
       "Apnea_hypopnea_index                   27.702934\n",
       "Length: 84, dtype: float64"
      ]
     },
     "execution_count": 32,
     "metadata": {},
     "output_type": "execute_result"
    }
   ],
   "source": [
    "(osa_all_df.isnull().sum()/len(osa_all_df))*100"
   ]
  },
  {
   "cell_type": "code",
   "execution_count": 33,
   "id": "49411b9b",
   "metadata": {},
   "outputs": [],
   "source": [
    "threshold = 80.0\n",
    "min_count =  int(((100-threshold)/100)*osa_all_df.shape[0] + 1)  # this calculates the minimum number of samples per column that must have NaN value to be dropped\n",
    "\n",
    "\n",
    "osa_simple_nadrop = osa_all_df.dropna( axis=1,thresh=min_count) # drop columns with more than 80% NaN\n",
    "     "
   ]
  },
  {
   "cell_type": "code",
   "execution_count": 34,
   "id": "fdf6ee25",
   "metadata": {},
   "outputs": [
    {
     "name": "stdout",
     "output_type": "stream",
     "text": [
      "With NaN (111194, 84)\n",
      "Dropped NaN (111194, 70)\n"
     ]
    }
   ],
   "source": [
    "print('With NaN', osa_all_df.shape)\n",
    "print('Dropped NaN',osa_simple_nadrop.shape)"
   ]
  },
  {
   "cell_type": "markdown",
   "id": "9920c787",
   "metadata": {},
   "source": [
    "### Remove patients with no AHI info"
   ]
  },
  {
   "cell_type": "code",
   "execution_count": 35,
   "id": "20f8b78f",
   "metadata": {},
   "outputs": [
    {
     "name": "stderr",
     "output_type": "stream",
     "text": [
      "C:\\Users\\amona\\AppData\\Local\\Temp\\ipykernel_8468\\4110469585.py:1: SettingWithCopyWarning: \n",
      "A value is trying to be set on a copy of a slice from a DataFrame\n",
      "\n",
      "See the caveats in the documentation: https://pandas.pydata.org/pandas-docs/stable/user_guide/indexing.html#returning-a-view-versus-a-copy\n",
      "  osa_simple_nadrop.dropna(subset=['Apnea_hypopnea_index'], inplace = True)\n"
     ]
    }
   ],
   "source": [
    "osa_simple_nadrop.dropna(subset=['Apnea_hypopnea_index'], inplace = True)"
   ]
  },
  {
   "cell_type": "code",
   "execution_count": 36,
   "id": "b89c0b40",
   "metadata": {},
   "outputs": [
    {
     "data": {
      "text/plain": [
       "(80390, 70)"
      ]
     },
     "execution_count": 36,
     "metadata": {},
     "output_type": "execute_result"
    }
   ],
   "source": [
    "osa_simple_nadrop.shape"
   ]
  },
  {
   "cell_type": "markdown",
   "id": "e419e86d",
   "metadata": {},
   "source": [
    "### Calculate OSA status based on AHI\n",
    "AHI < 15  Status 0\n",
    "AHI >= 15 Status 1 "
   ]
  },
  {
   "cell_type": "code",
   "execution_count": 37,
   "id": "01991695",
   "metadata": {},
   "outputs": [],
   "source": [
    "# defining a function that assigns severity based on AHI\n",
    "def severity (row):\n",
    "   if row['Apnea_hypopnea_index'] < 5 :\n",
    "      return 0\n",
    "   if row['Apnea_hypopnea_index'] >= 5 and row['Apnea_hypopnea_index'] < 15 :\n",
    "      return 1\n",
    "   if row['Apnea_hypopnea_index'] >= 15 and row['Apnea_hypopnea_index'] < 30 :\n",
    "      return 2\n",
    "   if row['Apnea_hypopnea_index'] >= 30 :\n",
    "      return 3"
   ]
  },
  {
   "cell_type": "code",
   "execution_count": 38,
   "id": "10043324",
   "metadata": {},
   "outputs": [
    {
     "name": "stderr",
     "output_type": "stream",
     "text": [
      "C:\\Users\\amona\\AppData\\Local\\Temp\\ipykernel_8468\\935528006.py:3: SettingWithCopyWarning: \n",
      "A value is trying to be set on a copy of a slice from a DataFrame.\n",
      "Try using .loc[row_indexer,col_indexer] = value instead\n",
      "\n",
      "See the caveats in the documentation: https://pandas.pydata.org/pandas-docs/stable/user_guide/indexing.html#returning-a-view-versus-a-copy\n",
      "  osa_simple_nadrop['Severity'] = osa_simple_nadrop.apply (lambda row: severity(row), axis=1)\n"
     ]
    }
   ],
   "source": [
    "# applying function to create new Severity column\n",
    "\n",
    "osa_simple_nadrop['Severity'] = osa_simple_nadrop.apply (lambda row: severity(row), axis=1)"
   ]
  },
  {
   "cell_type": "code",
   "execution_count": 39,
   "id": "079931b6",
   "metadata": {},
   "outputs": [
    {
     "data": {
      "text/plain": [
       "(80390, 71)"
      ]
     },
     "execution_count": 39,
     "metadata": {},
     "output_type": "execute_result"
    }
   ],
   "source": [
    "osa_simple_nadrop.shape"
   ]
  },
  {
   "cell_type": "code",
   "execution_count": 40,
   "id": "e04becc6",
   "metadata": {},
   "outputs": [
    {
     "data": {
      "text/plain": [
       "3    33552\n",
       "2    17800\n",
       "1    17617\n",
       "0    11421\n",
       "Name: Severity, dtype: int64"
      ]
     },
     "execution_count": 40,
     "metadata": {},
     "output_type": "execute_result"
    }
   ],
   "source": [
    "osa_simple_nadrop.Severity.value_counts()  # how many of each severity are in the df"
   ]
  },
  {
   "cell_type": "code",
   "execution_count": 41,
   "id": "5f2a1004",
   "metadata": {},
   "outputs": [
    {
     "data": {
      "text/plain": [
       "3    41.736534\n",
       "2    22.142057\n",
       "1    21.914417\n",
       "0    14.206991\n",
       "Name: Severity, dtype: float64"
      ]
     },
     "execution_count": 41,
     "metadata": {},
     "output_type": "execute_result"
    }
   ],
   "source": [
    "osa_simple_nadrop.Severity.value_counts(normalize=True) * 100"
   ]
  },
  {
   "cell_type": "code",
   "execution_count": 42,
   "id": "e33b9e40",
   "metadata": {},
   "outputs": [
    {
     "data": {
      "text/plain": [
       "(80390, 70)"
      ]
     },
     "execution_count": 42,
     "metadata": {},
     "output_type": "execute_result"
    }
   ],
   "source": [
    "# removing the AHI column\n",
    "del osa_simple_nadrop['Apnea_hypopnea_index']\n",
    "osa_simple_nadrop.shape"
   ]
  },
  {
   "cell_type": "code",
   "execution_count": 43,
   "id": "246c4760",
   "metadata": {},
   "outputs": [
    {
     "data": {
      "text/html": [
       "<div>\n",
       "<style scoped>\n",
       "    .dataframe tbody tr th:only-of-type {\n",
       "        vertical-align: middle;\n",
       "    }\n",
       "\n",
       "    .dataframe tbody tr th {\n",
       "        vertical-align: top;\n",
       "    }\n",
       "\n",
       "    .dataframe thead th {\n",
       "        text-align: right;\n",
       "    }\n",
       "</style>\n",
       "<table border=\"1\" class=\"dataframe\">\n",
       "  <thead>\n",
       "    <tr style=\"text-align: right;\">\n",
       "      <th></th>\n",
       "      <th>PatientID</th>\n",
       "      <th>Sex</th>\n",
       "      <th>Age</th>\n",
       "      <th>Current_smoker</th>\n",
       "      <th>Former_smoker</th>\n",
       "      <th>Sedentary</th>\n",
       "      <th>Height</th>\n",
       "      <th>Weight</th>\n",
       "      <th>Cervical_perimeter</th>\n",
       "      <th>Abdominal_perimeter</th>\n",
       "      <th>...</th>\n",
       "      <th>Corrected_average_duration_sleep</th>\n",
       "      <th>Spirometry</th>\n",
       "      <th>FEV1</th>\n",
       "      <th>PAO2</th>\n",
       "      <th>PACO2</th>\n",
       "      <th>Number_oxygen_desaturation</th>\n",
       "      <th>Mean_oxygen_saturation</th>\n",
       "      <th>Corrected_saturation_cumulated_time</th>\n",
       "      <th>Health_state_scale_doctor</th>\n",
       "      <th>Severity</th>\n",
       "    </tr>\n",
       "  </thead>\n",
       "  <tbody>\n",
       "    <tr>\n",
       "      <th>0</th>\n",
       "      <td>1</td>\n",
       "      <td>2.0</td>\n",
       "      <td>35.167693</td>\n",
       "      <td>0.0</td>\n",
       "      <td>1.0</td>\n",
       "      <td>0.0</td>\n",
       "      <td>166.0</td>\n",
       "      <td>100.0</td>\n",
       "      <td>35.0</td>\n",
       "      <td>114.0</td>\n",
       "      <td>...</td>\n",
       "      <td>NaN</td>\n",
       "      <td>NaN</td>\n",
       "      <td>NaN</td>\n",
       "      <td>NaN</td>\n",
       "      <td>NaN</td>\n",
       "      <td>5.0</td>\n",
       "      <td>96.0</td>\n",
       "      <td>NaN</td>\n",
       "      <td>NaN</td>\n",
       "      <td>1</td>\n",
       "    </tr>\n",
       "    <tr>\n",
       "      <th>6</th>\n",
       "      <td>3</td>\n",
       "      <td>1.0</td>\n",
       "      <td>35.014374</td>\n",
       "      <td>0.0</td>\n",
       "      <td>0.0</td>\n",
       "      <td>0.0</td>\n",
       "      <td>178.0</td>\n",
       "      <td>96.0</td>\n",
       "      <td>44.0</td>\n",
       "      <td>109.0</td>\n",
       "      <td>...</td>\n",
       "      <td>NaN</td>\n",
       "      <td>NaN</td>\n",
       "      <td>NaN</td>\n",
       "      <td>NaN</td>\n",
       "      <td>NaN</td>\n",
       "      <td>17.0</td>\n",
       "      <td>NaN</td>\n",
       "      <td>NaN</td>\n",
       "      <td>NaN</td>\n",
       "      <td>3</td>\n",
       "    </tr>\n",
       "    <tr>\n",
       "      <th>7</th>\n",
       "      <td>4</td>\n",
       "      <td>1.0</td>\n",
       "      <td>48.802190</td>\n",
       "      <td>0.0</td>\n",
       "      <td>1.0</td>\n",
       "      <td>1.0</td>\n",
       "      <td>182.0</td>\n",
       "      <td>81.0</td>\n",
       "      <td>38.0</td>\n",
       "      <td>96.0</td>\n",
       "      <td>...</td>\n",
       "      <td>NaN</td>\n",
       "      <td>NaN</td>\n",
       "      <td>58.0</td>\n",
       "      <td>80.0</td>\n",
       "      <td>36.0</td>\n",
       "      <td>4.0</td>\n",
       "      <td>NaN</td>\n",
       "      <td>NaN</td>\n",
       "      <td>75.0</td>\n",
       "      <td>2</td>\n",
       "    </tr>\n",
       "    <tr>\n",
       "      <th>20</th>\n",
       "      <td>14</td>\n",
       "      <td>2.0</td>\n",
       "      <td>56.410678</td>\n",
       "      <td>0.0</td>\n",
       "      <td>0.0</td>\n",
       "      <td>0.0</td>\n",
       "      <td>165.0</td>\n",
       "      <td>88.0</td>\n",
       "      <td>38.0</td>\n",
       "      <td>110.0</td>\n",
       "      <td>...</td>\n",
       "      <td>NaN</td>\n",
       "      <td>98.0</td>\n",
       "      <td>89.0</td>\n",
       "      <td>88.0</td>\n",
       "      <td>35.0</td>\n",
       "      <td>21.0</td>\n",
       "      <td>92.0</td>\n",
       "      <td>00:19</td>\n",
       "      <td>99.0</td>\n",
       "      <td>3</td>\n",
       "    </tr>\n",
       "    <tr>\n",
       "      <th>21</th>\n",
       "      <td>15</td>\n",
       "      <td>1.0</td>\n",
       "      <td>71.600274</td>\n",
       "      <td>0.0</td>\n",
       "      <td>0.0</td>\n",
       "      <td>0.0</td>\n",
       "      <td>175.0</td>\n",
       "      <td>77.0</td>\n",
       "      <td>40.0</td>\n",
       "      <td>101.0</td>\n",
       "      <td>...</td>\n",
       "      <td>NaN</td>\n",
       "      <td>NaN</td>\n",
       "      <td>75.0</td>\n",
       "      <td>81.0</td>\n",
       "      <td>35.0</td>\n",
       "      <td>18.0</td>\n",
       "      <td>95.0</td>\n",
       "      <td>NaN</td>\n",
       "      <td>98.0</td>\n",
       "      <td>2</td>\n",
       "    </tr>\n",
       "    <tr>\n",
       "      <th>22</th>\n",
       "      <td>16</td>\n",
       "      <td>1.0</td>\n",
       "      <td>54.099932</td>\n",
       "      <td>1.0</td>\n",
       "      <td>0.0</td>\n",
       "      <td>1.0</td>\n",
       "      <td>172.0</td>\n",
       "      <td>102.0</td>\n",
       "      <td>41.0</td>\n",
       "      <td>124.0</td>\n",
       "      <td>...</td>\n",
       "      <td>NaN</td>\n",
       "      <td>NaN</td>\n",
       "      <td>69.0</td>\n",
       "      <td>81.0</td>\n",
       "      <td>35.0</td>\n",
       "      <td>10.0</td>\n",
       "      <td>89.0</td>\n",
       "      <td>NaN</td>\n",
       "      <td>95.0</td>\n",
       "      <td>3</td>\n",
       "    </tr>\n",
       "    <tr>\n",
       "      <th>25</th>\n",
       "      <td>17</td>\n",
       "      <td>1.0</td>\n",
       "      <td>71.340178</td>\n",
       "      <td>0.0</td>\n",
       "      <td>0.0</td>\n",
       "      <td>1.0</td>\n",
       "      <td>166.0</td>\n",
       "      <td>77.0</td>\n",
       "      <td>39.0</td>\n",
       "      <td>100.0</td>\n",
       "      <td>...</td>\n",
       "      <td>NaN</td>\n",
       "      <td>86.0</td>\n",
       "      <td>64.0</td>\n",
       "      <td>80.0</td>\n",
       "      <td>36.0</td>\n",
       "      <td>41.0</td>\n",
       "      <td>92.0</td>\n",
       "      <td>NaN</td>\n",
       "      <td>96.0</td>\n",
       "      <td>3</td>\n",
       "    </tr>\n",
       "    <tr>\n",
       "      <th>30</th>\n",
       "      <td>19</td>\n",
       "      <td>2.0</td>\n",
       "      <td>61.598905</td>\n",
       "      <td>0.0</td>\n",
       "      <td>0.0</td>\n",
       "      <td>1.0</td>\n",
       "      <td>162.0</td>\n",
       "      <td>87.0</td>\n",
       "      <td>39.0</td>\n",
       "      <td>117.0</td>\n",
       "      <td>...</td>\n",
       "      <td>NaN</td>\n",
       "      <td>88.0</td>\n",
       "      <td>83.0</td>\n",
       "      <td>83.2</td>\n",
       "      <td>36.1</td>\n",
       "      <td>67.0</td>\n",
       "      <td>93.0</td>\n",
       "      <td>01:03</td>\n",
       "      <td>102.0</td>\n",
       "      <td>3</td>\n",
       "    </tr>\n",
       "    <tr>\n",
       "      <th>31</th>\n",
       "      <td>20</td>\n",
       "      <td>2.0</td>\n",
       "      <td>58.130048</td>\n",
       "      <td>0.0</td>\n",
       "      <td>0.0</td>\n",
       "      <td>0.0</td>\n",
       "      <td>154.0</td>\n",
       "      <td>65.0</td>\n",
       "      <td>35.0</td>\n",
       "      <td>91.0</td>\n",
       "      <td>...</td>\n",
       "      <td>NaN</td>\n",
       "      <td>90.0</td>\n",
       "      <td>83.0</td>\n",
       "      <td>81.3</td>\n",
       "      <td>35.9</td>\n",
       "      <td>18.0</td>\n",
       "      <td>94.0</td>\n",
       "      <td>00:03</td>\n",
       "      <td>92.0</td>\n",
       "      <td>3</td>\n",
       "    </tr>\n",
       "    <tr>\n",
       "      <th>35</th>\n",
       "      <td>21</td>\n",
       "      <td>2.0</td>\n",
       "      <td>44.041068</td>\n",
       "      <td>0.0</td>\n",
       "      <td>0.0</td>\n",
       "      <td>1.0</td>\n",
       "      <td>171.0</td>\n",
       "      <td>80.0</td>\n",
       "      <td>40.0</td>\n",
       "      <td>97.0</td>\n",
       "      <td>...</td>\n",
       "      <td>NaN</td>\n",
       "      <td>NaN</td>\n",
       "      <td>70.0</td>\n",
       "      <td>94.0</td>\n",
       "      <td>37.0</td>\n",
       "      <td>0.0</td>\n",
       "      <td>94.0</td>\n",
       "      <td>NaN</td>\n",
       "      <td>79.0</td>\n",
       "      <td>0</td>\n",
       "    </tr>\n",
       "  </tbody>\n",
       "</table>\n",
       "<p>10 rows × 70 columns</p>\n",
       "</div>"
      ],
      "text/plain": [
       "    PatientID  Sex        Age  Current_smoker  Former_smoker  Sedentary  \\\n",
       "0           1  2.0  35.167693             0.0            1.0        0.0   \n",
       "6           3  1.0  35.014374             0.0            0.0        0.0   \n",
       "7           4  1.0  48.802190             0.0            1.0        1.0   \n",
       "20         14  2.0  56.410678             0.0            0.0        0.0   \n",
       "21         15  1.0  71.600274             0.0            0.0        0.0   \n",
       "22         16  1.0  54.099932             1.0            0.0        1.0   \n",
       "25         17  1.0  71.340178             0.0            0.0        1.0   \n",
       "30         19  2.0  61.598905             0.0            0.0        1.0   \n",
       "31         20  2.0  58.130048             0.0            0.0        0.0   \n",
       "35         21  2.0  44.041068             0.0            0.0        1.0   \n",
       "\n",
       "    Height  Weight  Cervical_perimeter  Abdominal_perimeter  ...  \\\n",
       "0    166.0   100.0                35.0                114.0  ...   \n",
       "6    178.0    96.0                44.0                109.0  ...   \n",
       "7    182.0    81.0                38.0                 96.0  ...   \n",
       "20   165.0    88.0                38.0                110.0  ...   \n",
       "21   175.0    77.0                40.0                101.0  ...   \n",
       "22   172.0   102.0                41.0                124.0  ...   \n",
       "25   166.0    77.0                39.0                100.0  ...   \n",
       "30   162.0    87.0                39.0                117.0  ...   \n",
       "31   154.0    65.0                35.0                 91.0  ...   \n",
       "35   171.0    80.0                40.0                 97.0  ...   \n",
       "\n",
       "    Corrected_average_duration_sleep  Spirometry  FEV1  PAO2  PACO2  \\\n",
       "0                                NaN         NaN   NaN   NaN    NaN   \n",
       "6                                NaN         NaN   NaN   NaN    NaN   \n",
       "7                                NaN         NaN  58.0  80.0   36.0   \n",
       "20                               NaN        98.0  89.0  88.0   35.0   \n",
       "21                               NaN         NaN  75.0  81.0   35.0   \n",
       "22                               NaN         NaN  69.0  81.0   35.0   \n",
       "25                               NaN        86.0  64.0  80.0   36.0   \n",
       "30                               NaN        88.0  83.0  83.2   36.1   \n",
       "31                               NaN        90.0  83.0  81.3   35.9   \n",
       "35                               NaN         NaN  70.0  94.0   37.0   \n",
       "\n",
       "    Number_oxygen_desaturation  Mean_oxygen_saturation  \\\n",
       "0                          5.0                    96.0   \n",
       "6                         17.0                     NaN   \n",
       "7                          4.0                     NaN   \n",
       "20                        21.0                    92.0   \n",
       "21                        18.0                    95.0   \n",
       "22                        10.0                    89.0   \n",
       "25                        41.0                    92.0   \n",
       "30                        67.0                    93.0   \n",
       "31                        18.0                    94.0   \n",
       "35                         0.0                    94.0   \n",
       "\n",
       "    Corrected_saturation_cumulated_time  Health_state_scale_doctor  Severity  \n",
       "0                                   NaN                        NaN         1  \n",
       "6                                   NaN                        NaN         3  \n",
       "7                                   NaN                       75.0         2  \n",
       "20                                00:19                       99.0         3  \n",
       "21                                  NaN                       98.0         2  \n",
       "22                                  NaN                       95.0         3  \n",
       "25                                  NaN                       96.0         3  \n",
       "30                                01:03                      102.0         3  \n",
       "31                                00:03                       92.0         3  \n",
       "35                                  NaN                       79.0         0  \n",
       "\n",
       "[10 rows x 70 columns]"
      ]
     },
     "execution_count": 43,
     "metadata": {},
     "output_type": "execute_result"
    }
   ],
   "source": [
    "osa_simple_nadrop.head(10)"
   ]
  },
  {
   "cell_type": "code",
   "execution_count": 44,
   "id": "630a5da1",
   "metadata": {},
   "outputs": [
    {
     "data": {
      "text/plain": [
       "Index(['PatientID', 'Sex', 'Age', 'Current_smoker', 'Former_smoker',\n",
       "       'Sedentary', 'Height', 'Weight', 'Cervical_perimeter',\n",
       "       'Abdominal_perimeter', 'Systolic_BP', 'Diastolic_BP',\n",
       "       'Maxillofacial_profile', 'BMI', 'High_BP', 'Asthma', 'Rhinitis', 'COPD',\n",
       "       'Respiratory_fail', 'Myocardial_infarct', 'Coronary_fail',\n",
       "       'Arrhythmias', 'Stroke', 'Heart_fail', 'Arteriopathy', 'Gastric_reflux',\n",
       "       'Glaucoma', 'Diabetes', 'Hypercholesterolemia', 'Hypertriglyceridemia',\n",
       "       'Hypo(er)thyroidism', 'Depression', 'Obesity', 'Dysmorphology',\n",
       "       'Restless_Leg_Syndrome', 'Snoring', 'Diurnal_somnolence',\n",
       "       'Driving_drowsiness', 'Morning_fatigue', 'Morning_headache',\n",
       "       'Memory_problem', 'Nocturnal_perspiration',\n",
       "       'Shortness_of_breath_on_exertion', 'Nocturia', 'Drowsiness_accident',\n",
       "       'Near_miss_accident', 'Respiratory_arrest', 'ENT_surgery', 'CPAP',\n",
       "       'Two_levels_pressure_ventilation', 'Assisted_Servoventilation',\n",
       "       'Mandibular_advance_orthosis', 'Oxygen_therapy',\n",
       "       'MaxilloFacial_surgery', 'Drug_treatment_Modafinil',\n",
       "       'RLS_drug_treatment', 'Other_treatments', 'Epworth_scale',\n",
       "       'Pichots_scale', 'Depression_scale', 'Corrected_average_duration_sleep',\n",
       "       'Spirometry', 'FEV1', 'PAO2', 'PACO2', 'Number_oxygen_desaturation',\n",
       "       'Mean_oxygen_saturation', 'Corrected_saturation_cumulated_time',\n",
       "       'Health_state_scale_doctor', 'Severity'],\n",
       "      dtype='object')"
      ]
     },
     "execution_count": 44,
     "metadata": {},
     "output_type": "execute_result"
    }
   ],
   "source": [
    "osa_simple_nadrop.columns"
   ]
  },
  {
   "cell_type": "markdown",
   "id": "c53f9093",
   "metadata": {},
   "source": [
    "## Creating df with only complete patient entries"
   ]
  },
  {
   "cell_type": "code",
   "execution_count": 45,
   "id": "3319f2e6",
   "metadata": {
    "scrolled": false
   },
   "outputs": [
    {
     "data": {
      "text/plain": [
       "(1699, 70)"
      ]
     },
     "execution_count": 45,
     "metadata": {},
     "output_type": "execute_result"
    }
   ],
   "source": [
    "complete_patients_binary = osa_simple_nadrop[~osa_simple_nadrop.isnull().any(axis=1)]\n",
    "complete_patients_binary.shape"
   ]
  },
  {
   "cell_type": "markdown",
   "id": "bcc7fe94",
   "metadata": {},
   "source": [
    "## Creating df with imputed missing values\n",
    "simple imputer with median/ mode"
   ]
  },
  {
   "cell_type": "code",
   "execution_count": 46,
   "id": "0a2ead35",
   "metadata": {},
   "outputs": [],
   "source": [
    "from sklearn.impute import SimpleImputer"
   ]
  },
  {
   "cell_type": "code",
   "execution_count": 47,
   "id": "457cf09f",
   "metadata": {},
   "outputs": [],
   "source": [
    "features = ['Sex', 'Age', 'Current_smoker', 'Former_smoker',\n",
    "       'Sedentary', 'Height', 'Weight', 'Cervical_perimeter',\n",
    "       'Abdominal_perimeter', 'Systolic_BP', 'Diastolic_BP',\n",
    "       'Maxillofacial_profile', 'BMI', 'High_BP', 'Asthma', 'Rhinitis', 'COPD',\n",
    "       'Respiratory_fail', 'Myocardial_infarct', 'Coronary_fail',\n",
    "       'Arrhythmias', 'Stroke', 'Heart_fail', 'Arteriopathy', 'Gastric_reflux',\n",
    "       'Glaucoma', 'Diabetes', 'Hypercholesterolemia', 'Hypertriglyceridemia',\n",
    "       'Hypo(er)thyroidism', 'Depression', 'Obesity', 'Dysmorphology',\n",
    "       'Restless_Leg_Syndrome', 'Snoring', 'Diurnal_somnolence',\n",
    "       'Driving_drowsiness', 'Morning_fatigue', 'Morning_headache',\n",
    "       'Memory_problem', 'Nocturnal_perspiration',\n",
    "       'Shortness_of_breath_on_exertion', 'Nocturia', 'Drowsiness_accident',\n",
    "       'Near_miss_accident', 'Respiratory_arrest', 'ENT_surgery', 'CPAP',\n",
    "       'Two_levels_pressure_ventilation', 'Assisted_Servoventilation',\n",
    "       'Mandibular_advance_orthosis', 'Oxygen_therapy',\n",
    "       'MaxilloFacial_surgery', 'Drug_treatment_Modafinil',\n",
    "       'RLS_drug_treatment', 'Other_treatments', 'Epworth_scale',\n",
    "       'Pichots_scale', 'Depression_scale', 'Corrected_average_duration_sleep',\n",
    "       'Spirometry', 'FEV1', 'PAO2', 'PACO2', 'Number_oxygen_desaturation',\n",
    "       'Mean_oxygen_saturation', 'Corrected_saturation_cumulated_time',\n",
    "       'Health_state_scale_doctor']\n",
    "continuous = ['Age','Height','Weight','Cervical_perimeter','Abdominal_perimeter','Systolic_BP','Diastolic_BP', \n",
    "              'BMI','Epworth_scale','Pichots_scale','Depression_scale', 'Corrected_average_duration_sleep',\n",
    "              'Spirometry', 'FEV1', 'PAO2', 'PACO2', 'Number_oxygen_desaturation','Mean_oxygen_saturation', \n",
    "              'Corrected_saturation_cumulated_time','Health_state_scale_doctor',]\n",
    "categorical = [i for i in features if i not in continuous]"
   ]
  },
  {
   "cell_type": "code",
   "execution_count": 48,
   "id": "58812f88",
   "metadata": {},
   "outputs": [],
   "source": [
    "# must convert Corrected_average_duration_sleep and corrected saturation cumulated time to minutes\n",
    "\n",
    "data_imp = osa_simple_nadrop.copy(deep= True)            # copy original df\n",
    "time = pd.DatetimeIndex(data_imp['Corrected_average_duration_sleep'])\n",
    "times = time.hour * 60 + time.minute\n",
    "data_imp['Corrected_average_duration_sleep'] = times\n",
    "\n",
    "time = pd.DatetimeIndex(data_imp['Corrected_saturation_cumulated_time'])\n",
    "times = time.hour * 60 + time.minute\n",
    "data_imp['Corrected_saturation_cumulated_time'] = times"
   ]
  },
  {
   "cell_type": "code",
   "execution_count": 49,
   "id": "d769c7d9",
   "metadata": {},
   "outputs": [
    {
     "data": {
      "text/html": [
       "<div>\n",
       "<style scoped>\n",
       "    .dataframe tbody tr th:only-of-type {\n",
       "        vertical-align: middle;\n",
       "    }\n",
       "\n",
       "    .dataframe tbody tr th {\n",
       "        vertical-align: top;\n",
       "    }\n",
       "\n",
       "    .dataframe thead th {\n",
       "        text-align: right;\n",
       "    }\n",
       "</style>\n",
       "<table border=\"1\" class=\"dataframe\">\n",
       "  <thead>\n",
       "    <tr style=\"text-align: right;\">\n",
       "      <th></th>\n",
       "      <th>PatientID</th>\n",
       "      <th>Sex</th>\n",
       "      <th>Age</th>\n",
       "      <th>Current_smoker</th>\n",
       "      <th>Former_smoker</th>\n",
       "      <th>Sedentary</th>\n",
       "      <th>Height</th>\n",
       "      <th>Weight</th>\n",
       "      <th>Cervical_perimeter</th>\n",
       "      <th>Abdominal_perimeter</th>\n",
       "      <th>...</th>\n",
       "      <th>Corrected_average_duration_sleep</th>\n",
       "      <th>Spirometry</th>\n",
       "      <th>FEV1</th>\n",
       "      <th>PAO2</th>\n",
       "      <th>PACO2</th>\n",
       "      <th>Number_oxygen_desaturation</th>\n",
       "      <th>Mean_oxygen_saturation</th>\n",
       "      <th>Corrected_saturation_cumulated_time</th>\n",
       "      <th>Health_state_scale_doctor</th>\n",
       "      <th>Severity</th>\n",
       "    </tr>\n",
       "  </thead>\n",
       "  <tbody>\n",
       "    <tr>\n",
       "      <th>0</th>\n",
       "      <td>1</td>\n",
       "      <td>2.0</td>\n",
       "      <td>35.167693</td>\n",
       "      <td>0.0</td>\n",
       "      <td>1.0</td>\n",
       "      <td>0.0</td>\n",
       "      <td>166.0</td>\n",
       "      <td>100.0</td>\n",
       "      <td>35.0</td>\n",
       "      <td>114.0</td>\n",
       "      <td>...</td>\n",
       "      <td>NaN</td>\n",
       "      <td>NaN</td>\n",
       "      <td>NaN</td>\n",
       "      <td>NaN</td>\n",
       "      <td>NaN</td>\n",
       "      <td>5.0</td>\n",
       "      <td>96.0</td>\n",
       "      <td>NaN</td>\n",
       "      <td>NaN</td>\n",
       "      <td>1</td>\n",
       "    </tr>\n",
       "    <tr>\n",
       "      <th>6</th>\n",
       "      <td>3</td>\n",
       "      <td>1.0</td>\n",
       "      <td>35.014374</td>\n",
       "      <td>0.0</td>\n",
       "      <td>0.0</td>\n",
       "      <td>0.0</td>\n",
       "      <td>178.0</td>\n",
       "      <td>96.0</td>\n",
       "      <td>44.0</td>\n",
       "      <td>109.0</td>\n",
       "      <td>...</td>\n",
       "      <td>NaN</td>\n",
       "      <td>NaN</td>\n",
       "      <td>NaN</td>\n",
       "      <td>NaN</td>\n",
       "      <td>NaN</td>\n",
       "      <td>17.0</td>\n",
       "      <td>NaN</td>\n",
       "      <td>NaN</td>\n",
       "      <td>NaN</td>\n",
       "      <td>3</td>\n",
       "    </tr>\n",
       "    <tr>\n",
       "      <th>7</th>\n",
       "      <td>4</td>\n",
       "      <td>1.0</td>\n",
       "      <td>48.802190</td>\n",
       "      <td>0.0</td>\n",
       "      <td>1.0</td>\n",
       "      <td>1.0</td>\n",
       "      <td>182.0</td>\n",
       "      <td>81.0</td>\n",
       "      <td>38.0</td>\n",
       "      <td>96.0</td>\n",
       "      <td>...</td>\n",
       "      <td>NaN</td>\n",
       "      <td>NaN</td>\n",
       "      <td>58.0</td>\n",
       "      <td>80.0</td>\n",
       "      <td>36.0</td>\n",
       "      <td>4.0</td>\n",
       "      <td>NaN</td>\n",
       "      <td>NaN</td>\n",
       "      <td>75.0</td>\n",
       "      <td>2</td>\n",
       "    </tr>\n",
       "    <tr>\n",
       "      <th>20</th>\n",
       "      <td>14</td>\n",
       "      <td>2.0</td>\n",
       "      <td>56.410678</td>\n",
       "      <td>0.0</td>\n",
       "      <td>0.0</td>\n",
       "      <td>0.0</td>\n",
       "      <td>165.0</td>\n",
       "      <td>88.0</td>\n",
       "      <td>38.0</td>\n",
       "      <td>110.0</td>\n",
       "      <td>...</td>\n",
       "      <td>NaN</td>\n",
       "      <td>98.0</td>\n",
       "      <td>89.0</td>\n",
       "      <td>88.0</td>\n",
       "      <td>35.0</td>\n",
       "      <td>21.0</td>\n",
       "      <td>92.0</td>\n",
       "      <td>19.0</td>\n",
       "      <td>99.0</td>\n",
       "      <td>3</td>\n",
       "    </tr>\n",
       "    <tr>\n",
       "      <th>21</th>\n",
       "      <td>15</td>\n",
       "      <td>1.0</td>\n",
       "      <td>71.600274</td>\n",
       "      <td>0.0</td>\n",
       "      <td>0.0</td>\n",
       "      <td>0.0</td>\n",
       "      <td>175.0</td>\n",
       "      <td>77.0</td>\n",
       "      <td>40.0</td>\n",
       "      <td>101.0</td>\n",
       "      <td>...</td>\n",
       "      <td>NaN</td>\n",
       "      <td>NaN</td>\n",
       "      <td>75.0</td>\n",
       "      <td>81.0</td>\n",
       "      <td>35.0</td>\n",
       "      <td>18.0</td>\n",
       "      <td>95.0</td>\n",
       "      <td>NaN</td>\n",
       "      <td>98.0</td>\n",
       "      <td>2</td>\n",
       "    </tr>\n",
       "    <tr>\n",
       "      <th>22</th>\n",
       "      <td>16</td>\n",
       "      <td>1.0</td>\n",
       "      <td>54.099932</td>\n",
       "      <td>1.0</td>\n",
       "      <td>0.0</td>\n",
       "      <td>1.0</td>\n",
       "      <td>172.0</td>\n",
       "      <td>102.0</td>\n",
       "      <td>41.0</td>\n",
       "      <td>124.0</td>\n",
       "      <td>...</td>\n",
       "      <td>NaN</td>\n",
       "      <td>NaN</td>\n",
       "      <td>69.0</td>\n",
       "      <td>81.0</td>\n",
       "      <td>35.0</td>\n",
       "      <td>10.0</td>\n",
       "      <td>89.0</td>\n",
       "      <td>NaN</td>\n",
       "      <td>95.0</td>\n",
       "      <td>3</td>\n",
       "    </tr>\n",
       "    <tr>\n",
       "      <th>25</th>\n",
       "      <td>17</td>\n",
       "      <td>1.0</td>\n",
       "      <td>71.340178</td>\n",
       "      <td>0.0</td>\n",
       "      <td>0.0</td>\n",
       "      <td>1.0</td>\n",
       "      <td>166.0</td>\n",
       "      <td>77.0</td>\n",
       "      <td>39.0</td>\n",
       "      <td>100.0</td>\n",
       "      <td>...</td>\n",
       "      <td>NaN</td>\n",
       "      <td>86.0</td>\n",
       "      <td>64.0</td>\n",
       "      <td>80.0</td>\n",
       "      <td>36.0</td>\n",
       "      <td>41.0</td>\n",
       "      <td>92.0</td>\n",
       "      <td>NaN</td>\n",
       "      <td>96.0</td>\n",
       "      <td>3</td>\n",
       "    </tr>\n",
       "    <tr>\n",
       "      <th>30</th>\n",
       "      <td>19</td>\n",
       "      <td>2.0</td>\n",
       "      <td>61.598905</td>\n",
       "      <td>0.0</td>\n",
       "      <td>0.0</td>\n",
       "      <td>1.0</td>\n",
       "      <td>162.0</td>\n",
       "      <td>87.0</td>\n",
       "      <td>39.0</td>\n",
       "      <td>117.0</td>\n",
       "      <td>...</td>\n",
       "      <td>NaN</td>\n",
       "      <td>88.0</td>\n",
       "      <td>83.0</td>\n",
       "      <td>83.2</td>\n",
       "      <td>36.1</td>\n",
       "      <td>67.0</td>\n",
       "      <td>93.0</td>\n",
       "      <td>63.0</td>\n",
       "      <td>102.0</td>\n",
       "      <td>3</td>\n",
       "    </tr>\n",
       "    <tr>\n",
       "      <th>31</th>\n",
       "      <td>20</td>\n",
       "      <td>2.0</td>\n",
       "      <td>58.130048</td>\n",
       "      <td>0.0</td>\n",
       "      <td>0.0</td>\n",
       "      <td>0.0</td>\n",
       "      <td>154.0</td>\n",
       "      <td>65.0</td>\n",
       "      <td>35.0</td>\n",
       "      <td>91.0</td>\n",
       "      <td>...</td>\n",
       "      <td>NaN</td>\n",
       "      <td>90.0</td>\n",
       "      <td>83.0</td>\n",
       "      <td>81.3</td>\n",
       "      <td>35.9</td>\n",
       "      <td>18.0</td>\n",
       "      <td>94.0</td>\n",
       "      <td>3.0</td>\n",
       "      <td>92.0</td>\n",
       "      <td>3</td>\n",
       "    </tr>\n",
       "    <tr>\n",
       "      <th>35</th>\n",
       "      <td>21</td>\n",
       "      <td>2.0</td>\n",
       "      <td>44.041068</td>\n",
       "      <td>0.0</td>\n",
       "      <td>0.0</td>\n",
       "      <td>1.0</td>\n",
       "      <td>171.0</td>\n",
       "      <td>80.0</td>\n",
       "      <td>40.0</td>\n",
       "      <td>97.0</td>\n",
       "      <td>...</td>\n",
       "      <td>NaN</td>\n",
       "      <td>NaN</td>\n",
       "      <td>70.0</td>\n",
       "      <td>94.0</td>\n",
       "      <td>37.0</td>\n",
       "      <td>0.0</td>\n",
       "      <td>94.0</td>\n",
       "      <td>NaN</td>\n",
       "      <td>79.0</td>\n",
       "      <td>0</td>\n",
       "    </tr>\n",
       "  </tbody>\n",
       "</table>\n",
       "<p>10 rows × 70 columns</p>\n",
       "</div>"
      ],
      "text/plain": [
       "    PatientID  Sex        Age  Current_smoker  Former_smoker  Sedentary  \\\n",
       "0           1  2.0  35.167693             0.0            1.0        0.0   \n",
       "6           3  1.0  35.014374             0.0            0.0        0.0   \n",
       "7           4  1.0  48.802190             0.0            1.0        1.0   \n",
       "20         14  2.0  56.410678             0.0            0.0        0.0   \n",
       "21         15  1.0  71.600274             0.0            0.0        0.0   \n",
       "22         16  1.0  54.099932             1.0            0.0        1.0   \n",
       "25         17  1.0  71.340178             0.0            0.0        1.0   \n",
       "30         19  2.0  61.598905             0.0            0.0        1.0   \n",
       "31         20  2.0  58.130048             0.0            0.0        0.0   \n",
       "35         21  2.0  44.041068             0.0            0.0        1.0   \n",
       "\n",
       "    Height  Weight  Cervical_perimeter  Abdominal_perimeter  ...  \\\n",
       "0    166.0   100.0                35.0                114.0  ...   \n",
       "6    178.0    96.0                44.0                109.0  ...   \n",
       "7    182.0    81.0                38.0                 96.0  ...   \n",
       "20   165.0    88.0                38.0                110.0  ...   \n",
       "21   175.0    77.0                40.0                101.0  ...   \n",
       "22   172.0   102.0                41.0                124.0  ...   \n",
       "25   166.0    77.0                39.0                100.0  ...   \n",
       "30   162.0    87.0                39.0                117.0  ...   \n",
       "31   154.0    65.0                35.0                 91.0  ...   \n",
       "35   171.0    80.0                40.0                 97.0  ...   \n",
       "\n",
       "    Corrected_average_duration_sleep  Spirometry  FEV1  PAO2  PACO2  \\\n",
       "0                                NaN         NaN   NaN   NaN    NaN   \n",
       "6                                NaN         NaN   NaN   NaN    NaN   \n",
       "7                                NaN         NaN  58.0  80.0   36.0   \n",
       "20                               NaN        98.0  89.0  88.0   35.0   \n",
       "21                               NaN         NaN  75.0  81.0   35.0   \n",
       "22                               NaN         NaN  69.0  81.0   35.0   \n",
       "25                               NaN        86.0  64.0  80.0   36.0   \n",
       "30                               NaN        88.0  83.0  83.2   36.1   \n",
       "31                               NaN        90.0  83.0  81.3   35.9   \n",
       "35                               NaN         NaN  70.0  94.0   37.0   \n",
       "\n",
       "    Number_oxygen_desaturation  Mean_oxygen_saturation  \\\n",
       "0                          5.0                    96.0   \n",
       "6                         17.0                     NaN   \n",
       "7                          4.0                     NaN   \n",
       "20                        21.0                    92.0   \n",
       "21                        18.0                    95.0   \n",
       "22                        10.0                    89.0   \n",
       "25                        41.0                    92.0   \n",
       "30                        67.0                    93.0   \n",
       "31                        18.0                    94.0   \n",
       "35                         0.0                    94.0   \n",
       "\n",
       "    Corrected_saturation_cumulated_time  Health_state_scale_doctor  Severity  \n",
       "0                                   NaN                        NaN         1  \n",
       "6                                   NaN                        NaN         3  \n",
       "7                                   NaN                       75.0         2  \n",
       "20                                 19.0                       99.0         3  \n",
       "21                                  NaN                       98.0         2  \n",
       "22                                  NaN                       95.0         3  \n",
       "25                                  NaN                       96.0         3  \n",
       "30                                 63.0                      102.0         3  \n",
       "31                                  3.0                       92.0         3  \n",
       "35                                  NaN                       79.0         0  \n",
       "\n",
       "[10 rows x 70 columns]"
      ]
     },
     "execution_count": 49,
     "metadata": {},
     "output_type": "execute_result"
    }
   ],
   "source": [
    "data_imp.head(10)"
   ]
  },
  {
   "cell_type": "markdown",
   "id": "ef4cec03",
   "metadata": {},
   "source": [
    "### Imputing values using median for continuous and most frequent for categorical variables"
   ]
  },
  {
   "cell_type": "code",
   "execution_count": 50,
   "id": "ed5567f9",
   "metadata": {},
   "outputs": [],
   "source": [
    "imp_cont = SimpleImputer(strategy='median', missing_values=np.nan)  # define imputer for continuous variables\n",
    "imp_cont = imp_cont.fit(data_imp[continuous])                    # fit imputer on columns\n",
    "data_imp[continuous] = imp_cont.transform(data_imp[continuous])     # transform columns\n",
    "\n",
    "imp_cat = SimpleImputer(strategy='most_frequent', missing_values=np.nan)  # define imputer for categorical variables\n",
    "imp_cat = imp_cat.fit(data_imp[categorical])                                  # fit imputer on columns\n",
    "data_imp[categorical] = imp_cat.transform(data_imp[categorical])                 # transform columns"
   ]
  },
  {
   "cell_type": "code",
   "execution_count": 51,
   "id": "e33c5ccb",
   "metadata": {},
   "outputs": [
    {
     "data": {
      "text/plain": [
       "0"
      ]
     },
     "execution_count": 51,
     "metadata": {},
     "output_type": "execute_result"
    }
   ],
   "source": [
    "# Making sure it worked\n",
    "data_imp['Systolic_BP'].isnull().sum()"
   ]
  },
  {
   "cell_type": "markdown",
   "id": "3aeb9766",
   "metadata": {},
   "source": [
    "# Testing binary classification "
   ]
  },
  {
   "cell_type": "markdown",
   "id": "d53ff2d5",
   "metadata": {},
   "source": [
    "## Stratified train-test-split"
   ]
  },
  {
   "cell_type": "code",
   "execution_count": 52,
   "id": "eebad83e",
   "metadata": {},
   "outputs": [],
   "source": [
    "#data_imp.to_csv(\"data_imp.csv\")\n",
    "#data_imp = pd.read_csv(\"data_imp.csv\")"
   ]
  },
  {
   "cell_type": "code",
   "execution_count": 53,
   "id": "b672002b",
   "metadata": {},
   "outputs": [],
   "source": [
    "X=data_imp[features]  # Features  \n",
    "y=data_imp['Severity']  # Labels"
   ]
  },
  {
   "cell_type": "code",
   "execution_count": 54,
   "id": "950b00c9",
   "metadata": {},
   "outputs": [],
   "source": [
    "X_train, X_test, y_train, y_test = train_test_split(X, y,\n",
    "                                                    stratify=y, \n",
    "                                                    test_size=0.2,\n",
    "                                                    random_state=0)"
   ]
  },
  {
   "cell_type": "markdown",
   "id": "9e13de05",
   "metadata": {},
   "source": [
    "### Distribution of classes in training and testing sets"
   ]
  },
  {
   "cell_type": "code",
   "execution_count": 55,
   "id": "ea44c896",
   "metadata": {},
   "outputs": [
    {
     "name": "stdout",
     "output_type": "stream",
     "text": [
      "\n",
      "Class distribution train (%):\n"
     ]
    },
    {
     "data": {
      "text/plain": [
       "3    41.737156\n",
       "2    22.142057\n",
       "1    21.913484\n",
       "0    14.207302\n",
       "Name: Severity, dtype: float64"
      ]
     },
     "execution_count": 55,
     "metadata": {},
     "output_type": "execute_result"
    }
   ],
   "source": [
    "print('\\nClass distribution train (%):')\n",
    "y_train.value_counts(normalize=True) * 100"
   ]
  },
  {
   "cell_type": "code",
   "execution_count": 56,
   "id": "12efe620",
   "metadata": {},
   "outputs": [
    {
     "name": "stdout",
     "output_type": "stream",
     "text": [
      "\n",
      "Class distribution test (%):\n"
     ]
    },
    {
     "data": {
      "text/plain": [
       "3    41.734047\n",
       "2    22.142057\n",
       "1    21.918149\n",
       "0    14.205747\n",
       "Name: Severity, dtype: float64"
      ]
     },
     "execution_count": 56,
     "metadata": {},
     "output_type": "execute_result"
    }
   ],
   "source": [
    "print('\\nClass distribution test (%):')\n",
    "y_test.value_counts(normalize=True) * 100"
   ]
  },
  {
   "cell_type": "markdown",
   "id": "9d5e6f0c",
   "metadata": {},
   "source": [
    "## Classifier Comparison"
   ]
  },
  {
   "cell_type": "code",
   "execution_count": 57,
   "id": "bfa58d39",
   "metadata": {},
   "outputs": [],
   "source": [
    "from imblearn.over_sampling import SMOTE\n",
    "from imblearn.over_sampling import ADASYN\n",
    "\n",
    "from xgboost import XGBClassifier\n",
    "from lightgbm import LGBMClassifier\n",
    "from catboost import CatBoostClassifier\n",
    "from sklearn.ensemble import RandomForestClassifier\n",
    "from sklearn.ensemble import ExtraTreesClassifier\n",
    "from sklearn.ensemble import AdaBoostClassifier\n",
    "from sklearn.model_selection import train_test_split\n",
    "from sklearn.preprocessing import MinMaxScaler  \n",
    "\n",
    "from sklearn.ensemble import RandomForestClassifier\n",
    "from sklearn.neural_network import MLPClassifier\n",
    "from sklearn.svm import LinearSVC\n",
    "from sklearn.linear_model import LogisticRegression\n",
    "from sklearn.naive_bayes import GaussianNB\n",
    "\n",
    "from sklearn.model_selection import RepeatedStratifiedKFold\n",
    "from sklearn.model_selection import cross_val_score\n",
    "from sklearn.metrics import classification_report\n",
    "from sklearn.metrics import confusion_matrix\n",
    "from sklearn.metrics import f1_score\n",
    "from sklearn.metrics import accuracy_score\n",
    "from sklearn.metrics import roc_auc_score\n",
    "from sklearn.metrics import precision_score\n",
    "from sklearn.metrics import recall_score\n",
    "from sklearn.metrics import average_precision_score\n",
    "from sklearn.metrics import precision_recall_curve\n",
    "from sklearn.metrics import make_scorer\n",
    "from sklearn.metrics import balanced_accuracy_score\n",
    "from imblearn.metrics import geometric_mean_score\n",
    "\n",
    "from sklearn.svm import SVC\n",
    "from sklearn.neighbors import KNeighborsClassifier"
   ]
  },
  {
   "cell_type": "code",
   "execution_count": 58,
   "id": "c3dd8bbd",
   "metadata": {},
   "outputs": [],
   "source": [
    "classifiers = {\n",
    "    \"LGBMClassifier\": LGBMClassifier(),\n",
    "    \"XGBClassifier\": XGBClassifier(),\n",
    "    \"ExtraTreesClassifier\": ExtraTreesClassifier(),    \n",
    "    \"RandomForestClassifier\": RandomForestClassifier(),\n",
    "    \"CatBoostClassifier\": CatBoostClassifier(silent=True),\n",
    "    \"AdaBoostClassifier\": AdaBoostClassifier(),\n",
    "    \"Logistic Regression\": LogisticRegression(max_iter = 2000),\n",
    "    \"Naive Bayes\": GaussianNB(),\n",
    "    \"Linear SVM\": LinearSVC(max_iter = 2000),\n",
    "    \"SVM\" : SVC(class_weight='balanced', random_state = 0),\n",
    "    \"KNN\": KNeighborsClassifier(n_neighbors = 5),\n",
    "    \"MLP\": MLPClassifier(early_stopping=True)}"
   ]
  },
  {
   "cell_type": "markdown",
   "id": "d77ad32e",
   "metadata": {},
   "source": [
    "### Performance of imbalanced dataset"
   ]
  },
  {
   "cell_type": "code",
   "execution_count": 59,
   "id": "70367998",
   "metadata": {},
   "outputs": [
    {
     "name": "stdout",
     "output_type": "stream",
     "text": [
      "* LGBMClassifier\n"
     ]
    },
    {
     "name": "stderr",
     "output_type": "stream",
     "text": [
      "C:\\Users\\amona\\AppData\\Local\\Temp\\ipykernel_8468\\1552145698.py:30: FutureWarning: The frame.append method is deprecated and will be removed from pandas in a future version. Use pandas.concat instead.\n",
      "  df_result = df_result.append(row, ignore_index=True)\n"
     ]
    },
    {
     "name": "stdout",
     "output_type": "stream",
     "text": [
      "* XGBClassifier\n"
     ]
    },
    {
     "name": "stderr",
     "output_type": "stream",
     "text": [
      "C:\\Users\\amona\\AppData\\Local\\Temp\\ipykernel_8468\\1552145698.py:30: FutureWarning: The frame.append method is deprecated and will be removed from pandas in a future version. Use pandas.concat instead.\n",
      "  df_result = df_result.append(row, ignore_index=True)\n"
     ]
    },
    {
     "name": "stdout",
     "output_type": "stream",
     "text": [
      "* ExtraTreesClassifier\n"
     ]
    },
    {
     "name": "stderr",
     "output_type": "stream",
     "text": [
      "C:\\Users\\amona\\AppData\\Local\\Temp\\ipykernel_8468\\1552145698.py:30: FutureWarning: The frame.append method is deprecated and will be removed from pandas in a future version. Use pandas.concat instead.\n",
      "  df_result = df_result.append(row, ignore_index=True)\n"
     ]
    },
    {
     "name": "stdout",
     "output_type": "stream",
     "text": [
      "* RandomForestClassifier\n"
     ]
    },
    {
     "name": "stderr",
     "output_type": "stream",
     "text": [
      "C:\\Users\\amona\\AppData\\Local\\Temp\\ipykernel_8468\\1552145698.py:30: FutureWarning: The frame.append method is deprecated and will be removed from pandas in a future version. Use pandas.concat instead.\n",
      "  df_result = df_result.append(row, ignore_index=True)\n"
     ]
    },
    {
     "name": "stdout",
     "output_type": "stream",
     "text": [
      "* CatBoostClassifier\n"
     ]
    },
    {
     "name": "stderr",
     "output_type": "stream",
     "text": [
      "C:\\Users\\amona\\anaconda3\\lib\\site-packages\\sklearn\\preprocessing\\_label.py:133: DataConversionWarning: A column-vector y was passed when a 1d array was expected. Please change the shape of y to (n_samples, ), for example using ravel().\n",
      "  y = column_or_1d(y, warn=True)\n",
      "C:\\Users\\amona\\AppData\\Local\\Temp\\ipykernel_8468\\1552145698.py:30: FutureWarning: The frame.append method is deprecated and will be removed from pandas in a future version. Use pandas.concat instead.\n",
      "  df_result = df_result.append(row, ignore_index=True)\n"
     ]
    },
    {
     "name": "stdout",
     "output_type": "stream",
     "text": [
      "* AdaBoostClassifier\n"
     ]
    },
    {
     "name": "stderr",
     "output_type": "stream",
     "text": [
      "C:\\Users\\amona\\AppData\\Local\\Temp\\ipykernel_8468\\1552145698.py:30: FutureWarning: The frame.append method is deprecated and will be removed from pandas in a future version. Use pandas.concat instead.\n",
      "  df_result = df_result.append(row, ignore_index=True)\n"
     ]
    },
    {
     "name": "stdout",
     "output_type": "stream",
     "text": [
      "* Logistic Regression\n"
     ]
    },
    {
     "name": "stderr",
     "output_type": "stream",
     "text": [
      "C:\\Users\\amona\\AppData\\Local\\Temp\\ipykernel_8468\\1552145698.py:30: FutureWarning: The frame.append method is deprecated and will be removed from pandas in a future version. Use pandas.concat instead.\n",
      "  df_result = df_result.append(row, ignore_index=True)\n"
     ]
    },
    {
     "name": "stdout",
     "output_type": "stream",
     "text": [
      "* Naive Bayes\n"
     ]
    },
    {
     "name": "stderr",
     "output_type": "stream",
     "text": [
      "C:\\Users\\amona\\AppData\\Local\\Temp\\ipykernel_8468\\1552145698.py:30: FutureWarning: The frame.append method is deprecated and will be removed from pandas in a future version. Use pandas.concat instead.\n",
      "  df_result = df_result.append(row, ignore_index=True)\n"
     ]
    },
    {
     "name": "stdout",
     "output_type": "stream",
     "text": [
      "* Linear SVM\n"
     ]
    },
    {
     "name": "stderr",
     "output_type": "stream",
     "text": [
      "C:\\Users\\amona\\AppData\\Local\\Temp\\ipykernel_8468\\1552145698.py:30: FutureWarning: The frame.append method is deprecated and will be removed from pandas in a future version. Use pandas.concat instead.\n",
      "  df_result = df_result.append(row, ignore_index=True)\n"
     ]
    },
    {
     "name": "stdout",
     "output_type": "stream",
     "text": [
      "* SVM\n"
     ]
    },
    {
     "name": "stderr",
     "output_type": "stream",
     "text": [
      "C:\\Users\\amona\\AppData\\Local\\Temp\\ipykernel_8468\\1552145698.py:30: FutureWarning: The frame.append method is deprecated and will be removed from pandas in a future version. Use pandas.concat instead.\n",
      "  df_result = df_result.append(row, ignore_index=True)\n"
     ]
    },
    {
     "name": "stdout",
     "output_type": "stream",
     "text": [
      "* KNN\n"
     ]
    },
    {
     "name": "stderr",
     "output_type": "stream",
     "text": [
      "C:\\Users\\amona\\AppData\\Local\\Temp\\ipykernel_8468\\1552145698.py:30: FutureWarning: The frame.append method is deprecated and will be removed from pandas in a future version. Use pandas.concat instead.\n",
      "  df_result = df_result.append(row, ignore_index=True)\n"
     ]
    },
    {
     "name": "stdout",
     "output_type": "stream",
     "text": [
      "* MLP\n"
     ]
    },
    {
     "name": "stderr",
     "output_type": "stream",
     "text": [
      "C:\\Users\\amona\\AppData\\Local\\Temp\\ipykernel_8468\\1552145698.py:30: FutureWarning: The frame.append method is deprecated and will be removed from pandas in a future version. Use pandas.concat instead.\n",
      "  df_result = df_result.append(row, ignore_index=True)\n"
     ]
    }
   ],
   "source": [
    "df_result = pd.DataFrame(columns=['model','accuracy', 'precision','recall', 'f1', 'bal_acc', 'g_mean'])\n",
    "\n",
    "for key in classifiers:\n",
    "    print('*',key)\n",
    "\n",
    "    classifier = classifiers[key]\n",
    "    if key == \"Linear SVM\" or key == \"MLP\" or key == \"SVM\" or key == \"KNN\" or key == \"Logistic Regression\":\n",
    "        scaler = MinMaxScaler()  \n",
    "        scaler.fit(X_train)  \n",
    "        X_train = scaler.transform(X_train)  \n",
    "        X_test = scaler.transform(X_test) \n",
    "    \n",
    "    model = classifier.fit(X_train, y_train)\n",
    "    y_pred = model.predict(X_test)\n",
    "    \n",
    "    accuracy = accuracy_score(y_test, y_pred)\n",
    "    recall = recall_score(y_test, y_pred, average='weighted')\n",
    "    f1 = f1_score(y_test, y_pred, average='weighted')\n",
    "    bal_accuracy = balanced_accuracy_score(y_test, y_pred)\n",
    "    precision = precision_score(y_test, y_pred, average='weighted')\n",
    "    g_mean = geometric_mean_score(y_test, y_pred)\n",
    "    row = {'model': key,\n",
    "           'accuracy': round(accuracy,3),\n",
    "           'recall': round(recall,3),\n",
    "           'f1': round(f1,3),\n",
    "           'bal_acc': round(bal_accuracy,3),\n",
    "           'precision': round(precision,3),\n",
    "           'g_mean': round(g_mean,3),}\n",
    "\n",
    "    df_result = df_result.append(row, ignore_index=True)\n"
   ]
  },
  {
   "cell_type": "code",
   "execution_count": 60,
   "id": "5fb0a3d8",
   "metadata": {},
   "outputs": [
    {
     "data": {
      "text/html": [
       "<div>\n",
       "<style scoped>\n",
       "    .dataframe tbody tr th:only-of-type {\n",
       "        vertical-align: middle;\n",
       "    }\n",
       "\n",
       "    .dataframe tbody tr th {\n",
       "        vertical-align: top;\n",
       "    }\n",
       "\n",
       "    .dataframe thead th {\n",
       "        text-align: right;\n",
       "    }\n",
       "</style>\n",
       "<table border=\"1\" class=\"dataframe\">\n",
       "  <thead>\n",
       "    <tr style=\"text-align: right;\">\n",
       "      <th></th>\n",
       "      <th>model</th>\n",
       "      <th>accuracy</th>\n",
       "      <th>precision</th>\n",
       "      <th>recall</th>\n",
       "      <th>f1</th>\n",
       "      <th>bal_acc</th>\n",
       "      <th>g_mean</th>\n",
       "    </tr>\n",
       "  </thead>\n",
       "  <tbody>\n",
       "    <tr>\n",
       "      <th>0</th>\n",
       "      <td>LGBMClassifier</td>\n",
       "      <td>0.658</td>\n",
       "      <td>0.648</td>\n",
       "      <td>0.658</td>\n",
       "      <td>0.648</td>\n",
       "      <td>0.603</td>\n",
       "      <td>0.572</td>\n",
       "    </tr>\n",
       "    <tr>\n",
       "      <th>1</th>\n",
       "      <td>XGBClassifier</td>\n",
       "      <td>0.653</td>\n",
       "      <td>0.643</td>\n",
       "      <td>0.653</td>\n",
       "      <td>0.644</td>\n",
       "      <td>0.597</td>\n",
       "      <td>0.569</td>\n",
       "    </tr>\n",
       "    <tr>\n",
       "      <th>2</th>\n",
       "      <td>ExtraTreesClassifier</td>\n",
       "      <td>0.627</td>\n",
       "      <td>0.607</td>\n",
       "      <td>0.627</td>\n",
       "      <td>0.599</td>\n",
       "      <td>0.551</td>\n",
       "      <td>0.483</td>\n",
       "    </tr>\n",
       "    <tr>\n",
       "      <th>3</th>\n",
       "      <td>RandomForestClassifier</td>\n",
       "      <td>0.645</td>\n",
       "      <td>0.63</td>\n",
       "      <td>0.645</td>\n",
       "      <td>0.627</td>\n",
       "      <td>0.58</td>\n",
       "      <td>0.535</td>\n",
       "    </tr>\n",
       "    <tr>\n",
       "      <th>4</th>\n",
       "      <td>CatBoostClassifier</td>\n",
       "      <td>0.661</td>\n",
       "      <td>0.65</td>\n",
       "      <td>0.661</td>\n",
       "      <td>0.652</td>\n",
       "      <td>0.607</td>\n",
       "      <td>0.579</td>\n",
       "    </tr>\n",
       "    <tr>\n",
       "      <th>5</th>\n",
       "      <td>AdaBoostClassifier</td>\n",
       "      <td>0.634</td>\n",
       "      <td>0.619</td>\n",
       "      <td>0.634</td>\n",
       "      <td>0.616</td>\n",
       "      <td>0.57</td>\n",
       "      <td>0.523</td>\n",
       "    </tr>\n",
       "    <tr>\n",
       "      <th>6</th>\n",
       "      <td>Logistic Regression</td>\n",
       "      <td>0.623</td>\n",
       "      <td>0.608</td>\n",
       "      <td>0.623</td>\n",
       "      <td>0.594</td>\n",
       "      <td>0.549</td>\n",
       "      <td>0.476</td>\n",
       "    </tr>\n",
       "    <tr>\n",
       "      <th>7</th>\n",
       "      <td>Naive Bayes</td>\n",
       "      <td>0.501</td>\n",
       "      <td>0.49</td>\n",
       "      <td>0.501</td>\n",
       "      <td>0.472</td>\n",
       "      <td>0.461</td>\n",
       "      <td>0.351</td>\n",
       "    </tr>\n",
       "    <tr>\n",
       "      <th>8</th>\n",
       "      <td>Linear SVM</td>\n",
       "      <td>0.604</td>\n",
       "      <td>0.593</td>\n",
       "      <td>0.604</td>\n",
       "      <td>0.545</td>\n",
       "      <td>0.514</td>\n",
       "      <td>0.352</td>\n",
       "    </tr>\n",
       "    <tr>\n",
       "      <th>9</th>\n",
       "      <td>SVM</td>\n",
       "      <td>0.588</td>\n",
       "      <td>0.592</td>\n",
       "      <td>0.588</td>\n",
       "      <td>0.583</td>\n",
       "      <td>0.551</td>\n",
       "      <td>0.511</td>\n",
       "    </tr>\n",
       "    <tr>\n",
       "      <th>10</th>\n",
       "      <td>KNN</td>\n",
       "      <td>0.508</td>\n",
       "      <td>0.497</td>\n",
       "      <td>0.508</td>\n",
       "      <td>0.498</td>\n",
       "      <td>0.449</td>\n",
       "      <td>0.398</td>\n",
       "    </tr>\n",
       "    <tr>\n",
       "      <th>11</th>\n",
       "      <td>MLP</td>\n",
       "      <td>0.631</td>\n",
       "      <td>0.618</td>\n",
       "      <td>0.631</td>\n",
       "      <td>0.614</td>\n",
       "      <td>0.562</td>\n",
       "      <td>0.514</td>\n",
       "    </tr>\n",
       "  </tbody>\n",
       "</table>\n",
       "</div>"
      ],
      "text/plain": [
       "                     model accuracy precision recall     f1 bal_acc g_mean\n",
       "0           LGBMClassifier    0.658     0.648  0.658  0.648   0.603  0.572\n",
       "1            XGBClassifier    0.653     0.643  0.653  0.644   0.597  0.569\n",
       "2     ExtraTreesClassifier    0.627     0.607  0.627  0.599   0.551  0.483\n",
       "3   RandomForestClassifier    0.645      0.63  0.645  0.627    0.58  0.535\n",
       "4       CatBoostClassifier    0.661      0.65  0.661  0.652   0.607  0.579\n",
       "5       AdaBoostClassifier    0.634     0.619  0.634  0.616    0.57  0.523\n",
       "6      Logistic Regression    0.623     0.608  0.623  0.594   0.549  0.476\n",
       "7              Naive Bayes    0.501      0.49  0.501  0.472   0.461  0.351\n",
       "8               Linear SVM    0.604     0.593  0.604  0.545   0.514  0.352\n",
       "9                      SVM    0.588     0.592  0.588  0.583   0.551  0.511\n",
       "10                     KNN    0.508     0.497  0.508  0.498   0.449  0.398\n",
       "11                     MLP    0.631     0.618  0.631  0.614   0.562  0.514"
      ]
     },
     "execution_count": 60,
     "metadata": {},
     "output_type": "execute_result"
    }
   ],
   "source": [
    "df_result"
   ]
  },
  {
   "cell_type": "markdown",
   "id": "e918d94b",
   "metadata": {},
   "source": [
    "## Using SMOTE for oversampling on X_train and y_train"
   ]
  },
  {
   "cell_type": "markdown",
   "id": "0a3a7e13",
   "metadata": {},
   "source": [
    "### Oversampling training data"
   ]
  },
  {
   "cell_type": "code",
   "execution_count": 61,
   "id": "53dea4de",
   "metadata": {},
   "outputs": [
    {
     "data": {
      "text/plain": [
       "3    26842\n",
       "2    26842\n",
       "1    26842\n",
       "0    26842\n",
       "Name: Severity, dtype: int64"
      ]
     },
     "execution_count": 61,
     "metadata": {},
     "output_type": "execute_result"
    }
   ],
   "source": [
    "oversampled = SMOTE(random_state=0)\n",
    "X_train_smote, y_train_smote = oversampled.fit_resample(X_train, y_train)\n",
    "y_train_smote.value_counts()"
   ]
  },
  {
   "cell_type": "code",
   "execution_count": 62,
   "id": "217db4a5",
   "metadata": {},
   "outputs": [
    {
     "name": "stdout",
     "output_type": "stream",
     "text": [
      "* LGBMClassifier\n"
     ]
    },
    {
     "name": "stderr",
     "output_type": "stream",
     "text": [
      "C:\\Users\\amona\\AppData\\Local\\Temp\\ipykernel_8468\\77636734.py:30: FutureWarning: The frame.append method is deprecated and will be removed from pandas in a future version. Use pandas.concat instead.\n",
      "  df_result = df_result.append(row, ignore_index=True)\n"
     ]
    },
    {
     "name": "stdout",
     "output_type": "stream",
     "text": [
      "* XGBClassifier\n"
     ]
    },
    {
     "name": "stderr",
     "output_type": "stream",
     "text": [
      "C:\\Users\\amona\\AppData\\Local\\Temp\\ipykernel_8468\\77636734.py:30: FutureWarning: The frame.append method is deprecated and will be removed from pandas in a future version. Use pandas.concat instead.\n",
      "  df_result = df_result.append(row, ignore_index=True)\n"
     ]
    },
    {
     "name": "stdout",
     "output_type": "stream",
     "text": [
      "* ExtraTreesClassifier\n"
     ]
    },
    {
     "name": "stderr",
     "output_type": "stream",
     "text": [
      "C:\\Users\\amona\\AppData\\Local\\Temp\\ipykernel_8468\\77636734.py:30: FutureWarning: The frame.append method is deprecated and will be removed from pandas in a future version. Use pandas.concat instead.\n",
      "  df_result = df_result.append(row, ignore_index=True)\n"
     ]
    },
    {
     "name": "stdout",
     "output_type": "stream",
     "text": [
      "* RandomForestClassifier\n"
     ]
    },
    {
     "name": "stderr",
     "output_type": "stream",
     "text": [
      "C:\\Users\\amona\\AppData\\Local\\Temp\\ipykernel_8468\\77636734.py:30: FutureWarning: The frame.append method is deprecated and will be removed from pandas in a future version. Use pandas.concat instead.\n",
      "  df_result = df_result.append(row, ignore_index=True)\n"
     ]
    },
    {
     "name": "stdout",
     "output_type": "stream",
     "text": [
      "* CatBoostClassifier\n"
     ]
    },
    {
     "name": "stderr",
     "output_type": "stream",
     "text": [
      "C:\\Users\\amona\\anaconda3\\lib\\site-packages\\sklearn\\preprocessing\\_label.py:133: DataConversionWarning: A column-vector y was passed when a 1d array was expected. Please change the shape of y to (n_samples, ), for example using ravel().\n",
      "  y = column_or_1d(y, warn=True)\n",
      "C:\\Users\\amona\\AppData\\Local\\Temp\\ipykernel_8468\\77636734.py:30: FutureWarning: The frame.append method is deprecated and will be removed from pandas in a future version. Use pandas.concat instead.\n",
      "  df_result = df_result.append(row, ignore_index=True)\n"
     ]
    },
    {
     "name": "stdout",
     "output_type": "stream",
     "text": [
      "* AdaBoostClassifier\n"
     ]
    },
    {
     "name": "stderr",
     "output_type": "stream",
     "text": [
      "C:\\Users\\amona\\AppData\\Local\\Temp\\ipykernel_8468\\77636734.py:30: FutureWarning: The frame.append method is deprecated and will be removed from pandas in a future version. Use pandas.concat instead.\n",
      "  df_result = df_result.append(row, ignore_index=True)\n"
     ]
    },
    {
     "name": "stdout",
     "output_type": "stream",
     "text": [
      "* Logistic Regression\n"
     ]
    },
    {
     "name": "stderr",
     "output_type": "stream",
     "text": [
      "C:\\Users\\amona\\AppData\\Local\\Temp\\ipykernel_8468\\77636734.py:30: FutureWarning: The frame.append method is deprecated and will be removed from pandas in a future version. Use pandas.concat instead.\n",
      "  df_result = df_result.append(row, ignore_index=True)\n"
     ]
    },
    {
     "name": "stdout",
     "output_type": "stream",
     "text": [
      "* Naive Bayes\n"
     ]
    },
    {
     "name": "stderr",
     "output_type": "stream",
     "text": [
      "C:\\Users\\amona\\AppData\\Local\\Temp\\ipykernel_8468\\77636734.py:30: FutureWarning: The frame.append method is deprecated and will be removed from pandas in a future version. Use pandas.concat instead.\n",
      "  df_result = df_result.append(row, ignore_index=True)\n"
     ]
    },
    {
     "name": "stdout",
     "output_type": "stream",
     "text": [
      "* Linear SVM\n"
     ]
    },
    {
     "name": "stderr",
     "output_type": "stream",
     "text": [
      "C:\\Users\\amona\\AppData\\Local\\Temp\\ipykernel_8468\\77636734.py:30: FutureWarning: The frame.append method is deprecated and will be removed from pandas in a future version. Use pandas.concat instead.\n",
      "  df_result = df_result.append(row, ignore_index=True)\n"
     ]
    },
    {
     "name": "stdout",
     "output_type": "stream",
     "text": [
      "* SVM\n"
     ]
    },
    {
     "name": "stderr",
     "output_type": "stream",
     "text": [
      "C:\\Users\\amona\\AppData\\Local\\Temp\\ipykernel_8468\\77636734.py:30: FutureWarning: The frame.append method is deprecated and will be removed from pandas in a future version. Use pandas.concat instead.\n",
      "  df_result = df_result.append(row, ignore_index=True)\n"
     ]
    },
    {
     "name": "stdout",
     "output_type": "stream",
     "text": [
      "* KNN\n"
     ]
    },
    {
     "name": "stderr",
     "output_type": "stream",
     "text": [
      "C:\\Users\\amona\\AppData\\Local\\Temp\\ipykernel_8468\\77636734.py:30: FutureWarning: The frame.append method is deprecated and will be removed from pandas in a future version. Use pandas.concat instead.\n",
      "  df_result = df_result.append(row, ignore_index=True)\n"
     ]
    },
    {
     "name": "stdout",
     "output_type": "stream",
     "text": [
      "* MLP\n"
     ]
    },
    {
     "name": "stderr",
     "output_type": "stream",
     "text": [
      "C:\\Users\\amona\\AppData\\Local\\Temp\\ipykernel_8468\\77636734.py:30: FutureWarning: The frame.append method is deprecated and will be removed from pandas in a future version. Use pandas.concat instead.\n",
      "  df_result = df_result.append(row, ignore_index=True)\n"
     ]
    }
   ],
   "source": [
    "df_result = pd.DataFrame(columns=['model','accuracy', 'precision','recall', 'f1', 'bal_acc', 'g_mean'])\n",
    "\n",
    "for key in classifiers:\n",
    "    print('*',key)\n",
    "\n",
    "    classifier = classifiers[key]\n",
    "    if key == \"Linear SVM\" or key == \"MLP\" or key == \"SVM\" or key == \"KNN\" or key == \"Logistic Regression\":\n",
    "        scaler = MinMaxScaler()  \n",
    "        scaler.fit(X_train)  \n",
    "        X_train_smote = scaler.transform(X_train_smote)  \n",
    "        X_test = scaler.transform(X_test) \n",
    "    \n",
    "    model = classifier.fit(X_train_smote, y_train_smote)\n",
    "    y_pred = model.predict(X_test)\n",
    "    \n",
    "    accuracy = accuracy_score(y_test, y_pred)\n",
    "    recall = recall_score(y_test, y_pred, average='weighted')\n",
    "    f1 = f1_score(y_test, y_pred, average='weighted')\n",
    "    bal_accuracy = balanced_accuracy_score(y_test, y_pred)\n",
    "    precision = precision_score(y_test, y_pred, average='weighted')\n",
    "    g_mean = geometric_mean_score(y_test, y_pred)\n",
    "    row = {'model': key,\n",
    "           'accuracy': round(accuracy,3),\n",
    "           'recall': round(recall,3),\n",
    "           'f1': round(f1,3),\n",
    "           'bal_acc': round(bal_accuracy,3),\n",
    "           'precision': round(precision,3),\n",
    "           'g_mean': round(g_mean,3),}\n",
    "\n",
    "    df_result = df_result.append(row, ignore_index=True)"
   ]
  },
  {
   "cell_type": "code",
   "execution_count": 63,
   "id": "9524150b",
   "metadata": {},
   "outputs": [
    {
     "data": {
      "text/html": [
       "<div>\n",
       "<style scoped>\n",
       "    .dataframe tbody tr th:only-of-type {\n",
       "        vertical-align: middle;\n",
       "    }\n",
       "\n",
       "    .dataframe tbody tr th {\n",
       "        vertical-align: top;\n",
       "    }\n",
       "\n",
       "    .dataframe thead th {\n",
       "        text-align: right;\n",
       "    }\n",
       "</style>\n",
       "<table border=\"1\" class=\"dataframe\">\n",
       "  <thead>\n",
       "    <tr style=\"text-align: right;\">\n",
       "      <th></th>\n",
       "      <th>model</th>\n",
       "      <th>accuracy</th>\n",
       "      <th>precision</th>\n",
       "      <th>recall</th>\n",
       "      <th>f1</th>\n",
       "      <th>bal_acc</th>\n",
       "      <th>g_mean</th>\n",
       "    </tr>\n",
       "  </thead>\n",
       "  <tbody>\n",
       "    <tr>\n",
       "      <th>0</th>\n",
       "      <td>LGBMClassifier</td>\n",
       "      <td>0.654</td>\n",
       "      <td>0.649</td>\n",
       "      <td>0.654</td>\n",
       "      <td>0.65</td>\n",
       "      <td>0.61</td>\n",
       "      <td>0.59</td>\n",
       "    </tr>\n",
       "    <tr>\n",
       "      <th>1</th>\n",
       "      <td>XGBClassifier</td>\n",
       "      <td>0.651</td>\n",
       "      <td>0.645</td>\n",
       "      <td>0.651</td>\n",
       "      <td>0.646</td>\n",
       "      <td>0.606</td>\n",
       "      <td>0.585</td>\n",
       "    </tr>\n",
       "    <tr>\n",
       "      <th>2</th>\n",
       "      <td>ExtraTreesClassifier</td>\n",
       "      <td>0.617</td>\n",
       "      <td>0.597</td>\n",
       "      <td>0.617</td>\n",
       "      <td>0.599</td>\n",
       "      <td>0.555</td>\n",
       "      <td>0.506</td>\n",
       "    </tr>\n",
       "    <tr>\n",
       "      <th>3</th>\n",
       "      <td>RandomForestClassifier</td>\n",
       "      <td>0.643</td>\n",
       "      <td>0.636</td>\n",
       "      <td>0.643</td>\n",
       "      <td>0.638</td>\n",
       "      <td>0.597</td>\n",
       "      <td>0.574</td>\n",
       "    </tr>\n",
       "    <tr>\n",
       "      <th>4</th>\n",
       "      <td>CatBoostClassifier</td>\n",
       "      <td>0.653</td>\n",
       "      <td>0.648</td>\n",
       "      <td>0.653</td>\n",
       "      <td>0.649</td>\n",
       "      <td>0.609</td>\n",
       "      <td>0.59</td>\n",
       "    </tr>\n",
       "    <tr>\n",
       "      <th>5</th>\n",
       "      <td>AdaBoostClassifier</td>\n",
       "      <td>0.618</td>\n",
       "      <td>0.627</td>\n",
       "      <td>0.618</td>\n",
       "      <td>0.621</td>\n",
       "      <td>0.588</td>\n",
       "      <td>0.574</td>\n",
       "    </tr>\n",
       "    <tr>\n",
       "      <th>6</th>\n",
       "      <td>Logistic Regression</td>\n",
       "      <td>0.599</td>\n",
       "      <td>0.609</td>\n",
       "      <td>0.599</td>\n",
       "      <td>0.601</td>\n",
       "      <td>0.568</td>\n",
       "      <td>0.547</td>\n",
       "    </tr>\n",
       "    <tr>\n",
       "      <th>7</th>\n",
       "      <td>Naive Bayes</td>\n",
       "      <td>0.442</td>\n",
       "      <td>0.466</td>\n",
       "      <td>0.442</td>\n",
       "      <td>0.44</td>\n",
       "      <td>0.436</td>\n",
       "      <td>0.386</td>\n",
       "    </tr>\n",
       "    <tr>\n",
       "      <th>8</th>\n",
       "      <td>Linear SVM</td>\n",
       "      <td>0.591</td>\n",
       "      <td>0.58</td>\n",
       "      <td>0.591</td>\n",
       "      <td>0.564</td>\n",
       "      <td>0.543</td>\n",
       "      <td>0.458</td>\n",
       "    </tr>\n",
       "    <tr>\n",
       "      <th>9</th>\n",
       "      <td>SVM</td>\n",
       "      <td>0.603</td>\n",
       "      <td>0.598</td>\n",
       "      <td>0.603</td>\n",
       "      <td>0.596</td>\n",
       "      <td>0.556</td>\n",
       "      <td>0.522</td>\n",
       "    </tr>\n",
       "    <tr>\n",
       "      <th>10</th>\n",
       "      <td>KNN</td>\n",
       "      <td>0.43</td>\n",
       "      <td>0.491</td>\n",
       "      <td>0.43</td>\n",
       "      <td>0.448</td>\n",
       "      <td>0.416</td>\n",
       "      <td>0.403</td>\n",
       "    </tr>\n",
       "    <tr>\n",
       "      <th>11</th>\n",
       "      <td>MLP</td>\n",
       "      <td>0.602</td>\n",
       "      <td>0.617</td>\n",
       "      <td>0.602</td>\n",
       "      <td>0.608</td>\n",
       "      <td>0.57</td>\n",
       "      <td>0.559</td>\n",
       "    </tr>\n",
       "  </tbody>\n",
       "</table>\n",
       "</div>"
      ],
      "text/plain": [
       "                     model accuracy precision recall     f1 bal_acc g_mean\n",
       "0           LGBMClassifier    0.654     0.649  0.654   0.65    0.61   0.59\n",
       "1            XGBClassifier    0.651     0.645  0.651  0.646   0.606  0.585\n",
       "2     ExtraTreesClassifier    0.617     0.597  0.617  0.599   0.555  0.506\n",
       "3   RandomForestClassifier    0.643     0.636  0.643  0.638   0.597  0.574\n",
       "4       CatBoostClassifier    0.653     0.648  0.653  0.649   0.609   0.59\n",
       "5       AdaBoostClassifier    0.618     0.627  0.618  0.621   0.588  0.574\n",
       "6      Logistic Regression    0.599     0.609  0.599  0.601   0.568  0.547\n",
       "7              Naive Bayes    0.442     0.466  0.442   0.44   0.436  0.386\n",
       "8               Linear SVM    0.591      0.58  0.591  0.564   0.543  0.458\n",
       "9                      SVM    0.603     0.598  0.603  0.596   0.556  0.522\n",
       "10                     KNN     0.43     0.491   0.43  0.448   0.416  0.403\n",
       "11                     MLP    0.602     0.617  0.602  0.608    0.57  0.559"
      ]
     },
     "execution_count": 63,
     "metadata": {},
     "output_type": "execute_result"
    }
   ],
   "source": [
    "df_result"
   ]
  },
  {
   "cell_type": "markdown",
   "id": "9eb369f5",
   "metadata": {},
   "source": [
    "## Using ADASYN for oversampling on X_train and y_train"
   ]
  },
  {
   "cell_type": "markdown",
   "id": "af298dc6",
   "metadata": {},
   "source": [
    "### Oversampling training data"
   ]
  },
  {
   "cell_type": "code",
   "execution_count": 64,
   "id": "0e2d0636",
   "metadata": {},
   "outputs": [
    {
     "data": {
      "text/plain": [
       "1    27096\n",
       "2    26995\n",
       "0    26858\n",
       "3    26842\n",
       "Name: Severity, dtype: int64"
      ]
     },
     "execution_count": 64,
     "metadata": {},
     "output_type": "execute_result"
    }
   ],
   "source": [
    "oversampled_a = ADASYN(random_state=0)\n",
    "X_train_ada, y_train_ada = oversampled_a.fit_resample(X_train, y_train)\n",
    "y_train_ada.value_counts()"
   ]
  },
  {
   "cell_type": "code",
   "execution_count": 65,
   "id": "fc5440de",
   "metadata": {},
   "outputs": [
    {
     "name": "stdout",
     "output_type": "stream",
     "text": [
      "* LGBMClassifier\n"
     ]
    },
    {
     "name": "stderr",
     "output_type": "stream",
     "text": [
      "C:\\Users\\amona\\AppData\\Local\\Temp\\ipykernel_8468\\3546144680.py:30: FutureWarning: The frame.append method is deprecated and will be removed from pandas in a future version. Use pandas.concat instead.\n",
      "  df_result = df_result.append(row, ignore_index=True)\n"
     ]
    },
    {
     "name": "stdout",
     "output_type": "stream",
     "text": [
      "* XGBClassifier\n",
      "* ExtraTreesClassifier\n"
     ]
    },
    {
     "name": "stderr",
     "output_type": "stream",
     "text": [
      "C:\\Users\\amona\\AppData\\Local\\Temp\\ipykernel_8468\\3546144680.py:30: FutureWarning: The frame.append method is deprecated and will be removed from pandas in a future version. Use pandas.concat instead.\n",
      "  df_result = df_result.append(row, ignore_index=True)\n",
      "C:\\Users\\amona\\AppData\\Local\\Temp\\ipykernel_8468\\3546144680.py:30: FutureWarning: The frame.append method is deprecated and will be removed from pandas in a future version. Use pandas.concat instead.\n",
      "  df_result = df_result.append(row, ignore_index=True)\n"
     ]
    },
    {
     "name": "stdout",
     "output_type": "stream",
     "text": [
      "* RandomForestClassifier\n"
     ]
    },
    {
     "name": "stderr",
     "output_type": "stream",
     "text": [
      "C:\\Users\\amona\\AppData\\Local\\Temp\\ipykernel_8468\\3546144680.py:30: FutureWarning: The frame.append method is deprecated and will be removed from pandas in a future version. Use pandas.concat instead.\n",
      "  df_result = df_result.append(row, ignore_index=True)\n"
     ]
    },
    {
     "name": "stdout",
     "output_type": "stream",
     "text": [
      "* CatBoostClassifier\n"
     ]
    },
    {
     "name": "stderr",
     "output_type": "stream",
     "text": [
      "C:\\Users\\amona\\anaconda3\\lib\\site-packages\\sklearn\\preprocessing\\_label.py:133: DataConversionWarning: A column-vector y was passed when a 1d array was expected. Please change the shape of y to (n_samples, ), for example using ravel().\n",
      "  y = column_or_1d(y, warn=True)\n",
      "C:\\Users\\amona\\AppData\\Local\\Temp\\ipykernel_8468\\3546144680.py:30: FutureWarning: The frame.append method is deprecated and will be removed from pandas in a future version. Use pandas.concat instead.\n",
      "  df_result = df_result.append(row, ignore_index=True)\n"
     ]
    },
    {
     "name": "stdout",
     "output_type": "stream",
     "text": [
      "* AdaBoostClassifier\n"
     ]
    },
    {
     "name": "stderr",
     "output_type": "stream",
     "text": [
      "C:\\Users\\amona\\AppData\\Local\\Temp\\ipykernel_8468\\3546144680.py:30: FutureWarning: The frame.append method is deprecated and will be removed from pandas in a future version. Use pandas.concat instead.\n",
      "  df_result = df_result.append(row, ignore_index=True)\n"
     ]
    },
    {
     "name": "stdout",
     "output_type": "stream",
     "text": [
      "* Logistic Regression\n"
     ]
    },
    {
     "name": "stderr",
     "output_type": "stream",
     "text": [
      "C:\\Users\\amona\\AppData\\Local\\Temp\\ipykernel_8468\\3546144680.py:30: FutureWarning: The frame.append method is deprecated and will be removed from pandas in a future version. Use pandas.concat instead.\n",
      "  df_result = df_result.append(row, ignore_index=True)\n"
     ]
    },
    {
     "name": "stdout",
     "output_type": "stream",
     "text": [
      "* Naive Bayes\n"
     ]
    },
    {
     "name": "stderr",
     "output_type": "stream",
     "text": [
      "C:\\Users\\amona\\AppData\\Local\\Temp\\ipykernel_8468\\3546144680.py:30: FutureWarning: The frame.append method is deprecated and will be removed from pandas in a future version. Use pandas.concat instead.\n",
      "  df_result = df_result.append(row, ignore_index=True)\n"
     ]
    },
    {
     "name": "stdout",
     "output_type": "stream",
     "text": [
      "* Linear SVM\n"
     ]
    },
    {
     "name": "stderr",
     "output_type": "stream",
     "text": [
      "C:\\Users\\amona\\AppData\\Local\\Temp\\ipykernel_8468\\3546144680.py:30: FutureWarning: The frame.append method is deprecated and will be removed from pandas in a future version. Use pandas.concat instead.\n",
      "  df_result = df_result.append(row, ignore_index=True)\n"
     ]
    },
    {
     "name": "stdout",
     "output_type": "stream",
     "text": [
      "* SVM\n"
     ]
    },
    {
     "name": "stderr",
     "output_type": "stream",
     "text": [
      "C:\\Users\\amona\\AppData\\Local\\Temp\\ipykernel_8468\\3546144680.py:30: FutureWarning: The frame.append method is deprecated and will be removed from pandas in a future version. Use pandas.concat instead.\n",
      "  df_result = df_result.append(row, ignore_index=True)\n"
     ]
    },
    {
     "name": "stdout",
     "output_type": "stream",
     "text": [
      "* KNN\n"
     ]
    },
    {
     "name": "stderr",
     "output_type": "stream",
     "text": [
      "C:\\Users\\amona\\AppData\\Local\\Temp\\ipykernel_8468\\3546144680.py:30: FutureWarning: The frame.append method is deprecated and will be removed from pandas in a future version. Use pandas.concat instead.\n",
      "  df_result = df_result.append(row, ignore_index=True)\n"
     ]
    },
    {
     "name": "stdout",
     "output_type": "stream",
     "text": [
      "* MLP\n"
     ]
    },
    {
     "name": "stderr",
     "output_type": "stream",
     "text": [
      "C:\\Users\\amona\\AppData\\Local\\Temp\\ipykernel_8468\\3546144680.py:30: FutureWarning: The frame.append method is deprecated and will be removed from pandas in a future version. Use pandas.concat instead.\n",
      "  df_result = df_result.append(row, ignore_index=True)\n"
     ]
    }
   ],
   "source": [
    "df_result = pd.DataFrame(columns=['model','accuracy', 'precision','recall', 'f1', 'bal_acc', 'g_mean'])\n",
    "\n",
    "for key in classifiers:\n",
    "    print('*',key)\n",
    "\n",
    "    classifier = classifiers[key]\n",
    "    if key == \"Linear SVM\" or key == \"MLP\" or key == \"SVM\" or key == \"KNN\" or key == \"Logistic Regression\":\n",
    "        scaler = MinMaxScaler()  \n",
    "        scaler.fit(X_train)  \n",
    "        X_train_ada = scaler.transform(X_train_ada)  \n",
    "        X_test = scaler.transform(X_test) \n",
    "    \n",
    "    model = classifier.fit(X_train_ada, y_train_ada)\n",
    "    y_pred = model.predict(X_test)\n",
    "    \n",
    "    accuracy = accuracy_score(y_test, y_pred)\n",
    "    recall = recall_score(y_test, y_pred, average='weighted')\n",
    "    f1 = f1_score(y_test, y_pred, average='weighted')\n",
    "    bal_accuracy = balanced_accuracy_score(y_test, y_pred)\n",
    "    precision = precision_score(y_test, y_pred, average='weighted')\n",
    "    g_mean = geometric_mean_score(y_test, y_pred)\n",
    "    row = {'model': key,\n",
    "           'accuracy': round(accuracy,3),\n",
    "           'recall': round(recall,3),\n",
    "           'f1': round(f1,3),\n",
    "           'bal_acc': round(bal_accuracy,3),\n",
    "           'precision': round(precision,3),\n",
    "           'g_mean': round(g_mean,3),}\n",
    "\n",
    "    df_result = df_result.append(row, ignore_index=True)"
   ]
  },
  {
   "cell_type": "code",
   "execution_count": 66,
   "id": "2973ce36",
   "metadata": {},
   "outputs": [
    {
     "data": {
      "text/html": [
       "<div>\n",
       "<style scoped>\n",
       "    .dataframe tbody tr th:only-of-type {\n",
       "        vertical-align: middle;\n",
       "    }\n",
       "\n",
       "    .dataframe tbody tr th {\n",
       "        vertical-align: top;\n",
       "    }\n",
       "\n",
       "    .dataframe thead th {\n",
       "        text-align: right;\n",
       "    }\n",
       "</style>\n",
       "<table border=\"1\" class=\"dataframe\">\n",
       "  <thead>\n",
       "    <tr style=\"text-align: right;\">\n",
       "      <th></th>\n",
       "      <th>model</th>\n",
       "      <th>accuracy</th>\n",
       "      <th>precision</th>\n",
       "      <th>recall</th>\n",
       "      <th>f1</th>\n",
       "      <th>bal_acc</th>\n",
       "      <th>g_mean</th>\n",
       "    </tr>\n",
       "  </thead>\n",
       "  <tbody>\n",
       "    <tr>\n",
       "      <th>0</th>\n",
       "      <td>LGBMClassifier</td>\n",
       "      <td>0.655</td>\n",
       "      <td>0.65</td>\n",
       "      <td>0.655</td>\n",
       "      <td>0.65</td>\n",
       "      <td>0.611</td>\n",
       "      <td>0.59</td>\n",
       "    </tr>\n",
       "    <tr>\n",
       "      <th>1</th>\n",
       "      <td>XGBClassifier</td>\n",
       "      <td>0.653</td>\n",
       "      <td>0.647</td>\n",
       "      <td>0.653</td>\n",
       "      <td>0.648</td>\n",
       "      <td>0.607</td>\n",
       "      <td>0.585</td>\n",
       "    </tr>\n",
       "    <tr>\n",
       "      <th>2</th>\n",
       "      <td>ExtraTreesClassifier</td>\n",
       "      <td>0.621</td>\n",
       "      <td>0.604</td>\n",
       "      <td>0.621</td>\n",
       "      <td>0.604</td>\n",
       "      <td>0.559</td>\n",
       "      <td>0.513</td>\n",
       "    </tr>\n",
       "    <tr>\n",
       "      <th>3</th>\n",
       "      <td>RandomForestClassifier</td>\n",
       "      <td>0.644</td>\n",
       "      <td>0.638</td>\n",
       "      <td>0.644</td>\n",
       "      <td>0.64</td>\n",
       "      <td>0.599</td>\n",
       "      <td>0.577</td>\n",
       "    </tr>\n",
       "    <tr>\n",
       "      <th>4</th>\n",
       "      <td>CatBoostClassifier</td>\n",
       "      <td>0.655</td>\n",
       "      <td>0.649</td>\n",
       "      <td>0.655</td>\n",
       "      <td>0.651</td>\n",
       "      <td>0.61</td>\n",
       "      <td>0.59</td>\n",
       "    </tr>\n",
       "    <tr>\n",
       "      <th>5</th>\n",
       "      <td>AdaBoostClassifier</td>\n",
       "      <td>0.623</td>\n",
       "      <td>0.623</td>\n",
       "      <td>0.623</td>\n",
       "      <td>0.622</td>\n",
       "      <td>0.585</td>\n",
       "      <td>0.566</td>\n",
       "    </tr>\n",
       "    <tr>\n",
       "      <th>6</th>\n",
       "      <td>Logistic Regression</td>\n",
       "      <td>0.597</td>\n",
       "      <td>0.608</td>\n",
       "      <td>0.597</td>\n",
       "      <td>0.599</td>\n",
       "      <td>0.566</td>\n",
       "      <td>0.545</td>\n",
       "    </tr>\n",
       "    <tr>\n",
       "      <th>7</th>\n",
       "      <td>Naive Bayes</td>\n",
       "      <td>0.436</td>\n",
       "      <td>0.464</td>\n",
       "      <td>0.436</td>\n",
       "      <td>0.434</td>\n",
       "      <td>0.433</td>\n",
       "      <td>0.377</td>\n",
       "    </tr>\n",
       "    <tr>\n",
       "      <th>8</th>\n",
       "      <td>Linear SVM</td>\n",
       "      <td>0.59</td>\n",
       "      <td>0.58</td>\n",
       "      <td>0.59</td>\n",
       "      <td>0.562</td>\n",
       "      <td>0.541</td>\n",
       "      <td>0.453</td>\n",
       "    </tr>\n",
       "    <tr>\n",
       "      <th>9</th>\n",
       "      <td>SVM</td>\n",
       "      <td>0.602</td>\n",
       "      <td>0.597</td>\n",
       "      <td>0.602</td>\n",
       "      <td>0.594</td>\n",
       "      <td>0.554</td>\n",
       "      <td>0.519</td>\n",
       "    </tr>\n",
       "    <tr>\n",
       "      <th>10</th>\n",
       "      <td>KNN</td>\n",
       "      <td>0.424</td>\n",
       "      <td>0.49</td>\n",
       "      <td>0.424</td>\n",
       "      <td>0.442</td>\n",
       "      <td>0.409</td>\n",
       "      <td>0.398</td>\n",
       "    </tr>\n",
       "    <tr>\n",
       "      <th>11</th>\n",
       "      <td>MLP</td>\n",
       "      <td>0.608</td>\n",
       "      <td>0.615</td>\n",
       "      <td>0.608</td>\n",
       "      <td>0.611</td>\n",
       "      <td>0.569</td>\n",
       "      <td>0.555</td>\n",
       "    </tr>\n",
       "  </tbody>\n",
       "</table>\n",
       "</div>"
      ],
      "text/plain": [
       "                     model accuracy precision recall     f1 bal_acc g_mean\n",
       "0           LGBMClassifier    0.655      0.65  0.655   0.65   0.611   0.59\n",
       "1            XGBClassifier    0.653     0.647  0.653  0.648   0.607  0.585\n",
       "2     ExtraTreesClassifier    0.621     0.604  0.621  0.604   0.559  0.513\n",
       "3   RandomForestClassifier    0.644     0.638  0.644   0.64   0.599  0.577\n",
       "4       CatBoostClassifier    0.655     0.649  0.655  0.651    0.61   0.59\n",
       "5       AdaBoostClassifier    0.623     0.623  0.623  0.622   0.585  0.566\n",
       "6      Logistic Regression    0.597     0.608  0.597  0.599   0.566  0.545\n",
       "7              Naive Bayes    0.436     0.464  0.436  0.434   0.433  0.377\n",
       "8               Linear SVM     0.59      0.58   0.59  0.562   0.541  0.453\n",
       "9                      SVM    0.602     0.597  0.602  0.594   0.554  0.519\n",
       "10                     KNN    0.424      0.49  0.424  0.442   0.409  0.398\n",
       "11                     MLP    0.608     0.615  0.608  0.611   0.569  0.555"
      ]
     },
     "execution_count": 66,
     "metadata": {},
     "output_type": "execute_result"
    }
   ],
   "source": [
    "df_result"
   ]
  }
 ],
 "metadata": {
  "kernelspec": {
   "display_name": "Python 3 (ipykernel)",
   "language": "python",
   "name": "python3"
  },
  "language_info": {
   "codemirror_mode": {
    "name": "ipython",
    "version": 3
   },
   "file_extension": ".py",
   "mimetype": "text/x-python",
   "name": "python",
   "nbconvert_exporter": "python",
   "pygments_lexer": "ipython3",
   "version": "3.9.12"
  }
 },
 "nbformat": 4,
 "nbformat_minor": 5
}
