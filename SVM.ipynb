{
 "cells": [
  {
   "cell_type": "markdown",
   "id": "f363b4d7",
   "metadata": {},
   "source": [
    "# SVM"
   ]
  },
  {
   "cell_type": "code",
   "execution_count": 1,
   "id": "93a2b6cd",
   "metadata": {},
   "outputs": [],
   "source": [
    "import pandas as pd\n",
    "from sklearn.model_selection import train_test_split\n",
    "\n",
    "from sklearn import metrics\n",
    "import numpy as np\n",
    "import matplotlib.pyplot as plt\n",
    "import seaborn as sns\n",
    "from sklearn.metrics import confusion_matrix, classification_report\n",
    "from sklearn.metrics import balanced_accuracy_score, precision_score, recall_score\n",
    "\n",
    "from sklearn.preprocessing import MinMaxScaler  \n",
    "\n",
    "from sklearn.svm import SVC\n",
    "\n"
   ]
  },
  {
   "cell_type": "code",
   "execution_count": 2,
   "id": "1fd86a32",
   "metadata": {},
   "outputs": [],
   "source": [
    "data = pd.read_csv(\"OSA_complete_patients.csv\", index_col = 0)\n",
    "# this data file was created using the RF_no_nan_data.ipynb file which should be in the missing value imputation folder"
   ]
  },
  {
   "cell_type": "code",
   "execution_count": 3,
   "id": "ba0993db",
   "metadata": {},
   "outputs": [
    {
     "data": {
      "text/html": [
       "<div>\n",
       "<style scoped>\n",
       "    .dataframe tbody tr th:only-of-type {\n",
       "        vertical-align: middle;\n",
       "    }\n",
       "\n",
       "    .dataframe tbody tr th {\n",
       "        vertical-align: top;\n",
       "    }\n",
       "\n",
       "    .dataframe thead th {\n",
       "        text-align: right;\n",
       "    }\n",
       "</style>\n",
       "<table border=\"1\" class=\"dataframe\">\n",
       "  <thead>\n",
       "    <tr style=\"text-align: right;\">\n",
       "      <th></th>\n",
       "      <th>PatientID</th>\n",
       "      <th>Sex</th>\n",
       "      <th>Age</th>\n",
       "      <th>Current_smoker</th>\n",
       "      <th>Former_smoker</th>\n",
       "      <th>Sedentary</th>\n",
       "      <th>Height</th>\n",
       "      <th>Weight</th>\n",
       "      <th>Cervical_perimeter</th>\n",
       "      <th>Abdominal_perimeter</th>\n",
       "      <th>...</th>\n",
       "      <th>Nocturnal_perspiration</th>\n",
       "      <th>Shortness_of_breath_on_exertion</th>\n",
       "      <th>Nocturia</th>\n",
       "      <th>Drowsiness_accident</th>\n",
       "      <th>Near_miss_accident</th>\n",
       "      <th>Respiratory_arrest</th>\n",
       "      <th>Epworth_scale</th>\n",
       "      <th>Pichots_scale</th>\n",
       "      <th>Depression_scale</th>\n",
       "      <th>Severity</th>\n",
       "    </tr>\n",
       "  </thead>\n",
       "  <tbody>\n",
       "    <tr>\n",
       "      <th>39</th>\n",
       "      <td>23</td>\n",
       "      <td>2.0</td>\n",
       "      <td>57.883641</td>\n",
       "      <td>0.0</td>\n",
       "      <td>0.0</td>\n",
       "      <td>0.0</td>\n",
       "      <td>172.0</td>\n",
       "      <td>90.0</td>\n",
       "      <td>45.0</td>\n",
       "      <td>125.0</td>\n",
       "      <td>...</td>\n",
       "      <td>0.0</td>\n",
       "      <td>0.0</td>\n",
       "      <td>1.0</td>\n",
       "      <td>0.0</td>\n",
       "      <td>0.0</td>\n",
       "      <td>0.0</td>\n",
       "      <td>3.0</td>\n",
       "      <td>4.0</td>\n",
       "      <td>5.0</td>\n",
       "      <td>3</td>\n",
       "    </tr>\n",
       "    <tr>\n",
       "      <th>41</th>\n",
       "      <td>24</td>\n",
       "      <td>2.0</td>\n",
       "      <td>60.796715</td>\n",
       "      <td>0.0</td>\n",
       "      <td>0.0</td>\n",
       "      <td>0.0</td>\n",
       "      <td>156.0</td>\n",
       "      <td>85.0</td>\n",
       "      <td>35.0</td>\n",
       "      <td>113.0</td>\n",
       "      <td>...</td>\n",
       "      <td>0.0</td>\n",
       "      <td>1.0</td>\n",
       "      <td>1.0</td>\n",
       "      <td>0.0</td>\n",
       "      <td>0.0</td>\n",
       "      <td>1.0</td>\n",
       "      <td>19.0</td>\n",
       "      <td>17.0</td>\n",
       "      <td>4.0</td>\n",
       "      <td>3</td>\n",
       "    </tr>\n",
       "    <tr>\n",
       "      <th>46</th>\n",
       "      <td>28</td>\n",
       "      <td>1.0</td>\n",
       "      <td>63.438741</td>\n",
       "      <td>0.0</td>\n",
       "      <td>0.0</td>\n",
       "      <td>0.0</td>\n",
       "      <td>178.0</td>\n",
       "      <td>68.0</td>\n",
       "      <td>35.0</td>\n",
       "      <td>73.0</td>\n",
       "      <td>...</td>\n",
       "      <td>0.0</td>\n",
       "      <td>0.0</td>\n",
       "      <td>1.0</td>\n",
       "      <td>0.0</td>\n",
       "      <td>0.0</td>\n",
       "      <td>1.0</td>\n",
       "      <td>5.0</td>\n",
       "      <td>3.0</td>\n",
       "      <td>0.0</td>\n",
       "      <td>1</td>\n",
       "    </tr>\n",
       "    <tr>\n",
       "      <th>55</th>\n",
       "      <td>32</td>\n",
       "      <td>1.0</td>\n",
       "      <td>28.736482</td>\n",
       "      <td>0.0</td>\n",
       "      <td>0.0</td>\n",
       "      <td>0.0</td>\n",
       "      <td>180.0</td>\n",
       "      <td>69.0</td>\n",
       "      <td>36.0</td>\n",
       "      <td>83.0</td>\n",
       "      <td>...</td>\n",
       "      <td>0.0</td>\n",
       "      <td>0.0</td>\n",
       "      <td>0.0</td>\n",
       "      <td>0.0</td>\n",
       "      <td>0.0</td>\n",
       "      <td>0.0</td>\n",
       "      <td>2.0</td>\n",
       "      <td>0.0</td>\n",
       "      <td>0.0</td>\n",
       "      <td>0</td>\n",
       "    </tr>\n",
       "    <tr>\n",
       "      <th>56</th>\n",
       "      <td>33</td>\n",
       "      <td>1.0</td>\n",
       "      <td>56.802190</td>\n",
       "      <td>0.0</td>\n",
       "      <td>0.0</td>\n",
       "      <td>0.0</td>\n",
       "      <td>185.0</td>\n",
       "      <td>118.0</td>\n",
       "      <td>43.0</td>\n",
       "      <td>106.0</td>\n",
       "      <td>...</td>\n",
       "      <td>0.0</td>\n",
       "      <td>0.0</td>\n",
       "      <td>0.0</td>\n",
       "      <td>0.0</td>\n",
       "      <td>0.0</td>\n",
       "      <td>1.0</td>\n",
       "      <td>12.0</td>\n",
       "      <td>13.0</td>\n",
       "      <td>2.0</td>\n",
       "      <td>3</td>\n",
       "    </tr>\n",
       "  </tbody>\n",
       "</table>\n",
       "<p>5 rows × 51 columns</p>\n",
       "</div>"
      ],
      "text/plain": [
       "    PatientID  Sex        Age  Current_smoker  Former_smoker  Sedentary  \\\n",
       "39         23  2.0  57.883641             0.0            0.0        0.0   \n",
       "41         24  2.0  60.796715             0.0            0.0        0.0   \n",
       "46         28  1.0  63.438741             0.0            0.0        0.0   \n",
       "55         32  1.0  28.736482             0.0            0.0        0.0   \n",
       "56         33  1.0  56.802190             0.0            0.0        0.0   \n",
       "\n",
       "    Height  Weight  Cervical_perimeter  Abdominal_perimeter  ...  \\\n",
       "39   172.0    90.0                45.0                125.0  ...   \n",
       "41   156.0    85.0                35.0                113.0  ...   \n",
       "46   178.0    68.0                35.0                 73.0  ...   \n",
       "55   180.0    69.0                36.0                 83.0  ...   \n",
       "56   185.0   118.0                43.0                106.0  ...   \n",
       "\n",
       "    Nocturnal_perspiration  Shortness_of_breath_on_exertion  Nocturia  \\\n",
       "39                     0.0                              0.0       1.0   \n",
       "41                     0.0                              1.0       1.0   \n",
       "46                     0.0                              0.0       1.0   \n",
       "55                     0.0                              0.0       0.0   \n",
       "56                     0.0                              0.0       0.0   \n",
       "\n",
       "    Drowsiness_accident  Near_miss_accident  Respiratory_arrest  \\\n",
       "39                  0.0                 0.0                 0.0   \n",
       "41                  0.0                 0.0                 1.0   \n",
       "46                  0.0                 0.0                 1.0   \n",
       "55                  0.0                 0.0                 0.0   \n",
       "56                  0.0                 0.0                 1.0   \n",
       "\n",
       "    Epworth_scale  Pichots_scale  Depression_scale  Severity  \n",
       "39            3.0            4.0               5.0         3  \n",
       "41           19.0           17.0               4.0         3  \n",
       "46            5.0            3.0               0.0         1  \n",
       "55            2.0            0.0               0.0         0  \n",
       "56           12.0           13.0               2.0         3  \n",
       "\n",
       "[5 rows x 51 columns]"
      ]
     },
     "execution_count": 3,
     "metadata": {},
     "output_type": "execute_result"
    }
   ],
   "source": [
    "data.head()"
   ]
  },
  {
   "cell_type": "code",
   "execution_count": 4,
   "id": "eb27e401",
   "metadata": {},
   "outputs": [],
   "source": [
    "features = ['Sex', 'Age', 'Current_smoker', 'Former_smoker',\n",
    "       'Sedentary', 'Height', 'Weight', 'Cervical_perimeter',\n",
    "       'Abdominal_perimeter', 'Systolic_BP', 'Diastolic_BP',\n",
    "       'Maxillofacial_profile', 'BMI', 'High_BP', 'Asthma', 'Rhinitis', 'COPD',\n",
    "       'Respiratory_fail', 'Myocardial_infarct', 'Coronary_fail',\n",
    "       'Arrhythmias', 'Stroke', 'Heart_fail', 'Arteriopathy', 'Gastric_reflux',\n",
    "       'Glaucoma', 'Diabetes', 'Hypercholesterolemia', 'Hypertriglyceridemia',\n",
    "       'Hypo(er)thyroidism', 'Depression', 'Obesity', 'Dysmorphology',\n",
    "       'Restless_Leg_Syndrome', 'Snoring', 'Diurnal_somnolence',\n",
    "       'Driving_drowsiness', 'Morning_fatigue', 'Morning_headache',\n",
    "       'Memory_problem', 'Nocturnal_perspiration',\n",
    "       'Shortness_of_breath_on_exertion', 'Nocturia', 'Drowsiness_accident',\n",
    "       'Near_miss_accident', 'Respiratory_arrest', 'Epworth_scale',\n",
    "       'Pichots_scale', 'Depression_scale']"
   ]
  },
  {
   "cell_type": "markdown",
   "id": "ec7f0099",
   "metadata": {},
   "source": [
    "### Identifying most correlated features"
   ]
  },
  {
   "cell_type": "code",
   "execution_count": 5,
   "id": "066b8167",
   "metadata": {},
   "outputs": [],
   "source": [
    "correlations = data[data.columns[1:]].corr()['Severity'][:-1]  # Correlation of every column compared to Severity"
   ]
  },
  {
   "cell_type": "code",
   "execution_count": 6,
   "id": "f59e23f0",
   "metadata": {},
   "outputs": [
    {
     "data": {
      "text/plain": [
       "Cervical_perimeter                 0.328530\n",
       "Abdominal_perimeter                0.291886\n",
       "Age                                0.273949\n",
       "Weight                             0.234937\n",
       "Respiratory_arrest                 0.193334\n",
       "BMI                                0.188370\n",
       "High_BP                            0.173079\n",
       "Systolic_BP                        0.156997\n",
       "Nocturia                           0.124376\n",
       "Hypercholesterolemia               0.118788\n",
       "Diastolic_BP                       0.118730\n",
       "Former_smoker                      0.117382\n",
       "Height                             0.106378\n",
       "Diabetes                           0.102884\n",
       "Memory_problem                     0.070916\n",
       "Coronary_fail                      0.069477\n",
       "Hypertriglyceridemia               0.062611\n",
       "Arrhythmias                        0.060078\n",
       "Myocardial_infarct                 0.057003\n",
       "Heart_fail                         0.056822\n",
       "Stroke                             0.047709\n",
       "Sedentary                          0.047709\n",
       "Snoring                            0.047269\n",
       "Epworth_scale                      0.042361\n",
       "Gastric_reflux                     0.041726\n",
       "Arteriopathy                       0.029409\n",
       "COPD                               0.028714\n",
       "Respiratory_fail                   0.025560\n",
       "Diurnal_somnolence                 0.022999\n",
       "Drowsiness_accident                0.014598\n",
       "Maxillofacial_profile              0.011537\n",
       "Dysmorphology                      0.009441\n",
       "Glaucoma                           0.004180\n",
       "Depression                         0.002911\n",
       "Near_miss_accident                -0.004430\n",
       "Restless_Leg_Syndrome             -0.006749\n",
       "Hypo(er)thyroidism                -0.009482\n",
       "Shortness_of_breath_on_exertion   -0.014845\n",
       "Current_smoker                    -0.021296\n",
       "Obesity                           -0.026417\n",
       "Driving_drowsiness                -0.037201\n",
       "Morning_fatigue                   -0.038105\n",
       "Rhinitis                          -0.041950\n",
       "Depression_scale                  -0.045818\n",
       "Nocturnal_perspiration            -0.051736\n",
       "Asthma                            -0.057100\n",
       "Pichots_scale                     -0.067105\n",
       "Morning_headache                  -0.094216\n",
       "Sex                               -0.220857\n",
       "Name: Severity, dtype: float64"
      ]
     },
     "execution_count": 6,
     "metadata": {},
     "output_type": "execute_result"
    }
   ],
   "source": [
    "correlations.sort_values(ascending=False)"
   ]
  },
  {
   "cell_type": "markdown",
   "id": "9cd4f87f",
   "metadata": {},
   "source": [
    "### Wu et al. [25] \n",
    "age; body mass index; Epworth Sleepiness\n",
    "Scale; waistline; neck circumference; and\n",
    "difference of blood pressure before going\n",
    "to sleep and early in the morning"
   ]
  },
  {
   "cell_type": "code",
   "execution_count": 7,
   "id": "1d2ae1e9",
   "metadata": {},
   "outputs": [],
   "source": [
    "wu = ['Age','BMI','Epworth_scale',  'Abdominal_perimeter', 'Cervical_perimeter','Systolic_BP', 'Diastolic_BP']\n",
    "# The Wu paper included a feature described as \"The difference of blood presure before going to sleep and early in the morning.\" \n",
    "# This dataset did not include that feature, so it is substituted here with disastolic and systolic BP"
   ]
  },
  {
   "cell_type": "markdown",
   "id": "c3692e91",
   "metadata": {},
   "source": [
    "### Mencar et al. [15]\n",
    "body mass index; gender; and Epworth\n",
    "Sleepiness Scale"
   ]
  },
  {
   "cell_type": "code",
   "execution_count": 8,
   "id": "c40c434c",
   "metadata": {},
   "outputs": [],
   "source": [
    "mencar = ['BMI', 'Sex', 'Epworth_scale']"
   ]
  },
  {
   "cell_type": "markdown",
   "id": "407bb362",
   "metadata": {},
   "source": [
    "### Huang et al. [12] \n",
    "age; waistline; neck circumference; snoring;\n",
    "sleep onset latency; and witnessed apnea"
   ]
  },
  {
   "cell_type": "code",
   "execution_count": 9,
   "id": "b07b82b5",
   "metadata": {},
   "outputs": [],
   "source": [
    "huang = ['Age','Cervical_perimeter', 'Snoring']\n",
    "# The Huang paper included the features: sleep onset latency and witnessed apnea\n",
    "# This dataset did not included sleep onset latency data, and including results for witnessed apnea would skew the results so it was not included"
   ]
  },
  {
   "cell_type": "markdown",
   "id": "3ce6a484",
   "metadata": {},
   "source": [
    "### Ustun et al. [21] \n",
    "age; body mass index; gender; diabetes; hypertension; and tabagism (smoker status)"
   ]
  },
  {
   "cell_type": "code",
   "execution_count": 10,
   "id": "1a6df31b",
   "metadata": {},
   "outputs": [],
   "source": [
    "ustun = ['Age','BMI', 'Sex','Diabetes', 'High_BP', 'Current_smoker', 'Former_smoker']"
   ]
  },
  {
   "cell_type": "markdown",
   "id": "ec140cf1",
   "metadata": {},
   "source": [
    "### Rodruiges Jr et al.\n",
    "age; nocturia frequency; body mass index;\n",
    "depression score; neck circumference; hip\n",
    "measurement; diastolic blood pressure; and\n",
    "tabagism"
   ]
  },
  {
   "cell_type": "code",
   "execution_count": 11,
   "id": "a809f600",
   "metadata": {},
   "outputs": [],
   "source": [
    "rodruiges = ['Age', 'Nocturia', 'BMI', 'Depression_scale', 'Cervical_perimeter', 'Abdominal_perimeter', 'Diastolic_BP', 'Current_smoker', 'Former_smoker' ]"
   ]
  },
  {
   "cell_type": "markdown",
   "id": "31823ffa",
   "metadata": {},
   "source": [
    "### Categories"
   ]
  },
  {
   "cell_type": "code",
   "execution_count": 12,
   "id": "8e88fba0",
   "metadata": {},
   "outputs": [],
   "source": [
    "demographic = ['Sex','Age','Current_smoker','Former_smoker','Sedentary']"
   ]
  },
  {
   "cell_type": "code",
   "execution_count": 13,
   "id": "baec5c20",
   "metadata": {},
   "outputs": [],
   "source": [
    "measurements = ['Height','Weight','Cervical_perimeter',\n",
    "               'Abdominal_perimeter','Systolic_BP','Diastolic_BP','Maxillofacial_profile','BMI','High_BP']"
   ]
  },
  {
   "cell_type": "code",
   "execution_count": 14,
   "id": "35516e32",
   "metadata": {},
   "outputs": [],
   "source": [
    "comorbidities = ['Asthma','Rhinitis','COPD','Respiratory_fail','Myocardial_infarct','Coronary_fail','Arrhythmias','Stroke',\n",
    "                 'Heart_fail','Arteriopathy','Gastric_reflux','Glaucoma','Diabetes','Hypercholesterolemia','Hypertriglyceridemia',\n",
    "                 'Hypo(er)thyroidism','Depression','Obesity','Dysmorphology','Restless_Leg_Syndrome']"
   ]
  },
  {
   "cell_type": "code",
   "execution_count": 15,
   "id": "032c7786",
   "metadata": {},
   "outputs": [],
   "source": [
    "symptoms=['Snoring','Diurnal_somnolence','Driving_drowsiness','Morning_fatigue','Morning_headache','Memory_problem',\n",
    "          'Nocturnal_perspiration','Shortness_of_breath_on_exertion','Nocturia','Drowsiness_accident','Near_miss_accident',\n",
    "          'Respiratory_arrest']"
   ]
  },
  {
   "cell_type": "code",
   "execution_count": 16,
   "id": "ff54d70c",
   "metadata": {},
   "outputs": [],
   "source": [
    "questionnaires = ['Epworth_scale','Pichots_scale','Depression_scale']"
   ]
  },
  {
   "cell_type": "code",
   "execution_count": 17,
   "id": "d4421ae0",
   "metadata": {},
   "outputs": [],
   "source": [
    "correlated_10 = ['Cervical_perimeter', 'Abdominal_perimeter', 'Age', 'Weight', 'Respiratory_arrest', 'BMI', 'High_BP',\n",
    "                 'Systolic_BP', 'Nocturia', 'Hypercholesterolemia']"
   ]
  },
  {
   "cell_type": "code",
   "execution_count": 18,
   "id": "046ac7ab",
   "metadata": {},
   "outputs": [],
   "source": [
    "rf_imp = ['Age', 'BMI', 'Abdominal_perimeter', 'Weight', 'Height', 'Cervical_perimeter', 'Pichots_scale', 'Epworth_scale', \n",
    "          'Systolic_BP', 'Diastolic_BP']\n",
    "\n",
    "# These are the 10 most important features as identified by the Random Forest model"
   ]
  },
  {
   "cell_type": "markdown",
   "id": "ab30e679",
   "metadata": {},
   "source": [
    "## Models"
   ]
  },
  {
   "cell_type": "markdown",
   "id": "03267e8a",
   "metadata": {},
   "source": [
    "##### Note: Feature scaling is essential for machine learning algorithms that calculate distances between data"
   ]
  },
  {
   "cell_type": "markdown",
   "id": "777f1080",
   "metadata": {},
   "source": [
    "### Creating dictionary of feature sets"
   ]
  },
  {
   "cell_type": "code",
   "execution_count": 19,
   "id": "19c0af16",
   "metadata": {},
   "outputs": [],
   "source": [
    "feature_list = {}\n",
    "\n",
    "feature_list['All']= features\n",
    "feature_list['Wu'] = wu\n",
    "feature_list['Mencar'] = mencar\n",
    "feature_list['Ustun'] = ustun\n",
    "feature_list['Huang'] = huang\n",
    "feature_list['Rodruiges'] = rodruiges\n",
    "feature_list['Demographic'] = demographic\n",
    "feature_list['Measurements'] = measurements\n",
    "feature_list['Comorbidities'] = comorbidities\n",
    "feature_list['Symptoms'] = symptoms\n",
    "feature_list['Questionnaires'] = questionnaires\n",
    "feature_list['Correlated'] = correlated_10\n",
    "feature_list['Important_RF'] = rf_imp\n",
    "\n"
   ]
  },
  {
   "cell_type": "markdown",
   "id": "dba1de1f",
   "metadata": {},
   "source": [
    "### SVM on different feature sets"
   ]
  },
  {
   "cell_type": "code",
   "execution_count": 20,
   "id": "f1b7c8ce",
   "metadata": {},
   "outputs": [],
   "source": [
    "accuracy, precision, recall = {}, {}, {}\n",
    "\n",
    "for key in feature_list.keys():\n",
    "    \n",
    "    # Define X and y test/ train/ split\n",
    "    X=data[feature_list[key]]  # Features  \n",
    "    y=data['Severity']  # Labels\n",
    "    X_train, X_test, y_train, y_test = train_test_split(X, y, \n",
    "                                                    test_size=0.2, \n",
    "                                                    random_state=0, \n",
    "                                                    shuffle=True, \n",
    "                                                    stratify=y)\n",
    "    # Data needs to be scaled\n",
    "    scaler = MinMaxScaler()  \n",
    "    # Scale only on training data\n",
    "    scaler.fit(X_train)  \n",
    "    X_train = scaler.transform(X_train)  \n",
    "    # apply same transformation to test data\n",
    "    X_test = scaler.transform(X_test) \n",
    "    \n",
    "    clf=SVC(class_weight='balanced', random_state = 0)  #defining classifier method\n",
    "    clf.fit(X_train,y_train)                   # training classifier \n",
    "    \n",
    "    # Prediction \n",
    "    predictions = clf.predict(X_test)\n",
    "    \n",
    "    # Calculate Accuracy, Precision and Recall Metrics\n",
    "    accuracy[key] = balanced_accuracy_score(predictions, y_test) \n",
    "    precision[key] = precision_score(predictions, y_test, average='weighted')\n",
    "    recall[key] = recall_score(predictions, y_test, average='weighted')"
   ]
  },
  {
   "cell_type": "code",
   "execution_count": 21,
   "id": "38ee7544",
   "metadata": {},
   "outputs": [
    {
     "data": {
      "text/html": [
       "<div>\n",
       "<style scoped>\n",
       "    .dataframe tbody tr th:only-of-type {\n",
       "        vertical-align: middle;\n",
       "    }\n",
       "\n",
       "    .dataframe tbody tr th {\n",
       "        vertical-align: top;\n",
       "    }\n",
       "\n",
       "    .dataframe thead th {\n",
       "        text-align: right;\n",
       "    }\n",
       "</style>\n",
       "<table border=\"1\" class=\"dataframe\">\n",
       "  <thead>\n",
       "    <tr style=\"text-align: right;\">\n",
       "      <th></th>\n",
       "      <th>Balanced Accuracy</th>\n",
       "      <th>Precision</th>\n",
       "      <th>Recall</th>\n",
       "    </tr>\n",
       "  </thead>\n",
       "  <tbody>\n",
       "    <tr>\n",
       "      <th>All</th>\n",
       "      <td>0.382951</td>\n",
       "      <td>0.452532</td>\n",
       "      <td>0.426444</td>\n",
       "    </tr>\n",
       "    <tr>\n",
       "      <th>Wu</th>\n",
       "      <td>0.365106</td>\n",
       "      <td>0.446196</td>\n",
       "      <td>0.408570</td>\n",
       "    </tr>\n",
       "    <tr>\n",
       "      <th>Mencar</th>\n",
       "      <td>0.337205</td>\n",
       "      <td>0.475466</td>\n",
       "      <td>0.372823</td>\n",
       "    </tr>\n",
       "    <tr>\n",
       "      <th>Ustun</th>\n",
       "      <td>0.336384</td>\n",
       "      <td>0.490645</td>\n",
       "      <td>0.394134</td>\n",
       "    </tr>\n",
       "    <tr>\n",
       "      <th>Huang</th>\n",
       "      <td>0.351691</td>\n",
       "      <td>0.485304</td>\n",
       "      <td>0.406737</td>\n",
       "    </tr>\n",
       "    <tr>\n",
       "      <th>Rodruiges</th>\n",
       "      <td>0.361171</td>\n",
       "      <td>0.451080</td>\n",
       "      <td>0.409487</td>\n",
       "    </tr>\n",
       "    <tr>\n",
       "      <th>Demographic</th>\n",
       "      <td>0.311235</td>\n",
       "      <td>0.524143</td>\n",
       "      <td>0.384968</td>\n",
       "    </tr>\n",
       "    <tr>\n",
       "      <th>Measurements</th>\n",
       "      <td>0.340336</td>\n",
       "      <td>0.469215</td>\n",
       "      <td>0.383593</td>\n",
       "    </tr>\n",
       "    <tr>\n",
       "      <th>Comorbidities</th>\n",
       "      <td>0.301702</td>\n",
       "      <td>0.478866</td>\n",
       "      <td>0.284143</td>\n",
       "    </tr>\n",
       "    <tr>\n",
       "      <th>Symptoms</th>\n",
       "      <td>0.304347</td>\n",
       "      <td>0.394143</td>\n",
       "      <td>0.341659</td>\n",
       "    </tr>\n",
       "    <tr>\n",
       "      <th>Questionnaires</th>\n",
       "      <td>0.280498</td>\n",
       "      <td>0.336573</td>\n",
       "      <td>0.294913</td>\n",
       "    </tr>\n",
       "    <tr>\n",
       "      <th>Correlated</th>\n",
       "      <td>0.357106</td>\n",
       "      <td>0.482450</td>\n",
       "      <td>0.410174</td>\n",
       "    </tr>\n",
       "    <tr>\n",
       "      <th>Important_RF</th>\n",
       "      <td>0.365747</td>\n",
       "      <td>0.443558</td>\n",
       "      <td>0.408341</td>\n",
       "    </tr>\n",
       "  </tbody>\n",
       "</table>\n",
       "</div>"
      ],
      "text/plain": [
       "                Balanced Accuracy  Precision    Recall\n",
       "All                      0.382951   0.452532  0.426444\n",
       "Wu                       0.365106   0.446196  0.408570\n",
       "Mencar                   0.337205   0.475466  0.372823\n",
       "Ustun                    0.336384   0.490645  0.394134\n",
       "Huang                    0.351691   0.485304  0.406737\n",
       "Rodruiges                0.361171   0.451080  0.409487\n",
       "Demographic              0.311235   0.524143  0.384968\n",
       "Measurements             0.340336   0.469215  0.383593\n",
       "Comorbidities            0.301702   0.478866  0.284143\n",
       "Symptoms                 0.304347   0.394143  0.341659\n",
       "Questionnaires           0.280498   0.336573  0.294913\n",
       "Correlated               0.357106   0.482450  0.410174\n",
       "Important_RF             0.365747   0.443558  0.408341"
      ]
     },
     "execution_count": 21,
     "metadata": {},
     "output_type": "execute_result"
    }
   ],
   "source": [
    "df_model = pd.DataFrame(index=feature_list.keys())\n",
    "df_model['Balanced Accuracy'] = accuracy.values()\n",
    "df_model['Precision'] = precision.values()\n",
    "df_model['Recall'] = recall.values()\n",
    "\n",
    "df_model"
   ]
  },
  {
   "cell_type": "markdown",
   "id": "57d724e9",
   "metadata": {},
   "source": [
    "### Testing different kernels"
   ]
  },
  {
   "cell_type": "markdown",
   "id": "6ae9713a",
   "metadata": {},
   "source": [
    "##### Sigmoid kernel"
   ]
  },
  {
   "cell_type": "code",
   "execution_count": 22,
   "id": "d4c23b07",
   "metadata": {},
   "outputs": [
    {
     "name": "stdout",
     "output_type": "stream",
     "text": [
      "Balanced accuracy: 0.27173985843909976\n"
     ]
    }
   ],
   "source": [
    "X=data[features]  # Features  \n",
    "y=data['Severity']  # Labels\n",
    "X_train, X_test, y_train, y_test = train_test_split(X, y, \n",
    "                                                    test_size=0.2, \n",
    "                                                    random_state=0, \n",
    "                                                    shuffle=True, \n",
    "                                                    stratify=y)\n",
    " # Data needs to be scaled\n",
    "scaler = MinMaxScaler()  \n",
    "    # Scale only on training data\n",
    "scaler.fit(X_train)  \n",
    "X_train = scaler.transform(X_train)  \n",
    "    # apply same transformation to test data\n",
    "X_test = scaler.transform(X_test)  \n",
    "\n",
    "clf=SVC(class_weight='balanced', random_state = 0, kernel = 'sigmoid')  #defining classifier method\n",
    "clf.fit(X_train,y_train)                   # training classifier \n",
    "    \n",
    "# Prediction \n",
    "predictions = clf.predict(X_test)\n",
    "\n",
    "print('Balanced accuracy:', balanced_accuracy_score(predictions, y_test))"
   ]
  },
  {
   "cell_type": "markdown",
   "id": "a906b64d",
   "metadata": {},
   "source": [
    "##### RBF kernel"
   ]
  },
  {
   "cell_type": "code",
   "execution_count": 24,
   "id": "202cb12e",
   "metadata": {},
   "outputs": [
    {
     "name": "stdout",
     "output_type": "stream",
     "text": [
      "Balanced accuracy: 0.38295131000861204\n"
     ]
    }
   ],
   "source": [
    "clf=SVC(class_weight='balanced', random_state = 0, kernel = 'rbf')  #defining classifier method\n",
    "clf.fit(X_train,y_train)                   # training classifier \n",
    "    \n",
    "# Prediction \n",
    "predictions = clf.predict(X_test)\n",
    "\n",
    "print('Balanced accuracy:', balanced_accuracy_score(predictions, y_test))"
   ]
  },
  {
   "cell_type": "markdown",
   "id": "e64233be",
   "metadata": {},
   "source": [
    "##### Linear kernel"
   ]
  },
  {
   "cell_type": "code",
   "execution_count": 25,
   "id": "caa6c5f0",
   "metadata": {},
   "outputs": [
    {
     "name": "stdout",
     "output_type": "stream",
     "text": [
      "Balanced accuracy: 0.38376868494244487\n"
     ]
    }
   ],
   "source": [
    "clf=SVC(class_weight='balanced', random_state = 0, kernel = 'linear')  #defining classifier method\n",
    "clf.fit(X_train,y_train)                   # training classifier \n",
    "    \n",
    "# Prediction \n",
    "predictions = clf.predict(X_test)\n",
    "\n",
    "print('Balanced accuracy:', balanced_accuracy_score(predictions, y_test))"
   ]
  },
  {
   "cell_type": "markdown",
   "id": "d6db6d3b",
   "metadata": {},
   "source": [
    "##### Poly kernel"
   ]
  },
  {
   "cell_type": "code",
   "execution_count": 26,
   "id": "5514d401",
   "metadata": {},
   "outputs": [
    {
     "name": "stdout",
     "output_type": "stream",
     "text": [
      "Balanced accuracy: 0.37979449504528545\n"
     ]
    }
   ],
   "source": [
    "clf=SVC(class_weight='balanced', random_state = 0, kernel = 'poly')  #defining classifier method\n",
    "clf.fit(X_train,y_train)                   # training classifier \n",
    "    \n",
    "# Prediction \n",
    "predictions = clf.predict(X_test)\n",
    "\n",
    "print('Balanced accuracy:', balanced_accuracy_score(predictions, y_test))"
   ]
  },
  {
   "cell_type": "markdown",
   "id": "95d6aa8e",
   "metadata": {},
   "source": [
    "### Adjusting C RBF  \n",
    "\n",
    "* Using RBF because it performed well and linear models are not sensitive to C"
   ]
  },
  {
   "cell_type": "code",
   "execution_count": 31,
   "id": "5cec1b5d",
   "metadata": {},
   "outputs": [
    {
     "name": "stdout",
     "output_type": "stream",
     "text": [
      "Balanced accuracy: 0.3861769851584168\n"
     ]
    }
   ],
   "source": [
    "clf=SVC(class_weight='balanced', random_state = 0, kernel = 'rbf', C = 0.5)  #C = 0.5\n",
    "clf.fit(X_train,y_train)                   # training classifier \n",
    "    \n",
    "# Prediction \n",
    "predictions = clf.predict(X_test)\n",
    "\n",
    "print('Balanced accuracy:', balanced_accuracy_score(predictions, y_test))"
   ]
  },
  {
   "cell_type": "code",
   "execution_count": 28,
   "id": "3ff219fc",
   "metadata": {},
   "outputs": [
    {
     "name": "stdout",
     "output_type": "stream",
     "text": [
      "Balanced accuracy: 0.3793608560133631\n"
     ]
    }
   ],
   "source": [
    "clf=SVC(class_weight='balanced', random_state = 0, kernel = 'rbf', C = 2)  #C = 2\n",
    "clf.fit(X_train,y_train)                   # training classifier \n",
    "    \n",
    "# Prediction \n",
    "predictions = clf.predict(X_test)\n",
    "\n",
    "print('Balanced accuracy:', balanced_accuracy_score(predictions, y_test))"
   ]
  },
  {
   "cell_type": "code",
   "execution_count": 29,
   "id": "8197bfce",
   "metadata": {},
   "outputs": [],
   "source": [
    "clf=SVC(class_weight='balanced', random_state = 0, kernel = 'rbf', C = 0.2)  #C = 0.2\n",
    "clf.fit(X_train,y_train)                   # training classifier \n",
    "    \n",
    "# Prediction \n",
    "predictions = clf.predict(X_test)"
   ]
  },
  {
   "cell_type": "code",
   "execution_count": 30,
   "id": "25395d11",
   "metadata": {},
   "outputs": [
    {
     "name": "stdout",
     "output_type": "stream",
     "text": [
      "Balanced accuracy: 0.38255743888218513\n"
     ]
    }
   ],
   "source": [
    "print('Balanced accuracy:', balanced_accuracy_score(predictions, y_test))"
   ]
  },
  {
   "cell_type": "markdown",
   "id": "2bd1fbd7",
   "metadata": {},
   "source": [
    "### Best model confusion matrix\n",
    "\n",
    "rbf, C = 0.5"
   ]
  },
  {
   "cell_type": "code",
   "execution_count": 32,
   "id": "e8ecf086",
   "metadata": {},
   "outputs": [
    {
     "data": {
      "image/png": "[encoded data removed]",
      "text/plain": [
       "<Figure size 1152x504 with 2 Axes>"
      ]
     },
     "metadata": {},
     "output_type": "display_data"
    }
   ],
   "source": [
    "matrix = confusion_matrix(y_test, predictions)\n",
    "matrix = matrix.astype('float') / matrix.sum(axis=1)[:, np.newaxis]\n",
    "\n",
    "# Build the plot\n",
    "plt.figure(figsize=(16,7))\n",
    "sns.set(font_scale=1.4)\n",
    "sns.heatmap(matrix, annot=True, annot_kws={'size':10},\n",
    "            cmap=plt.cm.Greens, linewidths=0.2)\n",
    "\n",
    "# Add labels to the plot\n",
    "class_names = ['0', '1','2', '3']\n",
    "tick_marks = np.arange(len(class_names))\n",
    "tick_marks2 = tick_marks + 0.5\n",
    "plt.xticks(tick_marks, class_names, rotation=25)\n",
    "plt.yticks(tick_marks2, class_names, rotation=0)\n",
    "plt.xlabel('Predicted label')\n",
    "plt.ylabel('True label')\n",
    "plt.title('Confusion Matrix for SVM Model')\n",
    "plt.show()"
   ]
  },
  {
   "cell_type": "code",
   "execution_count": null,
   "id": "f8b93a55",
   "metadata": {},
   "outputs": [],
   "source": []
  }
 ],
 "metadata": {
  "kernelspec": {
   "display_name": "Python 3 (ipykernel)",
   "language": "python",
   "name": "python3"
  },
  "language_info": {
   "codemirror_mode": {
    "name": "ipython",
    "version": 3
   },
   "file_extension": ".py",
   "mimetype": "text/x-python",
   "name": "python",
   "nbconvert_exporter": "python",
   "pygments_lexer": "ipython3",
   "version": "3.9.12"
  }
 },
 "nbformat": 4,
 "nbformat_minor": 5
}
