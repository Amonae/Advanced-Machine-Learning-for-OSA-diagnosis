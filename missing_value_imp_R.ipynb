{
 "cells": [
  {
   "cell_type": "markdown",
   "id": "cfd3337a",
   "metadata": {},
   "source": [
    "## Iterative imputation in R, Random Forest using Python"
   ]
  },
  {
   "cell_type": "code",
   "execution_count": 1,
   "id": "ec432586",
   "metadata": {},
   "outputs": [],
   "source": [
    "import pandas as pd\n",
    "import numpy as np\n",
    "\n",
    "from sklearn.model_selection import train_test_split\n",
    "from sklearn.ensemble import RandomForestClassifier\n",
    "from sklearn import metrics\n",
    "from sklearn.metrics import accuracy_score, confusion_matrix, classification_report\n",
    "\n",
    "import matplotlib.pyplot as plt\n",
    "import seaborn as sns\n"
   ]
  },
  {
   "cell_type": "code",
   "execution_count": 2,
   "id": "a65cb013",
   "metadata": {},
   "outputs": [],
   "source": [
    "features = ['Sex', 'Age', 'Current_smoker', 'Former_smoker',\n",
    "       'Sedentary', 'Height', 'Weight', 'Cervical_perimeter',\n",
    "       'Abdominal_perimeter', 'Systolic_BP', 'Diastolic_BP',\n",
    "       'Maxillofacial_profile', 'BMI', 'High_BP', 'Asthma', 'Rhinitis', 'COPD',\n",
    "       'Respiratory_fail', 'Myocardial_infarct', 'Coronary_fail',\n",
    "       'Arrhythmias', 'Stroke', 'Heart_fail', 'Arteriopathy', 'Gastric_reflux',\n",
    "       'Glaucoma', 'Diabetes', 'Hypercholesterolemia', 'Hypertriglyceridemia',\n",
    "       'Hypo.er.thyroidism', 'Depression', 'Obesity', 'Dysmorphology',\n",
    "       'Restless_Leg_Syndrome', 'Snoring', 'Diurnal_somnolence',\n",
    "       'Driving_drowsiness', 'Morning_fatigue', 'Morning_headache',\n",
    "       'Memory_problem', 'Nocturnal_perspiration',\n",
    "       'Shortness_of_breath_on_exertion', 'Nocturia', 'Drowsiness_accident',\n",
    "       'Near_miss_accident', 'Respiratory_arrest', 'Epworth_scale',\n",
    "       'Pichots_scale', 'Depression_scale']\n",
    "continuous = ['Age','Height','Weight','Cervical_perimeter','Abdominal_perimeter','Systolic_BP','Diastolic_BP', \n",
    "              'BMI','Epworth_scale','Pichots_scale','Depression_scale']\n",
    "categorical = [i for i in features if i not in continuous]"
   ]
  },
  {
   "cell_type": "markdown",
   "id": "7b9bcd1d",
   "metadata": {},
   "source": [
    "### MICE"
   ]
  },
  {
   "cell_type": "code",
   "execution_count": 3,
   "id": "5e3d2ae0",
   "metadata": {},
   "outputs": [],
   "source": [
    "# mice 5 imputations, 5 iterations. PMM for continuous, logreg for categorical variables\n",
    "mice_maxit5 = pd.read_csv(\"MICE_m5_it5.csv\", index_col=0)\n",
    "\n",
    "# mice 5 imputations, 20 iterations. PMM for continuous, logreg for categorical variables.\n",
    "mice_imp1_maxit20 = pd.read_csv(\"mice_imp1_maxit20.csv\", index_col=0) # imputation 1\n",
    "mice_imp2_maxit20 = pd.read_csv(\"mice_imp2_maxit20.csv\", index_col=0) # imputation 2\n",
    "mice_imp3_maxit20 = pd.read_csv(\"mice_imp3_maxit20.csv\", index_col=0) # imputation 3\n",
    "mice_imp4_maxit20 = pd.read_csv(\"mice_imp4_maxit20.csv\", index_col=0) # imputation 4\n",
    "mice_imp5_maxit20 = pd.read_csv(\"mice_imp5_maxit20.csv\", index_col=0) # imputation 5\n"
   ]
  },
  {
   "cell_type": "code",
   "execution_count": 4,
   "id": "ae1d7c53",
   "metadata": {},
   "outputs": [
    {
     "data": {
      "text/html": [
       "<div>\n",
       "<style scoped>\n",
       "    .dataframe tbody tr th:only-of-type {\n",
       "        vertical-align: middle;\n",
       "    }\n",
       "\n",
       "    .dataframe tbody tr th {\n",
       "        vertical-align: top;\n",
       "    }\n",
       "\n",
       "    .dataframe thead th {\n",
       "        text-align: right;\n",
       "    }\n",
       "</style>\n",
       "<table border=\"1\" class=\"dataframe\">\n",
       "  <thead>\n",
       "    <tr style=\"text-align: right;\">\n",
       "      <th></th>\n",
       "      <th>PatientID</th>\n",
       "      <th>Sex</th>\n",
       "      <th>Age</th>\n",
       "      <th>Current_smoker</th>\n",
       "      <th>Former_smoker</th>\n",
       "      <th>Sedentary</th>\n",
       "      <th>Height</th>\n",
       "      <th>Weight</th>\n",
       "      <th>Cervical_perimeter</th>\n",
       "      <th>Abdominal_perimeter</th>\n",
       "      <th>...</th>\n",
       "      <th>Nocturnal_perspiration</th>\n",
       "      <th>Shortness_of_breath_on_exertion</th>\n",
       "      <th>Nocturia</th>\n",
       "      <th>Drowsiness_accident</th>\n",
       "      <th>Near_miss_accident</th>\n",
       "      <th>Respiratory_arrest</th>\n",
       "      <th>Epworth_scale</th>\n",
       "      <th>Pichots_scale</th>\n",
       "      <th>Depression_scale</th>\n",
       "      <th>Severity</th>\n",
       "    </tr>\n",
       "  </thead>\n",
       "  <tbody>\n",
       "    <tr>\n",
       "      <th>1</th>\n",
       "      <td>1</td>\n",
       "      <td>2</td>\n",
       "      <td>35.167693</td>\n",
       "      <td>0</td>\n",
       "      <td>1</td>\n",
       "      <td>0</td>\n",
       "      <td>166</td>\n",
       "      <td>100.0</td>\n",
       "      <td>35.0</td>\n",
       "      <td>114.0</td>\n",
       "      <td>...</td>\n",
       "      <td>1</td>\n",
       "      <td>1</td>\n",
       "      <td>1</td>\n",
       "      <td>0</td>\n",
       "      <td>0</td>\n",
       "      <td>1</td>\n",
       "      <td>6</td>\n",
       "      <td>24</td>\n",
       "      <td>10</td>\n",
       "      <td>1</td>\n",
       "    </tr>\n",
       "    <tr>\n",
       "      <th>2</th>\n",
       "      <td>3</td>\n",
       "      <td>1</td>\n",
       "      <td>35.014374</td>\n",
       "      <td>0</td>\n",
       "      <td>0</td>\n",
       "      <td>0</td>\n",
       "      <td>178</td>\n",
       "      <td>96.0</td>\n",
       "      <td>44.0</td>\n",
       "      <td>109.0</td>\n",
       "      <td>...</td>\n",
       "      <td>1</td>\n",
       "      <td>0</td>\n",
       "      <td>1</td>\n",
       "      <td>0</td>\n",
       "      <td>0</td>\n",
       "      <td>0</td>\n",
       "      <td>9</td>\n",
       "      <td>2</td>\n",
       "      <td>1</td>\n",
       "      <td>3</td>\n",
       "    </tr>\n",
       "    <tr>\n",
       "      <th>3</th>\n",
       "      <td>4</td>\n",
       "      <td>1</td>\n",
       "      <td>48.802190</td>\n",
       "      <td>0</td>\n",
       "      <td>1</td>\n",
       "      <td>1</td>\n",
       "      <td>182</td>\n",
       "      <td>81.0</td>\n",
       "      <td>38.0</td>\n",
       "      <td>96.0</td>\n",
       "      <td>...</td>\n",
       "      <td>0</td>\n",
       "      <td>0</td>\n",
       "      <td>1</td>\n",
       "      <td>0</td>\n",
       "      <td>0</td>\n",
       "      <td>1</td>\n",
       "      <td>10</td>\n",
       "      <td>10</td>\n",
       "      <td>5</td>\n",
       "      <td>2</td>\n",
       "    </tr>\n",
       "    <tr>\n",
       "      <th>4</th>\n",
       "      <td>14</td>\n",
       "      <td>2</td>\n",
       "      <td>56.410678</td>\n",
       "      <td>0</td>\n",
       "      <td>0</td>\n",
       "      <td>0</td>\n",
       "      <td>165</td>\n",
       "      <td>88.0</td>\n",
       "      <td>38.0</td>\n",
       "      <td>110.0</td>\n",
       "      <td>...</td>\n",
       "      <td>1</td>\n",
       "      <td>0</td>\n",
       "      <td>1</td>\n",
       "      <td>0</td>\n",
       "      <td>0</td>\n",
       "      <td>0</td>\n",
       "      <td>4</td>\n",
       "      <td>15</td>\n",
       "      <td>6</td>\n",
       "      <td>3</td>\n",
       "    </tr>\n",
       "    <tr>\n",
       "      <th>5</th>\n",
       "      <td>15</td>\n",
       "      <td>1</td>\n",
       "      <td>71.600274</td>\n",
       "      <td>0</td>\n",
       "      <td>0</td>\n",
       "      <td>0</td>\n",
       "      <td>175</td>\n",
       "      <td>77.0</td>\n",
       "      <td>40.0</td>\n",
       "      <td>101.0</td>\n",
       "      <td>...</td>\n",
       "      <td>0</td>\n",
       "      <td>0</td>\n",
       "      <td>0</td>\n",
       "      <td>0</td>\n",
       "      <td>0</td>\n",
       "      <td>0</td>\n",
       "      <td>9</td>\n",
       "      <td>3</td>\n",
       "      <td>2</td>\n",
       "      <td>2</td>\n",
       "    </tr>\n",
       "  </tbody>\n",
       "</table>\n",
       "<p>5 rows × 51 columns</p>\n",
       "</div>"
      ],
      "text/plain": [
       "   PatientID  Sex        Age  Current_smoker  Former_smoker  Sedentary  \\\n",
       "1          1    2  35.167693               0              1          0   \n",
       "2          3    1  35.014374               0              0          0   \n",
       "3          4    1  48.802190               0              1          1   \n",
       "4         14    2  56.410678               0              0          0   \n",
       "5         15    1  71.600274               0              0          0   \n",
       "\n",
       "   Height  Weight  Cervical_perimeter  Abdominal_perimeter  ...  \\\n",
       "1     166   100.0                35.0                114.0  ...   \n",
       "2     178    96.0                44.0                109.0  ...   \n",
       "3     182    81.0                38.0                 96.0  ...   \n",
       "4     165    88.0                38.0                110.0  ...   \n",
       "5     175    77.0                40.0                101.0  ...   \n",
       "\n",
       "   Nocturnal_perspiration  Shortness_of_breath_on_exertion  Nocturia  \\\n",
       "1                       1                                1         1   \n",
       "2                       1                                0         1   \n",
       "3                       0                                0         1   \n",
       "4                       1                                0         1   \n",
       "5                       0                                0         0   \n",
       "\n",
       "   Drowsiness_accident  Near_miss_accident  Respiratory_arrest  Epworth_scale  \\\n",
       "1                    0                   0                   1              6   \n",
       "2                    0                   0                   0              9   \n",
       "3                    0                   0                   1             10   \n",
       "4                    0                   0                   0              4   \n",
       "5                    0                   0                   0              9   \n",
       "\n",
       "   Pichots_scale  Depression_scale  Severity  \n",
       "1             24                10         1  \n",
       "2              2                 1         3  \n",
       "3             10                 5         2  \n",
       "4             15                 6         3  \n",
       "5              3                 2         2  \n",
       "\n",
       "[5 rows x 51 columns]"
      ]
     },
     "execution_count": 4,
     "metadata": {},
     "output_type": "execute_result"
    }
   ],
   "source": [
    "mice_imp1_maxit20.head()"
   ]
  },
  {
   "cell_type": "code",
   "execution_count": 5,
   "id": "7197b16d",
   "metadata": {},
   "outputs": [
    {
     "data": {
      "text/plain": [
       "1    51549\n",
       "2    28841\n",
       "Name: Sex, dtype: int64"
      ]
     },
     "execution_count": 5,
     "metadata": {},
     "output_type": "execute_result"
    }
   ],
   "source": [
    "mice_imp1_maxit20['Sex'].value_counts()  # imputed missing sexes"
   ]
  },
  {
   "cell_type": "code",
   "execution_count": 18,
   "id": "27bde9e9",
   "metadata": {},
   "outputs": [
    {
     "data": {
      "text/plain": [
       "3    33552\n",
       "2    17800\n",
       "1    17617\n",
       "0    11421\n",
       "Name: Severity, dtype: int64"
      ]
     },
     "execution_count": 18,
     "metadata": {},
     "output_type": "execute_result"
    }
   ],
   "source": [
    "mice_imp1_maxit20['Severity'].value_counts()"
   ]
  },
  {
   "cell_type": "markdown",
   "id": "2b7210d8",
   "metadata": {},
   "source": [
    "#### mice_maxit5 RF"
   ]
  },
  {
   "cell_type": "code",
   "execution_count": 4,
   "id": "4173b3a0",
   "metadata": {},
   "outputs": [
    {
     "name": "stdout",
     "output_type": "stream",
     "text": [
      "Accuracy: 0.47082970518721234\n"
     ]
    }
   ],
   "source": [
    "X=mice_maxit5[features]  # Features  \n",
    "y=mice_maxit5['Severity']  # Labels\n",
    "X_train, X_test, y_train, y_test = train_test_split(X, y, stratify=y, test_size=0.2, random_state=0)\n",
    "\n",
    "clf=RandomForestClassifier(n_estimators=100, class_weight='balanced', random_state = 42)  #defining classifier method\n",
    "\n",
    "clf.fit(X_train,y_train)                   # training classifier\n",
    "\n",
    "y_pred=clf.predict(X_test)                  # testing classifier \n",
    "\n",
    "print(\"Accuracy:\",metrics.accuracy_score(y_test, y_pred))"
   ]
  },
  {
   "cell_type": "code",
   "execution_count": 7,
   "id": "f2b97d42",
   "metadata": {},
   "outputs": [
    {
     "name": "stdout",
     "output_type": "stream",
     "text": [
      "              precision    recall  f1-score   support\n",
      "\n",
      "           0       0.43      0.29      0.34      2284\n",
      "           1       0.34      0.24      0.28      3524\n",
      "           2       0.30      0.08      0.13      3560\n",
      "           3       0.52      0.86      0.65      6710\n",
      "\n",
      "    accuracy                           0.47     16078\n",
      "   macro avg       0.40      0.37      0.35     16078\n",
      "weighted avg       0.42      0.47      0.41     16078\n",
      "\n"
     ]
    }
   ],
   "source": [
    "print(classification_report(y_test, y_pred))"
   ]
  },
  {
   "cell_type": "markdown",
   "id": "765394a6",
   "metadata": {},
   "source": [
    "#### mice_imp1_maxit20 RF"
   ]
  },
  {
   "cell_type": "code",
   "execution_count": 8,
   "id": "5ea39c03",
   "metadata": {},
   "outputs": [
    {
     "name": "stdout",
     "output_type": "stream",
     "text": [
      "Accuracy: 0.4654185844010449\n"
     ]
    }
   ],
   "source": [
    "X=mice_imp1_maxit20[features]  # Features  \n",
    "y=mice_imp1_maxit20['Severity']  # Labels\n",
    "X_train, X_test, y_train, y_test = train_test_split(X, y, stratify=y, test_size=0.2, random_state=0)\n",
    "\n",
    "clf=RandomForestClassifier(n_estimators=100, class_weight='balanced', random_state = 42)  #defining classifier method\n",
    "\n",
    "clf.fit(X_train,y_train)                   # training classifier\n",
    "\n",
    "y_pred=clf.predict(X_test)                  # testing classifier \n",
    "\n",
    "print(\"Accuracy:\",metrics.accuracy_score(y_test, y_pred))"
   ]
  },
  {
   "cell_type": "code",
   "execution_count": 9,
   "id": "43382df1",
   "metadata": {},
   "outputs": [
    {
     "name": "stdout",
     "output_type": "stream",
     "text": [
      "              precision    recall  f1-score   support\n",
      "\n",
      "           0       0.43      0.29      0.35      2284\n",
      "           1       0.32      0.22      0.26      3524\n",
      "           2       0.27      0.08      0.12      3560\n",
      "           3       0.52      0.86      0.65      6710\n",
      "\n",
      "    accuracy                           0.47     16078\n",
      "   macro avg       0.38      0.36      0.34     16078\n",
      "weighted avg       0.41      0.47      0.40     16078\n",
      "\n"
     ]
    }
   ],
   "source": [
    "print(classification_report(y_test, y_pred))"
   ]
  },
  {
   "cell_type": "markdown",
   "id": "c8befbe8",
   "metadata": {},
   "source": [
    "#### mice_imp2_maxit20 RF"
   ]
  },
  {
   "cell_type": "code",
   "execution_count": 19,
   "id": "9592dbc3",
   "metadata": {},
   "outputs": [
    {
     "name": "stdout",
     "output_type": "stream",
     "text": [
      "Accuracy: 0.4700211469088195\n"
     ]
    }
   ],
   "source": [
    "X=mice_imp2_maxit20[features]  # Features  \n",
    "y=mice_imp2_maxit20['Severity']  # Labels\n",
    "X_train, X_test, y_train, y_test = train_test_split(X, y, stratify=y, test_size=0.2, random_state=0)\n",
    "\n",
    "clf=RandomForestClassifier(n_estimators=100, class_weight='balanced', random_state = 42)  #defining classifier method\n",
    "\n",
    "clf.fit(X_train,y_train)                   # training classifier\n",
    "\n",
    "y_pred=clf.predict(X_test)                  # testing classifier \n",
    "\n",
    "print(\"Accuracy:\",metrics.accuracy_score(y_test, y_pred))"
   ]
  },
  {
   "cell_type": "code",
   "execution_count": 11,
   "id": "f025ee14",
   "metadata": {},
   "outputs": [
    {
     "name": "stdout",
     "output_type": "stream",
     "text": [
      "              precision    recall  f1-score   support\n",
      "\n",
      "           0       0.42      0.29      0.34      2284\n",
      "           1       0.33      0.23      0.27      3524\n",
      "           2       0.27      0.08      0.12      3560\n",
      "           3       0.52      0.87      0.65      6710\n",
      "\n",
      "    accuracy                           0.47     16078\n",
      "   macro avg       0.39      0.37      0.35     16078\n",
      "weighted avg       0.41      0.47      0.41     16078\n",
      "\n"
     ]
    }
   ],
   "source": [
    "print(classification_report(y_test, y_pred))"
   ]
  },
  {
   "cell_type": "code",
   "execution_count": 20,
   "id": "c2afe048",
   "metadata": {},
   "outputs": [
    {
     "data": {
      "image/png": "[encoded data removed]",
      "text/plain": [
       "<Figure size 1152x504 with 2 Axes>"
      ]
     },
     "metadata": {
      "needs_background": "light"
     },
     "output_type": "display_data"
    }
   ],
   "source": [
    "matrix = confusion_matrix(y_test, y_pred)\n",
    "matrix = matrix.astype('float') / matrix.sum(axis=1)[:, np.newaxis]\n",
    "\n",
    "# Build the plot\n",
    "plt.figure(figsize=(16,7))\n",
    "sns.set(font_scale=1.4)\n",
    "sns.heatmap(matrix, annot=True, annot_kws={'size':10},\n",
    "            cmap=plt.cm.Greens, linewidths=0.2)\n",
    "\n",
    "# Add labels to the plot\n",
    "class_names = ['None', 'Low', 'Moderate', \n",
    "               'Severe']\n",
    "tick_marks = np.arange(len(class_names))\n",
    "tick_marks2 = tick_marks + 0.5\n",
    "plt.xticks(tick_marks, class_names, rotation=25)\n",
    "plt.yticks(tick_marks2, class_names, rotation=0)\n",
    "plt.xlabel('Predicted label')\n",
    "plt.ylabel('True label')\n",
    "plt.title('Confusion Matrix for Random Forest Model')\n",
    "plt.show()"
   ]
  },
  {
   "cell_type": "code",
   "execution_count": null,
   "id": "99baa1cb",
   "metadata": {},
   "outputs": [],
   "source": [
    "# Most moderate classified as severe"
   ]
  },
  {
   "cell_type": "markdown",
   "id": "d0fba21b",
   "metadata": {},
   "source": [
    "#### mice_imp3_maxit20 RF"
   ]
  },
  {
   "cell_type": "code",
   "execution_count": 12,
   "id": "98ba51fa",
   "metadata": {},
   "outputs": [
    {
     "name": "stdout",
     "output_type": "stream",
     "text": [
      "Accuracy: 0.4621843512874736\n"
     ]
    }
   ],
   "source": [
    "X=mice_imp3_maxit20[features]  # Features  \n",
    "y=mice_imp3_maxit20['Severity']  # Labels\n",
    "X_train, X_test, y_train, y_test = train_test_split(X, y, stratify=y, test_size=0.2, random_state=0)\n",
    "\n",
    "clf=RandomForestClassifier(n_estimators=100, class_weight='balanced', random_state = 42)  #defining classifier method\n",
    "\n",
    "clf.fit(X_train,y_train)                   # training classifier\n",
    "\n",
    "y_pred=clf.predict(X_test)                  # testing classifier \n",
    "\n",
    "print(\"Accuracy:\",metrics.accuracy_score(y_test, y_pred))"
   ]
  },
  {
   "cell_type": "code",
   "execution_count": 13,
   "id": "b27cebba",
   "metadata": {},
   "outputs": [
    {
     "name": "stdout",
     "output_type": "stream",
     "text": [
      "              precision    recall  f1-score   support\n",
      "\n",
      "           0       0.42      0.29      0.34      2284\n",
      "           1       0.32      0.22      0.26      3524\n",
      "           2       0.24      0.07      0.11      3560\n",
      "           3       0.52      0.86      0.65      6710\n",
      "\n",
      "    accuracy                           0.46     16078\n",
      "   macro avg       0.38      0.36      0.34     16078\n",
      "weighted avg       0.40      0.46      0.40     16078\n",
      "\n"
     ]
    }
   ],
   "source": [
    "print(classification_report(y_test, y_pred))"
   ]
  },
  {
   "cell_type": "markdown",
   "id": "5685508c",
   "metadata": {},
   "source": [
    "#### mice_imp4_maxit20 RF"
   ]
  },
  {
   "cell_type": "code",
   "execution_count": 14,
   "id": "06cd56d8",
   "metadata": {},
   "outputs": [
    {
     "name": "stdout",
     "output_type": "stream",
     "text": [
      "Accuracy: 0.467284488120413\n"
     ]
    }
   ],
   "source": [
    "X=mice_imp4_maxit20[features]  # Features  \n",
    "y=mice_imp4_maxit20['Severity']  # Labels\n",
    "X_train, X_test, y_train, y_test = train_test_split(X, y, stratify=y, test_size=0.2, random_state=0)\n",
    "\n",
    "clf=RandomForestClassifier(n_estimators=100, class_weight='balanced', random_state = 42)  #defining classifier method\n",
    "\n",
    "clf.fit(X_train,y_train)                   # training classifier\n",
    "\n",
    "y_pred=clf.predict(X_test)                  # testing classifier \n",
    "\n",
    "print(\"Accuracy:\",metrics.accuracy_score(y_test, y_pred))"
   ]
  },
  {
   "cell_type": "code",
   "execution_count": 15,
   "id": "1b8c5697",
   "metadata": {},
   "outputs": [
    {
     "name": "stdout",
     "output_type": "stream",
     "text": [
      "              precision    recall  f1-score   support\n",
      "\n",
      "           0       0.42      0.28      0.34      2284\n",
      "           1       0.33      0.23      0.27      3524\n",
      "           2       0.27      0.07      0.12      3560\n",
      "           3       0.52      0.86      0.65      6710\n",
      "\n",
      "    accuracy                           0.47     16078\n",
      "   macro avg       0.39      0.36      0.34     16078\n",
      "weighted avg       0.41      0.47      0.40     16078\n",
      "\n"
     ]
    }
   ],
   "source": [
    "print(classification_report(y_test, y_pred))"
   ]
  },
  {
   "cell_type": "markdown",
   "id": "c4fc13da",
   "metadata": {},
   "source": [
    "#### mice_imp5_maxit20 RF"
   ]
  },
  {
   "cell_type": "code",
   "execution_count": 16,
   "id": "5a442909",
   "metadata": {},
   "outputs": [
    {
     "name": "stdout",
     "output_type": "stream",
     "text": [
      "Accuracy: 0.46436123896006964\n"
     ]
    }
   ],
   "source": [
    "X=mice_imp5_maxit20[features]  # Features  \n",
    "y=mice_imp5_maxit20['Severity']  # Labels\n",
    "X_train, X_test, y_train, y_test = train_test_split(X, y, stratify=y, test_size=0.2, random_state=0)\n",
    "\n",
    "clf=RandomForestClassifier(n_estimators=100, class_weight='balanced', random_state = 42)  #defining classifier method\n",
    "\n",
    "clf.fit(X_train,y_train)                   # training classifier\n",
    "\n",
    "y_pred=clf.predict(X_test)                  # testing classifier \n",
    "\n",
    "print(\"Accuracy:\",metrics.accuracy_score(y_test, y_pred))"
   ]
  },
  {
   "cell_type": "code",
   "execution_count": 17,
   "id": "6734f350",
   "metadata": {},
   "outputs": [
    {
     "name": "stdout",
     "output_type": "stream",
     "text": [
      "              precision    recall  f1-score   support\n",
      "\n",
      "           0       0.42      0.28      0.34      2284\n",
      "           1       0.32      0.22      0.26      3524\n",
      "           2       0.27      0.08      0.13      3560\n",
      "           3       0.52      0.86      0.65      6710\n",
      "\n",
      "    accuracy                           0.46     16078\n",
      "   macro avg       0.38      0.36      0.34     16078\n",
      "weighted avg       0.41      0.46      0.40     16078\n",
      "\n"
     ]
    }
   ],
   "source": [
    "print(classification_report(y_test, y_pred))"
   ]
  },
  {
   "cell_type": "markdown",
   "id": "67130ad3",
   "metadata": {},
   "source": [
    "#### HMISC 4 iterations 1 imputation "
   ]
  },
  {
   "cell_type": "code",
   "execution_count": 35,
   "id": "f784a471",
   "metadata": {},
   "outputs": [],
   "source": [
    "hmisc = pd.read_csv(\"completed_hmisc_impute1.csv\", index_col=0)"
   ]
  },
  {
   "cell_type": "code",
   "execution_count": 36,
   "id": "36ecf27c",
   "metadata": {},
   "outputs": [
    {
     "data": {
      "text/html": [
       "<div>\n",
       "<style scoped>\n",
       "    .dataframe tbody tr th:only-of-type {\n",
       "        vertical-align: middle;\n",
       "    }\n",
       "\n",
       "    .dataframe tbody tr th {\n",
       "        vertical-align: top;\n",
       "    }\n",
       "\n",
       "    .dataframe thead th {\n",
       "        text-align: right;\n",
       "    }\n",
       "</style>\n",
       "<table border=\"1\" class=\"dataframe\">\n",
       "  <thead>\n",
       "    <tr style=\"text-align: right;\">\n",
       "      <th></th>\n",
       "      <th>Sex</th>\n",
       "      <th>Age</th>\n",
       "      <th>Current_smoker</th>\n",
       "      <th>Former_smoker</th>\n",
       "      <th>Sedentary</th>\n",
       "      <th>Height</th>\n",
       "      <th>Weight</th>\n",
       "      <th>Cervical_perimeter</th>\n",
       "      <th>Abdominal_perimeter</th>\n",
       "      <th>Systolic_BP</th>\n",
       "      <th>...</th>\n",
       "      <th>Memory_problem</th>\n",
       "      <th>Nocturnal_perspiration</th>\n",
       "      <th>Shortness_of_breath_on_exertion</th>\n",
       "      <th>Nocturia</th>\n",
       "      <th>Drowsiness_accident</th>\n",
       "      <th>Near_miss_accident</th>\n",
       "      <th>Respiratory_arrest</th>\n",
       "      <th>Epworth_scale</th>\n",
       "      <th>Pichots_scale</th>\n",
       "      <th>Depression_scale</th>\n",
       "    </tr>\n",
       "  </thead>\n",
       "  <tbody>\n",
       "    <tr>\n",
       "      <th>1</th>\n",
       "      <td>2</td>\n",
       "      <td>35.167693</td>\n",
       "      <td>0</td>\n",
       "      <td>1</td>\n",
       "      <td>0</td>\n",
       "      <td>166</td>\n",
       "      <td>100.0</td>\n",
       "      <td>35.0</td>\n",
       "      <td>114.0</td>\n",
       "      <td>110.0</td>\n",
       "      <td>...</td>\n",
       "      <td>0</td>\n",
       "      <td>1</td>\n",
       "      <td>1</td>\n",
       "      <td>1</td>\n",
       "      <td>0</td>\n",
       "      <td>0</td>\n",
       "      <td>1</td>\n",
       "      <td>6</td>\n",
       "      <td>24</td>\n",
       "      <td>10</td>\n",
       "    </tr>\n",
       "    <tr>\n",
       "      <th>2</th>\n",
       "      <td>1</td>\n",
       "      <td>35.014374</td>\n",
       "      <td>0</td>\n",
       "      <td>0</td>\n",
       "      <td>0</td>\n",
       "      <td>178</td>\n",
       "      <td>96.0</td>\n",
       "      <td>44.0</td>\n",
       "      <td>109.0</td>\n",
       "      <td>110.0</td>\n",
       "      <td>...</td>\n",
       "      <td>0</td>\n",
       "      <td>1</td>\n",
       "      <td>0</td>\n",
       "      <td>1</td>\n",
       "      <td>0</td>\n",
       "      <td>0</td>\n",
       "      <td>0</td>\n",
       "      <td>9</td>\n",
       "      <td>2</td>\n",
       "      <td>1</td>\n",
       "    </tr>\n",
       "    <tr>\n",
       "      <th>3</th>\n",
       "      <td>1</td>\n",
       "      <td>48.802190</td>\n",
       "      <td>0</td>\n",
       "      <td>1</td>\n",
       "      <td>1</td>\n",
       "      <td>182</td>\n",
       "      <td>81.0</td>\n",
       "      <td>38.0</td>\n",
       "      <td>96.0</td>\n",
       "      <td>180.0</td>\n",
       "      <td>...</td>\n",
       "      <td>0</td>\n",
       "      <td>0</td>\n",
       "      <td>0</td>\n",
       "      <td>1</td>\n",
       "      <td>0</td>\n",
       "      <td>0</td>\n",
       "      <td>1</td>\n",
       "      <td>10</td>\n",
       "      <td>10</td>\n",
       "      <td>5</td>\n",
       "    </tr>\n",
       "    <tr>\n",
       "      <th>4</th>\n",
       "      <td>2</td>\n",
       "      <td>56.410678</td>\n",
       "      <td>0</td>\n",
       "      <td>0</td>\n",
       "      <td>0</td>\n",
       "      <td>165</td>\n",
       "      <td>88.0</td>\n",
       "      <td>38.0</td>\n",
       "      <td>110.0</td>\n",
       "      <td>130.0</td>\n",
       "      <td>...</td>\n",
       "      <td>0</td>\n",
       "      <td>1</td>\n",
       "      <td>0</td>\n",
       "      <td>1</td>\n",
       "      <td>0</td>\n",
       "      <td>0</td>\n",
       "      <td>0</td>\n",
       "      <td>4</td>\n",
       "      <td>15</td>\n",
       "      <td>6</td>\n",
       "    </tr>\n",
       "    <tr>\n",
       "      <th>5</th>\n",
       "      <td>1</td>\n",
       "      <td>71.600274</td>\n",
       "      <td>0</td>\n",
       "      <td>0</td>\n",
       "      <td>0</td>\n",
       "      <td>175</td>\n",
       "      <td>77.0</td>\n",
       "      <td>40.0</td>\n",
       "      <td>101.0</td>\n",
       "      <td>130.0</td>\n",
       "      <td>...</td>\n",
       "      <td>0</td>\n",
       "      <td>0</td>\n",
       "      <td>0</td>\n",
       "      <td>0</td>\n",
       "      <td>0</td>\n",
       "      <td>0</td>\n",
       "      <td>0</td>\n",
       "      <td>9</td>\n",
       "      <td>3</td>\n",
       "      <td>2</td>\n",
       "    </tr>\n",
       "  </tbody>\n",
       "</table>\n",
       "<p>5 rows × 49 columns</p>\n",
       "</div>"
      ],
      "text/plain": [
       "   Sex        Age  Current_smoker  Former_smoker  Sedentary  Height  Weight  \\\n",
       "1    2  35.167693               0              1          0     166   100.0   \n",
       "2    1  35.014374               0              0          0     178    96.0   \n",
       "3    1  48.802190               0              1          1     182    81.0   \n",
       "4    2  56.410678               0              0          0     165    88.0   \n",
       "5    1  71.600274               0              0          0     175    77.0   \n",
       "\n",
       "   Cervical_perimeter  Abdominal_perimeter  Systolic_BP  ...  Memory_problem  \\\n",
       "1                35.0                114.0        110.0  ...               0   \n",
       "2                44.0                109.0        110.0  ...               0   \n",
       "3                38.0                 96.0        180.0  ...               0   \n",
       "4                38.0                110.0        130.0  ...               0   \n",
       "5                40.0                101.0        130.0  ...               0   \n",
       "\n",
       "   Nocturnal_perspiration  Shortness_of_breath_on_exertion  Nocturia  \\\n",
       "1                       1                                1         1   \n",
       "2                       1                                0         1   \n",
       "3                       0                                0         1   \n",
       "4                       1                                0         1   \n",
       "5                       0                                0         0   \n",
       "\n",
       "   Drowsiness_accident  Near_miss_accident  Respiratory_arrest  Epworth_scale  \\\n",
       "1                    0                   0                   1              6   \n",
       "2                    0                   0                   0              9   \n",
       "3                    0                   0                   1             10   \n",
       "4                    0                   0                   0              4   \n",
       "5                    0                   0                   0              9   \n",
       "\n",
       "   Pichots_scale  Depression_scale  \n",
       "1             24                10  \n",
       "2              2                 1  \n",
       "3             10                 5  \n",
       "4             15                 6  \n",
       "5              3                 2  \n",
       "\n",
       "[5 rows x 49 columns]"
      ]
     },
     "execution_count": 36,
     "metadata": {},
     "output_type": "execute_result"
    }
   ],
   "source": [
    "hmisc.head()"
   ]
  },
  {
   "cell_type": "code",
   "execution_count": 37,
   "id": "4e4eb5d2",
   "metadata": {},
   "outputs": [],
   "source": [
    "hmisc['Severity'] = mice_imp4_maxit20['Severity'] # Severity column was removed. Adding it back"
   ]
  },
  {
   "cell_type": "code",
   "execution_count": 38,
   "id": "ff9e3881",
   "metadata": {},
   "outputs": [
    {
     "data": {
      "text/html": [
       "<div>\n",
       "<style scoped>\n",
       "    .dataframe tbody tr th:only-of-type {\n",
       "        vertical-align: middle;\n",
       "    }\n",
       "\n",
       "    .dataframe tbody tr th {\n",
       "        vertical-align: top;\n",
       "    }\n",
       "\n",
       "    .dataframe thead th {\n",
       "        text-align: right;\n",
       "    }\n",
       "</style>\n",
       "<table border=\"1\" class=\"dataframe\">\n",
       "  <thead>\n",
       "    <tr style=\"text-align: right;\">\n",
       "      <th></th>\n",
       "      <th>Sex</th>\n",
       "      <th>Age</th>\n",
       "      <th>Current_smoker</th>\n",
       "      <th>Former_smoker</th>\n",
       "      <th>Sedentary</th>\n",
       "      <th>Height</th>\n",
       "      <th>Weight</th>\n",
       "      <th>Cervical_perimeter</th>\n",
       "      <th>Abdominal_perimeter</th>\n",
       "      <th>Systolic_BP</th>\n",
       "      <th>...</th>\n",
       "      <th>Nocturnal_perspiration</th>\n",
       "      <th>Shortness_of_breath_on_exertion</th>\n",
       "      <th>Nocturia</th>\n",
       "      <th>Drowsiness_accident</th>\n",
       "      <th>Near_miss_accident</th>\n",
       "      <th>Respiratory_arrest</th>\n",
       "      <th>Epworth_scale</th>\n",
       "      <th>Pichots_scale</th>\n",
       "      <th>Depression_scale</th>\n",
       "      <th>Severity</th>\n",
       "    </tr>\n",
       "  </thead>\n",
       "  <tbody>\n",
       "    <tr>\n",
       "      <th>1</th>\n",
       "      <td>2</td>\n",
       "      <td>35.167693</td>\n",
       "      <td>0</td>\n",
       "      <td>1</td>\n",
       "      <td>0</td>\n",
       "      <td>166</td>\n",
       "      <td>100.0</td>\n",
       "      <td>35.0</td>\n",
       "      <td>114.0</td>\n",
       "      <td>110.0</td>\n",
       "      <td>...</td>\n",
       "      <td>1</td>\n",
       "      <td>1</td>\n",
       "      <td>1</td>\n",
       "      <td>0</td>\n",
       "      <td>0</td>\n",
       "      <td>1</td>\n",
       "      <td>6</td>\n",
       "      <td>24</td>\n",
       "      <td>10</td>\n",
       "      <td>1</td>\n",
       "    </tr>\n",
       "    <tr>\n",
       "      <th>2</th>\n",
       "      <td>1</td>\n",
       "      <td>35.014374</td>\n",
       "      <td>0</td>\n",
       "      <td>0</td>\n",
       "      <td>0</td>\n",
       "      <td>178</td>\n",
       "      <td>96.0</td>\n",
       "      <td>44.0</td>\n",
       "      <td>109.0</td>\n",
       "      <td>110.0</td>\n",
       "      <td>...</td>\n",
       "      <td>1</td>\n",
       "      <td>0</td>\n",
       "      <td>1</td>\n",
       "      <td>0</td>\n",
       "      <td>0</td>\n",
       "      <td>0</td>\n",
       "      <td>9</td>\n",
       "      <td>2</td>\n",
       "      <td>1</td>\n",
       "      <td>3</td>\n",
       "    </tr>\n",
       "    <tr>\n",
       "      <th>3</th>\n",
       "      <td>1</td>\n",
       "      <td>48.802190</td>\n",
       "      <td>0</td>\n",
       "      <td>1</td>\n",
       "      <td>1</td>\n",
       "      <td>182</td>\n",
       "      <td>81.0</td>\n",
       "      <td>38.0</td>\n",
       "      <td>96.0</td>\n",
       "      <td>180.0</td>\n",
       "      <td>...</td>\n",
       "      <td>0</td>\n",
       "      <td>0</td>\n",
       "      <td>1</td>\n",
       "      <td>0</td>\n",
       "      <td>0</td>\n",
       "      <td>1</td>\n",
       "      <td>10</td>\n",
       "      <td>10</td>\n",
       "      <td>5</td>\n",
       "      <td>2</td>\n",
       "    </tr>\n",
       "    <tr>\n",
       "      <th>4</th>\n",
       "      <td>2</td>\n",
       "      <td>56.410678</td>\n",
       "      <td>0</td>\n",
       "      <td>0</td>\n",
       "      <td>0</td>\n",
       "      <td>165</td>\n",
       "      <td>88.0</td>\n",
       "      <td>38.0</td>\n",
       "      <td>110.0</td>\n",
       "      <td>130.0</td>\n",
       "      <td>...</td>\n",
       "      <td>1</td>\n",
       "      <td>0</td>\n",
       "      <td>1</td>\n",
       "      <td>0</td>\n",
       "      <td>0</td>\n",
       "      <td>0</td>\n",
       "      <td>4</td>\n",
       "      <td>15</td>\n",
       "      <td>6</td>\n",
       "      <td>3</td>\n",
       "    </tr>\n",
       "    <tr>\n",
       "      <th>5</th>\n",
       "      <td>1</td>\n",
       "      <td>71.600274</td>\n",
       "      <td>0</td>\n",
       "      <td>0</td>\n",
       "      <td>0</td>\n",
       "      <td>175</td>\n",
       "      <td>77.0</td>\n",
       "      <td>40.0</td>\n",
       "      <td>101.0</td>\n",
       "      <td>130.0</td>\n",
       "      <td>...</td>\n",
       "      <td>0</td>\n",
       "      <td>0</td>\n",
       "      <td>0</td>\n",
       "      <td>0</td>\n",
       "      <td>0</td>\n",
       "      <td>0</td>\n",
       "      <td>9</td>\n",
       "      <td>3</td>\n",
       "      <td>2</td>\n",
       "      <td>2</td>\n",
       "    </tr>\n",
       "  </tbody>\n",
       "</table>\n",
       "<p>5 rows × 50 columns</p>\n",
       "</div>"
      ],
      "text/plain": [
       "   Sex        Age  Current_smoker  Former_smoker  Sedentary  Height  Weight  \\\n",
       "1    2  35.167693               0              1          0     166   100.0   \n",
       "2    1  35.014374               0              0          0     178    96.0   \n",
       "3    1  48.802190               0              1          1     182    81.0   \n",
       "4    2  56.410678               0              0          0     165    88.0   \n",
       "5    1  71.600274               0              0          0     175    77.0   \n",
       "\n",
       "   Cervical_perimeter  Abdominal_perimeter  Systolic_BP  ...  \\\n",
       "1                35.0                114.0        110.0  ...   \n",
       "2                44.0                109.0        110.0  ...   \n",
       "3                38.0                 96.0        180.0  ...   \n",
       "4                38.0                110.0        130.0  ...   \n",
       "5                40.0                101.0        130.0  ...   \n",
       "\n",
       "   Nocturnal_perspiration  Shortness_of_breath_on_exertion  Nocturia  \\\n",
       "1                       1                                1         1   \n",
       "2                       1                                0         1   \n",
       "3                       0                                0         1   \n",
       "4                       1                                0         1   \n",
       "5                       0                                0         0   \n",
       "\n",
       "   Drowsiness_accident  Near_miss_accident  Respiratory_arrest  Epworth_scale  \\\n",
       "1                    0                   0                   1              6   \n",
       "2                    0                   0                   0              9   \n",
       "3                    0                   0                   1             10   \n",
       "4                    0                   0                   0              4   \n",
       "5                    0                   0                   0              9   \n",
       "\n",
       "   Pichots_scale  Depression_scale  Severity  \n",
       "1             24                10         1  \n",
       "2              2                 1         3  \n",
       "3             10                 5         2  \n",
       "4             15                 6         3  \n",
       "5              3                 2         2  \n",
       "\n",
       "[5 rows x 50 columns]"
      ]
     },
     "execution_count": 38,
     "metadata": {},
     "output_type": "execute_result"
    }
   ],
   "source": [
    "hmisc.head()"
   ]
  },
  {
   "cell_type": "code",
   "execution_count": 39,
   "id": "355779c7",
   "metadata": {},
   "outputs": [
    {
     "name": "stdout",
     "output_type": "stream",
     "text": [
      "Accuracy: 0.46771986565493223\n"
     ]
    }
   ],
   "source": [
    "X=hmisc[features]  # Features  \n",
    "y=hmisc['Severity']  # Labels\n",
    "X_train, X_test, y_train, y_test = train_test_split(X, y, stratify=y, test_size=0.2, random_state=0)\n",
    "\n",
    "clf=RandomForestClassifier(n_estimators=100, class_weight='balanced', random_state = 42)  #defining classifier method\n",
    "\n",
    "clf.fit(X_train,y_train)                   # training classifier\n",
    "\n",
    "y_pred=clf.predict(X_test)                  # testing classifier \n",
    "\n",
    "print(\"Accuracy:\",metrics.accuracy_score(y_test, y_pred))"
   ]
  },
  {
   "cell_type": "code",
   "execution_count": 40,
   "id": "4564bb59",
   "metadata": {},
   "outputs": [
    {
     "name": "stdout",
     "output_type": "stream",
     "text": [
      "              precision    recall  f1-score   support\n",
      "\n",
      "           0       0.42      0.28      0.34      2284\n",
      "           1       0.33      0.22      0.26      3524\n",
      "           2       0.28      0.08      0.12      3560\n",
      "           3       0.52      0.87      0.65      6710\n",
      "\n",
      "    accuracy                           0.47     16078\n",
      "   macro avg       0.39      0.36      0.34     16078\n",
      "weighted avg       0.41      0.47      0.41     16078\n",
      "\n"
     ]
    }
   ],
   "source": [
    "print(classification_report(y_test, y_pred))"
   ]
  },
  {
   "cell_type": "code",
   "execution_count": null,
   "id": "a1bd16aa",
   "metadata": {},
   "outputs": [],
   "source": []
  },
  {
   "cell_type": "code",
   "execution_count": null,
   "id": "e771cd90",
   "metadata": {},
   "outputs": [],
   "source": []
  },
  {
   "cell_type": "code",
   "execution_count": null,
   "id": "3e920639",
   "metadata": {},
   "outputs": [],
   "source": []
  },
  {
   "cell_type": "code",
   "execution_count": null,
   "id": "e36e01fb",
   "metadata": {},
   "outputs": [],
   "source": []
  },
  {
   "cell_type": "code",
   "execution_count": null,
   "id": "a4c5bbfb",
   "metadata": {},
   "outputs": [],
   "source": []
  },
  {
   "cell_type": "markdown",
   "id": "4156990a",
   "metadata": {},
   "source": [
    "### mice_imp5_maxit5 Varying class weights"
   ]
  },
  {
   "cell_type": "markdown",
   "id": "19fc538c",
   "metadata": {},
   "source": [
    "##### Viewing sample weights"
   ]
  },
  {
   "cell_type": "code",
   "execution_count": 8,
   "id": "1831d25b",
   "metadata": {},
   "outputs": [],
   "source": [
    "from sklearn.utils import class_weight"
   ]
  },
  {
   "cell_type": "code",
   "execution_count": 13,
   "id": "ffee7eba",
   "metadata": {},
   "outputs": [],
   "source": [
    "sample_weights_bal = class_weight.compute_class_weight(class_weight = 'balanced', classes = (0,1,2,3), y = y_train)"
   ]
  },
  {
   "cell_type": "code",
   "execution_count": 14,
   "id": "ffdde5ed",
   "metadata": {},
   "outputs": [
    {
     "data": {
      "text/plain": [
       "array([1.75965853, 1.14085007, 1.12907303, 0.59898666])"
      ]
     },
     "execution_count": 14,
     "metadata": {},
     "output_type": "execute_result"
    }
   ],
   "source": [
    "sample_weights_bal"
   ]
  },
  {
   "cell_type": "code",
   "execution_count": 5,
   "id": "e108d607",
   "metadata": {},
   "outputs": [
    {
     "name": "stdout",
     "output_type": "stream",
     "text": [
      "Accuracy: 0.47082970518721234\n"
     ]
    }
   ],
   "source": [
    "X=mice_maxit5[features]  # Features  \n",
    "y=mice_maxit5['Severity']  # Labels\n",
    "X_train, X_test, y_train, y_test = train_test_split(X, y, stratify=y, test_size=0.2, random_state=0)\n",
    "\n",
    "clf=RandomForestClassifier(n_estimators=100, class_weight='balanced', random_state = 42)  #defining classifier method\n",
    "\n",
    "clf.fit(X_train,y_train)                   # training classifier\n",
    "\n",
    "y_pred=clf.predict(X_test)                  # testing classifier \n",
    "\n",
    "print(\"Accuracy:\",metrics.accuracy_score(y_test, y_pred))"
   ]
  },
  {
   "cell_type": "markdown",
   "id": "a73fe41d",
   "metadata": {},
   "source": [
    "##### As such, it might be interesting to change the class weighting based on the class distribution in each bootstrap sample, instead of the entire training dataset.\n",
    "\n",
    "This can be achieved by setting the class_weight argument to the value ‘balanced_subsample‘.\n",
    "\n",
    "from: https://machinelearningmastery.com/bagging-and-random-forest-for-imbalanced-classification/"
   ]
  },
  {
   "cell_type": "code",
   "execution_count": 6,
   "id": "e2a81b67",
   "metadata": {},
   "outputs": [
    {
     "name": "stdout",
     "output_type": "stream",
     "text": [
      "Accuracy: 0.47101629555914915\n"
     ]
    }
   ],
   "source": [
    "clf=RandomForestClassifier(n_estimators=100, class_weight='balanced_subsample', random_state = 42)  #defining classifier method\n",
    "\n",
    "clf.fit(X_train,y_train)                   # training classifier\n",
    "\n",
    "y_pred=clf.predict(X_test)                  # testing classifier \n",
    "\n",
    "print(\"Accuracy:\",metrics.accuracy_score(y_test, y_pred))"
   ]
  },
  {
   "cell_type": "code",
   "execution_count": 18,
   "id": "6932ccc4",
   "metadata": {},
   "outputs": [],
   "source": [
    "sample_weight_1 = {0:1.8, 1:1.5, 2:1.3, 3:0.43}"
   ]
  },
  {
   "cell_type": "code",
   "execution_count": 19,
   "id": "03a78314",
   "metadata": {},
   "outputs": [
    {
     "name": "stdout",
     "output_type": "stream",
     "text": [
      "Accuracy: 0.46591615872620973\n"
     ]
    }
   ],
   "source": [
    "clf=RandomForestClassifier(n_estimators=100, class_weight=sample_weight_1, random_state = 42)  #defining classifier method\n",
    "\n",
    "clf.fit(X_train,y_train)                   # training classifier\n",
    "\n",
    "y_pred=clf.predict(X_test)                  # testing classifier \n",
    "\n",
    "print(\"Accuracy:\",metrics.accuracy_score(y_test, y_pred))"
   ]
  },
  {
   "cell_type": "code",
   "execution_count": 20,
   "id": "102e8763",
   "metadata": {},
   "outputs": [
    {
     "name": "stdout",
     "output_type": "stream",
     "text": [
      "              precision    recall  f1-score   support\n",
      "\n",
      "           0       0.42      0.28      0.34      2284\n",
      "           1       0.32      0.23      0.27      3524\n",
      "           2       0.26      0.08      0.12      3560\n",
      "           3       0.52      0.86      0.65      6710\n",
      "\n",
      "    accuracy                           0.47     16078\n",
      "   macro avg       0.38      0.36      0.34     16078\n",
      "weighted avg       0.41      0.47      0.40     16078\n",
      "\n"
     ]
    }
   ],
   "source": [
    "print(classification_report(y_test, y_pred))"
   ]
  },
  {
   "cell_type": "code",
   "execution_count": 21,
   "id": "bf42a5b6",
   "metadata": {},
   "outputs": [
    {
     "name": "stdout",
     "output_type": "stream",
     "text": [
      "Accuracy: 0.47213583779077\n"
     ]
    }
   ],
   "source": [
    "sample_weights = {0:1.8, 1:1.5, 2:2, 3:0.3}\n",
    "\n",
    "clf=RandomForestClassifier(n_estimators=100, class_weight=sample_weights, random_state = 42)  #defining classifier method\n",
    "\n",
    "clf.fit(X_train,y_train)                   # training classifier\n",
    "\n",
    "y_pred=clf.predict(X_test)                  # testing classifier \n",
    "\n",
    "print(\"Accuracy:\",metrics.accuracy_score(y_test, y_pred))"
   ]
  },
  {
   "cell_type": "code",
   "execution_count": 22,
   "id": "405f06ff",
   "metadata": {},
   "outputs": [
    {
     "name": "stdout",
     "output_type": "stream",
     "text": [
      "              precision    recall  f1-score   support\n",
      "\n",
      "           0       0.43      0.29      0.34      2284\n",
      "           1       0.35      0.22      0.27      3524\n",
      "           2       0.29      0.07      0.12      3560\n",
      "           3       0.52      0.88      0.65      6710\n",
      "\n",
      "    accuracy                           0.47     16078\n",
      "   macro avg       0.40      0.37      0.35     16078\n",
      "weighted avg       0.42      0.47      0.41     16078\n",
      "\n"
     ]
    }
   ],
   "source": [
    "print(classification_report(y_test, y_pred))"
   ]
  },
  {
   "cell_type": "code",
   "execution_count": 23,
   "id": "0bbde6e2",
   "metadata": {},
   "outputs": [
    {
     "name": "stdout",
     "output_type": "stream",
     "text": [
      "Accuracy: 0.4675332752829954\n"
     ]
    }
   ],
   "source": [
    "sample_weights = {0:3, 1:4, 2:5, 3:1}\n",
    "\n",
    "clf=RandomForestClassifier(n_estimators=100, class_weight=sample_weights, random_state = 42)  #defining classifier method\n",
    "\n",
    "clf.fit(X_train,y_train)                   # training classifier\n",
    "\n",
    "y_pred=clf.predict(X_test)                  # testing classifier \n",
    "\n",
    "print(\"Accuracy:\",metrics.accuracy_score(y_test, y_pred))"
   ]
  },
  {
   "cell_type": "code",
   "execution_count": 24,
   "id": "d46e6c30",
   "metadata": {},
   "outputs": [
    {
     "name": "stdout",
     "output_type": "stream",
     "text": [
      "              precision    recall  f1-score   support\n",
      "\n",
      "           0       0.42      0.27      0.33      2284\n",
      "           1       0.33      0.22      0.27      3524\n",
      "           2       0.27      0.07      0.11      3560\n",
      "           3       0.52      0.87      0.65      6710\n",
      "\n",
      "    accuracy                           0.47     16078\n",
      "   macro avg       0.38      0.36      0.34     16078\n",
      "weighted avg       0.41      0.47      0.40     16078\n",
      "\n"
     ]
    }
   ],
   "source": [
    "print(classification_report(y_test, y_pred))"
   ]
  },
  {
   "cell_type": "code",
   "execution_count": 25,
   "id": "c00e8b25",
   "metadata": {},
   "outputs": [
    {
     "data": {
      "image/png": "[encoded data removed]",
      "text/plain": [
       "<Figure size 1152x504 with 2 Axes>"
      ]
     },
     "metadata": {
      "needs_background": "light"
     },
     "output_type": "display_data"
    }
   ],
   "source": [
    "matrix = confusion_matrix(y_test, y_pred)\n",
    "matrix = matrix.astype('float') / matrix.sum(axis=1)[:, np.newaxis]\n",
    "\n",
    "# Build the plot\n",
    "plt.figure(figsize=(16,7))\n",
    "sns.set(font_scale=1.4)\n",
    "sns.heatmap(matrix, annot=True, annot_kws={'size':10},\n",
    "            cmap=plt.cm.Greens, linewidths=0.2)\n",
    "\n",
    "# Add labels to the plot\n",
    "class_names = ['None', 'Low', 'Moderate', \n",
    "               'Severe']\n",
    "tick_marks = np.arange(len(class_names))\n",
    "tick_marks2 = tick_marks + 0.5\n",
    "plt.xticks(tick_marks, class_names, rotation=25)\n",
    "plt.yticks(tick_marks2, class_names, rotation=0)\n",
    "plt.xlabel('Predicted label')\n",
    "plt.ylabel('True label')\n",
    "plt.title('Confusion Matrix for Random Forest Model')\n",
    "plt.show()"
   ]
  },
  {
   "cell_type": "code",
   "execution_count": 26,
   "id": "9ebf6bbb",
   "metadata": {},
   "outputs": [
    {
     "name": "stdout",
     "output_type": "stream",
     "text": [
      "Accuracy: 0.2564995646224655\n"
     ]
    }
   ],
   "source": [
    "sample_weights = {0:3, 1:4, 2:5, 3:0}\n",
    "\n",
    "clf=RandomForestClassifier(n_estimators=100, class_weight=sample_weights, random_state = 42)  #defining classifier method\n",
    "\n",
    "clf.fit(X_train,y_train)                   # training classifier\n",
    "\n",
    "y_pred=clf.predict(X_test)                  # testing classifier \n",
    "\n",
    "print(\"Accuracy:\",metrics.accuracy_score(y_test, y_pred))"
   ]
  },
  {
   "cell_type": "code",
   "execution_count": 27,
   "id": "4ab8f820",
   "metadata": {},
   "outputs": [
    {
     "name": "stdout",
     "output_type": "stream",
     "text": [
      "              precision    recall  f1-score   support\n",
      "\n",
      "           0       0.41      0.29      0.34      2284\n",
      "           1       0.27      0.43      0.33      3524\n",
      "           2       0.22      0.55      0.32      3560\n",
      "           3       0.00      0.00      0.00      6710\n",
      "\n",
      "    accuracy                           0.26     16078\n",
      "   macro avg       0.23      0.32      0.25     16078\n",
      "weighted avg       0.17      0.26      0.19     16078\n",
      "\n"
     ]
    },
    {
     "name": "stderr",
     "output_type": "stream",
     "text": [
      "C:\\Users\\40331980\\.conda\\envs\\Amonae\\lib\\site-packages\\sklearn\\metrics\\_classification.py:1318: UndefinedMetricWarning: Precision and F-score are ill-defined and being set to 0.0 in labels with no predicted samples. Use `zero_division` parameter to control this behavior.\n",
      "  _warn_prf(average, modifier, msg_start, len(result))\n",
      "C:\\Users\\40331980\\.conda\\envs\\Amonae\\lib\\site-packages\\sklearn\\metrics\\_classification.py:1318: UndefinedMetricWarning: Precision and F-score are ill-defined and being set to 0.0 in labels with no predicted samples. Use `zero_division` parameter to control this behavior.\n",
      "  _warn_prf(average, modifier, msg_start, len(result))\n",
      "C:\\Users\\40331980\\.conda\\envs\\Amonae\\lib\\site-packages\\sklearn\\metrics\\_classification.py:1318: UndefinedMetricWarning: Precision and F-score are ill-defined and being set to 0.0 in labels with no predicted samples. Use `zero_division` parameter to control this behavior.\n",
      "  _warn_prf(average, modifier, msg_start, len(result))\n"
     ]
    }
   ],
   "source": [
    "print(classification_report(y_test, y_pred))"
   ]
  },
  {
   "cell_type": "code",
   "execution_count": 28,
   "id": "3dcab7aa",
   "metadata": {},
   "outputs": [
    {
     "name": "stdout",
     "output_type": "stream",
     "text": [
      "Accuracy: 0.4700833436994651\n"
     ]
    }
   ],
   "source": [
    "sample_weights = {0:3, 1:4, 2:5, 3:0.1}\n",
    "\n",
    "clf=RandomForestClassifier(n_estimators=100, class_weight=sample_weights, random_state = 42)  #defining classifier method\n",
    "\n",
    "clf.fit(X_train,y_train)                   # training classifier\n",
    "\n",
    "y_pred=clf.predict(X_test)                  # testing classifier \n",
    "\n",
    "print(\"Accuracy:\",metrics.accuracy_score(y_test, y_pred))"
   ]
  },
  {
   "cell_type": "code",
   "execution_count": 29,
   "id": "509cf978",
   "metadata": {},
   "outputs": [
    {
     "name": "stdout",
     "output_type": "stream",
     "text": [
      "              precision    recall  f1-score   support\n",
      "\n",
      "           0       0.41      0.28      0.33      2284\n",
      "           1       0.34      0.21      0.26      3524\n",
      "           2       0.29      0.07      0.11      3560\n",
      "           3       0.52      0.88      0.65      6710\n",
      "\n",
      "    accuracy                           0.47     16078\n",
      "   macro avg       0.39      0.36      0.34     16078\n",
      "weighted avg       0.41      0.47      0.40     16078\n",
      "\n"
     ]
    }
   ],
   "source": [
    "print(classification_report(y_test, y_pred))"
   ]
  },
  {
   "cell_type": "code",
   "execution_count": 30,
   "id": "78eb2283",
   "metadata": {},
   "outputs": [
    {
     "name": "stdout",
     "output_type": "stream",
     "text": [
      "Accuracy: 0.47201144420947877\n"
     ]
    }
   ],
   "source": [
    "sample_weights = {0:2, 1:2, 2:5, 3:0.1}\n",
    "\n",
    "clf=RandomForestClassifier(n_estimators=100, class_weight=sample_weights, random_state = 42)  #defining classifier method\n",
    "\n",
    "clf.fit(X_train,y_train)                   # training classifier\n",
    "\n",
    "y_pred=clf.predict(X_test)                  # testing classifier \n",
    "\n",
    "print(\"Accuracy:\",metrics.accuracy_score(y_test, y_pred))"
   ]
  },
  {
   "cell_type": "code",
   "execution_count": 31,
   "id": "93baee6f",
   "metadata": {},
   "outputs": [
    {
     "name": "stdout",
     "output_type": "stream",
     "text": [
      "              precision    recall  f1-score   support\n",
      "\n",
      "           0       0.44      0.28      0.34      2284\n",
      "           1       0.35      0.23      0.27      3524\n",
      "           2       0.27      0.06      0.10      3560\n",
      "           3       0.52      0.88      0.65      6710\n",
      "\n",
      "    accuracy                           0.47     16078\n",
      "   macro avg       0.39      0.36      0.34     16078\n",
      "weighted avg       0.41      0.47      0.40     16078\n",
      "\n"
     ]
    }
   ],
   "source": [
    "print(classification_report(y_test, y_pred))"
   ]
  },
  {
   "cell_type": "code",
   "execution_count": 32,
   "id": "5300f567",
   "metadata": {},
   "outputs": [
    {
     "data": {
      "image/png": "[encoded data removed]",
      "text/plain": [
       "<Figure size 1152x504 with 2 Axes>"
      ]
     },
     "metadata": {},
     "output_type": "display_data"
    }
   ],
   "source": [
    "matrix = confusion_matrix(y_test, y_pred)\n",
    "matrix = matrix.astype('float') / matrix.sum(axis=1)[:, np.newaxis]\n",
    "\n",
    "# Build the plot\n",
    "plt.figure(figsize=(16,7))\n",
    "sns.set(font_scale=1.4)\n",
    "sns.heatmap(matrix, annot=True, annot_kws={'size':10},\n",
    "            cmap=plt.cm.Greens, linewidths=0.2)\n",
    "\n",
    "# Add labels to the plot\n",
    "class_names = ['None', 'Low', 'Moderate', \n",
    "               'Severe']\n",
    "tick_marks = np.arange(len(class_names))\n",
    "tick_marks2 = tick_marks + 0.5\n",
    "plt.xticks(tick_marks, class_names, rotation=25)\n",
    "plt.yticks(tick_marks2, class_names, rotation=0)\n",
    "plt.xlabel('Predicted label')\n",
    "plt.ylabel('True label')\n",
    "plt.title('Confusion Matrix for Random Forest Model')\n",
    "plt.show()"
   ]
  },
  {
   "cell_type": "code",
   "execution_count": 33,
   "id": "c1b98e86",
   "metadata": {},
   "outputs": [
    {
     "name": "stdout",
     "output_type": "stream",
     "text": [
      "Accuracy: 0.4674088817017042\n"
     ]
    }
   ],
   "source": [
    "sample_weights = {0:0.1, 1:0.1, 2:5, 3:0.1}\n",
    "\n",
    "clf=RandomForestClassifier(n_estimators=100, class_weight=sample_weights, random_state = 42)  #defining classifier method\n",
    "\n",
    "clf.fit(X_train,y_train)                   # training classifier\n",
    "\n",
    "y_pred=clf.predict(X_test)                  # testing classifier \n",
    "\n",
    "print(\"Accuracy:\",metrics.accuracy_score(y_test, y_pred))"
   ]
  },
  {
   "cell_type": "code",
   "execution_count": 34,
   "id": "67c650c4",
   "metadata": {},
   "outputs": [
    {
     "data": {
      "image/png": "[encoded data removed]",
      "text/plain": [
       "<Figure size 1152x504 with 2 Axes>"
      ]
     },
     "metadata": {},
     "output_type": "display_data"
    }
   ],
   "source": [
    "matrix = confusion_matrix(y_test, y_pred)\n",
    "matrix = matrix.astype('float') / matrix.sum(axis=1)[:, np.newaxis]\n",
    "\n",
    "# Build the plot\n",
    "plt.figure(figsize=(16,7))\n",
    "sns.set(font_scale=1.4)\n",
    "sns.heatmap(matrix, annot=True, annot_kws={'size':10},\n",
    "            cmap=plt.cm.Greens, linewidths=0.2)\n",
    "\n",
    "# Add labels to the plot\n",
    "class_names = ['None', 'Low', 'Moderate', \n",
    "               'Severe']\n",
    "tick_marks = np.arange(len(class_names))\n",
    "tick_marks2 = tick_marks + 0.5\n",
    "plt.xticks(tick_marks, class_names, rotation=25)\n",
    "plt.yticks(tick_marks2, class_names, rotation=0)\n",
    "plt.xlabel('Predicted label')\n",
    "plt.ylabel('True label')\n",
    "plt.title('Confusion Matrix for Random Forest Model')\n",
    "plt.show()"
   ]
  },
  {
   "cell_type": "code",
   "execution_count": null,
   "id": "2ad32cbc",
   "metadata": {},
   "outputs": [],
   "source": []
  }
 ],
 "metadata": {
  "kernelspec": {
   "display_name": "Python 3 (ipykernel)",
   "language": "python",
   "name": "python3"
  },
  "language_info": {
   "codemirror_mode": {
    "name": "ipython",
    "version": 3
   },
   "file_extension": ".py",
   "mimetype": "text/x-python",
   "name": "python",
   "nbconvert_exporter": "python",
   "pygments_lexer": "ipython3",
   "version": "3.9.12"
  }
 },
 "nbformat": 4,
 "nbformat_minor": 5
}
