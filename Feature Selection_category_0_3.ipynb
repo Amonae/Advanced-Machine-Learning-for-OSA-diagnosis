{
 "cells": [
  {
   "cell_type": "markdown",
   "metadata": {},
   "source": [
    "# Feature selection by category or reference paper\n",
    "This tests all feature sets by classifier\n",
    "\n",
    "Separating Severity 0 v 3"
   ]
  },
  {
   "cell_type": "code",
   "execution_count": 1,
   "metadata": {},
   "outputs": [],
   "source": [
    "import pandas as pd\n",
    "from sklearn.model_selection import train_test_split\n",
    "\n",
    "from sklearn import metrics\n",
    "import numpy as np\n",
    "import matplotlib.pyplot as plt\n",
    "import seaborn as sns\n",
    "from sklearn.metrics import confusion_matrix, classification_report\n",
    "from sklearn.metrics import balanced_accuracy_score, precision_score, recall_score\n",
    "\n",
    "from sklearn.preprocessing import StandardScaler  \n",
    "\n",
    "from sklearn.ensemble import RandomForestClassifier\n",
    "from sklearn.neural_network import MLPClassifier\n",
    "from sklearn.svm import LinearSVC\n",
    "from sklearn.linear_model import LogisticRegression\n",
    "from sklearn.naive_bayes import GaussianNB\n"
   ]
  },
  {
   "cell_type": "code",
   "execution_count": 2,
   "metadata": {},
   "outputs": [],
   "source": [
    "data = pd.read_csv(\"OSA_complete_patients.csv\", index_col = 0)\n",
    "# this data file was created using the RF_no_nan_data.ipynb file which should be in the missing value imputation folder"
   ]
  },
  {
   "cell_type": "code",
   "execution_count": 3,
   "metadata": {},
   "outputs": [
    {
     "data": {
      "text/html": [
       "<div>\n",
       "<style scoped>\n",
       "    .dataframe tbody tr th:only-of-type {\n",
       "        vertical-align: middle;\n",
       "    }\n",
       "\n",
       "    .dataframe tbody tr th {\n",
       "        vertical-align: top;\n",
       "    }\n",
       "\n",
       "    .dataframe thead th {\n",
       "        text-align: right;\n",
       "    }\n",
       "</style>\n",
       "<table border=\"1\" class=\"dataframe\">\n",
       "  <thead>\n",
       "    <tr style=\"text-align: right;\">\n",
       "      <th></th>\n",
       "      <th>PatientID</th>\n",
       "      <th>Sex</th>\n",
       "      <th>Age</th>\n",
       "      <th>Current_smoker</th>\n",
       "      <th>Former_smoker</th>\n",
       "      <th>Sedentary</th>\n",
       "      <th>Height</th>\n",
       "      <th>Weight</th>\n",
       "      <th>Cervical_perimeter</th>\n",
       "      <th>Abdominal_perimeter</th>\n",
       "      <th>...</th>\n",
       "      <th>Nocturnal_perspiration</th>\n",
       "      <th>Shortness_of_breath_on_exertion</th>\n",
       "      <th>Nocturia</th>\n",
       "      <th>Drowsiness_accident</th>\n",
       "      <th>Near_miss_accident</th>\n",
       "      <th>Respiratory_arrest</th>\n",
       "      <th>Epworth_scale</th>\n",
       "      <th>Pichots_scale</th>\n",
       "      <th>Depression_scale</th>\n",
       "      <th>Severity</th>\n",
       "    </tr>\n",
       "  </thead>\n",
       "  <tbody>\n",
       "    <tr>\n",
       "      <th>39</th>\n",
       "      <td>23</td>\n",
       "      <td>2.0</td>\n",
       "      <td>57.883641</td>\n",
       "      <td>0.0</td>\n",
       "      <td>0.0</td>\n",
       "      <td>0.0</td>\n",
       "      <td>172.0</td>\n",
       "      <td>90.0</td>\n",
       "      <td>45.0</td>\n",
       "      <td>125.0</td>\n",
       "      <td>...</td>\n",
       "      <td>0.0</td>\n",
       "      <td>0.0</td>\n",
       "      <td>1.0</td>\n",
       "      <td>0.0</td>\n",
       "      <td>0.0</td>\n",
       "      <td>0.0</td>\n",
       "      <td>3.0</td>\n",
       "      <td>4.0</td>\n",
       "      <td>5.0</td>\n",
       "      <td>3</td>\n",
       "    </tr>\n",
       "    <tr>\n",
       "      <th>41</th>\n",
       "      <td>24</td>\n",
       "      <td>2.0</td>\n",
       "      <td>60.796715</td>\n",
       "      <td>0.0</td>\n",
       "      <td>0.0</td>\n",
       "      <td>0.0</td>\n",
       "      <td>156.0</td>\n",
       "      <td>85.0</td>\n",
       "      <td>35.0</td>\n",
       "      <td>113.0</td>\n",
       "      <td>...</td>\n",
       "      <td>0.0</td>\n",
       "      <td>1.0</td>\n",
       "      <td>1.0</td>\n",
       "      <td>0.0</td>\n",
       "      <td>0.0</td>\n",
       "      <td>1.0</td>\n",
       "      <td>19.0</td>\n",
       "      <td>17.0</td>\n",
       "      <td>4.0</td>\n",
       "      <td>3</td>\n",
       "    </tr>\n",
       "    <tr>\n",
       "      <th>46</th>\n",
       "      <td>28</td>\n",
       "      <td>1.0</td>\n",
       "      <td>63.438741</td>\n",
       "      <td>0.0</td>\n",
       "      <td>0.0</td>\n",
       "      <td>0.0</td>\n",
       "      <td>178.0</td>\n",
       "      <td>68.0</td>\n",
       "      <td>35.0</td>\n",
       "      <td>73.0</td>\n",
       "      <td>...</td>\n",
       "      <td>0.0</td>\n",
       "      <td>0.0</td>\n",
       "      <td>1.0</td>\n",
       "      <td>0.0</td>\n",
       "      <td>0.0</td>\n",
       "      <td>1.0</td>\n",
       "      <td>5.0</td>\n",
       "      <td>3.0</td>\n",
       "      <td>0.0</td>\n",
       "      <td>1</td>\n",
       "    </tr>\n",
       "    <tr>\n",
       "      <th>55</th>\n",
       "      <td>32</td>\n",
       "      <td>1.0</td>\n",
       "      <td>28.736482</td>\n",
       "      <td>0.0</td>\n",
       "      <td>0.0</td>\n",
       "      <td>0.0</td>\n",
       "      <td>180.0</td>\n",
       "      <td>69.0</td>\n",
       "      <td>36.0</td>\n",
       "      <td>83.0</td>\n",
       "      <td>...</td>\n",
       "      <td>0.0</td>\n",
       "      <td>0.0</td>\n",
       "      <td>0.0</td>\n",
       "      <td>0.0</td>\n",
       "      <td>0.0</td>\n",
       "      <td>0.0</td>\n",
       "      <td>2.0</td>\n",
       "      <td>0.0</td>\n",
       "      <td>0.0</td>\n",
       "      <td>0</td>\n",
       "    </tr>\n",
       "    <tr>\n",
       "      <th>56</th>\n",
       "      <td>33</td>\n",
       "      <td>1.0</td>\n",
       "      <td>56.802190</td>\n",
       "      <td>0.0</td>\n",
       "      <td>0.0</td>\n",
       "      <td>0.0</td>\n",
       "      <td>185.0</td>\n",
       "      <td>118.0</td>\n",
       "      <td>43.0</td>\n",
       "      <td>106.0</td>\n",
       "      <td>...</td>\n",
       "      <td>0.0</td>\n",
       "      <td>0.0</td>\n",
       "      <td>0.0</td>\n",
       "      <td>0.0</td>\n",
       "      <td>0.0</td>\n",
       "      <td>1.0</td>\n",
       "      <td>12.0</td>\n",
       "      <td>13.0</td>\n",
       "      <td>2.0</td>\n",
       "      <td>3</td>\n",
       "    </tr>\n",
       "  </tbody>\n",
       "</table>\n",
       "<p>5 rows × 51 columns</p>\n",
       "</div>"
      ],
      "text/plain": [
       "    PatientID  Sex        Age  Current_smoker  Former_smoker  Sedentary  \\\n",
       "39         23  2.0  57.883641             0.0            0.0        0.0   \n",
       "41         24  2.0  60.796715             0.0            0.0        0.0   \n",
       "46         28  1.0  63.438741             0.0            0.0        0.0   \n",
       "55         32  1.0  28.736482             0.0            0.0        0.0   \n",
       "56         33  1.0  56.802190             0.0            0.0        0.0   \n",
       "\n",
       "    Height  Weight  Cervical_perimeter  Abdominal_perimeter  ...  \\\n",
       "39   172.0    90.0                45.0                125.0  ...   \n",
       "41   156.0    85.0                35.0                113.0  ...   \n",
       "46   178.0    68.0                35.0                 73.0  ...   \n",
       "55   180.0    69.0                36.0                 83.0  ...   \n",
       "56   185.0   118.0                43.0                106.0  ...   \n",
       "\n",
       "    Nocturnal_perspiration  Shortness_of_breath_on_exertion  Nocturia  \\\n",
       "39                     0.0                              0.0       1.0   \n",
       "41                     0.0                              1.0       1.0   \n",
       "46                     0.0                              0.0       1.0   \n",
       "55                     0.0                              0.0       0.0   \n",
       "56                     0.0                              0.0       0.0   \n",
       "\n",
       "    Drowsiness_accident  Near_miss_accident  Respiratory_arrest  \\\n",
       "39                  0.0                 0.0                 0.0   \n",
       "41                  0.0                 0.0                 1.0   \n",
       "46                  0.0                 0.0                 1.0   \n",
       "55                  0.0                 0.0                 0.0   \n",
       "56                  0.0                 0.0                 1.0   \n",
       "\n",
       "    Epworth_scale  Pichots_scale  Depression_scale  Severity  \n",
       "39            3.0            4.0               5.0         3  \n",
       "41           19.0           17.0               4.0         3  \n",
       "46            5.0            3.0               0.0         1  \n",
       "55            2.0            0.0               0.0         0  \n",
       "56           12.0           13.0               2.0         3  \n",
       "\n",
       "[5 rows x 51 columns]"
      ]
     },
     "execution_count": 3,
     "metadata": {},
     "output_type": "execute_result"
    }
   ],
   "source": [
    "data.head()"
   ]
  },
  {
   "cell_type": "code",
   "execution_count": 4,
   "metadata": {},
   "outputs": [],
   "source": [
    "features = ['Sex', 'Age', 'Current_smoker', 'Former_smoker',\n",
    "       'Sedentary', 'Height', 'Weight', 'Cervical_perimeter',\n",
    "       'Abdominal_perimeter', 'Systolic_BP', 'Diastolic_BP',\n",
    "       'Maxillofacial_profile', 'BMI', 'High_BP', 'Asthma', 'Rhinitis', 'COPD',\n",
    "       'Respiratory_fail', 'Myocardial_infarct', 'Coronary_fail',\n",
    "       'Arrhythmias', 'Stroke', 'Heart_fail', 'Arteriopathy', 'Gastric_reflux',\n",
    "       'Glaucoma', 'Diabetes', 'Hypercholesterolemia', 'Hypertriglyceridemia',\n",
    "       'Hypo(er)thyroidism', 'Depression', 'Obesity', 'Dysmorphology',\n",
    "       'Restless_Leg_Syndrome', 'Snoring', 'Diurnal_somnolence',\n",
    "       'Driving_drowsiness', 'Morning_fatigue', 'Morning_headache',\n",
    "       'Memory_problem', 'Nocturnal_perspiration',\n",
    "       'Shortness_of_breath_on_exertion', 'Nocturia', 'Drowsiness_accident',\n",
    "       'Near_miss_accident', 'Respiratory_arrest', 'Epworth_scale',\n",
    "       'Pichots_scale', 'Depression_scale']"
   ]
  },
  {
   "cell_type": "markdown",
   "metadata": {},
   "source": [
    "### Wu et al. [25] \n",
    "age; body mass index; Epworth Sleepiness\n",
    "Scale; waistline; neck circumference; and\n",
    "difference of blood pressure before going\n",
    "to sleep and early in the morning"
   ]
  },
  {
   "cell_type": "code",
   "execution_count": 5,
   "metadata": {},
   "outputs": [],
   "source": [
    "wu = ['Age','BMI','Epworth_scale',  'Abdominal_perimeter', 'Cervical_perimeter','Systolic_BP', 'Diastolic_BP']\n",
    "# The Wu paper included a feature described as \"The difference of blood presure before going to sleep and early in the morning.\" \n",
    "# This dataset did not include that feature, so it is substituted here with disastolic and systolic BP"
   ]
  },
  {
   "cell_type": "markdown",
   "metadata": {},
   "source": [
    "### Mencar et al. [15]\n",
    "body mass index; gender; and Epworth\n",
    "Sleepiness Scale"
   ]
  },
  {
   "cell_type": "code",
   "execution_count": 6,
   "metadata": {},
   "outputs": [],
   "source": [
    "mencar = ['BMI', 'Sex', 'Epworth_scale']"
   ]
  },
  {
   "cell_type": "markdown",
   "metadata": {},
   "source": [
    "### Huang et al. [12] \n",
    "age; waistline; neck circumference; snoring;\n",
    "sleep onset latency; and witnessed apnea"
   ]
  },
  {
   "cell_type": "code",
   "execution_count": 7,
   "metadata": {},
   "outputs": [],
   "source": [
    "huang = ['Age','Cervical_perimeter', 'Snoring']\n",
    "# The Huang paper included the features: sleep onset latency and witnessed apnea\n",
    "# This dataset did not included sleep onset latency data, and including results for witnessed apnea would skew the results so it was not included"
   ]
  },
  {
   "cell_type": "markdown",
   "metadata": {},
   "source": [
    "### Ustun et al. [21] \n",
    "age; body mass index; gender; diabetes; hypertension; and tabagism (smoker status)"
   ]
  },
  {
   "cell_type": "code",
   "execution_count": 8,
   "metadata": {},
   "outputs": [],
   "source": [
    "ustun = ['Age','BMI', 'Sex','Diabetes', 'High_BP', 'Current_smoker', 'Former_smoker']"
   ]
  },
  {
   "cell_type": "markdown",
   "metadata": {},
   "source": [
    "### Rodruiges Jr et al.\n",
    "age; nocturia frequency; body mass index;\n",
    "depression score; neck circumference; hip\n",
    "measurement; diastolic blood pressure; and\n",
    "tabagism"
   ]
  },
  {
   "cell_type": "code",
   "execution_count": 9,
   "metadata": {},
   "outputs": [],
   "source": [
    "rodruiges = ['Age', 'Nocturia', 'BMI', 'Depression_scale', 'Cervical_perimeter', 'Abdominal_perimeter', 'Diastolic_BP', 'Current_smoker', 'Former_smoker' ]"
   ]
  },
  {
   "cell_type": "markdown",
   "metadata": {},
   "source": [
    "### Categories"
   ]
  },
  {
   "cell_type": "code",
   "execution_count": 10,
   "metadata": {},
   "outputs": [],
   "source": [
    "demographic = ['Sex','Age','Current_smoker','Former_smoker','Sedentary']"
   ]
  },
  {
   "cell_type": "code",
   "execution_count": 11,
   "metadata": {},
   "outputs": [],
   "source": [
    "measurements = ['Height','Weight','Cervical_perimeter',\n",
    "               'Abdominal_perimeter','Systolic_BP','Diastolic_BP','Maxillofacial_profile','BMI','High_BP']"
   ]
  },
  {
   "cell_type": "code",
   "execution_count": 12,
   "metadata": {},
   "outputs": [],
   "source": [
    "comorbidities = ['Asthma','Rhinitis','COPD','Respiratory_fail','Myocardial_infarct','Coronary_fail','Arrhythmias','Stroke',\n",
    "                 'Heart_fail','Arteriopathy','Gastric_reflux','Glaucoma','Diabetes','Hypercholesterolemia','Hypertriglyceridemia',\n",
    "                 'Hypo(er)thyroidism','Depression','Obesity','Dysmorphology','Restless_Leg_Syndrome']"
   ]
  },
  {
   "cell_type": "code",
   "execution_count": 13,
   "metadata": {},
   "outputs": [],
   "source": [
    "symptoms=['Snoring','Diurnal_somnolence','Driving_drowsiness','Morning_fatigue','Morning_headache','Memory_problem',\n",
    "          'Nocturnal_perspiration','Shortness_of_breath_on_exertion','Nocturia','Drowsiness_accident','Near_miss_accident',\n",
    "          'Respiratory_arrest']"
   ]
  },
  {
   "cell_type": "code",
   "execution_count": 14,
   "metadata": {},
   "outputs": [],
   "source": [
    "questionnaires = ['Epworth_scale','Pichots_scale','Depression_scale']"
   ]
  },
  {
   "cell_type": "markdown",
   "metadata": {},
   "source": [
    "### Dataframe of only Severity 0 and 1"
   ]
  },
  {
   "cell_type": "code",
   "execution_count": 15,
   "metadata": {},
   "outputs": [
    {
     "name": "stdout",
     "output_type": "stream",
     "text": [
      "(11640, 51)\n",
      "3    8778\n",
      "0    2862\n",
      "Name: Severity, dtype: int64\n"
     ]
    }
   ],
   "source": [
    "sev = [0,3]\n",
    "data_0_3 = data[data['Severity'].isin(sev)]\n",
    "print(data_0_3.shape)\n",
    "print(data_0_3['Severity'].value_counts())"
   ]
  },
  {
   "cell_type": "markdown",
   "metadata": {},
   "source": [
    "## Models"
   ]
  },
  {
   "cell_type": "markdown",
   "metadata": {},
   "source": [
    "##### Note: Feature scaling is essential for machine learning algorithms that calculate distances between data"
   ]
  },
  {
   "cell_type": "markdown",
   "metadata": {},
   "source": [
    "### Creating dictionary of feature sets"
   ]
  },
  {
   "cell_type": "code",
   "execution_count": 16,
   "metadata": {},
   "outputs": [],
   "source": [
    "feature_list = {}\n",
    "\n",
    "feature_list['All']= features\n",
    "feature_list['Wu'] = wu\n",
    "feature_list['Mencar'] = mencar\n",
    "feature_list['Ustun'] = ustun\n",
    "feature_list['Huang'] = huang\n",
    "feature_list['Rodruiges'] = rodruiges\n",
    "feature_list['Demographic'] = demographic\n",
    "feature_list['Measurements'] = measurements\n",
    "feature_list['Comorbidities'] = comorbidities\n",
    "feature_list['Symptoms'] = symptoms\n",
    "feature_list['Questionnaires'] = questionnaires\n"
   ]
  },
  {
   "cell_type": "markdown",
   "metadata": {},
   "source": [
    "### Random Forests"
   ]
  },
  {
   "cell_type": "code",
   "execution_count": 17,
   "metadata": {},
   "outputs": [],
   "source": [
    "accuracy, precision, recall = {}, {}, {}\n",
    "\n",
    "for key in feature_list.keys():\n",
    "    \n",
    "    # Define X and y test/ train/ split\n",
    "    X=data_0_3[feature_list[key]]  # Features  \n",
    "    y=data_0_3['Severity']  # Labels\n",
    "    X_train, X_test, y_train, y_test = train_test_split(X, y, \n",
    "                                                    test_size=0.2, \n",
    "                                                    random_state=0, \n",
    "                                                    shuffle=True, \n",
    "                                                    stratify=y)\n",
    "    clf=RandomForestClassifier(n_estimators=100, class_weight='balanced', random_state = 0)  #defining classifier method\n",
    "    clf.fit(X_train,y_train)                   # training classifier \n",
    "    \n",
    "    # Prediction \n",
    "    predictions = clf.predict(X_test)\n",
    "    \n",
    "    # Calculate Accuracy, Precision and Recall Metrics\n",
    "    accuracy[key] = balanced_accuracy_score(predictions, y_test) \n",
    "    precision[key] = precision_score(predictions, y_test, average='weighted')\n",
    "    recall[key] = recall_score(predictions, y_test, average='weighted')"
   ]
  },
  {
   "cell_type": "code",
   "execution_count": 18,
   "metadata": {},
   "outputs": [
    {
     "data": {
      "text/html": [
       "<div>\n",
       "<style scoped>\n",
       "    .dataframe tbody tr th:only-of-type {\n",
       "        vertical-align: middle;\n",
       "    }\n",
       "\n",
       "    .dataframe tbody tr th {\n",
       "        vertical-align: top;\n",
       "    }\n",
       "\n",
       "    .dataframe thead th {\n",
       "        text-align: right;\n",
       "    }\n",
       "</style>\n",
       "<table border=\"1\" class=\"dataframe\">\n",
       "  <thead>\n",
       "    <tr style=\"text-align: right;\">\n",
       "      <th></th>\n",
       "      <th>Balanced Accuracy</th>\n",
       "      <th>Precision</th>\n",
       "      <th>Recall</th>\n",
       "    </tr>\n",
       "  </thead>\n",
       "  <tbody>\n",
       "    <tr>\n",
       "      <th>All</th>\n",
       "      <td>0.815021</td>\n",
       "      <td>0.880557</td>\n",
       "      <td>0.842354</td>\n",
       "    </tr>\n",
       "    <tr>\n",
       "      <th>Wu</th>\n",
       "      <td>0.778307</td>\n",
       "      <td>0.863115</td>\n",
       "      <td>0.822595</td>\n",
       "    </tr>\n",
       "    <tr>\n",
       "      <th>Mencar</th>\n",
       "      <td>0.594319</td>\n",
       "      <td>0.696463</td>\n",
       "      <td>0.698024</td>\n",
       "    </tr>\n",
       "    <tr>\n",
       "      <th>Ustun</th>\n",
       "      <td>0.726019</td>\n",
       "      <td>0.824523</td>\n",
       "      <td>0.796392</td>\n",
       "    </tr>\n",
       "    <tr>\n",
       "      <th>Huang</th>\n",
       "      <td>0.640495</td>\n",
       "      <td>0.733993</td>\n",
       "      <td>0.733677</td>\n",
       "    </tr>\n",
       "    <tr>\n",
       "      <th>Rodruiges</th>\n",
       "      <td>0.794081</td>\n",
       "      <td>0.871747</td>\n",
       "      <td>0.830326</td>\n",
       "    </tr>\n",
       "    <tr>\n",
       "      <th>Demographic</th>\n",
       "      <td>0.597649</td>\n",
       "      <td>0.705163</td>\n",
       "      <td>0.703179</td>\n",
       "    </tr>\n",
       "    <tr>\n",
       "      <th>Measurements</th>\n",
       "      <td>0.717492</td>\n",
       "      <td>0.840188</td>\n",
       "      <td>0.789089</td>\n",
       "    </tr>\n",
       "    <tr>\n",
       "      <th>Comorbidities</th>\n",
       "      <td>0.580861</td>\n",
       "      <td>0.618094</td>\n",
       "      <td>0.555412</td>\n",
       "    </tr>\n",
       "    <tr>\n",
       "      <th>Symptoms</th>\n",
       "      <td>0.615474</td>\n",
       "      <td>0.653376</td>\n",
       "      <td>0.658505</td>\n",
       "    </tr>\n",
       "    <tr>\n",
       "      <th>Questionnaires</th>\n",
       "      <td>0.500799</td>\n",
       "      <td>0.632114</td>\n",
       "      <td>0.631014</td>\n",
       "    </tr>\n",
       "  </tbody>\n",
       "</table>\n",
       "</div>"
      ],
      "text/plain": [
       "                Balanced Accuracy  Precision    Recall\n",
       "All                      0.815021   0.880557  0.842354\n",
       "Wu                       0.778307   0.863115  0.822595\n",
       "Mencar                   0.594319   0.696463  0.698024\n",
       "Ustun                    0.726019   0.824523  0.796392\n",
       "Huang                    0.640495   0.733993  0.733677\n",
       "Rodruiges                0.794081   0.871747  0.830326\n",
       "Demographic              0.597649   0.705163  0.703179\n",
       "Measurements             0.717492   0.840188  0.789089\n",
       "Comorbidities            0.580861   0.618094  0.555412\n",
       "Symptoms                 0.615474   0.653376  0.658505\n",
       "Questionnaires           0.500799   0.632114  0.631014"
      ]
     },
     "execution_count": 18,
     "metadata": {},
     "output_type": "execute_result"
    }
   ],
   "source": [
    "df_model = pd.DataFrame(index=feature_list.keys())\n",
    "df_model['Balanced Accuracy'] = accuracy.values()\n",
    "df_model['Precision'] = precision.values()\n",
    "df_model['Recall'] = recall.values()\n",
    "\n",
    "df_model"
   ]
  },
  {
   "cell_type": "markdown",
   "metadata": {},
   "source": [
    "##### Confusion matrix for model with highest balanced accuracy"
   ]
  },
  {
   "cell_type": "code",
   "execution_count": 19,
   "metadata": {},
   "outputs": [],
   "source": [
    "X=data_0_3[features]  # Features  \n",
    "y=data_0_3['Severity']  # Labels\n",
    "X_train, X_test, y_train, y_test = train_test_split(X, y, \n",
    "                                                    test_size=0.2, \n",
    "                                                    random_state=0, \n",
    "                                                    shuffle=True, \n",
    "                                                    stratify=y)\n",
    "clf=RandomForestClassifier(n_estimators=100, class_weight='balanced', random_state = 0)  #defining classifier method\n",
    "clf.fit(X_train,y_train)                   # training classifier \n",
    "    \n",
    "# Prediction \n",
    "predictions = clf.predict(X_test)"
   ]
  },
  {
   "cell_type": "code",
   "execution_count": 20,
   "metadata": {},
   "outputs": [
    {
     "data": {
      "image/png": "[encoded data removed]",
      "text/plain": [
       "<Figure size 1152x504 with 2 Axes>"
      ]
     },
     "metadata": {
      "needs_background": "light"
     },
     "output_type": "display_data"
    }
   ],
   "source": [
    "matrix = confusion_matrix(y_test, predictions)\n",
    "matrix = matrix.astype('float') / matrix.sum(axis=1)[:, np.newaxis]\n",
    "\n",
    "# Build the plot\n",
    "plt.figure(figsize=(16,7))\n",
    "sns.set(font_scale=1.4)\n",
    "sns.heatmap(matrix, annot=True, annot_kws={'size':10},\n",
    "            cmap=plt.cm.Greens, linewidths=0.2)\n",
    "\n",
    "# Add labels to the plot\n",
    "class_names = ['0', '3']\n",
    "tick_marks = np.arange(len(class_names))\n",
    "tick_marks2 = tick_marks + 0.5\n",
    "plt.xticks(tick_marks, class_names, rotation=25)\n",
    "plt.yticks(tick_marks2, class_names, rotation=0)\n",
    "plt.xlabel('Predicted label')\n",
    "plt.ylabel('True label')\n",
    "plt.title('Confusion Matrix for Random Forest Model')\n",
    "plt.show()"
   ]
  },
  {
   "cell_type": "markdown",
   "metadata": {},
   "source": [
    "### MLP"
   ]
  },
  {
   "cell_type": "code",
   "execution_count": 21,
   "metadata": {},
   "outputs": [
    {
     "name": "stderr",
     "output_type": "stream",
     "text": [
      "C:\\ProgramData\\Anaconda3\\lib\\site-packages\\sklearn\\metrics\\classification.py:1437: UserWarning: y_pred contains classes not in y_true\n",
      "  warnings.warn('y_pred contains classes not in y_true')\n",
      "C:\\ProgramData\\Anaconda3\\lib\\site-packages\\sklearn\\metrics\\classification.py:1145: UndefinedMetricWarning: Recall is ill-defined and being set to 0.0 in labels with no true samples.\n",
      "  'recall', 'true', average, warn_for)\n"
     ]
    }
   ],
   "source": [
    "accuracy, precision, recall = {}, {}, {}\n",
    "\n",
    "for key in feature_list.keys():\n",
    "    \n",
    "    # Define X and y test/ train/ split\n",
    "    X=data_0_3[feature_list[key]]  # Features  \n",
    "    y=data_0_3['Severity']  # Labels\n",
    "    X_train, X_test, y_train, y_test = train_test_split(X, y, \n",
    "                                                    test_size=0.2, \n",
    "                                                    random_state=0, \n",
    "                                                    shuffle=True, \n",
    "                                                    stratify=y)\n",
    "    # Data needs to be scaled\n",
    "    scaler = StandardScaler()  \n",
    "    # Scale only on training data\n",
    "    scaler.fit(X_train)  \n",
    "    X_train = scaler.transform(X_train)  \n",
    "    # apply same transformation to test data\n",
    "    X_test = scaler.transform(X_test)  \n",
    "    \n",
    "    clf=MLPClassifier(random_state=0, early_stopping=True)  #defining classifier method\n",
    "    clf.fit(X_train,y_train)                   # training classifier \n",
    "    \n",
    "    # Prediction \n",
    "    predictions = clf.predict(X_test)\n",
    "    \n",
    "    # Calculate Accuracy, Precision and Recall Metrics\n",
    "    accuracy[key] = balanced_accuracy_score(predictions, y_test) \n",
    "    precision[key] = precision_score(predictions, y_test, average='weighted')\n",
    "    recall[key] = recall_score(predictions, y_test, average='weighted')"
   ]
  },
  {
   "cell_type": "code",
   "execution_count": 22,
   "metadata": {},
   "outputs": [
    {
     "data": {
      "text/html": [
       "<div>\n",
       "<style scoped>\n",
       "    .dataframe tbody tr th:only-of-type {\n",
       "        vertical-align: middle;\n",
       "    }\n",
       "\n",
       "    .dataframe tbody tr th {\n",
       "        vertical-align: top;\n",
       "    }\n",
       "\n",
       "    .dataframe thead th {\n",
       "        text-align: right;\n",
       "    }\n",
       "</style>\n",
       "<table border=\"1\" class=\"dataframe\">\n",
       "  <thead>\n",
       "    <tr style=\"text-align: right;\">\n",
       "      <th></th>\n",
       "      <th>Balanced Accuracy</th>\n",
       "      <th>Precision</th>\n",
       "      <th>Recall</th>\n",
       "    </tr>\n",
       "  </thead>\n",
       "  <tbody>\n",
       "    <tr>\n",
       "      <th>All</th>\n",
       "      <td>0.821808</td>\n",
       "      <td>0.874900</td>\n",
       "      <td>0.856100</td>\n",
       "    </tr>\n",
       "    <tr>\n",
       "      <th>Wu</th>\n",
       "      <td>0.781500</td>\n",
       "      <td>0.864632</td>\n",
       "      <td>0.824313</td>\n",
       "    </tr>\n",
       "    <tr>\n",
       "      <th>Mencar</th>\n",
       "      <td>0.726167</td>\n",
       "      <td>0.889010</td>\n",
       "      <td>0.783935</td>\n",
       "    </tr>\n",
       "    <tr>\n",
       "      <th>Ustun</th>\n",
       "      <td>0.790160</td>\n",
       "      <td>0.870711</td>\n",
       "      <td>0.827749</td>\n",
       "    </tr>\n",
       "    <tr>\n",
       "      <th>Huang</th>\n",
       "      <td>0.786897</td>\n",
       "      <td>0.869205</td>\n",
       "      <td>0.826031</td>\n",
       "    </tr>\n",
       "    <tr>\n",
       "      <th>Rodruiges</th>\n",
       "      <td>0.795303</td>\n",
       "      <td>0.871376</td>\n",
       "      <td>0.831615</td>\n",
       "    </tr>\n",
       "    <tr>\n",
       "      <th>Demographic</th>\n",
       "      <td>0.762581</td>\n",
       "      <td>0.892179</td>\n",
       "      <td>0.799399</td>\n",
       "    </tr>\n",
       "    <tr>\n",
       "      <th>Measurements</th>\n",
       "      <td>0.745359</td>\n",
       "      <td>0.866454</td>\n",
       "      <td>0.799399</td>\n",
       "    </tr>\n",
       "    <tr>\n",
       "      <th>Comorbidities</th>\n",
       "      <td>0.628361</td>\n",
       "      <td>0.984527</td>\n",
       "      <td>0.754296</td>\n",
       "    </tr>\n",
       "    <tr>\n",
       "      <th>Symptoms</th>\n",
       "      <td>0.671727</td>\n",
       "      <td>0.937589</td>\n",
       "      <td>0.760739</td>\n",
       "    </tr>\n",
       "    <tr>\n",
       "      <th>Questionnaires</th>\n",
       "      <td>0.754296</td>\n",
       "      <td>1.000000</td>\n",
       "      <td>0.754296</td>\n",
       "    </tr>\n",
       "  </tbody>\n",
       "</table>\n",
       "</div>"
      ],
      "text/plain": [
       "                Balanced Accuracy  Precision    Recall\n",
       "All                      0.821808   0.874900  0.856100\n",
       "Wu                       0.781500   0.864632  0.824313\n",
       "Mencar                   0.726167   0.889010  0.783935\n",
       "Ustun                    0.790160   0.870711  0.827749\n",
       "Huang                    0.786897   0.869205  0.826031\n",
       "Rodruiges                0.795303   0.871376  0.831615\n",
       "Demographic              0.762581   0.892179  0.799399\n",
       "Measurements             0.745359   0.866454  0.799399\n",
       "Comorbidities            0.628361   0.984527  0.754296\n",
       "Symptoms                 0.671727   0.937589  0.760739\n",
       "Questionnaires           0.754296   1.000000  0.754296"
      ]
     },
     "execution_count": 22,
     "metadata": {},
     "output_type": "execute_result"
    }
   ],
   "source": [
    "df_model = pd.DataFrame(index=feature_list.keys())\n",
    "df_model['Balanced Accuracy'] = accuracy.values()\n",
    "df_model['Precision'] = precision.values()\n",
    "df_model['Recall'] = recall.values()\n",
    "\n",
    "df_model"
   ]
  },
  {
   "cell_type": "markdown",
   "metadata": {},
   "source": [
    "##### Confusion matrix for model with highest balanced accuracy"
   ]
  },
  {
   "cell_type": "code",
   "execution_count": 23,
   "metadata": {},
   "outputs": [],
   "source": [
    "X=data_0_3[features]  # Features  \n",
    "y=data_0_3['Severity']  # Labels\n",
    "X_train, X_test, y_train, y_test = train_test_split(X, y, \n",
    "                                                    test_size=0.2, \n",
    "                                                    random_state=0, \n",
    "                                                    shuffle=True, \n",
    "                                                    stratify=y)\n",
    " # Data needs to be scaled\n",
    "scaler = StandardScaler()  \n",
    "    # Scale only on training data\n",
    "scaler.fit(X_train)  \n",
    "X_train = scaler.transform(X_train)  \n",
    "    # apply same transformation to test data\n",
    "X_test = scaler.transform(X_test)  \n",
    "    \n",
    "clf=MLPClassifier(random_state=0, early_stopping=True)  #defining classifier method\n",
    "clf.fit(X_train,y_train)                   # training classifier \n",
    "    \n",
    "# Prediction \n",
    "predictions = clf.predict(X_test)"
   ]
  },
  {
   "cell_type": "code",
   "execution_count": 24,
   "metadata": {},
   "outputs": [
    {
     "data": {
      "image/png": "[encoded data removed]",
      "text/plain": [
       "<Figure size 1152x504 with 2 Axes>"
      ]
     },
     "metadata": {},
     "output_type": "display_data"
    }
   ],
   "source": [
    "matrix = confusion_matrix(y_test, predictions)\n",
    "matrix = matrix.astype('float') / matrix.sum(axis=1)[:, np.newaxis]\n",
    "\n",
    "# Build the plot\n",
    "plt.figure(figsize=(16,7))\n",
    "sns.set(font_scale=1.4)\n",
    "sns.heatmap(matrix, annot=True, annot_kws={'size':10},\n",
    "            cmap=plt.cm.Greens, linewidths=0.2)\n",
    "\n",
    "# Add labels to the plot\n",
    "class_names = ['0', '3']\n",
    "tick_marks = np.arange(len(class_names))\n",
    "tick_marks2 = tick_marks + 0.5\n",
    "plt.xticks(tick_marks, class_names, rotation=25)\n",
    "plt.yticks(tick_marks2, class_names, rotation=0)\n",
    "plt.xlabel('Predicted label')\n",
    "plt.ylabel('True label')\n",
    "plt.title('Confusion Matrix for MLP Model')\n",
    "plt.show()"
   ]
  },
  {
   "cell_type": "markdown",
   "metadata": {},
   "source": [
    "### SVM"
   ]
  },
  {
   "cell_type": "code",
   "execution_count": 25,
   "metadata": {},
   "outputs": [
    {
     "name": "stderr",
     "output_type": "stream",
     "text": [
      "C:\\ProgramData\\Anaconda3\\lib\\site-packages\\sklearn\\svm\\base.py:931: ConvergenceWarning: Liblinear failed to converge, increase the number of iterations.\n",
      "  \"the number of iterations.\", ConvergenceWarning)\n",
      "C:\\ProgramData\\Anaconda3\\lib\\site-packages\\sklearn\\svm\\base.py:931: ConvergenceWarning: Liblinear failed to converge, increase the number of iterations.\n",
      "  \"the number of iterations.\", ConvergenceWarning)\n"
     ]
    }
   ],
   "source": [
    "accuracy, precision, recall = {}, {}, {}\n",
    "\n",
    "for key in feature_list.keys():\n",
    "    \n",
    "    # Define X and y test/ train/ split\n",
    "    X=data_0_3[feature_list[key]]  # Features  \n",
    "    y=data_0_3['Severity']  # Labels\n",
    "    X_train, X_test, y_train, y_test = train_test_split(X, y, \n",
    "                                                    test_size=0.2, \n",
    "                                                    random_state=0, \n",
    "                                                    shuffle=True, \n",
    "                                                    stratify=y)\n",
    "    # Data needs to be scaled\n",
    "    scaler = StandardScaler()  \n",
    "    # Scale only on training data\n",
    "    scaler.fit(X_train)  \n",
    "    X_train = scaler.transform(X_train)  \n",
    "    # apply same transformation to test data\n",
    "    X_test = scaler.transform(X_test) \n",
    "    \n",
    "    clf=LinearSVC(class_weight='balanced', random_state = 0, max_iter = 5000)  #defining classifier method\n",
    "    clf.fit(X_train,y_train)                   # training classifier \n",
    "    \n",
    "    # Prediction \n",
    "    predictions = clf.predict(X_test)\n",
    "    \n",
    "    # Calculate Accuracy, Precision and Recall Metrics\n",
    "    accuracy[key] = balanced_accuracy_score(predictions, y_test) \n",
    "    precision[key] = precision_score(predictions, y_test, average='weighted')\n",
    "    recall[key] = recall_score(predictions, y_test, average='weighted')"
   ]
  },
  {
   "cell_type": "code",
   "execution_count": 26,
   "metadata": {},
   "outputs": [
    {
     "data": {
      "text/html": [
       "<div>\n",
       "<style scoped>\n",
       "    .dataframe tbody tr th:only-of-type {\n",
       "        vertical-align: middle;\n",
       "    }\n",
       "\n",
       "    .dataframe tbody tr th {\n",
       "        vertical-align: top;\n",
       "    }\n",
       "\n",
       "    .dataframe thead th {\n",
       "        text-align: right;\n",
       "    }\n",
       "</style>\n",
       "<table border=\"1\" class=\"dataframe\">\n",
       "  <thead>\n",
       "    <tr style=\"text-align: right;\">\n",
       "      <th></th>\n",
       "      <th>Balanced Accuracy</th>\n",
       "      <th>Precision</th>\n",
       "      <th>Recall</th>\n",
       "    </tr>\n",
       "  </thead>\n",
       "  <tbody>\n",
       "    <tr>\n",
       "      <th>All</th>\n",
       "      <td>0.722690</td>\n",
       "      <td>0.777216</td>\n",
       "      <td>0.771478</td>\n",
       "    </tr>\n",
       "    <tr>\n",
       "      <th>Wu</th>\n",
       "      <td>0.699767</td>\n",
       "      <td>0.751781</td>\n",
       "      <td>0.748282</td>\n",
       "    </tr>\n",
       "    <tr>\n",
       "      <th>Mencar</th>\n",
       "      <td>0.641663</td>\n",
       "      <td>0.693988</td>\n",
       "      <td>0.707474</td>\n",
       "    </tr>\n",
       "    <tr>\n",
       "      <th>Ustun</th>\n",
       "      <td>0.697336</td>\n",
       "      <td>0.749057</td>\n",
       "      <td>0.745704</td>\n",
       "    </tr>\n",
       "    <tr>\n",
       "      <th>Huang</th>\n",
       "      <td>0.690481</td>\n",
       "      <td>0.741465</td>\n",
       "      <td>0.734966</td>\n",
       "    </tr>\n",
       "    <tr>\n",
       "      <th>Rodruiges</th>\n",
       "      <td>0.699252</td>\n",
       "      <td>0.751174</td>\n",
       "      <td>0.749570</td>\n",
       "    </tr>\n",
       "    <tr>\n",
       "      <th>Demographic</th>\n",
       "      <td>0.658217</td>\n",
       "      <td>0.703932</td>\n",
       "      <td>0.701460</td>\n",
       "    </tr>\n",
       "    <tr>\n",
       "      <th>Measurements</th>\n",
       "      <td>0.645731</td>\n",
       "      <td>0.688929</td>\n",
       "      <td>0.685997</td>\n",
       "    </tr>\n",
       "    <tr>\n",
       "      <th>Comorbidities</th>\n",
       "      <td>0.590879</td>\n",
       "      <td>0.642087</td>\n",
       "      <td>0.547680</td>\n",
       "    </tr>\n",
       "    <tr>\n",
       "      <th>Symptoms</th>\n",
       "      <td>0.620560</td>\n",
       "      <td>0.657699</td>\n",
       "      <td>0.648625</td>\n",
       "    </tr>\n",
       "    <tr>\n",
       "      <th>Questionnaires</th>\n",
       "      <td>0.546867</td>\n",
       "      <td>0.564483</td>\n",
       "      <td>0.572165</td>\n",
       "    </tr>\n",
       "  </tbody>\n",
       "</table>\n",
       "</div>"
      ],
      "text/plain": [
       "                Balanced Accuracy  Precision    Recall\n",
       "All                      0.722690   0.777216  0.771478\n",
       "Wu                       0.699767   0.751781  0.748282\n",
       "Mencar                   0.641663   0.693988  0.707474\n",
       "Ustun                    0.697336   0.749057  0.745704\n",
       "Huang                    0.690481   0.741465  0.734966\n",
       "Rodruiges                0.699252   0.751174  0.749570\n",
       "Demographic              0.658217   0.703932  0.701460\n",
       "Measurements             0.645731   0.688929  0.685997\n",
       "Comorbidities            0.590879   0.642087  0.547680\n",
       "Symptoms                 0.620560   0.657699  0.648625\n",
       "Questionnaires           0.546867   0.564483  0.572165"
      ]
     },
     "execution_count": 26,
     "metadata": {},
     "output_type": "execute_result"
    }
   ],
   "source": [
    "df_model = pd.DataFrame(index=feature_list.keys())\n",
    "df_model['Balanced Accuracy'] = accuracy.values()\n",
    "df_model['Precision'] = precision.values()\n",
    "df_model['Recall'] = recall.values()\n",
    "\n",
    "df_model"
   ]
  },
  {
   "cell_type": "markdown",
   "metadata": {},
   "source": [
    "##### Confusion matrix for model with highest balanced accuracy"
   ]
  },
  {
   "cell_type": "code",
   "execution_count": 27,
   "metadata": {},
   "outputs": [
    {
     "name": "stderr",
     "output_type": "stream",
     "text": [
      "C:\\ProgramData\\Anaconda3\\lib\\site-packages\\sklearn\\svm\\base.py:931: ConvergenceWarning: Liblinear failed to converge, increase the number of iterations.\n",
      "  \"the number of iterations.\", ConvergenceWarning)\n"
     ]
    }
   ],
   "source": [
    "X=data_0_3[features]  # Features  \n",
    "y=data_0_3['Severity']  # Labels\n",
    "X_train, X_test, y_train, y_test = train_test_split(X, y, \n",
    "                                                    test_size=0.2, \n",
    "                                                    random_state=0, \n",
    "                                                    shuffle=True, \n",
    "                                                    stratify=y)\n",
    " # Data needs to be scaled\n",
    "scaler = StandardScaler()  \n",
    "    # Scale only on training data\n",
    "scaler.fit(X_train)  \n",
    "X_train = scaler.transform(X_train)  \n",
    "    # apply same transformation to test data\n",
    "X_test = scaler.transform(X_test)  \n",
    "\n",
    "clf=LinearSVC(class_weight='balanced', random_state = 0, max_iter = 10000)  #defining classifier method\n",
    "clf.fit(X_train,y_train)                   # training classifier \n",
    "    \n",
    "# Prediction \n",
    "predictions = clf.predict(X_test)"
   ]
  },
  {
   "cell_type": "code",
   "execution_count": 28,
   "metadata": {},
   "outputs": [
    {
     "data": {
      "image/png": "[encoded data removed]",
      "text/plain": [
       "<Figure size 1152x504 with 2 Axes>"
      ]
     },
     "metadata": {},
     "output_type": "display_data"
    }
   ],
   "source": [
    "matrix = confusion_matrix(y_test, predictions)\n",
    "matrix = matrix.astype('float') / matrix.sum(axis=1)[:, np.newaxis]\n",
    "\n",
    "# Build the plot\n",
    "plt.figure(figsize=(16,7))\n",
    "sns.set(font_scale=1.4)\n",
    "sns.heatmap(matrix, annot=True, annot_kws={'size':10},\n",
    "            cmap=plt.cm.Greens, linewidths=0.2)\n",
    "\n",
    "# Add labels to the plot\n",
    "class_names = ['0', '3']\n",
    "tick_marks = np.arange(len(class_names))\n",
    "tick_marks2 = tick_marks + 0.5\n",
    "plt.xticks(tick_marks, class_names, rotation=25)\n",
    "plt.yticks(tick_marks2, class_names, rotation=0)\n",
    "plt.xlabel('Predicted label')\n",
    "plt.ylabel('True label')\n",
    "plt.title('Confusion Matrix for SVM Model')\n",
    "plt.show()"
   ]
  },
  {
   "cell_type": "markdown",
   "metadata": {},
   "source": [
    "### Naive Bayes"
   ]
  },
  {
   "cell_type": "code",
   "execution_count": 29,
   "metadata": {},
   "outputs": [
    {
     "name": "stderr",
     "output_type": "stream",
     "text": [
      "C:\\ProgramData\\Anaconda3\\lib\\site-packages\\sklearn\\metrics\\classification.py:1437: UserWarning: y_pred contains classes not in y_true\n",
      "  warnings.warn('y_pred contains classes not in y_true')\n",
      "C:\\ProgramData\\Anaconda3\\lib\\site-packages\\sklearn\\metrics\\classification.py:1145: UndefinedMetricWarning: Recall is ill-defined and being set to 0.0 in labels with no true samples.\n",
      "  'recall', 'true', average, warn_for)\n"
     ]
    }
   ],
   "source": [
    "accuracy, precision, recall = {}, {}, {}\n",
    "\n",
    "for key in feature_list.keys():\n",
    "    \n",
    "    # Define X and y test/ train/ split\n",
    "    X=data_0_3[feature_list[key]]  # Features  \n",
    "    y=data_0_3['Severity']  # Labels\n",
    "    X_train, X_test, y_train, y_test = train_test_split(X, y, \n",
    "                                                    test_size=0.2, \n",
    "                                                    random_state=0, \n",
    "                                                    shuffle=True, \n",
    "                                                    stratify=y)\n",
    "    clf=GaussianNB()  #defining classifier method\n",
    "    clf.fit(X_train,y_train)                   # training classifier \n",
    "    \n",
    "    # Prediction \n",
    "    predictions = clf.predict(X_test)\n",
    "    \n",
    "    # Calculate Accuracy, Precision and Recall Metrics\n",
    "    accuracy[key] = balanced_accuracy_score(predictions, y_test) \n",
    "    precision[key] = precision_score(predictions, y_test, average='weighted')\n",
    "    recall[key] = recall_score(predictions, y_test, average='weighted')"
   ]
  },
  {
   "cell_type": "code",
   "execution_count": 30,
   "metadata": {},
   "outputs": [
    {
     "data": {
      "text/html": [
       "<div>\n",
       "<style scoped>\n",
       "    .dataframe tbody tr th:only-of-type {\n",
       "        vertical-align: middle;\n",
       "    }\n",
       "\n",
       "    .dataframe tbody tr th {\n",
       "        vertical-align: top;\n",
       "    }\n",
       "\n",
       "    .dataframe thead th {\n",
       "        text-align: right;\n",
       "    }\n",
       "</style>\n",
       "<table border=\"1\" class=\"dataframe\">\n",
       "  <thead>\n",
       "    <tr style=\"text-align: right;\">\n",
       "      <th></th>\n",
       "      <th>Balanced Accuracy</th>\n",
       "      <th>Precision</th>\n",
       "      <th>Recall</th>\n",
       "    </tr>\n",
       "  </thead>\n",
       "  <tbody>\n",
       "    <tr>\n",
       "      <th>All</th>\n",
       "      <td>0.643042</td>\n",
       "      <td>0.695782</td>\n",
       "      <td>0.636168</td>\n",
       "    </tr>\n",
       "    <tr>\n",
       "      <th>Wu</th>\n",
       "      <td>0.722623</td>\n",
       "      <td>0.796465</td>\n",
       "      <td>0.794674</td>\n",
       "    </tr>\n",
       "    <tr>\n",
       "      <th>Mencar</th>\n",
       "      <td>0.704809</td>\n",
       "      <td>0.876825</td>\n",
       "      <td>0.777491</td>\n",
       "    </tr>\n",
       "    <tr>\n",
       "      <th>Ustun</th>\n",
       "      <td>0.706309</td>\n",
       "      <td>0.772920</td>\n",
       "      <td>0.779210</td>\n",
       "    </tr>\n",
       "    <tr>\n",
       "      <th>Huang</th>\n",
       "      <td>0.771078</td>\n",
       "      <td>0.883075</td>\n",
       "      <td>0.807990</td>\n",
       "    </tr>\n",
       "    <tr>\n",
       "      <th>Rodruiges</th>\n",
       "      <td>0.722165</td>\n",
       "      <td>0.790847</td>\n",
       "      <td>0.793385</td>\n",
       "    </tr>\n",
       "    <tr>\n",
       "      <th>Demographic</th>\n",
       "      <td>0.713832</td>\n",
       "      <td>0.818119</td>\n",
       "      <td>0.789089</td>\n",
       "    </tr>\n",
       "    <tr>\n",
       "      <th>Measurements</th>\n",
       "      <td>0.655872</td>\n",
       "      <td>0.725405</td>\n",
       "      <td>0.735825</td>\n",
       "    </tr>\n",
       "    <tr>\n",
       "      <th>Comorbidities</th>\n",
       "      <td>0.581890</td>\n",
       "      <td>0.690906</td>\n",
       "      <td>0.467784</td>\n",
       "    </tr>\n",
       "    <tr>\n",
       "      <th>Symptoms</th>\n",
       "      <td>0.654138</td>\n",
       "      <td>0.880231</td>\n",
       "      <td>0.759021</td>\n",
       "    </tr>\n",
       "    <tr>\n",
       "      <th>Questionnaires</th>\n",
       "      <td>0.754296</td>\n",
       "      <td>1.000000</td>\n",
       "      <td>0.754296</td>\n",
       "    </tr>\n",
       "  </tbody>\n",
       "</table>\n",
       "</div>"
      ],
      "text/plain": [
       "                Balanced Accuracy  Precision    Recall\n",
       "All                      0.643042   0.695782  0.636168\n",
       "Wu                       0.722623   0.796465  0.794674\n",
       "Mencar                   0.704809   0.876825  0.777491\n",
       "Ustun                    0.706309   0.772920  0.779210\n",
       "Huang                    0.771078   0.883075  0.807990\n",
       "Rodruiges                0.722165   0.790847  0.793385\n",
       "Demographic              0.713832   0.818119  0.789089\n",
       "Measurements             0.655872   0.725405  0.735825\n",
       "Comorbidities            0.581890   0.690906  0.467784\n",
       "Symptoms                 0.654138   0.880231  0.759021\n",
       "Questionnaires           0.754296   1.000000  0.754296"
      ]
     },
     "execution_count": 30,
     "metadata": {},
     "output_type": "execute_result"
    }
   ],
   "source": [
    "df_model = pd.DataFrame(index=feature_list.keys())\n",
    "df_model['Balanced Accuracy'] = accuracy.values()\n",
    "df_model['Precision'] = precision.values()\n",
    "df_model['Recall'] = recall.values()\n",
    "\n",
    "df_model"
   ]
  },
  {
   "cell_type": "markdown",
   "metadata": {},
   "source": [
    "##### Confusion matrix for model with highest balanced accuracy"
   ]
  },
  {
   "cell_type": "code",
   "execution_count": 37,
   "metadata": {},
   "outputs": [],
   "source": [
    "X=data_0_3[huang]  # Features  \n",
    "y=data_0_3['Severity']  # Labels\n",
    "X_train, X_test, y_train, y_test = train_test_split(X, y, \n",
    "                                                    test_size=0.2, \n",
    "                                                    random_state=0, \n",
    "                                                    shuffle=True, \n",
    "                                                    stratify=y)\n",
    "clf=GaussianNB()  #defining classifier method\n",
    "clf.fit(X_train,y_train)                   # training classifier \n",
    "    \n",
    "# Prediction \n",
    "predictions = clf.predict(X_test)"
   ]
  },
  {
   "cell_type": "code",
   "execution_count": 38,
   "metadata": {},
   "outputs": [
    {
     "data": {
      "image/png": "[encoded data removed]",
      "text/plain": [
       "<Figure size 1152x504 with 2 Axes>"
      ]
     },
     "metadata": {},
     "output_type": "display_data"
    }
   ],
   "source": [
    "matrix = confusion_matrix(y_test, predictions)\n",
    "matrix = matrix.astype('float') / matrix.sum(axis=1)[:, np.newaxis]\n",
    "\n",
    "# Build the plot\n",
    "plt.figure(figsize=(16,7))\n",
    "sns.set(font_scale=1.4)\n",
    "sns.heatmap(matrix, annot=True, annot_kws={'size':10},\n",
    "            cmap=plt.cm.Greens, linewidths=0.2)\n",
    "\n",
    "# Add labels to the plot\n",
    "class_names = ['0', '3']\n",
    "tick_marks = np.arange(len(class_names))\n",
    "tick_marks2 = tick_marks + 0.5\n",
    "plt.xticks(tick_marks, class_names, rotation=25)\n",
    "plt.yticks(tick_marks2, class_names, rotation=0)\n",
    "plt.xlabel('Predicted label')\n",
    "plt.ylabel('True label')\n",
    "plt.title('Confusion Matrix for Naive Bayes Model')\n",
    "plt.show()"
   ]
  },
  {
   "cell_type": "markdown",
   "metadata": {},
   "source": [
    "### Logistic Regression"
   ]
  },
  {
   "cell_type": "code",
   "execution_count": 33,
   "metadata": {},
   "outputs": [],
   "source": [
    "accuracy, precision, recall = {}, {}, {}\n",
    "\n",
    "for key in feature_list.keys():\n",
    "    \n",
    "    # Define X and y test/ train/ split\n",
    "    X=data_0_3[feature_list[key]]  # Features  \n",
    "    y=data_0_3['Severity']  # Labels\n",
    "    X_train, X_test, y_train, y_test = train_test_split(X, y, \n",
    "                                                    test_size=0.2, \n",
    "                                                    random_state=0, \n",
    "                                                    shuffle=True, \n",
    "                                                    stratify=y)\n",
    "    clf=LogisticRegression(class_weight='balanced', random_state = 0, solver = 'lbfgs', max_iter = 5000)  #defining classifier method\n",
    "    clf.fit(X_train,y_train)                   # training classifier \n",
    "    \n",
    "    # Prediction \n",
    "    predictions = clf.predict(X_test)\n",
    "    \n",
    "    # Calculate Accuracy, Precision and Recall Metrics\n",
    "    accuracy[key] = balanced_accuracy_score(predictions, y_test) \n",
    "    precision[key] = precision_score(predictions, y_test, average='weighted')\n",
    "    recall[key] = recall_score(predictions, y_test, average='weighted')"
   ]
  },
  {
   "cell_type": "code",
   "execution_count": 34,
   "metadata": {},
   "outputs": [
    {
     "data": {
      "text/html": [
       "<div>\n",
       "<style scoped>\n",
       "    .dataframe tbody tr th:only-of-type {\n",
       "        vertical-align: middle;\n",
       "    }\n",
       "\n",
       "    .dataframe tbody tr th {\n",
       "        vertical-align: top;\n",
       "    }\n",
       "\n",
       "    .dataframe thead th {\n",
       "        text-align: right;\n",
       "    }\n",
       "</style>\n",
       "<table border=\"1\" class=\"dataframe\">\n",
       "  <thead>\n",
       "    <tr style=\"text-align: right;\">\n",
       "      <th></th>\n",
       "      <th>Balanced Accuracy</th>\n",
       "      <th>Precision</th>\n",
       "      <th>Recall</th>\n",
       "    </tr>\n",
       "  </thead>\n",
       "  <tbody>\n",
       "    <tr>\n",
       "      <th>All</th>\n",
       "      <td>0.721721</td>\n",
       "      <td>0.776212</td>\n",
       "      <td>0.770189</td>\n",
       "    </tr>\n",
       "    <tr>\n",
       "      <th>Wu</th>\n",
       "      <td>0.699753</td>\n",
       "      <td>0.751785</td>\n",
       "      <td>0.747852</td>\n",
       "    </tr>\n",
       "    <tr>\n",
       "      <th>Mencar</th>\n",
       "      <td>0.634844</td>\n",
       "      <td>0.684020</td>\n",
       "      <td>0.697165</td>\n",
       "    </tr>\n",
       "    <tr>\n",
       "      <th>Ustun</th>\n",
       "      <td>0.697030</td>\n",
       "      <td>0.748717</td>\n",
       "      <td>0.745275</td>\n",
       "    </tr>\n",
       "    <tr>\n",
       "      <th>Huang</th>\n",
       "      <td>0.691357</td>\n",
       "      <td>0.742443</td>\n",
       "      <td>0.736254</td>\n",
       "    </tr>\n",
       "    <tr>\n",
       "      <th>Rodruiges</th>\n",
       "      <td>0.698939</td>\n",
       "      <td>0.750825</td>\n",
       "      <td>0.749141</td>\n",
       "    </tr>\n",
       "    <tr>\n",
       "      <th>Demographic</th>\n",
       "      <td>0.656311</td>\n",
       "      <td>0.701613</td>\n",
       "      <td>0.698454</td>\n",
       "    </tr>\n",
       "    <tr>\n",
       "      <th>Measurements</th>\n",
       "      <td>0.648223</td>\n",
       "      <td>0.691852</td>\n",
       "      <td>0.687715</td>\n",
       "    </tr>\n",
       "    <tr>\n",
       "      <th>Comorbidities</th>\n",
       "      <td>0.590648</td>\n",
       "      <td>0.640546</td>\n",
       "      <td>0.549399</td>\n",
       "    </tr>\n",
       "    <tr>\n",
       "      <th>Symptoms</th>\n",
       "      <td>0.623020</td>\n",
       "      <td>0.660772</td>\n",
       "      <td>0.651632</td>\n",
       "    </tr>\n",
       "    <tr>\n",
       "      <th>Questionnaires</th>\n",
       "      <td>0.546443</td>\n",
       "      <td>0.564046</td>\n",
       "      <td>0.572165</td>\n",
       "    </tr>\n",
       "  </tbody>\n",
       "</table>\n",
       "</div>"
      ],
      "text/plain": [
       "                Balanced Accuracy  Precision    Recall\n",
       "All                      0.721721   0.776212  0.770189\n",
       "Wu                       0.699753   0.751785  0.747852\n",
       "Mencar                   0.634844   0.684020  0.697165\n",
       "Ustun                    0.697030   0.748717  0.745275\n",
       "Huang                    0.691357   0.742443  0.736254\n",
       "Rodruiges                0.698939   0.750825  0.749141\n",
       "Demographic              0.656311   0.701613  0.698454\n",
       "Measurements             0.648223   0.691852  0.687715\n",
       "Comorbidities            0.590648   0.640546  0.549399\n",
       "Symptoms                 0.623020   0.660772  0.651632\n",
       "Questionnaires           0.546443   0.564046  0.572165"
      ]
     },
     "execution_count": 34,
     "metadata": {},
     "output_type": "execute_result"
    }
   ],
   "source": [
    "df_model = pd.DataFrame(index=feature_list.keys())\n",
    "df_model['Balanced Accuracy'] = accuracy.values()\n",
    "df_model['Precision'] = precision.values()\n",
    "df_model['Recall'] = recall.values()\n",
    "\n",
    "df_model"
   ]
  },
  {
   "cell_type": "markdown",
   "metadata": {},
   "source": [
    "##### Confusion matrix for model with highest balanced accuracy"
   ]
  },
  {
   "cell_type": "code",
   "execution_count": 35,
   "metadata": {},
   "outputs": [],
   "source": [
    "X=data_0_3[features]  # Features  \n",
    "y=data_0_3['Severity']  # Labels\n",
    "X_train, X_test, y_train, y_test = train_test_split(X, y, \n",
    "                                                    test_size=0.2, \n",
    "                                                    random_state=0, \n",
    "                                                    shuffle=True, \n",
    "                                                    stratify=y)\n",
    "clf=LogisticRegression(class_weight='balanced', random_state = 0, solver = 'lbfgs', max_iter = 5000)  #defining classifier method\n",
    "clf.fit(X_train,y_train)                   # training classifier \n",
    "    \n",
    "# Prediction \n",
    "predictions = clf.predict(X_test)"
   ]
  },
  {
   "cell_type": "code",
   "execution_count": 36,
   "metadata": {},
   "outputs": [
    {
     "data": {
      "image/png": "[encoded data removed]",
      "text/plain": [
       "<Figure size 1152x504 with 2 Axes>"
      ]
     },
     "metadata": {},
     "output_type": "display_data"
    }
   ],
   "source": [
    "matrix = confusion_matrix(y_test, predictions)\n",
    "matrix = matrix.astype('float') / matrix.sum(axis=1)[:, np.newaxis]\n",
    "\n",
    "# Build the plot\n",
    "plt.figure(figsize=(16,7))\n",
    "sns.set(font_scale=1.4)\n",
    "sns.heatmap(matrix, annot=True, annot_kws={'size':10},\n",
    "            cmap=plt.cm.Greens, linewidths=0.2)\n",
    "\n",
    "# Add labels to the plot\n",
    "class_names = ['0', '3']\n",
    "tick_marks = np.arange(len(class_names))\n",
    "tick_marks2 = tick_marks + 0.5\n",
    "plt.xticks(tick_marks, class_names, rotation=25)\n",
    "plt.yticks(tick_marks2, class_names, rotation=0)\n",
    "plt.xlabel('Predicted label')\n",
    "plt.ylabel('True label')\n",
    "plt.title('Confusion Matrix for Logistic Regression Model')\n",
    "plt.show()"
   ]
  },
  {
   "cell_type": "code",
   "execution_count": null,
   "metadata": {},
   "outputs": [],
   "source": []
  }
 ],
 "metadata": {
  "kernelspec": {
   "display_name": "Python 3",
   "language": "python",
   "name": "python3"
  },
  "language_info": {
   "codemirror_mode": {
    "name": "ipython",
    "version": 3
   },
   "file_extension": ".py",
   "mimetype": "text/x-python",
   "name": "python",
   "nbconvert_exporter": "python",
   "pygments_lexer": "ipython3",
   "version": "3.7.3"
  }
 },
 "nbformat": 4,
 "nbformat_minor": 5
}
