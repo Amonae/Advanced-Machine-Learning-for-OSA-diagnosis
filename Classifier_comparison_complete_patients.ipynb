{
 "cells": [
  {
   "cell_type": "markdown",
   "id": "5ccc4b2c",
   "metadata": {},
   "source": [
    "## Import packages and check working directory"
   ]
  },
  {
   "cell_type": "code",
   "execution_count": 1,
   "id": "beaee29d",
   "metadata": {},
   "outputs": [
    {
     "data": {
      "text/plain": [
       "'C:\\\\Users\\\\amona\\\\Desktop\\\\Dissertation'"
      ]
     },
     "execution_count": 1,
     "metadata": {},
     "output_type": "execute_result"
    }
   ],
   "source": [
    "import os\n",
    "os.getcwd()"
   ]
  },
  {
   "cell_type": "code",
   "execution_count": 2,
   "id": "bd5fa24f",
   "metadata": {},
   "outputs": [],
   "source": [
    "import pandas as pd\n",
    "from sklearn.model_selection import train_test_split\n",
    "from sklearn.ensemble import RandomForestClassifier\n",
    "from sklearn import metrics\n",
    "import numpy as np\n",
    "import matplotlib.pyplot as plt\n",
    "import seaborn as sns\n",
    "from sklearn.metrics import accuracy_score, confusion_matrix, classification_report"
   ]
  },
  {
   "cell_type": "markdown",
   "id": "85a360df",
   "metadata": {},
   "source": [
    "## Import and check csv"
   ]
  },
  {
   "cell_type": "code",
   "execution_count": 3,
   "id": "4883314b",
   "metadata": {},
   "outputs": [],
   "source": [
    "data = pd.read_csv(\"OSA_complete_patients.csv\", index_col = 0)"
   ]
  },
  {
   "cell_type": "code",
   "execution_count": 4,
   "id": "d17117f8",
   "metadata": {},
   "outputs": [
    {
     "data": {
      "text/html": [
       "<div>\n",
       "<style scoped>\n",
       "    .dataframe tbody tr th:only-of-type {\n",
       "        vertical-align: middle;\n",
       "    }\n",
       "\n",
       "    .dataframe tbody tr th {\n",
       "        vertical-align: top;\n",
       "    }\n",
       "\n",
       "    .dataframe thead th {\n",
       "        text-align: right;\n",
       "    }\n",
       "</style>\n",
       "<table border=\"1\" class=\"dataframe\">\n",
       "  <thead>\n",
       "    <tr style=\"text-align: right;\">\n",
       "      <th></th>\n",
       "      <th>PatientID</th>\n",
       "      <th>Sex</th>\n",
       "      <th>Age</th>\n",
       "      <th>Current_smoker</th>\n",
       "      <th>Former_smoker</th>\n",
       "      <th>Sedentary</th>\n",
       "      <th>Height</th>\n",
       "      <th>Weight</th>\n",
       "      <th>Cervical_perimeter</th>\n",
       "      <th>Abdominal_perimeter</th>\n",
       "      <th>...</th>\n",
       "      <th>Nocturnal_perspiration</th>\n",
       "      <th>Shortness_of_breath_on_exertion</th>\n",
       "      <th>Nocturia</th>\n",
       "      <th>Drowsiness_accident</th>\n",
       "      <th>Near_miss_accident</th>\n",
       "      <th>Respiratory_arrest</th>\n",
       "      <th>Epworth_scale</th>\n",
       "      <th>Pichots_scale</th>\n",
       "      <th>Depression_scale</th>\n",
       "      <th>Severity</th>\n",
       "    </tr>\n",
       "  </thead>\n",
       "  <tbody>\n",
       "    <tr>\n",
       "      <th>39</th>\n",
       "      <td>23</td>\n",
       "      <td>2.0</td>\n",
       "      <td>57.883641</td>\n",
       "      <td>0.0</td>\n",
       "      <td>0.0</td>\n",
       "      <td>0.0</td>\n",
       "      <td>172.0</td>\n",
       "      <td>90.0</td>\n",
       "      <td>45.0</td>\n",
       "      <td>125.0</td>\n",
       "      <td>...</td>\n",
       "      <td>0.0</td>\n",
       "      <td>0.0</td>\n",
       "      <td>1.0</td>\n",
       "      <td>0.0</td>\n",
       "      <td>0.0</td>\n",
       "      <td>0.0</td>\n",
       "      <td>3.0</td>\n",
       "      <td>4.0</td>\n",
       "      <td>5.0</td>\n",
       "      <td>3</td>\n",
       "    </tr>\n",
       "    <tr>\n",
       "      <th>41</th>\n",
       "      <td>24</td>\n",
       "      <td>2.0</td>\n",
       "      <td>60.796715</td>\n",
       "      <td>0.0</td>\n",
       "      <td>0.0</td>\n",
       "      <td>0.0</td>\n",
       "      <td>156.0</td>\n",
       "      <td>85.0</td>\n",
       "      <td>35.0</td>\n",
       "      <td>113.0</td>\n",
       "      <td>...</td>\n",
       "      <td>0.0</td>\n",
       "      <td>1.0</td>\n",
       "      <td>1.0</td>\n",
       "      <td>0.0</td>\n",
       "      <td>0.0</td>\n",
       "      <td>1.0</td>\n",
       "      <td>19.0</td>\n",
       "      <td>17.0</td>\n",
       "      <td>4.0</td>\n",
       "      <td>3</td>\n",
       "    </tr>\n",
       "    <tr>\n",
       "      <th>46</th>\n",
       "      <td>28</td>\n",
       "      <td>1.0</td>\n",
       "      <td>63.438741</td>\n",
       "      <td>0.0</td>\n",
       "      <td>0.0</td>\n",
       "      <td>0.0</td>\n",
       "      <td>178.0</td>\n",
       "      <td>68.0</td>\n",
       "      <td>35.0</td>\n",
       "      <td>73.0</td>\n",
       "      <td>...</td>\n",
       "      <td>0.0</td>\n",
       "      <td>0.0</td>\n",
       "      <td>1.0</td>\n",
       "      <td>0.0</td>\n",
       "      <td>0.0</td>\n",
       "      <td>1.0</td>\n",
       "      <td>5.0</td>\n",
       "      <td>3.0</td>\n",
       "      <td>0.0</td>\n",
       "      <td>1</td>\n",
       "    </tr>\n",
       "    <tr>\n",
       "      <th>55</th>\n",
       "      <td>32</td>\n",
       "      <td>1.0</td>\n",
       "      <td>28.736482</td>\n",
       "      <td>0.0</td>\n",
       "      <td>0.0</td>\n",
       "      <td>0.0</td>\n",
       "      <td>180.0</td>\n",
       "      <td>69.0</td>\n",
       "      <td>36.0</td>\n",
       "      <td>83.0</td>\n",
       "      <td>...</td>\n",
       "      <td>0.0</td>\n",
       "      <td>0.0</td>\n",
       "      <td>0.0</td>\n",
       "      <td>0.0</td>\n",
       "      <td>0.0</td>\n",
       "      <td>0.0</td>\n",
       "      <td>2.0</td>\n",
       "      <td>0.0</td>\n",
       "      <td>0.0</td>\n",
       "      <td>0</td>\n",
       "    </tr>\n",
       "    <tr>\n",
       "      <th>56</th>\n",
       "      <td>33</td>\n",
       "      <td>1.0</td>\n",
       "      <td>56.802190</td>\n",
       "      <td>0.0</td>\n",
       "      <td>0.0</td>\n",
       "      <td>0.0</td>\n",
       "      <td>185.0</td>\n",
       "      <td>118.0</td>\n",
       "      <td>43.0</td>\n",
       "      <td>106.0</td>\n",
       "      <td>...</td>\n",
       "      <td>0.0</td>\n",
       "      <td>0.0</td>\n",
       "      <td>0.0</td>\n",
       "      <td>0.0</td>\n",
       "      <td>0.0</td>\n",
       "      <td>1.0</td>\n",
       "      <td>12.0</td>\n",
       "      <td>13.0</td>\n",
       "      <td>2.0</td>\n",
       "      <td>3</td>\n",
       "    </tr>\n",
       "  </tbody>\n",
       "</table>\n",
       "<p>5 rows × 51 columns</p>\n",
       "</div>"
      ],
      "text/plain": [
       "    PatientID  Sex        Age  Current_smoker  Former_smoker  Sedentary  \\\n",
       "39         23  2.0  57.883641             0.0            0.0        0.0   \n",
       "41         24  2.0  60.796715             0.0            0.0        0.0   \n",
       "46         28  1.0  63.438741             0.0            0.0        0.0   \n",
       "55         32  1.0  28.736482             0.0            0.0        0.0   \n",
       "56         33  1.0  56.802190             0.0            0.0        0.0   \n",
       "\n",
       "    Height  Weight  Cervical_perimeter  Abdominal_perimeter  ...  \\\n",
       "39   172.0    90.0                45.0                125.0  ...   \n",
       "41   156.0    85.0                35.0                113.0  ...   \n",
       "46   178.0    68.0                35.0                 73.0  ...   \n",
       "55   180.0    69.0                36.0                 83.0  ...   \n",
       "56   185.0   118.0                43.0                106.0  ...   \n",
       "\n",
       "    Nocturnal_perspiration  Shortness_of_breath_on_exertion  Nocturia  \\\n",
       "39                     0.0                              0.0       1.0   \n",
       "41                     0.0                              1.0       1.0   \n",
       "46                     0.0                              0.0       1.0   \n",
       "55                     0.0                              0.0       0.0   \n",
       "56                     0.0                              0.0       0.0   \n",
       "\n",
       "    Drowsiness_accident  Near_miss_accident  Respiratory_arrest  \\\n",
       "39                  0.0                 0.0                 0.0   \n",
       "41                  0.0                 0.0                 1.0   \n",
       "46                  0.0                 0.0                 1.0   \n",
       "55                  0.0                 0.0                 0.0   \n",
       "56                  0.0                 0.0                 1.0   \n",
       "\n",
       "    Epworth_scale  Pichots_scale  Depression_scale  Severity  \n",
       "39            3.0            4.0               5.0         3  \n",
       "41           19.0           17.0               4.0         3  \n",
       "46            5.0            3.0               0.0         1  \n",
       "55            2.0            0.0               0.0         0  \n",
       "56           12.0           13.0               2.0         3  \n",
       "\n",
       "[5 rows x 51 columns]"
      ]
     },
     "execution_count": 4,
     "metadata": {},
     "output_type": "execute_result"
    }
   ],
   "source": [
    "data.head()"
   ]
  },
  {
   "cell_type": "code",
   "execution_count": 5,
   "id": "eac3e9a1",
   "metadata": {},
   "outputs": [
    {
     "data": {
      "text/plain": [
       "(21818, 51)"
      ]
     },
     "execution_count": 5,
     "metadata": {},
     "output_type": "execute_result"
    }
   ],
   "source": [
    "data.shape"
   ]
  },
  {
   "cell_type": "markdown",
   "id": "d53ff2d5",
   "metadata": {},
   "source": [
    "## Stratified train-test-split"
   ]
  },
  {
   "cell_type": "code",
   "execution_count": 6,
   "id": "b672002b",
   "metadata": {},
   "outputs": [],
   "source": [
    "features = ['Sex', 'Age', 'Current_smoker', 'Former_smoker',\n",
    "       'Sedentary', 'Height', 'Weight', 'Cervical_perimeter',\n",
    "       'Abdominal_perimeter', 'Systolic_BP', 'Diastolic_BP',\n",
    "       'Maxillofacial_profile', 'BMI', 'High_BP', 'Asthma', 'Rhinitis', 'COPD',\n",
    "       'Respiratory_fail', 'Myocardial_infarct', 'Coronary_fail',\n",
    "       'Arrhythmias', 'Stroke', 'Heart_fail', 'Arteriopathy', 'Gastric_reflux',\n",
    "       'Glaucoma', 'Diabetes', 'Hypercholesterolemia', 'Hypertriglyceridemia',\n",
    "       'Hypo(er)thyroidism', 'Depression', 'Obesity', 'Dysmorphology',\n",
    "       'Restless_Leg_Syndrome', 'Snoring', 'Diurnal_somnolence',\n",
    "       'Driving_drowsiness', 'Morning_fatigue', 'Morning_headache',\n",
    "       'Memory_problem', 'Nocturnal_perspiration',\n",
    "       'Shortness_of_breath_on_exertion', 'Nocturia', 'Drowsiness_accident',\n",
    "       'Near_miss_accident', 'Respiratory_arrest', 'Epworth_scale',\n",
    "       'Pichots_scale', 'Depression_scale']\n",
    "X=data[features]  # Features  \n",
    "y=data['Severity']  # Labels"
   ]
  },
  {
   "cell_type": "code",
   "execution_count": 7,
   "id": "950b00c9",
   "metadata": {},
   "outputs": [],
   "source": [
    "X_train, X_test, y_train, y_test = train_test_split(X, y,\n",
    "                                                    stratify=y, \n",
    "                                                    test_size=0.2,\n",
    "                                                    random_state=0)"
   ]
  },
  {
   "cell_type": "code",
   "execution_count": 8,
   "id": "ea44c896",
   "metadata": {},
   "outputs": [
    {
     "name": "stdout",
     "output_type": "stream",
     "text": [
      "\n",
      "Class distribution train (%):\n"
     ]
    },
    {
     "data": {
      "text/plain": [
       "3    40.231466\n",
       "2    23.564799\n",
       "1    23.083534\n",
       "0    13.120202\n",
       "Name: Severity, dtype: float64"
      ]
     },
     "execution_count": 8,
     "metadata": {},
     "output_type": "execute_result"
    }
   ],
   "source": [
    "print('\\nClass distribution train (%):')\n",
    "y_train.value_counts(normalize=True) * 100"
   ]
  },
  {
   "cell_type": "code",
   "execution_count": 9,
   "id": "12efe620",
   "metadata": {},
   "outputs": [
    {
     "name": "stdout",
     "output_type": "stream",
     "text": [
      "\n",
      "Class distribution test (%):\n"
     ]
    },
    {
     "data": {
      "text/plain": [
       "3    40.238313\n",
       "2    23.579285\n",
       "1    23.075160\n",
       "0    13.107241\n",
       "Name: Severity, dtype: float64"
      ]
     },
     "execution_count": 9,
     "metadata": {},
     "output_type": "execute_result"
    }
   ],
   "source": [
    "print('\\nClass distribution test (%):')\n",
    "y_test.value_counts(normalize=True) * 100"
   ]
  },
  {
   "cell_type": "markdown",
   "id": "439bbf79",
   "metadata": {},
   "source": [
    "#### A note: a comparison of boosting algorithms with RF and SVM can be found in 'Towards Validating the Effectiveness of Obstructive Sleep Apnea Classification from Electronic Health Records Using Machine Learning (Ramesh et al. 2021)​'"
   ]
  },
  {
   "cell_type": "markdown",
   "id": "9bd56c9c",
   "metadata": {},
   "source": [
    "## Random Forest classifier"
   ]
  },
  {
   "cell_type": "code",
   "execution_count": 10,
   "id": "8bb9bdd9",
   "metadata": {},
   "outputs": [
    {
     "name": "stdout",
     "output_type": "stream",
     "text": [
      "Accuracy: 0.4605866177818515\n"
     ]
    }
   ],
   "source": [
    "clf=RandomForestClassifier(n_estimators=100, class_weight='balanced')  #defining classifier method\n",
    "\n",
    "clf.fit(X_train,y_train)                   # training classifier\n",
    "\n",
    "y_pred=clf.predict(X_test)                  # testing classifier \n",
    "\n",
    "print(\"Accuracy:\",metrics.accuracy_score(y_test, y_pred))"
   ]
  },
  {
   "cell_type": "markdown",
   "id": "07eb5252",
   "metadata": {},
   "source": [
    "### 5-fold crossvalidation"
   ]
  },
  {
   "cell_type": "code",
   "execution_count": 11,
   "id": "6c0b03fd",
   "metadata": {},
   "outputs": [
    {
     "data": {
      "text/plain": [
       "array([0.45142071, 0.45210816, 0.46127406, 0.46917259, 0.46344259])"
      ]
     },
     "execution_count": 11,
     "metadata": {},
     "output_type": "execute_result"
    }
   ],
   "source": [
    "from sklearn.model_selection import cross_val_score\n",
    "cross_val = cross_val_score(clf, X, y, cv=5)\n",
    "cross_val"
   ]
  },
  {
   "cell_type": "code",
   "execution_count": 12,
   "id": "b75563a5",
   "metadata": {},
   "outputs": [
    {
     "name": "stdout",
     "output_type": "stream",
     "text": [
      "0.4595 accuracy with a standard deviation of 0.0068\n"
     ]
    }
   ],
   "source": [
    "print(\"%0.4f accuracy with a standard deviation of %0.4f\" % (cross_val.mean(), cross_val.std()))"
   ]
  },
  {
   "cell_type": "markdown",
   "id": "ca48b034",
   "metadata": {},
   "source": [
    "### Classification report"
   ]
  },
  {
   "cell_type": "code",
   "execution_count": 13,
   "id": "f518900c",
   "metadata": {},
   "outputs": [
    {
     "name": "stdout",
     "output_type": "stream",
     "text": [
      "              precision    recall  f1-score   support\n",
      "\n",
      "           0       0.46      0.23      0.31       572\n",
      "           1       0.35      0.32      0.34      1007\n",
      "           2       0.30      0.13      0.18      1029\n",
      "           3       0.53      0.81      0.64      1756\n",
      "\n",
      "    accuracy                           0.46      4364\n",
      "   macro avg       0.41      0.37      0.37      4364\n",
      "weighted avg       0.42      0.46      0.42      4364\n",
      "\n"
     ]
    }
   ],
   "source": [
    "print(classification_report(y_test, y_pred))\n"
   ]
  },
  {
   "cell_type": "markdown",
   "id": "1fc0e84a",
   "metadata": {},
   "source": [
    "### Balanced accuracy"
   ]
  },
  {
   "cell_type": "code",
   "execution_count": 14,
   "id": "afa3aa3a",
   "metadata": {},
   "outputs": [
    {
     "data": {
      "text/plain": [
       "0.37336092575421986"
      ]
     },
     "execution_count": 14,
     "metadata": {},
     "output_type": "execute_result"
    }
   ],
   "source": [
    "from sklearn.metrics import balanced_accuracy_score\n",
    "balanced_accuracy_score(y_test, y_pred)"
   ]
  },
  {
   "cell_type": "markdown",
   "id": "51a7dbdf",
   "metadata": {},
   "source": [
    "### G-mean"
   ]
  },
  {
   "cell_type": "code",
   "execution_count": 15,
   "id": "75c7db78",
   "metadata": {},
   "outputs": [
    {
     "data": {
      "text/plain": [
       "0.297895453332638"
      ]
     },
     "execution_count": 15,
     "metadata": {},
     "output_type": "execute_result"
    }
   ],
   "source": [
    "from imblearn.metrics import geometric_mean_score\n",
    "geometric_mean_score(y_test, y_pred)"
   ]
  },
  {
   "cell_type": "markdown",
   "id": "90aef935",
   "metadata": {},
   "source": [
    "### Confusion matrix"
   ]
  },
  {
   "cell_type": "code",
   "execution_count": 16,
   "id": "fe765507",
   "metadata": {},
   "outputs": [
    {
     "data": {
      "image/png": "[encoded data removed]",
      "text/plain": [
       "<Figure size 1152x504 with 2 Axes>"
      ]
     },
     "metadata": {
      "needs_background": "light"
     },
     "output_type": "display_data"
    }
   ],
   "source": [
    "matrix = confusion_matrix(y_test, y_pred)\n",
    "matrix = matrix.astype('float') / matrix.sum(axis=1)[:, np.newaxis]\n",
    "\n",
    "# Build the plot\n",
    "plt.figure(figsize=(16,7))\n",
    "sns.set(font_scale=1.4)\n",
    "sns.heatmap(matrix, annot=True, annot_kws={'size':10},\n",
    "            cmap=plt.cm.Greens, linewidths=0.2)\n",
    "\n",
    "# Add labels to the plot\n",
    "class_names = ['None', 'Low', 'Moderate', \n",
    "               'Severe']\n",
    "tick_marks = np.arange(len(class_names))\n",
    "tick_marks2 = tick_marks + 0.5\n",
    "plt.xticks(tick_marks, class_names, rotation=25)\n",
    "plt.yticks(tick_marks2, class_names, rotation=0)\n",
    "plt.xlabel('Predicted label')\n",
    "plt.ylabel('True label')\n",
    "plt.title('Confusion Matrix for Random Forest Model')\n",
    "plt.show()"
   ]
  },
  {
   "cell_type": "markdown",
   "id": "1ff772d5",
   "metadata": {},
   "source": [
    "## Extra Trees Classifier"
   ]
  },
  {
   "cell_type": "code",
   "execution_count": 17,
   "id": "a92f4de9",
   "metadata": {},
   "outputs": [
    {
     "name": "stdout",
     "output_type": "stream",
     "text": [
      "Accuracy: 0.4576076993583868\n"
     ]
    }
   ],
   "source": [
    "from sklearn.ensemble import ExtraTreesClassifier\n",
    "clf = ExtraTreesClassifier(n_estimators=100)\n",
    "clf.fit(X_train,y_train)                   # training classifier\n",
    "\n",
    "y_pred=clf.predict(X_test)                  # testing classifier \n",
    "\n",
    "print(\"Accuracy:\",metrics.accuracy_score(y_test, y_pred))"
   ]
  },
  {
   "cell_type": "markdown",
   "id": "88ce0802",
   "metadata": {},
   "source": [
    "### 5-fold cross validation"
   ]
  },
  {
   "cell_type": "code",
   "execution_count": 18,
   "id": "51740d5d",
   "metadata": {},
   "outputs": [
    {
     "name": "stdout",
     "output_type": "stream",
     "text": [
      "0.4504 accuracy with a standard deviation of 0.0059\n"
     ]
    }
   ],
   "source": [
    "cross_val = cross_val_score(clf, X, y, cv=5)\n",
    "print(\"%0.4f accuracy with a standard deviation of %0.4f\" % (cross_val.mean(), cross_val.std()))"
   ]
  },
  {
   "cell_type": "markdown",
   "id": "8e5946e1",
   "metadata": {},
   "source": [
    "### Classification report"
   ]
  },
  {
   "cell_type": "code",
   "execution_count": 19,
   "id": "a2e397d9",
   "metadata": {},
   "outputs": [
    {
     "name": "stdout",
     "output_type": "stream",
     "text": [
      "              precision    recall  f1-score   support\n",
      "\n",
      "           0       0.45      0.23      0.31       572\n",
      "           1       0.33      0.31      0.32      1007\n",
      "           2       0.30      0.15      0.20      1029\n",
      "           3       0.53      0.80      0.64      1756\n",
      "\n",
      "    accuracy                           0.46      4364\n",
      "   macro avg       0.40      0.37      0.37      4364\n",
      "weighted avg       0.42      0.46      0.42      4364\n",
      "\n"
     ]
    }
   ],
   "source": [
    "print(classification_report(y_test, y_pred))\n"
   ]
  },
  {
   "cell_type": "markdown",
   "id": "1c1dd443",
   "metadata": {},
   "source": [
    "### Balanced accuracy"
   ]
  },
  {
   "cell_type": "code",
   "execution_count": 20,
   "id": "149b12bb",
   "metadata": {},
   "outputs": [
    {
     "data": {
      "text/plain": [
       "0.371509864826868"
      ]
     },
     "execution_count": 20,
     "metadata": {},
     "output_type": "execute_result"
    }
   ],
   "source": [
    "balanced_accuracy_score(y_test, y_pred)"
   ]
  },
  {
   "cell_type": "markdown",
   "id": "e8ffbc16",
   "metadata": {},
   "source": [
    "### G-mean"
   ]
  },
  {
   "cell_type": "code",
   "execution_count": 21,
   "id": "67c26f20",
   "metadata": {},
   "outputs": [
    {
     "data": {
      "text/plain": [
       "0.3031771865302295"
      ]
     },
     "execution_count": 21,
     "metadata": {},
     "output_type": "execute_result"
    }
   ],
   "source": [
    "geometric_mean_score(y_test, y_pred)"
   ]
  },
  {
   "cell_type": "markdown",
   "id": "0689e367",
   "metadata": {},
   "source": [
    "### Confusion matrix"
   ]
  },
  {
   "cell_type": "code",
   "execution_count": 22,
   "id": "f91858a2",
   "metadata": {},
   "outputs": [
    {
     "data": {
      "image/png": "[encoded data removed]",
      "text/plain": [
       "<Figure size 1152x504 with 2 Axes>"
      ]
     },
     "metadata": {},
     "output_type": "display_data"
    }
   ],
   "source": [
    "matrix = confusion_matrix(y_test, y_pred)\n",
    "matrix = matrix.astype('float') / matrix.sum(axis=1)[:, np.newaxis]\n",
    "\n",
    "# Build the plot\n",
    "plt.figure(figsize=(16,7))\n",
    "sns.set(font_scale=1.4)\n",
    "sns.heatmap(matrix, annot=True, annot_kws={'size':10},\n",
    "            cmap=plt.cm.Greens, linewidths=0.2)\n",
    "\n",
    "# Add labels to the plot\n",
    "class_names = ['None', 'Low', 'Moderate', \n",
    "               'Severe']\n",
    "tick_marks = np.arange(len(class_names))\n",
    "tick_marks2 = tick_marks + 0.5\n",
    "plt.xticks(tick_marks, class_names, rotation=25)\n",
    "plt.yticks(tick_marks2, class_names, rotation=0)\n",
    "plt.xlabel('Predicted label')\n",
    "plt.ylabel('True label')\n",
    "plt.title('Confusion Matrix for Extra Trees Model')\n",
    "plt.show()"
   ]
  },
  {
   "cell_type": "markdown",
   "id": "9c87e98f",
   "metadata": {},
   "source": [
    "## XGBoost Classifier"
   ]
  },
  {
   "cell_type": "code",
   "execution_count": 23,
   "id": "2305deb3",
   "metadata": {},
   "outputs": [
    {
     "name": "stdout",
     "output_type": "stream",
     "text": [
      "Accuracy: 0.45348304307974335\n"
     ]
    }
   ],
   "source": [
    "import xgboost as xgb\n",
    "clf = xgb.XGBClassifier(n_estimators = 100)\n",
    "clf.fit(X_train,y_train)                   # training classifier\n",
    "\n",
    "y_pred=clf.predict(X_test)                  # testing classifier \n",
    "\n",
    "print(\"Accuracy:\",metrics.accuracy_score(y_test, y_pred))"
   ]
  },
  {
   "cell_type": "markdown",
   "id": "59e58119",
   "metadata": {},
   "source": [
    "### 5-fold cross validation"
   ]
  },
  {
   "cell_type": "code",
   "execution_count": 24,
   "id": "f99dcd33",
   "metadata": {},
   "outputs": [
    {
     "name": "stdout",
     "output_type": "stream",
     "text": [
      "0.4537 accuracy with a standard deviation of 0.0056\n"
     ]
    }
   ],
   "source": [
    "cross_val = cross_val_score(clf, X, y, cv=5)\n",
    "print(\"%0.4f accuracy with a standard deviation of %0.4f\" % (cross_val.mean(), cross_val.std()))"
   ]
  },
  {
   "cell_type": "markdown",
   "id": "2fc1e940",
   "metadata": {},
   "source": [
    "### Classification report"
   ]
  },
  {
   "cell_type": "code",
   "execution_count": 25,
   "id": "f19b33c5",
   "metadata": {},
   "outputs": [
    {
     "name": "stdout",
     "output_type": "stream",
     "text": [
      "              precision    recall  f1-score   support\n",
      "\n",
      "           0       0.40      0.26      0.31       572\n",
      "           1       0.32      0.31      0.31      1007\n",
      "           2       0.33      0.19      0.24      1029\n",
      "           3       0.55      0.75      0.63      1756\n",
      "\n",
      "    accuracy                           0.45      4364\n",
      "   macro avg       0.40      0.38      0.38      4364\n",
      "weighted avg       0.42      0.45      0.43      4364\n",
      "\n"
     ]
    }
   ],
   "source": [
    "print(classification_report(y_test, y_pred))\n"
   ]
  },
  {
   "cell_type": "markdown",
   "id": "cef960d0",
   "metadata": {},
   "source": [
    "### Balanced accuracy"
   ]
  },
  {
   "cell_type": "code",
   "execution_count": 26,
   "id": "6ef3c845",
   "metadata": {},
   "outputs": [
    {
     "data": {
      "text/plain": [
       "0.3776116458095302"
      ]
     },
     "execution_count": 26,
     "metadata": {},
     "output_type": "execute_result"
    }
   ],
   "source": [
    "balanced_accuracy_score(y_test, y_pred)"
   ]
  },
  {
   "cell_type": "markdown",
   "id": "0fff39d0",
   "metadata": {},
   "source": [
    "### G-mean"
   ]
  },
  {
   "cell_type": "code",
   "execution_count": 27,
   "id": "aabe727e",
   "metadata": {},
   "outputs": [
    {
     "data": {
      "text/plain": [
       "0.32731505593546584"
      ]
     },
     "execution_count": 27,
     "metadata": {},
     "output_type": "execute_result"
    }
   ],
   "source": [
    "geometric_mean_score(y_test, y_pred)"
   ]
  },
  {
   "cell_type": "markdown",
   "id": "504a18a1",
   "metadata": {},
   "source": [
    "### Confusion matrix"
   ]
  },
  {
   "cell_type": "code",
   "execution_count": 28,
   "id": "1bdd85c1",
   "metadata": {},
   "outputs": [
    {
     "data": {
      "image/png": "[encoded data removed]",
      "text/plain": [
       "<Figure size 1152x504 with 2 Axes>"
      ]
     },
     "metadata": {},
     "output_type": "display_data"
    }
   ],
   "source": [
    "matrix = confusion_matrix(y_test, y_pred)\n",
    "matrix = matrix.astype('float') / matrix.sum(axis=1)[:, np.newaxis]\n",
    "\n",
    "# Build the plot\n",
    "plt.figure(figsize=(16,7))\n",
    "sns.set(font_scale=1.4)\n",
    "sns.heatmap(matrix, annot=True, annot_kws={'size':10},\n",
    "            cmap=plt.cm.Greens, linewidths=0.2)\n",
    "\n",
    "# Add labels to the plot\n",
    "class_names = ['None', 'Low', 'Moderate', \n",
    "               'Severe']\n",
    "tick_marks = np.arange(len(class_names))\n",
    "tick_marks2 = tick_marks + 0.5\n",
    "plt.xticks(tick_marks, class_names, rotation=25)\n",
    "plt.yticks(tick_marks2, class_names, rotation=0)\n",
    "plt.xlabel('Predicted label')\n",
    "plt.ylabel('True label')\n",
    "plt.title('Confusion Matrix for XGBoost Model')\n",
    "plt.show()"
   ]
  },
  {
   "cell_type": "markdown",
   "id": "6fbcde62",
   "metadata": {},
   "source": [
    "## LightGBM Classifier"
   ]
  },
  {
   "cell_type": "code",
   "execution_count": 29,
   "id": "eb6253dd",
   "metadata": {},
   "outputs": [
    {
     "name": "stdout",
     "output_type": "stream",
     "text": [
      "Accuracy: 0.4642529789184235\n"
     ]
    }
   ],
   "source": [
    "import lightgbm as lgb\n",
    "clf = lgb.LGBMClassifier(n_estimators = 100)\n",
    "clf.fit(X_train,y_train)                   # training classifier\n",
    "\n",
    "y_pred=clf.predict(X_test)                  # testing classifier \n",
    "\n",
    "print(\"Accuracy:\",metrics.accuracy_score(y_test, y_pred))"
   ]
  },
  {
   "cell_type": "markdown",
   "id": "638a6305",
   "metadata": {},
   "source": [
    "### 5-fold cross validation"
   ]
  },
  {
   "cell_type": "code",
   "execution_count": 30,
   "id": "eac21a53",
   "metadata": {},
   "outputs": [
    {
     "name": "stdout",
     "output_type": "stream",
     "text": [
      "0.4631 accuracy with a standard deviation of 0.0095\n"
     ]
    }
   ],
   "source": [
    "cross_val = cross_val_score(clf, X, y, cv=5)\n",
    "print(\"%0.4f accuracy with a standard deviation of %0.4f\" % (cross_val.mean(), cross_val.std()))"
   ]
  },
  {
   "cell_type": "markdown",
   "id": "12418830",
   "metadata": {},
   "source": [
    "### Classification report"
   ]
  },
  {
   "cell_type": "code",
   "execution_count": 31,
   "id": "bc72356c",
   "metadata": {},
   "outputs": [
    {
     "name": "stdout",
     "output_type": "stream",
     "text": [
      "              precision    recall  f1-score   support\n",
      "\n",
      "           0       0.45      0.28      0.35       572\n",
      "           1       0.34      0.33      0.34      1007\n",
      "           2       0.31      0.14      0.19      1029\n",
      "           3       0.54      0.79      0.64      1756\n",
      "\n",
      "    accuracy                           0.46      4364\n",
      "   macro avg       0.41      0.39      0.38      4364\n",
      "weighted avg       0.43      0.46      0.43      4364\n",
      "\n"
     ]
    }
   ],
   "source": [
    "print(classification_report(y_test, y_pred))\n"
   ]
  },
  {
   "cell_type": "markdown",
   "id": "a69d77d4",
   "metadata": {},
   "source": [
    "### Balanced accuracy"
   ]
  },
  {
   "cell_type": "code",
   "execution_count": 32,
   "id": "d336af6f",
   "metadata": {},
   "outputs": [
    {
     "data": {
      "text/plain": [
       "0.3866397095272266"
      ]
     },
     "execution_count": 32,
     "metadata": {},
     "output_type": "execute_result"
    }
   ],
   "source": [
    "balanced_accuracy_score(y_test, y_pred)"
   ]
  },
  {
   "cell_type": "markdown",
   "id": "a94a425b",
   "metadata": {},
   "source": [
    "### G-mean"
   ]
  },
  {
   "cell_type": "code",
   "execution_count": 33,
   "id": "45a8bf94",
   "metadata": {},
   "outputs": [
    {
     "data": {
      "text/plain": [
       "0.32044934287935767"
      ]
     },
     "execution_count": 33,
     "metadata": {},
     "output_type": "execute_result"
    }
   ],
   "source": [
    "geometric_mean_score(y_test, y_pred)"
   ]
  },
  {
   "cell_type": "markdown",
   "id": "fb60481d",
   "metadata": {},
   "source": [
    "### Confusion matrix"
   ]
  },
  {
   "cell_type": "code",
   "execution_count": 34,
   "id": "8ecc34c5",
   "metadata": {},
   "outputs": [
    {
     "data": {
      "image/png": "[encoded data removed]",
      "text/plain": [
       "<Figure size 1152x504 with 2 Axes>"
      ]
     },
     "metadata": {},
     "output_type": "display_data"
    }
   ],
   "source": [
    "matrix = confusion_matrix(y_test, y_pred)\n",
    "matrix = matrix.astype('float') / matrix.sum(axis=1)[:, np.newaxis]\n",
    "\n",
    "# Build the plot\n",
    "plt.figure(figsize=(16,7))\n",
    "sns.set(font_scale=1.4)\n",
    "sns.heatmap(matrix, annot=True, annot_kws={'size':10},\n",
    "            cmap=plt.cm.Greens, linewidths=0.2)\n",
    "\n",
    "# Add labels to the plot\n",
    "class_names = ['None', 'Low', 'Moderate', \n",
    "               'Severe']\n",
    "tick_marks = np.arange(len(class_names))\n",
    "tick_marks2 = tick_marks + 0.5\n",
    "plt.xticks(tick_marks, class_names, rotation=25)\n",
    "plt.yticks(tick_marks2, class_names, rotation=0)\n",
    "plt.xlabel('Predicted label')\n",
    "plt.ylabel('True label')\n",
    "plt.title('Confusion Matrix for LightGBM Model')\n",
    "plt.show()"
   ]
  },
  {
   "cell_type": "markdown",
   "id": "5f5adc9a",
   "metadata": {},
   "source": [
    "## CATBoost Classifier"
   ]
  },
  {
   "cell_type": "code",
   "execution_count": 35,
   "id": "99208c4a",
   "metadata": {},
   "outputs": [
    {
     "name": "stdout",
     "output_type": "stream",
     "text": [
      "Accuracy: 0.4507332722273144\n"
     ]
    }
   ],
   "source": [
    "from catboost import CatBoostClassifier\n",
    "clf = CatBoostClassifier(n_estimators = 100, silent=True)\n",
    "clf.fit(X_train,y_train)                   # training classifier\n",
    "\n",
    "y_pred=clf.predict(X_test)                  # testing classifier \n",
    "\n",
    "print(\"Accuracy:\",metrics.accuracy_score(y_test, y_pred))"
   ]
  },
  {
   "cell_type": "markdown",
   "id": "826743b4",
   "metadata": {},
   "source": [
    "### 5-fold cross validation"
   ]
  },
  {
   "cell_type": "code",
   "execution_count": 36,
   "id": "06572d74",
   "metadata": {},
   "outputs": [
    {
     "name": "stdout",
     "output_type": "stream",
     "text": [
      "0.4536 accuracy with a standard deviation of 0.0078\n"
     ]
    }
   ],
   "source": [
    "cross_val = cross_val_score(clf, X, y, cv=5)\n",
    "print(\"%0.4f accuracy with a standard deviation of %0.4f\" % (cross_val.mean(), cross_val.std()))"
   ]
  },
  {
   "cell_type": "markdown",
   "id": "005af81d",
   "metadata": {},
   "source": [
    "### Classification report"
   ]
  },
  {
   "cell_type": "code",
   "execution_count": 37,
   "id": "920aea79",
   "metadata": {},
   "outputs": [
    {
     "name": "stdout",
     "output_type": "stream",
     "text": [
      "              precision    recall  f1-score   support\n",
      "\n",
      "           0       0.40      0.27      0.32       572\n",
      "           1       0.32      0.29      0.31      1007\n",
      "           2       0.30      0.18      0.23      1029\n",
      "           3       0.55      0.76      0.63      1756\n",
      "\n",
      "    accuracy                           0.45      4364\n",
      "   macro avg       0.39      0.38      0.37      4364\n",
      "weighted avg       0.42      0.45      0.42      4364\n",
      "\n"
     ]
    }
   ],
   "source": [
    "print(classification_report(y_test, y_pred))\n"
   ]
  },
  {
   "cell_type": "markdown",
   "id": "9fb39748",
   "metadata": {},
   "source": [
    "### Balanced accuracy"
   ]
  },
  {
   "cell_type": "code",
   "execution_count": 38,
   "id": "06b3f7a7",
   "metadata": {},
   "outputs": [
    {
     "data": {
      "text/plain": [
       "0.37576004199836865"
      ]
     },
     "execution_count": 38,
     "metadata": {},
     "output_type": "execute_result"
    }
   ],
   "source": [
    "balanced_accuracy_score(y_test, y_pred)"
   ]
  },
  {
   "cell_type": "markdown",
   "id": "804f7afd",
   "metadata": {},
   "source": [
    "### G-mean"
   ]
  },
  {
   "cell_type": "code",
   "execution_count": 39,
   "id": "2622e750",
   "metadata": {},
   "outputs": [
    {
     "name": "stderr",
     "output_type": "stream",
     "text": [
      "C:\\Users\\amona\\anaconda3\\lib\\site-packages\\sklearn\\preprocessing\\_label.py:133: DataConversionWarning: A column-vector y was passed when a 1d array was expected. Please change the shape of y to (n_samples, ), for example using ravel().\n",
      "  y = column_or_1d(y, warn=True)\n"
     ]
    },
    {
     "data": {
      "text/plain": [
       "0.3234675977876567"
      ]
     },
     "execution_count": 39,
     "metadata": {},
     "output_type": "execute_result"
    }
   ],
   "source": [
    "geometric_mean_score(y_test, y_pred)"
   ]
  },
  {
   "cell_type": "markdown",
   "id": "d5acdf4a",
   "metadata": {},
   "source": [
    "### Confusion matrix"
   ]
  },
  {
   "cell_type": "code",
   "execution_count": 40,
   "id": "01d55dfc",
   "metadata": {},
   "outputs": [
    {
     "data": {
      "image/png": "[encoded data removed]",
      "text/plain": [
       "<Figure size 1152x504 with 2 Axes>"
      ]
     },
     "metadata": {},
     "output_type": "display_data"
    }
   ],
   "source": [
    "matrix = confusion_matrix(y_test, y_pred)\n",
    "matrix = matrix.astype('float') / matrix.sum(axis=1)[:, np.newaxis]\n",
    "\n",
    "# Build the plot\n",
    "plt.figure(figsize=(16,7))\n",
    "sns.set(font_scale=1.4)\n",
    "sns.heatmap(matrix, annot=True, annot_kws={'size':10},\n",
    "            cmap=plt.cm.Greens, linewidths=0.2)\n",
    "\n",
    "# Add labels to the plot\n",
    "class_names = ['None', 'Low', 'Moderate', \n",
    "               'Severe']\n",
    "tick_marks = np.arange(len(class_names))\n",
    "tick_marks2 = tick_marks + 0.5\n",
    "plt.xticks(tick_marks, class_names, rotation=25)\n",
    "plt.yticks(tick_marks2, class_names, rotation=0)\n",
    "plt.xlabel('Predicted label')\n",
    "plt.ylabel('True label')\n",
    "plt.title('Confusion Matrix for CatBoost Model')\n",
    "plt.show()"
   ]
  },
  {
   "cell_type": "markdown",
   "id": "295bd9ab",
   "metadata": {},
   "source": [
    "## AdaBoost Classifier"
   ]
  },
  {
   "cell_type": "code",
   "execution_count": 41,
   "id": "d9c2c0bc",
   "metadata": {},
   "outputs": [
    {
     "name": "stdout",
     "output_type": "stream",
     "text": [
      "Accuracy: 0.46173235563703025\n"
     ]
    }
   ],
   "source": [
    "from sklearn.ensemble import AdaBoostClassifier\n",
    "clf = AdaBoostClassifier(n_estimators=100)\n",
    "clf.fit(X_train,y_train)                   # training classifier\n",
    "\n",
    "y_pred=clf.predict(X_test)                  # testing classifier \n",
    "\n",
    "print(\"Accuracy:\",metrics.accuracy_score(y_test, y_pred))"
   ]
  },
  {
   "cell_type": "markdown",
   "id": "c827377b",
   "metadata": {},
   "source": [
    "### 5-fold cross validation"
   ]
  },
  {
   "cell_type": "code",
   "execution_count": 42,
   "id": "86f9aef6",
   "metadata": {},
   "outputs": [
    {
     "name": "stdout",
     "output_type": "stream",
     "text": [
      "0.4607 accuracy with a standard deviation of 0.0087\n"
     ]
    }
   ],
   "source": [
    "cross_val = cross_val_score(clf, X, y, cv=5)\n",
    "print(\"%0.4f accuracy with a standard deviation of %0.4f\" % (cross_val.mean(), cross_val.std()))"
   ]
  },
  {
   "cell_type": "markdown",
   "id": "c0b952af",
   "metadata": {},
   "source": [
    "### Classification report"
   ]
  },
  {
   "cell_type": "code",
   "execution_count": 43,
   "id": "cf8ded3b",
   "metadata": {},
   "outputs": [
    {
     "name": "stdout",
     "output_type": "stream",
     "text": [
      "              precision    recall  f1-score   support\n",
      "\n",
      "           0       0.44      0.23      0.30       572\n",
      "           1       0.33      0.38      0.35      1007\n",
      "           2       0.32      0.09      0.14      1029\n",
      "           3       0.54      0.80      0.65      1756\n",
      "\n",
      "    accuracy                           0.46      4364\n",
      "   macro avg       0.41      0.38      0.36      4364\n",
      "weighted avg       0.43      0.46      0.41      4364\n",
      "\n"
     ]
    }
   ],
   "source": [
    "print(classification_report(y_test, y_pred))"
   ]
  },
  {
   "cell_type": "markdown",
   "id": "6514d077",
   "metadata": {},
   "source": [
    "### Balanced accuracy"
   ]
  },
  {
   "cell_type": "code",
   "execution_count": 44,
   "id": "bfe725f9",
   "metadata": {},
   "outputs": [
    {
     "data": {
      "text/plain": [
       "0.37610294559716745"
      ]
     },
     "execution_count": 44,
     "metadata": {},
     "output_type": "execute_result"
    }
   ],
   "source": [
    "balanced_accuracy_score(y_test, y_pred)"
   ]
  },
  {
   "cell_type": "markdown",
   "id": "aeec1bd8",
   "metadata": {},
   "source": [
    "### G-mean"
   ]
  },
  {
   "cell_type": "code",
   "execution_count": 45,
   "id": "06b2c590",
   "metadata": {},
   "outputs": [
    {
     "data": {
      "text/plain": [
       "0.28346232418804607"
      ]
     },
     "execution_count": 45,
     "metadata": {},
     "output_type": "execute_result"
    }
   ],
   "source": [
    "geometric_mean_score(y_test, y_pred)"
   ]
  },
  {
   "cell_type": "markdown",
   "id": "272f249b",
   "metadata": {},
   "source": [
    "### Confusion Matrix"
   ]
  },
  {
   "cell_type": "code",
   "execution_count": 46,
   "id": "bc664de6",
   "metadata": {},
   "outputs": [
    {
     "data": {
      "image/png": "[encoded data removed]",
      "text/plain": [
       "<Figure size 1152x504 with 2 Axes>"
      ]
     },
     "metadata": {},
     "output_type": "display_data"
    }
   ],
   "source": [
    "matrix = confusion_matrix(y_test, y_pred)\n",
    "matrix = matrix.astype('float') / matrix.sum(axis=1)[:, np.newaxis]\n",
    "\n",
    "# Build the plot\n",
    "plt.figure(figsize=(16,7))\n",
    "sns.set(font_scale=1.4)\n",
    "sns.heatmap(matrix, annot=True, annot_kws={'size':10},\n",
    "            cmap=plt.cm.Greens, linewidths=0.2)\n",
    "\n",
    "# Add labels to the plot\n",
    "class_names = ['None', 'Low', 'Moderate', \n",
    "               'Severe']\n",
    "tick_marks = np.arange(len(class_names))\n",
    "tick_marks2 = tick_marks + 0.5\n",
    "plt.xticks(tick_marks, class_names, rotation=25)\n",
    "plt.yticks(tick_marks2, class_names, rotation=0)\n",
    "plt.xlabel('Predicted label')\n",
    "plt.ylabel('True label')\n",
    "plt.title('Confusion Matrix for AdaBoost Model')\n",
    "plt.show()"
   ]
  }
 ],
 "metadata": {
  "kernelspec": {
   "display_name": "Python 3 (ipykernel)",
   "language": "python",
   "name": "python3"
  },
  "language_info": {
   "codemirror_mode": {
    "name": "ipython",
    "version": 3
   },
   "file_extension": ".py",
   "mimetype": "text/x-python",
   "name": "python",
   "nbconvert_exporter": "python",
   "pygments_lexer": "ipython3",
   "version": "3.9.12"
  }
 },
 "nbformat": 4,
 "nbformat_minor": 5
}
