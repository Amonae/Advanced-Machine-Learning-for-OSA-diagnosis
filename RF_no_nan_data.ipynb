{
 "cells": [
  {
   "cell_type": "markdown",
   "id": "6e39cdcb",
   "metadata": {},
   "source": [
    "## This is to test how accurate RF is when using a dataset with no missing vlaues"
   ]
  },
  {
   "cell_type": "code",
   "execution_count": 1,
   "id": "b10c7691",
   "metadata": {},
   "outputs": [],
   "source": [
    "import pandas as pd\n",
    "import numpy as np\n",
    "\n",
    "from sklearn.model_selection import train_test_split\n",
    "from sklearn.ensemble import RandomForestClassifier\n",
    "from sklearn import metrics\n",
    "from sklearn.metrics import accuracy_score, confusion_matrix, classification_report\n",
    "\n",
    "import matplotlib.pyplot as plt\n",
    "import seaborn as sns\n"
   ]
  },
  {
   "cell_type": "code",
   "execution_count": 2,
   "id": "210ce355",
   "metadata": {},
   "outputs": [
    {
     "data": {
      "text/plain": [
       "(80390, 51)"
      ]
     },
     "execution_count": 2,
     "metadata": {},
     "output_type": "execute_result"
    }
   ],
   "source": [
    "data = pd.read_csv(\"OSA_simple_nadrop.csv\", index_col=0)\n",
    "data.shape"
   ]
  },
  {
   "cell_type": "code",
   "execution_count": 3,
   "id": "ab59ec8b",
   "metadata": {},
   "outputs": [],
   "source": [
    "no_nan_rows = data[~data.isnull().any(axis=1)]"
   ]
  },
  {
   "cell_type": "code",
   "execution_count": 4,
   "id": "9873be6e",
   "metadata": {},
   "outputs": [
    {
     "data": {
      "text/plain": [
       "(21818, 51)"
      ]
     },
     "execution_count": 4,
     "metadata": {},
     "output_type": "execute_result"
    }
   ],
   "source": [
    "no_nan_rows.shape"
   ]
  },
  {
   "cell_type": "code",
   "execution_count": 6,
   "id": "ae00312c",
   "metadata": {},
   "outputs": [],
   "source": [
    "no_nan_rows.to_csv(\"OSA_complete_patients.csv\")"
   ]
  },
  {
   "cell_type": "code",
   "execution_count": 5,
   "id": "5b7ce704",
   "metadata": {},
   "outputs": [],
   "source": [
    "features = ['Sex', 'Age', 'Current_smoker', 'Former_smoker',\n",
    "       'Sedentary', 'Height', 'Weight', 'Cervical_perimeter',\n",
    "       'Abdominal_perimeter', 'Systolic_BP', 'Diastolic_BP',\n",
    "       'Maxillofacial_profile', 'BMI', 'High_BP', 'Asthma', 'Rhinitis', 'COPD',\n",
    "       'Respiratory_fail', 'Myocardial_infarct', 'Coronary_fail',\n",
    "       'Arrhythmias', 'Stroke', 'Heart_fail', 'Arteriopathy', 'Gastric_reflux',\n",
    "       'Glaucoma', 'Diabetes', 'Hypercholesterolemia', 'Hypertriglyceridemia',\n",
    "       'Hypo(er)thyroidism', 'Depression', 'Obesity', 'Dysmorphology',\n",
    "       'Restless_Leg_Syndrome', 'Snoring', 'Diurnal_somnolence',\n",
    "       'Driving_drowsiness', 'Morning_fatigue', 'Morning_headache',\n",
    "       'Memory_problem', 'Nocturnal_perspiration',\n",
    "       'Shortness_of_breath_on_exertion', 'Nocturia', 'Drowsiness_accident',\n",
    "       'Near_miss_accident', 'Respiratory_arrest', 'Epworth_scale',\n",
    "       'Pichots_scale', 'Depression_scale']"
   ]
  },
  {
   "cell_type": "code",
   "execution_count": 7,
   "id": "5031f353",
   "metadata": {},
   "outputs": [],
   "source": [
    "X=no_nan_rows[features]  # Features  \n",
    "y=no_nan_rows['Severity']  # Labels\n",
    "X_train, X_test, y_train, y_test = train_test_split(X, y, stratify=y, test_size=0.2, random_state=0)"
   ]
  },
  {
   "cell_type": "code",
   "execution_count": 8,
   "id": "fded0d9d",
   "metadata": {},
   "outputs": [
    {
     "name": "stdout",
     "output_type": "stream",
     "text": [
      "Accuracy: 0.46241979835013747\n"
     ]
    }
   ],
   "source": [
    "clf=RandomForestClassifier(n_estimators=100, class_weight='balanced', random_state = 42)  #defining classifier method\n",
    "\n",
    "clf.fit(X_train,y_train)                   # training classifier\n",
    "\n",
    "y_pred=clf.predict(X_test)                  # testing classifier \n",
    "\n",
    "print(\"Accuracy:\",metrics.accuracy_score(y_test, y_pred))"
   ]
  },
  {
   "cell_type": "code",
   "execution_count": 9,
   "id": "804d82c1",
   "metadata": {},
   "outputs": [
    {
     "name": "stdout",
     "output_type": "stream",
     "text": [
      "              precision    recall  f1-score   support\n",
      "\n",
      "           0       0.43      0.23      0.30       572\n",
      "           1       0.33      0.32      0.32      1007\n",
      "           2       0.33      0.13      0.19      1029\n",
      "           3       0.53      0.82      0.64      1756\n",
      "\n",
      "    accuracy                           0.46      4364\n",
      "   macro avg       0.41      0.37      0.36      4364\n",
      "weighted avg       0.43      0.46      0.42      4364\n",
      "\n"
     ]
    }
   ],
   "source": [
    "print(classification_report(y_test, y_pred))"
   ]
  },
  {
   "cell_type": "code",
   "execution_count": 10,
   "id": "c68d58c6",
   "metadata": {},
   "outputs": [
    {
     "data": {
      "text/plain": [
       "Age                                0.095776\n",
       "BMI                                0.075249\n",
       "Abdominal_perimeter                0.071996\n",
       "Weight                             0.065480\n",
       "Height                             0.061235\n",
       "Cervical_perimeter                 0.060640\n",
       "Pichots_scale                      0.060355\n",
       "Epworth_scale                      0.058949\n",
       "Systolic_BP                        0.052736\n",
       "Diastolic_BP                       0.048758\n",
       "Depression_scale                   0.048103\n",
       "Respiratory_arrest                 0.015716\n",
       "Nocturnal_perspiration             0.013988\n",
       "Nocturia                           0.013386\n",
       "Driving_drowsiness                 0.013338\n",
       "Sex                                0.012915\n",
       "Shortness_of_breath_on_exertion    0.012871\n",
       "Morning_headache                   0.012780\n",
       "High_BP                            0.012263\n",
       "Former_smoker                      0.011729\n",
       "Obesity                            0.011702\n",
       "Restless_Leg_Syndrome              0.010780\n",
       "Morning_fatigue                    0.010716\n",
       "Current_smoker                     0.010666\n",
       "Hypercholesterolemia               0.010491\n",
       "Gastric_reflux                     0.010395\n",
       "Diurnal_somnolence                 0.010160\n",
       "Memory_problem                     0.009909\n",
       "Asthma                             0.009184\n",
       "Depression                         0.009007\n",
       "Sedentary                          0.008462\n",
       "Rhinitis                           0.007875\n",
       "Diabetes                           0.007487\n",
       "Maxillofacial_profile              0.006970\n",
       "Near_miss_accident                 0.006766\n",
       "Hypo(er)thyroidism                 0.006528\n",
       "Arrhythmias                        0.005127\n",
       "Hypertriglyceridemia               0.003802\n",
       "COPD                               0.003682\n",
       "Snoring                            0.003545\n",
       "Stroke                             0.002828\n",
       "Drowsiness_accident                0.002805\n",
       "Coronary_fail                      0.002802\n",
       "Glaucoma                           0.002460\n",
       "Myocardial_infarct                 0.002389\n",
       "Heart_fail                         0.001700\n",
       "Arteriopathy                       0.001364\n",
       "Respiratory_fail                   0.001238\n",
       "Dysmorphology                      0.000895\n",
       "dtype: float64"
      ]
     },
     "execution_count": 10,
     "metadata": {},
     "output_type": "execute_result"
    }
   ],
   "source": [
    "pd.Series(clf.feature_importances_,index=features).sort_values(ascending=False)"
   ]
  },
  {
   "cell_type": "markdown",
   "id": "6e4ecea3",
   "metadata": {},
   "source": [
    "#### Balanced subsample"
   ]
  },
  {
   "cell_type": "code",
   "execution_count": 10,
   "id": "7b31b739",
   "metadata": {},
   "outputs": [
    {
     "name": "stdout",
     "output_type": "stream",
     "text": [
      "Accuracy: 0.4598991750687443\n"
     ]
    }
   ],
   "source": [
    "clf=RandomForestClassifier(n_estimators=100, class_weight='balanced_subsample', random_state = 42)  #defining classifier method\n",
    "\n",
    "clf.fit(X_train,y_train)                   # training classifier\n",
    "\n",
    "y_pred=clf.predict(X_test)                  # testing classifier \n",
    "\n",
    "print(\"Accuracy:\",metrics.accuracy_score(y_test, y_pred))"
   ]
  },
  {
   "cell_type": "code",
   "execution_count": 11,
   "id": "d5d8b315",
   "metadata": {},
   "outputs": [
    {
     "name": "stdout",
     "output_type": "stream",
     "text": [
      "              precision    recall  f1-score   support\n",
      "\n",
      "           0       0.45      0.26      0.33       572\n",
      "           1       0.33      0.29      0.31      1007\n",
      "           2       0.30      0.13      0.18      1029\n",
      "           3       0.53      0.82      0.64      1756\n",
      "\n",
      "    accuracy                           0.46      4364\n",
      "   macro avg       0.40      0.37      0.36      4364\n",
      "weighted avg       0.42      0.46      0.42      4364\n",
      "\n"
     ]
    }
   ],
   "source": [
    "print(classification_report(y_test, y_pred))"
   ]
  },
  {
   "cell_type": "code",
   "execution_count": null,
   "id": "8c30b485",
   "metadata": {},
   "outputs": [],
   "source": []
  }
 ],
 "metadata": {
  "kernelspec": {
   "display_name": "Python 3 (ipykernel)",
   "language": "python",
   "name": "python3"
  },
  "language_info": {
   "codemirror_mode": {
    "name": "ipython",
    "version": 3
   },
   "file_extension": ".py",
   "mimetype": "text/x-python",
   "name": "python",
   "nbconvert_exporter": "python",
   "pygments_lexer": "ipython3",
   "version": "3.9.12"
  }
 },
 "nbformat": 4,
 "nbformat_minor": 5
}
