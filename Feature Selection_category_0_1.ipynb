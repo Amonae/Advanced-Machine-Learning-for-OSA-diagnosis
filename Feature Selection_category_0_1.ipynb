{
 "cells": [
  {
   "cell_type": "markdown",
   "metadata": {},
   "source": [
    "# Feature selection by category or reference paper\n",
    "This tests all feature sets by classifier\n",
    "\n",
    "Separating Severity 0 v 1"
   ]
  },
  {
   "cell_type": "code",
   "execution_count": 1,
   "metadata": {},
   "outputs": [],
   "source": [
    "import pandas as pd\n",
    "from sklearn.model_selection import train_test_split\n",
    "\n",
    "from sklearn import metrics\n",
    "import numpy as np\n",
    "import matplotlib.pyplot as plt\n",
    "import seaborn as sns\n",
    "from sklearn.metrics import confusion_matrix, classification_report\n",
    "from sklearn.metrics import balanced_accuracy_score, precision_score, recall_score\n",
    "\n",
    "from sklearn.preprocessing import StandardScaler  \n",
    "\n",
    "from sklearn.ensemble import RandomForestClassifier\n",
    "from sklearn.neural_network import MLPClassifier\n",
    "from sklearn.svm import LinearSVC\n",
    "from sklearn.linear_model import LogisticRegression\n",
    "from sklearn.naive_bayes import GaussianNB\n"
   ]
  },
  {
   "cell_type": "code",
   "execution_count": 2,
   "metadata": {},
   "outputs": [],
   "source": [
    "data = pd.read_csv(\"OSA_complete_patients.csv\", index_col = 0)\n",
    "# this data file was created using the RF_no_nan_data.ipynb file which should be in the missing value imputation folder"
   ]
  },
  {
   "cell_type": "code",
   "execution_count": 3,
   "metadata": {},
   "outputs": [
    {
     "data": {
      "text/html": [
       "<div>\n",
       "<style scoped>\n",
       "    .dataframe tbody tr th:only-of-type {\n",
       "        vertical-align: middle;\n",
       "    }\n",
       "\n",
       "    .dataframe tbody tr th {\n",
       "        vertical-align: top;\n",
       "    }\n",
       "\n",
       "    .dataframe thead th {\n",
       "        text-align: right;\n",
       "    }\n",
       "</style>\n",
       "<table border=\"1\" class=\"dataframe\">\n",
       "  <thead>\n",
       "    <tr style=\"text-align: right;\">\n",
       "      <th></th>\n",
       "      <th>PatientID</th>\n",
       "      <th>Sex</th>\n",
       "      <th>Age</th>\n",
       "      <th>Current_smoker</th>\n",
       "      <th>Former_smoker</th>\n",
       "      <th>Sedentary</th>\n",
       "      <th>Height</th>\n",
       "      <th>Weight</th>\n",
       "      <th>Cervical_perimeter</th>\n",
       "      <th>Abdominal_perimeter</th>\n",
       "      <th>...</th>\n",
       "      <th>Nocturnal_perspiration</th>\n",
       "      <th>Shortness_of_breath_on_exertion</th>\n",
       "      <th>Nocturia</th>\n",
       "      <th>Drowsiness_accident</th>\n",
       "      <th>Near_miss_accident</th>\n",
       "      <th>Respiratory_arrest</th>\n",
       "      <th>Epworth_scale</th>\n",
       "      <th>Pichots_scale</th>\n",
       "      <th>Depression_scale</th>\n",
       "      <th>Severity</th>\n",
       "    </tr>\n",
       "  </thead>\n",
       "  <tbody>\n",
       "    <tr>\n",
       "      <th>39</th>\n",
       "      <td>23</td>\n",
       "      <td>2.0</td>\n",
       "      <td>57.883641</td>\n",
       "      <td>0.0</td>\n",
       "      <td>0.0</td>\n",
       "      <td>0.0</td>\n",
       "      <td>172.0</td>\n",
       "      <td>90.0</td>\n",
       "      <td>45.0</td>\n",
       "      <td>125.0</td>\n",
       "      <td>...</td>\n",
       "      <td>0.0</td>\n",
       "      <td>0.0</td>\n",
       "      <td>1.0</td>\n",
       "      <td>0.0</td>\n",
       "      <td>0.0</td>\n",
       "      <td>0.0</td>\n",
       "      <td>3.0</td>\n",
       "      <td>4.0</td>\n",
       "      <td>5.0</td>\n",
       "      <td>3</td>\n",
       "    </tr>\n",
       "    <tr>\n",
       "      <th>41</th>\n",
       "      <td>24</td>\n",
       "      <td>2.0</td>\n",
       "      <td>60.796715</td>\n",
       "      <td>0.0</td>\n",
       "      <td>0.0</td>\n",
       "      <td>0.0</td>\n",
       "      <td>156.0</td>\n",
       "      <td>85.0</td>\n",
       "      <td>35.0</td>\n",
       "      <td>113.0</td>\n",
       "      <td>...</td>\n",
       "      <td>0.0</td>\n",
       "      <td>1.0</td>\n",
       "      <td>1.0</td>\n",
       "      <td>0.0</td>\n",
       "      <td>0.0</td>\n",
       "      <td>1.0</td>\n",
       "      <td>19.0</td>\n",
       "      <td>17.0</td>\n",
       "      <td>4.0</td>\n",
       "      <td>3</td>\n",
       "    </tr>\n",
       "    <tr>\n",
       "      <th>46</th>\n",
       "      <td>28</td>\n",
       "      <td>1.0</td>\n",
       "      <td>63.438741</td>\n",
       "      <td>0.0</td>\n",
       "      <td>0.0</td>\n",
       "      <td>0.0</td>\n",
       "      <td>178.0</td>\n",
       "      <td>68.0</td>\n",
       "      <td>35.0</td>\n",
       "      <td>73.0</td>\n",
       "      <td>...</td>\n",
       "      <td>0.0</td>\n",
       "      <td>0.0</td>\n",
       "      <td>1.0</td>\n",
       "      <td>0.0</td>\n",
       "      <td>0.0</td>\n",
       "      <td>1.0</td>\n",
       "      <td>5.0</td>\n",
       "      <td>3.0</td>\n",
       "      <td>0.0</td>\n",
       "      <td>1</td>\n",
       "    </tr>\n",
       "    <tr>\n",
       "      <th>55</th>\n",
       "      <td>32</td>\n",
       "      <td>1.0</td>\n",
       "      <td>28.736482</td>\n",
       "      <td>0.0</td>\n",
       "      <td>0.0</td>\n",
       "      <td>0.0</td>\n",
       "      <td>180.0</td>\n",
       "      <td>69.0</td>\n",
       "      <td>36.0</td>\n",
       "      <td>83.0</td>\n",
       "      <td>...</td>\n",
       "      <td>0.0</td>\n",
       "      <td>0.0</td>\n",
       "      <td>0.0</td>\n",
       "      <td>0.0</td>\n",
       "      <td>0.0</td>\n",
       "      <td>0.0</td>\n",
       "      <td>2.0</td>\n",
       "      <td>0.0</td>\n",
       "      <td>0.0</td>\n",
       "      <td>0</td>\n",
       "    </tr>\n",
       "    <tr>\n",
       "      <th>56</th>\n",
       "      <td>33</td>\n",
       "      <td>1.0</td>\n",
       "      <td>56.802190</td>\n",
       "      <td>0.0</td>\n",
       "      <td>0.0</td>\n",
       "      <td>0.0</td>\n",
       "      <td>185.0</td>\n",
       "      <td>118.0</td>\n",
       "      <td>43.0</td>\n",
       "      <td>106.0</td>\n",
       "      <td>...</td>\n",
       "      <td>0.0</td>\n",
       "      <td>0.0</td>\n",
       "      <td>0.0</td>\n",
       "      <td>0.0</td>\n",
       "      <td>0.0</td>\n",
       "      <td>1.0</td>\n",
       "      <td>12.0</td>\n",
       "      <td>13.0</td>\n",
       "      <td>2.0</td>\n",
       "      <td>3</td>\n",
       "    </tr>\n",
       "  </tbody>\n",
       "</table>\n",
       "<p>5 rows × 51 columns</p>\n",
       "</div>"
      ],
      "text/plain": [
       "    PatientID  Sex        Age  Current_smoker  Former_smoker  Sedentary  \\\n",
       "39         23  2.0  57.883641             0.0            0.0        0.0   \n",
       "41         24  2.0  60.796715             0.0            0.0        0.0   \n",
       "46         28  1.0  63.438741             0.0            0.0        0.0   \n",
       "55         32  1.0  28.736482             0.0            0.0        0.0   \n",
       "56         33  1.0  56.802190             0.0            0.0        0.0   \n",
       "\n",
       "    Height  Weight  Cervical_perimeter  Abdominal_perimeter  ...  \\\n",
       "39   172.0    90.0                45.0                125.0  ...   \n",
       "41   156.0    85.0                35.0                113.0  ...   \n",
       "46   178.0    68.0                35.0                 73.0  ...   \n",
       "55   180.0    69.0                36.0                 83.0  ...   \n",
       "56   185.0   118.0                43.0                106.0  ...   \n",
       "\n",
       "    Nocturnal_perspiration  Shortness_of_breath_on_exertion  Nocturia  \\\n",
       "39                     0.0                              0.0       1.0   \n",
       "41                     0.0                              1.0       1.0   \n",
       "46                     0.0                              0.0       1.0   \n",
       "55                     0.0                              0.0       0.0   \n",
       "56                     0.0                              0.0       0.0   \n",
       "\n",
       "    Drowsiness_accident  Near_miss_accident  Respiratory_arrest  \\\n",
       "39                  0.0                 0.0                 0.0   \n",
       "41                  0.0                 0.0                 1.0   \n",
       "46                  0.0                 0.0                 1.0   \n",
       "55                  0.0                 0.0                 0.0   \n",
       "56                  0.0                 0.0                 1.0   \n",
       "\n",
       "    Epworth_scale  Pichots_scale  Depression_scale  Severity  \n",
       "39            3.0            4.0               5.0         3  \n",
       "41           19.0           17.0               4.0         3  \n",
       "46            5.0            3.0               0.0         1  \n",
       "55            2.0            0.0               0.0         0  \n",
       "56           12.0           13.0               2.0         3  \n",
       "\n",
       "[5 rows x 51 columns]"
      ]
     },
     "execution_count": 3,
     "metadata": {},
     "output_type": "execute_result"
    }
   ],
   "source": [
    "data.head()"
   ]
  },
  {
   "cell_type": "code",
   "execution_count": 4,
   "metadata": {},
   "outputs": [],
   "source": [
    "features = ['Sex', 'Age', 'Current_smoker', 'Former_smoker',\n",
    "       'Sedentary', 'Height', 'Weight', 'Cervical_perimeter',\n",
    "       'Abdominal_perimeter', 'Systolic_BP', 'Diastolic_BP',\n",
    "       'Maxillofacial_profile', 'BMI', 'High_BP', 'Asthma', 'Rhinitis', 'COPD',\n",
    "       'Respiratory_fail', 'Myocardial_infarct', 'Coronary_fail',\n",
    "       'Arrhythmias', 'Stroke', 'Heart_fail', 'Arteriopathy', 'Gastric_reflux',\n",
    "       'Glaucoma', 'Diabetes', 'Hypercholesterolemia', 'Hypertriglyceridemia',\n",
    "       'Hypo(er)thyroidism', 'Depression', 'Obesity', 'Dysmorphology',\n",
    "       'Restless_Leg_Syndrome', 'Snoring', 'Diurnal_somnolence',\n",
    "       'Driving_drowsiness', 'Morning_fatigue', 'Morning_headache',\n",
    "       'Memory_problem', 'Nocturnal_perspiration',\n",
    "       'Shortness_of_breath_on_exertion', 'Nocturia', 'Drowsiness_accident',\n",
    "       'Near_miss_accident', 'Respiratory_arrest', 'Epworth_scale',\n",
    "       'Pichots_scale', 'Depression_scale']"
   ]
  },
  {
   "cell_type": "markdown",
   "metadata": {},
   "source": [
    "### Wu et al. [25] \n",
    "age; body mass index; Epworth Sleepiness\n",
    "Scale; waistline; neck circumference; and\n",
    "difference of blood pressure before going\n",
    "to sleep and early in the morning"
   ]
  },
  {
   "cell_type": "code",
   "execution_count": 5,
   "metadata": {},
   "outputs": [],
   "source": [
    "wu = ['Age','BMI','Epworth_scale',  'Abdominal_perimeter', 'Cervical_perimeter','Systolic_BP', 'Diastolic_BP']\n",
    "# The Wu paper included a feature described as \"The difference of blood presure before going to sleep and early in the morning.\" \n",
    "# This dataset did not include that feature, so it is substituted here with disastolic and systolic BP"
   ]
  },
  {
   "cell_type": "markdown",
   "metadata": {},
   "source": [
    "### Mencar et al. [15]\n",
    "body mass index; gender; and Epworth\n",
    "Sleepiness Scale"
   ]
  },
  {
   "cell_type": "code",
   "execution_count": 6,
   "metadata": {},
   "outputs": [],
   "source": [
    "mencar = ['BMI', 'Sex', 'Epworth_scale']"
   ]
  },
  {
   "cell_type": "markdown",
   "metadata": {},
   "source": [
    "### Huang et al. [12] \n",
    "age; waistline; neck circumference; snoring;\n",
    "sleep onset latency; and witnessed apnea"
   ]
  },
  {
   "cell_type": "code",
   "execution_count": 7,
   "metadata": {},
   "outputs": [],
   "source": [
    "huang = ['Age','Cervical_perimeter', 'Snoring']\n",
    "# The Huang paper included the features: sleep onset latency and witnessed apnea\n",
    "# This dataset did not included sleep onset latency data, and including results for witnessed apnea would skew the results so it was not included"
   ]
  },
  {
   "cell_type": "markdown",
   "metadata": {},
   "source": [
    "### Ustun et al. [21] \n",
    "age; body mass index; gender; diabetes; hypertension; and tabagism (smoker status)"
   ]
  },
  {
   "cell_type": "code",
   "execution_count": 8,
   "metadata": {},
   "outputs": [],
   "source": [
    "ustun = ['Age','BMI', 'Sex','Diabetes', 'High_BP', 'Current_smoker', 'Former_smoker']"
   ]
  },
  {
   "cell_type": "markdown",
   "metadata": {},
   "source": [
    "### Rodruiges Jr et al.\n",
    "age; nocturia frequency; body mass index;\n",
    "depression score; neck circumference; hip\n",
    "measurement; diastolic blood pressure; and\n",
    "tabagism"
   ]
  },
  {
   "cell_type": "code",
   "execution_count": 9,
   "metadata": {},
   "outputs": [],
   "source": [
    "rodruiges = ['Age', 'Nocturia', 'BMI', 'Depression_scale', 'Cervical_perimeter', 'Abdominal_perimeter', 'Diastolic_BP', 'Current_smoker', 'Former_smoker' ]"
   ]
  },
  {
   "cell_type": "markdown",
   "metadata": {},
   "source": [
    "### Categories"
   ]
  },
  {
   "cell_type": "code",
   "execution_count": 10,
   "metadata": {},
   "outputs": [],
   "source": [
    "demographic = ['Sex','Age','Current_smoker','Former_smoker','Sedentary']"
   ]
  },
  {
   "cell_type": "code",
   "execution_count": 11,
   "metadata": {},
   "outputs": [],
   "source": [
    "measurements = ['Height','Weight','Cervical_perimeter',\n",
    "               'Abdominal_perimeter','Systolic_BP','Diastolic_BP','Maxillofacial_profile','BMI','High_BP']"
   ]
  },
  {
   "cell_type": "code",
   "execution_count": 12,
   "metadata": {},
   "outputs": [],
   "source": [
    "comorbidities = ['Asthma','Rhinitis','COPD','Respiratory_fail','Myocardial_infarct','Coronary_fail','Arrhythmias','Stroke',\n",
    "                 'Heart_fail','Arteriopathy','Gastric_reflux','Glaucoma','Diabetes','Hypercholesterolemia','Hypertriglyceridemia',\n",
    "                 'Hypo(er)thyroidism','Depression','Obesity','Dysmorphology','Restless_Leg_Syndrome']"
   ]
  },
  {
   "cell_type": "code",
   "execution_count": 13,
   "metadata": {},
   "outputs": [],
   "source": [
    "symptoms=['Snoring','Diurnal_somnolence','Driving_drowsiness','Morning_fatigue','Morning_headache','Memory_problem',\n",
    "          'Nocturnal_perspiration','Shortness_of_breath_on_exertion','Nocturia','Drowsiness_accident','Near_miss_accident',\n",
    "          'Respiratory_arrest']"
   ]
  },
  {
   "cell_type": "code",
   "execution_count": 14,
   "metadata": {},
   "outputs": [],
   "source": [
    "questionnaires = ['Epworth_scale','Pichots_scale','Depression_scale']"
   ]
  },
  {
   "cell_type": "markdown",
   "metadata": {},
   "source": [
    "### Dataframe of only Severity 0 and 1"
   ]
  },
  {
   "cell_type": "code",
   "execution_count": 15,
   "metadata": {},
   "outputs": [
    {
     "name": "stdout",
     "output_type": "stream",
     "text": [
      "(7898, 51)\n",
      "1    5036\n",
      "0    2862\n",
      "Name: Severity, dtype: int64\n"
     ]
    }
   ],
   "source": [
    "sev = [0,1]\n",
    "data_0_1 = data[data['Severity'].isin(sev)]\n",
    "print(data_0_1.shape)\n",
    "print(data_0_1['Severity'].value_counts())"
   ]
  },
  {
   "cell_type": "markdown",
   "metadata": {},
   "source": [
    "## Models"
   ]
  },
  {
   "cell_type": "markdown",
   "metadata": {},
   "source": [
    "##### Note: Feature scaling is essential for machine learning algorithms that calculate distances between data"
   ]
  },
  {
   "cell_type": "markdown",
   "metadata": {},
   "source": [
    "### Creating dictionary of feature sets"
   ]
  },
  {
   "cell_type": "code",
   "execution_count": 16,
   "metadata": {},
   "outputs": [],
   "source": [
    "feature_list = {}\n",
    "\n",
    "feature_list['All']= features\n",
    "feature_list['Wu'] = wu\n",
    "feature_list['Mencar'] = mencar\n",
    "feature_list['Ustun'] = ustun\n",
    "feature_list['Huang'] = huang\n",
    "feature_list['Rodruiges'] = rodruiges\n",
    "feature_list['Demographic'] = demographic\n",
    "feature_list['Measurements'] = measurements\n",
    "feature_list['Comorbidities'] = comorbidities\n",
    "feature_list['Symptoms'] = symptoms\n",
    "feature_list['Questionnaires'] = questionnaires\n"
   ]
  },
  {
   "cell_type": "markdown",
   "metadata": {},
   "source": [
    "### Random Forests"
   ]
  },
  {
   "cell_type": "code",
   "execution_count": 17,
   "metadata": {},
   "outputs": [],
   "source": [
    "accuracy, precision, recall = {}, {}, {}\n",
    "\n",
    "for key in feature_list.keys():\n",
    "    \n",
    "    # Define X and y test/ train/ split\n",
    "    X=data_0_1[feature_list[key]]  # Features  \n",
    "    y=data_0_1['Severity']  # Labels\n",
    "    X_train, X_test, y_train, y_test = train_test_split(X, y, \n",
    "                                                    test_size=0.2, \n",
    "                                                    random_state=0, \n",
    "                                                    shuffle=True, \n",
    "                                                    stratify=y)\n",
    "    clf=RandomForestClassifier(n_estimators=100, class_weight='balanced', random_state = 0)  #defining classifier method\n",
    "    clf.fit(X_train,y_train)                   # training classifier \n",
    "    \n",
    "    # Prediction \n",
    "    predictions = clf.predict(X_test)\n",
    "    \n",
    "    # Calculate Accuracy, Precision and Recall Metrics\n",
    "    accuracy[key] = balanced_accuracy_score(predictions, y_test) \n",
    "    precision[key] = precision_score(predictions, y_test, average='weighted')\n",
    "    recall[key] = recall_score(predictions, y_test, average='weighted')"
   ]
  },
  {
   "cell_type": "code",
   "execution_count": 18,
   "metadata": {},
   "outputs": [
    {
     "data": {
      "text/html": [
       "<div>\n",
       "<style scoped>\n",
       "    .dataframe tbody tr th:only-of-type {\n",
       "        vertical-align: middle;\n",
       "    }\n",
       "\n",
       "    .dataframe tbody tr th {\n",
       "        vertical-align: top;\n",
       "    }\n",
       "\n",
       "    .dataframe thead th {\n",
       "        text-align: right;\n",
       "    }\n",
       "</style>\n",
       "<table border=\"1\" class=\"dataframe\">\n",
       "  <thead>\n",
       "    <tr style=\"text-align: right;\">\n",
       "      <th></th>\n",
       "      <th>Balanced Accuracy</th>\n",
       "      <th>Precision</th>\n",
       "      <th>Recall</th>\n",
       "    </tr>\n",
       "  </thead>\n",
       "  <tbody>\n",
       "    <tr>\n",
       "      <th>All</th>\n",
       "      <td>0.614561</td>\n",
       "      <td>0.812219</td>\n",
       "      <td>0.653797</td>\n",
       "    </tr>\n",
       "    <tr>\n",
       "      <th>Wu</th>\n",
       "      <td>0.589218</td>\n",
       "      <td>0.737809</td>\n",
       "      <td>0.639873</td>\n",
       "    </tr>\n",
       "    <tr>\n",
       "      <th>Mencar</th>\n",
       "      <td>0.506150</td>\n",
       "      <td>0.546547</td>\n",
       "      <td>0.544937</td>\n",
       "    </tr>\n",
       "    <tr>\n",
       "      <th>Ustun</th>\n",
       "      <td>0.545678</td>\n",
       "      <td>0.627627</td>\n",
       "      <td>0.596203</td>\n",
       "    </tr>\n",
       "    <tr>\n",
       "      <th>Huang</th>\n",
       "      <td>0.513554</td>\n",
       "      <td>0.553671</td>\n",
       "      <td>0.551899</td>\n",
       "    </tr>\n",
       "    <tr>\n",
       "      <th>Rodruiges</th>\n",
       "      <td>0.588440</td>\n",
       "      <td>0.746353</td>\n",
       "      <td>0.639873</td>\n",
       "    </tr>\n",
       "    <tr>\n",
       "      <th>Demographic</th>\n",
       "      <td>0.505955</td>\n",
       "      <td>0.552265</td>\n",
       "      <td>0.547468</td>\n",
       "    </tr>\n",
       "    <tr>\n",
       "      <th>Measurements</th>\n",
       "      <td>0.571041</td>\n",
       "      <td>0.741085</td>\n",
       "      <td>0.629747</td>\n",
       "    </tr>\n",
       "    <tr>\n",
       "      <th>Comorbidities</th>\n",
       "      <td>0.528779</td>\n",
       "      <td>0.582061</td>\n",
       "      <td>0.481646</td>\n",
       "    </tr>\n",
       "    <tr>\n",
       "      <th>Symptoms</th>\n",
       "      <td>0.530296</td>\n",
       "      <td>0.533900</td>\n",
       "      <td>0.524684</td>\n",
       "    </tr>\n",
       "    <tr>\n",
       "      <th>Questionnaires</th>\n",
       "      <td>0.495728</td>\n",
       "      <td>0.538491</td>\n",
       "      <td>0.536076</td>\n",
       "    </tr>\n",
       "  </tbody>\n",
       "</table>\n",
       "</div>"
      ],
      "text/plain": [
       "                Balanced Accuracy  Precision    Recall\n",
       "All                      0.614561   0.812219  0.653797\n",
       "Wu                       0.589218   0.737809  0.639873\n",
       "Mencar                   0.506150   0.546547  0.544937\n",
       "Ustun                    0.545678   0.627627  0.596203\n",
       "Huang                    0.513554   0.553671  0.551899\n",
       "Rodruiges                0.588440   0.746353  0.639873\n",
       "Demographic              0.505955   0.552265  0.547468\n",
       "Measurements             0.571041   0.741085  0.629747\n",
       "Comorbidities            0.528779   0.582061  0.481646\n",
       "Symptoms                 0.530296   0.533900  0.524684\n",
       "Questionnaires           0.495728   0.538491  0.536076"
      ]
     },
     "execution_count": 18,
     "metadata": {},
     "output_type": "execute_result"
    }
   ],
   "source": [
    "df_model = pd.DataFrame(index=feature_list.keys())\n",
    "df_model['Balanced Accuracy'] = accuracy.values()\n",
    "df_model['Precision'] = precision.values()\n",
    "df_model['Recall'] = recall.values()\n",
    "\n",
    "df_model"
   ]
  },
  {
   "cell_type": "markdown",
   "metadata": {},
   "source": [
    "##### Confusion matrix for model with highest balanced accuracy"
   ]
  },
  {
   "cell_type": "code",
   "execution_count": 27,
   "metadata": {},
   "outputs": [],
   "source": [
    "X=data_0_1[features]  # Features  \n",
    "y=data_0_1['Severity']  # Labels\n",
    "X_train, X_test, y_train, y_test = train_test_split(X, y, \n",
    "                                                    test_size=0.2, \n",
    "                                                    random_state=0, \n",
    "                                                    shuffle=True, \n",
    "                                                    stratify=y)\n",
    "clf=RandomForestClassifier(n_estimators=100, class_weight='balanced', random_state = 0)  #defining classifier method\n",
    "clf.fit(X_train,y_train)                   # training classifier \n",
    "    \n",
    "# Prediction \n",
    "predictions = clf.predict(X_test)"
   ]
  },
  {
   "cell_type": "code",
   "execution_count": 28,
   "metadata": {},
   "outputs": [
    {
     "data": {
      "image/png": "[encoded data removed]",
      "text/plain": [
       "<Figure size 1152x504 with 2 Axes>"
      ]
     },
     "metadata": {
      "needs_background": "light"
     },
     "output_type": "display_data"
    }
   ],
   "source": [
    "matrix = confusion_matrix(y_test, predictions)\n",
    "matrix = matrix.astype('float') / matrix.sum(axis=1)[:, np.newaxis]\n",
    "\n",
    "# Build the plot\n",
    "plt.figure(figsize=(16,7))\n",
    "sns.set(font_scale=1.4)\n",
    "sns.heatmap(matrix, annot=True, annot_kws={'size':10},\n",
    "            cmap=plt.cm.Greens, linewidths=0.2)\n",
    "\n",
    "# Add labels to the plot\n",
    "class_names = ['0', '1']\n",
    "tick_marks = np.arange(len(class_names))\n",
    "tick_marks2 = tick_marks + 0.5\n",
    "plt.xticks(tick_marks, class_names, rotation=25)\n",
    "plt.yticks(tick_marks2, class_names, rotation=0)\n",
    "plt.xlabel('Predicted label')\n",
    "plt.ylabel('True label')\n",
    "plt.title('Confusion Matrix for Random Forest Model')\n",
    "plt.show()"
   ]
  },
  {
   "cell_type": "markdown",
   "metadata": {},
   "source": [
    "### MLP"
   ]
  },
  {
   "cell_type": "code",
   "execution_count": 19,
   "metadata": {},
   "outputs": [
    {
     "name": "stderr",
     "output_type": "stream",
     "text": [
      "C:\\ProgramData\\Anaconda3\\lib\\site-packages\\sklearn\\metrics\\classification.py:1437: UserWarning: y_pred contains classes not in y_true\n",
      "  warnings.warn('y_pred contains classes not in y_true')\n",
      "C:\\ProgramData\\Anaconda3\\lib\\site-packages\\sklearn\\metrics\\classification.py:1145: UndefinedMetricWarning: Recall is ill-defined and being set to 0.0 in labels with no true samples.\n",
      "  'recall', 'true', average, warn_for)\n"
     ]
    }
   ],
   "source": [
    "accuracy, precision, recall = {}, {}, {}\n",
    "\n",
    "for key in feature_list.keys():\n",
    "    \n",
    "    # Define X and y test/ train/ split\n",
    "    X=data_0_1[feature_list[key]]  # Features  \n",
    "    y=data_0_1['Severity']  # Labels\n",
    "    X_train, X_test, y_train, y_test = train_test_split(X, y, \n",
    "                                                    test_size=0.2, \n",
    "                                                    random_state=0, \n",
    "                                                    shuffle=True, \n",
    "                                                    stratify=y)\n",
    "    # Data needs to be scaled\n",
    "    scaler = StandardScaler()  \n",
    "    # Scale only on training data\n",
    "    scaler.fit(X_train)  \n",
    "    X_train = scaler.transform(X_train)  \n",
    "    # apply same transformation to test data\n",
    "    X_test = scaler.transform(X_test)  \n",
    "    \n",
    "    clf=MLPClassifier(random_state=0, early_stopping=True)  #defining classifier method\n",
    "    clf.fit(X_train,y_train)                   # training classifier \n",
    "    \n",
    "    # Prediction \n",
    "    predictions = clf.predict(X_test)\n",
    "    \n",
    "    # Calculate Accuracy, Precision and Recall Metrics\n",
    "    accuracy[key] = balanced_accuracy_score(predictions, y_test) \n",
    "    precision[key] = precision_score(predictions, y_test, average='weighted')\n",
    "    recall[key] = recall_score(predictions, y_test, average='weighted')"
   ]
  },
  {
   "cell_type": "code",
   "execution_count": 20,
   "metadata": {},
   "outputs": [
    {
     "data": {
      "text/html": [
       "<div>\n",
       "<style scoped>\n",
       "    .dataframe tbody tr th:only-of-type {\n",
       "        vertical-align: middle;\n",
       "    }\n",
       "\n",
       "    .dataframe tbody tr th {\n",
       "        vertical-align: top;\n",
       "    }\n",
       "\n",
       "    .dataframe thead th {\n",
       "        text-align: right;\n",
       "    }\n",
       "</style>\n",
       "<table border=\"1\" class=\"dataframe\">\n",
       "  <thead>\n",
       "    <tr style=\"text-align: right;\">\n",
       "      <th></th>\n",
       "      <th>Balanced Accuracy</th>\n",
       "      <th>Precision</th>\n",
       "      <th>Recall</th>\n",
       "    </tr>\n",
       "  </thead>\n",
       "  <tbody>\n",
       "    <tr>\n",
       "      <th>All</th>\n",
       "      <td>0.620833</td>\n",
       "      <td>0.820475</td>\n",
       "      <td>0.656329</td>\n",
       "    </tr>\n",
       "    <tr>\n",
       "      <th>Wu</th>\n",
       "      <td>0.535732</td>\n",
       "      <td>0.903073</td>\n",
       "      <td>0.629747</td>\n",
       "    </tr>\n",
       "    <tr>\n",
       "      <th>Mencar</th>\n",
       "      <td>0.570915</td>\n",
       "      <td>0.945695</td>\n",
       "      <td>0.637342</td>\n",
       "    </tr>\n",
       "    <tr>\n",
       "      <th>Ustun</th>\n",
       "      <td>0.608823</td>\n",
       "      <td>0.847415</td>\n",
       "      <td>0.649367</td>\n",
       "    </tr>\n",
       "    <tr>\n",
       "      <th>Huang</th>\n",
       "      <td>0.594305</td>\n",
       "      <td>0.878921</td>\n",
       "      <td>0.643038</td>\n",
       "    </tr>\n",
       "    <tr>\n",
       "      <th>Rodruiges</th>\n",
       "      <td>0.618067</td>\n",
       "      <td>0.828943</td>\n",
       "      <td>0.654430</td>\n",
       "    </tr>\n",
       "    <tr>\n",
       "      <th>Demographic</th>\n",
       "      <td>0.556189</td>\n",
       "      <td>0.978352</td>\n",
       "      <td>0.636709</td>\n",
       "    </tr>\n",
       "    <tr>\n",
       "      <th>Measurements</th>\n",
       "      <td>0.596623</td>\n",
       "      <td>0.880362</td>\n",
       "      <td>0.643671</td>\n",
       "    </tr>\n",
       "    <tr>\n",
       "      <th>Comorbidities</th>\n",
       "      <td>0.569285</td>\n",
       "      <td>0.984358</td>\n",
       "      <td>0.637342</td>\n",
       "    </tr>\n",
       "    <tr>\n",
       "      <th>Symptoms</th>\n",
       "      <td>0.318326</td>\n",
       "      <td>0.995128</td>\n",
       "      <td>0.635443</td>\n",
       "    </tr>\n",
       "    <tr>\n",
       "      <th>Questionnaires</th>\n",
       "      <td>0.637342</td>\n",
       "      <td>1.000000</td>\n",
       "      <td>0.637342</td>\n",
       "    </tr>\n",
       "  </tbody>\n",
       "</table>\n",
       "</div>"
      ],
      "text/plain": [
       "                Balanced Accuracy  Precision    Recall\n",
       "All                      0.620833   0.820475  0.656329\n",
       "Wu                       0.535732   0.903073  0.629747\n",
       "Mencar                   0.570915   0.945695  0.637342\n",
       "Ustun                    0.608823   0.847415  0.649367\n",
       "Huang                    0.594305   0.878921  0.643038\n",
       "Rodruiges                0.618067   0.828943  0.654430\n",
       "Demographic              0.556189   0.978352  0.636709\n",
       "Measurements             0.596623   0.880362  0.643671\n",
       "Comorbidities            0.569285   0.984358  0.637342\n",
       "Symptoms                 0.318326   0.995128  0.635443\n",
       "Questionnaires           0.637342   1.000000  0.637342"
      ]
     },
     "execution_count": 20,
     "metadata": {},
     "output_type": "execute_result"
    }
   ],
   "source": [
    "df_model = pd.DataFrame(index=feature_list.keys())\n",
    "df_model['Balanced Accuracy'] = accuracy.values()\n",
    "df_model['Precision'] = precision.values()\n",
    "df_model['Recall'] = recall.values()\n",
    "\n",
    "df_model"
   ]
  },
  {
   "cell_type": "markdown",
   "metadata": {},
   "source": [
    "##### Confusion matrix for model with highest balanced accuracy"
   ]
  },
  {
   "cell_type": "code",
   "execution_count": 31,
   "metadata": {},
   "outputs": [],
   "source": [
    "X=data_0_1[features]  # Features  * all features shosen here because using questionnaires, severity 1 was always chosen\n",
    "y=data_0_1['Severity']  # Labels\n",
    "X_train, X_test, y_train, y_test = train_test_split(X, y, \n",
    "                                                    test_size=0.2, \n",
    "                                                    random_state=0, \n",
    "                                                    shuffle=True, \n",
    "                                                    stratify=y)\n",
    " # Data needs to be scaled\n",
    "scaler = StandardScaler()  \n",
    "    # Scale only on training data\n",
    "scaler.fit(X_train)  \n",
    "X_train = scaler.transform(X_train)  \n",
    "    # apply same transformation to test data\n",
    "X_test = scaler.transform(X_test)  \n",
    "    \n",
    "clf=MLPClassifier(random_state=0, early_stopping=True)  #defining classifier method\n",
    "clf.fit(X_train,y_train)                   # training classifier \n",
    "    \n",
    "# Prediction \n",
    "predictions = clf.predict(X_test)"
   ]
  },
  {
   "cell_type": "code",
   "execution_count": 32,
   "metadata": {},
   "outputs": [
    {
     "data": {
      "image/png": "[encoded data removed]",
      "text/plain": [
       "<Figure size 1152x504 with 2 Axes>"
      ]
     },
     "metadata": {},
     "output_type": "display_data"
    }
   ],
   "source": [
    "matrix = confusion_matrix(y_test, predictions)\n",
    "matrix = matrix.astype('float') / matrix.sum(axis=1)[:, np.newaxis]\n",
    "\n",
    "# Build the plot\n",
    "plt.figure(figsize=(16,7))\n",
    "sns.set(font_scale=1.4)\n",
    "sns.heatmap(matrix, annot=True, annot_kws={'size':10},\n",
    "            cmap=plt.cm.Greens, linewidths=0.2)\n",
    "\n",
    "# Add labels to the plot\n",
    "class_names = ['0', '1']\n",
    "tick_marks = np.arange(len(class_names))\n",
    "tick_marks2 = tick_marks + 0.5\n",
    "plt.xticks(tick_marks, class_names, rotation=25)\n",
    "plt.yticks(tick_marks2, class_names, rotation=0)\n",
    "plt.xlabel('Predicted label')\n",
    "plt.ylabel('True label')\n",
    "plt.title('Confusion Matrix for MLP Model')\n",
    "plt.show()"
   ]
  },
  {
   "cell_type": "markdown",
   "metadata": {},
   "source": [
    "### SVM"
   ]
  },
  {
   "cell_type": "code",
   "execution_count": 21,
   "metadata": {},
   "outputs": [
    {
     "name": "stderr",
     "output_type": "stream",
     "text": [
      "C:\\ProgramData\\Anaconda3\\lib\\site-packages\\sklearn\\svm\\base.py:931: ConvergenceWarning: Liblinear failed to converge, increase the number of iterations.\n",
      "  \"the number of iterations.\", ConvergenceWarning)\n",
      "C:\\ProgramData\\Anaconda3\\lib\\site-packages\\sklearn\\svm\\base.py:931: ConvergenceWarning: Liblinear failed to converge, increase the number of iterations.\n",
      "  \"the number of iterations.\", ConvergenceWarning)\n"
     ]
    }
   ],
   "source": [
    "accuracy, precision, recall = {}, {}, {}\n",
    "\n",
    "for key in feature_list.keys():\n",
    "    \n",
    "    # Define X and y test/ train/ split\n",
    "    X=data_0_1[feature_list[key]]  # Features  \n",
    "    y=data_0_1['Severity']  # Labels\n",
    "    X_train, X_test, y_train, y_test = train_test_split(X, y, \n",
    "                                                    test_size=0.2, \n",
    "                                                    random_state=0, \n",
    "                                                    shuffle=True, \n",
    "                                                    stratify=y)\n",
    "    # Data needs to be scaled\n",
    "    scaler = StandardScaler()  \n",
    "    # Scale only on training data\n",
    "    scaler.fit(X_train)  \n",
    "    X_train = scaler.transform(X_train)  \n",
    "    # apply same transformation to test data\n",
    "    X_test = scaler.transform(X_test) \n",
    "    \n",
    "    clf=LinearSVC(class_weight='balanced', random_state = 0, max_iter = 5000)  #defining classifier method\n",
    "    clf.fit(X_train,y_train)                   # training classifier \n",
    "    \n",
    "    # Prediction \n",
    "    predictions = clf.predict(X_test)\n",
    "    \n",
    "    # Calculate Accuracy, Precision and Recall Metrics\n",
    "    accuracy[key] = balanced_accuracy_score(predictions, y_test) \n",
    "    precision[key] = precision_score(predictions, y_test, average='weighted')\n",
    "    recall[key] = recall_score(predictions, y_test, average='weighted')"
   ]
  },
  {
   "cell_type": "code",
   "execution_count": 22,
   "metadata": {},
   "outputs": [
    {
     "data": {
      "text/html": [
       "<div>\n",
       "<style scoped>\n",
       "    .dataframe tbody tr th:only-of-type {\n",
       "        vertical-align: middle;\n",
       "    }\n",
       "\n",
       "    .dataframe tbody tr th {\n",
       "        vertical-align: top;\n",
       "    }\n",
       "\n",
       "    .dataframe thead th {\n",
       "        text-align: right;\n",
       "    }\n",
       "</style>\n",
       "<table border=\"1\" class=\"dataframe\">\n",
       "  <thead>\n",
       "    <tr style=\"text-align: right;\">\n",
       "      <th></th>\n",
       "      <th>Balanced Accuracy</th>\n",
       "      <th>Precision</th>\n",
       "      <th>Recall</th>\n",
       "    </tr>\n",
       "  </thead>\n",
       "  <tbody>\n",
       "    <tr>\n",
       "      <th>All</th>\n",
       "      <td>0.608560</td>\n",
       "      <td>0.616758</td>\n",
       "      <td>0.613291</td>\n",
       "    </tr>\n",
       "    <tr>\n",
       "      <th>Wu</th>\n",
       "      <td>0.587481</td>\n",
       "      <td>0.594214</td>\n",
       "      <td>0.592405</td>\n",
       "    </tr>\n",
       "    <tr>\n",
       "      <th>Mencar</th>\n",
       "      <td>0.541041</td>\n",
       "      <td>0.557184</td>\n",
       "      <td>0.564557</td>\n",
       "    </tr>\n",
       "    <tr>\n",
       "      <th>Ustun</th>\n",
       "      <td>0.595617</td>\n",
       "      <td>0.602937</td>\n",
       "      <td>0.599367</td>\n",
       "    </tr>\n",
       "    <tr>\n",
       "      <th>Huang</th>\n",
       "      <td>0.598889</td>\n",
       "      <td>0.606412</td>\n",
       "      <td>0.603797</td>\n",
       "    </tr>\n",
       "    <tr>\n",
       "      <th>Rodruiges</th>\n",
       "      <td>0.593819</td>\n",
       "      <td>0.600991</td>\n",
       "      <td>0.598734</td>\n",
       "    </tr>\n",
       "    <tr>\n",
       "      <th>Demographic</th>\n",
       "      <td>0.587481</td>\n",
       "      <td>0.594214</td>\n",
       "      <td>0.592405</td>\n",
       "    </tr>\n",
       "    <tr>\n",
       "      <th>Measurements</th>\n",
       "      <td>0.569401</td>\n",
       "      <td>0.574911</td>\n",
       "      <td>0.574684</td>\n",
       "    </tr>\n",
       "    <tr>\n",
       "      <th>Comorbidities</th>\n",
       "      <td>0.532644</td>\n",
       "      <td>0.602331</td>\n",
       "      <td>0.477215</td>\n",
       "    </tr>\n",
       "    <tr>\n",
       "      <th>Symptoms</th>\n",
       "      <td>0.553669</td>\n",
       "      <td>0.559169</td>\n",
       "      <td>0.548734</td>\n",
       "    </tr>\n",
       "    <tr>\n",
       "      <th>Questionnaires</th>\n",
       "      <td>0.503140</td>\n",
       "      <td>0.503755</td>\n",
       "      <td>0.506962</td>\n",
       "    </tr>\n",
       "  </tbody>\n",
       "</table>\n",
       "</div>"
      ],
      "text/plain": [
       "                Balanced Accuracy  Precision    Recall\n",
       "All                      0.608560   0.616758  0.613291\n",
       "Wu                       0.587481   0.594214  0.592405\n",
       "Mencar                   0.541041   0.557184  0.564557\n",
       "Ustun                    0.595617   0.602937  0.599367\n",
       "Huang                    0.598889   0.606412  0.603797\n",
       "Rodruiges                0.593819   0.600991  0.598734\n",
       "Demographic              0.587481   0.594214  0.592405\n",
       "Measurements             0.569401   0.574911  0.574684\n",
       "Comorbidities            0.532644   0.602331  0.477215\n",
       "Symptoms                 0.553669   0.559169  0.548734\n",
       "Questionnaires           0.503140   0.503755  0.506962"
      ]
     },
     "execution_count": 22,
     "metadata": {},
     "output_type": "execute_result"
    }
   ],
   "source": [
    "df_model = pd.DataFrame(index=feature_list.keys())\n",
    "df_model['Balanced Accuracy'] = accuracy.values()\n",
    "df_model['Precision'] = precision.values()\n",
    "df_model['Recall'] = recall.values()\n",
    "\n",
    "df_model"
   ]
  },
  {
   "cell_type": "markdown",
   "metadata": {},
   "source": [
    "##### Confusion matrix for model with highest balanced accuracy"
   ]
  },
  {
   "cell_type": "code",
   "execution_count": 33,
   "metadata": {},
   "outputs": [
    {
     "name": "stderr",
     "output_type": "stream",
     "text": [
      "C:\\ProgramData\\Anaconda3\\lib\\site-packages\\sklearn\\svm\\base.py:931: ConvergenceWarning: Liblinear failed to converge, increase the number of iterations.\n",
      "  \"the number of iterations.\", ConvergenceWarning)\n"
     ]
    }
   ],
   "source": [
    "X=data_0_1[features]  # Features  \n",
    "y=data_0_1['Severity']  # Labels\n",
    "X_train, X_test, y_train, y_test = train_test_split(X, y, \n",
    "                                                    test_size=0.2, \n",
    "                                                    random_state=0, \n",
    "                                                    shuffle=True, \n",
    "                                                    stratify=y)\n",
    " # Data needs to be scaled\n",
    "scaler = StandardScaler()  \n",
    "    # Scale only on training data\n",
    "scaler.fit(X_train)  \n",
    "X_train = scaler.transform(X_train)  \n",
    "    # apply same transformation to test data\n",
    "X_test = scaler.transform(X_test)  \n",
    "\n",
    "clf=LinearSVC(class_weight='balanced', random_state = 0, max_iter = 5000)  #defining classifier method\n",
    "clf.fit(X_train,y_train)                   # training classifier \n",
    "    \n",
    "# Prediction \n",
    "predictions = clf.predict(X_test)"
   ]
  },
  {
   "cell_type": "code",
   "execution_count": 34,
   "metadata": {},
   "outputs": [
    {
     "data": {
      "image/png": "[encoded data removed]",
      "text/plain": [
       "<Figure size 1152x504 with 2 Axes>"
      ]
     },
     "metadata": {},
     "output_type": "display_data"
    }
   ],
   "source": [
    "matrix = confusion_matrix(y_test, predictions)\n",
    "matrix = matrix.astype('float') / matrix.sum(axis=1)[:, np.newaxis]\n",
    "\n",
    "# Build the plot\n",
    "plt.figure(figsize=(16,7))\n",
    "sns.set(font_scale=1.4)\n",
    "sns.heatmap(matrix, annot=True, annot_kws={'size':10},\n",
    "            cmap=plt.cm.Greens, linewidths=0.2)\n",
    "\n",
    "# Add labels to the plot\n",
    "class_names = ['0', '1']\n",
    "tick_marks = np.arange(len(class_names))\n",
    "tick_marks2 = tick_marks + 0.5\n",
    "plt.xticks(tick_marks, class_names, rotation=25)\n",
    "plt.yticks(tick_marks2, class_names, rotation=0)\n",
    "plt.xlabel('Predicted label')\n",
    "plt.ylabel('True label')\n",
    "plt.title('Confusion Matrix for SVM Model')\n",
    "plt.show()"
   ]
  },
  {
   "cell_type": "markdown",
   "metadata": {},
   "source": [
    "### Naive Bayes"
   ]
  },
  {
   "cell_type": "code",
   "execution_count": 23,
   "metadata": {},
   "outputs": [],
   "source": [
    "accuracy, precision, recall = {}, {}, {}\n",
    "\n",
    "for key in feature_list.keys():\n",
    "    \n",
    "    # Define X and y test/ train/ split\n",
    "    X=data_0_1[feature_list[key]]  # Features  \n",
    "    y=data_0_1['Severity']  # Labels\n",
    "    X_train, X_test, y_train, y_test = train_test_split(X, y, \n",
    "                                                    test_size=0.2, \n",
    "                                                    random_state=0, \n",
    "                                                    shuffle=True, \n",
    "                                                    stratify=y)\n",
    "    clf=GaussianNB()  #defining classifier method\n",
    "    clf.fit(X_train,y_train)                   # training classifier \n",
    "    \n",
    "    # Prediction \n",
    "    predictions = clf.predict(X_test)\n",
    "    \n",
    "    # Calculate Accuracy, Precision and Recall Metrics\n",
    "    accuracy[key] = balanced_accuracy_score(predictions, y_test) \n",
    "    precision[key] = precision_score(predictions, y_test, average='weighted')\n",
    "    recall[key] = recall_score(predictions, y_test, average='weighted')"
   ]
  },
  {
   "cell_type": "code",
   "execution_count": 24,
   "metadata": {},
   "outputs": [
    {
     "data": {
      "text/html": [
       "<div>\n",
       "<style scoped>\n",
       "    .dataframe tbody tr th:only-of-type {\n",
       "        vertical-align: middle;\n",
       "    }\n",
       "\n",
       "    .dataframe tbody tr th {\n",
       "        vertical-align: top;\n",
       "    }\n",
       "\n",
       "    .dataframe thead th {\n",
       "        text-align: right;\n",
       "    }\n",
       "</style>\n",
       "<table border=\"1\" class=\"dataframe\">\n",
       "  <thead>\n",
       "    <tr style=\"text-align: right;\">\n",
       "      <th></th>\n",
       "      <th>Balanced Accuracy</th>\n",
       "      <th>Precision</th>\n",
       "      <th>Recall</th>\n",
       "    </tr>\n",
       "  </thead>\n",
       "  <tbody>\n",
       "    <tr>\n",
       "      <th>All</th>\n",
       "      <td>0.559195</td>\n",
       "      <td>0.632181</td>\n",
       "      <td>0.498734</td>\n",
       "    </tr>\n",
       "    <tr>\n",
       "      <th>Wu</th>\n",
       "      <td>0.599624</td>\n",
       "      <td>0.713701</td>\n",
       "      <td>0.644937</td>\n",
       "    </tr>\n",
       "    <tr>\n",
       "      <th>Mencar</th>\n",
       "      <td>0.568933</td>\n",
       "      <td>0.993255</td>\n",
       "      <td>0.637342</td>\n",
       "    </tr>\n",
       "    <tr>\n",
       "      <th>Ustun</th>\n",
       "      <td>0.588744</td>\n",
       "      <td>0.662857</td>\n",
       "      <td>0.631646</td>\n",
       "    </tr>\n",
       "    <tr>\n",
       "      <th>Huang</th>\n",
       "      <td>0.561491</td>\n",
       "      <td>0.856043</td>\n",
       "      <td>0.632911</td>\n",
       "    </tr>\n",
       "    <tr>\n",
       "      <th>Rodruiges</th>\n",
       "      <td>0.597387</td>\n",
       "      <td>0.716646</td>\n",
       "      <td>0.643671</td>\n",
       "    </tr>\n",
       "    <tr>\n",
       "      <th>Demographic</th>\n",
       "      <td>0.572407</td>\n",
       "      <td>0.811332</td>\n",
       "      <td>0.634810</td>\n",
       "    </tr>\n",
       "    <tr>\n",
       "      <th>Measurements</th>\n",
       "      <td>0.568994</td>\n",
       "      <td>0.657979</td>\n",
       "      <td>0.617722</td>\n",
       "    </tr>\n",
       "    <tr>\n",
       "      <th>Comorbidities</th>\n",
       "      <td>0.529821</td>\n",
       "      <td>0.718527</td>\n",
       "      <td>0.432278</td>\n",
       "    </tr>\n",
       "    <tr>\n",
       "      <th>Symptoms</th>\n",
       "      <td>0.517636</td>\n",
       "      <td>0.859597</td>\n",
       "      <td>0.620886</td>\n",
       "    </tr>\n",
       "    <tr>\n",
       "      <th>Questionnaires</th>\n",
       "      <td>0.518730</td>\n",
       "      <td>0.993877</td>\n",
       "      <td>0.636709</td>\n",
       "    </tr>\n",
       "  </tbody>\n",
       "</table>\n",
       "</div>"
      ],
      "text/plain": [
       "                Balanced Accuracy  Precision    Recall\n",
       "All                      0.559195   0.632181  0.498734\n",
       "Wu                       0.599624   0.713701  0.644937\n",
       "Mencar                   0.568933   0.993255  0.637342\n",
       "Ustun                    0.588744   0.662857  0.631646\n",
       "Huang                    0.561491   0.856043  0.632911\n",
       "Rodruiges                0.597387   0.716646  0.643671\n",
       "Demographic              0.572407   0.811332  0.634810\n",
       "Measurements             0.568994   0.657979  0.617722\n",
       "Comorbidities            0.529821   0.718527  0.432278\n",
       "Symptoms                 0.517636   0.859597  0.620886\n",
       "Questionnaires           0.518730   0.993877  0.636709"
      ]
     },
     "execution_count": 24,
     "metadata": {},
     "output_type": "execute_result"
    }
   ],
   "source": [
    "df_model = pd.DataFrame(index=feature_list.keys())\n",
    "df_model['Balanced Accuracy'] = accuracy.values()\n",
    "df_model['Precision'] = precision.values()\n",
    "df_model['Recall'] = recall.values()\n",
    "\n",
    "df_model"
   ]
  },
  {
   "cell_type": "markdown",
   "metadata": {},
   "source": [
    "##### Confusion matrix for model with highest balanced accuracy"
   ]
  },
  {
   "cell_type": "code",
   "execution_count": 35,
   "metadata": {},
   "outputs": [],
   "source": [
    "X=data_0_1[wu]  # Features  \n",
    "y=data_0_1['Severity']  # Labels\n",
    "X_train, X_test, y_train, y_test = train_test_split(X, y, \n",
    "                                                    test_size=0.2, \n",
    "                                                    random_state=0, \n",
    "                                                    shuffle=True, \n",
    "                                                    stratify=y)\n",
    "clf=GaussianNB()  #defining classifier method\n",
    "clf.fit(X_train,y_train)                   # training classifier \n",
    "    \n",
    "# Prediction \n",
    "predictions = clf.predict(X_test)"
   ]
  },
  {
   "cell_type": "code",
   "execution_count": 37,
   "metadata": {},
   "outputs": [
    {
     "data": {
      "image/png": "[encoded data removed]",
      "text/plain": [
       "<Figure size 1152x504 with 2 Axes>"
      ]
     },
     "metadata": {},
     "output_type": "display_data"
    }
   ],
   "source": [
    "matrix = confusion_matrix(y_test, predictions)\n",
    "matrix = matrix.astype('float') / matrix.sum(axis=1)[:, np.newaxis]\n",
    "\n",
    "# Build the plot\n",
    "plt.figure(figsize=(16,7))\n",
    "sns.set(font_scale=1.4)\n",
    "sns.heatmap(matrix, annot=True, annot_kws={'size':10},\n",
    "            cmap=plt.cm.Greens, linewidths=0.2)\n",
    "\n",
    "# Add labels to the plot\n",
    "class_names = ['0', '1']\n",
    "tick_marks = np.arange(len(class_names))\n",
    "tick_marks2 = tick_marks + 0.5\n",
    "plt.xticks(tick_marks, class_names, rotation=25)\n",
    "plt.yticks(tick_marks2, class_names, rotation=0)\n",
    "plt.xlabel('Predicted label')\n",
    "plt.ylabel('True label')\n",
    "plt.title('Confusion Matrix for Naive Bayes Model')\n",
    "plt.show()"
   ]
  },
  {
   "cell_type": "markdown",
   "metadata": {},
   "source": [
    "### Logistic Regression"
   ]
  },
  {
   "cell_type": "code",
   "execution_count": 25,
   "metadata": {},
   "outputs": [],
   "source": [
    "accuracy, precision, recall = {}, {}, {}\n",
    "\n",
    "for key in feature_list.keys():\n",
    "    \n",
    "    # Define X and y test/ train/ split\n",
    "    X=data_0_1[feature_list[key]]  # Features  \n",
    "    y=data_0_1['Severity']  # Labels\n",
    "    X_train, X_test, y_train, y_test = train_test_split(X, y, \n",
    "                                                    test_size=0.2, \n",
    "                                                    random_state=0, \n",
    "                                                    shuffle=True, \n",
    "                                                    stratify=y)\n",
    "    clf=LogisticRegression(class_weight='balanced', random_state = 0, solver = 'lbfgs', max_iter = 5000)  #defining classifier method\n",
    "    clf.fit(X_train,y_train)                   # training classifier \n",
    "    \n",
    "    # Prediction \n",
    "    predictions = clf.predict(X_test)\n",
    "    \n",
    "    # Calculate Accuracy, Precision and Recall Metrics\n",
    "    accuracy[key] = balanced_accuracy_score(predictions, y_test) \n",
    "    precision[key] = precision_score(predictions, y_test, average='weighted')\n",
    "    recall[key] = recall_score(predictions, y_test, average='weighted')"
   ]
  },
  {
   "cell_type": "code",
   "execution_count": 26,
   "metadata": {},
   "outputs": [
    {
     "data": {
      "text/html": [
       "<div>\n",
       "<style scoped>\n",
       "    .dataframe tbody tr th:only-of-type {\n",
       "        vertical-align: middle;\n",
       "    }\n",
       "\n",
       "    .dataframe tbody tr th {\n",
       "        vertical-align: top;\n",
       "    }\n",
       "\n",
       "    .dataframe thead th {\n",
       "        text-align: right;\n",
       "    }\n",
       "</style>\n",
       "<table border=\"1\" class=\"dataframe\">\n",
       "  <thead>\n",
       "    <tr style=\"text-align: right;\">\n",
       "      <th></th>\n",
       "      <th>Balanced Accuracy</th>\n",
       "      <th>Precision</th>\n",
       "      <th>Recall</th>\n",
       "    </tr>\n",
       "  </thead>\n",
       "  <tbody>\n",
       "    <tr>\n",
       "      <th>All</th>\n",
       "      <td>0.607622</td>\n",
       "      <td>0.615769</td>\n",
       "      <td>0.612025</td>\n",
       "    </tr>\n",
       "    <tr>\n",
       "      <th>Wu</th>\n",
       "      <td>0.587481</td>\n",
       "      <td>0.594214</td>\n",
       "      <td>0.592405</td>\n",
       "    </tr>\n",
       "    <tr>\n",
       "      <th>Mencar</th>\n",
       "      <td>0.541041</td>\n",
       "      <td>0.557184</td>\n",
       "      <td>0.564557</td>\n",
       "    </tr>\n",
       "    <tr>\n",
       "      <th>Ustun</th>\n",
       "      <td>0.593549</td>\n",
       "      <td>0.600713</td>\n",
       "      <td>0.597468</td>\n",
       "    </tr>\n",
       "    <tr>\n",
       "      <th>Huang</th>\n",
       "      <td>0.599358</td>\n",
       "      <td>0.606913</td>\n",
       "      <td>0.604430</td>\n",
       "    </tr>\n",
       "    <tr>\n",
       "      <th>Rodruiges</th>\n",
       "      <td>0.593819</td>\n",
       "      <td>0.600991</td>\n",
       "      <td>0.598734</td>\n",
       "    </tr>\n",
       "    <tr>\n",
       "      <th>Demographic</th>\n",
       "      <td>0.587814</td>\n",
       "      <td>0.594562</td>\n",
       "      <td>0.592405</td>\n",
       "    </tr>\n",
       "    <tr>\n",
       "      <th>Measurements</th>\n",
       "      <td>0.556045</td>\n",
       "      <td>0.561321</td>\n",
       "      <td>0.552532</td>\n",
       "    </tr>\n",
       "    <tr>\n",
       "      <th>Comorbidities</th>\n",
       "      <td>0.531232</td>\n",
       "      <td>0.598239</td>\n",
       "      <td>0.477215</td>\n",
       "    </tr>\n",
       "    <tr>\n",
       "      <th>Symptoms</th>\n",
       "      <td>0.554124</td>\n",
       "      <td>0.559606</td>\n",
       "      <td>0.549367</td>\n",
       "    </tr>\n",
       "    <tr>\n",
       "      <th>Questionnaires</th>\n",
       "      <td>0.503140</td>\n",
       "      <td>0.503755</td>\n",
       "      <td>0.506962</td>\n",
       "    </tr>\n",
       "  </tbody>\n",
       "</table>\n",
       "</div>"
      ],
      "text/plain": [
       "                Balanced Accuracy  Precision    Recall\n",
       "All                      0.607622   0.615769  0.612025\n",
       "Wu                       0.587481   0.594214  0.592405\n",
       "Mencar                   0.541041   0.557184  0.564557\n",
       "Ustun                    0.593549   0.600713  0.597468\n",
       "Huang                    0.599358   0.606913  0.604430\n",
       "Rodruiges                0.593819   0.600991  0.598734\n",
       "Demographic              0.587814   0.594562  0.592405\n",
       "Measurements             0.556045   0.561321  0.552532\n",
       "Comorbidities            0.531232   0.598239  0.477215\n",
       "Symptoms                 0.554124   0.559606  0.549367\n",
       "Questionnaires           0.503140   0.503755  0.506962"
      ]
     },
     "execution_count": 26,
     "metadata": {},
     "output_type": "execute_result"
    }
   ],
   "source": [
    "df_model = pd.DataFrame(index=feature_list.keys())\n",
    "df_model['Balanced Accuracy'] = accuracy.values()\n",
    "df_model['Precision'] = precision.values()\n",
    "df_model['Recall'] = recall.values()\n",
    "\n",
    "df_model"
   ]
  },
  {
   "cell_type": "markdown",
   "metadata": {},
   "source": [
    "##### Confusion matrix for model with highest balanced accuracy"
   ]
  },
  {
   "cell_type": "code",
   "execution_count": 38,
   "metadata": {},
   "outputs": [],
   "source": [
    "X=data_0_1[features]  # Features  \n",
    "y=data_0_1['Severity']  # Labels\n",
    "X_train, X_test, y_train, y_test = train_test_split(X, y, \n",
    "                                                    test_size=0.2, \n",
    "                                                    random_state=0, \n",
    "                                                    shuffle=True, \n",
    "                                                    stratify=y)\n",
    "clf=LogisticRegression(class_weight='balanced', random_state = 0, solver = 'lbfgs', max_iter = 5000)  #defining classifier method\n",
    "clf.fit(X_train,y_train)                   # training classifier \n",
    "    \n",
    "# Prediction \n",
    "predictions = clf.predict(X_test)"
   ]
  },
  {
   "cell_type": "code",
   "execution_count": 39,
   "metadata": {},
   "outputs": [
    {
     "data": {
      "image/png": "[encoded data removed]",
      "text/plain": [
       "<Figure size 1152x504 with 2 Axes>"
      ]
     },
     "metadata": {},
     "output_type": "display_data"
    }
   ],
   "source": [
    "matrix = confusion_matrix(y_test, predictions)\n",
    "matrix = matrix.astype('float') / matrix.sum(axis=1)[:, np.newaxis]\n",
    "\n",
    "# Build the plot\n",
    "plt.figure(figsize=(16,7))\n",
    "sns.set(font_scale=1.4)\n",
    "sns.heatmap(matrix, annot=True, annot_kws={'size':10},\n",
    "            cmap=plt.cm.Greens, linewidths=0.2)\n",
    "\n",
    "# Add labels to the plot\n",
    "class_names = ['0', '1']\n",
    "tick_marks = np.arange(len(class_names))\n",
    "tick_marks2 = tick_marks + 0.5\n",
    "plt.xticks(tick_marks, class_names, rotation=25)\n",
    "plt.yticks(tick_marks2, class_names, rotation=0)\n",
    "plt.xlabel('Predicted label')\n",
    "plt.ylabel('True label')\n",
    "plt.title('Confusion Matrix for Logistic Regression Model')\n",
    "plt.show()"
   ]
  },
  {
   "cell_type": "code",
   "execution_count": null,
   "metadata": {},
   "outputs": [],
   "source": []
  }
 ],
 "metadata": {
  "kernelspec": {
   "display_name": "Python 3",
   "language": "python",
   "name": "python3"
  },
  "language_info": {
   "codemirror_mode": {
    "name": "ipython",
    "version": 3
   },
   "file_extension": ".py",
   "mimetype": "text/x-python",
   "name": "python",
   "nbconvert_exporter": "python",
   "pygments_lexer": "ipython3",
   "version": "3.7.3"
  }
 },
 "nbformat": 4,
 "nbformat_minor": 5
}
