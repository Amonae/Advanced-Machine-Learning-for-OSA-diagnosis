{
 "cells": [
  {
   "cell_type": "markdown",
   "id": "754b8cd1",
   "metadata": {},
   "source": [
    "## Based on https://www.tensorflow.org/tutorials/load_data/csv"
   ]
  },
  {
   "cell_type": "code",
   "execution_count": 1,
   "id": "5a1f75d7",
   "metadata": {},
   "outputs": [],
   "source": [
    "import pandas as pd\n",
    "import numpy as np\n",
    "\n",
    "import tensorflow as tf\n",
    "from tensorflow.keras import layers\n",
    "\n",
    "from sklearn.model_selection import train_test_split\n",
    "from sklearn.preprocessing import MinMaxScaler \n",
    "\n",
    "from sklearn.metrics import classification_report\n",
    "import matplotlib.pyplot as plt\n",
    "import seaborn as sns\n",
    "from sklearn.metrics import confusion_matrix"
   ]
  },
  {
   "cell_type": "code",
   "execution_count": 2,
   "id": "4d719926",
   "metadata": {},
   "outputs": [],
   "source": [
    "data = pd.read_csv(\"OSA_complete_patients.csv\", index_col = 0)"
   ]
  },
  {
   "cell_type": "code",
   "execution_count": 3,
   "id": "e97a3e86",
   "metadata": {},
   "outputs": [
    {
     "data": {
      "text/html": [
       "<div>\n",
       "<style scoped>\n",
       "    .dataframe tbody tr th:only-of-type {\n",
       "        vertical-align: middle;\n",
       "    }\n",
       "\n",
       "    .dataframe tbody tr th {\n",
       "        vertical-align: top;\n",
       "    }\n",
       "\n",
       "    .dataframe thead th {\n",
       "        text-align: right;\n",
       "    }\n",
       "</style>\n",
       "<table border=\"1\" class=\"dataframe\">\n",
       "  <thead>\n",
       "    <tr style=\"text-align: right;\">\n",
       "      <th></th>\n",
       "      <th>PatientID</th>\n",
       "      <th>Sex</th>\n",
       "      <th>Age</th>\n",
       "      <th>Current_smoker</th>\n",
       "      <th>Former_smoker</th>\n",
       "      <th>Sedentary</th>\n",
       "      <th>Height</th>\n",
       "      <th>Weight</th>\n",
       "      <th>Cervical_perimeter</th>\n",
       "      <th>Abdominal_perimeter</th>\n",
       "      <th>...</th>\n",
       "      <th>Nocturnal_perspiration</th>\n",
       "      <th>Shortness_of_breath_on_exertion</th>\n",
       "      <th>Nocturia</th>\n",
       "      <th>Drowsiness_accident</th>\n",
       "      <th>Near_miss_accident</th>\n",
       "      <th>Respiratory_arrest</th>\n",
       "      <th>Epworth_scale</th>\n",
       "      <th>Pichots_scale</th>\n",
       "      <th>Depression_scale</th>\n",
       "      <th>Severity</th>\n",
       "    </tr>\n",
       "  </thead>\n",
       "  <tbody>\n",
       "    <tr>\n",
       "      <th>39</th>\n",
       "      <td>23</td>\n",
       "      <td>2.0</td>\n",
       "      <td>57.883641</td>\n",
       "      <td>0.0</td>\n",
       "      <td>0.0</td>\n",
       "      <td>0.0</td>\n",
       "      <td>172.0</td>\n",
       "      <td>90.0</td>\n",
       "      <td>45.0</td>\n",
       "      <td>125.0</td>\n",
       "      <td>...</td>\n",
       "      <td>0.0</td>\n",
       "      <td>0.0</td>\n",
       "      <td>1.0</td>\n",
       "      <td>0.0</td>\n",
       "      <td>0.0</td>\n",
       "      <td>0.0</td>\n",
       "      <td>3.0</td>\n",
       "      <td>4.0</td>\n",
       "      <td>5.0</td>\n",
       "      <td>3</td>\n",
       "    </tr>\n",
       "    <tr>\n",
       "      <th>41</th>\n",
       "      <td>24</td>\n",
       "      <td>2.0</td>\n",
       "      <td>60.796715</td>\n",
       "      <td>0.0</td>\n",
       "      <td>0.0</td>\n",
       "      <td>0.0</td>\n",
       "      <td>156.0</td>\n",
       "      <td>85.0</td>\n",
       "      <td>35.0</td>\n",
       "      <td>113.0</td>\n",
       "      <td>...</td>\n",
       "      <td>0.0</td>\n",
       "      <td>1.0</td>\n",
       "      <td>1.0</td>\n",
       "      <td>0.0</td>\n",
       "      <td>0.0</td>\n",
       "      <td>1.0</td>\n",
       "      <td>19.0</td>\n",
       "      <td>17.0</td>\n",
       "      <td>4.0</td>\n",
       "      <td>3</td>\n",
       "    </tr>\n",
       "    <tr>\n",
       "      <th>46</th>\n",
       "      <td>28</td>\n",
       "      <td>1.0</td>\n",
       "      <td>63.438741</td>\n",
       "      <td>0.0</td>\n",
       "      <td>0.0</td>\n",
       "      <td>0.0</td>\n",
       "      <td>178.0</td>\n",
       "      <td>68.0</td>\n",
       "      <td>35.0</td>\n",
       "      <td>73.0</td>\n",
       "      <td>...</td>\n",
       "      <td>0.0</td>\n",
       "      <td>0.0</td>\n",
       "      <td>1.0</td>\n",
       "      <td>0.0</td>\n",
       "      <td>0.0</td>\n",
       "      <td>1.0</td>\n",
       "      <td>5.0</td>\n",
       "      <td>3.0</td>\n",
       "      <td>0.0</td>\n",
       "      <td>1</td>\n",
       "    </tr>\n",
       "    <tr>\n",
       "      <th>55</th>\n",
       "      <td>32</td>\n",
       "      <td>1.0</td>\n",
       "      <td>28.736482</td>\n",
       "      <td>0.0</td>\n",
       "      <td>0.0</td>\n",
       "      <td>0.0</td>\n",
       "      <td>180.0</td>\n",
       "      <td>69.0</td>\n",
       "      <td>36.0</td>\n",
       "      <td>83.0</td>\n",
       "      <td>...</td>\n",
       "      <td>0.0</td>\n",
       "      <td>0.0</td>\n",
       "      <td>0.0</td>\n",
       "      <td>0.0</td>\n",
       "      <td>0.0</td>\n",
       "      <td>0.0</td>\n",
       "      <td>2.0</td>\n",
       "      <td>0.0</td>\n",
       "      <td>0.0</td>\n",
       "      <td>0</td>\n",
       "    </tr>\n",
       "    <tr>\n",
       "      <th>56</th>\n",
       "      <td>33</td>\n",
       "      <td>1.0</td>\n",
       "      <td>56.802190</td>\n",
       "      <td>0.0</td>\n",
       "      <td>0.0</td>\n",
       "      <td>0.0</td>\n",
       "      <td>185.0</td>\n",
       "      <td>118.0</td>\n",
       "      <td>43.0</td>\n",
       "      <td>106.0</td>\n",
       "      <td>...</td>\n",
       "      <td>0.0</td>\n",
       "      <td>0.0</td>\n",
       "      <td>0.0</td>\n",
       "      <td>0.0</td>\n",
       "      <td>0.0</td>\n",
       "      <td>1.0</td>\n",
       "      <td>12.0</td>\n",
       "      <td>13.0</td>\n",
       "      <td>2.0</td>\n",
       "      <td>3</td>\n",
       "    </tr>\n",
       "  </tbody>\n",
       "</table>\n",
       "<p>5 rows × 51 columns</p>\n",
       "</div>"
      ],
      "text/plain": [
       "    PatientID  Sex        Age  Current_smoker  Former_smoker  Sedentary  \\\n",
       "39         23  2.0  57.883641             0.0            0.0        0.0   \n",
       "41         24  2.0  60.796715             0.0            0.0        0.0   \n",
       "46         28  1.0  63.438741             0.0            0.0        0.0   \n",
       "55         32  1.0  28.736482             0.0            0.0        0.0   \n",
       "56         33  1.0  56.802190             0.0            0.0        0.0   \n",
       "\n",
       "    Height  Weight  Cervical_perimeter  Abdominal_perimeter  ...  \\\n",
       "39   172.0    90.0                45.0                125.0  ...   \n",
       "41   156.0    85.0                35.0                113.0  ...   \n",
       "46   178.0    68.0                35.0                 73.0  ...   \n",
       "55   180.0    69.0                36.0                 83.0  ...   \n",
       "56   185.0   118.0                43.0                106.0  ...   \n",
       "\n",
       "    Nocturnal_perspiration  Shortness_of_breath_on_exertion  Nocturia  \\\n",
       "39                     0.0                              0.0       1.0   \n",
       "41                     0.0                              1.0       1.0   \n",
       "46                     0.0                              0.0       1.0   \n",
       "55                     0.0                              0.0       0.0   \n",
       "56                     0.0                              0.0       0.0   \n",
       "\n",
       "    Drowsiness_accident  Near_miss_accident  Respiratory_arrest  \\\n",
       "39                  0.0                 0.0                 0.0   \n",
       "41                  0.0                 0.0                 1.0   \n",
       "46                  0.0                 0.0                 1.0   \n",
       "55                  0.0                 0.0                 0.0   \n",
       "56                  0.0                 0.0                 1.0   \n",
       "\n",
       "    Epworth_scale  Pichots_scale  Depression_scale  Severity  \n",
       "39            3.0            4.0               5.0         3  \n",
       "41           19.0           17.0               4.0         3  \n",
       "46            5.0            3.0               0.0         1  \n",
       "55            2.0            0.0               0.0         0  \n",
       "56           12.0           13.0               2.0         3  \n",
       "\n",
       "[5 rows x 51 columns]"
      ]
     },
     "execution_count": 3,
     "metadata": {},
     "output_type": "execute_result"
    }
   ],
   "source": [
    "data.head()"
   ]
  },
  {
   "cell_type": "markdown",
   "id": "a7ad7bc0",
   "metadata": {},
   "source": [
    "### One hot encoding the class labels "
   ]
  },
  {
   "cell_type": "code",
   "execution_count": 4,
   "id": "aef93a8b",
   "metadata": {},
   "outputs": [
    {
     "data": {
      "text/html": [
       "<div>\n",
       "<style scoped>\n",
       "    .dataframe tbody tr th:only-of-type {\n",
       "        vertical-align: middle;\n",
       "    }\n",
       "\n",
       "    .dataframe tbody tr th {\n",
       "        vertical-align: top;\n",
       "    }\n",
       "\n",
       "    .dataframe thead th {\n",
       "        text-align: right;\n",
       "    }\n",
       "</style>\n",
       "<table border=\"1\" class=\"dataframe\">\n",
       "  <thead>\n",
       "    <tr style=\"text-align: right;\">\n",
       "      <th></th>\n",
       "      <th>PatientID</th>\n",
       "      <th>Sex</th>\n",
       "      <th>Age</th>\n",
       "      <th>Current_smoker</th>\n",
       "      <th>Former_smoker</th>\n",
       "      <th>Sedentary</th>\n",
       "      <th>Height</th>\n",
       "      <th>Weight</th>\n",
       "      <th>Cervical_perimeter</th>\n",
       "      <th>Abdominal_perimeter</th>\n",
       "      <th>...</th>\n",
       "      <th>Near_miss_accident</th>\n",
       "      <th>Respiratory_arrest</th>\n",
       "      <th>Epworth_scale</th>\n",
       "      <th>Pichots_scale</th>\n",
       "      <th>Depression_scale</th>\n",
       "      <th>Severity</th>\n",
       "      <th>0</th>\n",
       "      <th>1</th>\n",
       "      <th>2</th>\n",
       "      <th>3</th>\n",
       "    </tr>\n",
       "  </thead>\n",
       "  <tbody>\n",
       "    <tr>\n",
       "      <th>39</th>\n",
       "      <td>23</td>\n",
       "      <td>2.0</td>\n",
       "      <td>57.883641</td>\n",
       "      <td>0.0</td>\n",
       "      <td>0.0</td>\n",
       "      <td>0.0</td>\n",
       "      <td>172.0</td>\n",
       "      <td>90.0</td>\n",
       "      <td>45.0</td>\n",
       "      <td>125.0</td>\n",
       "      <td>...</td>\n",
       "      <td>0.0</td>\n",
       "      <td>0.0</td>\n",
       "      <td>3.0</td>\n",
       "      <td>4.0</td>\n",
       "      <td>5.0</td>\n",
       "      <td>3</td>\n",
       "      <td>0.0</td>\n",
       "      <td>0.0</td>\n",
       "      <td>0.0</td>\n",
       "      <td>1.0</td>\n",
       "    </tr>\n",
       "    <tr>\n",
       "      <th>41</th>\n",
       "      <td>24</td>\n",
       "      <td>2.0</td>\n",
       "      <td>60.796715</td>\n",
       "      <td>0.0</td>\n",
       "      <td>0.0</td>\n",
       "      <td>0.0</td>\n",
       "      <td>156.0</td>\n",
       "      <td>85.0</td>\n",
       "      <td>35.0</td>\n",
       "      <td>113.0</td>\n",
       "      <td>...</td>\n",
       "      <td>0.0</td>\n",
       "      <td>1.0</td>\n",
       "      <td>19.0</td>\n",
       "      <td>17.0</td>\n",
       "      <td>4.0</td>\n",
       "      <td>3</td>\n",
       "      <td>0.0</td>\n",
       "      <td>0.0</td>\n",
       "      <td>0.0</td>\n",
       "      <td>1.0</td>\n",
       "    </tr>\n",
       "    <tr>\n",
       "      <th>46</th>\n",
       "      <td>28</td>\n",
       "      <td>1.0</td>\n",
       "      <td>63.438741</td>\n",
       "      <td>0.0</td>\n",
       "      <td>0.0</td>\n",
       "      <td>0.0</td>\n",
       "      <td>178.0</td>\n",
       "      <td>68.0</td>\n",
       "      <td>35.0</td>\n",
       "      <td>73.0</td>\n",
       "      <td>...</td>\n",
       "      <td>0.0</td>\n",
       "      <td>1.0</td>\n",
       "      <td>5.0</td>\n",
       "      <td>3.0</td>\n",
       "      <td>0.0</td>\n",
       "      <td>1</td>\n",
       "      <td>0.0</td>\n",
       "      <td>1.0</td>\n",
       "      <td>0.0</td>\n",
       "      <td>0.0</td>\n",
       "    </tr>\n",
       "    <tr>\n",
       "      <th>55</th>\n",
       "      <td>32</td>\n",
       "      <td>1.0</td>\n",
       "      <td>28.736482</td>\n",
       "      <td>0.0</td>\n",
       "      <td>0.0</td>\n",
       "      <td>0.0</td>\n",
       "      <td>180.0</td>\n",
       "      <td>69.0</td>\n",
       "      <td>36.0</td>\n",
       "      <td>83.0</td>\n",
       "      <td>...</td>\n",
       "      <td>0.0</td>\n",
       "      <td>0.0</td>\n",
       "      <td>2.0</td>\n",
       "      <td>0.0</td>\n",
       "      <td>0.0</td>\n",
       "      <td>0</td>\n",
       "      <td>1.0</td>\n",
       "      <td>0.0</td>\n",
       "      <td>0.0</td>\n",
       "      <td>0.0</td>\n",
       "    </tr>\n",
       "    <tr>\n",
       "      <th>56</th>\n",
       "      <td>33</td>\n",
       "      <td>1.0</td>\n",
       "      <td>56.802190</td>\n",
       "      <td>0.0</td>\n",
       "      <td>0.0</td>\n",
       "      <td>0.0</td>\n",
       "      <td>185.0</td>\n",
       "      <td>118.0</td>\n",
       "      <td>43.0</td>\n",
       "      <td>106.0</td>\n",
       "      <td>...</td>\n",
       "      <td>0.0</td>\n",
       "      <td>1.0</td>\n",
       "      <td>12.0</td>\n",
       "      <td>13.0</td>\n",
       "      <td>2.0</td>\n",
       "      <td>3</td>\n",
       "      <td>0.0</td>\n",
       "      <td>0.0</td>\n",
       "      <td>0.0</td>\n",
       "      <td>1.0</td>\n",
       "    </tr>\n",
       "    <tr>\n",
       "      <th>...</th>\n",
       "      <td>...</td>\n",
       "      <td>...</td>\n",
       "      <td>...</td>\n",
       "      <td>...</td>\n",
       "      <td>...</td>\n",
       "      <td>...</td>\n",
       "      <td>...</td>\n",
       "      <td>...</td>\n",
       "      <td>...</td>\n",
       "      <td>...</td>\n",
       "      <td>...</td>\n",
       "      <td>...</td>\n",
       "      <td>...</td>\n",
       "      <td>...</td>\n",
       "      <td>...</td>\n",
       "      <td>...</td>\n",
       "      <td>...</td>\n",
       "      <td>...</td>\n",
       "      <td>...</td>\n",
       "      <td>...</td>\n",
       "      <td>...</td>\n",
       "    </tr>\n",
       "    <tr>\n",
       "      <th>190460</th>\n",
       "      <td>111385</td>\n",
       "      <td>2.0</td>\n",
       "      <td>53.596167</td>\n",
       "      <td>0.0</td>\n",
       "      <td>0.0</td>\n",
       "      <td>1.0</td>\n",
       "      <td>164.0</td>\n",
       "      <td>88.0</td>\n",
       "      <td>37.0</td>\n",
       "      <td>92.0</td>\n",
       "      <td>...</td>\n",
       "      <td>0.0</td>\n",
       "      <td>0.0</td>\n",
       "      <td>2.0</td>\n",
       "      <td>14.0</td>\n",
       "      <td>4.0</td>\n",
       "      <td>1</td>\n",
       "      <td>0.0</td>\n",
       "      <td>1.0</td>\n",
       "      <td>0.0</td>\n",
       "      <td>0.0</td>\n",
       "    </tr>\n",
       "    <tr>\n",
       "      <th>190467</th>\n",
       "      <td>111392</td>\n",
       "      <td>1.0</td>\n",
       "      <td>72.539357</td>\n",
       "      <td>0.0</td>\n",
       "      <td>1.0</td>\n",
       "      <td>1.0</td>\n",
       "      <td>167.0</td>\n",
       "      <td>67.0</td>\n",
       "      <td>39.0</td>\n",
       "      <td>89.0</td>\n",
       "      <td>...</td>\n",
       "      <td>0.0</td>\n",
       "      <td>1.0</td>\n",
       "      <td>4.0</td>\n",
       "      <td>1.0</td>\n",
       "      <td>0.0</td>\n",
       "      <td>3</td>\n",
       "      <td>0.0</td>\n",
       "      <td>0.0</td>\n",
       "      <td>0.0</td>\n",
       "      <td>1.0</td>\n",
       "    </tr>\n",
       "    <tr>\n",
       "      <th>190469</th>\n",
       "      <td>111394</td>\n",
       "      <td>2.0</td>\n",
       "      <td>46.986995</td>\n",
       "      <td>0.0</td>\n",
       "      <td>1.0</td>\n",
       "      <td>1.0</td>\n",
       "      <td>158.0</td>\n",
       "      <td>56.0</td>\n",
       "      <td>35.0</td>\n",
       "      <td>89.0</td>\n",
       "      <td>...</td>\n",
       "      <td>1.0</td>\n",
       "      <td>0.0</td>\n",
       "      <td>15.0</td>\n",
       "      <td>24.0</td>\n",
       "      <td>6.0</td>\n",
       "      <td>1</td>\n",
       "      <td>0.0</td>\n",
       "      <td>1.0</td>\n",
       "      <td>0.0</td>\n",
       "      <td>0.0</td>\n",
       "    </tr>\n",
       "    <tr>\n",
       "      <th>190502</th>\n",
       "      <td>111424</td>\n",
       "      <td>2.0</td>\n",
       "      <td>75.698836</td>\n",
       "      <td>0.0</td>\n",
       "      <td>1.0</td>\n",
       "      <td>0.0</td>\n",
       "      <td>150.0</td>\n",
       "      <td>68.0</td>\n",
       "      <td>36.0</td>\n",
       "      <td>96.0</td>\n",
       "      <td>...</td>\n",
       "      <td>0.0</td>\n",
       "      <td>0.0</td>\n",
       "      <td>5.0</td>\n",
       "      <td>16.0</td>\n",
       "      <td>8.0</td>\n",
       "      <td>3</td>\n",
       "      <td>0.0</td>\n",
       "      <td>0.0</td>\n",
       "      <td>0.0</td>\n",
       "      <td>1.0</td>\n",
       "    </tr>\n",
       "    <tr>\n",
       "      <th>190525</th>\n",
       "      <td>111444</td>\n",
       "      <td>2.0</td>\n",
       "      <td>70.370979</td>\n",
       "      <td>0.0</td>\n",
       "      <td>0.0</td>\n",
       "      <td>1.0</td>\n",
       "      <td>155.0</td>\n",
       "      <td>67.0</td>\n",
       "      <td>35.0</td>\n",
       "      <td>100.0</td>\n",
       "      <td>...</td>\n",
       "      <td>0.0</td>\n",
       "      <td>0.0</td>\n",
       "      <td>2.0</td>\n",
       "      <td>7.0</td>\n",
       "      <td>3.0</td>\n",
       "      <td>3</td>\n",
       "      <td>0.0</td>\n",
       "      <td>0.0</td>\n",
       "      <td>0.0</td>\n",
       "      <td>1.0</td>\n",
       "    </tr>\n",
       "  </tbody>\n",
       "</table>\n",
       "<p>21818 rows × 55 columns</p>\n",
       "</div>"
      ],
      "text/plain": [
       "        PatientID  Sex        Age  Current_smoker  Former_smoker  Sedentary  \\\n",
       "39             23  2.0  57.883641             0.0            0.0        0.0   \n",
       "41             24  2.0  60.796715             0.0            0.0        0.0   \n",
       "46             28  1.0  63.438741             0.0            0.0        0.0   \n",
       "55             32  1.0  28.736482             0.0            0.0        0.0   \n",
       "56             33  1.0  56.802190             0.0            0.0        0.0   \n",
       "...           ...  ...        ...             ...            ...        ...   \n",
       "190460     111385  2.0  53.596167             0.0            0.0        1.0   \n",
       "190467     111392  1.0  72.539357             0.0            1.0        1.0   \n",
       "190469     111394  2.0  46.986995             0.0            1.0        1.0   \n",
       "190502     111424  2.0  75.698836             0.0            1.0        0.0   \n",
       "190525     111444  2.0  70.370979             0.0            0.0        1.0   \n",
       "\n",
       "        Height  Weight  Cervical_perimeter  Abdominal_perimeter  ...  \\\n",
       "39       172.0    90.0                45.0                125.0  ...   \n",
       "41       156.0    85.0                35.0                113.0  ...   \n",
       "46       178.0    68.0                35.0                 73.0  ...   \n",
       "55       180.0    69.0                36.0                 83.0  ...   \n",
       "56       185.0   118.0                43.0                106.0  ...   \n",
       "...        ...     ...                 ...                  ...  ...   \n",
       "190460   164.0    88.0                37.0                 92.0  ...   \n",
       "190467   167.0    67.0                39.0                 89.0  ...   \n",
       "190469   158.0    56.0                35.0                 89.0  ...   \n",
       "190502   150.0    68.0                36.0                 96.0  ...   \n",
       "190525   155.0    67.0                35.0                100.0  ...   \n",
       "\n",
       "        Near_miss_accident  Respiratory_arrest  Epworth_scale  Pichots_scale  \\\n",
       "39                     0.0                 0.0            3.0            4.0   \n",
       "41                     0.0                 1.0           19.0           17.0   \n",
       "46                     0.0                 1.0            5.0            3.0   \n",
       "55                     0.0                 0.0            2.0            0.0   \n",
       "56                     0.0                 1.0           12.0           13.0   \n",
       "...                    ...                 ...            ...            ...   \n",
       "190460                 0.0                 0.0            2.0           14.0   \n",
       "190467                 0.0                 1.0            4.0            1.0   \n",
       "190469                 1.0                 0.0           15.0           24.0   \n",
       "190502                 0.0                 0.0            5.0           16.0   \n",
       "190525                 0.0                 0.0            2.0            7.0   \n",
       "\n",
       "        Depression_scale  Severity    0    1    2    3  \n",
       "39                   5.0         3  0.0  0.0  0.0  1.0  \n",
       "41                   4.0         3  0.0  0.0  0.0  1.0  \n",
       "46                   0.0         1  0.0  1.0  0.0  0.0  \n",
       "55                   0.0         0  1.0  0.0  0.0  0.0  \n",
       "56                   2.0         3  0.0  0.0  0.0  1.0  \n",
       "...                  ...       ...  ...  ...  ...  ...  \n",
       "190460               4.0         1  0.0  1.0  0.0  0.0  \n",
       "190467               0.0         3  0.0  0.0  0.0  1.0  \n",
       "190469               6.0         1  0.0  1.0  0.0  0.0  \n",
       "190502               8.0         3  0.0  0.0  0.0  1.0  \n",
       "190525               3.0         3  0.0  0.0  0.0  1.0  \n",
       "\n",
       "[21818 rows x 55 columns]"
      ]
     },
     "execution_count": 4,
     "metadata": {},
     "output_type": "execute_result"
    }
   ],
   "source": [
    "from sklearn.preprocessing import OneHotEncoder\n",
    "\n",
    "# creating instance of one-hot-encoder\n",
    "enc = OneHotEncoder(handle_unknown='ignore')\n",
    "\n",
    "# passing severoty column (label encoded values of severities)\n",
    "enc_df = pd.DataFrame(enc.fit_transform(data[['Severity']]).toarray(), index = data.index)\n",
    "\n",
    "\n",
    "# merge with main df bridge_df on key values\n",
    "data2 = pd.concat([data, enc_df], axis = 1)\n",
    "data2"
   ]
  },
  {
   "cell_type": "code",
   "execution_count": 5,
   "id": "129f2320",
   "metadata": {},
   "outputs": [
    {
     "data": {
      "text/plain": [
       "(21818, 4)"
      ]
     },
     "execution_count": 5,
     "metadata": {},
     "output_type": "execute_result"
    }
   ],
   "source": [
    "enc_df.shape"
   ]
  },
  {
   "cell_type": "code",
   "execution_count": 6,
   "id": "7c1202e9",
   "metadata": {},
   "outputs": [],
   "source": [
    "features = ['Sex', 'Age', 'Current_smoker', 'Former_smoker',\n",
    "       'Sedentary', 'Height', 'Weight', 'Cervical_perimeter',\n",
    "       'Abdominal_perimeter', 'Systolic_BP', 'Diastolic_BP',\n",
    "       'Maxillofacial_profile', 'BMI', 'High_BP', 'Asthma', 'Rhinitis', 'COPD',\n",
    "       'Respiratory_fail', 'Myocardial_infarct', 'Coronary_fail',\n",
    "       'Arrhythmias', 'Stroke', 'Heart_fail', 'Arteriopathy', 'Gastric_reflux',\n",
    "       'Glaucoma', 'Diabetes', 'Hypercholesterolemia', 'Hypertriglyceridemia',\n",
    "       'Hypo(er)thyroidism', 'Depression', 'Obesity', 'Dysmorphology',\n",
    "       'Restless_Leg_Syndrome', 'Snoring', 'Diurnal_somnolence',\n",
    "       'Driving_drowsiness', 'Morning_fatigue', 'Morning_headache',\n",
    "       'Memory_problem', 'Nocturnal_perspiration',\n",
    "       'Shortness_of_breath_on_exertion', 'Nocturia', 'Drowsiness_accident',\n",
    "       'Near_miss_accident', 'Respiratory_arrest', 'Epworth_scale',\n",
    "       'Pichots_scale', 'Depression_scale']\n",
    "\n",
    "continuous = ['Age','Height','Weight','Cervical_perimeter','Abdominal_perimeter','Systolic_BP','Diastolic_BP',\n",
    "              'BMI','Epworth_scale','Pichots_scale','Depression_scale']"
   ]
  },
  {
   "cell_type": "code",
   "execution_count": 7,
   "id": "87886b13",
   "metadata": {},
   "outputs": [],
   "source": [
    "X=data[features]  # Features  \n",
    "y=data['Severity']  # Labels\n",
    "X_train, X_test, y_train, y_test = train_test_split(X, y, \n",
    "                                                    test_size=0.2, \n",
    "                                                    random_state=0, \n",
    "                                                    shuffle=True, \n",
    "                                                    stratify=y)"
   ]
  },
  {
   "cell_type": "code",
   "execution_count": 8,
   "id": "e2143473",
   "metadata": {},
   "outputs": [],
   "source": [
    "scaler = MinMaxScaler()  \n",
    "    # Scale only on training data\n",
    "scaler.fit(X_train)  \n",
    "X_train = scaler.transform(X_train)  \n",
    "    # apply same transformation to test data\n",
    "X_test = scaler.transform(X_test) "
   ]
  },
  {
   "cell_type": "code",
   "execution_count": 9,
   "id": "2d5aa428",
   "metadata": {},
   "outputs": [
    {
     "name": "stdout",
     "output_type": "stream",
     "text": [
      "(17454, 49) (4364, 49)\n"
     ]
    }
   ],
   "source": [
    "print(X_train.shape, X_test.shape)"
   ]
  },
  {
   "cell_type": "markdown",
   "id": "33d94caa",
   "metadata": {},
   "source": [
    "### LSTM"
   ]
  },
  {
   "cell_type": "code",
   "execution_count": 10,
   "id": "3c28082c",
   "metadata": {},
   "outputs": [],
   "source": [
    "model = tf.keras.models.Sequential()\n",
    "model.add(tf.keras.layers.LSTM(128, activation = 'relu', return_sequences = True))\n",
    "model.add(tf.keras.layers.Dropout(0.2))\n",
    "model.add(tf.keras.layers.LSTM(128, activation = 'relu'))\n",
    "model.add(tf.keras.layers.Dropout(0.2))\n",
    "model.add(tf.keras.layers.Dense(128, activation = 'relu')) \n",
    "model.add(tf.keras.layers.Dropout(0.2))\n",
    "model.add(tf.keras.layers.Dense(4, activation = 'softmax')) \n"
   ]
  },
  {
   "cell_type": "code",
   "execution_count": 11,
   "id": "6e06f152",
   "metadata": {},
   "outputs": [
    {
     "data": {
      "text/plain": [
       "(17454, 49)"
      ]
     },
     "execution_count": 11,
     "metadata": {},
     "output_type": "execute_result"
    }
   ],
   "source": [
    "X_train.shape"
   ]
  },
  {
   "cell_type": "code",
   "execution_count": 12,
   "id": "12626f14",
   "metadata": {},
   "outputs": [],
   "source": [
    "X_train_lstm = X_train.reshape(X_train.shape[0],1,49) # LSTM requires a 3D array in the format: (# samples, timesteps, # features)\n",
    "\n",
    "X_test_lstm = X_test.reshape(X_test.shape[0], 1, 49)"
   ]
  },
  {
   "cell_type": "code",
   "execution_count": 13,
   "id": "a4c42c55",
   "metadata": {},
   "outputs": [
    {
     "data": {
      "text/plain": [
       "(17454, 1, 49)"
      ]
     },
     "execution_count": 13,
     "metadata": {},
     "output_type": "execute_result"
    }
   ],
   "source": [
    "X_train_lstm.shape"
   ]
  },
  {
   "cell_type": "code",
   "execution_count": 14,
   "id": "72c0a31e",
   "metadata": {},
   "outputs": [
    {
     "name": "stdout",
     "output_type": "stream",
     "text": [
      "Epoch 1/10\n"
     ]
    },
    {
     "name": "stderr",
     "output_type": "stream",
     "text": [
      "C:\\Users\\amona\\anaconda3\\lib\\site-packages\\keras\\optimizers\\optimizer_v2\\adam.py:110: UserWarning: The `lr` argument is deprecated, use `learning_rate` instead.\n",
      "  super(Adam, self).__init__(name, **kwargs)\n"
     ]
    },
    {
     "name": "stdout",
     "output_type": "stream",
     "text": [
      "546/546 [==============================] - 8s 6ms/step - loss: 1.3799 - accuracy: 0.3982\n",
      "Epoch 2/10\n",
      "546/546 [==============================] - 3s 6ms/step - loss: 1.3636 - accuracy: 0.4023\n",
      "Epoch 3/10\n",
      "546/546 [==============================] - 3s 6ms/step - loss: 1.3365 - accuracy: 0.4023\n",
      "Epoch 4/10\n",
      "546/546 [==============================] - 3s 6ms/step - loss: 1.3093 - accuracy: 0.4023\n",
      "Epoch 5/10\n",
      "546/546 [==============================] - 4s 7ms/step - loss: 1.2967 - accuracy: 0.4023\n",
      "Epoch 6/10\n",
      "546/546 [==============================] - 4s 6ms/step - loss: 1.2894 - accuracy: 0.4023\n",
      "Epoch 7/10\n",
      "546/546 [==============================] - 3s 6ms/step - loss: 1.2841 - accuracy: 0.4023\n",
      "Epoch 8/10\n",
      "546/546 [==============================] - 4s 7ms/step - loss: 1.2782 - accuracy: 0.4023\n",
      "Epoch 9/10\n",
      "546/546 [==============================] - 3s 6ms/step - loss: 1.2724 - accuracy: 0.4023\n",
      "Epoch 10/10\n",
      "546/546 [==============================] - 3s 6ms/step - loss: 1.2680 - accuracy: 0.4023\n"
     ]
    },
    {
     "data": {
      "text/plain": [
       "<keras.callbacks.History at 0x24d7aba2ee0>"
      ]
     },
     "execution_count": 14,
     "metadata": {},
     "output_type": "execute_result"
    }
   ],
   "source": [
    "opt = tf.keras.optimizers.Adam(lr = 1e-5, decay = 1e-5)  # the optimizer settings can have a large impact. Decay, decreases the learning rate\n",
    "model.compile(optimizer = opt, loss = 'sparse_categorical_crossentropy', metrics = ['accuracy'])\n",
    "model.fit(X_train_lstm, y_train, epochs = 10)\n"
   ]
  },
  {
   "cell_type": "code",
   "execution_count": 15,
   "id": "7b373efd",
   "metadata": {},
   "outputs": [
    {
     "name": "stdout",
     "output_type": "stream",
     "text": [
      "137/137 [==============================] - 1s 3ms/step - loss: 1.2647 - accuracy: 0.4024\n"
     ]
    }
   ],
   "source": [
    "val_loss, val_acc = model.evaluate(X_test_lstm, y_test)"
   ]
  },
  {
   "cell_type": "markdown",
   "id": "0c07ba63",
   "metadata": {},
   "source": [
    "### SimpleRNN"
   ]
  },
  {
   "cell_type": "code",
   "execution_count": 16,
   "id": "7574b928",
   "metadata": {},
   "outputs": [
    {
     "name": "stdout",
     "output_type": "stream",
     "text": [
      "Epoch 1/10\n",
      "546/546 [==============================] - 3s 3ms/step - loss: 1.3748 - accuracy: 0.3446\n",
      "Epoch 2/10\n",
      "546/546 [==============================] - 1s 2ms/step - loss: 1.3637 - accuracy: 0.3648\n",
      "Epoch 3/10\n",
      "546/546 [==============================] - 1s 2ms/step - loss: 1.3543 - accuracy: 0.3792\n",
      "Epoch 4/10\n",
      "546/546 [==============================] - 1s 3ms/step - loss: 1.3463 - accuracy: 0.3854\n",
      "Epoch 5/10\n",
      "546/546 [==============================] - 1s 2ms/step - loss: 1.3395 - accuracy: 0.3899\n",
      "Epoch 6/10\n",
      "546/546 [==============================] - 1s 2ms/step - loss: 1.3336 - accuracy: 0.3934\n",
      "Epoch 7/10\n",
      "546/546 [==============================] - 1s 2ms/step - loss: 1.3285 - accuracy: 0.3956\n",
      "Epoch 8/10\n",
      "546/546 [==============================] - 1s 2ms/step - loss: 1.3241 - accuracy: 0.3977\n",
      "Epoch 9/10\n",
      "546/546 [==============================] - 1s 2ms/step - loss: 1.3202 - accuracy: 0.3988\n",
      "Epoch 10/10\n",
      "546/546 [==============================] - 1s 2ms/step - loss: 1.3168 - accuracy: 0.4000\n"
     ]
    },
    {
     "data": {
      "text/plain": [
       "<keras.callbacks.History at 0x24d7f405c40>"
      ]
     },
     "execution_count": 16,
     "metadata": {},
     "output_type": "execute_result"
    }
   ],
   "source": [
    "model = tf.keras.models.Sequential()\n",
    "model.add(tf.keras.layers.SimpleRNN(12, activation = 'tanh'))\n",
    "model.add(tf.keras.layers.Dense(12, activation = 'relu')) \n",
    "model.add(tf.keras.layers.Dense(4, activation = 'softmax')) \n",
    "\n",
    "\n",
    "opt = tf.keras.optimizers.Adam(lr = 1e-5, decay = 1e-5)  # the optimizer settings can have a large impact. Decay, decreases the learning rate\n",
    "model.compile(optimizer = opt, loss = 'sparse_categorical_crossentropy', metrics = ['accuracy'])\n",
    "model.fit(X_train_lstm, y_train, epochs = 10)"
   ]
  },
  {
   "cell_type": "code",
   "execution_count": 17,
   "id": "69ad15df",
   "metadata": {},
   "outputs": [
    {
     "name": "stdout",
     "output_type": "stream",
     "text": [
      "137/137 [==============================] - 1s 2ms/step - loss: 1.3162 - accuracy: 0.4001\n"
     ]
    }
   ],
   "source": [
    "val_loss, val_acc = model.evaluate(X_test_lstm, y_test)"
   ]
  },
  {
   "cell_type": "code",
   "execution_count": null,
   "id": "f0fb1511",
   "metadata": {},
   "outputs": [],
   "source": []
  },
  {
   "cell_type": "markdown",
   "id": "9f87515d",
   "metadata": {},
   "source": [
    "## Hyperparameter optimization simple RNN\n",
    "from https://towardsdatascience.com/hyperparameter-optimization-with-keras-b82e6364ca53\n",
    "\n",
    "https://nbviewer.org/github/autonomio/talos/blob/master/examples/Hyperparameter%20Optimization%20with%20Keras%20for%20the%20Iris%20Prediction.ipynb"
   ]
  },
  {
   "cell_type": "code",
   "execution_count": 18,
   "id": "86114d73",
   "metadata": {},
   "outputs": [],
   "source": [
    "import talos\n",
    "%matplotlib inline\n",
    "\n",
    "from talos.utils import lr_normalizer\n",
    "\n",
    "from tensorflow.keras.models import Sequential\n",
    "from tensorflow.keras.layers import Dropout, Dense, SimpleRNN, LSTM\n",
    "\n",
    "from tensorflow.keras.optimizers import Adam, Nadam\n",
    "from tensorflow.keras.activations import softmax\n",
    "from tensorflow.keras.losses import categorical_crossentropy, logcosh\n"
   ]
  },
  {
   "cell_type": "markdown",
   "id": "8e2326a1",
   "metadata": {},
   "source": [
    "#### Preprocessing data"
   ]
  },
  {
   "cell_type": "code",
   "execution_count": 19,
   "id": "8daab160",
   "metadata": {},
   "outputs": [
    {
     "data": {
      "text/plain": [
       "array([[1.        , 0.4246951 , 0.        , ..., 0.125     , 0.125     ,\n",
       "        0.38461538],\n",
       "       [1.        , 0.45573904, 0.        , ..., 0.79166667, 0.53125   ,\n",
       "        0.30769231],\n",
       "       [0.        , 0.4838945 , 0.        , ..., 0.20833333, 0.09375   ,\n",
       "        0.        ],\n",
       "       ...,\n",
       "       [1.        , 0.3085721 , 0.        , ..., 0.625     , 0.75      ,\n",
       "        0.46153846],\n",
       "       [1.        , 0.61454747, 0.        , ..., 0.20833333, 0.5       ,\n",
       "        0.61538462],\n",
       "       [1.        , 0.55776974, 0.        , ..., 0.08333333, 0.21875   ,\n",
       "        0.23076923]])"
      ]
     },
     "execution_count": 19,
     "metadata": {},
     "output_type": "execute_result"
    }
   ],
   "source": [
    "mm = MinMaxScaler(feature_range = (0, 1))  \n",
    "    # Scale only on training data\n",
    "mm.fit(data[features])  \n",
    "x = mm.transform(data[features])  \n",
    " \n",
    "\n",
    "x"
   ]
  },
  {
   "cell_type": "code",
   "execution_count": 20,
   "id": "2f4292a7",
   "metadata": {},
   "outputs": [
    {
     "data": {
      "text/plain": [
       "array([[0., 0., 0., 1.],\n",
       "       [0., 0., 0., 1.],\n",
       "       [0., 1., 0., 0.],\n",
       "       ...,\n",
       "       [0., 1., 0., 0.],\n",
       "       [0., 0., 0., 1.],\n",
       "       [0., 0., 0., 1.]])"
      ]
     },
     "execution_count": 20,
     "metadata": {},
     "output_type": "execute_result"
    }
   ],
   "source": [
    "y = enc_df.to_numpy()\n",
    "y\n",
    "\n",
    "# the talos example used arrays for x and y, and y was one-hot encoded. "
   ]
  },
  {
   "cell_type": "code",
   "execution_count": 21,
   "id": "dc110623",
   "metadata": {},
   "outputs": [],
   "source": [
    "x = x.reshape(x.shape[0],1,49) # LSTM requires a 3D array in the format: (# samples, timesteps, # features)"
   ]
  },
  {
   "cell_type": "markdown",
   "id": "43d28139",
   "metadata": {},
   "source": [
    "### Model preparation"
   ]
  },
  {
   "cell_type": "code",
   "execution_count": 22,
   "id": "5b08f883",
   "metadata": {},
   "outputs": [],
   "source": [
    "def OSA_model(x_train, y_train, x_val, y_val, params):\n",
    "    \n",
    "    model = Sequential()                            \n",
    "    model.add(SimpleRNN(params['first_neuron'],\n",
    "                    activation=params['first_activation']))\n",
    "    \n",
    "    model.add(Dense(params['first_neuron'],\n",
    "                    input_dim=x_train.shape[1],\n",
    "                    activation=params['second_activation']))\n",
    "    \n",
    "    model.add(Dense(y_train.shape[1],\n",
    "                    activation=params['last_activation']))\n",
    "\n",
    "    model.compile(optimizer=params['optimizer'](lr=lr_normalizer(params['lr'], params['optimizer'])),\n",
    "                  loss=params['loss'],\n",
    "                  metrics=['acc'])\n",
    "\n",
    "    out = model.fit(x_train, y_train,\n",
    "                    batch_size=params['batch_size'],\n",
    "                    epochs=params['epochs'],\n",
    "                    verbose=1,\n",
    "                    validation_data=[x_val, y_val])\n",
    "    \n",
    "    return out, model"
   ]
  },
  {
   "cell_type": "markdown",
   "id": "2d80765a",
   "metadata": {},
   "source": [
    "### Parameters"
   ]
  },
  {
   "cell_type": "code",
   "execution_count": 24,
   "id": "d56136ab",
   "metadata": {},
   "outputs": [],
   "source": [
    "p = {'lr': [0.001, 0.01, 0.1],\n",
    "     'first_neuron':[4, 8, 16, 32, 64, 128],\n",
    "     'batch_size': [5, 10, 20, 32],\n",
    "     'epochs': [3],\n",
    "     'optimizer': [Adam, Nadam],\n",
    "     'loss': ['categorical_crossentropy'],\n",
    "     'first_activation': ['softmax', 'softplus', 'softsign', 'relu', 'tanh', 'sigmoid', 'hard_sigmoid', 'linear'],\n",
    "     'second_activation': ['softmax', 'softplus', 'softsign', 'relu', 'tanh', 'sigmoid', 'hard_sigmoid', 'linear'],\n",
    "     'last_activation': ['softmax']}"
   ]
  },
  {
   "cell_type": "markdown",
   "id": "58f4e5c4",
   "metadata": {},
   "source": [
    "### Run the Hyperparameter Scan() \n",
    "\n",
    "the documentation for this function is here:\n",
    "https://github.com/autonomio/talos/blob/master/talos/scan/Scan.py"
   ]
  },
  {
   "cell_type": "code",
   "execution_count": 25,
   "id": "bc13256c",
   "metadata": {},
   "outputs": [
    {
     "name": "stderr",
     "output_type": "stream",
     "text": [
      "\r",
      "  0%|                                                                                            | 0/9 [00:00<?, ?it/s]"
     ]
    },
    {
     "name": "stdout",
     "output_type": "stream",
     "text": [
      "Epoch 1/3\n",
      "478/478 [==============================] - 4s 4ms/step - loss: 1.3731 - acc: 0.2825 - val_loss: 1.3717 - val_acc: 0.2866\n",
      "Epoch 2/3\n",
      "478/478 [==============================] - 1s 3ms/step - loss: 1.3718 - acc: 0.2893 - val_loss: 1.3704 - val_acc: 0.2922\n",
      "Epoch 3/3\n",
      "478/478 [==============================] - 1s 3ms/step - loss: 1.3705 - acc: 0.2962 - val_loss: 1.3691 - val_acc: 0.3014\n"
     ]
    },
    {
     "name": "stderr",
     "output_type": "stream",
     "text": [
      "\r",
      " 11%|█████████▎                                                                          | 1/9 [00:07<00:57,  7.13s/it]"
     ]
    },
    {
     "name": "stdout",
     "output_type": "stream",
     "text": [
      "Epoch 1/3\n",
      "764/764 [==============================] - 5s 4ms/step - loss: 1.4361 - acc: 0.3577 - val_loss: 1.3135 - val_acc: 0.4025\n",
      "Epoch 2/3\n",
      "764/764 [==============================] - 2s 3ms/step - loss: 1.3103 - acc: 0.4022 - val_loss: 1.3064 - val_acc: 0.4025\n",
      "Epoch 3/3\n",
      "764/764 [==============================] - 3s 3ms/step - loss: 1.3076 - acc: 0.4022 - val_loss: 1.3047 - val_acc: 0.4025\n"
     ]
    },
    {
     "name": "stderr",
     "output_type": "stream",
     "text": [
      "\r",
      " 22%|██████████████████▋                                                                 | 2/9 [00:17<01:04,  9.19s/it]"
     ]
    },
    {
     "name": "stdout",
     "output_type": "stream",
     "text": [
      "Epoch 1/3\n",
      "3055/3055 [==============================] - 10s 3ms/step - loss: 1.4024 - acc: 0.3167 - val_loss: 1.4029 - val_acc: 0.3226\n",
      "Epoch 2/3\n",
      "3055/3055 [==============================] - 9s 3ms/step - loss: 1.3854 - acc: 0.3379 - val_loss: 1.3871 - val_acc: 0.3428\n",
      "Epoch 3/3\n",
      "3055/3055 [==============================] - 8s 3ms/step - loss: 1.3716 - acc: 0.3548 - val_loss: 1.3741 - val_acc: 0.3599\n"
     ]
    },
    {
     "name": "stderr",
     "output_type": "stream",
     "text": [
      "\r",
      " 33%|████████████████████████████                                                        | 3/9 [00:45<01:45, 17.64s/it]"
     ]
    },
    {
     "name": "stdout",
     "output_type": "stream",
     "text": [
      "Epoch 1/3\n",
      "3055/3055 [==============================] - 9s 3ms/step - loss: 1.6348 - acc: 0.2323 - val_loss: 1.5733 - val_acc: 0.2435\n",
      "Epoch 2/3\n",
      "3055/3055 [==============================] - 7s 2ms/step - loss: 1.5583 - acc: 0.2323 - val_loss: 1.5100 - val_acc: 0.2435\n",
      "Epoch 3/3\n",
      "3055/3055 [==============================] - 8s 3ms/step - loss: 1.5011 - acc: 0.2323 - val_loss: 1.4629 - val_acc: 0.2435\n"
     ]
    },
    {
     "name": "stderr",
     "output_type": "stream",
     "text": [
      "\r",
      " 44%|█████████████████████████████████████▎                                              | 4/9 [01:10<01:42, 20.46s/it]"
     ]
    },
    {
     "name": "stdout",
     "output_type": "stream",
     "text": [
      "Epoch 1/3\n",
      "764/764 [==============================] - 4s 3ms/step - loss: 1.3808 - acc: 0.2371 - val_loss: 1.3766 - val_acc: 0.2527\n",
      "Epoch 2/3\n",
      "764/764 [==============================] - 2s 3ms/step - loss: 1.3777 - acc: 0.2432 - val_loss: 1.3735 - val_acc: 0.2625\n",
      "Epoch 3/3\n",
      "764/764 [==============================] - 2s 3ms/step - loss: 1.3746 - acc: 0.2508 - val_loss: 1.3705 - val_acc: 0.2698\n"
     ]
    },
    {
     "name": "stderr",
     "output_type": "stream",
     "text": [
      "\r",
      " 56%|██████████████████████████████████████████████▋                                     | 5/9 [01:18<01:04, 16.22s/it]"
     ]
    },
    {
     "name": "stdout",
     "output_type": "stream",
     "text": [
      "Epoch 1/3\n",
      "764/764 [==============================] - 4s 3ms/step - loss: 1.3735 - acc: 0.2331 - val_loss: 1.3747 - val_acc: 0.2255\n",
      "Epoch 2/3\n",
      "764/764 [==============================] - 2s 3ms/step - loss: 1.3722 - acc: 0.2331 - val_loss: 1.3733 - val_acc: 0.2255\n",
      "Epoch 3/3\n",
      "764/764 [==============================] - 2s 3ms/step - loss: 1.3708 - acc: 0.2331 - val_loss: 1.3719 - val_acc: 0.2255\n"
     ]
    },
    {
     "name": "stderr",
     "output_type": "stream",
     "text": [
      "\r",
      " 67%|████████████████████████████████████████████████████████                            | 6/9 [01:27<00:41, 13.74s/it]"
     ]
    },
    {
     "name": "stdout",
     "output_type": "stream",
     "text": [
      "Epoch 1/3\n",
      "1528/1528 [==============================] - 6s 3ms/step - loss: 1.4635 - acc: 0.2281 - val_loss: 1.4539 - val_acc: 0.2204\n",
      "Epoch 2/3\n",
      "1528/1528 [==============================] - 4s 3ms/step - loss: 1.4390 - acc: 0.2279 - val_loss: 1.4309 - val_acc: 0.2197\n",
      "Epoch 3/3\n",
      "1528/1528 [==============================] - 4s 3ms/step - loss: 1.4189 - acc: 0.2297 - val_loss: 1.4118 - val_acc: 0.2259\n"
     ]
    },
    {
     "name": "stderr",
     "output_type": "stream",
     "text": [
      "\r",
      " 78%|█████████████████████████████████████████████████████████████████▎                  | 7/9 [01:42<00:28, 14.05s/it]"
     ]
    },
    {
     "name": "stdout",
     "output_type": "stream",
     "text": [
      "Epoch 1/3\n",
      "1528/1528 [==============================] - 7s 3ms/step - loss: 1.3607 - acc: 0.3351 - val_loss: 1.3289 - val_acc: 0.4025\n",
      "Epoch 2/3\n",
      "1528/1528 [==============================] - 4s 3ms/step - loss: 1.3198 - acc: 0.4022 - val_loss: 1.3119 - val_acc: 0.4025\n",
      "Epoch 3/3\n",
      "1528/1528 [==============================] - 4s 3ms/step - loss: 1.3114 - acc: 0.4022 - val_loss: 1.3073 - val_acc: 0.4025\n"
     ]
    },
    {
     "name": "stderr",
     "output_type": "stream",
     "text": [
      "\r",
      " 89%|██████████████████████████████████████████████████████████████████████████▋         | 8/9 [01:58<00:14, 14.53s/it]"
     ]
    },
    {
     "name": "stdout",
     "output_type": "stream",
     "text": [
      "Epoch 1/3\n",
      "1528/1528 [==============================] - 7s 3ms/step - loss: 2.3220 - acc: 0.2331 - val_loss: 2.0964 - val_acc: 0.2255\n",
      "Epoch 2/3\n",
      "1528/1528 [==============================] - 5s 3ms/step - loss: 1.9279 - acc: 0.2331 - val_loss: 1.7681 - val_acc: 0.2255\n",
      "Epoch 3/3\n",
      "1528/1528 [==============================] - 4s 3ms/step - loss: 1.6513 - acc: 0.2331 - val_loss: 1.5434 - val_acc: 0.2255\n"
     ]
    },
    {
     "name": "stderr",
     "output_type": "stream",
     "text": [
      "100%|████████████████████████████████████████████████████████████████████████████████████| 9/9 [02:14<00:00, 14.93s/it]\n"
     ]
    }
   ],
   "source": [
    "scan_object = talos.Scan(x,\n",
    "                         y, \n",
    "                         params=p,\n",
    "                         model=OSA_model,\n",
    "                         experiment_name='OSA_hyper_rnn',\n",
    "                         fraction_limit=.001)\n",
    "# By defaul, this function uses 70:30 split for training/ validation\n",
    "#To get started quickly, we're going to invoke the 'grid_downsample' parameter to 1/100 of the entire permutations"
   ]
  },
  {
   "cell_type": "code",
   "execution_count": 26,
   "id": "18dfc09c",
   "metadata": {},
   "outputs": [
    {
     "data": {
      "text/html": [
       "<div>\n",
       "<style scoped>\n",
       "    .dataframe tbody tr th:only-of-type {\n",
       "        vertical-align: middle;\n",
       "    }\n",
       "\n",
       "    .dataframe tbody tr th {\n",
       "        vertical-align: top;\n",
       "    }\n",
       "\n",
       "    .dataframe thead th {\n",
       "        text-align: right;\n",
       "    }\n",
       "</style>\n",
       "<table border=\"1\" class=\"dataframe\">\n",
       "  <thead>\n",
       "    <tr style=\"text-align: right;\">\n",
       "      <th></th>\n",
       "      <th>start</th>\n",
       "      <th>end</th>\n",
       "      <th>duration</th>\n",
       "      <th>round_epochs</th>\n",
       "      <th>loss</th>\n",
       "      <th>acc</th>\n",
       "      <th>val_loss</th>\n",
       "      <th>val_acc</th>\n",
       "      <th>lr</th>\n",
       "      <th>first_neuron</th>\n",
       "      <th>batch_size</th>\n",
       "      <th>epochs</th>\n",
       "      <th>optimizer</th>\n",
       "      <th>loss</th>\n",
       "      <th>first_activation</th>\n",
       "      <th>second_activation</th>\n",
       "      <th>last_activation</th>\n",
       "    </tr>\n",
       "  </thead>\n",
       "  <tbody>\n",
       "    <tr>\n",
       "      <th>0</th>\n",
       "      <td>07/21/22-053754</td>\n",
       "      <td>07/21/22-053801</td>\n",
       "      <td>6.834927</td>\n",
       "      <td>3</td>\n",
       "      <td>1.370462</td>\n",
       "      <td>0.296163</td>\n",
       "      <td>1.369129</td>\n",
       "      <td>0.301405</td>\n",
       "      <td>0.001</td>\n",
       "      <td>4</td>\n",
       "      <td>32</td>\n",
       "      <td>3</td>\n",
       "      <td>&lt;class 'keras.optimizers.optimizer_v2.nadam.Na...</td>\n",
       "      <td>categorical_crossentropy</td>\n",
       "      <td>softmax</td>\n",
       "      <td>softsign</td>\n",
       "      <td>softmax</td>\n",
       "    </tr>\n",
       "    <tr>\n",
       "      <th>1</th>\n",
       "      <td>07/21/22-053801</td>\n",
       "      <td>07/21/22-053812</td>\n",
       "      <td>10.394259</td>\n",
       "      <td>3</td>\n",
       "      <td>1.307646</td>\n",
       "      <td>0.402239</td>\n",
       "      <td>1.304689</td>\n",
       "      <td>0.402536</td>\n",
       "      <td>0.010</td>\n",
       "      <td>128</td>\n",
       "      <td>20</td>\n",
       "      <td>3</td>\n",
       "      <td>&lt;class 'keras.optimizers.optimizer_v2.nadam.Na...</td>\n",
       "      <td>categorical_crossentropy</td>\n",
       "      <td>sigmoid</td>\n",
       "      <td>hard_sigmoid</td>\n",
       "      <td>softmax</td>\n",
       "    </tr>\n",
       "    <tr>\n",
       "      <th>2</th>\n",
       "      <td>07/21/22-053812</td>\n",
       "      <td>07/21/22-053839</td>\n",
       "      <td>27.457010</td>\n",
       "      <td>3</td>\n",
       "      <td>1.371580</td>\n",
       "      <td>0.354832</td>\n",
       "      <td>1.374121</td>\n",
       "      <td>0.359914</td>\n",
       "      <td>0.001</td>\n",
       "      <td>16</td>\n",
       "      <td>5</td>\n",
       "      <td>3</td>\n",
       "      <td>&lt;class 'keras.optimizers.optimizer_v2.adam.Adam'&gt;</td>\n",
       "      <td>categorical_crossentropy</td>\n",
       "      <td>linear</td>\n",
       "      <td>relu</td>\n",
       "      <td>softmax</td>\n",
       "    </tr>\n",
       "    <tr>\n",
       "      <th>3</th>\n",
       "      <td>07/21/22-053840</td>\n",
       "      <td>07/21/22-053904</td>\n",
       "      <td>24.548088</td>\n",
       "      <td>3</td>\n",
       "      <td>1.501093</td>\n",
       "      <td>0.232321</td>\n",
       "      <td>1.462889</td>\n",
       "      <td>0.243507</td>\n",
       "      <td>0.010</td>\n",
       "      <td>4</td>\n",
       "      <td>5</td>\n",
       "      <td>3</td>\n",
       "      <td>&lt;class 'keras.optimizers.optimizer_v2.adam.Adam'&gt;</td>\n",
       "      <td>categorical_crossentropy</td>\n",
       "      <td>tanh</td>\n",
       "      <td>sigmoid</td>\n",
       "      <td>softmax</td>\n",
       "    </tr>\n",
       "    <tr>\n",
       "      <th>4</th>\n",
       "      <td>07/21/22-053904</td>\n",
       "      <td>07/21/22-053913</td>\n",
       "      <td>8.482116</td>\n",
       "      <td>3</td>\n",
       "      <td>1.374604</td>\n",
       "      <td>0.250786</td>\n",
       "      <td>1.370520</td>\n",
       "      <td>0.269783</td>\n",
       "      <td>0.001</td>\n",
       "      <td>16</td>\n",
       "      <td>20</td>\n",
       "      <td>3</td>\n",
       "      <td>&lt;class 'keras.optimizers.optimizer_v2.nadam.Na...</td>\n",
       "      <td>categorical_crossentropy</td>\n",
       "      <td>softmax</td>\n",
       "      <td>linear</td>\n",
       "      <td>softmax</td>\n",
       "    </tr>\n",
       "  </tbody>\n",
       "</table>\n",
       "</div>"
      ],
      "text/plain": [
       "             start              end   duration  round_epochs      loss  \\\n",
       "0  07/21/22-053754  07/21/22-053801   6.834927             3  1.370462   \n",
       "1  07/21/22-053801  07/21/22-053812  10.394259             3  1.307646   \n",
       "2  07/21/22-053812  07/21/22-053839  27.457010             3  1.371580   \n",
       "3  07/21/22-053840  07/21/22-053904  24.548088             3  1.501093   \n",
       "4  07/21/22-053904  07/21/22-053913   8.482116             3  1.374604   \n",
       "\n",
       "        acc  val_loss   val_acc     lr  first_neuron  batch_size  epochs  \\\n",
       "0  0.296163  1.369129  0.301405  0.001             4          32       3   \n",
       "1  0.402239  1.304689  0.402536  0.010           128          20       3   \n",
       "2  0.354832  1.374121  0.359914  0.001            16           5       3   \n",
       "3  0.232321  1.462889  0.243507  0.010             4           5       3   \n",
       "4  0.250786  1.370520  0.269783  0.001            16          20       3   \n",
       "\n",
       "                                           optimizer  \\\n",
       "0  <class 'keras.optimizers.optimizer_v2.nadam.Na...   \n",
       "1  <class 'keras.optimizers.optimizer_v2.nadam.Na...   \n",
       "2  <class 'keras.optimizers.optimizer_v2.adam.Adam'>   \n",
       "3  <class 'keras.optimizers.optimizer_v2.adam.Adam'>   \n",
       "4  <class 'keras.optimizers.optimizer_v2.nadam.Na...   \n",
       "\n",
       "                       loss first_activation second_activation last_activation  \n",
       "0  categorical_crossentropy          softmax          softsign         softmax  \n",
       "1  categorical_crossentropy          sigmoid      hard_sigmoid         softmax  \n",
       "2  categorical_crossentropy           linear              relu         softmax  \n",
       "3  categorical_crossentropy             tanh           sigmoid         softmax  \n",
       "4  categorical_crossentropy          softmax            linear         softmax  "
      ]
     },
     "execution_count": 26,
     "metadata": {},
     "output_type": "execute_result"
    }
   ],
   "source": [
    "scan_object.data.head()"
   ]
  },
  {
   "cell_type": "markdown",
   "id": "8fe383f4",
   "metadata": {},
   "source": [
    "### Analysing the Scan results with Reporting() \n",
    "\n",
    "In the Scan process, the results are stored round-by-round in the \n",
    "corresponding experiment log which is a .csv file stored in the present working directory. \n",
    "The Reporting() accepts as its source either a file name, or the Scan object."
   ]
  },
  {
   "cell_type": "code",
   "execution_count": 27,
   "id": "f6e24629",
   "metadata": {},
   "outputs": [],
   "source": [
    "# use Scan object as input\n",
    "analyze_object = talos.Analyze(scan_object)"
   ]
  },
  {
   "cell_type": "code",
   "execution_count": 28,
   "id": "bcf1195a",
   "metadata": {},
   "outputs": [
    {
     "data": {
      "text/html": [
       "<div>\n",
       "<style scoped>\n",
       "    .dataframe tbody tr th:only-of-type {\n",
       "        vertical-align: middle;\n",
       "    }\n",
       "\n",
       "    .dataframe tbody tr th {\n",
       "        vertical-align: top;\n",
       "    }\n",
       "\n",
       "    .dataframe thead th {\n",
       "        text-align: right;\n",
       "    }\n",
       "</style>\n",
       "<table border=\"1\" class=\"dataframe\">\n",
       "  <thead>\n",
       "    <tr style=\"text-align: right;\">\n",
       "      <th></th>\n",
       "      <th>start</th>\n",
       "      <th>end</th>\n",
       "      <th>duration</th>\n",
       "      <th>round_epochs</th>\n",
       "      <th>loss</th>\n",
       "      <th>acc</th>\n",
       "      <th>val_loss</th>\n",
       "      <th>val_acc</th>\n",
       "      <th>lr</th>\n",
       "      <th>first_neuron</th>\n",
       "      <th>batch_size</th>\n",
       "      <th>epochs</th>\n",
       "      <th>optimizer</th>\n",
       "      <th>loss</th>\n",
       "      <th>first_activation</th>\n",
       "      <th>second_activation</th>\n",
       "      <th>last_activation</th>\n",
       "    </tr>\n",
       "  </thead>\n",
       "  <tbody>\n",
       "    <tr>\n",
       "      <th>0</th>\n",
       "      <td>07/21/22-053754</td>\n",
       "      <td>07/21/22-053801</td>\n",
       "      <td>6.834927</td>\n",
       "      <td>3</td>\n",
       "      <td>1.370462</td>\n",
       "      <td>0.296163</td>\n",
       "      <td>1.369129</td>\n",
       "      <td>0.301405</td>\n",
       "      <td>0.001</td>\n",
       "      <td>4</td>\n",
       "      <td>32</td>\n",
       "      <td>3</td>\n",
       "      <td>&lt;class 'keras.optimizers.optimizer_v2.nadam.Na...</td>\n",
       "      <td>categorical_crossentropy</td>\n",
       "      <td>softmax</td>\n",
       "      <td>softsign</td>\n",
       "      <td>softmax</td>\n",
       "    </tr>\n",
       "    <tr>\n",
       "      <th>1</th>\n",
       "      <td>07/21/22-053801</td>\n",
       "      <td>07/21/22-053812</td>\n",
       "      <td>10.394259</td>\n",
       "      <td>3</td>\n",
       "      <td>1.307646</td>\n",
       "      <td>0.402239</td>\n",
       "      <td>1.304689</td>\n",
       "      <td>0.402536</td>\n",
       "      <td>0.010</td>\n",
       "      <td>128</td>\n",
       "      <td>20</td>\n",
       "      <td>3</td>\n",
       "      <td>&lt;class 'keras.optimizers.optimizer_v2.nadam.Na...</td>\n",
       "      <td>categorical_crossentropy</td>\n",
       "      <td>sigmoid</td>\n",
       "      <td>hard_sigmoid</td>\n",
       "      <td>softmax</td>\n",
       "    </tr>\n",
       "    <tr>\n",
       "      <th>2</th>\n",
       "      <td>07/21/22-053812</td>\n",
       "      <td>07/21/22-053839</td>\n",
       "      <td>27.457010</td>\n",
       "      <td>3</td>\n",
       "      <td>1.371580</td>\n",
       "      <td>0.354832</td>\n",
       "      <td>1.374121</td>\n",
       "      <td>0.359914</td>\n",
       "      <td>0.001</td>\n",
       "      <td>16</td>\n",
       "      <td>5</td>\n",
       "      <td>3</td>\n",
       "      <td>&lt;class 'keras.optimizers.optimizer_v2.adam.Adam'&gt;</td>\n",
       "      <td>categorical_crossentropy</td>\n",
       "      <td>linear</td>\n",
       "      <td>relu</td>\n",
       "      <td>softmax</td>\n",
       "    </tr>\n",
       "    <tr>\n",
       "      <th>3</th>\n",
       "      <td>07/21/22-053840</td>\n",
       "      <td>07/21/22-053904</td>\n",
       "      <td>24.548088</td>\n",
       "      <td>3</td>\n",
       "      <td>1.501093</td>\n",
       "      <td>0.232321</td>\n",
       "      <td>1.462889</td>\n",
       "      <td>0.243507</td>\n",
       "      <td>0.010</td>\n",
       "      <td>4</td>\n",
       "      <td>5</td>\n",
       "      <td>3</td>\n",
       "      <td>&lt;class 'keras.optimizers.optimizer_v2.adam.Adam'&gt;</td>\n",
       "      <td>categorical_crossentropy</td>\n",
       "      <td>tanh</td>\n",
       "      <td>sigmoid</td>\n",
       "      <td>softmax</td>\n",
       "    </tr>\n",
       "    <tr>\n",
       "      <th>4</th>\n",
       "      <td>07/21/22-053904</td>\n",
       "      <td>07/21/22-053913</td>\n",
       "      <td>8.482116</td>\n",
       "      <td>3</td>\n",
       "      <td>1.374604</td>\n",
       "      <td>0.250786</td>\n",
       "      <td>1.370520</td>\n",
       "      <td>0.269783</td>\n",
       "      <td>0.001</td>\n",
       "      <td>16</td>\n",
       "      <td>20</td>\n",
       "      <td>3</td>\n",
       "      <td>&lt;class 'keras.optimizers.optimizer_v2.nadam.Na...</td>\n",
       "      <td>categorical_crossentropy</td>\n",
       "      <td>softmax</td>\n",
       "      <td>linear</td>\n",
       "      <td>softmax</td>\n",
       "    </tr>\n",
       "    <tr>\n",
       "      <th>5</th>\n",
       "      <td>07/21/22-053913</td>\n",
       "      <td>07/21/22-053922</td>\n",
       "      <td>8.661376</td>\n",
       "      <td>3</td>\n",
       "      <td>1.370805</td>\n",
       "      <td>0.233106</td>\n",
       "      <td>1.371922</td>\n",
       "      <td>0.225481</td>\n",
       "      <td>0.001</td>\n",
       "      <td>4</td>\n",
       "      <td>20</td>\n",
       "      <td>3</td>\n",
       "      <td>&lt;class 'keras.optimizers.optimizer_v2.nadam.Na...</td>\n",
       "      <td>categorical_crossentropy</td>\n",
       "      <td>softplus</td>\n",
       "      <td>hard_sigmoid</td>\n",
       "      <td>softmax</td>\n",
       "    </tr>\n",
       "    <tr>\n",
       "      <th>6</th>\n",
       "      <td>07/21/22-053922</td>\n",
       "      <td>07/21/22-053936</td>\n",
       "      <td>14.454170</td>\n",
       "      <td>3</td>\n",
       "      <td>1.418876</td>\n",
       "      <td>0.229701</td>\n",
       "      <td>1.411793</td>\n",
       "      <td>0.225940</td>\n",
       "      <td>0.001</td>\n",
       "      <td>64</td>\n",
       "      <td>10</td>\n",
       "      <td>3</td>\n",
       "      <td>&lt;class 'keras.optimizers.optimizer_v2.adam.Adam'&gt;</td>\n",
       "      <td>categorical_crossentropy</td>\n",
       "      <td>tanh</td>\n",
       "      <td>relu</td>\n",
       "      <td>softmax</td>\n",
       "    </tr>\n",
       "    <tr>\n",
       "      <th>7</th>\n",
       "      <td>07/21/22-053937</td>\n",
       "      <td>07/21/22-053952</td>\n",
       "      <td>15.321552</td>\n",
       "      <td>3</td>\n",
       "      <td>1.311397</td>\n",
       "      <td>0.402239</td>\n",
       "      <td>1.307314</td>\n",
       "      <td>0.402536</td>\n",
       "      <td>0.100</td>\n",
       "      <td>4</td>\n",
       "      <td>10</td>\n",
       "      <td>3</td>\n",
       "      <td>&lt;class 'keras.optimizers.optimizer_v2.adam.Adam'&gt;</td>\n",
       "      <td>categorical_crossentropy</td>\n",
       "      <td>softmax</td>\n",
       "      <td>softsign</td>\n",
       "      <td>softmax</td>\n",
       "    </tr>\n",
       "    <tr>\n",
       "      <th>8</th>\n",
       "      <td>07/21/22-053952</td>\n",
       "      <td>07/21/22-054008</td>\n",
       "      <td>16.049530</td>\n",
       "      <td>3</td>\n",
       "      <td>1.651322</td>\n",
       "      <td>0.233106</td>\n",
       "      <td>1.543440</td>\n",
       "      <td>0.225481</td>\n",
       "      <td>0.010</td>\n",
       "      <td>8</td>\n",
       "      <td>10</td>\n",
       "      <td>3</td>\n",
       "      <td>&lt;class 'keras.optimizers.optimizer_v2.nadam.Na...</td>\n",
       "      <td>categorical_crossentropy</td>\n",
       "      <td>hard_sigmoid</td>\n",
       "      <td>softplus</td>\n",
       "      <td>softmax</td>\n",
       "    </tr>\n",
       "  </tbody>\n",
       "</table>\n",
       "</div>"
      ],
      "text/plain": [
       "             start              end   duration  round_epochs      loss  \\\n",
       "0  07/21/22-053754  07/21/22-053801   6.834927             3  1.370462   \n",
       "1  07/21/22-053801  07/21/22-053812  10.394259             3  1.307646   \n",
       "2  07/21/22-053812  07/21/22-053839  27.457010             3  1.371580   \n",
       "3  07/21/22-053840  07/21/22-053904  24.548088             3  1.501093   \n",
       "4  07/21/22-053904  07/21/22-053913   8.482116             3  1.374604   \n",
       "5  07/21/22-053913  07/21/22-053922   8.661376             3  1.370805   \n",
       "6  07/21/22-053922  07/21/22-053936  14.454170             3  1.418876   \n",
       "7  07/21/22-053937  07/21/22-053952  15.321552             3  1.311397   \n",
       "8  07/21/22-053952  07/21/22-054008  16.049530             3  1.651322   \n",
       "\n",
       "        acc  val_loss   val_acc     lr  first_neuron  batch_size  epochs  \\\n",
       "0  0.296163  1.369129  0.301405  0.001             4          32       3   \n",
       "1  0.402239  1.304689  0.402536  0.010           128          20       3   \n",
       "2  0.354832  1.374121  0.359914  0.001            16           5       3   \n",
       "3  0.232321  1.462889  0.243507  0.010             4           5       3   \n",
       "4  0.250786  1.370520  0.269783  0.001            16          20       3   \n",
       "5  0.233106  1.371922  0.225481  0.001             4          20       3   \n",
       "6  0.229701  1.411793  0.225940  0.001            64          10       3   \n",
       "7  0.402239  1.307314  0.402536  0.100             4          10       3   \n",
       "8  0.233106  1.543440  0.225481  0.010             8          10       3   \n",
       "\n",
       "                                           optimizer  \\\n",
       "0  <class 'keras.optimizers.optimizer_v2.nadam.Na...   \n",
       "1  <class 'keras.optimizers.optimizer_v2.nadam.Na...   \n",
       "2  <class 'keras.optimizers.optimizer_v2.adam.Adam'>   \n",
       "3  <class 'keras.optimizers.optimizer_v2.adam.Adam'>   \n",
       "4  <class 'keras.optimizers.optimizer_v2.nadam.Na...   \n",
       "5  <class 'keras.optimizers.optimizer_v2.nadam.Na...   \n",
       "6  <class 'keras.optimizers.optimizer_v2.adam.Adam'>   \n",
       "7  <class 'keras.optimizers.optimizer_v2.adam.Adam'>   \n",
       "8  <class 'keras.optimizers.optimizer_v2.nadam.Na...   \n",
       "\n",
       "                       loss first_activation second_activation last_activation  \n",
       "0  categorical_crossentropy          softmax          softsign         softmax  \n",
       "1  categorical_crossentropy          sigmoid      hard_sigmoid         softmax  \n",
       "2  categorical_crossentropy           linear              relu         softmax  \n",
       "3  categorical_crossentropy             tanh           sigmoid         softmax  \n",
       "4  categorical_crossentropy          softmax            linear         softmax  \n",
       "5  categorical_crossentropy         softplus      hard_sigmoid         softmax  \n",
       "6  categorical_crossentropy             tanh              relu         softmax  \n",
       "7  categorical_crossentropy          softmax          softsign         softmax  \n",
       "8  categorical_crossentropy     hard_sigmoid          softplus         softmax  "
      ]
     },
     "execution_count": 28,
     "metadata": {},
     "output_type": "execute_result"
    }
   ],
   "source": [
    "# access the dataframe with the results\n",
    "analyze_object.data"
   ]
  },
  {
   "cell_type": "code",
   "execution_count": 29,
   "id": "697ae016",
   "metadata": {},
   "outputs": [
    {
     "data": {
      "text/plain": [
       "0.40253588557243347"
      ]
     },
     "execution_count": 29,
     "metadata": {},
     "output_type": "execute_result"
    }
   ],
   "source": [
    "# get the highest result for any metric\n",
    "analyze_object.high('val_acc')\n"
   ]
  },
  {
   "cell_type": "code",
   "execution_count": 30,
   "id": "69f7c67e",
   "metadata": {},
   "outputs": [
    {
     "data": {
      "text/plain": [
       "1"
      ]
     },
     "execution_count": 30,
     "metadata": {},
     "output_type": "execute_result"
    }
   ],
   "source": [
    "analyze_object.rounds2high('val_acc')"
   ]
  },
  {
   "cell_type": "code",
   "execution_count": 31,
   "id": "3ba7ff90",
   "metadata": {},
   "outputs": [
    {
     "data": {
      "text/plain": [
       "start                                                  07/21/22-053801\n",
       "end                                                    07/21/22-053812\n",
       "duration                                                     10.394259\n",
       "round_epochs                                                         3\n",
       "loss                                                          1.307646\n",
       "acc                                                           0.402239\n",
       "val_loss                                                      1.304689\n",
       "val_acc                                                       0.402536\n",
       "lr                                                                0.01\n",
       "first_neuron                                                       128\n",
       "batch_size                                                          20\n",
       "epochs                                                               3\n",
       "optimizer            <class 'keras.optimizers.optimizer_v2.nadam.Na...\n",
       "loss                                          categorical_crossentropy\n",
       "first_activation                                               sigmoid\n",
       "second_activation                                         hard_sigmoid\n",
       "last_activation                                                softmax\n",
       "Name: 1, dtype: object"
      ]
     },
     "execution_count": 31,
     "metadata": {},
     "output_type": "execute_result"
    }
   ],
   "source": [
    "n = analyze_object.rounds2high('val_acc')\n",
    "analyze_object.data.loc[n]"
   ]
  },
  {
   "cell_type": "code",
   "execution_count": 32,
   "id": "513fa539",
   "metadata": {},
   "outputs": [
    {
     "data": {
      "text/plain": [
       "array([['07/21/22-053801', 3, 'hard_sigmoid', 10.394259452819824, 0.01,\n",
       "        128, 20, '07/21/22-053812',\n",
       "        <class 'keras.optimizers.optimizer_v2.nadam.Nadam'>, 3,\n",
       "        'sigmoid', 'softmax', 0]], dtype=object)"
      ]
     },
     "execution_count": 32,
     "metadata": {},
     "output_type": "execute_result"
    }
   ],
   "source": [
    "# get the best paramaters\n",
    "analyze_object.best_params('val_acc', ['acc', 'loss', 'val_loss'], n = 1)\n"
   ]
  },
  {
   "cell_type": "code",
   "execution_count": 33,
   "id": "ff446465",
   "metadata": {},
   "outputs": [
    {
     "data": {
      "text/plain": [
       "duration        0.329905\n",
       "round_epochs         NaN\n",
       "val_acc        -0.742895\n",
       "lr             -0.363207\n",
       "first_neuron   -0.364241\n",
       "batch_size     -0.373948\n",
       "epochs               NaN\n",
       "Name: val_loss, dtype: float64"
      ]
     },
     "execution_count": 33,
     "metadata": {},
     "output_type": "execute_result"
    }
   ],
   "source": [
    "# get correlation for hyperparameters against a metric\n",
    "analyze_object.correlate('val_loss', ['acc', 'loss', 'val_loss'])"
   ]
  },
  {
   "cell_type": "markdown",
   "id": "1c65aba8",
   "metadata": {},
   "source": [
    "### Increasing the number of hidden layers for SimpleRNN model"
   ]
  },
  {
   "cell_type": "markdown",
   "id": "532c4640",
   "metadata": {},
   "source": [
    "#### RNN2 Model"
   ]
  },
  {
   "cell_type": "code",
   "execution_count": 67,
   "id": "bb0a63fc",
   "metadata": {},
   "outputs": [
    {
     "name": "stdout",
     "output_type": "stream",
     "text": [
      "Epoch 1/20\n",
      "546/546 [==============================] - 3s 2ms/step - loss: 1.2546 - accuracy: 0.4229\n",
      "Epoch 2/20\n",
      "546/546 [==============================] - 1s 2ms/step - loss: 1.2069 - accuracy: 0.4529\n",
      "Epoch 3/20\n",
      "546/546 [==============================] - 1s 2ms/step - loss: 1.1905 - accuracy: 0.4633\n",
      "Epoch 4/20\n",
      "546/546 [==============================] - 1s 2ms/step - loss: 1.1811 - accuracy: 0.4677\n",
      "Epoch 5/20\n",
      "546/546 [==============================] - 1s 2ms/step - loss: 1.1772 - accuracy: 0.4694\n",
      "Epoch 6/20\n",
      "546/546 [==============================] - 1s 2ms/step - loss: 1.1729 - accuracy: 0.4720\n",
      "Epoch 7/20\n",
      "546/546 [==============================] - 1s 2ms/step - loss: 1.1711 - accuracy: 0.4735\n",
      "Epoch 8/20\n",
      "546/546 [==============================] - 1s 2ms/step - loss: 1.1695 - accuracy: 0.4740\n",
      "Epoch 9/20\n",
      "546/546 [==============================] - 1s 2ms/step - loss: 1.1648 - accuracy: 0.4787\n",
      "Epoch 10/20\n",
      "546/546 [==============================] - 1s 3ms/step - loss: 1.1636 - accuracy: 0.4761\n",
      "Epoch 11/20\n",
      "546/546 [==============================] - 1s 2ms/step - loss: 1.1625 - accuracy: 0.4777\n",
      "Epoch 12/20\n",
      "546/546 [==============================] - 1s 2ms/step - loss: 1.1606 - accuracy: 0.4771\n",
      "Epoch 13/20\n",
      "546/546 [==============================] - 1s 2ms/step - loss: 1.1596 - accuracy: 0.4772\n",
      "Epoch 14/20\n",
      "546/546 [==============================] - 1s 2ms/step - loss: 1.1572 - accuracy: 0.4810\n",
      "Epoch 15/20\n",
      "546/546 [==============================] - 1s 2ms/step - loss: 1.1571 - accuracy: 0.4791\n",
      "Epoch 16/20\n",
      "546/546 [==============================] - 1s 2ms/step - loss: 1.1550 - accuracy: 0.4800\n",
      "Epoch 17/20\n",
      "546/546 [==============================] - 1s 2ms/step - loss: 1.1534 - accuracy: 0.4827\n",
      "Epoch 18/20\n",
      "546/546 [==============================] - 1s 2ms/step - loss: 1.1518 - accuracy: 0.4845\n",
      "Epoch 19/20\n",
      "546/546 [==============================] - 1s 2ms/step - loss: 1.1529 - accuracy: 0.4810\n",
      "Epoch 20/20\n",
      "546/546 [==============================] - 1s 2ms/step - loss: 1.1518 - accuracy: 0.4818\n"
     ]
    },
    {
     "data": {
      "text/plain": [
       "<keras.callbacks.History at 0x24d1080ea60>"
      ]
     },
     "execution_count": 67,
     "metadata": {},
     "output_type": "execute_result"
    }
   ],
   "source": [
    "model_RNN2 = Sequential()                            \n",
    "model_RNN2.add(SimpleRNN(16,\n",
    "                    activation='tanh'))\n",
    "    \n",
    "model_RNN2.add(Dense(16,\n",
    "                    input_dim=X_train_lstm.shape[1],\n",
    "                    activation='relu'))\n",
    "model_RNN2.add(Dense(16,\n",
    "                    activation='relu'))\n",
    "    \n",
    "model_RNN2.add(Dense(4,\n",
    "                    activation='softmax'))\n",
    "\n",
    "opt = tf.keras.optimizers.Adam(learning_rate = 0.001, decay = 1e-5)  # the optimizer settings can have a large impact. Decay, decreases the learning rate\n",
    "model_RNN2.compile(optimizer = opt, loss = 'sparse_categorical_crossentropy', metrics = ['accuracy'])\n",
    "model_RNN2.fit(X_train_lstm, y_train, epochs = 20, batch_size=32)"
   ]
  },
  {
   "cell_type": "code",
   "execution_count": 68,
   "id": "83763307",
   "metadata": {},
   "outputs": [
    {
     "name": "stdout",
     "output_type": "stream",
     "text": [
      "137/137 [==============================] - 1s 2ms/step - loss: 1.1978 - accuracy: 0.4594\n"
     ]
    }
   ],
   "source": [
    "val_loss, val_acc = model_RNN2.evaluate(X_test_lstm, y_test)"
   ]
  },
  {
   "cell_type": "code",
   "execution_count": 69,
   "id": "fada32ea",
   "metadata": {},
   "outputs": [
    {
     "name": "stdout",
     "output_type": "stream",
     "text": [
      "137/137 [==============================] - 0s 2ms/step\n",
      "              precision    recall  f1-score   support\n",
      "\n",
      "           0       0.40      0.35      0.37       572\n",
      "           1       0.32      0.38      0.35      1007\n",
      "           2       0.29      0.11      0.16      1029\n",
      "           3       0.57      0.74      0.65      1756\n",
      "\n",
      "    accuracy                           0.46      4364\n",
      "   macro avg       0.40      0.40      0.38      4364\n",
      "weighted avg       0.43      0.46      0.43      4364\n",
      "\n"
     ]
    }
   ],
   "source": [
    "y_pred = model_RNN2.predict(X_test_lstm)\n",
    "y_pred_sev = np.argmax(y_pred, axis=1)\n",
    "\n",
    "print(classification_report(y_test, y_pred_sev))"
   ]
  },
  {
   "cell_type": "code",
   "execution_count": 70,
   "id": "2e36b8a1",
   "metadata": {},
   "outputs": [
    {
     "data": {
      "image/png": "[encoded data removed]",
      "text/plain": [
       "<Figure size 1152x504 with 2 Axes>"
      ]
     },
     "metadata": {},
     "output_type": "display_data"
    }
   ],
   "source": [
    "matrix = confusion_matrix(y_test, y_pred_sev)\n",
    "matrix = matrix.astype('float') / matrix.sum(axis=1)[:, np.newaxis]\n",
    "\n",
    "# Build the plot\n",
    "plt.figure(figsize=(16,7))\n",
    "sns.set(font_scale=1.4)\n",
    "sns.heatmap(matrix, annot=True, annot_kws={'size':10},\n",
    "            cmap=plt.cm.Greens, linewidths=0.2)\n",
    "\n",
    "# Add labels to the plot\n",
    "class_names = ['0', '1','2', '3']\n",
    "tick_marks = np.arange(len(class_names))\n",
    "tick_marks2 = tick_marks + 0.5\n",
    "plt.xticks(tick_marks, class_names, rotation=25)\n",
    "plt.yticks(tick_marks2, class_names, rotation=0)\n",
    "plt.xlabel('Predicted label')\n",
    "plt.ylabel('True label')\n",
    "plt.title('SimpleRNN2 Confusion Matrix')\n",
    "plt.show()"
   ]
  },
  {
   "cell_type": "markdown",
   "id": "6593f9f3",
   "metadata": {},
   "source": [
    "### RNN3"
   ]
  },
  {
   "cell_type": "code",
   "execution_count": 59,
   "id": "3d32cd4d",
   "metadata": {},
   "outputs": [
    {
     "name": "stdout",
     "output_type": "stream",
     "text": [
      "Epoch 1/20\n",
      "546/546 [==============================] - 3s 2ms/step - loss: 1.2249 - accuracy: 0.4416\n",
      "Epoch 2/20\n",
      "546/546 [==============================] - 1s 2ms/step - loss: 1.1873 - accuracy: 0.4634\n",
      "Epoch 3/20\n",
      "546/546 [==============================] - 1s 2ms/step - loss: 1.1813 - accuracy: 0.4688\n",
      "Epoch 4/20\n",
      "546/546 [==============================] - 1s 2ms/step - loss: 1.1775 - accuracy: 0.4680\n",
      "Epoch 5/20\n",
      "546/546 [==============================] - 1s 2ms/step - loss: 1.1749 - accuracy: 0.4710\n",
      "Epoch 6/20\n",
      "546/546 [==============================] - 1s 2ms/step - loss: 1.1703 - accuracy: 0.4718\n",
      "Epoch 7/20\n",
      "546/546 [==============================] - 1s 2ms/step - loss: 1.1692 - accuracy: 0.4727\n",
      "Epoch 8/20\n",
      "546/546 [==============================] - 1s 2ms/step - loss: 1.1709 - accuracy: 0.4687\n",
      "Epoch 9/20\n",
      "546/546 [==============================] - 1s 2ms/step - loss: 1.1674 - accuracy: 0.4737\n",
      "Epoch 10/20\n",
      "546/546 [==============================] - 1s 3ms/step - loss: 1.1651 - accuracy: 0.4739\n",
      "Epoch 11/20\n",
      "546/546 [==============================] - 1s 2ms/step - loss: 1.1614 - accuracy: 0.4769\n",
      "Epoch 12/20\n",
      "546/546 [==============================] - 1s 2ms/step - loss: 1.1617 - accuracy: 0.4761\n",
      "Epoch 13/20\n",
      "546/546 [==============================] - 1s 2ms/step - loss: 1.1609 - accuracy: 0.4818\n",
      "Epoch 14/20\n",
      "546/546 [==============================] - 1s 2ms/step - loss: 1.1574 - accuracy: 0.4809\n",
      "Epoch 15/20\n",
      "546/546 [==============================] - 1s 2ms/step - loss: 1.1571 - accuracy: 0.4825\n",
      "Epoch 16/20\n",
      "546/546 [==============================] - 1s 2ms/step - loss: 1.1563 - accuracy: 0.4809\n",
      "Epoch 17/20\n",
      "546/546 [==============================] - 1s 2ms/step - loss: 1.1533 - accuracy: 0.4836\n",
      "Epoch 18/20\n",
      "546/546 [==============================] - 1s 2ms/step - loss: 1.1541 - accuracy: 0.4819\n",
      "Epoch 19/20\n",
      "546/546 [==============================] - 1s 2ms/step - loss: 1.1524 - accuracy: 0.4826\n",
      "Epoch 20/20\n",
      "546/546 [==============================] - 1s 2ms/step - loss: 1.1516 - accuracy: 0.4860\n"
     ]
    },
    {
     "data": {
      "text/plain": [
       "<keras.callbacks.History at 0x24d0e74df10>"
      ]
     },
     "execution_count": 59,
     "metadata": {},
     "output_type": "execute_result"
    }
   ],
   "source": [
    "model_RNN3 = Sequential()                            \n",
    "model_RNN3.add(SimpleRNN(16,\n",
    "                    activation='linear'))\n",
    "    \n",
    "model_RNN3.add(Dense(16,\n",
    "                    input_dim=X_train_lstm.shape[1],\n",
    "                    activation='relu'))\n",
    "model_RNN3.add(Dense(16,\n",
    "                    activation='relu'))\n",
    "    \n",
    "model_RNN3.add(Dense(4,\n",
    "                    activation='softmax'))\n",
    "\n",
    "opt = tf.keras.optimizers.Adamax(learning_rate = 0.01, decay = 1e-5)  # the optimizer settings can have a large impact. Decay, decreases the learning rate\n",
    "model_RNN3.compile(optimizer = opt, loss = 'sparse_categorical_crossentropy', metrics = ['accuracy'])\n",
    "model_RNN3.fit(X_train_lstm, y_train, epochs = 20, batch_size=32)"
   ]
  },
  {
   "cell_type": "code",
   "execution_count": 60,
   "id": "3c30c5c2",
   "metadata": {},
   "outputs": [
    {
     "name": "stdout",
     "output_type": "stream",
     "text": [
      "137/137 [==============================] - 1s 2ms/step - loss: 1.1776 - accuracy: 0.4668\n"
     ]
    }
   ],
   "source": [
    "val_loss, val_acc = model_RNN3.evaluate(X_test_lstm, y_test)"
   ]
  },
  {
   "cell_type": "code",
   "execution_count": 61,
   "id": "c897e212",
   "metadata": {},
   "outputs": [
    {
     "name": "stdout",
     "output_type": "stream",
     "text": [
      "137/137 [==============================] - 0s 2ms/step\n",
      "              precision    recall  f1-score   support\n",
      "\n",
      "           0       0.46      0.27      0.35       572\n",
      "           1       0.33      0.38      0.35      1007\n",
      "           2       0.31      0.08      0.13      1029\n",
      "           3       0.54      0.81      0.65      1756\n",
      "\n",
      "    accuracy                           0.47      4364\n",
      "   macro avg       0.41      0.39      0.37      4364\n",
      "weighted avg       0.43      0.47      0.42      4364\n",
      "\n"
     ]
    }
   ],
   "source": [
    "y_pred = model_RNN3.predict(X_test_lstm)\n",
    "y_pred_sev = np.argmax(y_pred, axis=1)\n",
    "\n",
    "print(classification_report(y_test, y_pred_sev))"
   ]
  },
  {
   "cell_type": "code",
   "execution_count": 63,
   "id": "0e613f99",
   "metadata": {},
   "outputs": [
    {
     "data": {
      "image/png": "[encoded data removed]",
      "text/plain": [
       "<Figure size 1152x504 with 2 Axes>"
      ]
     },
     "metadata": {},
     "output_type": "display_data"
    }
   ],
   "source": [
    "matrix = confusion_matrix(y_test, y_pred_sev)\n",
    "matrix = matrix.astype('float') / matrix.sum(axis=1)[:, np.newaxis]\n",
    "\n",
    "# Build the plot\n",
    "plt.figure(figsize=(16,7))\n",
    "sns.set(font_scale=1.4)\n",
    "sns.heatmap(matrix, annot=True, annot_kws={'size':10},\n",
    "            cmap=plt.cm.Greens, linewidths=0.2)\n",
    "\n",
    "# Add labels to the plot\n",
    "class_names = ['0', '1','2', '3']\n",
    "tick_marks = np.arange(len(class_names))\n",
    "tick_marks2 = tick_marks + 0.5\n",
    "plt.xticks(tick_marks, class_names, rotation=25)\n",
    "plt.yticks(tick_marks2, class_names, rotation=0)\n",
    "plt.xlabel('Predicted label')\n",
    "plt.ylabel('True label')\n",
    "plt.title('SimpleRNN3 Confusion Matrix')\n",
    "plt.show()"
   ]
  },
  {
   "cell_type": "markdown",
   "id": "1dc71f00",
   "metadata": {},
   "source": [
    "## LSTM Hyperparams"
   ]
  },
  {
   "cell_type": "code",
   "execution_count": 41,
   "id": "2b4e0569",
   "metadata": {},
   "outputs": [],
   "source": [
    "def OSA_model(x_train, y_train, x_val, y_val, params):\n",
    "    \n",
    "    model = Sequential()                            \n",
    "    model.add(LSTM(params['first_neuron'],\n",
    "                    activation=params['first_activation']))\n",
    "    \n",
    "    model.add(Dense(params['first_neuron'],\n",
    "                    input_dim=x_train.shape[1],\n",
    "                    activation=params['second_activation']))\n",
    "    \n",
    "    model.add(Dense(y_train.shape[1],\n",
    "                    activation=params['last_activation']))\n",
    "\n",
    "    model.compile(optimizer=params['optimizer'](lr=lr_normalizer(params['lr'], params['optimizer'])),\n",
    "                  loss=params['loss'],\n",
    "                  metrics=['acc'])\n",
    "\n",
    "    out = model.fit(x_train, y_train,\n",
    "                    batch_size=params['batch_size'],\n",
    "                    epochs=params['epochs'],\n",
    "                    verbose=1,\n",
    "                    validation_data=[x_val, y_val])\n",
    "    \n",
    "    return out, model"
   ]
  },
  {
   "cell_type": "code",
   "execution_count": 42,
   "id": "508a1fcd",
   "metadata": {},
   "outputs": [],
   "source": [
    "p = {'lr': [0.001, 0.01, 0.1],\n",
    "     'first_neuron':[4, 8, 16, 32, 64, 128],\n",
    "     'batch_size': [5, 10, 20, 32],\n",
    "     'epochs': [3],\n",
    "     'optimizer': [Adam, Nadam],\n",
    "     'loss': ['categorical_crossentropy'],\n",
    "     'first_activation': ['softmax', 'softplus', 'softsign', 'relu', 'tanh', 'sigmoid', 'hard_sigmoid', 'linear'],\n",
    "     'second_activation': ['softmax', 'softplus', 'softsign', 'relu', 'tanh', 'sigmoid', 'hard_sigmoid', 'linear'],\n",
    "     'last_activation': ['softmax']}"
   ]
  },
  {
   "cell_type": "code",
   "execution_count": 43,
   "id": "460f9071",
   "metadata": {},
   "outputs": [
    {
     "name": "stderr",
     "output_type": "stream",
     "text": [
      "\r",
      "  0%|                                                                                            | 0/9 [00:00<?, ?it/s]"
     ]
    },
    {
     "name": "stdout",
     "output_type": "stream",
     "text": [
      "Epoch 1/3\n",
      "478/478 [==============================] - 6s 5ms/step - loss: 1.3697 - acc: 0.4026 - val_loss: 1.3602 - val_acc: 0.4004\n",
      "Epoch 2/3\n",
      "478/478 [==============================] - 2s 4ms/step - loss: 1.3528 - acc: 0.4032 - val_loss: 1.3456 - val_acc: 0.4004\n",
      "Epoch 3/3\n",
      "478/478 [==============================] - 2s 3ms/step - loss: 1.3402 - acc: 0.4032 - val_loss: 1.3349 - val_acc: 0.4004\n"
     ]
    },
    {
     "name": "stderr",
     "output_type": "stream",
     "text": [
      "\r",
      " 11%|█████████▎                                                                          | 1/9 [00:09<01:17,  9.72s/it]"
     ]
    },
    {
     "name": "stdout",
     "output_type": "stream",
     "text": [
      "Epoch 1/3\n",
      "3055/3055 [==============================] - 13s 4ms/step - loss: 1.2435 - acc: 0.4290 - val_loss: 1.2128 - val_acc: 0.4487\n",
      "Epoch 2/3\n",
      "3055/3055 [==============================] - 11s 4ms/step - loss: 1.1982 - acc: 0.4584 - val_loss: 1.1990 - val_acc: 0.4534\n",
      "Epoch 3/3\n",
      "3055/3055 [==============================] - 11s 4ms/step - loss: 1.1845 - acc: 0.4641 - val_loss: 1.1867 - val_acc: 0.4566\n"
     ]
    },
    {
     "name": "stderr",
     "output_type": "stream",
     "text": [
      "\r",
      " 22%|██████████████████▋                                                                 | 2/9 [00:45<02:55, 25.06s/it]"
     ]
    },
    {
     "name": "stdout",
     "output_type": "stream",
     "text": [
      "Epoch 1/3\n",
      "3055/3055 [==============================] - 14s 4ms/step - loss: 1.3144 - acc: 0.4032 - val_loss: 1.3061 - val_acc: 0.4004\n",
      "Epoch 2/3\n",
      "3055/3055 [==============================] - 11s 4ms/step - loss: 1.3006 - acc: 0.4032 - val_loss: 1.2984 - val_acc: 0.4004\n",
      "Epoch 3/3\n",
      "3055/3055 [==============================] - 12s 4ms/step - loss: 1.2916 - acc: 0.4032 - val_loss: 1.2885 - val_acc: 0.4004\n"
     ]
    },
    {
     "name": "stderr",
     "output_type": "stream",
     "text": [
      "\r",
      " 33%|████████████████████████████                                                        | 3/9 [01:22<03:02, 30.50s/it]"
     ]
    },
    {
     "name": "stdout",
     "output_type": "stream",
     "text": [
      "Epoch 1/3\n",
      "3055/3055 [==============================] - 18s 4ms/step - loss: 1.3634 - acc: 0.3954 - val_loss: 1.3576 - val_acc: 0.4001\n",
      "Epoch 2/3\n",
      "3055/3055 [==============================] - 11s 3ms/step - loss: 1.3512 - acc: 0.4021 - val_loss: 1.3453 - val_acc: 0.4002\n",
      "Epoch 3/3\n",
      "3055/3055 [==============================] - 11s 4ms/step - loss: 1.3389 - acc: 0.4030 - val_loss: 1.3333 - val_acc: 0.4004\n"
     ]
    },
    {
     "name": "stderr",
     "output_type": "stream",
     "text": [
      "\r",
      " 44%|█████████████████████████████████████▎                                              | 4/9 [02:01<02:50, 34.04s/it]"
     ]
    },
    {
     "name": "stdout",
     "output_type": "stream",
     "text": [
      "Epoch 1/3\n",
      "1528/1528 [==============================] - 8s 4ms/step - loss: 1.3690 - acc: 0.3995 - val_loss: 1.3526 - val_acc: 0.4004\n",
      "Epoch 2/3\n",
      "1528/1528 [==============================] - 7s 5ms/step - loss: 1.3388 - acc: 0.4032 - val_loss: 1.3287 - val_acc: 0.4004\n",
      "Epoch 3/3\n",
      "1528/1528 [==============================] - 6s 4ms/step - loss: 1.3214 - acc: 0.4032 - val_loss: 1.3176 - val_acc: 0.4004\n"
     ]
    },
    {
     "name": "stderr",
     "output_type": "stream",
     "text": [
      "\r",
      " 56%|██████████████████████████████████████████████▋                                     | 5/9 [02:23<01:58, 29.67s/it]"
     ]
    },
    {
     "name": "stdout",
     "output_type": "stream",
     "text": [
      "Epoch 1/3\n",
      "478/478 [==============================] - 5s 4ms/step - loss: 1.3977 - acc: 0.1316 - val_loss: 1.3963 - val_acc: 0.1311\n",
      "Epoch 2/3\n",
      "478/478 [==============================] - 2s 3ms/step - loss: 1.3968 - acc: 0.1319 - val_loss: 1.3955 - val_acc: 0.1314\n",
      "Epoch 3/3\n",
      "478/478 [==============================] - 2s 3ms/step - loss: 1.3959 - acc: 0.1325 - val_loss: 1.3946 - val_acc: 0.1317\n"
     ]
    },
    {
     "name": "stderr",
     "output_type": "stream",
     "text": [
      "\r",
      " 67%|████████████████████████████████████████████████████████                            | 6/9 [02:32<01:07, 22.49s/it]"
     ]
    },
    {
     "name": "stdout",
     "output_type": "stream",
     "text": [
      "Epoch 1/3\n",
      "3055/3055 [==============================] - 13s 3ms/step - loss: 1.3217 - acc: 0.4032 - val_loss: 1.3141 - val_acc: 0.4004\n",
      "Epoch 2/3\n",
      "3055/3055 [==============================] - 10s 3ms/step - loss: 1.3085 - acc: 0.4032 - val_loss: 1.3064 - val_acc: 0.4004\n",
      "Epoch 3/3\n",
      "3055/3055 [==============================] - 9s 3ms/step - loss: 1.3027 - acc: 0.4032 - val_loss: 1.3014 - val_acc: 0.4004\n"
     ]
    },
    {
     "name": "stderr",
     "output_type": "stream",
     "text": [
      "\r",
      " 78%|█████████████████████████████████████████████████████████████████▎                  | 7/9 [03:05<00:51, 25.80s/it]"
     ]
    },
    {
     "name": "stdout",
     "output_type": "stream",
     "text": [
      "Epoch 1/3\n",
      "3055/3055 [==============================] - 13s 3ms/step - loss: 1.3030 - acc: 0.4051 - val_loss: 1.2685 - val_acc: 0.4128\n",
      "Epoch 2/3\n",
      "3055/3055 [==============================] - 10s 3ms/step - loss: 1.2461 - acc: 0.4423 - val_loss: 1.2392 - val_acc: 0.4429\n",
      "Epoch 3/3\n",
      "3055/3055 [==============================] - 10s 3ms/step - loss: 1.2287 - acc: 0.4506 - val_loss: 1.2277 - val_acc: 0.4471\n"
     ]
    },
    {
     "name": "stderr",
     "output_type": "stream",
     "text": [
      "\r",
      " 89%|██████████████████████████████████████████████████████████████████████████▋         | 8/9 [03:39<00:28, 28.41s/it]"
     ]
    },
    {
     "name": "stdout",
     "output_type": "stream",
     "text": [
      "Epoch 1/3\n",
      "478/478 [==============================] - 5s 4ms/step - loss: 1.3610 - acc: 0.4032 - val_loss: 1.3357 - val_acc: 0.4004\n",
      "Epoch 2/3\n",
      "478/478 [==============================] - 2s 4ms/step - loss: 1.3230 - acc: 0.4032 - val_loss: 1.3170 - val_acc: 0.4004\n",
      "Epoch 3/3\n",
      "478/478 [==============================] - 2s 3ms/step - loss: 1.3123 - acc: 0.4032 - val_loss: 1.3111 - val_acc: 0.4004\n"
     ]
    },
    {
     "name": "stderr",
     "output_type": "stream",
     "text": [
      "100%|████████████████████████████████████████████████████████████████████████████████████| 9/9 [03:47<00:00, 25.28s/it]\n"
     ]
    }
   ],
   "source": [
    "scan_object = talos.Scan(x,\n",
    "                         y, \n",
    "                         params=p,\n",
    "                         model=OSA_model,\n",
    "                         experiment_name='OSA_hyper_lstm',\n",
    "                         fraction_limit=.001)"
   ]
  },
  {
   "cell_type": "code",
   "execution_count": 44,
   "id": "65b7b5b9",
   "metadata": {},
   "outputs": [],
   "source": [
    "analyze_object = talos.Analyze(scan_object)"
   ]
  },
  {
   "cell_type": "code",
   "execution_count": 45,
   "id": "da388ad5",
   "metadata": {},
   "outputs": [
    {
     "data": {
      "text/html": [
       "<div>\n",
       "<style scoped>\n",
       "    .dataframe tbody tr th:only-of-type {\n",
       "        vertical-align: middle;\n",
       "    }\n",
       "\n",
       "    .dataframe tbody tr th {\n",
       "        vertical-align: top;\n",
       "    }\n",
       "\n",
       "    .dataframe thead th {\n",
       "        text-align: right;\n",
       "    }\n",
       "</style>\n",
       "<table border=\"1\" class=\"dataframe\">\n",
       "  <thead>\n",
       "    <tr style=\"text-align: right;\">\n",
       "      <th></th>\n",
       "      <th>start</th>\n",
       "      <th>end</th>\n",
       "      <th>duration</th>\n",
       "      <th>round_epochs</th>\n",
       "      <th>loss</th>\n",
       "      <th>acc</th>\n",
       "      <th>val_loss</th>\n",
       "      <th>val_acc</th>\n",
       "      <th>lr</th>\n",
       "      <th>first_neuron</th>\n",
       "      <th>batch_size</th>\n",
       "      <th>epochs</th>\n",
       "      <th>optimizer</th>\n",
       "      <th>loss</th>\n",
       "      <th>first_activation</th>\n",
       "      <th>second_activation</th>\n",
       "      <th>last_activation</th>\n",
       "    </tr>\n",
       "  </thead>\n",
       "  <tbody>\n",
       "    <tr>\n",
       "      <th>0</th>\n",
       "      <td>07/21/22-054038</td>\n",
       "      <td>07/21/22-054047</td>\n",
       "      <td>9.459133</td>\n",
       "      <td>3</td>\n",
       "      <td>1.340229</td>\n",
       "      <td>0.403156</td>\n",
       "      <td>1.334860</td>\n",
       "      <td>0.400397</td>\n",
       "      <td>0.010</td>\n",
       "      <td>8</td>\n",
       "      <td>32</td>\n",
       "      <td>3</td>\n",
       "      <td>&lt;class 'keras.optimizers.optimizer_v2.nadam.Na...</td>\n",
       "      <td>categorical_crossentropy</td>\n",
       "      <td>hard_sigmoid</td>\n",
       "      <td>softplus</td>\n",
       "      <td>softmax</td>\n",
       "    </tr>\n",
       "    <tr>\n",
       "      <th>1</th>\n",
       "      <td>07/21/22-054047</td>\n",
       "      <td>07/21/22-054123</td>\n",
       "      <td>35.492751</td>\n",
       "      <td>3</td>\n",
       "      <td>1.184548</td>\n",
       "      <td>0.464117</td>\n",
       "      <td>1.186723</td>\n",
       "      <td>0.456615</td>\n",
       "      <td>0.100</td>\n",
       "      <td>128</td>\n",
       "      <td>5</td>\n",
       "      <td>3</td>\n",
       "      <td>&lt;class 'keras.optimizers.optimizer_v2.adam.Adam'&gt;</td>\n",
       "      <td>categorical_crossentropy</td>\n",
       "      <td>relu</td>\n",
       "      <td>linear</td>\n",
       "      <td>softmax</td>\n",
       "    </tr>\n",
       "    <tr>\n",
       "      <th>2</th>\n",
       "      <td>07/21/22-054123</td>\n",
       "      <td>07/21/22-054200</td>\n",
       "      <td>36.703696</td>\n",
       "      <td>3</td>\n",
       "      <td>1.291554</td>\n",
       "      <td>0.403156</td>\n",
       "      <td>1.288451</td>\n",
       "      <td>0.400397</td>\n",
       "      <td>0.010</td>\n",
       "      <td>128</td>\n",
       "      <td>5</td>\n",
       "      <td>3</td>\n",
       "      <td>&lt;class 'keras.optimizers.optimizer_v2.adam.Adam'&gt;</td>\n",
       "      <td>categorical_crossentropy</td>\n",
       "      <td>softplus</td>\n",
       "      <td>softsign</td>\n",
       "      <td>softmax</td>\n",
       "    </tr>\n",
       "    <tr>\n",
       "      <th>3</th>\n",
       "      <td>07/21/22-054200</td>\n",
       "      <td>07/21/22-054239</td>\n",
       "      <td>39.149079</td>\n",
       "      <td>3</td>\n",
       "      <td>1.338913</td>\n",
       "      <td>0.403025</td>\n",
       "      <td>1.333286</td>\n",
       "      <td>0.400397</td>\n",
       "      <td>0.001</td>\n",
       "      <td>64</td>\n",
       "      <td>5</td>\n",
       "      <td>3</td>\n",
       "      <td>&lt;class 'keras.optimizers.optimizer_v2.nadam.Na...</td>\n",
       "      <td>categorical_crossentropy</td>\n",
       "      <td>tanh</td>\n",
       "      <td>relu</td>\n",
       "      <td>softmax</td>\n",
       "    </tr>\n",
       "    <tr>\n",
       "      <th>4</th>\n",
       "      <td>07/21/22-054240</td>\n",
       "      <td>07/21/22-054301</td>\n",
       "      <td>21.579074</td>\n",
       "      <td>3</td>\n",
       "      <td>1.321379</td>\n",
       "      <td>0.403156</td>\n",
       "      <td>1.317627</td>\n",
       "      <td>0.400397</td>\n",
       "      <td>0.010</td>\n",
       "      <td>128</td>\n",
       "      <td>10</td>\n",
       "      <td>3</td>\n",
       "      <td>&lt;class 'keras.optimizers.optimizer_v2.adam.Adam'&gt;</td>\n",
       "      <td>categorical_crossentropy</td>\n",
       "      <td>softmax</td>\n",
       "      <td>tanh</td>\n",
       "      <td>softmax</td>\n",
       "    </tr>\n",
       "    <tr>\n",
       "      <th>5</th>\n",
       "      <td>07/21/22-054302</td>\n",
       "      <td>07/21/22-054310</td>\n",
       "      <td>8.266087</td>\n",
       "      <td>3</td>\n",
       "      <td>1.395933</td>\n",
       "      <td>0.132530</td>\n",
       "      <td>1.394615</td>\n",
       "      <td>0.131683</td>\n",
       "      <td>0.001</td>\n",
       "      <td>4</td>\n",
       "      <td>32</td>\n",
       "      <td>3</td>\n",
       "      <td>&lt;class 'keras.optimizers.optimizer_v2.nadam.Na...</td>\n",
       "      <td>categorical_crossentropy</td>\n",
       "      <td>sigmoid</td>\n",
       "      <td>softsign</td>\n",
       "      <td>softmax</td>\n",
       "    </tr>\n",
       "    <tr>\n",
       "      <th>6</th>\n",
       "      <td>07/21/22-054310</td>\n",
       "      <td>07/21/22-054342</td>\n",
       "      <td>32.332081</td>\n",
       "      <td>3</td>\n",
       "      <td>1.302653</td>\n",
       "      <td>0.403156</td>\n",
       "      <td>1.301378</td>\n",
       "      <td>0.400397</td>\n",
       "      <td>0.010</td>\n",
       "      <td>8</td>\n",
       "      <td>5</td>\n",
       "      <td>3</td>\n",
       "      <td>&lt;class 'keras.optimizers.optimizer_v2.nadam.Na...</td>\n",
       "      <td>categorical_crossentropy</td>\n",
       "      <td>softplus</td>\n",
       "      <td>softsign</td>\n",
       "      <td>softmax</td>\n",
       "    </tr>\n",
       "    <tr>\n",
       "      <th>7</th>\n",
       "      <td>07/21/22-054343</td>\n",
       "      <td>07/21/22-054416</td>\n",
       "      <td>33.712612</td>\n",
       "      <td>3</td>\n",
       "      <td>1.228727</td>\n",
       "      <td>0.450563</td>\n",
       "      <td>1.227717</td>\n",
       "      <td>0.447143</td>\n",
       "      <td>0.100</td>\n",
       "      <td>16</td>\n",
       "      <td>5</td>\n",
       "      <td>3</td>\n",
       "      <td>&lt;class 'keras.optimizers.optimizer_v2.nadam.Na...</td>\n",
       "      <td>categorical_crossentropy</td>\n",
       "      <td>relu</td>\n",
       "      <td>softmax</td>\n",
       "      <td>softmax</td>\n",
       "    </tr>\n",
       "    <tr>\n",
       "      <th>8</th>\n",
       "      <td>07/21/22-054417</td>\n",
       "      <td>07/21/22-054425</td>\n",
       "      <td>8.229789</td>\n",
       "      <td>3</td>\n",
       "      <td>1.312292</td>\n",
       "      <td>0.403156</td>\n",
       "      <td>1.311134</td>\n",
       "      <td>0.400397</td>\n",
       "      <td>0.100</td>\n",
       "      <td>4</td>\n",
       "      <td>32</td>\n",
       "      <td>3</td>\n",
       "      <td>&lt;class 'keras.optimizers.optimizer_v2.nadam.Na...</td>\n",
       "      <td>categorical_crossentropy</td>\n",
       "      <td>sigmoid</td>\n",
       "      <td>sigmoid</td>\n",
       "      <td>softmax</td>\n",
       "    </tr>\n",
       "  </tbody>\n",
       "</table>\n",
       "</div>"
      ],
      "text/plain": [
       "             start              end   duration  round_epochs      loss  \\\n",
       "0  07/21/22-054038  07/21/22-054047   9.459133             3  1.340229   \n",
       "1  07/21/22-054047  07/21/22-054123  35.492751             3  1.184548   \n",
       "2  07/21/22-054123  07/21/22-054200  36.703696             3  1.291554   \n",
       "3  07/21/22-054200  07/21/22-054239  39.149079             3  1.338913   \n",
       "4  07/21/22-054240  07/21/22-054301  21.579074             3  1.321379   \n",
       "5  07/21/22-054302  07/21/22-054310   8.266087             3  1.395933   \n",
       "6  07/21/22-054310  07/21/22-054342  32.332081             3  1.302653   \n",
       "7  07/21/22-054343  07/21/22-054416  33.712612             3  1.228727   \n",
       "8  07/21/22-054417  07/21/22-054425   8.229789             3  1.312292   \n",
       "\n",
       "        acc  val_loss   val_acc     lr  first_neuron  batch_size  epochs  \\\n",
       "0  0.403156  1.334860  0.400397  0.010             8          32       3   \n",
       "1  0.464117  1.186723  0.456615  0.100           128           5       3   \n",
       "2  0.403156  1.288451  0.400397  0.010           128           5       3   \n",
       "3  0.403025  1.333286  0.400397  0.001            64           5       3   \n",
       "4  0.403156  1.317627  0.400397  0.010           128          10       3   \n",
       "5  0.132530  1.394615  0.131683  0.001             4          32       3   \n",
       "6  0.403156  1.301378  0.400397  0.010             8           5       3   \n",
       "7  0.450563  1.227717  0.447143  0.100            16           5       3   \n",
       "8  0.403156  1.311134  0.400397  0.100             4          32       3   \n",
       "\n",
       "                                           optimizer  \\\n",
       "0  <class 'keras.optimizers.optimizer_v2.nadam.Na...   \n",
       "1  <class 'keras.optimizers.optimizer_v2.adam.Adam'>   \n",
       "2  <class 'keras.optimizers.optimizer_v2.adam.Adam'>   \n",
       "3  <class 'keras.optimizers.optimizer_v2.nadam.Na...   \n",
       "4  <class 'keras.optimizers.optimizer_v2.adam.Adam'>   \n",
       "5  <class 'keras.optimizers.optimizer_v2.nadam.Na...   \n",
       "6  <class 'keras.optimizers.optimizer_v2.nadam.Na...   \n",
       "7  <class 'keras.optimizers.optimizer_v2.nadam.Na...   \n",
       "8  <class 'keras.optimizers.optimizer_v2.nadam.Na...   \n",
       "\n",
       "                       loss first_activation second_activation last_activation  \n",
       "0  categorical_crossentropy     hard_sigmoid          softplus         softmax  \n",
       "1  categorical_crossentropy             relu            linear         softmax  \n",
       "2  categorical_crossentropy         softplus          softsign         softmax  \n",
       "3  categorical_crossentropy             tanh              relu         softmax  \n",
       "4  categorical_crossentropy          softmax              tanh         softmax  \n",
       "5  categorical_crossentropy          sigmoid          softsign         softmax  \n",
       "6  categorical_crossentropy         softplus          softsign         softmax  \n",
       "7  categorical_crossentropy             relu           softmax         softmax  \n",
       "8  categorical_crossentropy          sigmoid           sigmoid         softmax  "
      ]
     },
     "execution_count": 45,
     "metadata": {},
     "output_type": "execute_result"
    }
   ],
   "source": [
    "analyze_object.data"
   ]
  },
  {
   "cell_type": "code",
   "execution_count": 46,
   "id": "887c8629",
   "metadata": {},
   "outputs": [
    {
     "data": {
      "text/plain": [
       "0.45661473274230957"
      ]
     },
     "execution_count": 46,
     "metadata": {},
     "output_type": "execute_result"
    }
   ],
   "source": [
    "analyze_object.high('val_acc')"
   ]
  },
  {
   "cell_type": "code",
   "execution_count": 47,
   "id": "28aefee5",
   "metadata": {},
   "outputs": [
    {
     "data": {
      "text/plain": [
       "1"
      ]
     },
     "execution_count": 47,
     "metadata": {},
     "output_type": "execute_result"
    }
   ],
   "source": [
    "analyze_object.rounds2high('val_acc')"
   ]
  },
  {
   "cell_type": "code",
   "execution_count": 48,
   "id": "12c3499a",
   "metadata": {},
   "outputs": [
    {
     "data": {
      "text/plain": [
       "start                                                  07/21/22-054047\n",
       "end                                                    07/21/22-054123\n",
       "duration                                                     35.492751\n",
       "round_epochs                                                         3\n",
       "loss                                                          1.184548\n",
       "acc                                                           0.464117\n",
       "val_loss                                                      1.186723\n",
       "val_acc                                                       0.456615\n",
       "lr                                                                 0.1\n",
       "first_neuron                                                       128\n",
       "batch_size                                                           5\n",
       "epochs                                                               3\n",
       "optimizer            <class 'keras.optimizers.optimizer_v2.adam.Adam'>\n",
       "loss                                          categorical_crossentropy\n",
       "first_activation                                                  relu\n",
       "second_activation                                               linear\n",
       "last_activation                                                softmax\n",
       "Name: 1, dtype: object"
      ]
     },
     "execution_count": 48,
     "metadata": {},
     "output_type": "execute_result"
    }
   ],
   "source": [
    "n= analyze_object.rounds2high('val_acc')\n",
    "analyze_object.data.loc[n]"
   ]
  },
  {
   "cell_type": "code",
   "execution_count": 49,
   "id": "f138d2a2",
   "metadata": {},
   "outputs": [
    {
     "data": {
      "text/plain": [
       "array([['07/21/22-054047', 3, 'linear', 35.49275088310242, 0.1, 128, 5,\n",
       "        '07/21/22-054123',\n",
       "        <class 'keras.optimizers.optimizer_v2.adam.Adam'>, 3, 'relu',\n",
       "        'softmax', 0]], dtype=object)"
      ]
     },
     "execution_count": 49,
     "metadata": {},
     "output_type": "execute_result"
    }
   ],
   "source": [
    "analyze_object.best_params('val_acc', ['acc', 'loss', 'val_loss'], n =1) \n",
    "# the 1st parameter is the metric youre interested in, the 2nd parameter is the metrics you want excluded, it runs 10 scans by defualt, but you can change this to n = #\n",
    "# this returns the parameters for the run with highest val_acc (run 22)"
   ]
  },
  {
   "cell_type": "code",
   "execution_count": 50,
   "id": "af901b74",
   "metadata": {},
   "outputs": [
    {
     "data": {
      "text/plain": [
       "duration        0.539453\n",
       "round_epochs         NaN\n",
       "lr              0.453373\n",
       "first_neuron    0.352216\n",
       "batch_size     -0.557279\n",
       "epochs               NaN\n",
       "Name: val_acc, dtype: float64"
      ]
     },
     "execution_count": 50,
     "metadata": {},
     "output_type": "execute_result"
    }
   ],
   "source": [
    "analyze_object.correlate('val_acc', ['acc', 'loss', 'val_loss'])"
   ]
  },
  {
   "cell_type": "markdown",
   "id": "6f394e52",
   "metadata": {},
   "source": [
    "### Increasing the number of hidden layers for LSTM model"
   ]
  },
  {
   "cell_type": "markdown",
   "id": "5ac10056",
   "metadata": {},
   "source": [
    "#### LSTM2 Model"
   ]
  },
  {
   "cell_type": "code",
   "execution_count": 51,
   "id": "169937aa",
   "metadata": {},
   "outputs": [
    {
     "name": "stdout",
     "output_type": "stream",
     "text": [
      "Epoch 1/10\n",
      "546/546 [==============================] - 3s 3ms/step - loss: 1.2494 - accuracy: 0.4287\n",
      "Epoch 2/10\n",
      "546/546 [==============================] - 1s 2ms/step - loss: 1.1944 - accuracy: 0.4578\n",
      "Epoch 3/10\n",
      "546/546 [==============================] - 2s 3ms/step - loss: 1.1813 - accuracy: 0.4636\n",
      "Epoch 4/10\n",
      "546/546 [==============================] - 2s 3ms/step - loss: 1.1761 - accuracy: 0.4697\n",
      "Epoch 5/10\n",
      "546/546 [==============================] - 1s 3ms/step - loss: 1.1698 - accuracy: 0.4704\n",
      "Epoch 6/10\n",
      "546/546 [==============================] - 1s 2ms/step - loss: 1.1658 - accuracy: 0.4718\n",
      "Epoch 7/10\n",
      "546/546 [==============================] - 1s 2ms/step - loss: 1.1658 - accuracy: 0.4706\n",
      "Epoch 8/10\n",
      "546/546 [==============================] - 1s 2ms/step - loss: 1.1629 - accuracy: 0.4725\n",
      "Epoch 9/10\n",
      "546/546 [==============================] - 1s 2ms/step - loss: 1.1605 - accuracy: 0.4765\n",
      "Epoch 10/10\n",
      "546/546 [==============================] - 1s 3ms/step - loss: 1.1601 - accuracy: 0.4756\n"
     ]
    },
    {
     "data": {
      "text/plain": [
       "<keras.callbacks.History at 0x24d0859e880>"
      ]
     },
     "execution_count": 51,
     "metadata": {},
     "output_type": "execute_result"
    }
   ],
   "source": [
    "model_lstm2 = Sequential()                            \n",
    "model_lstm2.add(LSTM(16,\n",
    "                    activation='linear'))\n",
    "    \n",
    "model_lstm2.add(Dense(16,\n",
    "                    input_dim=X_train_lstm.shape[1],\n",
    "                    activation='relu'))\n",
    "model_lstm2.add(Dense(16,\n",
    "                    activation='relu'))\n",
    "    \n",
    "model_lstm2.add(Dense(4,\n",
    "                    activation='softmax'))\n",
    "\n",
    "opt = tf.keras.optimizers.Adam(learning_rate = 0.001, decay = 1e-5)  # the optimizer settings can have a large impact. Decay, decreases the learning rate\n",
    "model_lstm2.compile(optimizer = opt, loss = 'sparse_categorical_crossentropy', metrics = ['accuracy'])\n",
    "model_lstm2.fit(X_train_lstm, y_train, epochs = 10, batch_size = 32)"
   ]
  },
  {
   "cell_type": "code",
   "execution_count": 52,
   "id": "80d74951",
   "metadata": {},
   "outputs": [
    {
     "name": "stdout",
     "output_type": "stream",
     "text": [
      "137/137 [==============================] - 1s 2ms/step - loss: 1.1769 - accuracy: 0.4677\n"
     ]
    }
   ],
   "source": [
    "val_loss, val_acc = model_lstm2.evaluate(X_test_lstm, y_test)"
   ]
  },
  {
   "cell_type": "code",
   "execution_count": 53,
   "id": "df381b61",
   "metadata": {},
   "outputs": [
    {
     "name": "stdout",
     "output_type": "stream",
     "text": [
      "137/137 [==============================] - 0s 1ms/step\n",
      "              precision    recall  f1-score   support\n",
      "\n",
      "           0       0.54      0.15      0.23       572\n",
      "           1       0.34      0.44      0.38      1007\n",
      "           2       0.33      0.02      0.04      1029\n",
      "           3       0.53      0.85      0.65      1756\n",
      "\n",
      "    accuracy                           0.47      4364\n",
      "   macro avg       0.43      0.36      0.32      4364\n",
      "weighted avg       0.44      0.47      0.39      4364\n",
      "\n"
     ]
    }
   ],
   "source": [
    "y_pred = model_lstm2.predict(X_test_lstm)\n",
    "y_pred_sev = np.argmax(y_pred, axis=1)\n",
    "\n",
    "print(classification_report(y_test, y_pred_sev))"
   ]
  },
  {
   "cell_type": "code",
   "execution_count": 54,
   "id": "74f0f9b6",
   "metadata": {},
   "outputs": [
    {
     "data": {
      "image/png": "[encoded data removed]",
      "text/plain": [
       "<Figure size 1152x504 with 2 Axes>"
      ]
     },
     "metadata": {},
     "output_type": "display_data"
    }
   ],
   "source": [
    "matrix = confusion_matrix(y_test, y_pred_sev)\n",
    "matrix = matrix.astype('float') / matrix.sum(axis=1)[:, np.newaxis]\n",
    "\n",
    "# Build the plot\n",
    "plt.figure(figsize=(16,7))\n",
    "sns.set(font_scale=1.4)\n",
    "sns.heatmap(matrix, annot=True, annot_kws={'size':10},\n",
    "            cmap=plt.cm.Greens, linewidths=0.2)\n",
    "\n",
    "# Add labels to the plot\n",
    "class_names = ['0', '1','2', '3']\n",
    "tick_marks = np.arange(len(class_names))\n",
    "tick_marks2 = tick_marks + 0.5\n",
    "plt.xticks(tick_marks, class_names, rotation=25)\n",
    "plt.yticks(tick_marks2, class_names, rotation=0)\n",
    "plt.xlabel('Predicted label')\n",
    "plt.ylabel('True label')\n",
    "plt.title('LSTM2 Confusion Matrix')\n",
    "plt.show()"
   ]
  },
  {
   "cell_type": "markdown",
   "id": "896f1385",
   "metadata": {},
   "source": [
    "### LSTM3"
   ]
  },
  {
   "cell_type": "code",
   "execution_count": 55,
   "id": "867bde18",
   "metadata": {},
   "outputs": [
    {
     "name": "stdout",
     "output_type": "stream",
     "text": [
      "Epoch 1/20\n",
      "546/546 [==============================] - 5s 3ms/step - loss: 1.2224 - accuracy: 0.4433\n",
      "Epoch 2/20\n",
      "546/546 [==============================] - 2s 3ms/step - loss: 1.1838 - accuracy: 0.4626\n",
      "Epoch 3/20\n",
      "546/546 [==============================] - 2s 4ms/step - loss: 1.1742 - accuracy: 0.4669\n",
      "Epoch 4/20\n",
      "546/546 [==============================] - 2s 4ms/step - loss: 1.1707 - accuracy: 0.4700\n",
      "Epoch 5/20\n",
      "546/546 [==============================] - 2s 3ms/step - loss: 1.1659 - accuracy: 0.4735\n",
      "Epoch 6/20\n",
      "546/546 [==============================] - 2s 3ms/step - loss: 1.1651 - accuracy: 0.4702\n",
      "Epoch 7/20\n",
      "546/546 [==============================] - 2s 3ms/step - loss: 1.1589 - accuracy: 0.4761\n",
      "Epoch 8/20\n",
      "546/546 [==============================] - 2s 3ms/step - loss: 1.1573 - accuracy: 0.4775\n",
      "Epoch 9/20\n",
      "546/546 [==============================] - 2s 3ms/step - loss: 1.1554 - accuracy: 0.4765\n",
      "Epoch 10/20\n",
      "546/546 [==============================] - 2s 3ms/step - loss: 1.1527 - accuracy: 0.4779\n",
      "Epoch 11/20\n",
      "546/546 [==============================] - 2s 3ms/step - loss: 1.1516 - accuracy: 0.4787\n",
      "Epoch 12/20\n",
      "546/546 [==============================] - 2s 4ms/step - loss: 1.1487 - accuracy: 0.4805\n",
      "Epoch 13/20\n",
      "546/546 [==============================] - 2s 3ms/step - loss: 1.1467 - accuracy: 0.4824\n",
      "Epoch 14/20\n",
      "546/546 [==============================] - 2s 3ms/step - loss: 1.1431 - accuracy: 0.4822\n",
      "Epoch 15/20\n",
      "546/546 [==============================] - 1s 3ms/step - loss: 1.1411 - accuracy: 0.4845\n",
      "Epoch 16/20\n",
      "546/546 [==============================] - 2s 3ms/step - loss: 1.1390 - accuracy: 0.4877\n",
      "Epoch 17/20\n",
      "546/546 [==============================] - 2s 3ms/step - loss: 1.1371 - accuracy: 0.4922\n",
      "Epoch 18/20\n",
      "546/546 [==============================] - 2s 3ms/step - loss: 1.1338 - accuracy: 0.4937\n",
      "Epoch 19/20\n",
      "546/546 [==============================] - 2s 3ms/step - loss: 1.1322 - accuracy: 0.4908\n",
      "Epoch 20/20\n",
      "546/546 [==============================] - 1s 3ms/step - loss: 1.1289 - accuracy: 0.4934\n"
     ]
    },
    {
     "data": {
      "text/plain": [
       "<keras.callbacks.History at 0x24d0b62e250>"
      ]
     },
     "execution_count": 55,
     "metadata": {},
     "output_type": "execute_result"
    }
   ],
   "source": [
    "model_lstm2 = Sequential()                            \n",
    "model_lstm2.add(LSTM(16,\n",
    "                    activation='tanh'))\n",
    "    \n",
    "model_lstm2.add(Dense(16,\n",
    "                    input_dim=X_train_lstm.shape[1],\n",
    "                    activation='relu'))\n",
    "model_lstm2.add(Dense(16,\n",
    "                    activation='relu'))\n",
    "    \n",
    "model_lstm2.add(Dense(4,\n",
    "                    activation='softmax'))\n",
    "\n",
    "opt = tf.keras.optimizers.Adamax(learning_rate = 0.01, decay = 1e-5)  # the optimizer settings can have a large impact. Decay, decreases the learning rate\n",
    "model_lstm2.compile(optimizer = opt, loss = 'sparse_categorical_crossentropy', metrics = ['accuracy'])\n",
    "model_lstm2.fit(X_train_lstm, y_train, epochs = 20, batch_size = 32)"
   ]
  },
  {
   "cell_type": "code",
   "execution_count": 56,
   "id": "0b277cfb",
   "metadata": {},
   "outputs": [
    {
     "name": "stdout",
     "output_type": "stream",
     "text": [
      "137/137 [==============================] - 1s 2ms/step - loss: 1.1907 - accuracy: 0.4533\n"
     ]
    }
   ],
   "source": [
    "val_loss, val_acc = model_lstm2.evaluate(X_test_lstm, y_test)"
   ]
  },
  {
   "cell_type": "code",
   "execution_count": 57,
   "id": "85ddf755",
   "metadata": {},
   "outputs": [
    {
     "name": "stdout",
     "output_type": "stream",
     "text": [
      "137/137 [==============================] - 1s 2ms/step\n",
      "              precision    recall  f1-score   support\n",
      "\n",
      "           0       0.46      0.25      0.32       572\n",
      "           1       0.33      0.29      0.31      1007\n",
      "           2       0.28      0.20      0.23      1029\n",
      "           3       0.55      0.76      0.64      1756\n",
      "\n",
      "    accuracy                           0.45      4364\n",
      "   macro avg       0.40      0.38      0.38      4364\n",
      "weighted avg       0.42      0.45      0.43      4364\n",
      "\n"
     ]
    }
   ],
   "source": [
    "y_pred = model_lstm2.predict(X_test_lstm)\n",
    "y_pred_sev = np.argmax(y_pred, axis=1)\n",
    "\n",
    "print(classification_report(y_test, y_pred_sev))"
   ]
  },
  {
   "cell_type": "code",
   "execution_count": 58,
   "id": "d7f49635",
   "metadata": {},
   "outputs": [
    {
     "data": {
      "image/png": "[encoded data removed]",
      "text/plain": [
       "<Figure size 1152x504 with 2 Axes>"
      ]
     },
     "metadata": {},
     "output_type": "display_data"
    }
   ],
   "source": [
    "matrix = confusion_matrix(y_test, y_pred_sev)\n",
    "matrix = matrix.astype('float') / matrix.sum(axis=1)[:, np.newaxis]\n",
    "\n",
    "# Build the plot\n",
    "plt.figure(figsize=(16,7))\n",
    "sns.set(font_scale=1.4)\n",
    "sns.heatmap(matrix, annot=True, annot_kws={'size':10},\n",
    "            cmap=plt.cm.Greens, linewidths=0.2)\n",
    "\n",
    "# Add labels to the plot\n",
    "class_names = ['0', '1','2', '3']\n",
    "tick_marks = np.arange(len(class_names))\n",
    "tick_marks2 = tick_marks + 0.5\n",
    "plt.xticks(tick_marks, class_names, rotation=25)\n",
    "plt.yticks(tick_marks2, class_names, rotation=0)\n",
    "plt.xlabel('Predicted label')\n",
    "plt.ylabel('True label')\n",
    "plt.title('LSTM2 Confusion Matrix')\n",
    "plt.show()"
   ]
  },
  {
   "cell_type": "code",
   "execution_count": null,
   "id": "cfd3077b",
   "metadata": {},
   "outputs": [],
   "source": []
  }
 ],
 "metadata": {
  "kernelspec": {
   "display_name": "Python 3 (ipykernel)",
   "language": "python",
   "name": "python3"
  },
  "language_info": {
   "codemirror_mode": {
    "name": "ipython",
    "version": 3
   },
   "file_extension": ".py",
   "mimetype": "text/x-python",
   "name": "python",
   "nbconvert_exporter": "python",
   "pygments_lexer": "ipython3",
   "version": "3.9.12"
  }
 },
 "nbformat": 4,
 "nbformat_minor": 5
}
