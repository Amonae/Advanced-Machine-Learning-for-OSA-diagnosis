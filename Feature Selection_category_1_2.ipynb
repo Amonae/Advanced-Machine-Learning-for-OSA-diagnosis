{
 "cells": [
  {
   "cell_type": "markdown",
   "metadata": {},
   "source": [
    "# Feature selection by category or reference paper\n",
    "This tests all feature sets by classifier\n",
    "\n",
    "Separating Severity 1 v 2"
   ]
  },
  {
   "cell_type": "code",
   "execution_count": 1,
   "metadata": {},
   "outputs": [],
   "source": [
    "import pandas as pd\n",
    "from sklearn.model_selection import train_test_split\n",
    "\n",
    "from sklearn import metrics\n",
    "import numpy as np\n",
    "import matplotlib.pyplot as plt\n",
    "import seaborn as sns\n",
    "from sklearn.metrics import confusion_matrix, classification_report\n",
    "from sklearn.metrics import balanced_accuracy_score, precision_score, recall_score\n",
    "\n",
    "from sklearn.preprocessing import StandardScaler  \n",
    "\n",
    "from sklearn.ensemble import RandomForestClassifier\n",
    "from sklearn.neural_network import MLPClassifier\n",
    "from sklearn.svm import LinearSVC\n",
    "from sklearn.linear_model import LogisticRegression\n",
    "from sklearn.naive_bayes import GaussianNB\n"
   ]
  },
  {
   "cell_type": "code",
   "execution_count": 2,
   "metadata": {},
   "outputs": [],
   "source": [
    "data = pd.read_csv(\"OSA_complete_patients.csv\", index_col = 0)\n",
    "# this data file was created using the RF_no_nan_data.ipynb file which should be in the missing value imputation folder"
   ]
  },
  {
   "cell_type": "code",
   "execution_count": 3,
   "metadata": {},
   "outputs": [
    {
     "data": {
      "text/html": [
       "<div>\n",
       "<style scoped>\n",
       "    .dataframe tbody tr th:only-of-type {\n",
       "        vertical-align: middle;\n",
       "    }\n",
       "\n",
       "    .dataframe tbody tr th {\n",
       "        vertical-align: top;\n",
       "    }\n",
       "\n",
       "    .dataframe thead th {\n",
       "        text-align: right;\n",
       "    }\n",
       "</style>\n",
       "<table border=\"1\" class=\"dataframe\">\n",
       "  <thead>\n",
       "    <tr style=\"text-align: right;\">\n",
       "      <th></th>\n",
       "      <th>PatientID</th>\n",
       "      <th>Sex</th>\n",
       "      <th>Age</th>\n",
       "      <th>Current_smoker</th>\n",
       "      <th>Former_smoker</th>\n",
       "      <th>Sedentary</th>\n",
       "      <th>Height</th>\n",
       "      <th>Weight</th>\n",
       "      <th>Cervical_perimeter</th>\n",
       "      <th>Abdominal_perimeter</th>\n",
       "      <th>...</th>\n",
       "      <th>Nocturnal_perspiration</th>\n",
       "      <th>Shortness_of_breath_on_exertion</th>\n",
       "      <th>Nocturia</th>\n",
       "      <th>Drowsiness_accident</th>\n",
       "      <th>Near_miss_accident</th>\n",
       "      <th>Respiratory_arrest</th>\n",
       "      <th>Epworth_scale</th>\n",
       "      <th>Pichots_scale</th>\n",
       "      <th>Depression_scale</th>\n",
       "      <th>Severity</th>\n",
       "    </tr>\n",
       "  </thead>\n",
       "  <tbody>\n",
       "    <tr>\n",
       "      <th>39</th>\n",
       "      <td>23</td>\n",
       "      <td>2.0</td>\n",
       "      <td>57.883641</td>\n",
       "      <td>0.0</td>\n",
       "      <td>0.0</td>\n",
       "      <td>0.0</td>\n",
       "      <td>172.0</td>\n",
       "      <td>90.0</td>\n",
       "      <td>45.0</td>\n",
       "      <td>125.0</td>\n",
       "      <td>...</td>\n",
       "      <td>0.0</td>\n",
       "      <td>0.0</td>\n",
       "      <td>1.0</td>\n",
       "      <td>0.0</td>\n",
       "      <td>0.0</td>\n",
       "      <td>0.0</td>\n",
       "      <td>3.0</td>\n",
       "      <td>4.0</td>\n",
       "      <td>5.0</td>\n",
       "      <td>3</td>\n",
       "    </tr>\n",
       "    <tr>\n",
       "      <th>41</th>\n",
       "      <td>24</td>\n",
       "      <td>2.0</td>\n",
       "      <td>60.796715</td>\n",
       "      <td>0.0</td>\n",
       "      <td>0.0</td>\n",
       "      <td>0.0</td>\n",
       "      <td>156.0</td>\n",
       "      <td>85.0</td>\n",
       "      <td>35.0</td>\n",
       "      <td>113.0</td>\n",
       "      <td>...</td>\n",
       "      <td>0.0</td>\n",
       "      <td>1.0</td>\n",
       "      <td>1.0</td>\n",
       "      <td>0.0</td>\n",
       "      <td>0.0</td>\n",
       "      <td>1.0</td>\n",
       "      <td>19.0</td>\n",
       "      <td>17.0</td>\n",
       "      <td>4.0</td>\n",
       "      <td>3</td>\n",
       "    </tr>\n",
       "    <tr>\n",
       "      <th>46</th>\n",
       "      <td>28</td>\n",
       "      <td>1.0</td>\n",
       "      <td>63.438741</td>\n",
       "      <td>0.0</td>\n",
       "      <td>0.0</td>\n",
       "      <td>0.0</td>\n",
       "      <td>178.0</td>\n",
       "      <td>68.0</td>\n",
       "      <td>35.0</td>\n",
       "      <td>73.0</td>\n",
       "      <td>...</td>\n",
       "      <td>0.0</td>\n",
       "      <td>0.0</td>\n",
       "      <td>1.0</td>\n",
       "      <td>0.0</td>\n",
       "      <td>0.0</td>\n",
       "      <td>1.0</td>\n",
       "      <td>5.0</td>\n",
       "      <td>3.0</td>\n",
       "      <td>0.0</td>\n",
       "      <td>1</td>\n",
       "    </tr>\n",
       "    <tr>\n",
       "      <th>55</th>\n",
       "      <td>32</td>\n",
       "      <td>1.0</td>\n",
       "      <td>28.736482</td>\n",
       "      <td>0.0</td>\n",
       "      <td>0.0</td>\n",
       "      <td>0.0</td>\n",
       "      <td>180.0</td>\n",
       "      <td>69.0</td>\n",
       "      <td>36.0</td>\n",
       "      <td>83.0</td>\n",
       "      <td>...</td>\n",
       "      <td>0.0</td>\n",
       "      <td>0.0</td>\n",
       "      <td>0.0</td>\n",
       "      <td>0.0</td>\n",
       "      <td>0.0</td>\n",
       "      <td>0.0</td>\n",
       "      <td>2.0</td>\n",
       "      <td>0.0</td>\n",
       "      <td>0.0</td>\n",
       "      <td>0</td>\n",
       "    </tr>\n",
       "    <tr>\n",
       "      <th>56</th>\n",
       "      <td>33</td>\n",
       "      <td>1.0</td>\n",
       "      <td>56.802190</td>\n",
       "      <td>0.0</td>\n",
       "      <td>0.0</td>\n",
       "      <td>0.0</td>\n",
       "      <td>185.0</td>\n",
       "      <td>118.0</td>\n",
       "      <td>43.0</td>\n",
       "      <td>106.0</td>\n",
       "      <td>...</td>\n",
       "      <td>0.0</td>\n",
       "      <td>0.0</td>\n",
       "      <td>0.0</td>\n",
       "      <td>0.0</td>\n",
       "      <td>0.0</td>\n",
       "      <td>1.0</td>\n",
       "      <td>12.0</td>\n",
       "      <td>13.0</td>\n",
       "      <td>2.0</td>\n",
       "      <td>3</td>\n",
       "    </tr>\n",
       "  </tbody>\n",
       "</table>\n",
       "<p>5 rows × 51 columns</p>\n",
       "</div>"
      ],
      "text/plain": [
       "    PatientID  Sex        Age  Current_smoker  Former_smoker  Sedentary  \\\n",
       "39         23  2.0  57.883641             0.0            0.0        0.0   \n",
       "41         24  2.0  60.796715             0.0            0.0        0.0   \n",
       "46         28  1.0  63.438741             0.0            0.0        0.0   \n",
       "55         32  1.0  28.736482             0.0            0.0        0.0   \n",
       "56         33  1.0  56.802190             0.0            0.0        0.0   \n",
       "\n",
       "    Height  Weight  Cervical_perimeter  Abdominal_perimeter  ...  \\\n",
       "39   172.0    90.0                45.0                125.0  ...   \n",
       "41   156.0    85.0                35.0                113.0  ...   \n",
       "46   178.0    68.0                35.0                 73.0  ...   \n",
       "55   180.0    69.0                36.0                 83.0  ...   \n",
       "56   185.0   118.0                43.0                106.0  ...   \n",
       "\n",
       "    Nocturnal_perspiration  Shortness_of_breath_on_exertion  Nocturia  \\\n",
       "39                     0.0                              0.0       1.0   \n",
       "41                     0.0                              1.0       1.0   \n",
       "46                     0.0                              0.0       1.0   \n",
       "55                     0.0                              0.0       0.0   \n",
       "56                     0.0                              0.0       0.0   \n",
       "\n",
       "    Drowsiness_accident  Near_miss_accident  Respiratory_arrest  \\\n",
       "39                  0.0                 0.0                 0.0   \n",
       "41                  0.0                 0.0                 1.0   \n",
       "46                  0.0                 0.0                 1.0   \n",
       "55                  0.0                 0.0                 0.0   \n",
       "56                  0.0                 0.0                 1.0   \n",
       "\n",
       "    Epworth_scale  Pichots_scale  Depression_scale  Severity  \n",
       "39            3.0            4.0               5.0         3  \n",
       "41           19.0           17.0               4.0         3  \n",
       "46            5.0            3.0               0.0         1  \n",
       "55            2.0            0.0               0.0         0  \n",
       "56           12.0           13.0               2.0         3  \n",
       "\n",
       "[5 rows x 51 columns]"
      ]
     },
     "execution_count": 3,
     "metadata": {},
     "output_type": "execute_result"
    }
   ],
   "source": [
    "data.head()"
   ]
  },
  {
   "cell_type": "code",
   "execution_count": 4,
   "metadata": {},
   "outputs": [],
   "source": [
    "features = ['Sex', 'Age', 'Current_smoker', 'Former_smoker',\n",
    "       'Sedentary', 'Height', 'Weight', 'Cervical_perimeter',\n",
    "       'Abdominal_perimeter', 'Systolic_BP', 'Diastolic_BP',\n",
    "       'Maxillofacial_profile', 'BMI', 'High_BP', 'Asthma', 'Rhinitis', 'COPD',\n",
    "       'Respiratory_fail', 'Myocardial_infarct', 'Coronary_fail',\n",
    "       'Arrhythmias', 'Stroke', 'Heart_fail', 'Arteriopathy', 'Gastric_reflux',\n",
    "       'Glaucoma', 'Diabetes', 'Hypercholesterolemia', 'Hypertriglyceridemia',\n",
    "       'Hypo(er)thyroidism', 'Depression', 'Obesity', 'Dysmorphology',\n",
    "       'Restless_Leg_Syndrome', 'Snoring', 'Diurnal_somnolence',\n",
    "       'Driving_drowsiness', 'Morning_fatigue', 'Morning_headache',\n",
    "       'Memory_problem', 'Nocturnal_perspiration',\n",
    "       'Shortness_of_breath_on_exertion', 'Nocturia', 'Drowsiness_accident',\n",
    "       'Near_miss_accident', 'Respiratory_arrest', 'Epworth_scale',\n",
    "       'Pichots_scale', 'Depression_scale']"
   ]
  },
  {
   "cell_type": "markdown",
   "metadata": {},
   "source": [
    "### Wu et al. [25] \n",
    "age; body mass index; Epworth Sleepiness\n",
    "Scale; waistline; neck circumference; and\n",
    "difference of blood pressure before going\n",
    "to sleep and early in the morning"
   ]
  },
  {
   "cell_type": "code",
   "execution_count": 5,
   "metadata": {},
   "outputs": [],
   "source": [
    "wu = ['Age','BMI','Epworth_scale',  'Abdominal_perimeter', 'Cervical_perimeter','Systolic_BP', 'Diastolic_BP']\n",
    "# The Wu paper included a feature described as \"The difference of blood presure before going to sleep and early in the morning.\" \n",
    "# This dataset did not include that feature, so it is substituted here with disastolic and systolic BP"
   ]
  },
  {
   "cell_type": "markdown",
   "metadata": {},
   "source": [
    "### Mencar et al. [15]\n",
    "body mass index; gender; and Epworth\n",
    "Sleepiness Scale"
   ]
  },
  {
   "cell_type": "code",
   "execution_count": 6,
   "metadata": {},
   "outputs": [],
   "source": [
    "mencar = ['BMI', 'Sex', 'Epworth_scale']"
   ]
  },
  {
   "cell_type": "markdown",
   "metadata": {},
   "source": [
    "### Huang et al. [12] \n",
    "age; waistline; neck circumference; snoring;\n",
    "sleep onset latency; and witnessed apnea"
   ]
  },
  {
   "cell_type": "code",
   "execution_count": 7,
   "metadata": {},
   "outputs": [],
   "source": [
    "huang = ['Age','Cervical_perimeter', 'Snoring']\n",
    "# The Huang paper included the features: sleep onset latency and witnessed apnea\n",
    "# This dataset did not included sleep onset latency data, and including results for witnessed apnea would skew the results so it was not included"
   ]
  },
  {
   "cell_type": "markdown",
   "metadata": {},
   "source": [
    "### Ustun et al. [21] \n",
    "age; body mass index; gender; diabetes; hypertension; and tabagism (smoker status)"
   ]
  },
  {
   "cell_type": "code",
   "execution_count": 8,
   "metadata": {},
   "outputs": [],
   "source": [
    "ustun = ['Age','BMI', 'Sex','Diabetes', 'High_BP', 'Current_smoker', 'Former_smoker']"
   ]
  },
  {
   "cell_type": "markdown",
   "metadata": {},
   "source": [
    "### Rodruiges Jr et al.\n",
    "age; nocturia frequency; body mass index;\n",
    "depression score; neck circumference; hip\n",
    "measurement; diastolic blood pressure; and\n",
    "tabagism"
   ]
  },
  {
   "cell_type": "code",
   "execution_count": 9,
   "metadata": {},
   "outputs": [],
   "source": [
    "rodruiges = ['Age', 'Nocturia', 'BMI', 'Depression_scale', 'Cervical_perimeter', 'Abdominal_perimeter', 'Diastolic_BP', 'Current_smoker', 'Former_smoker' ]"
   ]
  },
  {
   "cell_type": "markdown",
   "metadata": {},
   "source": [
    "### Categories"
   ]
  },
  {
   "cell_type": "code",
   "execution_count": 10,
   "metadata": {},
   "outputs": [],
   "source": [
    "demographic = ['Sex','Age','Current_smoker','Former_smoker','Sedentary']"
   ]
  },
  {
   "cell_type": "code",
   "execution_count": 11,
   "metadata": {},
   "outputs": [],
   "source": [
    "measurements = ['Height','Weight','Cervical_perimeter',\n",
    "               'Abdominal_perimeter','Systolic_BP','Diastolic_BP','Maxillofacial_profile','BMI','High_BP']"
   ]
  },
  {
   "cell_type": "code",
   "execution_count": 12,
   "metadata": {},
   "outputs": [],
   "source": [
    "comorbidities = ['Asthma','Rhinitis','COPD','Respiratory_fail','Myocardial_infarct','Coronary_fail','Arrhythmias','Stroke',\n",
    "                 'Heart_fail','Arteriopathy','Gastric_reflux','Glaucoma','Diabetes','Hypercholesterolemia','Hypertriglyceridemia',\n",
    "                 'Hypo(er)thyroidism','Depression','Obesity','Dysmorphology','Restless_Leg_Syndrome']"
   ]
  },
  {
   "cell_type": "code",
   "execution_count": 13,
   "metadata": {},
   "outputs": [],
   "source": [
    "symptoms=['Snoring','Diurnal_somnolence','Driving_drowsiness','Morning_fatigue','Morning_headache','Memory_problem',\n",
    "          'Nocturnal_perspiration','Shortness_of_breath_on_exertion','Nocturia','Drowsiness_accident','Near_miss_accident',\n",
    "          'Respiratory_arrest']"
   ]
  },
  {
   "cell_type": "code",
   "execution_count": 14,
   "metadata": {},
   "outputs": [],
   "source": [
    "questionnaires = ['Epworth_scale','Pichots_scale','Depression_scale']"
   ]
  },
  {
   "cell_type": "markdown",
   "metadata": {},
   "source": [
    "### Dataframe of only Severity 0 and 1"
   ]
  },
  {
   "cell_type": "code",
   "execution_count": 15,
   "metadata": {},
   "outputs": [
    {
     "name": "stdout",
     "output_type": "stream",
     "text": [
      "(10178, 51)\n",
      "2    5142\n",
      "1    5036\n",
      "Name: Severity, dtype: int64\n"
     ]
    }
   ],
   "source": [
    "sev = [1,2]\n",
    "data_1_2 = data[data['Severity'].isin(sev)]\n",
    "print(data_1_2.shape)\n",
    "print(data_1_2['Severity'].value_counts())"
   ]
  },
  {
   "cell_type": "markdown",
   "metadata": {},
   "source": [
    "## Models"
   ]
  },
  {
   "cell_type": "markdown",
   "metadata": {},
   "source": [
    "##### Note: Feature scaling is essential for machine learning algorithms that calculate distances between data"
   ]
  },
  {
   "cell_type": "markdown",
   "metadata": {},
   "source": [
    "### Creating dictionary of feature sets"
   ]
  },
  {
   "cell_type": "code",
   "execution_count": 16,
   "metadata": {},
   "outputs": [],
   "source": [
    "feature_list = {}\n",
    "\n",
    "feature_list['All']= features\n",
    "feature_list['Wu'] = wu\n",
    "feature_list['Mencar'] = mencar\n",
    "feature_list['Ustun'] = ustun\n",
    "feature_list['Huang'] = huang\n",
    "feature_list['Rodruiges'] = rodruiges\n",
    "feature_list['Demographic'] = demographic\n",
    "feature_list['Measurements'] = measurements\n",
    "feature_list['Comorbidities'] = comorbidities\n",
    "feature_list['Symptoms'] = symptoms\n",
    "feature_list['Questionnaires'] = questionnaires\n"
   ]
  },
  {
   "cell_type": "markdown",
   "metadata": {},
   "source": [
    "### Random Forests"
   ]
  },
  {
   "cell_type": "code",
   "execution_count": 17,
   "metadata": {},
   "outputs": [],
   "source": [
    "accuracy, precision, recall = {}, {}, {}\n",
    "\n",
    "for key in feature_list.keys():\n",
    "    \n",
    "    # Define X and y test/ train/ split\n",
    "    X=data_1_2[feature_list[key]]  # Features  \n",
    "    y=data_1_2['Severity']  # Labels\n",
    "    X_train, X_test, y_train, y_test = train_test_split(X, y, \n",
    "                                                    test_size=0.2, \n",
    "                                                    random_state=0, \n",
    "                                                    shuffle=True, \n",
    "                                                    stratify=y)\n",
    "    clf=RandomForestClassifier(n_estimators=100, class_weight='balanced', random_state = 0)  #defining classifier method\n",
    "    clf.fit(X_train,y_train)                   # training classifier \n",
    "    \n",
    "    # Prediction \n",
    "    predictions = clf.predict(X_test)\n",
    "    \n",
    "    # Calculate Accuracy, Precision and Recall Metrics\n",
    "    accuracy[key] = balanced_accuracy_score(predictions, y_test) \n",
    "    precision[key] = precision_score(predictions, y_test, average='weighted')\n",
    "    recall[key] = recall_score(predictions, y_test, average='weighted')"
   ]
  },
  {
   "cell_type": "code",
   "execution_count": 18,
   "metadata": {},
   "outputs": [
    {
     "data": {
      "text/html": [
       "<div>\n",
       "<style scoped>\n",
       "    .dataframe tbody tr th:only-of-type {\n",
       "        vertical-align: middle;\n",
       "    }\n",
       "\n",
       "    .dataframe tbody tr th {\n",
       "        vertical-align: top;\n",
       "    }\n",
       "\n",
       "    .dataframe thead th {\n",
       "        text-align: right;\n",
       "    }\n",
       "</style>\n",
       "<table border=\"1\" class=\"dataframe\">\n",
       "  <thead>\n",
       "    <tr style=\"text-align: right;\">\n",
       "      <th></th>\n",
       "      <th>Balanced Accuracy</th>\n",
       "      <th>Precision</th>\n",
       "      <th>Recall</th>\n",
       "    </tr>\n",
       "  </thead>\n",
       "  <tbody>\n",
       "    <tr>\n",
       "      <th>All</th>\n",
       "      <td>0.581196</td>\n",
       "      <td>0.581420</td>\n",
       "      <td>0.581041</td>\n",
       "    </tr>\n",
       "    <tr>\n",
       "      <th>Wu</th>\n",
       "      <td>0.552212</td>\n",
       "      <td>0.552459</td>\n",
       "      <td>0.552063</td>\n",
       "    </tr>\n",
       "    <tr>\n",
       "      <th>Mencar</th>\n",
       "      <td>0.506935</td>\n",
       "      <td>0.506995</td>\n",
       "      <td>0.506876</td>\n",
       "    </tr>\n",
       "    <tr>\n",
       "      <th>Ustun</th>\n",
       "      <td>0.532018</td>\n",
       "      <td>0.532143</td>\n",
       "      <td>0.531925</td>\n",
       "    </tr>\n",
       "    <tr>\n",
       "      <th>Huang</th>\n",
       "      <td>0.514688</td>\n",
       "      <td>0.514726</td>\n",
       "      <td>0.514735</td>\n",
       "    </tr>\n",
       "    <tr>\n",
       "      <th>Rodruiges</th>\n",
       "      <td>0.543880</td>\n",
       "      <td>0.544195</td>\n",
       "      <td>0.543713</td>\n",
       "    </tr>\n",
       "    <tr>\n",
       "      <th>Demographic</th>\n",
       "      <td>0.505115</td>\n",
       "      <td>0.505771</td>\n",
       "      <td>0.504912</td>\n",
       "    </tr>\n",
       "    <tr>\n",
       "      <th>Measurements</th>\n",
       "      <td>0.526000</td>\n",
       "      <td>0.526018</td>\n",
       "      <td>0.526031</td>\n",
       "    </tr>\n",
       "    <tr>\n",
       "      <th>Comorbidities</th>\n",
       "      <td>0.543935</td>\n",
       "      <td>0.585547</td>\n",
       "      <td>0.538310</td>\n",
       "    </tr>\n",
       "    <tr>\n",
       "      <th>Symptoms</th>\n",
       "      <td>0.536398</td>\n",
       "      <td>0.538621</td>\n",
       "      <td>0.535855</td>\n",
       "    </tr>\n",
       "    <tr>\n",
       "      <th>Questionnaires</th>\n",
       "      <td>0.494639</td>\n",
       "      <td>0.494670</td>\n",
       "      <td>0.494597</td>\n",
       "    </tr>\n",
       "  </tbody>\n",
       "</table>\n",
       "</div>"
      ],
      "text/plain": [
       "                Balanced Accuracy  Precision    Recall\n",
       "All                      0.581196   0.581420  0.581041\n",
       "Wu                       0.552212   0.552459  0.552063\n",
       "Mencar                   0.506935   0.506995  0.506876\n",
       "Ustun                    0.532018   0.532143  0.531925\n",
       "Huang                    0.514688   0.514726  0.514735\n",
       "Rodruiges                0.543880   0.544195  0.543713\n",
       "Demographic              0.505115   0.505771  0.504912\n",
       "Measurements             0.526000   0.526018  0.526031\n",
       "Comorbidities            0.543935   0.585547  0.538310\n",
       "Symptoms                 0.536398   0.538621  0.535855\n",
       "Questionnaires           0.494639   0.494670  0.494597"
      ]
     },
     "execution_count": 18,
     "metadata": {},
     "output_type": "execute_result"
    }
   ],
   "source": [
    "df_model = pd.DataFrame(index=feature_list.keys())\n",
    "df_model['Balanced Accuracy'] = accuracy.values()\n",
    "df_model['Precision'] = precision.values()\n",
    "df_model['Recall'] = recall.values()\n",
    "\n",
    "df_model"
   ]
  },
  {
   "cell_type": "markdown",
   "metadata": {},
   "source": [
    "##### Confusion matrix for model with highest balanced accuracy"
   ]
  },
  {
   "cell_type": "code",
   "execution_count": 19,
   "metadata": {},
   "outputs": [],
   "source": [
    "X=data_1_2[features]  # Features  \n",
    "y=data_1_2['Severity']  # Labels\n",
    "X_train, X_test, y_train, y_test = train_test_split(X, y, \n",
    "                                                    test_size=0.2, \n",
    "                                                    random_state=0, \n",
    "                                                    shuffle=True, \n",
    "                                                    stratify=y)\n",
    "clf=RandomForestClassifier(n_estimators=100, class_weight='balanced', random_state = 0)  #defining classifier method\n",
    "clf.fit(X_train,y_train)                   # training classifier \n",
    "    \n",
    "# Prediction \n",
    "predictions = clf.predict(X_test)"
   ]
  },
  {
   "cell_type": "code",
   "execution_count": 20,
   "metadata": {},
   "outputs": [
    {
     "data": {
      "image/png": "[encoded data removed]",
      "text/plain": [
       "<Figure size 1152x504 with 2 Axes>"
      ]
     },
     "metadata": {
      "needs_background": "light"
     },
     "output_type": "display_data"
    }
   ],
   "source": [
    "matrix = confusion_matrix(y_test, predictions)\n",
    "matrix = matrix.astype('float') / matrix.sum(axis=1)[:, np.newaxis]\n",
    "\n",
    "# Build the plot\n",
    "plt.figure(figsize=(16,7))\n",
    "sns.set(font_scale=1.4)\n",
    "sns.heatmap(matrix, annot=True, annot_kws={'size':10},\n",
    "            cmap=plt.cm.Greens, linewidths=0.2)\n",
    "\n",
    "# Add labels to the plot\n",
    "class_names = ['1', '2']\n",
    "tick_marks = np.arange(len(class_names))\n",
    "tick_marks2 = tick_marks + 0.5\n",
    "plt.xticks(tick_marks, class_names, rotation=25)\n",
    "plt.yticks(tick_marks2, class_names, rotation=0)\n",
    "plt.xlabel('Predicted label')\n",
    "plt.ylabel('True label')\n",
    "plt.title('Confusion Matrix for Random Forest Model')\n",
    "plt.show()"
   ]
  },
  {
   "cell_type": "markdown",
   "metadata": {},
   "source": [
    "### MLP"
   ]
  },
  {
   "cell_type": "code",
   "execution_count": 21,
   "metadata": {},
   "outputs": [],
   "source": [
    "accuracy, precision, recall = {}, {}, {}\n",
    "\n",
    "for key in feature_list.keys():\n",
    "    \n",
    "    # Define X and y test/ train/ split\n",
    "    X=data_1_2[feature_list[key]]  # Features  \n",
    "    y=data_1_2['Severity']  # Labels\n",
    "    X_train, X_test, y_train, y_test = train_test_split(X, y, \n",
    "                                                    test_size=0.2, \n",
    "                                                    random_state=0, \n",
    "                                                    shuffle=True, \n",
    "                                                    stratify=y)\n",
    "    # Data needs to be scaled\n",
    "    scaler = StandardScaler()  \n",
    "    # Scale only on training data\n",
    "    scaler.fit(X_train)  \n",
    "    X_train = scaler.transform(X_train)  \n",
    "    # apply same transformation to test data\n",
    "    X_test = scaler.transform(X_test)  \n",
    "    \n",
    "    clf=MLPClassifier(random_state=0, early_stopping=True)  #defining classifier method\n",
    "    clf.fit(X_train,y_train)                   # training classifier \n",
    "    \n",
    "    # Prediction \n",
    "    predictions = clf.predict(X_test)\n",
    "    \n",
    "    # Calculate Accuracy, Precision and Recall Metrics\n",
    "    accuracy[key] = balanced_accuracy_score(predictions, y_test) \n",
    "    precision[key] = precision_score(predictions, y_test, average='weighted')\n",
    "    recall[key] = recall_score(predictions, y_test, average='weighted')"
   ]
  },
  {
   "cell_type": "code",
   "execution_count": 22,
   "metadata": {},
   "outputs": [
    {
     "data": {
      "text/html": [
       "<div>\n",
       "<style scoped>\n",
       "    .dataframe tbody tr th:only-of-type {\n",
       "        vertical-align: middle;\n",
       "    }\n",
       "\n",
       "    .dataframe tbody tr th {\n",
       "        vertical-align: top;\n",
       "    }\n",
       "\n",
       "    .dataframe thead th {\n",
       "        text-align: right;\n",
       "    }\n",
       "</style>\n",
       "<table border=\"1\" class=\"dataframe\">\n",
       "  <thead>\n",
       "    <tr style=\"text-align: right;\">\n",
       "      <th></th>\n",
       "      <th>Balanced Accuracy</th>\n",
       "      <th>Precision</th>\n",
       "      <th>Recall</th>\n",
       "    </tr>\n",
       "  </thead>\n",
       "  <tbody>\n",
       "    <tr>\n",
       "      <th>All</th>\n",
       "      <td>0.591634</td>\n",
       "      <td>0.593533</td>\n",
       "      <td>0.590864</td>\n",
       "    </tr>\n",
       "    <tr>\n",
       "      <th>Wu</th>\n",
       "      <td>0.574599</td>\n",
       "      <td>0.574667</td>\n",
       "      <td>0.574656</td>\n",
       "    </tr>\n",
       "    <tr>\n",
       "      <th>Mencar</th>\n",
       "      <td>0.543162</td>\n",
       "      <td>0.548945</td>\n",
       "      <td>0.543222</td>\n",
       "    </tr>\n",
       "    <tr>\n",
       "      <th>Ustun</th>\n",
       "      <td>0.565802</td>\n",
       "      <td>0.568502</td>\n",
       "      <td>0.565815</td>\n",
       "    </tr>\n",
       "    <tr>\n",
       "      <th>Huang</th>\n",
       "      <td>0.558838</td>\n",
       "      <td>0.560715</td>\n",
       "      <td>0.558939</td>\n",
       "    </tr>\n",
       "    <tr>\n",
       "      <th>Rodruiges</th>\n",
       "      <td>0.582022</td>\n",
       "      <td>0.587640</td>\n",
       "      <td>0.581532</td>\n",
       "    </tr>\n",
       "    <tr>\n",
       "      <th>Demographic</th>\n",
       "      <td>0.543785</td>\n",
       "      <td>0.552111</td>\n",
       "      <td>0.543713</td>\n",
       "    </tr>\n",
       "    <tr>\n",
       "      <th>Measurements</th>\n",
       "      <td>0.551432</td>\n",
       "      <td>0.552964</td>\n",
       "      <td>0.551572</td>\n",
       "    </tr>\n",
       "    <tr>\n",
       "      <th>Comorbidities</th>\n",
       "      <td>0.551378</td>\n",
       "      <td>0.584260</td>\n",
       "      <td>0.546169</td>\n",
       "    </tr>\n",
       "    <tr>\n",
       "      <th>Symptoms</th>\n",
       "      <td>0.544732</td>\n",
       "      <td>0.549538</td>\n",
       "      <td>0.543713</td>\n",
       "    </tr>\n",
       "    <tr>\n",
       "      <th>Questionnaires</th>\n",
       "      <td>0.514762</td>\n",
       "      <td>0.514776</td>\n",
       "      <td>0.514735</td>\n",
       "    </tr>\n",
       "  </tbody>\n",
       "</table>\n",
       "</div>"
      ],
      "text/plain": [
       "                Balanced Accuracy  Precision    Recall\n",
       "All                      0.591634   0.593533  0.590864\n",
       "Wu                       0.574599   0.574667  0.574656\n",
       "Mencar                   0.543162   0.548945  0.543222\n",
       "Ustun                    0.565802   0.568502  0.565815\n",
       "Huang                    0.558838   0.560715  0.558939\n",
       "Rodruiges                0.582022   0.587640  0.581532\n",
       "Demographic              0.543785   0.552111  0.543713\n",
       "Measurements             0.551432   0.552964  0.551572\n",
       "Comorbidities            0.551378   0.584260  0.546169\n",
       "Symptoms                 0.544732   0.549538  0.543713\n",
       "Questionnaires           0.514762   0.514776  0.514735"
      ]
     },
     "execution_count": 22,
     "metadata": {},
     "output_type": "execute_result"
    }
   ],
   "source": [
    "df_model = pd.DataFrame(index=feature_list.keys())\n",
    "df_model['Balanced Accuracy'] = accuracy.values()\n",
    "df_model['Precision'] = precision.values()\n",
    "df_model['Recall'] = recall.values()\n",
    "\n",
    "df_model"
   ]
  },
  {
   "cell_type": "markdown",
   "metadata": {},
   "source": [
    "##### Confusion matrix for model with highest balanced accuracy"
   ]
  },
  {
   "cell_type": "code",
   "execution_count": 23,
   "metadata": {},
   "outputs": [],
   "source": [
    "X=data_1_2[features]  # Features  \n",
    "y=data_1_2['Severity']  # Labels\n",
    "X_train, X_test, y_train, y_test = train_test_split(X, y, \n",
    "                                                    test_size=0.2, \n",
    "                                                    random_state=0, \n",
    "                                                    shuffle=True, \n",
    "                                                    stratify=y)\n",
    " # Data needs to be scaled\n",
    "scaler = StandardScaler()  \n",
    "    # Scale only on training data\n",
    "scaler.fit(X_train)  \n",
    "X_train = scaler.transform(X_train)  \n",
    "    # apply same transformation to test data\n",
    "X_test = scaler.transform(X_test)  \n",
    "    \n",
    "clf=MLPClassifier(random_state=0, early_stopping=True)  #defining classifier method\n",
    "clf.fit(X_train,y_train)                   # training classifier \n",
    "    \n",
    "# Prediction \n",
    "predictions = clf.predict(X_test)"
   ]
  },
  {
   "cell_type": "code",
   "execution_count": 24,
   "metadata": {},
   "outputs": [
    {
     "data": {
      "image/png": "[encoded data removed]",
      "text/plain": [
       "<Figure size 1152x504 with 2 Axes>"
      ]
     },
     "metadata": {},
     "output_type": "display_data"
    }
   ],
   "source": [
    "matrix = confusion_matrix(y_test, predictions)\n",
    "matrix = matrix.astype('float') / matrix.sum(axis=1)[:, np.newaxis]\n",
    "\n",
    "# Build the plot\n",
    "plt.figure(figsize=(16,7))\n",
    "sns.set(font_scale=1.4)\n",
    "sns.heatmap(matrix, annot=True, annot_kws={'size':10},\n",
    "            cmap=plt.cm.Greens, linewidths=0.2)\n",
    "\n",
    "# Add labels to the plot\n",
    "class_names = ['1', '2']\n",
    "tick_marks = np.arange(len(class_names))\n",
    "tick_marks2 = tick_marks + 0.5\n",
    "plt.xticks(tick_marks, class_names, rotation=25)\n",
    "plt.yticks(tick_marks2, class_names, rotation=0)\n",
    "plt.xlabel('Predicted label')\n",
    "plt.ylabel('True label')\n",
    "plt.title('Confusion Matrix for MLP Model')\n",
    "plt.show()"
   ]
  },
  {
   "cell_type": "markdown",
   "metadata": {},
   "source": [
    "### SVM"
   ]
  },
  {
   "cell_type": "code",
   "execution_count": 25,
   "metadata": {},
   "outputs": [
    {
     "name": "stderr",
     "output_type": "stream",
     "text": [
      "C:\\ProgramData\\Anaconda3\\lib\\site-packages\\sklearn\\svm\\base.py:931: ConvergenceWarning: Liblinear failed to converge, increase the number of iterations.\n",
      "  \"the number of iterations.\", ConvergenceWarning)\n",
      "C:\\ProgramData\\Anaconda3\\lib\\site-packages\\sklearn\\svm\\base.py:931: ConvergenceWarning: Liblinear failed to converge, increase the number of iterations.\n",
      "  \"the number of iterations.\", ConvergenceWarning)\n"
     ]
    }
   ],
   "source": [
    "accuracy, precision, recall = {}, {}, {}\n",
    "\n",
    "for key in feature_list.keys():\n",
    "    \n",
    "    # Define X and y test/ train/ split\n",
    "    X=data_1_2[feature_list[key]]  # Features  \n",
    "    y=data_1_2['Severity']  # Labels\n",
    "    X_train, X_test, y_train, y_test = train_test_split(X, y, \n",
    "                                                    test_size=0.2, \n",
    "                                                    random_state=0, \n",
    "                                                    shuffle=True, \n",
    "                                                    stratify=y)\n",
    "    # Data needs to be scaled\n",
    "    scaler = StandardScaler()  \n",
    "    # Scale only on training data\n",
    "    scaler.fit(X_train)  \n",
    "    X_train = scaler.transform(X_train)  \n",
    "    # apply same transformation to test data\n",
    "    X_test = scaler.transform(X_test) \n",
    "    \n",
    "    clf=LinearSVC(class_weight='balanced', random_state = 0, max_iter = 5000)  #defining classifier method\n",
    "    clf.fit(X_train,y_train)                   # training classifier \n",
    "    \n",
    "    # Prediction \n",
    "    predictions = clf.predict(X_test)\n",
    "    \n",
    "    # Calculate Accuracy, Precision and Recall Metrics\n",
    "    accuracy[key] = balanced_accuracy_score(predictions, y_test) \n",
    "    precision[key] = precision_score(predictions, y_test, average='weighted')\n",
    "    recall[key] = recall_score(predictions, y_test, average='weighted')"
   ]
  },
  {
   "cell_type": "code",
   "execution_count": 26,
   "metadata": {},
   "outputs": [
    {
     "data": {
      "text/html": [
       "<div>\n",
       "<style scoped>\n",
       "    .dataframe tbody tr th:only-of-type {\n",
       "        vertical-align: middle;\n",
       "    }\n",
       "\n",
       "    .dataframe tbody tr th {\n",
       "        vertical-align: top;\n",
       "    }\n",
       "\n",
       "    .dataframe thead th {\n",
       "        text-align: right;\n",
       "    }\n",
       "</style>\n",
       "<table border=\"1\" class=\"dataframe\">\n",
       "  <thead>\n",
       "    <tr style=\"text-align: right;\">\n",
       "      <th></th>\n",
       "      <th>Balanced Accuracy</th>\n",
       "      <th>Precision</th>\n",
       "      <th>Recall</th>\n",
       "    </tr>\n",
       "  </thead>\n",
       "  <tbody>\n",
       "    <tr>\n",
       "      <th>All</th>\n",
       "      <td>0.583611</td>\n",
       "      <td>0.583752</td>\n",
       "      <td>0.583497</td>\n",
       "    </tr>\n",
       "    <tr>\n",
       "      <th>Wu</th>\n",
       "      <td>0.571868</td>\n",
       "      <td>0.572112</td>\n",
       "      <td>0.571709</td>\n",
       "    </tr>\n",
       "    <tr>\n",
       "      <th>Mencar</th>\n",
       "      <td>0.538735</td>\n",
       "      <td>0.545980</td>\n",
       "      <td>0.538802</td>\n",
       "    </tr>\n",
       "    <tr>\n",
       "      <th>Ustun</th>\n",
       "      <td>0.559158</td>\n",
       "      <td>0.559594</td>\n",
       "      <td>0.558939</td>\n",
       "    </tr>\n",
       "    <tr>\n",
       "      <th>Huang</th>\n",
       "      <td>0.551327</td>\n",
       "      <td>0.551882</td>\n",
       "      <td>0.551081</td>\n",
       "    </tr>\n",
       "    <tr>\n",
       "      <th>Rodruiges</th>\n",
       "      <td>0.563321</td>\n",
       "      <td>0.564548</td>\n",
       "      <td>0.562868</td>\n",
       "    </tr>\n",
       "    <tr>\n",
       "      <th>Demographic</th>\n",
       "      <td>0.544443</td>\n",
       "      <td>0.545003</td>\n",
       "      <td>0.544204</td>\n",
       "    </tr>\n",
       "    <tr>\n",
       "      <th>Measurements</th>\n",
       "      <td>0.554478</td>\n",
       "      <td>0.555817</td>\n",
       "      <td>0.554028</td>\n",
       "    </tr>\n",
       "    <tr>\n",
       "      <th>Comorbidities</th>\n",
       "      <td>0.544957</td>\n",
       "      <td>0.577808</td>\n",
       "      <td>0.540275</td>\n",
       "    </tr>\n",
       "    <tr>\n",
       "      <th>Symptoms</th>\n",
       "      <td>0.547834</td>\n",
       "      <td>0.550465</td>\n",
       "      <td>0.547151</td>\n",
       "    </tr>\n",
       "    <tr>\n",
       "      <th>Questionnaires</th>\n",
       "      <td>0.522666</td>\n",
       "      <td>0.522750</td>\n",
       "      <td>0.522593</td>\n",
       "    </tr>\n",
       "  </tbody>\n",
       "</table>\n",
       "</div>"
      ],
      "text/plain": [
       "                Balanced Accuracy  Precision    Recall\n",
       "All                      0.583611   0.583752  0.583497\n",
       "Wu                       0.571868   0.572112  0.571709\n",
       "Mencar                   0.538735   0.545980  0.538802\n",
       "Ustun                    0.559158   0.559594  0.558939\n",
       "Huang                    0.551327   0.551882  0.551081\n",
       "Rodruiges                0.563321   0.564548  0.562868\n",
       "Demographic              0.544443   0.545003  0.544204\n",
       "Measurements             0.554478   0.555817  0.554028\n",
       "Comorbidities            0.544957   0.577808  0.540275\n",
       "Symptoms                 0.547834   0.550465  0.547151\n",
       "Questionnaires           0.522666   0.522750  0.522593"
      ]
     },
     "execution_count": 26,
     "metadata": {},
     "output_type": "execute_result"
    }
   ],
   "source": [
    "df_model = pd.DataFrame(index=feature_list.keys())\n",
    "df_model['Balanced Accuracy'] = accuracy.values()\n",
    "df_model['Precision'] = precision.values()\n",
    "df_model['Recall'] = recall.values()\n",
    "\n",
    "df_model"
   ]
  },
  {
   "cell_type": "markdown",
   "metadata": {},
   "source": [
    "##### Confusion matrix for model with highest balanced accuracy"
   ]
  },
  {
   "cell_type": "code",
   "execution_count": 27,
   "metadata": {},
   "outputs": [],
   "source": [
    "X=data_1_2[features]  # Features  \n",
    "y=data_1_2['Severity']  # Labels\n",
    "X_train, X_test, y_train, y_test = train_test_split(X, y, \n",
    "                                                    test_size=0.2, \n",
    "                                                    random_state=0, \n",
    "                                                    shuffle=True, \n",
    "                                                    stratify=y)\n",
    " # Data needs to be scaled\n",
    "scaler = StandardScaler()  \n",
    "    # Scale only on training data\n",
    "scaler.fit(X_train)  \n",
    "X_train = scaler.transform(X_train)  \n",
    "    # apply same transformation to test data\n",
    "X_test = scaler.transform(X_test)  \n",
    "\n",
    "clf=LinearSVC(class_weight='balanced', random_state = 0, max_iter = 10000)  #defining classifier method\n",
    "clf.fit(X_train,y_train)                   # training classifier \n",
    "    \n",
    "# Prediction \n",
    "predictions = clf.predict(X_test)"
   ]
  },
  {
   "cell_type": "code",
   "execution_count": 28,
   "metadata": {},
   "outputs": [
    {
     "data": {
      "image/png": "[encoded data removed]",
      "text/plain": [
       "<Figure size 1152x504 with 2 Axes>"
      ]
     },
     "metadata": {},
     "output_type": "display_data"
    }
   ],
   "source": [
    "matrix = confusion_matrix(y_test, predictions)\n",
    "matrix = matrix.astype('float') / matrix.sum(axis=1)[:, np.newaxis]\n",
    "\n",
    "# Build the plot\n",
    "plt.figure(figsize=(16,7))\n",
    "sns.set(font_scale=1.4)\n",
    "sns.heatmap(matrix, annot=True, annot_kws={'size':10},\n",
    "            cmap=plt.cm.Greens, linewidths=0.2)\n",
    "\n",
    "# Add labels to the plot\n",
    "class_names = ['1', '2']\n",
    "tick_marks = np.arange(len(class_names))\n",
    "tick_marks2 = tick_marks + 0.5\n",
    "plt.xticks(tick_marks, class_names, rotation=25)\n",
    "plt.yticks(tick_marks2, class_names, rotation=0)\n",
    "plt.xlabel('Predicted label')\n",
    "plt.ylabel('True label')\n",
    "plt.title('Confusion Matrix for SVM Model')\n",
    "plt.show()"
   ]
  },
  {
   "cell_type": "markdown",
   "metadata": {},
   "source": [
    "### Naive Bayes"
   ]
  },
  {
   "cell_type": "code",
   "execution_count": 29,
   "metadata": {},
   "outputs": [],
   "source": [
    "accuracy, precision, recall = {}, {}, {}\n",
    "\n",
    "for key in feature_list.keys():\n",
    "    \n",
    "    # Define X and y test/ train/ split\n",
    "    X=data_1_2[feature_list[key]]  # Features  \n",
    "    y=data_1_2['Severity']  # Labels\n",
    "    X_train, X_test, y_train, y_test = train_test_split(X, y, \n",
    "                                                    test_size=0.2, \n",
    "                                                    random_state=0, \n",
    "                                                    shuffle=True, \n",
    "                                                    stratify=y)\n",
    "    clf=GaussianNB()  #defining classifier method\n",
    "    clf.fit(X_train,y_train)                   # training classifier \n",
    "    \n",
    "    # Prediction \n",
    "    predictions = clf.predict(X_test)\n",
    "    \n",
    "    # Calculate Accuracy, Precision and Recall Metrics\n",
    "    accuracy[key] = balanced_accuracy_score(predictions, y_test) \n",
    "    precision[key] = precision_score(predictions, y_test, average='weighted')\n",
    "    recall[key] = recall_score(predictions, y_test, average='weighted')"
   ]
  },
  {
   "cell_type": "code",
   "execution_count": 30,
   "metadata": {},
   "outputs": [
    {
     "data": {
      "text/html": [
       "<div>\n",
       "<style scoped>\n",
       "    .dataframe tbody tr th:only-of-type {\n",
       "        vertical-align: middle;\n",
       "    }\n",
       "\n",
       "    .dataframe tbody tr th {\n",
       "        vertical-align: top;\n",
       "    }\n",
       "\n",
       "    .dataframe thead th {\n",
       "        text-align: right;\n",
       "    }\n",
       "</style>\n",
       "<table border=\"1\" class=\"dataframe\">\n",
       "  <thead>\n",
       "    <tr style=\"text-align: right;\">\n",
       "      <th></th>\n",
       "      <th>Balanced Accuracy</th>\n",
       "      <th>Precision</th>\n",
       "      <th>Recall</th>\n",
       "    </tr>\n",
       "  </thead>\n",
       "  <tbody>\n",
       "    <tr>\n",
       "      <th>All</th>\n",
       "      <td>0.553191</td>\n",
       "      <td>0.645429</td>\n",
       "      <td>0.539784</td>\n",
       "    </tr>\n",
       "    <tr>\n",
       "      <th>Wu</th>\n",
       "      <td>0.568712</td>\n",
       "      <td>0.570651</td>\n",
       "      <td>0.568762</td>\n",
       "    </tr>\n",
       "    <tr>\n",
       "      <th>Mencar</th>\n",
       "      <td>0.549714</td>\n",
       "      <td>0.556772</td>\n",
       "      <td>0.549607</td>\n",
       "    </tr>\n",
       "    <tr>\n",
       "      <th>Ustun</th>\n",
       "      <td>0.555058</td>\n",
       "      <td>0.564940</td>\n",
       "      <td>0.553045</td>\n",
       "    </tr>\n",
       "    <tr>\n",
       "      <th>Huang</th>\n",
       "      <td>0.556306</td>\n",
       "      <td>0.570080</td>\n",
       "      <td>0.555501</td>\n",
       "    </tr>\n",
       "    <tr>\n",
       "      <th>Rodruiges</th>\n",
       "      <td>0.568747</td>\n",
       "      <td>0.568757</td>\n",
       "      <td>0.568762</td>\n",
       "    </tr>\n",
       "    <tr>\n",
       "      <th>Demographic</th>\n",
       "      <td>0.534079</td>\n",
       "      <td>0.534498</td>\n",
       "      <td>0.533890</td>\n",
       "    </tr>\n",
       "    <tr>\n",
       "      <th>Measurements</th>\n",
       "      <td>0.541709</td>\n",
       "      <td>0.541738</td>\n",
       "      <td>0.541749</td>\n",
       "    </tr>\n",
       "    <tr>\n",
       "      <th>Comorbidities</th>\n",
       "      <td>0.547714</td>\n",
       "      <td>0.687730</td>\n",
       "      <td>0.529961</td>\n",
       "    </tr>\n",
       "    <tr>\n",
       "      <th>Symptoms</th>\n",
       "      <td>0.549720</td>\n",
       "      <td>0.560931</td>\n",
       "      <td>0.547642</td>\n",
       "    </tr>\n",
       "    <tr>\n",
       "      <th>Questionnaires</th>\n",
       "      <td>0.516881</td>\n",
       "      <td>0.576241</td>\n",
       "      <td>0.516699</td>\n",
       "    </tr>\n",
       "  </tbody>\n",
       "</table>\n",
       "</div>"
      ],
      "text/plain": [
       "                Balanced Accuracy  Precision    Recall\n",
       "All                      0.553191   0.645429  0.539784\n",
       "Wu                       0.568712   0.570651  0.568762\n",
       "Mencar                   0.549714   0.556772  0.549607\n",
       "Ustun                    0.555058   0.564940  0.553045\n",
       "Huang                    0.556306   0.570080  0.555501\n",
       "Rodruiges                0.568747   0.568757  0.568762\n",
       "Demographic              0.534079   0.534498  0.533890\n",
       "Measurements             0.541709   0.541738  0.541749\n",
       "Comorbidities            0.547714   0.687730  0.529961\n",
       "Symptoms                 0.549720   0.560931  0.547642\n",
       "Questionnaires           0.516881   0.576241  0.516699"
      ]
     },
     "execution_count": 30,
     "metadata": {},
     "output_type": "execute_result"
    }
   ],
   "source": [
    "df_model = pd.DataFrame(index=feature_list.keys())\n",
    "df_model['Balanced Accuracy'] = accuracy.values()\n",
    "df_model['Precision'] = precision.values()\n",
    "df_model['Recall'] = recall.values()\n",
    "\n",
    "df_model"
   ]
  },
  {
   "cell_type": "markdown",
   "metadata": {},
   "source": [
    "##### Confusion matrix for model with highest balanced accuracy"
   ]
  },
  {
   "cell_type": "code",
   "execution_count": 37,
   "metadata": {},
   "outputs": [],
   "source": [
    "X=data_1_2[rodruiges]  # Features  \n",
    "y=data_1_2['Severity']  # Labels\n",
    "X_train, X_test, y_train, y_test = train_test_split(X, y, \n",
    "                                                    test_size=0.2, \n",
    "                                                    random_state=0, \n",
    "                                                    shuffle=True, \n",
    "                                                    stratify=y)\n",
    "clf=GaussianNB()  #defining classifier method\n",
    "clf.fit(X_train,y_train)                   # training classifier \n",
    "    \n",
    "# Prediction \n",
    "predictions = clf.predict(X_test)"
   ]
  },
  {
   "cell_type": "code",
   "execution_count": 38,
   "metadata": {},
   "outputs": [
    {
     "data": {
      "image/png": "[encoded data removed]",
      "text/plain": [
       "<Figure size 1152x504 with 2 Axes>"
      ]
     },
     "metadata": {},
     "output_type": "display_data"
    }
   ],
   "source": [
    "matrix = confusion_matrix(y_test, predictions)\n",
    "matrix = matrix.astype('float') / matrix.sum(axis=1)[:, np.newaxis]\n",
    "\n",
    "# Build the plot\n",
    "plt.figure(figsize=(16,7))\n",
    "sns.set(font_scale=1.4)\n",
    "sns.heatmap(matrix, annot=True, annot_kws={'size':10},\n",
    "            cmap=plt.cm.Greens, linewidths=0.2)\n",
    "\n",
    "# Add labels to the plot\n",
    "class_names = ['1', '2']\n",
    "tick_marks = np.arange(len(class_names))\n",
    "tick_marks2 = tick_marks + 0.5\n",
    "plt.xticks(tick_marks, class_names, rotation=25)\n",
    "plt.yticks(tick_marks2, class_names, rotation=0)\n",
    "plt.xlabel('Predicted label')\n",
    "plt.ylabel('True label')\n",
    "plt.title('Confusion Matrix for Naive Bayes Model')\n",
    "plt.show()"
   ]
  },
  {
   "cell_type": "markdown",
   "metadata": {},
   "source": [
    "### Logistic Regression"
   ]
  },
  {
   "cell_type": "code",
   "execution_count": 33,
   "metadata": {},
   "outputs": [],
   "source": [
    "accuracy, precision, recall = {}, {}, {}\n",
    "\n",
    "for key in feature_list.keys():\n",
    "    \n",
    "    # Define X and y test/ train/ split\n",
    "    X=data_1_2[feature_list[key]]  # Features  \n",
    "    y=data_1_2['Severity']  # Labels\n",
    "    X_train, X_test, y_train, y_test = train_test_split(X, y, \n",
    "                                                    test_size=0.2, \n",
    "                                                    random_state=0, \n",
    "                                                    shuffle=True, \n",
    "                                                    stratify=y)\n",
    "    clf=LogisticRegression(class_weight='balanced', random_state = 0, solver = 'lbfgs', max_iter = 5000)  #defining classifier method\n",
    "    clf.fit(X_train,y_train)                   # training classifier \n",
    "    \n",
    "    # Prediction \n",
    "    predictions = clf.predict(X_test)\n",
    "    \n",
    "    # Calculate Accuracy, Precision and Recall Metrics\n",
    "    accuracy[key] = balanced_accuracy_score(predictions, y_test) \n",
    "    precision[key] = precision_score(predictions, y_test, average='weighted')\n",
    "    recall[key] = recall_score(predictions, y_test, average='weighted')"
   ]
  },
  {
   "cell_type": "code",
   "execution_count": 34,
   "metadata": {},
   "outputs": [
    {
     "data": {
      "text/html": [
       "<div>\n",
       "<style scoped>\n",
       "    .dataframe tbody tr th:only-of-type {\n",
       "        vertical-align: middle;\n",
       "    }\n",
       "\n",
       "    .dataframe tbody tr th {\n",
       "        vertical-align: top;\n",
       "    }\n",
       "\n",
       "    .dataframe thead th {\n",
       "        text-align: right;\n",
       "    }\n",
       "</style>\n",
       "<table border=\"1\" class=\"dataframe\">\n",
       "  <thead>\n",
       "    <tr style=\"text-align: right;\">\n",
       "      <th></th>\n",
       "      <th>Balanced Accuracy</th>\n",
       "      <th>Precision</th>\n",
       "      <th>Recall</th>\n",
       "    </tr>\n",
       "  </thead>\n",
       "  <tbody>\n",
       "    <tr>\n",
       "      <th>All</th>\n",
       "      <td>0.585110</td>\n",
       "      <td>0.585298</td>\n",
       "      <td>0.584971</td>\n",
       "    </tr>\n",
       "    <tr>\n",
       "      <th>Wu</th>\n",
       "      <td>0.571868</td>\n",
       "      <td>0.572112</td>\n",
       "      <td>0.571709</td>\n",
       "    </tr>\n",
       "    <tr>\n",
       "      <th>Mencar</th>\n",
       "      <td>0.538231</td>\n",
       "      <td>0.545372</td>\n",
       "      <td>0.538310</td>\n",
       "    </tr>\n",
       "    <tr>\n",
       "      <th>Ustun</th>\n",
       "      <td>0.559141</td>\n",
       "      <td>0.559524</td>\n",
       "      <td>0.558939</td>\n",
       "    </tr>\n",
       "    <tr>\n",
       "      <th>Huang</th>\n",
       "      <td>0.550844</td>\n",
       "      <td>0.551431</td>\n",
       "      <td>0.550589</td>\n",
       "    </tr>\n",
       "    <tr>\n",
       "      <th>Rodruiges</th>\n",
       "      <td>0.563802</td>\n",
       "      <td>0.564983</td>\n",
       "      <td>0.563360</td>\n",
       "    </tr>\n",
       "    <tr>\n",
       "      <th>Demographic</th>\n",
       "      <td>0.543459</td>\n",
       "      <td>0.544020</td>\n",
       "      <td>0.543222</td>\n",
       "    </tr>\n",
       "    <tr>\n",
       "      <th>Measurements</th>\n",
       "      <td>0.553561</td>\n",
       "      <td>0.555205</td>\n",
       "      <td>0.553045</td>\n",
       "    </tr>\n",
       "    <tr>\n",
       "      <th>Comorbidities</th>\n",
       "      <td>0.544957</td>\n",
       "      <td>0.577808</td>\n",
       "      <td>0.540275</td>\n",
       "    </tr>\n",
       "    <tr>\n",
       "      <th>Symptoms</th>\n",
       "      <td>0.548796</td>\n",
       "      <td>0.551290</td>\n",
       "      <td>0.548134</td>\n",
       "    </tr>\n",
       "    <tr>\n",
       "      <th>Questionnaires</th>\n",
       "      <td>0.522666</td>\n",
       "      <td>0.522750</td>\n",
       "      <td>0.522593</td>\n",
       "    </tr>\n",
       "  </tbody>\n",
       "</table>\n",
       "</div>"
      ],
      "text/plain": [
       "                Balanced Accuracy  Precision    Recall\n",
       "All                      0.585110   0.585298  0.584971\n",
       "Wu                       0.571868   0.572112  0.571709\n",
       "Mencar                   0.538231   0.545372  0.538310\n",
       "Ustun                    0.559141   0.559524  0.558939\n",
       "Huang                    0.550844   0.551431  0.550589\n",
       "Rodruiges                0.563802   0.564983  0.563360\n",
       "Demographic              0.543459   0.544020  0.543222\n",
       "Measurements             0.553561   0.555205  0.553045\n",
       "Comorbidities            0.544957   0.577808  0.540275\n",
       "Symptoms                 0.548796   0.551290  0.548134\n",
       "Questionnaires           0.522666   0.522750  0.522593"
      ]
     },
     "execution_count": 34,
     "metadata": {},
     "output_type": "execute_result"
    }
   ],
   "source": [
    "df_model = pd.DataFrame(index=feature_list.keys())\n",
    "df_model['Balanced Accuracy'] = accuracy.values()\n",
    "df_model['Precision'] = precision.values()\n",
    "df_model['Recall'] = recall.values()\n",
    "\n",
    "df_model"
   ]
  },
  {
   "cell_type": "markdown",
   "metadata": {},
   "source": [
    "##### Confusion matrix for model with highest balanced accuracy"
   ]
  },
  {
   "cell_type": "code",
   "execution_count": 35,
   "metadata": {},
   "outputs": [],
   "source": [
    "X=data_1_2[features]  # Features  \n",
    "y=data_1_2['Severity']  # Labels\n",
    "X_train, X_test, y_train, y_test = train_test_split(X, y, \n",
    "                                                    test_size=0.2, \n",
    "                                                    random_state=0, \n",
    "                                                    shuffle=True, \n",
    "                                                    stratify=y)\n",
    "clf=LogisticRegression(class_weight='balanced', random_state = 0, solver = 'lbfgs', max_iter = 5000)  #defining classifier method\n",
    "clf.fit(X_train,y_train)                   # training classifier \n",
    "    \n",
    "# Prediction \n",
    "predictions = clf.predict(X_test)"
   ]
  },
  {
   "cell_type": "code",
   "execution_count": 36,
   "metadata": {},
   "outputs": [
    {
     "data": {
      "image/png": "[encoded data removed]",
      "text/plain": [
       "<Figure size 1152x504 with 2 Axes>"
      ]
     },
     "metadata": {},
     "output_type": "display_data"
    }
   ],
   "source": [
    "matrix = confusion_matrix(y_test, predictions)\n",
    "matrix = matrix.astype('float') / matrix.sum(axis=1)[:, np.newaxis]\n",
    "\n",
    "# Build the plot\n",
    "plt.figure(figsize=(16,7))\n",
    "sns.set(font_scale=1.4)\n",
    "sns.heatmap(matrix, annot=True, annot_kws={'size':10},\n",
    "            cmap=plt.cm.Greens, linewidths=0.2)\n",
    "\n",
    "# Add labels to the plot\n",
    "class_names = ['1', '2']\n",
    "tick_marks = np.arange(len(class_names))\n",
    "tick_marks2 = tick_marks + 0.5\n",
    "plt.xticks(tick_marks, class_names, rotation=25)\n",
    "plt.yticks(tick_marks2, class_names, rotation=0)\n",
    "plt.xlabel('Predicted label')\n",
    "plt.ylabel('True label')\n",
    "plt.title('Confusion Matrix for Logistic Regression Model')\n",
    "plt.show()"
   ]
  },
  {
   "cell_type": "code",
   "execution_count": null,
   "metadata": {},
   "outputs": [],
   "source": []
  }
 ],
 "metadata": {
  "kernelspec": {
   "display_name": "Python 3",
   "language": "python",
   "name": "python3"
  },
  "language_info": {
   "codemirror_mode": {
    "name": "ipython",
    "version": 3
   },
   "file_extension": ".py",
   "mimetype": "text/x-python",
   "name": "python",
   "nbconvert_exporter": "python",
   "pygments_lexer": "ipython3",
   "version": "3.7.3"
  }
 },
 "nbformat": 4,
 "nbformat_minor": 5
}
