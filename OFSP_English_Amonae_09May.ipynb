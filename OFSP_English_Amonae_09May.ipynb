{
 "cells": [
  {
   "cell_type": "markdown",
   "id": "5ccc4b2c",
   "metadata": {},
   "source": [
    "## Import packages and check working directory"
   ]
  },
  {
   "cell_type": "code",
   "execution_count": 1,
   "id": "beaee29d",
   "metadata": {},
   "outputs": [
    {
     "data": {
      "text/plain": [
       "'C:\\\\Users\\\\40331980\\\\Documents'"
      ]
     },
     "execution_count": 1,
     "metadata": {},
     "output_type": "execute_result"
    }
   ],
   "source": [
    "import os\n",
    "os.getcwd()"
   ]
  },
  {
   "cell_type": "code",
   "execution_count": 1,
   "id": "bd5fa24f",
   "metadata": {},
   "outputs": [],
   "source": [
    "import pandas as pd\n",
    "from sklearn.model_selection import train_test_split\n",
    "from sklearn.ensemble import RandomForestClassifier\n",
    "from sklearn import metrics\n",
    "import numpy as np\n",
    "import matplotlib.pyplot as plt\n",
    "import seaborn as sns\n",
    "from sklearn.metrics import accuracy_score, confusion_matrix, classification_report"
   ]
  },
  {
   "cell_type": "markdown",
   "id": "85a360df",
   "metadata": {},
   "source": [
    "## Import and check csv"
   ]
  },
  {
   "cell_type": "code",
   "execution_count": 2,
   "id": "4883314b",
   "metadata": {},
   "outputs": [
    {
     "name": "stderr",
     "output_type": "stream",
     "text": [
      "C:\\Users\\amona\\AppData\\Local\\Temp\\ipykernel_2668\\1582533793.py:1: DtypeWarning: Columns (2,29,149,150,155,190,195,196,197,198,199,203,204,205,206,207,211,212,213,214,215,219,220,221,222,223,227,228,229,230,231,235,236,237,238,239,243,244,245,246,247,251,252,253,254,255,259,260,261,262,263,267,268,269,270,271,275,276,277,278,279,283,284,285,286,287,291,292,293,294,295,299,301,302,303,307,309,310,311,315,316,317,318,319,323,325,326,327,334,339,342) have mixed types. Specify dtype option on import or set low_memory=False.\n",
      "  data = pd.read_csv(\"OFSP_English_rpts_rmv.csv\", encoding= 'unicode_escape')\n"
     ]
    }
   ],
   "source": [
    "data = pd.read_csv(\"OFSP_English_rpts_rmv.csv\", encoding= 'unicode_escape')"
   ]
  },
  {
   "cell_type": "code",
   "execution_count": 3,
   "id": "d17117f8",
   "metadata": {},
   "outputs": [
    {
     "data": {
      "text/html": [
       "<div>\n",
       "<style scoped>\n",
       "    .dataframe tbody tr th:only-of-type {\n",
       "        vertical-align: middle;\n",
       "    }\n",
       "\n",
       "    .dataframe tbody tr th {\n",
       "        vertical-align: top;\n",
       "    }\n",
       "\n",
       "    .dataframe thead th {\n",
       "        text-align: right;\n",
       "    }\n",
       "</style>\n",
       "<table border=\"1\" class=\"dataframe\">\n",
       "  <thead>\n",
       "    <tr style=\"text-align: right;\">\n",
       "      <th></th>\n",
       "      <th>PatientID</th>\n",
       "      <th>Dateofbirth</th>\n",
       "      <th>Departmentid</th>\n",
       "      <th>CountryID</th>\n",
       "      <th>Sex</th>\n",
       "      <th>Profession</th>\n",
       "      <th>Smoker</th>\n",
       "      <th>____</th>\n",
       "      <th>____.1</th>\n",
       "      <th>UserID</th>\n",
       "      <th>...</th>\n",
       "      <th>Treatmentname.38</th>\n",
       "      <th>Treatmentname.39</th>\n",
       "      <th>Shorttreatmentname.18</th>\n",
       "      <th>ATCcode.15</th>\n",
       "      <th>ATCclass.19</th>\n",
       "      <th>Dosage.32</th>\n",
       "      <th>Dosage.33</th>\n",
       "      <th>Table :</th>\n",
       "      <th>Numberofthevisist</th>\n",
       "      <th>Incorrectvisit</th>\n",
       "    </tr>\n",
       "  </thead>\n",
       "  <tbody>\n",
       "    <tr>\n",
       "      <th>0</th>\n",
       "      <td>1</td>\n",
       "      <td>21-Nov-73</td>\n",
       "      <td>33.0</td>\n",
       "      <td>74.0</td>\n",
       "      <td>2.0</td>\n",
       "      <td>5.0</td>\n",
       "      <td>fumeur ancien</td>\n",
       "      <td>0.0</td>\n",
       "      <td>NaN</td>\n",
       "      <td>543.0</td>\n",
       "      <td>...</td>\n",
       "      <td>NaN</td>\n",
       "      <td>NaN</td>\n",
       "      <td>NaN</td>\n",
       "      <td>NaN</td>\n",
       "      <td>NaN</td>\n",
       "      <td>NaN</td>\n",
       "      <td>NaN</td>\n",
       "      <td>1</td>\n",
       "      <td>1</td>\n",
       "      <td>NaN</td>\n",
       "    </tr>\n",
       "    <tr>\n",
       "      <th>1</th>\n",
       "      <td>1</td>\n",
       "      <td>NaN</td>\n",
       "      <td>NaN</td>\n",
       "      <td>NaN</td>\n",
       "      <td>NaN</td>\n",
       "      <td>NaN</td>\n",
       "      <td>fumeur ancien</td>\n",
       "      <td>NaN</td>\n",
       "      <td>NaN</td>\n",
       "      <td>NaN</td>\n",
       "      <td>...</td>\n",
       "      <td>NaN</td>\n",
       "      <td>NaN</td>\n",
       "      <td>NaN</td>\n",
       "      <td>NaN</td>\n",
       "      <td>NaN</td>\n",
       "      <td>NaN</td>\n",
       "      <td>NaN</td>\n",
       "      <td>2</td>\n",
       "      <td>2</td>\n",
       "      <td>NaN</td>\n",
       "    </tr>\n",
       "    <tr>\n",
       "      <th>2</th>\n",
       "      <td>1</td>\n",
       "      <td>NaN</td>\n",
       "      <td>NaN</td>\n",
       "      <td>NaN</td>\n",
       "      <td>NaN</td>\n",
       "      <td>NaN</td>\n",
       "      <td>fumeur ancien</td>\n",
       "      <td>NaN</td>\n",
       "      <td>NaN</td>\n",
       "      <td>NaN</td>\n",
       "      <td>...</td>\n",
       "      <td>NaN</td>\n",
       "      <td>NaN</td>\n",
       "      <td>NaN</td>\n",
       "      <td>NaN</td>\n",
       "      <td>NaN</td>\n",
       "      <td>NaN</td>\n",
       "      <td>NaN</td>\n",
       "      <td>2</td>\n",
       "      <td>3</td>\n",
       "      <td>NaN</td>\n",
       "    </tr>\n",
       "    <tr>\n",
       "      <th>3</th>\n",
       "      <td>1</td>\n",
       "      <td>NaN</td>\n",
       "      <td>NaN</td>\n",
       "      <td>NaN</td>\n",
       "      <td>NaN</td>\n",
       "      <td>NaN</td>\n",
       "      <td>fumeur ancien</td>\n",
       "      <td>NaN</td>\n",
       "      <td>NaN</td>\n",
       "      <td>NaN</td>\n",
       "      <td>...</td>\n",
       "      <td>NaN</td>\n",
       "      <td>NaN</td>\n",
       "      <td>NaN</td>\n",
       "      <td>NaN</td>\n",
       "      <td>NaN</td>\n",
       "      <td>NaN</td>\n",
       "      <td>NaN</td>\n",
       "      <td>2</td>\n",
       "      <td>4</td>\n",
       "      <td>NaN</td>\n",
       "    </tr>\n",
       "    <tr>\n",
       "      <th>4</th>\n",
       "      <td>2</td>\n",
       "      <td>10-Nov-33</td>\n",
       "      <td>17.0</td>\n",
       "      <td>74.0</td>\n",
       "      <td>1.0</td>\n",
       "      <td>7.0</td>\n",
       "      <td>non fumeur</td>\n",
       "      <td>0.0</td>\n",
       "      <td>NaN</td>\n",
       "      <td>543.0</td>\n",
       "      <td>...</td>\n",
       "      <td>NaN</td>\n",
       "      <td>NaN</td>\n",
       "      <td>NaN</td>\n",
       "      <td>NaN</td>\n",
       "      <td>NaN</td>\n",
       "      <td>NaN</td>\n",
       "      <td>NaN</td>\n",
       "      <td>1</td>\n",
       "      <td>1</td>\n",
       "      <td>NaN</td>\n",
       "    </tr>\n",
       "  </tbody>\n",
       "</table>\n",
       "<p>5 rows × 357 columns</p>\n",
       "</div>"
      ],
      "text/plain": [
       "   PatientID Dateofbirth Departmentid  CountryID  Sex  Profession  \\\n",
       "0          1   21-Nov-73         33.0       74.0  2.0         5.0   \n",
       "1          1         NaN          NaN        NaN  NaN         NaN   \n",
       "2          1         NaN          NaN        NaN  NaN         NaN   \n",
       "3          1         NaN          NaN        NaN  NaN         NaN   \n",
       "4          2   10-Nov-33         17.0       74.0  1.0         7.0   \n",
       "\n",
       "          Smoker   ____  ____.1   UserID  ...  Treatmentname.38  \\\n",
       "0  fumeur ancien    0.0     NaN    543.0  ...               NaN   \n",
       "1  fumeur ancien    NaN     NaN      NaN  ...               NaN   \n",
       "2  fumeur ancien    NaN     NaN      NaN  ...               NaN   \n",
       "3  fumeur ancien    NaN     NaN      NaN  ...               NaN   \n",
       "4     non fumeur    0.0     NaN    543.0  ...               NaN   \n",
       "\n",
       "  Treatmentname.39  Shorttreatmentname.18   ATCcode.15 ATCclass.19  Dosage.32  \\\n",
       "0              NaN                    NaN          NaN         NaN        NaN   \n",
       "1              NaN                    NaN          NaN         NaN        NaN   \n",
       "2              NaN                    NaN          NaN         NaN        NaN   \n",
       "3              NaN                    NaN          NaN         NaN        NaN   \n",
       "4              NaN                    NaN          NaN         NaN        NaN   \n",
       "\n",
       "   Dosage.33  Table :  Numberofthevisist  Incorrectvisit  \n",
       "0        NaN        1                  1             NaN  \n",
       "1        NaN        2                  2             NaN  \n",
       "2        NaN        2                  3             NaN  \n",
       "3        NaN        2                  4             NaN  \n",
       "4        NaN        1                  1             NaN  \n",
       "\n",
       "[5 rows x 357 columns]"
      ]
     },
     "execution_count": 3,
     "metadata": {},
     "output_type": "execute_result"
    }
   ],
   "source": [
    "data.head()"
   ]
  },
  {
   "cell_type": "code",
   "execution_count": 4,
   "id": "eac3e9a1",
   "metadata": {},
   "outputs": [
    {
     "data": {
      "text/plain": [
       "(190537, 357)"
      ]
     },
     "execution_count": 4,
     "metadata": {},
     "output_type": "execute_result"
    }
   ],
   "source": [
    "data.shape"
   ]
  },
  {
   "cell_type": "code",
   "execution_count": 5,
   "id": "fced78f8",
   "metadata": {},
   "outputs": [
    {
     "data": {
      "text/plain": [
       "Index(['PatientID', 'Dateofbirth', 'Departmentid', 'CountryID', 'Sex',\n",
       "       'Profession', 'Smoker', ' ____', ' ____.1', ' UserID',\n",
       "       ...\n",
       "       'Treatmentname.38', 'Treatmentname.39', 'Shorttreatmentname.18',\n",
       "       ' ATCcode.15', 'ATCclass.19', 'Dosage.32', 'Dosage.33', 'Table :',\n",
       "       'Numberofthevisist', 'Incorrectvisit'],\n",
       "      dtype='object', length=357)"
      ]
     },
     "execution_count": 5,
     "metadata": {},
     "output_type": "execute_result"
    }
   ],
   "source": [
    "data.columns"
   ]
  },
  {
   "cell_type": "markdown",
   "id": "2ddb3838",
   "metadata": {},
   "source": [
    "### Observing distribution of severity by age and gender"
   ]
  },
  {
   "cell_type": "code",
   "execution_count": 9,
   "id": "d5b8189d",
   "metadata": {},
   "outputs": [],
   "source": [
    "# First I need to make a severity column\n",
    "def severity (row):\n",
    "   if row['Apnea_hypopnea_index'] < 5 :\n",
    "      return 0\n",
    "   if row['Apnea_hypopnea_index'] >= 5 and row['Apnea_hypopnea_index'] < 15 :\n",
    "      return 1\n",
    "   if row['Apnea_hypopnea_index'] >= 15 and row['Apnea_hypopnea_index'] < 30 :\n",
    "      return 2\n",
    "   if row['Apnea_hypopnea_index'] >= 30 :\n",
    "      return 3\n",
    "\n",
    "#Applying function to data\n",
    "data['Severity'] = data.apply (lambda row: severity(row), axis=1)"
   ]
  },
  {
   "cell_type": "code",
   "execution_count": 11,
   "id": "52e689c9",
   "metadata": {},
   "outputs": [
    {
     "data": {
      "text/plain": [
       "(190537, 358)"
      ]
     },
     "execution_count": 11,
     "metadata": {},
     "output_type": "execute_result"
    }
   ],
   "source": [
    "data.shape"
   ]
  },
  {
   "cell_type": "code",
   "execution_count": 16,
   "id": "195742c3",
   "metadata": {},
   "outputs": [
    {
     "data": {
      "text/html": [
       "<div>\n",
       "<style scoped>\n",
       "    .dataframe tbody tr th:only-of-type {\n",
       "        vertical-align: middle;\n",
       "    }\n",
       "\n",
       "    .dataframe tbody tr th {\n",
       "        vertical-align: top;\n",
       "    }\n",
       "\n",
       "    .dataframe thead tr th {\n",
       "        text-align: left;\n",
       "    }\n",
       "\n",
       "    .dataframe thead tr:last-of-type th {\n",
       "        text-align: right;\n",
       "    }\n",
       "</style>\n",
       "<table border=\"1\" class=\"dataframe\">\n",
       "  <thead>\n",
       "    <tr>\n",
       "      <th></th>\n",
       "      <th></th>\n",
       "      <th colspan=\"3\" halign=\"left\">Age</th>\n",
       "    </tr>\n",
       "    <tr>\n",
       "      <th></th>\n",
       "      <th></th>\n",
       "      <th>min</th>\n",
       "      <th>max</th>\n",
       "      <th>size</th>\n",
       "    </tr>\n",
       "    <tr>\n",
       "      <th>Severity</th>\n",
       "      <th>Sex</th>\n",
       "      <th></th>\n",
       "      <th></th>\n",
       "      <th></th>\n",
       "    </tr>\n",
       "  </thead>\n",
       "  <tbody>\n",
       "    <tr>\n",
       "      <th rowspan=\"2\" valign=\"top\">0.0</th>\n",
       "      <th>1.0</th>\n",
       "      <td>18.015058</td>\n",
       "      <td>93.013005</td>\n",
       "      <td>5479</td>\n",
       "    </tr>\n",
       "    <tr>\n",
       "      <th>2.0</th>\n",
       "      <td>18.026010</td>\n",
       "      <td>92.405202</td>\n",
       "      <td>5911</td>\n",
       "    </tr>\n",
       "    <tr>\n",
       "      <th rowspan=\"2\" valign=\"top\">1.0</th>\n",
       "      <th>1.0</th>\n",
       "      <td>18.036961</td>\n",
       "      <td>93.251198</td>\n",
       "      <td>9953</td>\n",
       "    </tr>\n",
       "    <tr>\n",
       "      <th>2.0</th>\n",
       "      <td>18.009582</td>\n",
       "      <td>96.265572</td>\n",
       "      <td>7626</td>\n",
       "    </tr>\n",
       "    <tr>\n",
       "      <th rowspan=\"2\" valign=\"top\">2.0</th>\n",
       "      <th>1.0</th>\n",
       "      <td>18.157426</td>\n",
       "      <td>92.093087</td>\n",
       "      <td>11338</td>\n",
       "    </tr>\n",
       "    <tr>\n",
       "      <th>2.0</th>\n",
       "      <td>18.001369</td>\n",
       "      <td>94.075291</td>\n",
       "      <td>6405</td>\n",
       "    </tr>\n",
       "    <tr>\n",
       "      <th rowspan=\"2\" valign=\"top\">3.0</th>\n",
       "      <th>1.0</th>\n",
       "      <td>18.061602</td>\n",
       "      <td>111.868583</td>\n",
       "      <td>24604</td>\n",
       "    </tr>\n",
       "    <tr>\n",
       "      <th>2.0</th>\n",
       "      <td>18.450376</td>\n",
       "      <td>93.694730</td>\n",
       "      <td>8835</td>\n",
       "    </tr>\n",
       "  </tbody>\n",
       "</table>\n",
       "</div>"
      ],
      "text/plain": [
       "                    Age                   \n",
       "                    min         max   size\n",
       "Severity Sex                              \n",
       "0.0      1.0  18.015058   93.013005   5479\n",
       "         2.0  18.026010   92.405202   5911\n",
       "1.0      1.0  18.036961   93.251198   9953\n",
       "         2.0  18.009582   96.265572   7626\n",
       "2.0      1.0  18.157426   92.093087  11338\n",
       "         2.0  18.001369   94.075291   6405\n",
       "3.0      1.0  18.061602  111.868583  24604\n",
       "         2.0  18.450376   93.694730   8835"
      ]
     },
     "execution_count": 16,
     "metadata": {},
     "output_type": "execute_result"
    }
   ],
   "source": [
    "age_gender = data.groupby(['Severity', 'Sex']).agg({'Age': ['min', 'max', 'size']})\n",
    "age_gender"
   ]
  },
  {
   "cell_type": "code",
   "execution_count": null,
   "id": "4c37b00f",
   "metadata": {},
   "outputs": [],
   "source": []
  },
  {
   "cell_type": "markdown",
   "id": "c94cae53",
   "metadata": {},
   "source": [
    "## Creating data frames by category"
   ]
  },
  {
   "cell_type": "code",
   "execution_count": 6,
   "id": "83e54d08",
   "metadata": {},
   "outputs": [],
   "source": [
    "demographic = ['PatientID','Sex','Age','Current_smoker','Former_smoker','Sedentary']"
   ]
  },
  {
   "cell_type": "code",
   "execution_count": 7,
   "id": "b911d43d",
   "metadata": {},
   "outputs": [
    {
     "data": {
      "text/html": [
       "<div>\n",
       "<style scoped>\n",
       "    .dataframe tbody tr th:only-of-type {\n",
       "        vertical-align: middle;\n",
       "    }\n",
       "\n",
       "    .dataframe tbody tr th {\n",
       "        vertical-align: top;\n",
       "    }\n",
       "\n",
       "    .dataframe thead th {\n",
       "        text-align: right;\n",
       "    }\n",
       "</style>\n",
       "<table border=\"1\" class=\"dataframe\">\n",
       "  <thead>\n",
       "    <tr style=\"text-align: right;\">\n",
       "      <th></th>\n",
       "      <th>PatientID</th>\n",
       "      <th>Sex</th>\n",
       "      <th>Age</th>\n",
       "      <th>Current_smoker</th>\n",
       "      <th>Former_smoker</th>\n",
       "      <th>Sedentary</th>\n",
       "    </tr>\n",
       "  </thead>\n",
       "  <tbody>\n",
       "    <tr>\n",
       "      <th>0</th>\n",
       "      <td>1</td>\n",
       "      <td>2.0</td>\n",
       "      <td>35.167693</td>\n",
       "      <td>0.0</td>\n",
       "      <td>1.0</td>\n",
       "      <td>0.0</td>\n",
       "    </tr>\n",
       "    <tr>\n",
       "      <th>1</th>\n",
       "      <td>1</td>\n",
       "      <td>NaN</td>\n",
       "      <td>36.522929</td>\n",
       "      <td>0.0</td>\n",
       "      <td>1.0</td>\n",
       "      <td>0.0</td>\n",
       "    </tr>\n",
       "    <tr>\n",
       "      <th>2</th>\n",
       "      <td>1</td>\n",
       "      <td>NaN</td>\n",
       "      <td>36.591376</td>\n",
       "      <td>0.0</td>\n",
       "      <td>1.0</td>\n",
       "      <td>0.0</td>\n",
       "    </tr>\n",
       "    <tr>\n",
       "      <th>3</th>\n",
       "      <td>1</td>\n",
       "      <td>NaN</td>\n",
       "      <td>38.576318</td>\n",
       "      <td>0.0</td>\n",
       "      <td>1.0</td>\n",
       "      <td>0.0</td>\n",
       "    </tr>\n",
       "    <tr>\n",
       "      <th>4</th>\n",
       "      <td>2</td>\n",
       "      <td>1.0</td>\n",
       "      <td>75.252567</td>\n",
       "      <td>0.0</td>\n",
       "      <td>0.0</td>\n",
       "      <td>1.0</td>\n",
       "    </tr>\n",
       "  </tbody>\n",
       "</table>\n",
       "</div>"
      ],
      "text/plain": [
       "   PatientID  Sex        Age  Current_smoker  Former_smoker  Sedentary\n",
       "0          1  2.0  35.167693             0.0            1.0        0.0\n",
       "1          1  NaN  36.522929             0.0            1.0        0.0\n",
       "2          1  NaN  36.591376             0.0            1.0        0.0\n",
       "3          1  NaN  38.576318             0.0            1.0        0.0\n",
       "4          2  1.0  75.252567             0.0            0.0        1.0"
      ]
     },
     "execution_count": 7,
     "metadata": {},
     "output_type": "execute_result"
    }
   ],
   "source": [
    "demographic_df = data[demographic]\n",
    "demographic_df.head()"
   ]
  },
  {
   "cell_type": "code",
   "execution_count": 8,
   "id": "b47304d7",
   "metadata": {},
   "outputs": [],
   "source": [
    "measurements = ['Height','Weight','Cervical_perimeter',\n",
    "               'Abdominal_perimeter','Systolic_BP','Diastolic_BP','Bloodsugar_level','Blood_total_cholesterol','HDL_level',\n",
    "               'LDL_level','Triglycerides_level','Maxillofacial_profile','BMI','High_BP','PH']"
   ]
  },
  {
   "cell_type": "code",
   "execution_count": 9,
   "id": "b33db6c2",
   "metadata": {},
   "outputs": [
    {
     "data": {
      "text/html": [
       "<div>\n",
       "<style scoped>\n",
       "    .dataframe tbody tr th:only-of-type {\n",
       "        vertical-align: middle;\n",
       "    }\n",
       "\n",
       "    .dataframe tbody tr th {\n",
       "        vertical-align: top;\n",
       "    }\n",
       "\n",
       "    .dataframe thead th {\n",
       "        text-align: right;\n",
       "    }\n",
       "</style>\n",
       "<table border=\"1\" class=\"dataframe\">\n",
       "  <thead>\n",
       "    <tr style=\"text-align: right;\">\n",
       "      <th></th>\n",
       "      <th>Height</th>\n",
       "      <th>Weight</th>\n",
       "      <th>Cervical_perimeter</th>\n",
       "      <th>Abdominal_perimeter</th>\n",
       "      <th>Systolic_BP</th>\n",
       "      <th>Diastolic_BP</th>\n",
       "      <th>Bloodsugar_level</th>\n",
       "      <th>Blood_total_cholesterol</th>\n",
       "      <th>HDL_level</th>\n",
       "      <th>LDL_level</th>\n",
       "      <th>Triglycerides_level</th>\n",
       "      <th>Maxillofacial_profile</th>\n",
       "      <th>BMI</th>\n",
       "      <th>High_BP</th>\n",
       "      <th>PH</th>\n",
       "    </tr>\n",
       "  </thead>\n",
       "  <tbody>\n",
       "    <tr>\n",
       "      <th>0</th>\n",
       "      <td>166.0</td>\n",
       "      <td>100.0</td>\n",
       "      <td>35.0</td>\n",
       "      <td>114.0</td>\n",
       "      <td>NaN</td>\n",
       "      <td>NaN</td>\n",
       "      <td>NaN</td>\n",
       "      <td>NaN</td>\n",
       "      <td>NaN</td>\n",
       "      <td>NaN</td>\n",
       "      <td>NaN</td>\n",
       "      <td>0.0</td>\n",
       "      <td>36.289737</td>\n",
       "      <td>1.0</td>\n",
       "      <td>NaN</td>\n",
       "    </tr>\n",
       "    <tr>\n",
       "      <th>1</th>\n",
       "      <td>NaN</td>\n",
       "      <td>95.0</td>\n",
       "      <td>NaN</td>\n",
       "      <td>104.0</td>\n",
       "      <td>NaN</td>\n",
       "      <td>NaN</td>\n",
       "      <td>NaN</td>\n",
       "      <td>NaN</td>\n",
       "      <td>NaN</td>\n",
       "      <td>NaN</td>\n",
       "      <td>NaN</td>\n",
       "      <td>NaN</td>\n",
       "      <td>NaN</td>\n",
       "      <td>1.0</td>\n",
       "      <td>NaN</td>\n",
       "    </tr>\n",
       "    <tr>\n",
       "      <th>2</th>\n",
       "      <td>NaN</td>\n",
       "      <td>98.0</td>\n",
       "      <td>NaN</td>\n",
       "      <td>NaN</td>\n",
       "      <td>NaN</td>\n",
       "      <td>NaN</td>\n",
       "      <td>NaN</td>\n",
       "      <td>NaN</td>\n",
       "      <td>NaN</td>\n",
       "      <td>NaN</td>\n",
       "      <td>NaN</td>\n",
       "      <td>NaN</td>\n",
       "      <td>NaN</td>\n",
       "      <td>1.0</td>\n",
       "      <td>NaN</td>\n",
       "    </tr>\n",
       "    <tr>\n",
       "      <th>3</th>\n",
       "      <td>NaN</td>\n",
       "      <td>95.0</td>\n",
       "      <td>38.0</td>\n",
       "      <td>108.0</td>\n",
       "      <td>NaN</td>\n",
       "      <td>NaN</td>\n",
       "      <td>NaN</td>\n",
       "      <td>NaN</td>\n",
       "      <td>NaN</td>\n",
       "      <td>NaN</td>\n",
       "      <td>NaN</td>\n",
       "      <td>NaN</td>\n",
       "      <td>NaN</td>\n",
       "      <td>1.0</td>\n",
       "      <td>7.46</td>\n",
       "    </tr>\n",
       "    <tr>\n",
       "      <th>4</th>\n",
       "      <td>167.0</td>\n",
       "      <td>70.0</td>\n",
       "      <td>41.0</td>\n",
       "      <td>105.0</td>\n",
       "      <td>NaN</td>\n",
       "      <td>NaN</td>\n",
       "      <td>NaN</td>\n",
       "      <td>NaN</td>\n",
       "      <td>NaN</td>\n",
       "      <td>NaN</td>\n",
       "      <td>NaN</td>\n",
       "      <td>0.0</td>\n",
       "      <td>25.099502</td>\n",
       "      <td>1.0</td>\n",
       "      <td>NaN</td>\n",
       "    </tr>\n",
       "  </tbody>\n",
       "</table>\n",
       "</div>"
      ],
      "text/plain": [
       "   Height  Weight  Cervical_perimeter  Abdominal_perimeter  Systolic_BP  \\\n",
       "0   166.0   100.0                35.0                114.0          NaN   \n",
       "1     NaN    95.0                 NaN                104.0          NaN   \n",
       "2     NaN    98.0                 NaN                  NaN          NaN   \n",
       "3     NaN    95.0                38.0                108.0          NaN   \n",
       "4   167.0    70.0                41.0                105.0          NaN   \n",
       "\n",
       "   Diastolic_BP  Bloodsugar_level  Blood_total_cholesterol  HDL_level  \\\n",
       "0           NaN               NaN                      NaN        NaN   \n",
       "1           NaN               NaN                      NaN        NaN   \n",
       "2           NaN               NaN                      NaN        NaN   \n",
       "3           NaN               NaN                      NaN        NaN   \n",
       "4           NaN               NaN                      NaN        NaN   \n",
       "\n",
       "   LDL_level  Triglycerides_level  Maxillofacial_profile        BMI  High_BP  \\\n",
       "0        NaN                  NaN                    0.0  36.289737      1.0   \n",
       "1        NaN                  NaN                    NaN        NaN      1.0   \n",
       "2        NaN                  NaN                    NaN        NaN      1.0   \n",
       "3        NaN                  NaN                    NaN        NaN      1.0   \n",
       "4        NaN                  NaN                    0.0  25.099502      1.0   \n",
       "\n",
       "     PH  \n",
       "0   NaN  \n",
       "1   NaN  \n",
       "2   NaN  \n",
       "3  7.46  \n",
       "4   NaN  "
      ]
     },
     "execution_count": 9,
     "metadata": {},
     "output_type": "execute_result"
    }
   ],
   "source": [
    "measurements_df = data[measurements]\n",
    "measurements_df.head()"
   ]
  },
  {
   "cell_type": "code",
   "execution_count": 10,
   "id": "13946b72",
   "metadata": {},
   "outputs": [],
   "source": [
    "comorbidities = ['Asthma','Rhinitis','COPD','Respiratory_fail','Myocardial_infarct','Coronary_fail','Arrhythmias','Stroke',\n",
    "                 'Heart_fail','Arteriopathy','Gastric_reflux','Glaucoma','Diabetes','Hypercholesterolemia','Hypertriglyceridemia',\n",
    "                 'Hypo(er)thyroidism','Depression','Obesity','Dysmorphology','Restless_Leg_Syndrome','Aerophagia']"
   ]
  },
  {
   "cell_type": "code",
   "execution_count": 11,
   "id": "4af48190",
   "metadata": {},
   "outputs": [
    {
     "data": {
      "text/html": [
       "<div>\n",
       "<style scoped>\n",
       "    .dataframe tbody tr th:only-of-type {\n",
       "        vertical-align: middle;\n",
       "    }\n",
       "\n",
       "    .dataframe tbody tr th {\n",
       "        vertical-align: top;\n",
       "    }\n",
       "\n",
       "    .dataframe thead th {\n",
       "        text-align: right;\n",
       "    }\n",
       "</style>\n",
       "<table border=\"1\" class=\"dataframe\">\n",
       "  <thead>\n",
       "    <tr style=\"text-align: right;\">\n",
       "      <th></th>\n",
       "      <th>Asthma</th>\n",
       "      <th>Rhinitis</th>\n",
       "      <th>COPD</th>\n",
       "      <th>Respiratory_fail</th>\n",
       "      <th>Myocardial_infarct</th>\n",
       "      <th>Coronary_fail</th>\n",
       "      <th>Arrhythmias</th>\n",
       "      <th>Stroke</th>\n",
       "      <th>Heart_fail</th>\n",
       "      <th>Arteriopathy</th>\n",
       "      <th>...</th>\n",
       "      <th>Glaucoma</th>\n",
       "      <th>Diabetes</th>\n",
       "      <th>Hypercholesterolemia</th>\n",
       "      <th>Hypertriglyceridemia</th>\n",
       "      <th>Hypo(er)thyroidism</th>\n",
       "      <th>Depression</th>\n",
       "      <th>Obesity</th>\n",
       "      <th>Dysmorphology</th>\n",
       "      <th>Restless_Leg_Syndrome</th>\n",
       "      <th>Aerophagia</th>\n",
       "    </tr>\n",
       "  </thead>\n",
       "  <tbody>\n",
       "    <tr>\n",
       "      <th>0</th>\n",
       "      <td>0.0</td>\n",
       "      <td>0.0</td>\n",
       "      <td>0.0</td>\n",
       "      <td>0.0</td>\n",
       "      <td>0.0</td>\n",
       "      <td>0.0</td>\n",
       "      <td>0.0</td>\n",
       "      <td>0.0</td>\n",
       "      <td>0.0</td>\n",
       "      <td>0.0</td>\n",
       "      <td>...</td>\n",
       "      <td>0.0</td>\n",
       "      <td>0.0</td>\n",
       "      <td>1.0</td>\n",
       "      <td>1.0</td>\n",
       "      <td>0.0</td>\n",
       "      <td>1.0</td>\n",
       "      <td>1.0</td>\n",
       "      <td>NaN</td>\n",
       "      <td>0.0</td>\n",
       "      <td>NaN</td>\n",
       "    </tr>\n",
       "    <tr>\n",
       "      <th>1</th>\n",
       "      <td>0.0</td>\n",
       "      <td>0.0</td>\n",
       "      <td>0.0</td>\n",
       "      <td>0.0</td>\n",
       "      <td>0.0</td>\n",
       "      <td>0.0</td>\n",
       "      <td>0.0</td>\n",
       "      <td>0.0</td>\n",
       "      <td>0.0</td>\n",
       "      <td>0.0</td>\n",
       "      <td>...</td>\n",
       "      <td>0.0</td>\n",
       "      <td>0.0</td>\n",
       "      <td>1.0</td>\n",
       "      <td>1.0</td>\n",
       "      <td>0.0</td>\n",
       "      <td>1.0</td>\n",
       "      <td>1.0</td>\n",
       "      <td>NaN</td>\n",
       "      <td>1.0</td>\n",
       "      <td>0.0</td>\n",
       "    </tr>\n",
       "    <tr>\n",
       "      <th>2</th>\n",
       "      <td>0.0</td>\n",
       "      <td>0.0</td>\n",
       "      <td>0.0</td>\n",
       "      <td>0.0</td>\n",
       "      <td>0.0</td>\n",
       "      <td>0.0</td>\n",
       "      <td>0.0</td>\n",
       "      <td>0.0</td>\n",
       "      <td>0.0</td>\n",
       "      <td>0.0</td>\n",
       "      <td>...</td>\n",
       "      <td>0.0</td>\n",
       "      <td>0.0</td>\n",
       "      <td>1.0</td>\n",
       "      <td>1.0</td>\n",
       "      <td>0.0</td>\n",
       "      <td>1.0</td>\n",
       "      <td>1.0</td>\n",
       "      <td>NaN</td>\n",
       "      <td>0.0</td>\n",
       "      <td>0.0</td>\n",
       "    </tr>\n",
       "    <tr>\n",
       "      <th>3</th>\n",
       "      <td>0.0</td>\n",
       "      <td>0.0</td>\n",
       "      <td>0.0</td>\n",
       "      <td>0.0</td>\n",
       "      <td>0.0</td>\n",
       "      <td>0.0</td>\n",
       "      <td>0.0</td>\n",
       "      <td>0.0</td>\n",
       "      <td>0.0</td>\n",
       "      <td>0.0</td>\n",
       "      <td>...</td>\n",
       "      <td>0.0</td>\n",
       "      <td>0.0</td>\n",
       "      <td>1.0</td>\n",
       "      <td>1.0</td>\n",
       "      <td>0.0</td>\n",
       "      <td>1.0</td>\n",
       "      <td>1.0</td>\n",
       "      <td>NaN</td>\n",
       "      <td>1.0</td>\n",
       "      <td>0.0</td>\n",
       "    </tr>\n",
       "    <tr>\n",
       "      <th>4</th>\n",
       "      <td>0.0</td>\n",
       "      <td>0.0</td>\n",
       "      <td>0.0</td>\n",
       "      <td>0.0</td>\n",
       "      <td>0.0</td>\n",
       "      <td>0.0</td>\n",
       "      <td>0.0</td>\n",
       "      <td>0.0</td>\n",
       "      <td>0.0</td>\n",
       "      <td>0.0</td>\n",
       "      <td>...</td>\n",
       "      <td>1.0</td>\n",
       "      <td>0.0</td>\n",
       "      <td>1.0</td>\n",
       "      <td>0.0</td>\n",
       "      <td>0.0</td>\n",
       "      <td>0.0</td>\n",
       "      <td>0.0</td>\n",
       "      <td>0.0</td>\n",
       "      <td>0.0</td>\n",
       "      <td>NaN</td>\n",
       "    </tr>\n",
       "  </tbody>\n",
       "</table>\n",
       "<p>5 rows × 21 columns</p>\n",
       "</div>"
      ],
      "text/plain": [
       "   Asthma  Rhinitis  COPD  Respiratory_fail  Myocardial_infarct  \\\n",
       "0     0.0       0.0   0.0               0.0                 0.0   \n",
       "1     0.0       0.0   0.0               0.0                 0.0   \n",
       "2     0.0       0.0   0.0               0.0                 0.0   \n",
       "3     0.0       0.0   0.0               0.0                 0.0   \n",
       "4     0.0       0.0   0.0               0.0                 0.0   \n",
       "\n",
       "   Coronary_fail  Arrhythmias  Stroke  Heart_fail  Arteriopathy  ...  \\\n",
       "0            0.0          0.0     0.0         0.0           0.0  ...   \n",
       "1            0.0          0.0     0.0         0.0           0.0  ...   \n",
       "2            0.0          0.0     0.0         0.0           0.0  ...   \n",
       "3            0.0          0.0     0.0         0.0           0.0  ...   \n",
       "4            0.0          0.0     0.0         0.0           0.0  ...   \n",
       "\n",
       "   Glaucoma  Diabetes  Hypercholesterolemia  Hypertriglyceridemia  \\\n",
       "0       0.0       0.0                   1.0                   1.0   \n",
       "1       0.0       0.0                   1.0                   1.0   \n",
       "2       0.0       0.0                   1.0                   1.0   \n",
       "3       0.0       0.0                   1.0                   1.0   \n",
       "4       1.0       0.0                   1.0                   0.0   \n",
       "\n",
       "   Hypo(er)thyroidism  Depression  Obesity  Dysmorphology  \\\n",
       "0                 0.0         1.0      1.0            NaN   \n",
       "1                 0.0         1.0      1.0            NaN   \n",
       "2                 0.0         1.0      1.0            NaN   \n",
       "3                 0.0         1.0      1.0            NaN   \n",
       "4                 0.0         0.0      0.0            0.0   \n",
       "\n",
       "   Restless_Leg_Syndrome  Aerophagia  \n",
       "0                    0.0         NaN  \n",
       "1                    1.0         0.0  \n",
       "2                    0.0         0.0  \n",
       "3                    1.0         0.0  \n",
       "4                    0.0         NaN  \n",
       "\n",
       "[5 rows x 21 columns]"
      ]
     },
     "execution_count": 11,
     "metadata": {},
     "output_type": "execute_result"
    }
   ],
   "source": [
    "comorbidities_df = data[comorbidities]\n",
    "comorbidities_df.head()"
   ]
  },
  {
   "cell_type": "code",
   "execution_count": 12,
   "id": "6c904cc7",
   "metadata": {},
   "outputs": [],
   "source": [
    "symptoms=['Snoring','Diurnal_somnolence','Driving_drowsiness','Morning_fatigue','Morning_headache','Memory_problem',\n",
    "          'Nocturnal_perspiration','Shortness_of_breath_on_exertion','Nocturia','Drowsiness_accident','Near_miss_accident',\n",
    "          'Respiratory_arrest','Skin_lesions']"
   ]
  },
  {
   "cell_type": "code",
   "execution_count": 13,
   "id": "4519b8ed",
   "metadata": {},
   "outputs": [
    {
     "data": {
      "text/html": [
       "<div>\n",
       "<style scoped>\n",
       "    .dataframe tbody tr th:only-of-type {\n",
       "        vertical-align: middle;\n",
       "    }\n",
       "\n",
       "    .dataframe tbody tr th {\n",
       "        vertical-align: top;\n",
       "    }\n",
       "\n",
       "    .dataframe thead th {\n",
       "        text-align: right;\n",
       "    }\n",
       "</style>\n",
       "<table border=\"1\" class=\"dataframe\">\n",
       "  <thead>\n",
       "    <tr style=\"text-align: right;\">\n",
       "      <th></th>\n",
       "      <th>Snoring</th>\n",
       "      <th>Diurnal_somnolence</th>\n",
       "      <th>Driving_drowsiness</th>\n",
       "      <th>Morning_fatigue</th>\n",
       "      <th>Morning_headache</th>\n",
       "      <th>Memory_problem</th>\n",
       "      <th>Nocturnal_perspiration</th>\n",
       "      <th>Shortness_of_breath_on_exertion</th>\n",
       "      <th>Nocturia</th>\n",
       "      <th>Drowsiness_accident</th>\n",
       "      <th>Near_miss_accident</th>\n",
       "      <th>Respiratory_arrest</th>\n",
       "      <th>Skin_lesions</th>\n",
       "    </tr>\n",
       "  </thead>\n",
       "  <tbody>\n",
       "    <tr>\n",
       "      <th>0</th>\n",
       "      <td>NaN</td>\n",
       "      <td>0.0</td>\n",
       "      <td>0.0</td>\n",
       "      <td>0.0</td>\n",
       "      <td>1.0</td>\n",
       "      <td>0.0</td>\n",
       "      <td>1.0</td>\n",
       "      <td>1.0</td>\n",
       "      <td>1.0</td>\n",
       "      <td>0.0</td>\n",
       "      <td>0.0</td>\n",
       "      <td>1.0</td>\n",
       "      <td>NaN</td>\n",
       "    </tr>\n",
       "    <tr>\n",
       "      <th>1</th>\n",
       "      <td>NaN</td>\n",
       "      <td>1.0</td>\n",
       "      <td>1.0</td>\n",
       "      <td>1.0</td>\n",
       "      <td>1.0</td>\n",
       "      <td>0.0</td>\n",
       "      <td>1.0</td>\n",
       "      <td>1.0</td>\n",
       "      <td>0.0</td>\n",
       "      <td>0.0</td>\n",
       "      <td>0.0</td>\n",
       "      <td>0.0</td>\n",
       "      <td>0.0</td>\n",
       "    </tr>\n",
       "    <tr>\n",
       "      <th>2</th>\n",
       "      <td>NaN</td>\n",
       "      <td>0.0</td>\n",
       "      <td>0.0</td>\n",
       "      <td>1.0</td>\n",
       "      <td>1.0</td>\n",
       "      <td>0.0</td>\n",
       "      <td>0.0</td>\n",
       "      <td>0.0</td>\n",
       "      <td>0.0</td>\n",
       "      <td>0.0</td>\n",
       "      <td>0.0</td>\n",
       "      <td>0.0</td>\n",
       "      <td>0.0</td>\n",
       "    </tr>\n",
       "    <tr>\n",
       "      <th>3</th>\n",
       "      <td>NaN</td>\n",
       "      <td>1.0</td>\n",
       "      <td>0.0</td>\n",
       "      <td>1.0</td>\n",
       "      <td>1.0</td>\n",
       "      <td>0.0</td>\n",
       "      <td>1.0</td>\n",
       "      <td>1.0</td>\n",
       "      <td>0.0</td>\n",
       "      <td>0.0</td>\n",
       "      <td>0.0</td>\n",
       "      <td>0.0</td>\n",
       "      <td>0.0</td>\n",
       "    </tr>\n",
       "    <tr>\n",
       "      <th>4</th>\n",
       "      <td>1.0</td>\n",
       "      <td>1.0</td>\n",
       "      <td>0.0</td>\n",
       "      <td>0.0</td>\n",
       "      <td>0.0</td>\n",
       "      <td>0.0</td>\n",
       "      <td>0.0</td>\n",
       "      <td>0.0</td>\n",
       "      <td>1.0</td>\n",
       "      <td>0.0</td>\n",
       "      <td>0.0</td>\n",
       "      <td>0.0</td>\n",
       "      <td>NaN</td>\n",
       "    </tr>\n",
       "  </tbody>\n",
       "</table>\n",
       "</div>"
      ],
      "text/plain": [
       "   Snoring  Diurnal_somnolence  Driving_drowsiness  Morning_fatigue  \\\n",
       "0      NaN                 0.0                 0.0              0.0   \n",
       "1      NaN                 1.0                 1.0              1.0   \n",
       "2      NaN                 0.0                 0.0              1.0   \n",
       "3      NaN                 1.0                 0.0              1.0   \n",
       "4      1.0                 1.0                 0.0              0.0   \n",
       "\n",
       "   Morning_headache  Memory_problem  Nocturnal_perspiration  \\\n",
       "0               1.0             0.0                     1.0   \n",
       "1               1.0             0.0                     1.0   \n",
       "2               1.0             0.0                     0.0   \n",
       "3               1.0             0.0                     1.0   \n",
       "4               0.0             0.0                     0.0   \n",
       "\n",
       "   Shortness_of_breath_on_exertion  Nocturia  Drowsiness_accident  \\\n",
       "0                              1.0       1.0                  0.0   \n",
       "1                              1.0       0.0                  0.0   \n",
       "2                              0.0       0.0                  0.0   \n",
       "3                              1.0       0.0                  0.0   \n",
       "4                              0.0       1.0                  0.0   \n",
       "\n",
       "   Near_miss_accident  Respiratory_arrest  Skin_lesions  \n",
       "0                 0.0                 1.0           NaN  \n",
       "1                 0.0                 0.0           0.0  \n",
       "2                 0.0                 0.0           0.0  \n",
       "3                 0.0                 0.0           0.0  \n",
       "4                 0.0                 0.0           NaN  "
      ]
     },
     "execution_count": 13,
     "metadata": {},
     "output_type": "execute_result"
    }
   ],
   "source": [
    "symptoms_df = data[symptoms]\n",
    "symptoms_df.head()"
   ]
  },
  {
   "cell_type": "code",
   "execution_count": 14,
   "id": "926c436d",
   "metadata": {},
   "outputs": [],
   "source": [
    "treatments =['ENT_surgery','CPAP','Two_levels_pressure_ventilation','Assisted_Servoventilation','Mandibular_advance_orthosis',\n",
    "             'Oxygen_therapy','MaxilloFacial_surgery','Drug_treatment_Modafinil','RLS_drug_treatment','Other_treatments',\n",
    "             'Diet','Smoking_cessation','Reduction_alcohol_consumption','Physical_activity','Humidifier']\n"
   ]
  },
  {
   "cell_type": "code",
   "execution_count": 15,
   "id": "2fd91dca",
   "metadata": {},
   "outputs": [
    {
     "data": {
      "text/html": [
       "<div>\n",
       "<style scoped>\n",
       "    .dataframe tbody tr th:only-of-type {\n",
       "        vertical-align: middle;\n",
       "    }\n",
       "\n",
       "    .dataframe tbody tr th {\n",
       "        vertical-align: top;\n",
       "    }\n",
       "\n",
       "    .dataframe thead th {\n",
       "        text-align: right;\n",
       "    }\n",
       "</style>\n",
       "<table border=\"1\" class=\"dataframe\">\n",
       "  <thead>\n",
       "    <tr style=\"text-align: right;\">\n",
       "      <th></th>\n",
       "      <th>ENT_surgery</th>\n",
       "      <th>CPAP</th>\n",
       "      <th>Two_levels_pressure_ventilation</th>\n",
       "      <th>Assisted_Servoventilation</th>\n",
       "      <th>Mandibular_advance_orthosis</th>\n",
       "      <th>Oxygen_therapy</th>\n",
       "      <th>MaxilloFacial_surgery</th>\n",
       "      <th>Drug_treatment_Modafinil</th>\n",
       "      <th>RLS_drug_treatment</th>\n",
       "      <th>Other_treatments</th>\n",
       "      <th>Diet</th>\n",
       "      <th>Smoking_cessation</th>\n",
       "      <th>Reduction_alcohol_consumption</th>\n",
       "      <th>Physical_activity</th>\n",
       "      <th>Humidifier</th>\n",
       "    </tr>\n",
       "  </thead>\n",
       "  <tbody>\n",
       "    <tr>\n",
       "      <th>0</th>\n",
       "      <td>0.0</td>\n",
       "      <td>0.0</td>\n",
       "      <td>0.0</td>\n",
       "      <td>0.0</td>\n",
       "      <td>0.0</td>\n",
       "      <td>0.0</td>\n",
       "      <td>0.0</td>\n",
       "      <td>0.0</td>\n",
       "      <td>0.0</td>\n",
       "      <td>0.0</td>\n",
       "      <td>NaN</td>\n",
       "      <td>NaN</td>\n",
       "      <td>NaN</td>\n",
       "      <td>NaN</td>\n",
       "      <td>NaN</td>\n",
       "    </tr>\n",
       "    <tr>\n",
       "      <th>1</th>\n",
       "      <td>0.0</td>\n",
       "      <td>NaN</td>\n",
       "      <td>NaN</td>\n",
       "      <td>NaN</td>\n",
       "      <td>NaN</td>\n",
       "      <td>NaN</td>\n",
       "      <td>NaN</td>\n",
       "      <td>NaN</td>\n",
       "      <td>NaN</td>\n",
       "      <td>NaN</td>\n",
       "      <td>0.0</td>\n",
       "      <td>0.0</td>\n",
       "      <td>0.0</td>\n",
       "      <td>0.0</td>\n",
       "      <td>0.0</td>\n",
       "    </tr>\n",
       "    <tr>\n",
       "      <th>2</th>\n",
       "      <td>0.0</td>\n",
       "      <td>NaN</td>\n",
       "      <td>NaN</td>\n",
       "      <td>NaN</td>\n",
       "      <td>NaN</td>\n",
       "      <td>NaN</td>\n",
       "      <td>NaN</td>\n",
       "      <td>NaN</td>\n",
       "      <td>NaN</td>\n",
       "      <td>NaN</td>\n",
       "      <td>0.0</td>\n",
       "      <td>1.0</td>\n",
       "      <td>NaN</td>\n",
       "      <td>1.0</td>\n",
       "      <td>0.0</td>\n",
       "    </tr>\n",
       "    <tr>\n",
       "      <th>3</th>\n",
       "      <td>0.0</td>\n",
       "      <td>NaN</td>\n",
       "      <td>NaN</td>\n",
       "      <td>NaN</td>\n",
       "      <td>NaN</td>\n",
       "      <td>NaN</td>\n",
       "      <td>NaN</td>\n",
       "      <td>NaN</td>\n",
       "      <td>NaN</td>\n",
       "      <td>NaN</td>\n",
       "      <td>0.0</td>\n",
       "      <td>0.0</td>\n",
       "      <td>0.0</td>\n",
       "      <td>0.0</td>\n",
       "      <td>0.0</td>\n",
       "    </tr>\n",
       "    <tr>\n",
       "      <th>4</th>\n",
       "      <td>0.0</td>\n",
       "      <td>0.0</td>\n",
       "      <td>0.0</td>\n",
       "      <td>0.0</td>\n",
       "      <td>0.0</td>\n",
       "      <td>0.0</td>\n",
       "      <td>0.0</td>\n",
       "      <td>0.0</td>\n",
       "      <td>0.0</td>\n",
       "      <td>0.0</td>\n",
       "      <td>NaN</td>\n",
       "      <td>NaN</td>\n",
       "      <td>NaN</td>\n",
       "      <td>NaN</td>\n",
       "      <td>NaN</td>\n",
       "    </tr>\n",
       "  </tbody>\n",
       "</table>\n",
       "</div>"
      ],
      "text/plain": [
       "   ENT_surgery  CPAP  Two_levels_pressure_ventilation  \\\n",
       "0          0.0   0.0                              0.0   \n",
       "1          0.0   NaN                              NaN   \n",
       "2          0.0   NaN                              NaN   \n",
       "3          0.0   NaN                              NaN   \n",
       "4          0.0   0.0                              0.0   \n",
       "\n",
       "   Assisted_Servoventilation  Mandibular_advance_orthosis  Oxygen_therapy  \\\n",
       "0                        0.0                          0.0             0.0   \n",
       "1                        NaN                          NaN             NaN   \n",
       "2                        NaN                          NaN             NaN   \n",
       "3                        NaN                          NaN             NaN   \n",
       "4                        0.0                          0.0             0.0   \n",
       "\n",
       "   MaxilloFacial_surgery  Drug_treatment_Modafinil  RLS_drug_treatment  \\\n",
       "0                    0.0                       0.0                 0.0   \n",
       "1                    NaN                       NaN                 NaN   \n",
       "2                    NaN                       NaN                 NaN   \n",
       "3                    NaN                       NaN                 NaN   \n",
       "4                    0.0                       0.0                 0.0   \n",
       "\n",
       "   Other_treatments  Diet  Smoking_cessation  Reduction_alcohol_consumption  \\\n",
       "0               0.0   NaN                NaN                            NaN   \n",
       "1               NaN   0.0                0.0                            0.0   \n",
       "2               NaN   0.0                1.0                            NaN   \n",
       "3               NaN   0.0                0.0                            0.0   \n",
       "4               0.0   NaN                NaN                            NaN   \n",
       "\n",
       "   Physical_activity  Humidifier  \n",
       "0                NaN         NaN  \n",
       "1                0.0         0.0  \n",
       "2                1.0         0.0  \n",
       "3                0.0         0.0  \n",
       "4                NaN         NaN  "
      ]
     },
     "execution_count": 15,
     "metadata": {},
     "output_type": "execute_result"
    }
   ],
   "source": [
    "treatments_df = data[treatments]\n",
    "treatments_df.head()"
   ]
  },
  {
   "cell_type": "code",
   "execution_count": 16,
   "id": "f85f953d",
   "metadata": {},
   "outputs": [],
   "source": [
    "questionnaires = ['Epworth_scale','Pichots_scale','Depression_scale']"
   ]
  },
  {
   "cell_type": "code",
   "execution_count": 17,
   "id": "4b30db82",
   "metadata": {},
   "outputs": [
    {
     "data": {
      "text/html": [
       "<div>\n",
       "<style scoped>\n",
       "    .dataframe tbody tr th:only-of-type {\n",
       "        vertical-align: middle;\n",
       "    }\n",
       "\n",
       "    .dataframe tbody tr th {\n",
       "        vertical-align: top;\n",
       "    }\n",
       "\n",
       "    .dataframe thead th {\n",
       "        text-align: right;\n",
       "    }\n",
       "</style>\n",
       "<table border=\"1\" class=\"dataframe\">\n",
       "  <thead>\n",
       "    <tr style=\"text-align: right;\">\n",
       "      <th></th>\n",
       "      <th>Epworth_scale</th>\n",
       "      <th>Pichots_scale</th>\n",
       "      <th>Depression_scale</th>\n",
       "    </tr>\n",
       "  </thead>\n",
       "  <tbody>\n",
       "    <tr>\n",
       "      <th>0</th>\n",
       "      <td>6.0</td>\n",
       "      <td>24.0</td>\n",
       "      <td>10.0</td>\n",
       "    </tr>\n",
       "    <tr>\n",
       "      <th>1</th>\n",
       "      <td>8.0</td>\n",
       "      <td>25.0</td>\n",
       "      <td>9.0</td>\n",
       "    </tr>\n",
       "    <tr>\n",
       "      <th>2</th>\n",
       "      <td>2.0</td>\n",
       "      <td>24.0</td>\n",
       "      <td>12.0</td>\n",
       "    </tr>\n",
       "    <tr>\n",
       "      <th>3</th>\n",
       "      <td>8.0</td>\n",
       "      <td>24.0</td>\n",
       "      <td>11.0</td>\n",
       "    </tr>\n",
       "    <tr>\n",
       "      <th>4</th>\n",
       "      <td>5.0</td>\n",
       "      <td>3.0</td>\n",
       "      <td>6.0</td>\n",
       "    </tr>\n",
       "  </tbody>\n",
       "</table>\n",
       "</div>"
      ],
      "text/plain": [
       "   Epworth_scale  Pichots_scale  Depression_scale\n",
       "0            6.0           24.0              10.0\n",
       "1            8.0           25.0               9.0\n",
       "2            2.0           24.0              12.0\n",
       "3            8.0           24.0              11.0\n",
       "4            5.0            3.0               6.0"
      ]
     },
     "execution_count": 17,
     "metadata": {},
     "output_type": "execute_result"
    }
   ],
   "source": [
    "questionnaires_df = data[questionnaires]\n",
    "questionnaires_df.head()"
   ]
  },
  {
   "cell_type": "code",
   "execution_count": 18,
   "id": "b443ba5e",
   "metadata": {},
   "outputs": [],
   "source": [
    "psg = ['Corrected_average_duration_sleep','Spirometry','FEV1',\n",
    "         'Inspiratory_capacity','PAO2','PACO2','Number_oxygen_desaturation','Mean_oxygen_saturation',\n",
    "         'Corrected_saturation_cumulated_time','Health_state_scale_doctor']"
   ]
  },
  {
   "cell_type": "code",
   "execution_count": 19,
   "id": "9c102f7a",
   "metadata": {},
   "outputs": [
    {
     "data": {
      "text/html": [
       "<div>\n",
       "<style scoped>\n",
       "    .dataframe tbody tr th:only-of-type {\n",
       "        vertical-align: middle;\n",
       "    }\n",
       "\n",
       "    .dataframe tbody tr th {\n",
       "        vertical-align: top;\n",
       "    }\n",
       "\n",
       "    .dataframe thead th {\n",
       "        text-align: right;\n",
       "    }\n",
       "</style>\n",
       "<table border=\"1\" class=\"dataframe\">\n",
       "  <thead>\n",
       "    <tr style=\"text-align: right;\">\n",
       "      <th></th>\n",
       "      <th>Corrected_average_duration_sleep</th>\n",
       "      <th>Spirometry</th>\n",
       "      <th>FEV1</th>\n",
       "      <th>Inspiratory_capacity</th>\n",
       "      <th>PAO2</th>\n",
       "      <th>PACO2</th>\n",
       "      <th>Number_oxygen_desaturation</th>\n",
       "      <th>Mean_oxygen_saturation</th>\n",
       "      <th>Corrected_saturation_cumulated_time</th>\n",
       "      <th>Health_state_scale_doctor</th>\n",
       "    </tr>\n",
       "  </thead>\n",
       "  <tbody>\n",
       "    <tr>\n",
       "      <th>0</th>\n",
       "      <td>NaN</td>\n",
       "      <td>NaN</td>\n",
       "      <td>NaN</td>\n",
       "      <td>NaN</td>\n",
       "      <td>NaN</td>\n",
       "      <td>NaN</td>\n",
       "      <td>5.0</td>\n",
       "      <td>96.0</td>\n",
       "      <td>NaN</td>\n",
       "      <td>NaN</td>\n",
       "    </tr>\n",
       "    <tr>\n",
       "      <th>1</th>\n",
       "      <td>NaN</td>\n",
       "      <td>NaN</td>\n",
       "      <td>NaN</td>\n",
       "      <td>NaN</td>\n",
       "      <td>NaN</td>\n",
       "      <td>NaN</td>\n",
       "      <td>NaN</td>\n",
       "      <td>NaN</td>\n",
       "      <td>NaN</td>\n",
       "      <td>NaN</td>\n",
       "    </tr>\n",
       "    <tr>\n",
       "      <th>2</th>\n",
       "      <td>06:00</td>\n",
       "      <td>NaN</td>\n",
       "      <td>NaN</td>\n",
       "      <td>NaN</td>\n",
       "      <td>NaN</td>\n",
       "      <td>NaN</td>\n",
       "      <td>NaN</td>\n",
       "      <td>NaN</td>\n",
       "      <td>NaN</td>\n",
       "      <td>NaN</td>\n",
       "    </tr>\n",
       "    <tr>\n",
       "      <th>3</th>\n",
       "      <td>NaN</td>\n",
       "      <td>NaN</td>\n",
       "      <td>83.0</td>\n",
       "      <td>2.29</td>\n",
       "      <td>89.0</td>\n",
       "      <td>31.0</td>\n",
       "      <td>NaN</td>\n",
       "      <td>NaN</td>\n",
       "      <td>NaN</td>\n",
       "      <td>96.0</td>\n",
       "    </tr>\n",
       "    <tr>\n",
       "      <th>4</th>\n",
       "      <td>NaN</td>\n",
       "      <td>NaN</td>\n",
       "      <td>NaN</td>\n",
       "      <td>NaN</td>\n",
       "      <td>NaN</td>\n",
       "      <td>NaN</td>\n",
       "      <td>NaN</td>\n",
       "      <td>NaN</td>\n",
       "      <td>NaN</td>\n",
       "      <td>NaN</td>\n",
       "    </tr>\n",
       "  </tbody>\n",
       "</table>\n",
       "</div>"
      ],
      "text/plain": [
       "  Corrected_average_duration_sleep  Spirometry  FEV1  Inspiratory_capacity  \\\n",
       "0                              NaN         NaN   NaN                   NaN   \n",
       "1                              NaN         NaN   NaN                   NaN   \n",
       "2                            06:00         NaN   NaN                   NaN   \n",
       "3                              NaN         NaN  83.0                  2.29   \n",
       "4                              NaN         NaN   NaN                   NaN   \n",
       "\n",
       "   PAO2  PACO2  Number_oxygen_desaturation  Mean_oxygen_saturation  \\\n",
       "0   NaN    NaN                         5.0                    96.0   \n",
       "1   NaN    NaN                         NaN                     NaN   \n",
       "2   NaN    NaN                         NaN                     NaN   \n",
       "3  89.0   31.0                         NaN                     NaN   \n",
       "4   NaN    NaN                         NaN                     NaN   \n",
       "\n",
       "  Corrected_saturation_cumulated_time  Health_state_scale_doctor  \n",
       "0                                 NaN                        NaN  \n",
       "1                                 NaN                        NaN  \n",
       "2                                 NaN                        NaN  \n",
       "3                                 NaN                       96.0  \n",
       "4                                 NaN                        NaN  "
      ]
     },
     "execution_count": 19,
     "metadata": {},
     "output_type": "execute_result"
    }
   ],
   "source": [
    "psg_df = data[psg]\n",
    "psg_df.head()"
   ]
  },
  {
   "cell_type": "code",
   "execution_count": 20,
   "id": "59f2d5e9",
   "metadata": {},
   "outputs": [],
   "source": [
    "diagnoses= ['Sleep_apnea_syndrome','Obstructive_sleep_apnea','Central_sleep_apnea','Mixed_sleep_apnea','Other_sleep_disorder',\n",
    "        'Hygiene-Dietetictips','Apnea_hypopnea_index','Microawakening_index','Residual_apnea_hypopnea']"
   ]
  },
  {
   "cell_type": "code",
   "execution_count": 21,
   "id": "7e4ca380",
   "metadata": {},
   "outputs": [
    {
     "data": {
      "text/html": [
       "<div>\n",
       "<style scoped>\n",
       "    .dataframe tbody tr th:only-of-type {\n",
       "        vertical-align: middle;\n",
       "    }\n",
       "\n",
       "    .dataframe tbody tr th {\n",
       "        vertical-align: top;\n",
       "    }\n",
       "\n",
       "    .dataframe thead th {\n",
       "        text-align: right;\n",
       "    }\n",
       "</style>\n",
       "<table border=\"1\" class=\"dataframe\">\n",
       "  <thead>\n",
       "    <tr style=\"text-align: right;\">\n",
       "      <th></th>\n",
       "      <th>Sleep_apnea_syndrome</th>\n",
       "      <th>Obstructive_sleep_apnea</th>\n",
       "      <th>Central_sleep_apnea</th>\n",
       "      <th>Mixed_sleep_apnea</th>\n",
       "      <th>Other_sleep_disorder</th>\n",
       "      <th>Hygiene-Dietetictips</th>\n",
       "      <th>Apnea_hypopnea_index</th>\n",
       "      <th>Microawakening_index</th>\n",
       "      <th>Residual_apnea_hypopnea</th>\n",
       "    </tr>\n",
       "  </thead>\n",
       "  <tbody>\n",
       "    <tr>\n",
       "      <th>0</th>\n",
       "      <td>1.0</td>\n",
       "      <td>0.0</td>\n",
       "      <td>0.0</td>\n",
       "      <td>0.0</td>\n",
       "      <td>0.0</td>\n",
       "      <td>0.0</td>\n",
       "      <td>8.0</td>\n",
       "      <td>8.0</td>\n",
       "      <td>NaN</td>\n",
       "    </tr>\n",
       "    <tr>\n",
       "      <th>1</th>\n",
       "      <td>1.0</td>\n",
       "      <td>NaN</td>\n",
       "      <td>NaN</td>\n",
       "      <td>NaN</td>\n",
       "      <td>NaN</td>\n",
       "      <td>NaN</td>\n",
       "      <td>NaN</td>\n",
       "      <td>NaN</td>\n",
       "      <td>NaN</td>\n",
       "    </tr>\n",
       "    <tr>\n",
       "      <th>2</th>\n",
       "      <td>1.0</td>\n",
       "      <td>NaN</td>\n",
       "      <td>NaN</td>\n",
       "      <td>NaN</td>\n",
       "      <td>NaN</td>\n",
       "      <td>NaN</td>\n",
       "      <td>NaN</td>\n",
       "      <td>NaN</td>\n",
       "      <td>NaN</td>\n",
       "    </tr>\n",
       "    <tr>\n",
       "      <th>3</th>\n",
       "      <td>1.0</td>\n",
       "      <td>NaN</td>\n",
       "      <td>NaN</td>\n",
       "      <td>NaN</td>\n",
       "      <td>NaN</td>\n",
       "      <td>NaN</td>\n",
       "      <td>NaN</td>\n",
       "      <td>NaN</td>\n",
       "      <td>NaN</td>\n",
       "    </tr>\n",
       "    <tr>\n",
       "      <th>4</th>\n",
       "      <td>0.0</td>\n",
       "      <td>0.0</td>\n",
       "      <td>0.0</td>\n",
       "      <td>0.0</td>\n",
       "      <td>0.0</td>\n",
       "      <td>0.0</td>\n",
       "      <td>NaN</td>\n",
       "      <td>NaN</td>\n",
       "      <td>NaN</td>\n",
       "    </tr>\n",
       "  </tbody>\n",
       "</table>\n",
       "</div>"
      ],
      "text/plain": [
       "   Sleep_apnea_syndrome  Obstructive_sleep_apnea  Central_sleep_apnea  \\\n",
       "0                   1.0                      0.0                  0.0   \n",
       "1                   1.0                      NaN                  NaN   \n",
       "2                   1.0                      NaN                  NaN   \n",
       "3                   1.0                      NaN                  NaN   \n",
       "4                   0.0                      0.0                  0.0   \n",
       "\n",
       "   Mixed_sleep_apnea  Other_sleep_disorder  Hygiene-Dietetictips  \\\n",
       "0                0.0                   0.0                   0.0   \n",
       "1                NaN                   NaN                   NaN   \n",
       "2                NaN                   NaN                   NaN   \n",
       "3                NaN                   NaN                   NaN   \n",
       "4                0.0                   0.0                   0.0   \n",
       "\n",
       "   Apnea_hypopnea_index  Microawakening_index  Residual_apnea_hypopnea  \n",
       "0                   8.0                   8.0                      NaN  \n",
       "1                   NaN                   NaN                      NaN  \n",
       "2                   NaN                   NaN                      NaN  \n",
       "3                   NaN                   NaN                      NaN  \n",
       "4                   NaN                   NaN                      NaN  "
      ]
     },
     "execution_count": 21,
     "metadata": {},
     "output_type": "execute_result"
    }
   ],
   "source": [
    "diagnoses_df = data[diagnoses]\n",
    "diagnoses_df.head()"
   ]
  },
  {
   "cell_type": "markdown",
   "id": "76e3b530",
   "metadata": {},
   "source": [
    "## Combining dataframes into a new df"
   ]
  },
  {
   "cell_type": "code",
   "execution_count": 22,
   "id": "aba30190",
   "metadata": {},
   "outputs": [],
   "source": [
    "osa_all = [demographic_df,measurements_df,comorbidities_df, symptoms_df,treatments_df, questionnaires_df, psg_df, diagnoses_df] # this is a list\n",
    "osa_all_df = pd.concat(osa_all, axis=1)   # this is a dataframe\n"
   ]
  },
  {
   "cell_type": "code",
   "execution_count": 23,
   "id": "a909750a",
   "metadata": {},
   "outputs": [
    {
     "data": {
      "text/html": [
       "<div>\n",
       "<style scoped>\n",
       "    .dataframe tbody tr th:only-of-type {\n",
       "        vertical-align: middle;\n",
       "    }\n",
       "\n",
       "    .dataframe tbody tr th {\n",
       "        vertical-align: top;\n",
       "    }\n",
       "\n",
       "    .dataframe thead th {\n",
       "        text-align: right;\n",
       "    }\n",
       "</style>\n",
       "<table border=\"1\" class=\"dataframe\">\n",
       "  <thead>\n",
       "    <tr style=\"text-align: right;\">\n",
       "      <th></th>\n",
       "      <th>PatientID</th>\n",
       "      <th>Sex</th>\n",
       "      <th>Age</th>\n",
       "      <th>Current_smoker</th>\n",
       "      <th>Former_smoker</th>\n",
       "      <th>Sedentary</th>\n",
       "      <th>Height</th>\n",
       "      <th>Weight</th>\n",
       "      <th>Cervical_perimeter</th>\n",
       "      <th>Abdominal_perimeter</th>\n",
       "      <th>...</th>\n",
       "      <th>Health_state_scale_doctor</th>\n",
       "      <th>Sleep_apnea_syndrome</th>\n",
       "      <th>Obstructive_sleep_apnea</th>\n",
       "      <th>Central_sleep_apnea</th>\n",
       "      <th>Mixed_sleep_apnea</th>\n",
       "      <th>Other_sleep_disorder</th>\n",
       "      <th>Hygiene-Dietetictips</th>\n",
       "      <th>Apnea_hypopnea_index</th>\n",
       "      <th>Microawakening_index</th>\n",
       "      <th>Residual_apnea_hypopnea</th>\n",
       "    </tr>\n",
       "  </thead>\n",
       "  <tbody>\n",
       "    <tr>\n",
       "      <th>0</th>\n",
       "      <td>1</td>\n",
       "      <td>2.0</td>\n",
       "      <td>35.167693</td>\n",
       "      <td>0.0</td>\n",
       "      <td>1.0</td>\n",
       "      <td>0.0</td>\n",
       "      <td>166.0</td>\n",
       "      <td>100.0</td>\n",
       "      <td>35.0</td>\n",
       "      <td>114.0</td>\n",
       "      <td>...</td>\n",
       "      <td>NaN</td>\n",
       "      <td>1.0</td>\n",
       "      <td>0.0</td>\n",
       "      <td>0.0</td>\n",
       "      <td>0.0</td>\n",
       "      <td>0.0</td>\n",
       "      <td>0.0</td>\n",
       "      <td>8.0</td>\n",
       "      <td>8.0</td>\n",
       "      <td>NaN</td>\n",
       "    </tr>\n",
       "    <tr>\n",
       "      <th>1</th>\n",
       "      <td>1</td>\n",
       "      <td>NaN</td>\n",
       "      <td>36.522929</td>\n",
       "      <td>0.0</td>\n",
       "      <td>1.0</td>\n",
       "      <td>0.0</td>\n",
       "      <td>NaN</td>\n",
       "      <td>95.0</td>\n",
       "      <td>NaN</td>\n",
       "      <td>104.0</td>\n",
       "      <td>...</td>\n",
       "      <td>NaN</td>\n",
       "      <td>1.0</td>\n",
       "      <td>NaN</td>\n",
       "      <td>NaN</td>\n",
       "      <td>NaN</td>\n",
       "      <td>NaN</td>\n",
       "      <td>NaN</td>\n",
       "      <td>NaN</td>\n",
       "      <td>NaN</td>\n",
       "      <td>NaN</td>\n",
       "    </tr>\n",
       "    <tr>\n",
       "      <th>2</th>\n",
       "      <td>1</td>\n",
       "      <td>NaN</td>\n",
       "      <td>36.591376</td>\n",
       "      <td>0.0</td>\n",
       "      <td>1.0</td>\n",
       "      <td>0.0</td>\n",
       "      <td>NaN</td>\n",
       "      <td>98.0</td>\n",
       "      <td>NaN</td>\n",
       "      <td>NaN</td>\n",
       "      <td>...</td>\n",
       "      <td>NaN</td>\n",
       "      <td>1.0</td>\n",
       "      <td>NaN</td>\n",
       "      <td>NaN</td>\n",
       "      <td>NaN</td>\n",
       "      <td>NaN</td>\n",
       "      <td>NaN</td>\n",
       "      <td>NaN</td>\n",
       "      <td>NaN</td>\n",
       "      <td>NaN</td>\n",
       "    </tr>\n",
       "    <tr>\n",
       "      <th>3</th>\n",
       "      <td>1</td>\n",
       "      <td>NaN</td>\n",
       "      <td>38.576318</td>\n",
       "      <td>0.0</td>\n",
       "      <td>1.0</td>\n",
       "      <td>0.0</td>\n",
       "      <td>NaN</td>\n",
       "      <td>95.0</td>\n",
       "      <td>38.0</td>\n",
       "      <td>108.0</td>\n",
       "      <td>...</td>\n",
       "      <td>96.0</td>\n",
       "      <td>1.0</td>\n",
       "      <td>NaN</td>\n",
       "      <td>NaN</td>\n",
       "      <td>NaN</td>\n",
       "      <td>NaN</td>\n",
       "      <td>NaN</td>\n",
       "      <td>NaN</td>\n",
       "      <td>NaN</td>\n",
       "      <td>NaN</td>\n",
       "    </tr>\n",
       "    <tr>\n",
       "      <th>4</th>\n",
       "      <td>2</td>\n",
       "      <td>1.0</td>\n",
       "      <td>75.252567</td>\n",
       "      <td>0.0</td>\n",
       "      <td>0.0</td>\n",
       "      <td>1.0</td>\n",
       "      <td>167.0</td>\n",
       "      <td>70.0</td>\n",
       "      <td>41.0</td>\n",
       "      <td>105.0</td>\n",
       "      <td>...</td>\n",
       "      <td>NaN</td>\n",
       "      <td>0.0</td>\n",
       "      <td>0.0</td>\n",
       "      <td>0.0</td>\n",
       "      <td>0.0</td>\n",
       "      <td>0.0</td>\n",
       "      <td>0.0</td>\n",
       "      <td>NaN</td>\n",
       "      <td>NaN</td>\n",
       "      <td>NaN</td>\n",
       "    </tr>\n",
       "  </tbody>\n",
       "</table>\n",
       "<p>5 rows × 92 columns</p>\n",
       "</div>"
      ],
      "text/plain": [
       "   PatientID  Sex        Age  Current_smoker  Former_smoker  Sedentary  \\\n",
       "0          1  2.0  35.167693             0.0            1.0        0.0   \n",
       "1          1  NaN  36.522929             0.0            1.0        0.0   \n",
       "2          1  NaN  36.591376             0.0            1.0        0.0   \n",
       "3          1  NaN  38.576318             0.0            1.0        0.0   \n",
       "4          2  1.0  75.252567             0.0            0.0        1.0   \n",
       "\n",
       "   Height  Weight  Cervical_perimeter  Abdominal_perimeter  ...  \\\n",
       "0   166.0   100.0                35.0                114.0  ...   \n",
       "1     NaN    95.0                 NaN                104.0  ...   \n",
       "2     NaN    98.0                 NaN                  NaN  ...   \n",
       "3     NaN    95.0                38.0                108.0  ...   \n",
       "4   167.0    70.0                41.0                105.0  ...   \n",
       "\n",
       "   Health_state_scale_doctor  Sleep_apnea_syndrome  Obstructive_sleep_apnea  \\\n",
       "0                        NaN                   1.0                      0.0   \n",
       "1                        NaN                   1.0                      NaN   \n",
       "2                        NaN                   1.0                      NaN   \n",
       "3                       96.0                   1.0                      NaN   \n",
       "4                        NaN                   0.0                      0.0   \n",
       "\n",
       "   Central_sleep_apnea  Mixed_sleep_apnea  Other_sleep_disorder  \\\n",
       "0                  0.0                0.0                   0.0   \n",
       "1                  NaN                NaN                   NaN   \n",
       "2                  NaN                NaN                   NaN   \n",
       "3                  NaN                NaN                   NaN   \n",
       "4                  0.0                0.0                   0.0   \n",
       "\n",
       "   Hygiene-Dietetictips  Apnea_hypopnea_index  Microawakening_index  \\\n",
       "0                   0.0                   8.0                   8.0   \n",
       "1                   NaN                   NaN                   NaN   \n",
       "2                   NaN                   NaN                   NaN   \n",
       "3                   NaN                   NaN                   NaN   \n",
       "4                   0.0                   NaN                   NaN   \n",
       "\n",
       "   Residual_apnea_hypopnea  \n",
       "0                      NaN  \n",
       "1                      NaN  \n",
       "2                      NaN  \n",
       "3                      NaN  \n",
       "4                      NaN  \n",
       "\n",
       "[5 rows x 92 columns]"
      ]
     },
     "execution_count": 23,
     "metadata": {},
     "output_type": "execute_result"
    }
   ],
   "source": [
    "osa_all_df.head()"
   ]
  },
  {
   "cell_type": "code",
   "execution_count": 24,
   "id": "a31ca60b",
   "metadata": {},
   "outputs": [
    {
     "data": {
      "text/plain": [
       "(190537, 92)"
      ]
     },
     "execution_count": 24,
     "metadata": {},
     "output_type": "execute_result"
    }
   ],
   "source": [
    "osa_all_df.shape"
   ]
  },
  {
   "cell_type": "code",
   "execution_count": 25,
   "id": "1b0ad5fc",
   "metadata": {},
   "outputs": [],
   "source": [
    "osa_all_df.drop_duplicates(subset =\"PatientID\", keep = 'first', inplace = True) # this drops repeated Patient ID rows and only keeps the 1st instance"
   ]
  },
  {
   "cell_type": "code",
   "execution_count": 26,
   "id": "a550ae92",
   "metadata": {},
   "outputs": [
    {
     "data": {
      "text/plain": [
       "(111194, 92)"
      ]
     },
     "execution_count": 26,
     "metadata": {},
     "output_type": "execute_result"
    }
   ],
   "source": [
    "osa_all_df.shape"
   ]
  },
  {
   "cell_type": "code",
   "execution_count": 27,
   "id": "5877d9ee",
   "metadata": {},
   "outputs": [
    {
     "data": {
      "text/html": [
       "<div>\n",
       "<style scoped>\n",
       "    .dataframe tbody tr th:only-of-type {\n",
       "        vertical-align: middle;\n",
       "    }\n",
       "\n",
       "    .dataframe tbody tr th {\n",
       "        vertical-align: top;\n",
       "    }\n",
       "\n",
       "    .dataframe thead th {\n",
       "        text-align: right;\n",
       "    }\n",
       "</style>\n",
       "<table border=\"1\" class=\"dataframe\">\n",
       "  <thead>\n",
       "    <tr style=\"text-align: right;\">\n",
       "      <th></th>\n",
       "      <th>PatientID</th>\n",
       "      <th>Sex</th>\n",
       "      <th>Age</th>\n",
       "      <th>Current_smoker</th>\n",
       "      <th>Former_smoker</th>\n",
       "      <th>Sedentary</th>\n",
       "      <th>Height</th>\n",
       "      <th>Weight</th>\n",
       "      <th>Cervical_perimeter</th>\n",
       "      <th>Abdominal_perimeter</th>\n",
       "      <th>...</th>\n",
       "      <th>Health_state_scale_doctor</th>\n",
       "      <th>Sleep_apnea_syndrome</th>\n",
       "      <th>Obstructive_sleep_apnea</th>\n",
       "      <th>Central_sleep_apnea</th>\n",
       "      <th>Mixed_sleep_apnea</th>\n",
       "      <th>Other_sleep_disorder</th>\n",
       "      <th>Hygiene-Dietetictips</th>\n",
       "      <th>Apnea_hypopnea_index</th>\n",
       "      <th>Microawakening_index</th>\n",
       "      <th>Residual_apnea_hypopnea</th>\n",
       "    </tr>\n",
       "  </thead>\n",
       "  <tbody>\n",
       "    <tr>\n",
       "      <th>0</th>\n",
       "      <td>1</td>\n",
       "      <td>2.0</td>\n",
       "      <td>35.167693</td>\n",
       "      <td>0.0</td>\n",
       "      <td>1.0</td>\n",
       "      <td>0.0</td>\n",
       "      <td>166.0</td>\n",
       "      <td>100.0</td>\n",
       "      <td>35.0</td>\n",
       "      <td>114.0</td>\n",
       "      <td>...</td>\n",
       "      <td>NaN</td>\n",
       "      <td>1.0</td>\n",
       "      <td>0.0</td>\n",
       "      <td>0.0</td>\n",
       "      <td>0.0</td>\n",
       "      <td>0.0</td>\n",
       "      <td>0.0</td>\n",
       "      <td>8.0</td>\n",
       "      <td>8.0</td>\n",
       "      <td>NaN</td>\n",
       "    </tr>\n",
       "    <tr>\n",
       "      <th>4</th>\n",
       "      <td>2</td>\n",
       "      <td>1.0</td>\n",
       "      <td>75.252567</td>\n",
       "      <td>0.0</td>\n",
       "      <td>0.0</td>\n",
       "      <td>1.0</td>\n",
       "      <td>167.0</td>\n",
       "      <td>70.0</td>\n",
       "      <td>41.0</td>\n",
       "      <td>105.0</td>\n",
       "      <td>...</td>\n",
       "      <td>NaN</td>\n",
       "      <td>0.0</td>\n",
       "      <td>0.0</td>\n",
       "      <td>0.0</td>\n",
       "      <td>0.0</td>\n",
       "      <td>0.0</td>\n",
       "      <td>0.0</td>\n",
       "      <td>NaN</td>\n",
       "      <td>NaN</td>\n",
       "      <td>NaN</td>\n",
       "    </tr>\n",
       "    <tr>\n",
       "      <th>6</th>\n",
       "      <td>3</td>\n",
       "      <td>1.0</td>\n",
       "      <td>35.014374</td>\n",
       "      <td>0.0</td>\n",
       "      <td>0.0</td>\n",
       "      <td>0.0</td>\n",
       "      <td>178.0</td>\n",
       "      <td>96.0</td>\n",
       "      <td>44.0</td>\n",
       "      <td>109.0</td>\n",
       "      <td>...</td>\n",
       "      <td>NaN</td>\n",
       "      <td>0.0</td>\n",
       "      <td>0.0</td>\n",
       "      <td>0.0</td>\n",
       "      <td>0.0</td>\n",
       "      <td>1.0</td>\n",
       "      <td>1.0</td>\n",
       "      <td>49.0</td>\n",
       "      <td>45.0</td>\n",
       "      <td>NaN</td>\n",
       "    </tr>\n",
       "    <tr>\n",
       "      <th>7</th>\n",
       "      <td>4</td>\n",
       "      <td>1.0</td>\n",
       "      <td>48.802190</td>\n",
       "      <td>0.0</td>\n",
       "      <td>1.0</td>\n",
       "      <td>1.0</td>\n",
       "      <td>182.0</td>\n",
       "      <td>81.0</td>\n",
       "      <td>38.0</td>\n",
       "      <td>96.0</td>\n",
       "      <td>...</td>\n",
       "      <td>75.0</td>\n",
       "      <td>0.0</td>\n",
       "      <td>0.0</td>\n",
       "      <td>0.0</td>\n",
       "      <td>0.0</td>\n",
       "      <td>1.0</td>\n",
       "      <td>0.0</td>\n",
       "      <td>15.0</td>\n",
       "      <td>15.0</td>\n",
       "      <td>NaN</td>\n",
       "    </tr>\n",
       "    <tr>\n",
       "      <th>8</th>\n",
       "      <td>5</td>\n",
       "      <td>2.0</td>\n",
       "      <td>19.641342</td>\n",
       "      <td>0.0</td>\n",
       "      <td>1.0</td>\n",
       "      <td>0.0</td>\n",
       "      <td>180.0</td>\n",
       "      <td>117.0</td>\n",
       "      <td>48.0</td>\n",
       "      <td>118.0</td>\n",
       "      <td>...</td>\n",
       "      <td>NaN</td>\n",
       "      <td>0.0</td>\n",
       "      <td>0.0</td>\n",
       "      <td>0.0</td>\n",
       "      <td>0.0</td>\n",
       "      <td>0.0</td>\n",
       "      <td>0.0</td>\n",
       "      <td>NaN</td>\n",
       "      <td>NaN</td>\n",
       "      <td>NaN</td>\n",
       "    </tr>\n",
       "  </tbody>\n",
       "</table>\n",
       "<p>5 rows × 92 columns</p>\n",
       "</div>"
      ],
      "text/plain": [
       "   PatientID  Sex        Age  Current_smoker  Former_smoker  Sedentary  \\\n",
       "0          1  2.0  35.167693             0.0            1.0        0.0   \n",
       "4          2  1.0  75.252567             0.0            0.0        1.0   \n",
       "6          3  1.0  35.014374             0.0            0.0        0.0   \n",
       "7          4  1.0  48.802190             0.0            1.0        1.0   \n",
       "8          5  2.0  19.641342             0.0            1.0        0.0   \n",
       "\n",
       "   Height  Weight  Cervical_perimeter  Abdominal_perimeter  ...  \\\n",
       "0   166.0   100.0                35.0                114.0  ...   \n",
       "4   167.0    70.0                41.0                105.0  ...   \n",
       "6   178.0    96.0                44.0                109.0  ...   \n",
       "7   182.0    81.0                38.0                 96.0  ...   \n",
       "8   180.0   117.0                48.0                118.0  ...   \n",
       "\n",
       "   Health_state_scale_doctor  Sleep_apnea_syndrome  Obstructive_sleep_apnea  \\\n",
       "0                        NaN                   1.0                      0.0   \n",
       "4                        NaN                   0.0                      0.0   \n",
       "6                        NaN                   0.0                      0.0   \n",
       "7                       75.0                   0.0                      0.0   \n",
       "8                        NaN                   0.0                      0.0   \n",
       "\n",
       "   Central_sleep_apnea  Mixed_sleep_apnea  Other_sleep_disorder  \\\n",
       "0                  0.0                0.0                   0.0   \n",
       "4                  0.0                0.0                   0.0   \n",
       "6                  0.0                0.0                   1.0   \n",
       "7                  0.0                0.0                   1.0   \n",
       "8                  0.0                0.0                   0.0   \n",
       "\n",
       "   Hygiene-Dietetictips  Apnea_hypopnea_index  Microawakening_index  \\\n",
       "0                   0.0                   8.0                   8.0   \n",
       "4                   0.0                   NaN                   NaN   \n",
       "6                   1.0                  49.0                  45.0   \n",
       "7                   0.0                  15.0                  15.0   \n",
       "8                   0.0                   NaN                   NaN   \n",
       "\n",
       "   Residual_apnea_hypopnea  \n",
       "0                      NaN  \n",
       "4                      NaN  \n",
       "6                      NaN  \n",
       "7                      NaN  \n",
       "8                      NaN  \n",
       "\n",
       "[5 rows x 92 columns]"
      ]
     },
     "execution_count": 27,
     "metadata": {},
     "output_type": "execute_result"
    }
   ],
   "source": [
    "osa_all_df.head()"
   ]
  },
  {
   "cell_type": "markdown",
   "id": "2aa137fc",
   "metadata": {},
   "source": [
    "## Exporting clean df to csv"
   ]
  },
  {
   "cell_type": "code",
   "execution_count": 28,
   "id": "501a47c6",
   "metadata": {},
   "outputs": [],
   "source": [
    "osa_all_df.to_csv(\"OSA_clean.csv\")"
   ]
  },
  {
   "cell_type": "markdown",
   "id": "90efc364",
   "metadata": {},
   "source": [
    "## Subsetting df with demographic, measurement, comorbidity, symptoms,  questionnaire data, with AHI severity"
   ]
  },
  {
   "cell_type": "code",
   "execution_count": 19,
   "id": "b7c877f1",
   "metadata": {},
   "outputs": [],
   "source": [
    "osa_simple = [demographic_df,measurements_df,comorbidities_df, symptoms_df, questionnaires_df, data['Apnea_hypopnea_index']] # this is a list\n",
    "osa_simple_df = pd.concat(osa_simple, axis=1)   # this is a dataframe\n"
   ]
  },
  {
   "cell_type": "code",
   "execution_count": 20,
   "id": "3fc2f26d",
   "metadata": {},
   "outputs": [
    {
     "data": {
      "text/plain": [
       "(190537, 59)"
      ]
     },
     "execution_count": 20,
     "metadata": {},
     "output_type": "execute_result"
    }
   ],
   "source": [
    "osa_simple_df.shape"
   ]
  },
  {
   "cell_type": "markdown",
   "id": "091c1d70",
   "metadata": {},
   "source": [
    "### Dropping rows with duplicate patient IDs. Keeping 1st instance"
   ]
  },
  {
   "cell_type": "code",
   "execution_count": 21,
   "id": "eef82631",
   "metadata": {},
   "outputs": [],
   "source": [
    "osa_simple_df.drop_duplicates(subset =\"PatientID\", keep = 'first', inplace = True) # this drops repeated Patient ID rows and only keeps the 1st instance"
   ]
  },
  {
   "cell_type": "code",
   "execution_count": 22,
   "id": "57de974d",
   "metadata": {},
   "outputs": [
    {
     "data": {
      "text/plain": [
       "(111194, 59)"
      ]
     },
     "execution_count": 22,
     "metadata": {},
     "output_type": "execute_result"
    }
   ],
   "source": [
    "osa_simple_df.shape"
   ]
  },
  {
   "cell_type": "markdown",
   "id": "5e01d541",
   "metadata": {},
   "source": [
    "## Dataframe with columns >80% NaN dropped"
   ]
  },
  {
   "cell_type": "markdown",
   "id": "18377543",
   "metadata": {},
   "source": [
    "### Percentages of missing values"
   ]
  },
  {
   "cell_type": "code",
   "execution_count": 40,
   "id": "38278cc9",
   "metadata": {},
   "outputs": [
    {
     "data": {
      "text/plain": [
       "PatientID                           0.000000\n",
       "Sex                                 0.393906\n",
       "Age                                 8.334083\n",
       "Current_smoker                      8.504056\n",
       "Former_smoker                       8.500459\n",
       "Sedentary                           8.622767\n",
       "Height                             12.116661\n",
       "Weight                             11.926903\n",
       "Cervical_perimeter                 54.630646\n",
       "Abdominal_perimeter                54.069464\n",
       "Systolic_BP                        60.235264\n",
       "Diastolic_BP                       60.474486\n",
       "Bloodsugar_level                   94.160656\n",
       "Blood_total_cholesterol            94.112992\n",
       "HDL_level                          94.369301\n",
       "LDL_level                          94.452039\n",
       "Triglycerides_level                94.151663\n",
       "Maxillofacial_profile              22.702664\n",
       "BMI                                12.676044\n",
       "High_BP                             8.745076\n",
       "PH                                 83.685271\n",
       "Asthma                              8.694714\n",
       "Rhinitis                            8.622767\n",
       "COPD                                8.924942\n",
       "Respiratory_fail                    8.669533\n",
       "Myocardial_infarct                  8.542727\n",
       "Coronary_fail                       8.642553\n",
       "Arrhythmias                         8.706405\n",
       "Stroke                              8.555318\n",
       "Heart_fail                          8.597586\n",
       "Arteriopathy                        8.634459\n",
       "Gastric_reflux                      8.656043\n",
       "Glaucoma                            8.677626\n",
       "Diabetes                            8.334083\n",
       "Hypercholesterolemia                8.920445\n",
       "Hypertriglyceridemia                9.254096\n",
       "Hypo(er)thyroidism                  8.767559\n",
       "Depression                          8.692915\n",
       "Obesity                             9.470835\n",
       "Dysmorphology                       9.817976\n",
       "Restless_Leg_Syndrome               9.061640\n",
       "Aerophagia                         99.879490\n",
       "Snoring                            19.733079\n",
       "Diurnal_somnolence                  8.334083\n",
       "Driving_drowsiness                  8.334083\n",
       "Morning_fatigue                     8.334083\n",
       "Morning_headache                    8.334083\n",
       "Memory_problem                      8.334083\n",
       "Nocturnal_perspiration              8.334083\n",
       "Shortness_of_breath_on_exertion     8.334083\n",
       "Nocturia                            8.687519\n",
       "Drowsiness_accident                 8.334083\n",
       "Near_miss_accident                 22.958073\n",
       "Respiratory_arrest                 11.489829\n",
       "Skin_lesions                       99.879490\n",
       "Epworth_scale                      21.375254\n",
       "Pichots_scale                      31.438747\n",
       "Depression_scale                   32.526935\n",
       "Apnea_hypopnea_index               27.702934\n",
       "dtype: float64"
      ]
     },
     "execution_count": 40,
     "metadata": {},
     "output_type": "execute_result"
    }
   ],
   "source": [
    "(osa_simple_df.isnull().sum()/len(osa_simple_df))*100"
   ]
  },
  {
   "cell_type": "code",
   "execution_count": 23,
   "id": "49411b9b",
   "metadata": {},
   "outputs": [],
   "source": [
    "threshold = 80.0\n",
    "min_count =  int(((100-threshold)/100)*osa_simple_df.shape[0] + 1)  # this calculates the minimum number of samples per column that must have NaN value to be dropped\n",
    "\n",
    "\n",
    "osa_simple_nadrop = osa_simple_df.dropna( axis=1,thresh=min_count) # drop columns with more than 80% NaN\n",
    "     "
   ]
  },
  {
   "cell_type": "code",
   "execution_count": 24,
   "id": "fdf6ee25",
   "metadata": {},
   "outputs": [
    {
     "name": "stdout",
     "output_type": "stream",
     "text": [
      "With NaN (111194, 59)\n",
      "Dropped NaN (111194, 51)\n"
     ]
    }
   ],
   "source": [
    "print('With NaN', osa_simple_df.shape)\n",
    "print('Dropped NaN',osa_simple_nadrop.shape)"
   ]
  },
  {
   "cell_type": "markdown",
   "id": "9920c787",
   "metadata": {},
   "source": [
    "### Remove patients with no AHI info"
   ]
  },
  {
   "cell_type": "code",
   "execution_count": 25,
   "id": "20f8b78f",
   "metadata": {},
   "outputs": [
    {
     "name": "stderr",
     "output_type": "stream",
     "text": [
      "C:\\Users\\40331980\\.conda\\envs\\Amonae\\lib\\site-packages\\pandas\\util\\_decorators.py:311: SettingWithCopyWarning: \n",
      "A value is trying to be set on a copy of a slice from a DataFrame\n",
      "\n",
      "See the caveats in the documentation: https://pandas.pydata.org/pandas-docs/stable/user_guide/indexing.html#returning-a-view-versus-a-copy\n",
      "  return func(*args, **kwargs)\n"
     ]
    }
   ],
   "source": [
    "osa_simple_nadrop.dropna(subset=['Apnea_hypopnea_index'], inplace = True)"
   ]
  },
  {
   "cell_type": "code",
   "execution_count": 26,
   "id": "b89c0b40",
   "metadata": {},
   "outputs": [
    {
     "data": {
      "text/plain": [
       "(80390, 51)"
      ]
     },
     "execution_count": 26,
     "metadata": {},
     "output_type": "execute_result"
    }
   ],
   "source": [
    "osa_simple_nadrop.shape"
   ]
  },
  {
   "cell_type": "markdown",
   "id": "e419e86d",
   "metadata": {},
   "source": [
    "### Calculate severity based on AHI"
   ]
  },
  {
   "cell_type": "code",
   "execution_count": 27,
   "id": "01991695",
   "metadata": {},
   "outputs": [],
   "source": [
    "# defining a function that assigns severity based on AHI\n",
    "def severity (row):\n",
    "   if row['Apnea_hypopnea_index'] < 5 :\n",
    "      return 0\n",
    "   if row['Apnea_hypopnea_index'] >= 5 and row['Apnea_hypopnea_index'] < 15 :\n",
    "      return 1\n",
    "   if row['Apnea_hypopnea_index'] >= 15 and row['Apnea_hypopnea_index'] < 30 :\n",
    "      return 2\n",
    "   if row['Apnea_hypopnea_index'] >= 30 :\n",
    "      return 3"
   ]
  },
  {
   "cell_type": "code",
   "execution_count": 28,
   "id": "10043324",
   "metadata": {},
   "outputs": [
    {
     "name": "stderr",
     "output_type": "stream",
     "text": [
      "C:\\Users\\40331980\\.conda\\envs\\Amonae\\lib\\site-packages\\ipykernel_launcher.py:3: SettingWithCopyWarning: \n",
      "A value is trying to be set on a copy of a slice from a DataFrame.\n",
      "Try using .loc[row_indexer,col_indexer] = value instead\n",
      "\n",
      "See the caveats in the documentation: https://pandas.pydata.org/pandas-docs/stable/user_guide/indexing.html#returning-a-view-versus-a-copy\n",
      "  This is separate from the ipykernel package so we can avoid doing imports until\n"
     ]
    }
   ],
   "source": [
    "# applying function to create new Severity column\n",
    "\n",
    "osa_simple_nadrop['Severity'] = osa_simple_nadrop.apply (lambda row: severity(row), axis=1)"
   ]
  },
  {
   "cell_type": "code",
   "execution_count": 32,
   "id": "079931b6",
   "metadata": {},
   "outputs": [
    {
     "data": {
      "text/plain": [
       "(80390, 52)"
      ]
     },
     "execution_count": 32,
     "metadata": {},
     "output_type": "execute_result"
    }
   ],
   "source": [
    "osa_simple_nadrop.shape"
   ]
  },
  {
   "cell_type": "code",
   "execution_count": 29,
   "id": "e04becc6",
   "metadata": {},
   "outputs": [
    {
     "data": {
      "text/plain": [
       "3    33552\n",
       "2    17800\n",
       "1    17617\n",
       "0    11421\n",
       "Name: Severity, dtype: int64"
      ]
     },
     "execution_count": 29,
     "metadata": {},
     "output_type": "execute_result"
    }
   ],
   "source": [
    "osa_simple_nadrop.Severity.value_counts()  # how many of each severity are in the df"
   ]
  },
  {
   "cell_type": "code",
   "execution_count": 29,
   "id": "5f2a1004",
   "metadata": {},
   "outputs": [
    {
     "data": {
      "text/plain": [
       "3    41.736534\n",
       "2    22.142057\n",
       "1    21.914417\n",
       "0    14.206991\n",
       "Name: Severity, dtype: float64"
      ]
     },
     "execution_count": 29,
     "metadata": {},
     "output_type": "execute_result"
    }
   ],
   "source": [
    "osa_simple_nadrop.Severity.value_counts(normalize=True) * 100"
   ]
  },
  {
   "cell_type": "code",
   "execution_count": 31,
   "id": "e33b9e40",
   "metadata": {},
   "outputs": [
    {
     "data": {
      "text/plain": [
       "(80390, 51)"
      ]
     },
     "execution_count": 31,
     "metadata": {},
     "output_type": "execute_result"
    }
   ],
   "source": [
    "# removing the AHI column\n",
    "del osa_simple_nadrop['Apnea_hypopnea_index']\n",
    "osa_simple_nadrop.shape"
   ]
  },
  {
   "cell_type": "markdown",
   "id": "c53f9093",
   "metadata": {},
   "source": [
    "## Dataframe with NAN replaced with either 0 or average"
   ]
  },
  {
   "cell_type": "markdown",
   "id": "4a35bb3d",
   "metadata": {},
   "source": [
    "Continuous:\n",
    "Age, Height, Weight, Cervical_perimeter, Abdominal_perimeter, Systolic_BP, Diastolic_BP, Bloodsugar_level, Blood_total_cholesterol, HDL_level, LDL_level, Triglycerides_level, BMI, PH\n",
    "'Epworth_scale', 'Pichots_scale', 'Depression_scale',\n",
    "       'Corrected_average_duration_sleep', 'Spirometry', 'FEV1',\n",
    "       'Inspiratory_capacity', 'PAO2', 'PACO2', 'Number_oxygen_desaturation',\n",
    "       'Mean_oxygen_saturation', 'Corrected_saturation_cumulated_time',\n",
    "       'Health_state_scale_doctor'\n",
    "       Apnea_hypopnea_index, Microawakening_index, Residual_apnea_hypopnea "
   ]
  },
  {
   "cell_type": "code",
   "execution_count": 36,
   "id": "3319f2e6",
   "metadata": {
    "scrolled": false
   },
   "outputs": [
    {
     "data": {
      "text/plain": [
       "Index(['PatientID', 'Sex', 'Age', 'Current_smoker', 'Former_smoker',\n",
       "       'Sedentary', 'Height', 'Weight', 'Cervical_perimeter',\n",
       "       'Abdominal_perimeter', 'Systolic_BP', 'Diastolic_BP',\n",
       "       'Maxillofacial_profile', 'BMI', 'High_BP', 'Asthma', 'Rhinitis', 'COPD',\n",
       "       'Respiratory_fail', 'Myocardial_infarct', 'Coronary_fail',\n",
       "       'Arrhythmias', 'Stroke', 'Heart_fail', 'Arteriopathy', 'Gastric_reflux',\n",
       "       'Glaucoma', 'Diabetes', 'Hypercholesterolemia', 'Hypertriglyceridemia',\n",
       "       'Hypo(er)thyroidism', 'Depression', 'Obesity', 'Dysmorphology',\n",
       "       'Restless_Leg_Syndrome', 'Snoring', 'Diurnal_somnolence',\n",
       "       'Driving_drowsiness', 'Morning_fatigue', 'Morning_headache',\n",
       "       'Memory_problem', 'Nocturnal_perspiration',\n",
       "       'Shortness_of_breath_on_exertion', 'Nocturia', 'Drowsiness_accident',\n",
       "       'Near_miss_accident', 'Respiratory_arrest', 'Epworth_scale',\n",
       "       'Pichots_scale', 'Depression_scale', 'Severity'],\n",
       "      dtype='object')"
      ]
     },
     "execution_count": 36,
     "metadata": {},
     "output_type": "execute_result"
    }
   ],
   "source": [
    "osa_simple_nadrop.columns"
   ]
  },
  {
   "cell_type": "code",
   "execution_count": 30,
   "id": "f087dc62",
   "metadata": {},
   "outputs": [],
   "source": [
    "continuous = ['PatientID','Age','Height','Weight','Cervical_perimeter','Abdominal_perimeter','Systolic_BP','Diastolic_BP',\n",
    "              'BMI','Epworth_scale','Pichots_scale','Depression_scale']\n",
    "\n",
    "continuous_df = osa_simple_nadrop[continuous] # continuous variables subset\n",
    "categorical_df = osa_simple_nadrop.drop(columns=continuous) # categorical variables subset\n",
    "\n",
    "continuous_filled = continuous_df.fillna(continuous_df.mean())  # filing continuous subset with mean of column\n",
    "categorical_filled = categorical_df.fillna(0)                   # filling categorical subset with 0\n",
    "\n",
    "data2 = pd.concat([continuous_filled, categorical_filled], axis=1) "
   ]
  },
  {
   "cell_type": "markdown",
   "id": "d53ff2d5",
   "metadata": {},
   "source": [
    "## Stratified train-test-split"
   ]
  },
  {
   "cell_type": "code",
   "execution_count": 31,
   "id": "b672002b",
   "metadata": {},
   "outputs": [],
   "source": [
    "features = ['Sex', 'Age', 'Current_smoker', 'Former_smoker',\n",
    "       'Sedentary', 'Height', 'Weight', 'Cervical_perimeter',\n",
    "       'Abdominal_perimeter', 'Systolic_BP', 'Diastolic_BP',\n",
    "       'Maxillofacial_profile', 'BMI', 'High_BP', 'Asthma', 'Rhinitis', 'COPD',\n",
    "       'Respiratory_fail', 'Myocardial_infarct', 'Coronary_fail',\n",
    "       'Arrhythmias', 'Stroke', 'Heart_fail', 'Arteriopathy', 'Gastric_reflux',\n",
    "       'Glaucoma', 'Diabetes', 'Hypercholesterolemia', 'Hypertriglyceridemia',\n",
    "       'Hypo(er)thyroidism', 'Depression', 'Obesity', 'Dysmorphology',\n",
    "       'Restless_Leg_Syndrome', 'Snoring', 'Diurnal_somnolence',\n",
    "       'Driving_drowsiness', 'Morning_fatigue', 'Morning_headache',\n",
    "       'Memory_problem', 'Nocturnal_perspiration',\n",
    "       'Shortness_of_breath_on_exertion', 'Nocturia', 'Drowsiness_accident',\n",
    "       'Near_miss_accident', 'Respiratory_arrest', 'Epworth_scale',\n",
    "       'Pichots_scale', 'Depression_scale']\n",
    "X=data2[features]  # Features  \n",
    "y=data2['Severity']  # Labels"
   ]
  },
  {
   "cell_type": "code",
   "execution_count": 32,
   "id": "950b00c9",
   "metadata": {},
   "outputs": [],
   "source": [
    "X_train, X_test, y_train, y_test = train_test_split(X, y,\n",
    "                                                    stratify=y, \n",
    "                                                    test_size=0.2,\n",
    "                                                    random_state=0)"
   ]
  },
  {
   "cell_type": "code",
   "execution_count": 35,
   "id": "ea44c896",
   "metadata": {},
   "outputs": [
    {
     "name": "stdout",
     "output_type": "stream",
     "text": [
      "\n",
      "Class distribution train (%):\n"
     ]
    },
    {
     "data": {
      "text/plain": [
       "3    41.735601\n",
       "2    22.142057\n",
       "1    21.915039\n",
       "0    14.207302\n",
       "Name: Severity, dtype: float64"
      ]
     },
     "execution_count": 35,
     "metadata": {},
     "output_type": "execute_result"
    }
   ],
   "source": [
    "print('\\nClass distribution train (%):')\n",
    "y_train.value_counts(normalize=True) * 100"
   ]
  },
  {
   "cell_type": "code",
   "execution_count": 68,
   "id": "12efe620",
   "metadata": {},
   "outputs": [
    {
     "name": "stdout",
     "output_type": "stream",
     "text": [
      "\n",
      "Class distribution test (%):\n"
     ]
    },
    {
     "data": {
      "text/plain": [
       "3    41.740266\n",
       "2    22.142057\n",
       "1    21.911929\n",
       "0    14.205747\n",
       "Name: Severity, dtype: float64"
      ]
     },
     "execution_count": 68,
     "metadata": {},
     "output_type": "execute_result"
    }
   ],
   "source": [
    "print('\\nClass distribution test (%):')\n",
    "y_test.value_counts(normalize=True) * 100"
   ]
  },
  {
   "cell_type": "markdown",
   "id": "439bbf79",
   "metadata": {},
   "source": [
    "#### A note: a comparison of boosting algorithms with RF and SVM can be found in 'Towards Validating the Effectiveness of Obstructive Sleep Apnea Classification from Electronic Health Records Using Machine Learning (Ramesh et al. 2021)​'"
   ]
  },
  {
   "cell_type": "markdown",
   "id": "9bd56c9c",
   "metadata": {},
   "source": [
    "## Random Forest classifier"
   ]
  },
  {
   "cell_type": "code",
   "execution_count": 48,
   "id": "44f0150e",
   "metadata": {},
   "outputs": [
    {
     "name": "stdout",
     "output_type": "stream",
     "text": [
      "Accuracy: 0.4703943276526931\n"
     ]
    }
   ],
   "source": [
    "clf=RandomForestClassifier(n_estimators=100)  #defining classifier method\n",
    "\n",
    "clf.fit(X_train,y_train)                   # training classifier\n",
    "\n",
    "y_pred=clf.predict(X_test)                  # testing classifier \n",
    "\n",
    "print(\"Accuracy:\",metrics.accuracy_score(y_test, y_pred))"
   ]
  },
  {
   "cell_type": "code",
   "execution_count": 49,
   "id": "8bb9bdd9",
   "metadata": {},
   "outputs": [
    {
     "name": "stdout",
     "output_type": "stream",
     "text": [
      "Accuracy: 0.4723846249533524\n"
     ]
    }
   ],
   "source": [
    "clf=RandomForestClassifier(n_estimators=100, class_weight='balanced')  #defining classifier method\n",
    "\n",
    "clf.fit(X_train,y_train)                   # training classifier\n",
    "\n",
    "y_pred=clf.predict(X_test)                  # testing classifier \n",
    "\n",
    "print(\"Accuracy:\",metrics.accuracy_score(y_test, y_pred))"
   ]
  },
  {
   "cell_type": "markdown",
   "id": "07eb5252",
   "metadata": {},
   "source": [
    "### 5-fold crossvalidation"
   ]
  },
  {
   "cell_type": "code",
   "execution_count": 37,
   "id": "6c0b03fd",
   "metadata": {},
   "outputs": [
    {
     "data": {
      "text/plain": [
       "array([0.45951493, 0.45829965, 0.46681595, 0.46774896, 0.46333271])"
      ]
     },
     "execution_count": 37,
     "metadata": {},
     "output_type": "execute_result"
    }
   ],
   "source": [
    "from sklearn.model_selection import cross_val_score\n",
    "cross_val = cross_val_score(clf, X, y, cv=5)\n",
    "cross_val"
   ]
  },
  {
   "cell_type": "code",
   "execution_count": 71,
   "id": "b75563a5",
   "metadata": {},
   "outputs": [
    {
     "name": "stdout",
     "output_type": "stream",
     "text": [
      "0.46 accuracy with a standard deviation of 0.01\n"
     ]
    }
   ],
   "source": [
    "print(\"%0.4f accuracy with a standard deviation of %0.4f\" % (cross_val.mean(), cross_val.std()))"
   ]
  },
  {
   "cell_type": "markdown",
   "id": "ca48b034",
   "metadata": {},
   "source": [
    "### Classification report"
   ]
  },
  {
   "cell_type": "code",
   "execution_count": 54,
   "id": "f518900c",
   "metadata": {},
   "outputs": [
    {
     "name": "stdout",
     "output_type": "stream",
     "text": [
      "              precision    recall  f1-score   support\n",
      "\n",
      "           0       0.43      0.29      0.34      2284\n",
      "           1       0.33      0.24      0.28      3523\n",
      "           2       0.27      0.10      0.15      3560\n",
      "           3       0.54      0.85      0.66      6711\n",
      "\n",
      "   micro avg       0.47      0.47      0.47     16078\n",
      "   macro avg       0.39      0.37      0.36     16078\n",
      "weighted avg       0.42      0.47      0.42     16078\n",
      "\n"
     ]
    }
   ],
   "source": [
    "print(classification_report(y_test, y_pred))\n"
   ]
  },
  {
   "cell_type": "markdown",
   "id": "1fc0e84a",
   "metadata": {},
   "source": [
    "### Balanced accuracy"
   ]
  },
  {
   "cell_type": "code",
   "execution_count": 56,
   "id": "afa3aa3a",
   "metadata": {},
   "outputs": [
    {
     "data": {
      "text/plain": [
       "0.3695357124647133"
      ]
     },
     "execution_count": 56,
     "metadata": {},
     "output_type": "execute_result"
    }
   ],
   "source": [
    "from sklearn.metrics import balanced_accuracy_score\n",
    "balanced_accuracy_score(y_test, y_pred)"
   ]
  },
  {
   "cell_type": "markdown",
   "id": "51a7dbdf",
   "metadata": {},
   "source": [
    "### G-mean"
   ]
  },
  {
   "cell_type": "code",
   "execution_count": 34,
   "id": "75c7db78",
   "metadata": {},
   "outputs": [
    {
     "data": {
      "text/plain": [
       "0.28246346499148123"
      ]
     },
     "execution_count": 34,
     "metadata": {},
     "output_type": "execute_result"
    }
   ],
   "source": [
    "from imblearn.metrics import geometric_mean_score\n",
    "geometric_mean_score(y_test, y_pred)"
   ]
  },
  {
   "cell_type": "markdown",
   "id": "90aef935",
   "metadata": {},
   "source": [
    "### Confusion matrix"
   ]
  },
  {
   "cell_type": "code",
   "execution_count": 35,
   "id": "fe765507",
   "metadata": {},
   "outputs": [
    {
     "data": {
      "image/png": "[encoded data removed]",
      "text/plain": [
       "<Figure size 1152x504 with 2 Axes>"
      ]
     },
     "metadata": {
      "needs_background": "light"
     },
     "output_type": "display_data"
    }
   ],
   "source": [
    "matrix = confusion_matrix(y_test, y_pred)\n",
    "matrix = matrix.astype('float') / matrix.sum(axis=1)[:, np.newaxis]\n",
    "\n",
    "# Build the plot\n",
    "plt.figure(figsize=(16,7))\n",
    "sns.set(font_scale=1.4)\n",
    "sns.heatmap(matrix, annot=True, annot_kws={'size':10},\n",
    "            cmap=plt.cm.Greens, linewidths=0.2)\n",
    "\n",
    "# Add labels to the plot\n",
    "class_names = ['None', 'Low', 'Moderate', \n",
    "               'Severe']\n",
    "tick_marks = np.arange(len(class_names))\n",
    "tick_marks2 = tick_marks + 0.5\n",
    "plt.xticks(tick_marks, class_names, rotation=25)\n",
    "plt.yticks(tick_marks2, class_names, rotation=0)\n",
    "plt.xlabel('Predicted label')\n",
    "plt.ylabel('True label')\n",
    "plt.title('Confusion Matrix for Random Forest Model')\n",
    "plt.show()"
   ]
  },
  {
   "cell_type": "markdown",
   "id": "1ff772d5",
   "metadata": {},
   "source": [
    "## Extra Trees Classifier"
   ]
  },
  {
   "cell_type": "code",
   "execution_count": 36,
   "id": "a92f4de9",
   "metadata": {},
   "outputs": [
    {
     "name": "stdout",
     "output_type": "stream",
     "text": [
      "Accuracy: 0.46031844756810547\n"
     ]
    }
   ],
   "source": [
    "from sklearn.ensemble import ExtraTreesClassifier\n",
    "clf = ExtraTreesClassifier(n_estimators=100)\n",
    "clf.fit(X_train,y_train)                   # training classifier\n",
    "\n",
    "y_pred=clf.predict(X_test)                  # testing classifier \n",
    "\n",
    "print(\"Accuracy:\",metrics.accuracy_score(y_test, y_pred))"
   ]
  },
  {
   "cell_type": "markdown",
   "id": "88ce0802",
   "metadata": {},
   "source": [
    "### 5-fold cross validation"
   ]
  },
  {
   "cell_type": "code",
   "execution_count": 41,
   "id": "51740d5d",
   "metadata": {},
   "outputs": [
    {
     "name": "stdout",
     "output_type": "stream",
     "text": [
      "0.45 accuracy with a standard deviation of 0.00\n"
     ]
    }
   ],
   "source": [
    "cross_val = cross_val_score(clf, X, y, cv=5)\n",
    "print(\"%0.4f accuracy with a standard deviation of %0.4f\" % (cross_val.mean(), cross_val.std()))"
   ]
  },
  {
   "cell_type": "markdown",
   "id": "8e5946e1",
   "metadata": {},
   "source": [
    "### Classification report"
   ]
  },
  {
   "cell_type": "code",
   "execution_count": 54,
   "id": "a2e397d9",
   "metadata": {},
   "outputs": [
    {
     "name": "stdout",
     "output_type": "stream",
     "text": [
      "              precision    recall  f1-score   support\n",
      "\n",
      "           0       0.43      0.29      0.34      2284\n",
      "           1       0.33      0.24      0.28      3523\n",
      "           2       0.27      0.10      0.15      3560\n",
      "           3       0.54      0.85      0.66      6711\n",
      "\n",
      "   micro avg       0.47      0.47      0.47     16078\n",
      "   macro avg       0.39      0.37      0.36     16078\n",
      "weighted avg       0.42      0.47      0.42     16078\n",
      "\n"
     ]
    }
   ],
   "source": [
    "print(classification_report(y_test, y_pred))\n"
   ]
  },
  {
   "cell_type": "markdown",
   "id": "1c1dd443",
   "metadata": {},
   "source": [
    "### Balanced accuracy"
   ]
  },
  {
   "cell_type": "code",
   "execution_count": 56,
   "id": "149b12bb",
   "metadata": {},
   "outputs": [
    {
     "data": {
      "text/plain": [
       "0.3695357124647133"
      ]
     },
     "execution_count": 56,
     "metadata": {},
     "output_type": "execute_result"
    }
   ],
   "source": [
    "from sklearn.metrics import balanced_accuracy_score\n",
    "balanced_accuracy_score(y_test, y_pred)"
   ]
  },
  {
   "cell_type": "markdown",
   "id": "e8ffbc16",
   "metadata": {},
   "source": [
    "### G-mean"
   ]
  },
  {
   "cell_type": "code",
   "execution_count": 37,
   "id": "67c26f20",
   "metadata": {},
   "outputs": [
    {
     "data": {
      "text/plain": [
       "0.2838344318522864"
      ]
     },
     "execution_count": 37,
     "metadata": {},
     "output_type": "execute_result"
    }
   ],
   "source": [
    "from imblearn.metrics import geometric_mean_score\n",
    "geometric_mean_score(y_test, y_pred)"
   ]
  },
  {
   "cell_type": "markdown",
   "id": "0689e367",
   "metadata": {},
   "source": [
    "### Confusion matrix"
   ]
  },
  {
   "cell_type": "code",
   "execution_count": 38,
   "id": "f91858a2",
   "metadata": {},
   "outputs": [
    {
     "data": {
      "image/png": "[encoded data removed]",
      "text/plain": [
       "<Figure size 1152x504 with 2 Axes>"
      ]
     },
     "metadata": {},
     "output_type": "display_data"
    }
   ],
   "source": [
    "matrix = confusion_matrix(y_test, y_pred)\n",
    "matrix = matrix.astype('float') / matrix.sum(axis=1)[:, np.newaxis]\n",
    "\n",
    "# Build the plot\n",
    "plt.figure(figsize=(16,7))\n",
    "sns.set(font_scale=1.4)\n",
    "sns.heatmap(matrix, annot=True, annot_kws={'size':10},\n",
    "            cmap=plt.cm.Greens, linewidths=0.2)\n",
    "\n",
    "# Add labels to the plot\n",
    "class_names = ['None', 'Low', 'Moderate', \n",
    "               'Severe']\n",
    "tick_marks = np.arange(len(class_names))\n",
    "tick_marks2 = tick_marks + 0.5\n",
    "plt.xticks(tick_marks, class_names, rotation=25)\n",
    "plt.yticks(tick_marks2, class_names, rotation=0)\n",
    "plt.xlabel('Predicted label')\n",
    "plt.ylabel('True label')\n",
    "plt.title('Confusion Matrix for Extra Trees Model')\n",
    "plt.show()"
   ]
  },
  {
   "cell_type": "markdown",
   "id": "9c87e98f",
   "metadata": {},
   "source": [
    "## XGBoost Classifier"
   ]
  },
  {
   "cell_type": "code",
   "execution_count": 39,
   "id": "2305deb3",
   "metadata": {},
   "outputs": [
    {
     "name": "stdout",
     "output_type": "stream",
     "text": [
      "Accuracy: 0.4743127254633661\n"
     ]
    }
   ],
   "source": [
    "import xgboost as xgb\n",
    "clf = xgb.XGBClassifier(n_estimators = 100)\n",
    "clf.fit(X_train,y_train)                   # training classifier\n",
    "\n",
    "y_pred=clf.predict(X_test)                  # testing classifier \n",
    "\n",
    "print(\"Accuracy:\",metrics.accuracy_score(y_test, y_pred))"
   ]
  },
  {
   "cell_type": "markdown",
   "id": "59e58119",
   "metadata": {},
   "source": [
    "### 5-fold cross validation"
   ]
  },
  {
   "cell_type": "code",
   "execution_count": 44,
   "id": "f99dcd33",
   "metadata": {},
   "outputs": [
    {
     "name": "stdout",
     "output_type": "stream",
     "text": [
      "0.47 accuracy with a standard deviation of 0.00\n"
     ]
    }
   ],
   "source": [
    "cross_val = cross_val_score(clf, X, y, cv=5)\n",
    "print(\"%0.4f accuracy with a standard deviation of %0.4f\" % (cross_val.mean(), cross_val.std()))"
   ]
  },
  {
   "cell_type": "markdown",
   "id": "2fc1e940",
   "metadata": {},
   "source": [
    "### Classification report"
   ]
  },
  {
   "cell_type": "code",
   "execution_count": 54,
   "id": "f19b33c5",
   "metadata": {},
   "outputs": [
    {
     "name": "stdout",
     "output_type": "stream",
     "text": [
      "              precision    recall  f1-score   support\n",
      "\n",
      "           0       0.43      0.29      0.34      2284\n",
      "           1       0.33      0.24      0.28      3523\n",
      "           2       0.27      0.10      0.15      3560\n",
      "           3       0.54      0.85      0.66      6711\n",
      "\n",
      "   micro avg       0.47      0.47      0.47     16078\n",
      "   macro avg       0.39      0.37      0.36     16078\n",
      "weighted avg       0.42      0.47      0.42     16078\n",
      "\n"
     ]
    }
   ],
   "source": [
    "print(classification_report(y_test, y_pred))\n"
   ]
  },
  {
   "cell_type": "markdown",
   "id": "cef960d0",
   "metadata": {},
   "source": [
    "### Balanced accuracy"
   ]
  },
  {
   "cell_type": "code",
   "execution_count": 56,
   "id": "6ef3c845",
   "metadata": {},
   "outputs": [
    {
     "data": {
      "text/plain": [
       "0.3695357124647133"
      ]
     },
     "execution_count": 56,
     "metadata": {},
     "output_type": "execute_result"
    }
   ],
   "source": [
    "from sklearn.metrics import balanced_accuracy_score\n",
    "balanced_accuracy_score(y_test, y_pred)"
   ]
  },
  {
   "cell_type": "markdown",
   "id": "0fff39d0",
   "metadata": {},
   "source": [
    "### G-mean"
   ]
  },
  {
   "cell_type": "code",
   "execution_count": 40,
   "id": "aabe727e",
   "metadata": {},
   "outputs": [
    {
     "data": {
      "text/plain": [
       "0.27947634496898577"
      ]
     },
     "execution_count": 40,
     "metadata": {},
     "output_type": "execute_result"
    }
   ],
   "source": [
    "from imblearn.metrics import geometric_mean_score\n",
    "geometric_mean_score(y_test, y_pred)"
   ]
  },
  {
   "cell_type": "markdown",
   "id": "504a18a1",
   "metadata": {},
   "source": [
    "### Confusion matrix"
   ]
  },
  {
   "cell_type": "code",
   "execution_count": 41,
   "id": "1bdd85c1",
   "metadata": {},
   "outputs": [
    {
     "data": {
      "image/png": "[encoded data removed]",
      "text/plain": [
       "<Figure size 1152x504 with 2 Axes>"
      ]
     },
     "metadata": {},
     "output_type": "display_data"
    }
   ],
   "source": [
    "matrix = confusion_matrix(y_test, y_pred)\n",
    "matrix = matrix.astype('float') / matrix.sum(axis=1)[:, np.newaxis]\n",
    "\n",
    "# Build the plot\n",
    "plt.figure(figsize=(16,7))\n",
    "sns.set(font_scale=1.4)\n",
    "sns.heatmap(matrix, annot=True, annot_kws={'size':10},\n",
    "            cmap=plt.cm.Greens, linewidths=0.2)\n",
    "\n",
    "# Add labels to the plot\n",
    "class_names = ['None', 'Low', 'Moderate', \n",
    "               'Severe']\n",
    "tick_marks = np.arange(len(class_names))\n",
    "tick_marks2 = tick_marks + 0.5\n",
    "plt.xticks(tick_marks, class_names, rotation=25)\n",
    "plt.yticks(tick_marks2, class_names, rotation=0)\n",
    "plt.xlabel('Predicted label')\n",
    "plt.ylabel('True label')\n",
    "plt.title('Confusion Matrix for XGBoost Model')\n",
    "plt.show()"
   ]
  },
  {
   "cell_type": "markdown",
   "id": "6fbcde62",
   "metadata": {},
   "source": [
    "## LightGBM Classifier"
   ]
  },
  {
   "cell_type": "code",
   "execution_count": 42,
   "id": "eb6253dd",
   "metadata": {},
   "outputs": [
    {
     "name": "stdout",
     "output_type": "stream",
     "text": [
      "Accuracy: 0.48059460131857196\n"
     ]
    }
   ],
   "source": [
    "import lightgbm as lgb\n",
    "clf = lgb.LGBMClassifier(n_estimators = 100)\n",
    "clf.fit(X_train,y_train)                   # training classifier\n",
    "\n",
    "y_pred=clf.predict(X_test)                  # testing classifier \n",
    "\n",
    "print(\"Accuracy:\",metrics.accuracy_score(y_test, y_pred))"
   ]
  },
  {
   "cell_type": "markdown",
   "id": "638a6305",
   "metadata": {},
   "source": [
    "### 5-fold cross validation"
   ]
  },
  {
   "cell_type": "code",
   "execution_count": 48,
   "id": "eac21a53",
   "metadata": {},
   "outputs": [
    {
     "name": "stdout",
     "output_type": "stream",
     "text": [
      "0.4733 accuracy with a standard deviation of 0.0033\n"
     ]
    }
   ],
   "source": [
    "cross_val = cross_val_score(clf, X, y, cv=5)\n",
    "print(\"%0.4f accuracy with a standard deviation of %0.4f\" % (cross_val.mean(), cross_val.std()))"
   ]
  },
  {
   "cell_type": "markdown",
   "id": "12418830",
   "metadata": {},
   "source": [
    "### Classification report"
   ]
  },
  {
   "cell_type": "code",
   "execution_count": 54,
   "id": "bc72356c",
   "metadata": {},
   "outputs": [
    {
     "name": "stdout",
     "output_type": "stream",
     "text": [
      "              precision    recall  f1-score   support\n",
      "\n",
      "           0       0.43      0.29      0.34      2284\n",
      "           1       0.33      0.24      0.28      3523\n",
      "           2       0.27      0.10      0.15      3560\n",
      "           3       0.54      0.85      0.66      6711\n",
      "\n",
      "   micro avg       0.47      0.47      0.47     16078\n",
      "   macro avg       0.39      0.37      0.36     16078\n",
      "weighted avg       0.42      0.47      0.42     16078\n",
      "\n"
     ]
    }
   ],
   "source": [
    "print(classification_report(y_test, y_pred))\n"
   ]
  },
  {
   "cell_type": "markdown",
   "id": "a69d77d4",
   "metadata": {},
   "source": [
    "### Balanced accuracy"
   ]
  },
  {
   "cell_type": "code",
   "execution_count": 56,
   "id": "d336af6f",
   "metadata": {},
   "outputs": [
    {
     "data": {
      "text/plain": [
       "0.3695357124647133"
      ]
     },
     "execution_count": 56,
     "metadata": {},
     "output_type": "execute_result"
    }
   ],
   "source": [
    "from sklearn.metrics import balanced_accuracy_score\n",
    "balanced_accuracy_score(y_test, y_pred)"
   ]
  },
  {
   "cell_type": "markdown",
   "id": "a94a425b",
   "metadata": {},
   "source": [
    "### G-mean"
   ]
  },
  {
   "cell_type": "code",
   "execution_count": 43,
   "id": "45a8bf94",
   "metadata": {},
   "outputs": [
    {
     "data": {
      "text/plain": [
       "0.258576596387807"
      ]
     },
     "execution_count": 43,
     "metadata": {},
     "output_type": "execute_result"
    }
   ],
   "source": [
    "from imblearn.metrics import geometric_mean_score\n",
    "geometric_mean_score(y_test, y_pred)"
   ]
  },
  {
   "cell_type": "markdown",
   "id": "fb60481d",
   "metadata": {},
   "source": [
    "### Confusion matrix"
   ]
  },
  {
   "cell_type": "code",
   "execution_count": 44,
   "id": "8ecc34c5",
   "metadata": {},
   "outputs": [
    {
     "data": {
      "image/png": "[encoded data removed]",
      "text/plain": [
       "<Figure size 1152x504 with 2 Axes>"
      ]
     },
     "metadata": {},
     "output_type": "display_data"
    }
   ],
   "source": [
    "matrix = confusion_matrix(y_test, y_pred)\n",
    "matrix = matrix.astype('float') / matrix.sum(axis=1)[:, np.newaxis]\n",
    "\n",
    "# Build the plot\n",
    "plt.figure(figsize=(16,7))\n",
    "sns.set(font_scale=1.4)\n",
    "sns.heatmap(matrix, annot=True, annot_kws={'size':10},\n",
    "            cmap=plt.cm.Greens, linewidths=0.2)\n",
    "\n",
    "# Add labels to the plot\n",
    "class_names = ['None', 'Low', 'Moderate', \n",
    "               'Severe']\n",
    "tick_marks = np.arange(len(class_names))\n",
    "tick_marks2 = tick_marks + 0.5\n",
    "plt.xticks(tick_marks, class_names, rotation=25)\n",
    "plt.yticks(tick_marks2, class_names, rotation=0)\n",
    "plt.xlabel('Predicted label')\n",
    "plt.ylabel('True label')\n",
    "plt.title('Confusion Matrix for LightGBM Model')\n",
    "plt.show()"
   ]
  },
  {
   "cell_type": "markdown",
   "id": "5f5adc9a",
   "metadata": {},
   "source": [
    "## CATBoost Classifier"
   ]
  },
  {
   "cell_type": "code",
   "execution_count": 45,
   "id": "99208c4a",
   "metadata": {},
   "outputs": [
    {
     "name": "stdout",
     "output_type": "stream",
     "text": [
      "Accuracy: 0.47393954471949246\n"
     ]
    }
   ],
   "source": [
    "from catboost import CatBoostClassifier\n",
    "clf = CatBoostClassifier(n_estimators = 100, silent=True)\n",
    "clf.fit(X_train,y_train)                   # training classifier\n",
    "\n",
    "y_pred=clf.predict(X_test)                  # testing classifier \n",
    "\n",
    "print(\"Accuracy:\",metrics.accuracy_score(y_test, y_pred))"
   ]
  },
  {
   "cell_type": "markdown",
   "id": "826743b4",
   "metadata": {},
   "source": [
    "### 5-fold cross validation"
   ]
  },
  {
   "cell_type": "code",
   "execution_count": 52,
   "id": "06572d74",
   "metadata": {},
   "outputs": [
    {
     "name": "stdout",
     "output_type": "stream",
     "text": [
      "0.4670 accuracy with a standard deviation of 0.0044\n"
     ]
    }
   ],
   "source": [
    "cross_val = cross_val_score(clf, X, y, cv=5)\n",
    "print(\"%0.4f accuracy with a standard deviation of %0.4f\" % (cross_val.mean(), cross_val.std()))"
   ]
  },
  {
   "cell_type": "markdown",
   "id": "005af81d",
   "metadata": {},
   "source": [
    "### Classification report"
   ]
  },
  {
   "cell_type": "code",
   "execution_count": 54,
   "id": "920aea79",
   "metadata": {},
   "outputs": [
    {
     "name": "stdout",
     "output_type": "stream",
     "text": [
      "              precision    recall  f1-score   support\n",
      "\n",
      "           0       0.43      0.29      0.34      2284\n",
      "           1       0.33      0.24      0.28      3523\n",
      "           2       0.27      0.10      0.15      3560\n",
      "           3       0.54      0.85      0.66      6711\n",
      "\n",
      "   micro avg       0.47      0.47      0.47     16078\n",
      "   macro avg       0.39      0.37      0.36     16078\n",
      "weighted avg       0.42      0.47      0.42     16078\n",
      "\n"
     ]
    }
   ],
   "source": [
    "print(classification_report(y_test, y_pred))\n"
   ]
  },
  {
   "cell_type": "markdown",
   "id": "9fb39748",
   "metadata": {},
   "source": [
    "### Balanced accuracy"
   ]
  },
  {
   "cell_type": "code",
   "execution_count": 56,
   "id": "06b3f7a7",
   "metadata": {},
   "outputs": [
    {
     "data": {
      "text/plain": [
       "0.3695357124647133"
      ]
     },
     "execution_count": 56,
     "metadata": {},
     "output_type": "execute_result"
    }
   ],
   "source": [
    "from sklearn.metrics import balanced_accuracy_score\n",
    "balanced_accuracy_score(y_test, y_pred)"
   ]
  },
  {
   "cell_type": "markdown",
   "id": "804f7afd",
   "metadata": {},
   "source": [
    "### G-mean"
   ]
  },
  {
   "cell_type": "code",
   "execution_count": 46,
   "id": "2622e750",
   "metadata": {},
   "outputs": [
    {
     "name": "stderr",
     "output_type": "stream",
     "text": [
      "C:\\Users\\40331980\\.conda\\envs\\Amonae\\lib\\site-packages\\sklearn\\preprocessing\\_label.py:133: DataConversionWarning: A column-vector y was passed when a 1d array was expected. Please change the shape of y to (n_samples, ), for example using ravel().\n",
      "  y = column_or_1d(y, warn=True)\n"
     ]
    },
    {
     "data": {
      "text/plain": [
       "0.2788537608175278"
      ]
     },
     "execution_count": 46,
     "metadata": {},
     "output_type": "execute_result"
    }
   ],
   "source": [
    "from imblearn.metrics import geometric_mean_score\n",
    "geometric_mean_score(y_test, y_pred)"
   ]
  },
  {
   "cell_type": "markdown",
   "id": "d5acdf4a",
   "metadata": {},
   "source": [
    "### Confusion matrix"
   ]
  },
  {
   "cell_type": "code",
   "execution_count": 47,
   "id": "01d55dfc",
   "metadata": {},
   "outputs": [
    {
     "data": {
      "image/png": "[encoded data removed]",
      "text/plain": [
       "<Figure size 1152x504 with 2 Axes>"
      ]
     },
     "metadata": {},
     "output_type": "display_data"
    }
   ],
   "source": [
    "matrix = confusion_matrix(y_test, y_pred)\n",
    "matrix = matrix.astype('float') / matrix.sum(axis=1)[:, np.newaxis]\n",
    "\n",
    "# Build the plot\n",
    "plt.figure(figsize=(16,7))\n",
    "sns.set(font_scale=1.4)\n",
    "sns.heatmap(matrix, annot=True, annot_kws={'size':10},\n",
    "            cmap=plt.cm.Greens, linewidths=0.2)\n",
    "\n",
    "# Add labels to the plot\n",
    "class_names = ['None', 'Low', 'Moderate', \n",
    "               'Severe']\n",
    "tick_marks = np.arange(len(class_names))\n",
    "tick_marks2 = tick_marks + 0.5\n",
    "plt.xticks(tick_marks, class_names, rotation=25)\n",
    "plt.yticks(tick_marks2, class_names, rotation=0)\n",
    "plt.xlabel('Predicted label')\n",
    "plt.ylabel('True label')\n",
    "plt.title('Confusion Matrix for CatBoost Model')\n",
    "plt.show()"
   ]
  },
  {
   "cell_type": "code",
   "execution_count": null,
   "id": "0c04e383",
   "metadata": {},
   "outputs": [],
   "source": []
  }
 ],
 "metadata": {
  "kernelspec": {
   "display_name": "Python 3 (ipykernel)",
   "language": "python",
   "name": "python3"
  },
  "language_info": {
   "codemirror_mode": {
    "name": "ipython",
    "version": 3
   },
   "file_extension": ".py",
   "mimetype": "text/x-python",
   "name": "python",
   "nbconvert_exporter": "python",
   "pygments_lexer": "ipython3",
   "version": "3.9.12"
  }
 },
 "nbformat": 4,
 "nbformat_minor": 5
}
